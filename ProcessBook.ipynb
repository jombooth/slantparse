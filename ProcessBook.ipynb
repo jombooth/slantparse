{
 "metadata": {
  "name": "",
  "signature": "sha256:6e667d9a491b6e013536851760c867d4187482486b8e89451e23e1a63f6e8b20"
 },
 "nbformat": 3,
 "nbformat_minor": 0,
 "worksheets": [
  {
   "cells": [
    {
     "cell_type": "markdown",
     "metadata": {},
     "source": [
      "<h2 align=\"center\">slant parse: <br><br> Using Machine Learning to Determine the Political Leanings of News Publications</h2>\n",
      "\n",
      "<br><center>Serena L Booth, Harvard College, Class of 2016</center>\n",
      "\n",
      "<center>Joseph M Booth, Harvard College, Class of 2015</center>\n",
      "\n",
      "\n",
      "---"
     ]
    },
    {
     "cell_type": "markdown",
     "metadata": {},
     "source": [
      "#Part 0: Metric "
     ]
    },
    {
     "cell_type": "code",
     "collapsed": false,
     "input": [
      "list_of_political_magazines = ['http://en.wikipedia.org/wiki/List_of_political_magazines', 'http://en.wikipedia.org/wiki/Category:Modern_liberal_American_magazines',\n",
      "                               'http://en.wikipedia.org/wiki/Category:Conservative_American_magazines', 'http://usconservatives.about.com/od/gettinginvolved/tp/TopConservativeMagazines.htm',\n",
      "                               'http://www.allyoucanread.com/top-10-political-magazines/', 'http://www.conservapedia.com/Conservative_media']"
     ],
     "language": "python",
     "metadata": {},
     "outputs": [],
     "prompt_number": 1
    },
    {
     "cell_type": "markdown",
     "metadata": {},
     "source": [
      "# Part 1: Data Collection\n",
      "\n",
      "We scrape 7 liberal sources: \n",
      "    - Mother Jones\n",
      "\n",
      "And 7 conservative sources:\n",
      "    - The Christian Science Monitor\n",
      "    - The Weekly Standard\n",
      "    - TownHall\n",
      "    - The American Conservative\n",
      "    "
     ]
    },
    {
     "cell_type": "code",
     "collapsed": false,
     "input": [
      "import urllib\n",
      "import csv\n",
      "from bs4 import BeautifulSoup\n",
      "from sets import Set\n",
      "from sgmllib import SGMLParser\n",
      "import pickle "
     ],
     "language": "python",
     "metadata": {},
     "outputs": [],
     "prompt_number": 63
    },
    {
     "cell_type": "code",
     "collapsed": false,
     "input": [
      "# cite: https://github.com/chungy/diveintopython/blob/master/py/urllister.py\n",
      "class URLLister(SGMLParser):\n",
      "    \"\"\"\n",
      "    Arguments: (implicit) SGMLParser \n",
      "    \n",
      "    Extracts all 'href's from an html document. We store these links in a set, \n",
      "    and process them individually to retrieve content or additional links. \n",
      "    \"\"\"\n",
      "    def reset(self):\n",
      "        SGMLParser.reset(self)\n",
      "        self.urls = []\n",
      "\n",
      "    def start_a(self, attrs):\n",
      "        href = [v for k, v in attrs if k=='href']\n",
      "        if href:\n",
      "            self.urls.extend(href)\n",
      "    "
     ],
     "language": "python",
     "metadata": {},
     "outputs": [],
     "prompt_number": 49
    },
    {
     "cell_type": "code",
     "collapsed": false,
     "input": [
      "def process_url(url, url_mod, string_start, find_string, start_article_delim, end_article_delim, name, pol):\n",
      "    \"\"\"\n",
      "    Arguments: string url, string url_mod, string find_string, string start_title_delim, \n",
      "    string end_title_delim, string start_article_delim, string end_article_delim, string name, string pol\n",
      "    \n",
      "    For each url passed to process_url, open the CSV file articles.csv which contains all data scraped.\n",
      "    Process the article by retrieving the title, and by using BeautifulSoup to retrieve the article text.\n",
      "    Store each article in the CSV as the publication name, the publication's political leaning (either 'L' or 'C'), article title, and article content.  \n",
      "    \"\"\"\n",
      "    \n",
      "    #with open('articles_scraped.pickle', 'a+') as handle:\n",
      "    #    pickle.dump(set(), handle)\n",
      "    \n",
      "    # check url format\n",
      "    if len(url) > 0 and (str(url)[0] == '/' or str(url).find(string_start) == 0) and str(url).find(find_string) != -1: \n",
      "        with open('articles.csv', 'a+') as csvfile:\n",
      "            article_writer = csv.writer(csvfile, delimiter='^')\n",
      "            \n",
      "            tmp_url = url_mod + str(url)\n",
      "            usock = urllib.urlopen(tmp_url)\n",
      "            html = usock.read()\n",
      "                        \n",
      "            # use Beautiful Soup \n",
      "            soup_unprocessed = BeautifulSoup(html)\n",
      "              \n",
      "            # use try/except to catch cases in which articles do not conform to general standards\n",
      "            # e.g. when an article does not have a title\n",
      "            try:\n",
      "                title = soup_unprocessed.title.string \n",
      "                title = title.encode(\"utf-8\")\n",
      "                \n",
      "                 # If article is from a specific provider, modify it according to the following rules: \n",
      "                # e.g. in the case of Townhall, we only want html which has the full article rather than a paged version\n",
      "                if name == \"TownHall\" and html.find(\"View Full Article\") != -1:\n",
      "                    process_url(url + '/page/full', url_mod, 'argument-not-used', '2014', start_article_delim, end_article_delim, name, pol)\n",
      "                    usock.close()\n",
      "                    return\n",
      "                elif name == \"Mother Jones\" and (title.find('Issue') != -1 or title.find('map') != -1):\n",
      "                    print 'Content not text, or article not relevant.'\n",
      "                    usock.close()\n",
      "                    return\n",
      "                elif name == \"The American Conservative\" and html.find('Author Archives') != -1 or title.find('Web Headlines') != -1 or title.find('Articles') != -1:\n",
      "                    print 'Content not text, or article not relevant.'\n",
      "                    usock.close()\n",
      "                    return\n",
      "                elif name == \"The Christian Science Monitor\" and (title.find('+video') != -1 or url.find('The-Culture') != -1 or title.find('Photos of the day') != -1 or title.find('How much do you know about') != -1):\n",
      "                    print 'Content not text, or article not relevant.'\n",
      "                    usock.close()\n",
      "                    return \n",
      "                elif name == \"The Blaze\" and title.find('Video') != -1:\n",
      "                    print 'Content not text, or article not relevant.'\n",
      "                    usock.close()\n",
      "                    return\n",
      "                else: \n",
      "                    print title + '\\n'\n",
      "                    content = str(html)[str(html).find(start_article_delim) + len (start_article_delim):str(html).find(end_article_delim)]\n",
      "                    soup = BeautifulSoup(content)\n",
      "                    mod_content = soup.get_text()\n",
      "                \n",
      "                with open('articles_scraped.pickle', 'rb') as handle:\n",
      "                    article_list = pickle.load(handle)\n",
      "                    if title in article_list: \n",
      "                        print '\\n ALREADY IN SET \\n'\n",
      "                        return\n",
      "                    else:\n",
      "                        with open('articles_scraped.pickle', 'wb') as handle:\n",
      "                            article_list.append(title)\n",
      "                            pickle.dump(article_list, handle)\n",
      "                \n",
      "                mod_content = mod_content.encode(\"utf-8\")    \n",
      "                article_writer.writerow([name, pol, title, mod_content])\n",
      "            except AttributeError: \n",
      "                print 'Attribute Error'\n",
      "                \n",
      "            usock.close()\n",
      "            "
     ],
     "language": "python",
     "metadata": {},
     "outputs": [],
     "prompt_number": 73
    },
    {
     "cell_type": "code",
     "collapsed": false,
     "input": [
      "def scrape(start_url, iterator, url_list, url_mod):      \n",
      "    \"\"\"\n",
      "    Arguments: string start_url, int iterator, set url_list, string url_mod\n",
      "    Returns: updated set url_list \n",
      "    \n",
      "    For each start_url passed, this function opens that url and retrieves all hrefs from that page. \n",
      "    If iterator is smaller than the (constant) number of ITER_PAGES, scrape is called recursively \n",
      "    on the set of urls. \n",
      "    \"\"\"\n",
      "    \n",
      "    # limit the number of articles retrieved by limiting page depth\n",
      "    if iterator > ITER_PAGES: \n",
      "        return set()\n",
      "    \n",
      "    # call URLLister to retrieve all hrefs in the html read from the url \n",
      "    usock = urllib.urlopen(start_url)\n",
      "    parser = URLLister()\n",
      "    html = usock.read()\n",
      "    parser.feed(html)\n",
      "    usock.close()\n",
      "    parser.close()\n",
      "    \n",
      "    url_list = url_list.union(parser.urls)\n",
      "    \n",
      "    # scrape each correctly formatted url\n",
      "    for url in url_list: \n",
      "        if len(url) > 0 and str(url)[0] == '/': \n",
      "            tmp_url = url_mod + str(url)\n",
      "            try: \n",
      "                tmp_set = scrape(tmp_url, iterator + 1, url_list, url_mod)\n",
      "                url_list = url_list.union(tmp_set) \n",
      "            except IOError: \n",
      "                print \"Couldn't Open\"\n",
      "    return url_list\n"
     ],
     "language": "python",
     "metadata": {},
     "outputs": [],
     "prompt_number": 51
    },
    {
     "cell_type": "code",
     "collapsed": false,
     "input": [
      "ITER_PAGES = 1\n",
      "\n",
      "# pickle setup\n",
      "articles_to_pickle = []\n",
      "try:\n",
      "    with open('articles_scraped.pickle', 'rb') as handle:\n",
      "        articles_to_pickle = pickle.load(handle)\n",
      "except IOError: \n",
      "    with open('articles_scraped.pickle', 'wb') as handle:\n",
      "        pickle.dump(articles_to_pickle, handle)\n",
      "\n",
      "# call the function\n",
      "url_list = set()  \n",
      "townhall_list = scrape('http://www.townhall.com/', 1, url_list, 'http://www.townhall.com')\n",
      "mother_jones_list = scrape('http://www.motherjones.com/', 1, url_list, 'http://www.motherjones.com')\n",
      "american_conservative_list = scrape('http://www.theamericanconservative.com/', 1, url_list, '')\n",
      "csmonitor_list = scrape('http://www.csmonitor.com/', 1, url_list, 'http://www.csmonitor.com/')\n",
      "weekly_std_list = scrape('http://www.weeklystandard.com/', 1, url_list, 'http://www.weeklystandard.com/')\n",
      "spectator_list = scrape('http://spectator.org/', 1, url_list, 'http://spectator.org/')\n",
      "blaze_list = scrape('http://www.theblaze.com/', 1, url_list, '')\n",
      "\n",
      "print '\\nurls\\n'\n",
      "\n",
      "#for url in blaze_list: \n",
      "#    process_url(url, '', 'http://www.theblaze.com/', '/stories/2014', '<div class=\"postContent\" id=\"postContent\" itemprop=\"articleBody\">', '<div id=\"under_story_ad\">', 'The Blaze', 'C')\n",
      "\n",
      "# conservative 1\n",
      "for url in american_conservative_list: \n",
      "    process_url(url, '', 'http://www.theamericanconservative.com/', 'theamericanconservative', '<div class=\"post-content\">', '<footer id=\"articlefooter\">', 'The American Conservative', 'C')\n",
      "\n",
      "# conservative 2\n",
      "for url in townhall_list: \n",
      "    process_url(url, 'http://www.townhall.com', 'argument-not-used', '2014' , '<ul class=\"breadcrumb\">', '<hr class=\"article-divider\"', 'TownHall', 'C')\n",
      "\n",
      "# conservative 3\n",
      "for url in csmonitor_list:\n",
      "    process_url(url, 'http://www.csmonitor.com/', 'argument-not-used', '2014/', '<div id=\"story-body\"', '<span id=\"end-of-story\"', 'The Christian Science Monitor', 'C')\n",
      "\n",
      "# conservative 4\n",
      "for url in weekly_std_list: \n",
      "    process_url(url, 'http://www.weeklystandard.com/', 'argument-not-used', '/articles/', '  <div class=\"all_article\">', '<div class=\"article-footer\">', 'The Weekly Standard', 'C')\n",
      "\n",
      "# conservative 5\n",
      "for url in spectator_list:\n",
      "    process_url(url, 'http://spectator.org/', 'argument-not-used', '/articles/', 'target=\"_blank\" rel=\"nofollow\">', '</iframe></div><div class=\"field-item even\"><p class=\"label\">', 'The American Spectator', 'C')\n",
      "\n",
      "# conservative 6\n",
      "\n",
      "# conservative 7\n",
      "\n",
      "# liberal 1 \n",
      "for url in mother_jones_list:\n",
      "    process_url(url, 'http://www.motherjones.com', 'argument-not-used', '2014' , '<div id=\"node-header\" class=\"clear-block\">', '<div id=\"node-footer\" class=\"clear-block\">', 'Mother Jones', 'L')"
     ],
     "language": "python",
     "metadata": {},
     "outputs": [
      {
       "output_type": "stream",
       "stream": "stdout",
       "text": [
        "\n",
        "urls\n",
        "\n",
        "What Not to Do on Iran | The American Conservative\n"
       ]
      },
      {
       "output_type": "stream",
       "stream": "stdout",
       "text": [
        "\n",
        "Seven Reasons Police Brutality Is Systemic, Not Anecdotal | The American Conservative\n"
       ]
      },
      {
       "output_type": "stream",
       "stream": "stdout",
       "text": [
        "\n",
        "Content not text, or article not relevant."
       ]
      },
      {
       "output_type": "stream",
       "stream": "stdout",
       "text": [
        "\n",
        "UVA\u2019s Jackie: A Wahoo Tawana Brawley? | The American Conservative\n"
       ]
      },
      {
       "output_type": "stream",
       "stream": "stdout",
       "text": [
        "\n",
        "Is Clickbait the End of Online News? | The American Conservative\n"
       ]
      },
      {
       "output_type": "stream",
       "stream": "stdout",
       "text": [
        "\n",
        "Old Age is a Humiliation | The American Conservative\n"
       ]
      },
      {
       "output_type": "stream",
       "stream": "stdout",
       "text": [
        "\n",
        "Riots Return to America | The American Conservative\n"
       ]
      },
      {
       "output_type": "stream",
       "stream": "stdout",
       "text": [
        "\n",
        "Content not text, or article not relevant."
       ]
      },
      {
       "output_type": "stream",
       "stream": "stdout",
       "text": [
        "\n",
        "Content not text, or article not relevant."
       ]
      },
      {
       "output_type": "stream",
       "stream": "stdout",
       "text": [
        "\n",
        "Content not text, or article not relevant."
       ]
      },
      {
       "output_type": "stream",
       "stream": "stdout",
       "text": [
        "\n",
        "Content not text, or article not relevant."
       ]
      },
      {
       "output_type": "stream",
       "stream": "stdout",
       "text": [
        "\n",
        "Double Feature Feature: 10,000 Hours Edition | The American Conservative\n"
       ]
      },
      {
       "output_type": "stream",
       "stream": "stdout",
       "text": [
        "\n",
        "About Us | The American Conservative\n"
       ]
      },
      {
       "output_type": "stream",
       "stream": "stdout",
       "text": [
        "\n",
        "Content not text, or article not relevant."
       ]
      },
      {
       "output_type": "stream",
       "stream": "stdout",
       "text": [
        "\n",
        "A Fraternity of Rape | The American Conservative\n"
       ]
      },
      {
       "output_type": "stream",
       "stream": "stdout",
       "text": [
        "\n",
        "JFK\u2019s Special Relationship | The American Conservative\n"
       ]
      },
      {
       "output_type": "stream",
       "stream": "stdout",
       "text": [
        "\n",
        "The Military-Industrial Candidate | The American Conservative\n"
       ]
      },
      {
       "output_type": "stream",
       "stream": "stdout",
       "text": [
        "\n",
        "Content not text, or article not relevant."
       ]
      },
      {
       "output_type": "stream",
       "stream": "stdout",
       "text": [
        "\n",
        "Content not text, or article not relevant."
       ]
      },
      {
       "output_type": "stream",
       "stream": "stdout",
       "text": [
        "\n",
        "Jesus, the Common Bond | The American Conservative\n"
       ]
      },
      {
       "output_type": "stream",
       "stream": "stdout",
       "text": [
        "\n",
        "Content not text, or article not relevant."
       ]
      },
      {
       "output_type": "stream",
       "stream": "stdout",
       "text": [
        "\n",
        "Content not text, or article not relevant."
       ]
      },
      {
       "output_type": "stream",
       "stream": "stdout",
       "text": [
        "\n",
        "A Bleak Foreign Policy November | The American Conservative\n"
       ]
      },
      {
       "output_type": "stream",
       "stream": "stdout",
       "text": [
        "\n",
        "Ukraine in the Aftermath of Maidan | The American Conservative\n"
       ]
      },
      {
       "output_type": "stream",
       "stream": "stdout",
       "text": [
        "\n",
        "Israel\u2019s Early Elections | The American Conservative\n"
       ]
      },
      {
       "output_type": "stream",
       "stream": "stdout",
       "text": [
        "\n",
        "Content not text, or article not relevant."
       ]
      },
      {
       "output_type": "stream",
       "stream": "stdout",
       "text": [
        "\n",
        "The Tao of the Traditional Family | The American Conservative\n"
       ]
      },
      {
       "output_type": "stream",
       "stream": "stdout",
       "text": [
        "\n",
        "The Moral Path to Peace | The American Conservative\n"
       ]
      },
      {
       "output_type": "stream",
       "stream": "stdout",
       "text": [
        "\n",
        "Deconstructing Western Civilization | The American Conservative\n"
       ]
      },
      {
       "output_type": "stream",
       "stream": "stdout",
       "text": [
        "\n",
        "Galloping Toward Gomorrah | The American Conservative\n"
       ]
      },
      {
       "output_type": "stream",
       "stream": "stdout",
       "text": [
        "\n",
        "How Iraq Explains Ferguson | The American Conservative\n"
       ]
      },
      {
       "output_type": "stream",
       "stream": "stdout",
       "text": [
        "\n",
        "Canada\u2019s Patriot Act Moment | The American Conservative\n"
       ]
      },
      {
       "output_type": "stream",
       "stream": "stdout",
       "text": [
        "\n",
        "The Uses and Abuses of Historical Analogies | The American Conservative\n"
       ]
      },
      {
       "output_type": "stream",
       "stream": "stdout",
       "text": [
        "\n",
        "Five Myths That Keep America in the Middle East | The American Conservative\n"
       ]
      },
      {
       "output_type": "stream",
       "stream": "stdout",
       "text": [
        "\n",
        "Content not text, or article not relevant."
       ]
      },
      {
       "output_type": "stream",
       "stream": "stdout",
       "text": [
        "\n",
        "Content not text, or article not relevant."
       ]
      },
      {
       "output_type": "stream",
       "stream": "stdout",
       "text": [
        "\n",
        "Federalism Can Still Save Religious Liberty | The American Conservative\n"
       ]
      },
      {
       "output_type": "stream",
       "stream": "stdout",
       "text": [
        "\n",
        "Content not text, or article not relevant."
       ]
      },
      {
       "output_type": "stream",
       "stream": "stdout",
       "text": [
        "\n",
        "Content not text, or article not relevant."
       ]
      },
      {
       "output_type": "stream",
       "stream": "stdout",
       "text": [
        "\n",
        "Hegemony? What Hegemony? | The American Conservative\n"
       ]
      },
      {
       "output_type": "stream",
       "stream": "stdout",
       "text": [
        "\n",
        "Why Jim Webb Matters | The American Conservative\n"
       ]
      },
      {
       "output_type": "stream",
       "stream": "stdout",
       "text": [
        "\n",
        "The High Cost of Empire Maintenance | The American Conservative\n"
       ]
      },
      {
       "output_type": "stream",
       "stream": "stdout",
       "text": [
        "\n",
        "Declaring War on ISIS | The American Conservative\n"
       ]
      },
      {
       "output_type": "stream",
       "stream": "stdout",
       "text": [
        "\n",
        "Chris Rocks, Chris Rolls | The American Conservative\n"
       ]
      },
      {
       "output_type": "stream",
       "stream": "stdout",
       "text": [
        "\n",
        "Bringing Big Data to the Farm | The American Conservative\n"
       ]
      },
      {
       "output_type": "stream",
       "stream": "stdout",
       "text": [
        "\n",
        "How Jim Webb Should Handle the Culture War | The American Conservative\n"
       ]
      },
      {
       "output_type": "stream",
       "stream": "stdout",
       "text": [
        "\n",
        "A Chuck Hagel Postmortem | The American Conservative\n"
       ]
      },
      {
       "output_type": "stream",
       "stream": "stdout",
       "text": [
        "\n",
        "Iran: We Need to Talk | The American Conservative\n"
       ]
      },
      {
       "output_type": "stream",
       "stream": "stdout",
       "text": [
        "\n",
        "COIN Is a Proven Failure | The American Conservative\n"
       ]
      },
      {
       "output_type": "stream",
       "stream": "stdout",
       "text": [
        "\n",
        "Considering Thankfulness | The American Conservative\n"
       ]
      },
      {
       "output_type": "stream",
       "stream": "stdout",
       "text": [
        "\n",
        "A Millman-Walt Dialogue On Foreign Policy | The American Conservative\n"
       ]
      },
      {
       "output_type": "stream",
       "stream": "stdout",
       "text": [
        "\n",
        "Thanksgiving Doorbusters Backfire on Big Retail | The American Conservative\n"
       ]
      },
      {
       "output_type": "stream",
       "stream": "stdout",
       "text": [
        "\n",
        "And Now, For Something Completely Different \u2013 Or Perhaps Not | The American Conservative\n"
       ]
      },
      {
       "output_type": "stream",
       "stream": "stdout",
       "text": [
        "\n",
        "Content not text, or article not relevant."
       ]
      },
      {
       "output_type": "stream",
       "stream": "stdout",
       "text": [
        "\n",
        "The American Conservative\n"
       ]
      },
      {
       "output_type": "stream",
       "stream": "stdout",
       "text": [
        "\n",
        "Ferguson Falls Apart | The American Conservative\n"
       ]
      },
      {
       "output_type": "stream",
       "stream": "stdout",
       "text": [
        "\n",
        "Content not text, or article not relevant."
       ]
      },
      {
       "output_type": "stream",
       "stream": "stdout",
       "text": [
        "\n",
        "Jeb Bush\u2019s Victory Plan | The American Conservative\n"
       ]
      },
      {
       "output_type": "stream",
       "stream": "stdout",
       "text": [
        "\n",
        "Content not text, or article not relevant."
       ]
      },
      {
       "output_type": "stream",
       "stream": "stdout",
       "text": [
        "\n",
        "Tips for Donating to Your Favorite Charity on 'Giving Tuesday'  - Ky Sisson \n"
       ]
      },
      {
       "output_type": "stream",
       "stream": "stdout",
       "text": [
        "\n",
        "Memo To The Outgoing House GOP Conference - Hugh Hewitt -  Page full\n"
       ]
      },
      {
       "output_type": "stream",
       "stream": "stdout",
       "text": [
        "\n",
        "Oil's Slippery Slope  - Charles Payne - Townhall Finance Conservative Columnists and Financial Commentary - Page 1\n"
       ]
      },
      {
       "output_type": "stream",
       "stream": "stdout",
       "text": [
        "\n",
        "Another Brutal Act Of Violence Rattles St. Louis Area - Matt Vespa \n"
       ]
      },
      {
       "output_type": "stream",
       "stream": "stdout",
       "text": [
        "\n",
        "Why Did Disney Block God? - Todd Starnes -  Page full\n"
       ]
      },
      {
       "output_type": "stream",
       "stream": "stdout",
       "text": [
        "\n",
        "Secular Sensitivity Gone Wild - Robert Knight -  Page 1\n"
       ]
      },
      {
       "output_type": "stream",
       "stream": "stdout",
       "text": [
        "\n",
        "It Takes A Village To Raise A Looter - Mike Adams -  Page full\n"
       ]
      },
      {
       "output_type": "stream",
       "stream": "stdout",
       "text": [
        "\n",
        "What? Another 'Conversation About Race'? - Bill Murchison -  Page full\n"
       ]
      },
      {
       "output_type": "stream",
       "stream": "stdout",
       "text": [
        "\n",
        "Lawrence Lessig Attacks The Washington Death Star, Sows Panic  - Ralph Benko - Townhall Finance Conservative Columnists and Financial Commentary - Page full\n"
       ]
      },
      {
       "output_type": "stream",
       "stream": "stdout",
       "text": [
        "\n",
        "Exploiting the Presidential Veto - Hank  Adler -  Page full\n"
       ]
      },
      {
       "output_type": "stream",
       "stream": "stdout",
       "text": [
        "\n",
        "Time to Fess Up - Paul Greenberg -  Page 1\n"
       ]
      },
      {
       "output_type": "stream",
       "stream": "stdout",
       "text": [
        "\n",
        "Leading From Behind: US Lets ISIS Surround Kobani - Night Watch - Townhall Finance Conservative Columnists and Financial Commentary - Page full\n"
       ]
      },
      {
       "output_type": "stream",
       "stream": "stdout",
       "text": [
        "\n",
        "Black America and American Exceptionalism - Autry J.  Pruitt -  Page full\n"
       ]
      },
      {
       "output_type": "stream",
       "stream": "stdout",
       "text": [
        "\n",
        "How Pollster John McLaughlin Helped Gov. Nathan Deal Win Reelection - Todd Rehm -  Page full\n"
       ]
      },
      {
       "output_type": "stream",
       "stream": "stdout",
       "text": [
        "\n",
        "Next Up: WWIII - Bill Tatro - Townhall Finance Conservative Columnists and Financial Commentary - Page 1\n"
       ]
      },
      {
       "output_type": "stream",
       "stream": "stdout",
       "text": [
        "\n",
        "Schumer\u2019s Con Job for the Middle Class  - Peter Morici - Townhall Finance Conservative Columnists and Financial Commentary - Page full\n"
       ]
      },
      {
       "output_type": "stream",
       "stream": "stdout",
       "text": [
        "\n",
        "Who Are the Cowards Now? - Pat Buchanan -  Page full\n"
       ]
      },
      {
       "output_type": "stream",
       "stream": "stdout",
       "text": [
        "\n",
        "Administration Exploits Ferguson to Undermine Race Relations and Rule of Law - David Limbaugh -  Page full\n"
       ]
      },
      {
       "output_type": "stream",
       "stream": "stdout",
       "text": [
        "\n",
        "Potentially deadly oil trains find one NE town looking for help - Joe Jordan\n"
       ]
      },
      {
       "output_type": "stream",
       "stream": "stdout",
       "text": [
        "\n",
        "Marion Barry Legacy - Armstrong Williams -  Page full\n"
       ]
      },
      {
       "output_type": "stream",
       "stream": "stdout",
       "text": [
        "\n",
        "You Can Kill, But Not Murder: The Case for the Ten Commandments - Dennis Prager -  Page full\n"
       ]
      },
      {
       "output_type": "stream",
       "stream": "stdout",
       "text": [
        "\n",
        "Rand Paul's 2016 Decision Could Be A Messy One...Legally - Matt Vespa \n"
       ]
      },
      {
       "output_type": "stream",
       "stream": "stdout",
       "text": [
        "\n",
        "Response to Ferguson Rioters: Restitution and Shaming - Cal  Thomas -  Page full\n"
       ]
      },
      {
       "output_type": "stream",
       "stream": "stdout",
       "text": [
        "\n",
        "Hands Up, Don't Shoot - St Louis Rams Surrender - Ransom Notes Radio - Townhall Finance Conservative Columnists and Financial Commentary - Page 1\n"
       ]
      },
      {
       "output_type": "stream",
       "stream": "stdout",
       "text": [
        "\n",
        "National Debt Hits $18,000,000,000,000 - Katie Pavlich \n"
       ]
      },
      {
       "output_type": "stream",
       "stream": "stdout",
       "text": [
        "\n",
        "How To Not Get Shot By The Police - John Hawkins -  Page full\n"
       ]
      },
      {
       "output_type": "stream",
       "stream": "stdout",
       "text": [
        "\n",
        "Opinions Versus Facts - Thomas Sowell -  Page full\n"
       ]
      },
      {
       "output_type": "stream",
       "stream": "stdout",
       "text": [
        "\n",
        "Yes... Conservatives Have a Sense of Humor  - Gayle Trotter -  Page full\n"
       ]
      },
      {
       "output_type": "stream",
       "stream": "stdout",
       "text": [
        "\n",
        "Fascist Fact Checkers Can Apologize Now - John Ransom - Townhall Finance Conservative Columnists and Financial Commentary - Page full\n"
       ]
      },
      {
       "output_type": "stream",
       "stream": "stdout",
       "text": [
        "\n",
        "\r\n",
        "\tPolitical Cartoons - Political Humor, Jokes, and Pictures, Obama, Palin ~ December 2, 2014 - 125451\r\n",
        "\n"
       ]
      },
      {
       "output_type": "stream",
       "stream": "stdout",
       "text": [
        "\n",
        "A Feel-Good Story from Ferguson (assuming you\u2019re not Michael Bloomberg)  - Daniel J. Mitchell - Townhall Finance Conservative Columnists and Financial Commentary - Page full\n"
       ]
      },
      {
       "output_type": "stream",
       "stream": "stdout",
       "text": [
        "\n",
        "Report: Obama Selects New SecDef - Daniel Doherty \n"
       ]
      },
      {
       "output_type": "stream",
       "stream": "stdout",
       "text": [
        "\n",
        "What Congress Can do About Amnesty - George Mano -  Page 1\n"
       ]
      },
      {
       "output_type": "stream",
       "stream": "stdout",
       "text": [
        "\n",
        "Black in America? You got it made. - Nick Adams -  Page full\n"
       ]
      },
      {
       "output_type": "stream",
       "stream": "stdout",
       "text": [
        "\n",
        "ICYMI: Pajama Boy Gets Mugged at Gunpoint in DC, Says He Pretty Much Deserved It Because of \"Privilege\"  - Katie Pavlich \n"
       ]
      },
      {
       "output_type": "stream",
       "stream": "stdout",
       "text": [
        "\n",
        "Report: 'Dark Days Ahead' for Obamacare - Guy Benson \n"
       ]
      },
      {
       "output_type": "stream",
       "stream": "stdout",
       "text": [
        "\n",
        "Gruber: GOP Can't Repeal Obamacare, But Can 'Kill It From The Inside' - Matt Vespa \n"
       ]
      },
      {
       "output_type": "stream",
       "stream": "stdout",
       "text": [
        "\n",
        "Huge Commodity Reversals; Is the Bottom In?  - Mike Shedlock - Townhall Finance Conservative Columnists and Financial Commentary - Page 1\n"
       ]
      },
      {
       "output_type": "stream",
       "stream": "stdout",
       "text": [
        "\n",
        "Del Walmsley\u2019s Three Rules of Investing - Del Walmsley -  Page full\n"
       ]
      },
      {
       "output_type": "stream",
       "stream": "stdout",
       "text": [
        "\n",
        "How A 96-Year-Old Law Has Jeopardized America's Ports - Jared Meyer -  Page full\n"
       ]
      },
      {
       "output_type": "stream",
       "stream": "stdout",
       "text": [
        "\n",
        "Miller's Model: A Solution for Ferguson - Chuck Norris -  Page full\n"
       ]
      },
      {
       "output_type": "stream",
       "stream": "stdout",
       "text": [
        "\n",
        "The Great Turnaround - Paul Greenberg -  Page full\n"
       ]
      },
      {
       "output_type": "stream",
       "stream": "stdout",
       "text": [
        "\n",
        "WH: Obama Will Use Veto to Shut Down Government Over Executive Amnesty - Guy Benson \n"
       ]
      },
      {
       "output_type": "stream",
       "stream": "stdout",
       "text": [
        "\n",
        "The Stark Choice with Iran - Herb London -  Page full\n"
       ]
      },
      {
       "output_type": "stream",
       "stream": "stdout",
       "text": [
        "\n",
        "Rob Portman Declines to Enter 2016 Presidential Sweepstakes - Daniel Doherty \n"
       ]
      },
      {
       "output_type": "stream",
       "stream": "stdout",
       "text": [
        "\n",
        "Will Body Cameras Solve the Ferguson Problem? - Mona Charen -  Page full\n"
       ]
      },
      {
       "output_type": "stream",
       "stream": "stdout",
       "text": [
        "\n",
        "Walmart gets Ohio court order restraining union front groups - Jason Hart\n"
       ]
      },
      {
       "output_type": "stream",
       "stream": "stdout",
       "text": [
        "\n",
        "The Racism Industrial Complex and Ferguson - Jack Kerwick -  Page full\n"
       ]
      },
      {
       "output_type": "stream",
       "stream": "stdout",
       "text": [
        "\n",
        "Congress Is Not a Drive-Thru Window - Debra J. Saunders -  Page full\n"
       ]
      },
      {
       "output_type": "stream",
       "stream": "stdout",
       "text": [
        "\n",
        "The Truth About GITMO - D.W. Wilber -  Page full\n"
       ]
      },
      {
       "output_type": "stream",
       "stream": "stdout",
       "text": [
        "\n",
        "All Lives Matter - Ashley Pratte -  Page 1\n"
       ]
      },
      {
       "output_type": "stream",
       "stream": "stdout",
       "text": [
        "\n",
        "Lt. Gov.: Let\u2019s scrap and replace Common Core in Mississippi - Steve Wilson\n"
       ]
      },
      {
       "output_type": "stream",
       "stream": "stdout",
       "text": [
        "\n",
        "Democratic Takeover of Senate in 2016 Possible but Not a Slam Dunk - Michael Barone -  Page full\n"
       ]
      },
      {
       "output_type": "stream",
       "stream": "stdout",
       "text": [
        "\n",
        "Content not text, or article not relevant."
       ]
      },
      {
       "output_type": "stream",
       "stream": "stdout",
       "text": [
        "\n",
        "Content not text, or article not relevant."
       ]
      },
      {
       "output_type": "stream",
       "stream": "stdout",
       "text": [
        "\n",
        "Israel's 'Nationality Law': What's at stake for Jews and Arabs - CSMonitor.com\n"
       ]
      },
      {
       "output_type": "stream",
       "stream": "stdout",
       "text": [
        "\n",
        "Content not text, or article not relevant."
       ]
      },
      {
       "output_type": "stream",
       "stream": "stdout",
       "text": [
        "\n",
        "Content not text, or article not relevant."
       ]
      },
      {
       "output_type": "stream",
       "stream": "stdout",
       "text": [
        "\n",
        "Did Michael Brown really have his hands up when shot? - CSMonitor.com\n"
       ]
      },
      {
       "output_type": "stream",
       "stream": "stdout",
       "text": [
        "\n",
        "Possibility unbound: 25 years of progress for those with disability - CSMonitor.com\n"
       ]
      },
      {
       "output_type": "stream",
       "stream": "stdout",
       "text": [
        "\n",
        "A pulpit rebuke of Nigeria's terrorists - CSMonitor.com\n"
       ]
      },
      {
       "output_type": "stream",
       "stream": "stdout",
       "text": [
        "\n",
        "US auto sales floor it thanks to low gas prices, holiday buzz - CSMonitor.com\n"
       ]
      },
      {
       "output_type": "stream",
       "stream": "stdout",
       "text": [
        "\n",
        "Gamergate and the new horde of digital saboteurs - CSMonitor.com\n"
       ]
      },
      {
       "output_type": "stream",
       "stream": "stdout",
       "text": [
        "\n",
        "Content not text, or article not relevant."
       ]
      },
      {
       "output_type": "stream",
       "stream": "stdout",
       "text": [
        "\n",
        "Content not text, or article not relevant."
       ]
      },
      {
       "output_type": "stream",
       "stream": "stdout",
       "text": [
        "\n",
        "Cranberries: How do they really grow? - CSMonitor.com\n"
       ]
      },
      {
       "output_type": "stream",
       "stream": "stdout",
       "text": [
        "\n",
        "Content not text, or article not relevant."
       ]
      },
      {
       "output_type": "stream",
       "stream": "stdout",
       "text": [
        "\n",
        "Content not text, or article not relevant."
       ]
      },
      {
       "output_type": "stream",
       "stream": "stdout",
       "text": [
        "\n",
        "Trouble in Toyland: Which toys should parents avoid this holiday season? - CSMonitor.com\n"
       ]
      },
      {
       "output_type": "stream",
       "stream": "stdout",
       "text": [
        "\n",
        "Content not text, or article not relevant."
       ]
      },
      {
       "output_type": "stream",
       "stream": "stdout",
       "text": [
        "\n",
        "Why is China feeling unloved? Look to Hong Kong and Taiwan. - CSMonitor.com\n"
       ]
      },
      {
       "output_type": "stream",
       "stream": "stdout",
       "text": [
        "\n",
        "Content not text, or article not relevant."
       ]
      },
      {
       "output_type": "stream",
       "stream": "stdout",
       "text": [
        "\n",
        "Content not text, or article not relevant."
       ]
      },
      {
       "output_type": "stream",
       "stream": "stdout",
       "text": [
        "\n",
        "'12 Days of Christmas' gifts cost $116K. 'Geese-a-laying' prices surge 74 percent. - CSMonitor.com\n"
       ]
      },
      {
       "output_type": "stream",
       "stream": "stdout",
       "text": [
        "\n",
        "Fort Drum goes wood powered in a push for renewable energy - CSMonitor.com\n"
       ]
      },
      {
       "output_type": "stream",
       "stream": "stdout",
       "text": [
        "\n",
        "British watchtowers dot a Mideast border again \u2013 this time with Islamic State - CSMonitor.com\n"
       ]
      },
      {
       "output_type": "stream",
       "stream": "stdout",
       "text": [
        "\n",
        "Content not text, or article not relevant."
       ]
      },
      {
       "output_type": "stream",
       "stream": "stdout",
       "text": [
        "\n",
        "Content not text, or article not relevant."
       ]
      },
      {
       "output_type": "stream",
       "stream": "stdout",
       "text": [
        "\n",
        "Content not text, or article not relevant."
       ]
      },
      {
       "output_type": "stream",
       "stream": "stdout",
       "text": [
        "\n",
        "French vote on Palestinian statehood takes bumpier route to 'oui' - CSMonitor.com\n"
       ]
      },
      {
       "output_type": "stream",
       "stream": "stdout",
       "text": [
        "\n",
        "Content not text, or article not relevant."
       ]
      },
      {
       "output_type": "stream",
       "stream": "stdout",
       "text": [
        "\n",
        "Readers Write: Soceity makes war honorable; a new approach in Syria is needed - CSMonitor.com\n"
       ]
      },
      {
       "output_type": "stream",
       "stream": "stdout",
       "text": [
        "\n",
        "Mining character for clues - CSMonitor.com\n"
       ]
      },
      {
       "output_type": "stream",
       "stream": "stdout",
       "text": [
        "\n",
        "Rob Portman won\u2019t run for president, but he\u2019s still one to watch - CSMonitor.com\n"
       ]
      },
      {
       "output_type": "stream",
       "stream": "stdout",
       "text": [
        "\n",
        "Content not text, or article not relevant."
       ]
      },
      {
       "output_type": "stream",
       "stream": "stdout",
       "text": [
        "\n",
        "Mitch McConnell's big test - CSMonitor.com\n"
       ]
      },
      {
       "output_type": "stream",
       "stream": "stdout",
       "text": [
        "\n",
        "Content not text, or article not relevant."
       ]
      },
      {
       "output_type": "stream",
       "stream": "stdout",
       "text": [
        "\n",
        "Spotting the inviolate in oil price volatility - CSMonitor.com\n"
       ]
      },
      {
       "output_type": "stream",
       "stream": "stdout",
       "text": [
        "\n",
        "Lame duck 101: What to expect from the last days of this Congress - CSMonitor.com\n"
       ]
      },
      {
       "output_type": "stream",
       "stream": "stdout",
       "text": [
        "\n",
        "Content not text, or article not relevant."
       ]
      },
      {
       "output_type": "stream",
       "stream": "stdout",
       "text": [
        "\n",
        "Fallujah anniversary: Tracking down the US Marine 'Death Dealers' - CSMonitor.com\n"
       ]
      },
      {
       "output_type": "stream",
       "stream": "stdout",
       "text": [
        "\n",
        "Content not text, or article not relevant."
       ]
      },
      {
       "output_type": "stream",
       "stream": "stdout",
       "text": [
        "\n",
        "Could you pass a citizenship test? States may make it graduation requirement. - CSMonitor.com\n"
       ]
      },
      {
       "output_type": "stream",
       "stream": "stdout",
       "text": [
        "\n",
        "Fortress Israel: Can people make peace when they don\u2019t talk? - CSMonitor.com\n"
       ]
      },
      {
       "output_type": "stream",
       "stream": "stdout",
       "text": [
        "\n",
        "Britain jumps on board the #GivingTuesday movement - CSMonitor.com\n"
       ]
      },
      {
       "output_type": "stream",
       "stream": "stdout",
       "text": [
        "\n",
        "Prospector Theater helps the disabled entertain new prospects - CSMonitor.com\n"
       ]
      },
      {
       "output_type": "stream",
       "stream": "stdout",
       "text": [
        "\n",
        "Content not text, or article not relevant."
       ]
      },
      {
       "output_type": "stream",
       "stream": "stdout",
       "text": [
        "\n",
        "Content not text, or article not relevant."
       ]
      },
      {
       "output_type": "stream",
       "stream": "stdout",
       "text": [
        "\n",
        "How to fix Congress: Two former Senate leaders give their repair list - CSMonitor.com\n"
       ]
      },
      {
       "output_type": "stream",
       "stream": "stdout",
       "text": [
        "\n",
        "Why Elon Musk's space agency is hiring a farmer - CSMonitor.com\n"
       ]
      },
      {
       "output_type": "stream",
       "stream": "stdout",
       "text": [
        "\n",
        "Rising Al Shabab attacks in Kenya: Can new officials improve security? - CSMonitor.com\n"
       ]
      },
      {
       "output_type": "stream",
       "stream": "stdout",
       "text": [
        "\n",
        "Content not text, or article not relevant."
       ]
      },
      {
       "output_type": "stream",
       "stream": "stdout",
       "text": [
        "\n",
        "Content not text, or article not relevant."
       ]
      },
      {
       "output_type": "stream",
       "stream": "stdout",
       "text": [
        "\n",
        "Elizabeth Lauten: GOP staffer who slammed Malia and Sasha Obama resigns - CSMonitor.com\n"
       ]
      },
      {
       "output_type": "stream",
       "stream": "stdout",
       "text": [
        "\n",
        "Content not text, or article not relevant."
       ]
      },
      {
       "output_type": "stream",
       "stream": "stdout",
       "text": [
        "\n",
        "Putin says Europe killed South Stream pipeline. Did oil play a role too? - CSMonitor.com\n"
       ]
      },
      {
       "output_type": "stream",
       "stream": "stdout",
       "text": [
        "\n",
        "Elon Musk says SpaceX has a 50 percent chance of landing a rocket on floating platform - CSMonitor.com\n"
       ]
      },
      {
       "output_type": "stream",
       "stream": "stdout",
       "text": [
        "\n",
        "Need help shopping for a book? 300 experts are waiting to hear from you - CSMonitor.com\n"
       ]
      },
      {
       "output_type": "stream",
       "stream": "stdout",
       "text": [
        "\n",
        "Random acts of Pasta? How some cities prohibit feeding the needy. - CSMonitor.com\n"
       ]
      },
      {
       "output_type": "stream",
       "stream": "stdout",
       "text": [
        "\n",
        "How to recover a stolen Twitter ID from Russian-speaking Bruce Willis impostor - CSMonitor.com\n"
       ]
      },
      {
       "output_type": "stream",
       "stream": "stdout",
       "text": [
        "\n",
        "Content not text, or article not relevant."
       ]
      },
      {
       "output_type": "stream",
       "stream": "stdout",
       "text": [
        "\n",
        "Can your dog understand what you're saying? - CSMonitor.com\n"
       ]
      },
      {
       "output_type": "stream",
       "stream": "stdout",
       "text": [
        "\n",
        "In Iraq oil deal with Kurds, a ray of light for compromise - CSMonitor.com\n"
       ]
      },
      {
       "output_type": "stream",
       "stream": "stdout",
       "text": [
        "\n",
        "The Benghazi Whitewash | The Weekly Standard\n"
       ]
      },
      {
       "output_type": "stream",
       "stream": "stdout",
       "text": [
        "\n",
        "Old-Time Religion   | The Weekly Standard\n"
       ]
      },
      {
       "output_type": "stream",
       "stream": "stdout",
       "text": [
        "\n",
        "Uncommon Ancestor  | The Weekly Standard\n"
       ]
      },
      {
       "output_type": "stream",
       "stream": "stdout",
       "text": [
        "\n",
        "Virginia vs. the EPA? | The Weekly Standard\n"
       ]
      },
      {
       "output_type": "stream",
       "stream": "stdout",
       "text": [
        "\n",
        "The Laughs on Us  | The Weekly Standard\n"
       ]
      },
      {
       "output_type": "stream",
       "stream": "stdout",
       "text": [
        "\n",
        "Highly Recommended    | The Weekly Standard\n"
       ]
      },
      {
       "output_type": "stream",
       "stream": "stdout",
       "text": [
        "\n",
        "Outer Borough Tales    | The Weekly Standard\n"
       ]
      },
      {
       "output_type": "stream",
       "stream": "stdout",
       "text": [
        "\n",
        "Political Care Package     | The Weekly Standard\n"
       ]
      },
      {
       "output_type": "stream",
       "stream": "stdout",
       "text": [
        "\n",
        "Catching the Wave | The Weekly Standard\n"
       ]
      },
      {
       "output_type": "stream",
       "stream": "stdout",
       "text": [
        "\n",
        "Voice of Experience | The Weekly Standard\n"
       ]
      },
      {
       "output_type": "stream",
       "stream": "stdout",
       "text": [
        "\n",
        "The Reacher File   | The Weekly Standard\n"
       ]
      },
      {
       "output_type": "stream",
       "stream": "stdout",
       "text": [
        "\n",
        "A Visual Dialogue  | The Weekly Standard\n"
       ]
      },
      {
       "output_type": "stream",
       "stream": "stdout",
       "text": [
        "\n",
        "Extending Extensions  | The Weekly Standard\n"
       ]
      },
      {
       "output_type": "stream",
       "stream": "stdout",
       "text": [
        "\n",
        "French Curtains | The Weekly Standard\n"
       ]
      },
      {
       "output_type": "stream",
       "stream": "stdout",
       "text": [
        "\n",
        "Sentences We Didn\u2019t Finish | The Weekly Standard\n"
       ]
      },
      {
       "output_type": "stream",
       "stream": "stdout",
       "text": [
        "\n",
        "Hope and Glory  | The Weekly Standard\n"
       ]
      },
      {
       "output_type": "stream",
       "stream": "stdout",
       "text": [
        "\n",
        "Com\u00e8te Fran\u00e7aise    | The Weekly Standard\n"
       ]
      },
      {
       "output_type": "stream",
       "stream": "stdout",
       "text": [
        "\n",
        "She\u2019s Back  | The Weekly Standard\n"
       ]
      },
      {
       "output_type": "stream",
       "stream": "stdout",
       "text": [
        "\n",
        "American Blueprint   | The Weekly Standard\n"
       ]
      },
      {
       "output_type": "stream",
       "stream": "stdout",
       "text": [
        "\n",
        "No Deal | The Weekly Standard\n"
       ]
      },
      {
       "output_type": "stream",
       "stream": "stdout",
       "text": [
        "\n",
        "A New Name for a Tired Theory | The Weekly Standard\n"
       ]
      },
      {
       "output_type": "stream",
       "stream": "stdout",
       "text": [
        "\n",
        "Marion Barry\u2019s Legacy | The Weekly Standard\n"
       ]
      },
      {
       "output_type": "stream",
       "stream": "stdout",
       "text": [
        "\n",
        "Hartache | The Weekly Standard\n"
       ]
      },
      {
       "output_type": "stream",
       "stream": "stdout",
       "text": [
        "\n",
        "The Transition Years  | The Weekly Standard\n"
       ]
      },
      {
       "output_type": "stream",
       "stream": "stdout",
       "text": [
        "\n",
        "The Bitter End | The Weekly Standard\n"
       ]
      },
      {
       "output_type": "stream",
       "stream": "stdout",
       "text": [
        "\n",
        "Cr\u00eapes Suzette or Pie? | The Weekly Standard\n"
       ]
      },
      {
       "output_type": "stream",
       "stream": "stdout",
       "text": [
        "\n",
        "Did He Jump, or Was He Pushed? | The Weekly Standard\n"
       ]
      },
      {
       "output_type": "stream",
       "stream": "stdout",
       "text": [
        "\n",
        "The President's Plucky Persian Pal | The Weekly Standard\n"
       ]
      },
      {
       "output_type": "stream",
       "stream": "stdout",
       "text": [
        "\n",
        "Turkeys | The Weekly Standard\n"
       ]
      },
      {
       "output_type": "stream",
       "stream": "stdout",
       "text": [
        "\n",
        "A Solution for Cities on the Brink of Bankruptcy | The American Spectator\n"
       ]
      },
      {
       "output_type": "stream",
       "stream": "stdout",
       "text": [
        "\n",
        "A Culture of Lies | The American Spectator\n"
       ]
      },
      {
       "output_type": "stream",
       "stream": "stdout",
       "text": [
        "\n",
        "The Joy of Sex Is Over | The American Spectator\n"
       ]
      },
      {
       "output_type": "stream",
       "stream": "stdout",
       "text": [
        "\n",
        "Is He Out of His Narcissistic Mind? | The American Spectator\n"
       ]
      },
      {
       "output_type": "stream",
       "stream": "stdout",
       "text": [
        "\n",
        "The Gift Shop of the Dead | The American Spectator\n"
       ]
      },
      {
       "output_type": "stream",
       "stream": "stdout",
       "text": [
        "\n",
        "FDA: More Nutrition Information Will Make Americans Healthier \u2014 Oh, Really? | The American Spectator\n"
       ]
      },
      {
       "output_type": "stream",
       "stream": "stdout",
       "text": [
        "\n",
        "Net Neutrality Compromises the Internet\u2019s Future  | The American Spectator\n"
       ]
      },
      {
       "output_type": "stream",
       "stream": "stdout",
       "text": [
        "\n",
        "California Faces Death by Pension | The American Spectator\n"
       ]
      },
      {
       "output_type": "stream",
       "stream": "stdout",
       "text": [
        "\n",
        "Apr\u00e8s Hagel: Replacing the Irrelevant | The American Spectator\n"
       ]
      },
      {
       "output_type": "stream",
       "stream": "stdout",
       "text": [
        "\n",
        "P. D. James, An Appreciation | The American Spectator\n"
       ]
      },
      {
       "output_type": "stream",
       "stream": "stdout",
       "text": [
        "\n",
        "It Can\u2019t Rain Hard Enough | The American Spectator\n"
       ]
      },
      {
       "output_type": "stream",
       "stream": "stdout",
       "text": [
        "\n",
        "Flying Into Integration | The American Spectator\n"
       ]
      },
      {
       "output_type": "stream",
       "stream": "stdout",
       "text": [
        "\n",
        "A Ferguson Thanksgiving | The American Spectator\n"
       ]
      },
      {
       "output_type": "stream",
       "stream": "stdout",
       "text": [
        "\n",
        "Opinions Versus Facts | The American Spectator\n"
       ]
      },
      {
       "output_type": "stream",
       "stream": "stdout",
       "text": [
        "\n",
        "How Sovereign Patent Trolls Threaten Free Trade  | The American Spectator\n"
       ]
      },
      {
       "output_type": "stream",
       "stream": "stdout",
       "text": [
        "\n",
        "The Cold War in Retrospect: How Historians Still Get It Wrong | The American Spectator\n"
       ]
      },
      {
       "output_type": "stream",
       "stream": "stdout",
       "text": [
        "\n",
        "My Wife | The American Spectator\n"
       ]
      },
      {
       "output_type": "stream",
       "stream": "stdout",
       "text": [
        "\n",
        "\u2018Hands Up, Don't Shoot\u2019: An Ignoble Lie for the Ages | The American Spectator\n"
       ]
      },
      {
       "output_type": "stream",
       "stream": "stdout",
       "text": [
        "\n",
        "The Rehabilitation of Rick Perry | The American Spectator\n"
       ]
      },
      {
       "output_type": "stream",
       "stream": "stdout",
       "text": [
        "\n",
        "St. Louis on My Mind | The American Spectator\n"
       ]
      },
      {
       "output_type": "stream",
       "stream": "stdout",
       "text": [
        "\n",
        "Content not text, or article not relevant."
       ]
      },
      {
       "output_type": "stream",
       "stream": "stdout",
       "text": [
        "\n",
        "This Is the Best Newspaper \"Retraction\" You'll Read All Year | Mother Jones\n"
       ]
      },
      {
       "output_type": "stream",
       "stream": "stdout",
       "text": [
        "\n",
        "Sure, Why Shouldn't Obama Normalize Relations With Cuba? | Mother Jones\n"
       ]
      },
      {
       "output_type": "stream",
       "stream": "stdout",
       "text": [
        "\n",
        "Despite Conservatives' Pleas, Texas Board Rejects Clemency for Mentally Ill Convict | Mother Jones\n"
       ]
      },
      {
       "output_type": "stream",
       "stream": "stdout",
       "text": [
        "\n",
        "How Dark Money Is Taking Over Judicial Elections | Mother Jones\n"
       ]
      },
      {
       "output_type": "stream",
       "stream": "stdout",
       "text": [
        "\n",
        "Climate Negotiators Are Working on History's Most Important Mad Lib | Mother Jones\n"
       ]
      },
      {
       "output_type": "stream",
       "stream": "stdout",
       "text": [
        "\n",
        "That Takeout Coffee Cup May Be Messing With Your Hormones | Mother Jones\n"
       ]
      },
      {
       "output_type": "stream",
       "stream": "stdout",
       "text": [
        "\n",
        "The Obama Administration Wants to End Racial Profiling \"Once and for All\" | Mother Jones\n"
       ]
      },
      {
       "output_type": "stream",
       "stream": "stdout",
       "text": [
        "\n",
        "5 Key Inconsistencies in What Happened During the Michael Brown Shooting | Mother Jones\n"
       ]
      },
      {
       "output_type": "stream",
       "stream": "stdout",
       "text": [
        "\n",
        "The Koch 130 | Mother Jones\n"
       ]
      },
      {
       "output_type": "stream",
       "stream": "stdout",
       "text": [
        "\n",
        "Map: The United States of Legal Weed | Mother Jones\n"
       ]
      },
      {
       "output_type": "stream",
       "stream": "stdout",
       "text": [
        "\n",
        "Hanging Out With the Tech Have-Nots at a Silicon Valley Shantytown | Mother Jones\n"
       ]
      },
      {
       "output_type": "stream",
       "stream": "stdout",
       "text": [
        "\n",
        "Watch Jon Stewart Skewer Chris Christie's Absurd Endorsement of Cruel Pig Crates | Mother Jones\n"
       ]
      },
      {
       "output_type": "stream",
       "stream": "stdout",
       "text": [
        "\n",
        "The Science of Why Cops Shoot Young Black Men | Mother Jones\n"
       ]
      },
      {
       "output_type": "stream",
       "stream": "stdout",
       "text": [
        "\n",
        "Inhofe's Grand Climate Conspiracy Theory: It's All About Barbra Streisand | Mother Jones\n"
       ]
      },
      {
       "output_type": "stream",
       "stream": "stdout",
       "text": [
        "\n",
        "New FDA Proposal: Gay Men Can Give Blood\u2014As Long As They Don't Have Gay Sex | Mother Jones\n"
       ]
      },
      {
       "output_type": "stream",
       "stream": "stdout",
       "text": [
        "\n"
       ]
      }
     ],
     "prompt_number": 75
    },
    {
     "cell_type": "markdown",
     "metadata": {},
     "source": [
      "#Part 2: Feature Vectors"
     ]
    },
    {
     "cell_type": "code",
     "collapsed": false,
     "input": [],
     "language": "python",
     "metadata": {},
     "outputs": []
    }
   ],
   "metadata": {}
  }
 ]
}