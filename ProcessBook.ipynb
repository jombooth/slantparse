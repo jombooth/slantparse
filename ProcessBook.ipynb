{
 "metadata": {
  "name": "",
  "signature": "sha256:f01d25a95a8bac505499c7527c98ef193210892b8ed0cb3962cb3ff0c5f029fd"
 },
 "nbformat": 3,
 "nbformat_minor": 0,
 "worksheets": [
  {
   "cells": [
    {
     "cell_type": "markdown",
     "metadata": {},
     "source": [
      "<h2 align=\"center\">slant parse: <br><br> Using Machine Learning to Determine the Political Leanings of News Publications</h2>\n",
      "\n",
      "<br><center>Serena L Booth, Harvard College, Class of 2016</center>\n",
      "\n",
      "<center>Joseph M Booth, Harvard College, Class of 2015</center>\n",
      "\n",
      "\n",
      "---"
     ]
    },
    {
     "cell_type": "markdown",
     "metadata": {},
     "source": [
      "#Part 0: Metric "
     ]
    },
    {
     "cell_type": "code",
     "collapsed": false,
     "input": [
      "list_of_political_magazines = ['http://en.wikipedia.org/wiki/List_of_political_magazines', 'http://en.wikipedia.org/wiki/Category:Modern_liberal_American_magazines',\n",
      "                               'http://en.wikipedia.org/wiki/Category:Conservative_American_magazines', 'http://usconservatives.about.com/od/gettinginvolved/tp/TopConservativeMagazines.htm',\n",
      "                               'http://www.allyoucanread.com/top-10-political-magazines/', 'http://www.conservapedia.com/Conservative_media']"
     ],
     "language": "python",
     "metadata": {},
     "outputs": [],
     "prompt_number": 10
    },
    {
     "cell_type": "markdown",
     "metadata": {},
     "source": [
      "# Part 1: Data Collection"
     ]
    },
    {
     "cell_type": "code",
     "collapsed": false,
     "input": [
      "import urllib\n",
      "import csv\n",
      "from bs4 import BeautifulSoup\n",
      "from sets import Set\n",
      "from sgmllib import SGMLParser\n",
      "import pickle \n",
      "\n",
      "\n",
      "# cite: https://github.com/chungy/diveintopython/blob/master/py/urllister.py\n",
      "class URLLister(SGMLParser):\n",
      "    \"\"\"\n",
      "    Arguments: (implicit) SGMLParser \n",
      "    \n",
      "    Extracts all 'href's from an html document. We store these links in a set, \n",
      "    and process them individually to retrieve content or additional links. \n",
      "    \"\"\"\n",
      "    def reset(self):\n",
      "        SGMLParser.reset(self)\n",
      "        self.urls = []\n",
      "\n",
      "    def start_a(self, attrs):\n",
      "        href = [v for k, v in attrs if k=='href']\n",
      "        if href:\n",
      "            self.urls.extend(href)\n",
      "    "
     ],
     "language": "python",
     "metadata": {},
     "outputs": [],
     "prompt_number": 2
    },
    {
     "cell_type": "code",
     "collapsed": false,
     "input": [
      "def process_url(url, url_mod, string_start, find_string, start_article_delim, end_article_delim, name, pol):\n",
      "    \"\"\"\n",
      "    Arguments: string url, string url_mod, string find_string, string start_title_delim, \n",
      "    string end_title_delim, string start_article_delim, string end_article_delim, string name, string pol\n",
      "    \n",
      "    For each url passed to process_url, open the CSV file articles.csv which contains all data scraped.\n",
      "    Process the article by retrieving the title, and by using BeautifulSoup to retrieve the article text.\n",
      "    Store each article in the CSV as the publication name, the publication's political leaning (either 'L' or 'C'), article title, and article content.  \n",
      "    \"\"\"\n",
      "    \n",
      "    # check url format\n",
      "    print url_mod\n",
      "    if len(url) > 0 and (str(url)[0] == '/' or str(url).find(string_start) == 0) and str(url).find(find_string) != -1: \n",
      "        with open('articles.csv', 'a+') as csvfile:\n",
      "            article_writer = csv.writer(csvfile, delimiter='^')\n",
      "            \n",
      "            tmp_url = url_mod + str(url)\n",
      "            usock = urllib.urlopen(tmp_url)\n",
      "            html = usock.read()\n",
      "                        \n",
      "            # use Beautiful Soup \n",
      "            soup_unprocessed = BeautifulSoup(html)\n",
      "              \n",
      "            # use try/except to catch cases in which articles do not conform to general standards\n",
      "            # e.g. when an article does not have a title\n",
      "            try:\n",
      "                title = soup_unprocessed.title.string \n",
      "                title = title.encode(\"utf-8\")\n",
      "\n",
      "                \n",
      "                 # If article is from a specific provider, modify it according to the following rules: \n",
      "                # e.g. in the case of Townhall, we only want html which has the full article rather than a paged version\n",
      "                if name == \"TownHall\" and html.find(\"View Full Article\") != -1:\n",
      "                    process_url(url + '/page/full', url_mod, 'argument-not-used', '2014', start_article_delim, end_article_delim, name, pol)\n",
      "                    usock.close()\n",
      "                    return\n",
      "                elif name == \"Mother Jones\" and (title.find('Issue') != -1 or title.find('map') != -1):\n",
      "                    mod_content = 'Content not text.'\n",
      "                elif name == \"American Conservative\" and html.find('Author Archives') != -1 or title.find('Web Headlines') != -1 or title.find('Articles') != -1:\n",
      "                    mod_content = 'Content not an article.'\n",
      "                else: \n",
      "                    print title + '\\n'\n",
      "                    content = str(html)[str(html).find(start_article_delim) + len (start_article_delim):str(html).find(end_article_delim)]\n",
      "                    soup = BeautifulSoup(content)\n",
      "                    mod_content = soup.get_text()\n",
      "                \n",
      "                mod_content = mod_content.encode(\"utf-8\")    \n",
      "                article_writer.writerow([name, pol, title, mod_content])\n",
      "            except AttributeError: \n",
      "                print 'Attribute Error'\n",
      "                \n",
      "            usock.close()\n",
      "            "
     ],
     "language": "python",
     "metadata": {},
     "outputs": [],
     "prompt_number": 36
    },
    {
     "cell_type": "code",
     "collapsed": false,
     "input": [
      "def scrape(start_url, iterator, url_list, url_mod):      \n",
      "    \"\"\"\n",
      "    Arguments: string start_url, int iterator, set url_list, string url_mod\n",
      "    Returns: updated set url_list \n",
      "    \n",
      "    For each start_url passed, this function opens that url and retrieves all hrefs from that page. \n",
      "    If iterator is smaller than the (constant) number of ITER_PAGES, scrape is called recursively \n",
      "    on the set of urls. \n",
      "    \"\"\"\n",
      "    \n",
      "    # limit the number of articles retrieved by limiting page depth\n",
      "    if iterator > ITER_PAGES: \n",
      "        return set()\n",
      "    \n",
      "    # call URLLister to retrieve all hrefs in the html read from the url \n",
      "    usock = urllib.urlopen(start_url)\n",
      "    parser = URLLister()\n",
      "    html = usock.read()\n",
      "    parser.feed(html)\n",
      "    usock.close()\n",
      "    parser.close()\n",
      "    \n",
      "    url_list = url_list.union(parser.urls)\n",
      "    \n",
      "    # scrape each correctly formatted url\n",
      "    for url in url_list: \n",
      "        if len(url) > 0 and str(url)[0] == '/': \n",
      "            tmp_url = url_mod + str(url)\n",
      "            try: \n",
      "                tmp_set = scrape(tmp_url, iterator + 1, url_list, url_mod)\n",
      "                url_list = url_list.union(tmp_set) \n",
      "            except IOError: \n",
      "                print \"Couldn't Open\"\n",
      "    return url_list\n"
     ],
     "language": "python",
     "metadata": {},
     "outputs": [],
     "prompt_number": 19
    },
    {
     "cell_type": "code",
     "collapsed": false,
     "input": [
      "ITER_PAGES = 1\n",
      "\n",
      "# call the function\n",
      "url_list = set()  \n",
      "townhall_list = scrape('http://www.townhall.com/', 1, url_list, 'http://www.townhall.com')\n",
      "mother_jones_list = scrape('http://www.motherjones.com/', 1, url_list, 'http://www.motherjones.com')\n",
      "american_conservative_list = scrape('http://www.theamericanconservative.com/', 1, url_list, '')\n",
      "\n",
      "print '\\nurls\\n'\n",
      "\n",
      "# conservative 1\n",
      "for url in american_conservative_list: \n",
      "    process_url(url, '', 'http://www.theamericanconservative.com/', 'theamericanconservative', '<div class=\"post-content\">', '<footer id=\"articlefooter\">', 'American Conservative', 'C')\n",
      "\n",
      "# conservative 2\n",
      "for url in townhall_list: \n",
      "    print url\n",
      "    process_url(url, 'http://www.townhall.com', 'argument-not-used', '2014' , '<ul class=\"breadcrumb\">', '<hr class=\"article-divider\"', 'TownHall', 'C')\n",
      "\n",
      "# liberal 1 \n",
      "for url in mother_jones_list:\n",
      "    process_url(url, 'http://www.motherjones.com', 'argument-not-used', '2014' , '<div id=\"node-header\" class=\"clear-block\">', '<div id=\"node-footer\" class=\"clear-block\">', 'Mother Jones', 'L')"
     ],
     "language": "python",
     "metadata": {},
     "outputs": [
      {
       "output_type": "stream",
       "stream": "stdout",
       "text": [
        "\n",
        "urls\n",
        "\n",
        "\n",
        "What Not to Do on Iran | The American Conservative\n"
       ]
      },
      {
       "output_type": "stream",
       "stream": "stdout",
       "text": [
        "\n",
        "\n"
       ]
      },
      {
       "output_type": "stream",
       "stream": "stdout",
       "text": [
        "\n",
        "\n",
        "Mark Joseph Stern\u2019s Immaculate Conception | The American Conservative\n"
       ]
      },
      {
       "output_type": "stream",
       "stream": "stdout",
       "text": [
        "\n",
        "\n",
        "\n",
        "Old Age is a Humiliation | The American Conservative\n"
       ]
      },
      {
       "output_type": "stream",
       "stream": "stdout",
       "text": [
        "\n",
        "\n",
        "\n",
        "\n",
        "\n"
       ]
      },
      {
       "output_type": "stream",
       "stream": "stdout",
       "text": [
        "\n",
        "Thomism of the Table | The American Conservative\n"
       ]
      },
      {
       "output_type": "stream",
       "stream": "stdout",
       "text": [
        "\n",
        "\n",
        "Seven Reasons Police Brutality Is Systemic, Not Anecdotal | The American Conservative\n"
       ]
      },
      {
       "output_type": "stream",
       "stream": "stdout",
       "text": [
        "\n",
        "\n",
        "\n",
        "\n",
        "Words of Conversion | The American Conservative\n"
       ]
      },
      {
       "output_type": "stream",
       "stream": "stdout",
       "text": [
        "\n",
        "\n",
        "\n",
        "\n",
        "The Ferguson Evidence | The American Conservative\n"
       ]
      },
      {
       "output_type": "stream",
       "stream": "stdout",
       "text": [
        "\n",
        "\n",
        "Double Feature Feature: 10,000 Hours Edition | The American Conservative\n"
       ]
      },
      {
       "output_type": "stream",
       "stream": "stdout",
       "text": [
        "\n",
        "\n",
        "\n",
        "About Us | The American Conservative\n"
       ]
      },
      {
       "output_type": "stream",
       "stream": "stdout",
       "text": [
        "\n",
        "\n",
        "A Fraternity of Rape | The American Conservative\n"
       ]
      },
      {
       "output_type": "stream",
       "stream": "stdout",
       "text": [
        "\n",
        "\n"
       ]
      },
      {
       "output_type": "stream",
       "stream": "stdout",
       "text": [
        "\n",
        "\n",
        "\n",
        "Marion Barry: D.C.\u2019s Rascal King | The American Conservative\n"
       ]
      },
      {
       "output_type": "stream",
       "stream": "stdout",
       "text": [
        "\n",
        "\n",
        "Why 2016 Won\u2019t Be Like 1980 | The American Conservative\n"
       ]
      },
      {
       "output_type": "stream",
       "stream": "stdout",
       "text": [
        "\n",
        "\n",
        "\n"
       ]
      },
      {
       "output_type": "stream",
       "stream": "stdout",
       "text": [
        "\n",
        "Jesus, the Common Bond | The American Conservative\n"
       ]
      },
      {
       "output_type": "stream",
       "stream": "stdout",
       "text": [
        "\n",
        "\n",
        "Physical Evidence Supports Ofc. Wilson | The American Conservative\n"
       ]
      },
      {
       "output_type": "stream",
       "stream": "stdout",
       "text": [
        "\n",
        "\n",
        "\n",
        "\n"
       ]
      },
      {
       "output_type": "stream",
       "stream": "stdout",
       "text": [
        "\n",
        "A Bleak Foreign Policy November | The American Conservative\n"
       ]
      },
      {
       "output_type": "stream",
       "stream": "stdout",
       "text": [
        "\n",
        "\n",
        "\n",
        "\n"
       ]
      },
      {
       "output_type": "stream",
       "stream": "stdout",
       "text": [
        "\n",
        "Five Myths That Keep America in the Middle East | The American Conservative\n"
       ]
      },
      {
       "output_type": "stream",
       "stream": "stdout",
       "text": [
        "\n",
        "\n",
        "The Tao of the Traditional Family | The American Conservative\n"
       ]
      },
      {
       "output_type": "stream",
       "stream": "stdout",
       "text": [
        "\n",
        "\n",
        "\n",
        "Deconstructing Western Civilization | The American Conservative\n"
       ]
      },
      {
       "output_type": "stream",
       "stream": "stdout",
       "text": [
        "\n",
        "\n",
        "\n",
        "How Iran Hawks Spread Misinformation | The American Conservative\n"
       ]
      },
      {
       "output_type": "stream",
       "stream": "stdout",
       "text": [
        "\n",
        "\n",
        "Galloping Toward Gomorrah | The American Conservative\n"
       ]
      },
      {
       "output_type": "stream",
       "stream": "stdout",
       "text": [
        "\n",
        "\n",
        "How Iraq Explains Ferguson | The American Conservative\n"
       ]
      },
      {
       "output_type": "stream",
       "stream": "stdout",
       "text": [
        "\n",
        "\n",
        "The Uses and Abuses of Historical Analogies | The American Conservative\n"
       ]
      },
      {
       "output_type": "stream",
       "stream": "stdout",
       "text": [
        "\n",
        "\n",
        "\n"
       ]
      },
      {
       "output_type": "stream",
       "stream": "stdout",
       "text": [
        "\n"
       ]
      },
      {
       "output_type": "stream",
       "stream": "stdout",
       "text": [
        "\n",
        "Canada\u2019s Patriot Act Moment | The American Conservative\n"
       ]
      },
      {
       "output_type": "stream",
       "stream": "stdout",
       "text": [
        "\n",
        "\n",
        "\n",
        "Federalism Can Still Save Religious Liberty | The American Conservative\n"
       ]
      },
      {
       "output_type": "stream",
       "stream": "stdout",
       "text": [
        "\n",
        "\n"
       ]
      },
      {
       "output_type": "stream",
       "stream": "stdout",
       "text": [
        "\n",
        "\n",
        "\n",
        "\n"
       ]
      },
      {
       "output_type": "stream",
       "stream": "stdout",
       "text": [
        "\n",
        "\n",
        "\n",
        "The High Cost of Empire Maintenance | The American Conservative\n"
       ]
      },
      {
       "output_type": "stream",
       "stream": "stdout",
       "text": [
        "\n",
        "\n",
        "Declaring War on ISIS | The American Conservative\n"
       ]
      },
      {
       "output_type": "stream",
       "stream": "stdout",
       "text": [
        "\n",
        "\n",
        "\n",
        "\n",
        "\n",
        "Chris Rocks, Chris Rolls | The American Conservative\n"
       ]
      },
      {
       "output_type": "stream",
       "stream": "stdout",
       "text": [
        "\n",
        "\n",
        "\n",
        "The Unspoken Truth of Ferguson | The American Conservative\n"
       ]
      },
      {
       "output_type": "stream",
       "stream": "stdout",
       "text": [
        "\n",
        "\n",
        "\n",
        "\n",
        "\n",
        "A Chuck Hagel Postmortem | The American Conservative\n"
       ]
      },
      {
       "output_type": "stream",
       "stream": "stdout",
       "text": [
        "\n",
        "\n",
        "Iran: We Need to Talk | The American Conservative\n"
       ]
      },
      {
       "output_type": "stream",
       "stream": "stdout",
       "text": [
        "\n",
        "\n",
        "\n",
        "Two Seconds | The American Conservative\n"
       ]
      },
      {
       "output_type": "stream",
       "stream": "stdout",
       "text": [
        "\n",
        "\n",
        "\n",
        "Scapegoating Hagel | The American Conservative\n"
       ]
      },
      {
       "output_type": "stream",
       "stream": "stdout",
       "text": [
        "\n",
        "\n",
        "COIN Is a Proven Failure | The American Conservative\n"
       ]
      },
      {
       "output_type": "stream",
       "stream": "stdout",
       "text": [
        "\n",
        "\n",
        "\n",
        "Considering Thankfulness | The American Conservative\n"
       ]
      },
      {
       "output_type": "stream",
       "stream": "stdout",
       "text": [
        "\n",
        "\n",
        "A Millman-Walt Dialogue On Foreign Policy | The American Conservative\n"
       ]
      },
      {
       "output_type": "stream",
       "stream": "stdout",
       "text": [
        "\n",
        "\n",
        "Thanksgiving Doorbusters Backfire on Big Retail | The American Conservative\n"
       ]
      },
      {
       "output_type": "stream",
       "stream": "stdout",
       "text": [
        "\n",
        "\n",
        "The New Face of Gaullism | The American Conservative\n"
       ]
      },
      {
       "output_type": "stream",
       "stream": "stdout",
       "text": [
        "\n",
        "\n",
        "\n",
        "\n",
        "\n",
        "\n"
       ]
      },
      {
       "output_type": "stream",
       "stream": "stdout",
       "text": [
        "\n",
        "\n",
        "\n",
        "The American Conservative\n"
       ]
      },
      {
       "output_type": "stream",
       "stream": "stdout",
       "text": [
        "\n",
        "\n",
        "Ferguson Falls Apart | The American Conservative\n"
       ]
      },
      {
       "output_type": "stream",
       "stream": "stdout",
       "text": [
        "\n",
        "\n",
        "\n",
        "\n",
        "\n",
        "\n"
       ]
      },
      {
       "output_type": "stream",
       "stream": "stdout",
       "text": [
        "\n",
        "\n",
        "\n",
        "\n",
        "\n",
        "\n",
        "\n",
        "How Extension Benefits Foes of a Nuclear Deal | The American Conservative\n"
       ]
      },
      {
       "output_type": "stream",
       "stream": "stdout",
       "text": [
        "\n",
        "\n",
        "\n",
        "/columnists/mikesadams"
       ]
      },
      {
       "output_type": "stream",
       "stream": "stdout",
       "text": [
        "\n",
        "http://www.townhall.com\n",
        "/columnists/hughhewitt/2014/12/01/memo-to-the-outgoing-house-gop-conference-n1925912\n",
        "http://www.townhall.com\n",
        "http://www.townhall.com"
       ]
      },
      {
       "output_type": "stream",
       "stream": "stdout",
       "text": [
        "\n",
        "Memo To The Outgoing House GOP Conference - Hugh Hewitt -  Page full\n"
       ]
      },
      {
       "output_type": "stream",
       "stream": "stdout",
       "text": [
        "\n",
        "/election/\n",
        "http://www.townhall.com\n",
        "http://townhall.com/news/politicselections/2014/12/01/obama-to-hold-white-house-meetings-on-ferguson-n1925633\n",
        "http://www.townhall.com\n",
        "http://townhall.com/radio-stations.aspx\n",
        "http://www.townhall.com\n",
        "/tipsheet/danieldoherty/2014/12/01/deval-patrick-on-2016-ive-thought-about-it-but-no-n1925713\n",
        "http://www.townhall.com\n",
        "Deval Patrick on 2016: \"I've Thought About it, But No...\" - Daniel Doherty \n"
       ]
      },
      {
       "output_type": "stream",
       "stream": "stdout",
       "text": [
        "\n",
        "/columnists/ronpaul/2014/12/01/who-wants-to-be-defense-secretary-n1925842\n",
        "http://www.townhall.com\n",
        "http://www.townhall.com"
       ]
      },
      {
       "output_type": "stream",
       "stream": "stdout",
       "text": [
        "\n",
        "Who Wants to be Defense Secretary? - Ron Paul -  Page full\n"
       ]
      },
      {
       "output_type": "stream",
       "stream": "stdout",
       "text": [
        "\n",
        "http://hotair.com/archives/2014/12/01/chevron-to-take-ecuador-back-to-court-over-fraudulent-case/\n",
        "http://www.townhall.com\n",
        "http://townhall.com/tipsheet/KevinGlass/2014/12/01/what-chris-rock-said-about-political-correctness-should-make-college-students-gasp-n1925772\n",
        "http://www.townhall.com\n",
        "http://townhall.com/political-cartoons\n",
        "http://www.townhall.com\n",
        "/columnists/thomassowell\n",
        "http://www.townhall.com\n",
        "/columnists/joannemoudy/2014/12/01/obamas-war-on-blacks-n1925449\n",
        "http://www.townhall.com\n",
        "http://www.townhall.com"
       ]
      },
      {
       "output_type": "stream",
       "stream": "stdout",
       "text": [
        "\n",
        "Obama\u2019s War on Blacks - Joanne  Moudy -  Page full\n"
       ]
      },
      {
       "output_type": "stream",
       "stream": "stdout",
       "text": [
        "\n",
        "http://ad.doubleclick.net/N6177/jump/slm.townhall;sz=1x1;ord=[timestamp]?\n",
        "http://www.townhall.com\n",
        "/columnists/toddstarnes/2014/12/01/why-did-disney-block-god-n1925926\n",
        "http://www.townhall.com\n",
        "http://www.townhall.com"
       ]
      },
      {
       "output_type": "stream",
       "stream": "stdout",
       "text": [
        "\n",
        "Why Did Disney Block God? - Todd Starnes -  Page full\n"
       ]
      },
      {
       "output_type": "stream",
       "stream": "stdout",
       "text": [
        "\n",
        "/newslettersignup/\n",
        "http://www.townhall.com\n",
        "http://twitter.com/townhallcom\n",
        "http://www.townhall.com\n",
        "http://townhall.com/tipsheet/GuyBenson/2014/12/01/landrieu-chief-of-staff-we-need-her-to-keep-voting-with-obama-97-of-the-time-n1924931\n",
        "http://www.townhall.com\n",
        "/AboutUs.aspx\n",
        "http://www.townhall.com\n",
        "/news/\n",
        "http://www.townhall.com\n",
        "http://townhall.com/tipsheet/MattVespa/2014/12/01/republicans-invested-heavily-in-womenand-it-paid-off-n1925920\n",
        "http://www.townhall.com\n",
        "/columnists/herblondon\n",
        "http://www.townhall.com\n",
        "/polltracker/\n",
        "http://www.townhall.com\n",
        "/columnists/johnransom/2014/12/01/white-house-goes-enron-boosts-gdp-for-3rd-quarter-n1925037\n",
        "http://www.townhall.com\n",
        "http://www.townhall.com"
       ]
      },
      {
       "output_type": "stream",
       "stream": "stdout",
       "text": [
        "\n",
        "White House Goes Enron: Boosts GDP for 3rd Quarter? - John Ransom - Townhall Finance Conservative Columnists and Financial Commentary - Page full\n"
       ]
      },
      {
       "output_type": "stream",
       "stream": "stdout",
       "text": [
        "\n",
        "/columnists/chrisedwards/2014/12/01/improve-government-repeal-aid-to-states-n1925566\n",
        "http://www.townhall.com\n",
        "Improve Government: Repeal Aid to States - Chris Edwards - Townhall Finance Conservative Columnists and Financial Commentary - Page 1\n"
       ]
      },
      {
       "output_type": "stream",
       "stream": "stdout",
       "text": [
        "\n",
        "/columnists/richgalen\n",
        "http://www.townhall.com\n",
        "http://townhall.com/tipsheet/DanielDoherty/2014/11/30/fallout-in-reaction-to-common-core-home-schooling-on-the-rise-n1924238\n",
        "http://www.townhall.com\n",
        "/columnists/paulgreenberg/2014/12/01/time-to-fess-up-n1925995\n",
        "http://www.townhall.com\n",
        "Time to Fess Up - Paul Greenberg -  Page 1\n"
       ]
      },
      {
       "output_type": "stream",
       "stream": "stdout",
       "text": [
        "\n",
        "http://townhall.com/tipsheet/KatiePavlich/2014/12/01/post-midterm-democrat-civil-war-part-3-schumer-vs-obamacare-n1925680\n",
        "http://www.townhall.com\n",
        "https://twitter.com/townhallcom\n",
        "http://www.townhall.com\n",
        "/columnists/autryjpruitt/2014/12/01/black-america-and-american-exceptionalism-n1925916\n",
        "http://www.townhall.com\n",
        "http://www.townhall.com"
       ]
      },
      {
       "output_type": "stream",
       "stream": "stdout",
       "text": [
        "\n",
        "Black America and American Exceptionalism - Autry J.  Pruitt -  Page full\n"
       ]
      },
      {
       "output_type": "stream",
       "stream": "stdout",
       "text": [
        "\n",
        "/pulse/\n",
        "http://www.townhall.com\n",
        "/pulse/grand-jury\n",
        "http://www.townhall.com\n",
        "#carTip\n",
        "http://www.townhall.com\n",
        "/columnists/terrypaulson\n",
        "http://www.townhall.com\n",
        "http://townhall.com/photos\n",
        "http://www.townhall.com\n",
        "http://townhall.com/tipsheet/LeahBarkoukis/2014/11/30/the-remembrance-project-n1924368\n",
        "http://www.townhall.com\n",
        "/tipsheet/katiepavlich/2014/12/01/rich-lowery-tells-truth-about-michael-brown-makes-nbc-liberals-upset-n1925690\n",
        "http://www.townhall.com\n",
        "Rich Lowry Tells Truth About Michael Brown, Makes NBC Liberals Upset - Katie Pavlich \n"
       ]
      },
      {
       "output_type": "stream",
       "stream": "stdout",
       "text": [
        "\n",
        "http://townhall.com/news/politicselections/2014/11/30/california-pushes-to-expand-immigrant-health-care-n1925435\n",
        "http://www.townhall.com\n",
        "/political-cartoons/2014/12/01/125413\n",
        "http://www.townhall.com\n",
        "\r\n",
        "\tPolitical Cartoons - Political Humor, Jokes, and Pictures, Obama, Palin ~ December 1, 2014 - 125413\r\n",
        "\n"
       ]
      },
      {
       "output_type": "stream",
       "stream": "stdout",
       "text": [
        "\n",
        "/columnists/katiekieffer/2014/12/01/emanuel-drooling-over-death-n1925089\n",
        "http://www.townhall.com\n",
        "http://www.townhall.com"
       ]
      },
      {
       "output_type": "stream",
       "stream": "stdout",
       "text": [
        "\n",
        "Emanuel, Drooling Over Death - Katie Kieffer -  Page full\n"
       ]
      },
      {
       "output_type": "stream",
       "stream": "stdout",
       "text": [
        "\n",
        "http://finance.townhall.com/\n",
        "http://www.townhall.com\n",
        "http://townhall.com/tipsheet/ChristineRousselle/2014/11/30/vatican-kicks-off-year-of-consecrated-life-encourages-vocations-n1925502\n",
        "http://www.townhall.com\n",
        "http://media.townhall.com/townhall/privacypolicy/TermsofUse.htm\n",
        "http://www.townhall.com\n",
        "http://hotair.com/archives/2014/12/01/video-star-wars-episode-vii-trailer-the-george-lucas-special-edition/\n",
        "http://www.townhall.com\n",
        "http://hotair.com/archives/2014/12/01/wapo-wonders-did-you-feel-bullied-into-signing-up-for-a-department-store-credit-card/\n",
        "http://www.townhall.com\n",
        "/columnists/herblondon/2014/12/01/the-stark-choice-with-iran-n1925913\n",
        "http://www.townhall.com\n",
        "http://www.townhall.com"
       ]
      },
      {
       "output_type": "stream",
       "stream": "stdout",
       "text": [
        "\n",
        "The Stark Choice with Iran - Herb London -  Page full\n"
       ]
      },
      {
       "output_type": "stream",
       "stream": "stdout",
       "text": [
        "\n",
        "/political-cartoons/\n",
        "http://www.townhall.com\n",
        "/columnists/danieljmitchell\n",
        "http://www.townhall.com\n",
        "#\n",
        "http://www.townhall.com\n",
        "/columnists/chrisedwards\n",
        "http://www.townhall.com\n",
        "/\n",
        "http://www.townhall.com\n",
        "http://townhall.com\n",
        "http://www.townhall.com\n",
        "http://townhall.com/news/us/2014/11/30/15-arrested-as-demonstration-return-to-ferguson-n1925135\n",
        "http://www.townhall.com\n",
        "/contact-us/\n",
        "http://www.townhall.com\n",
        "/columnists/michellemalkin\n",
        "http://www.townhall.com\n",
        "/columnists/mikeshedlock\n",
        "http://www.townhall.com\n",
        "/columnists/hughhewitt\n",
        "http://www.townhall.com\n",
        "http://townhall.com/news/politicselections/2014/12/01/obama-faces-shrinking-pool-of-pentagon-contenders-n1925952\n",
        "http://www.townhall.com\n",
        "http://townhall.com/tipsheet/MattVespa/2014/11/29/these-two-states-cut-medicaidand-saved-money-n1924280\n",
        "http://www.townhall.com\n",
        "http://townhall.com/tipsheet/DanielDoherty/2014/12/01/deval-patrick-on-2016-ive-thought-about-it-but-no-n1925713\n",
        "http://www.townhall.com\n",
        "/tipsheet/danieldoherty/2014/12/01/report-isis-encouraging-attacks-against-military-personnel-inside-the-homeland-n1925850\n",
        "http://www.townhall.com\n",
        "Report: ISIS Encouraging Attacks Against Military Personnel \"Inside the Homeland\" - Daniel Doherty \n"
       ]
      },
      {
       "output_type": "stream",
       "stream": "stdout",
       "text": [
        "\n",
        "/columnists/kurtschlichter\n",
        "http://www.townhall.com\n",
        "/columnists/tompurcell/2014/12/01/a-charlie-brown-christmas-miracle-n1925839\n",
        "http://www.townhall.com\n",
        "http://www.townhall.com"
       ]
      },
      {
       "output_type": "stream",
       "stream": "stdout",
       "text": [
        "\n",
        "A Charlie Brown Christmas Miracle - Tom Purcell -  Page full\n"
       ]
      },
      {
       "output_type": "stream",
       "stream": "stdout",
       "text": [
        "\n",
        "/columnists/nicksorrentino/2014/12/01/big-banks-fear-swiss-citizens-will-vote-to-reback-their-money-with-gold-n1925567\n",
        "http://www.townhall.com\n",
        "http://www.townhall.com"
       ]
      },
      {
       "output_type": "stream",
       "stream": "stdout",
       "text": [
        "\n",
        "Big Banks fear Swiss citizens will vote to reback their money with gold - Nick Sorrentino - Townhall Finance Conservative Columnists and Financial Commentary - Page full\n"
       ]
      },
      {
       "output_type": "stream",
       "stream": "stdout",
       "text": [
        "\n",
        "http://hotair.com/archives/2014/12/01/gallup-latino-approval-of-obama-soars-14-points-since-executive-amnesty-more-than-20-points-since-september/\n",
        "http://www.townhall.com\n",
        "/columnists/kurtschlichter/2014/12/01/obama-shafts-hillary-with-amnesty-and-ferguson-n1925007\n",
        "http://www.townhall.com\n",
        "http://www.townhall.com"
       ]
      },
      {
       "output_type": "stream",
       "stream": "stdout",
       "text": [
        "\n",
        "Obama Shafts Hillary With Amnesty and Ferguson - Kurt  Schlichter -  Page full\n"
       ]
      },
      {
       "output_type": "stream",
       "stream": "stdout",
       "text": [
        "\n",
        "/columnists/nicksorrentino\n",
        "http://www.townhall.com\n",
        "https://plus.google.com/117392058061233340474?prsrc=3\n",
        "http://www.townhall.com\n",
        "http://bearingarms.com/\n",
        "http://www.townhall.com\n",
        "/columnists/shawnmitchell\n",
        "http://www.townhall.com\n",
        "/video/rich-lowry-horrifies-nbc-panel-with-ferguson-lessons-n1925904\n",
        "http://www.townhall.com\n",
        "http://hotair.com/archives/2014/12/01/white-house-obama-will-shut-down-the-government-with-a-veto-if-the-gop-tries-to-stop-amnesty/\n",
        "http://www.townhall.com\n",
        "http://hotair.com/archives/2014/12/01/turkeys-increasingly-conflicted-role-in-fight-against-isis/\n",
        "http://www.townhall.com\n",
        "/video/boehner-talks-turkey-n1925770\n",
        "http://www.townhall.com\n",
        "/columnists/mikeshedlock/2014/12/01/sanctions-on-russia-bite-europe-china-the-beneficiary-n1925563\n",
        "http://www.townhall.com\n",
        "Sanctions on Russia Bite Europe, China the Beneficiary - Mike Shedlock - Townhall Finance Conservative Columnists and Financial Commentary - Page 1\n"
       ]
      },
      {
       "output_type": "stream",
       "stream": "stdout",
       "text": [
        "\n",
        "/watchdog/wisconsin/2014/12/01/legislature-wisconsin-free-market-n6688\n",
        "http://www.townhall.com\n",
        "Vos: New WI Legislature to focus on smaller government, free market ideas - Adam Tobias\n"
       ]
      },
      {
       "output_type": "stream",
       "stream": "stdout",
       "text": [
        "\n",
        "/columnists/\n",
        "http://www.townhall.com\n",
        "/mediaadvertisingkit/\n",
        "http://www.townhall.com\n",
        "/video/\n",
        "http://www.townhall.com\n",
        "/columnists/markcalabria/2014/12/01/midterm-impact-on-financial-regulation-n1925564\n",
        "http://www.townhall.com\n",
        "Midterm Impact on Financial Regulation - Mark Calabria - Townhall Finance Conservative Columnists and Financial Commentary - Page 1\n"
       ]
      },
      {
       "output_type": "stream",
       "stream": "stdout",
       "text": [
        "\n",
        "/columnists/danieljmitchell/2014/12/01/great-moments-in-taxing-spending-and-regulating-n1925561\n",
        "http://www.townhall.com\n",
        "http://www.townhall.com"
       ]
      },
      {
       "output_type": "stream",
       "stream": "stdout",
       "text": [
        "\n",
        "Great Moments in Taxing, Spending, and Regulating - Daniel J. Mitchell - Townhall Finance Conservative Columnists and Financial Commentary - Page full\n"
       ]
      },
      {
       "output_type": "stream",
       "stream": "stdout",
       "text": [
        "\n",
        "http://townhall.com/tipsheet/TownhallcomStaff/2014/12/01/capitol-source-the-role-of-religion-on-the-us-supreme-court-n1925508\n",
        "http://www.townhall.com\n",
        "/tipsheet/cortneyobrien/2014/12/01/early-voting-among-dems-in-louisiana-drops-18-percent-n1925746\n",
        "http://www.townhall.com\n",
        "Early Voting Among Dems in Louisiana Drops 18 Percent - Cortney O'Brien \n"
       ]
      },
      {
       "output_type": "stream",
       "stream": "stdout",
       "text": [
        "\n",
        "/columnists/tompurcell\n",
        "http://www.townhall.com\n",
        "/watchdog\n",
        "http://www.townhall.com\n",
        "http://finance.townhall.com\n",
        "http://www.townhall.com\n",
        "/columnists/walterewilliams\n",
        "http://www.townhall.com\n",
        "http://townhall.com/tipsheet/ChristineRousselle/2014/12/01/12-days-of-christmas-gifts-slightly-more-expensive-this-year-n1925931\n",
        "http://www.townhall.com\n",
        "/columnists/markcalabria\n",
        "http://www.townhall.com\n",
        "/columnists/joannemoudy\n",
        "http://www.townhall.com\n",
        "/columnists/johnransom\n",
        "http://www.townhall.com\n",
        "http://townhall.com/tipsheet/KevinGlass/2014/11/29/yes-even-beer-subsidies-are-a-bad-idea-n1924245\n",
        "http://www.townhall.com\n",
        "http://townhall.com/tipsheet/SarahJeanSeman/2014/11/29/medical-costs-drive-record-high-number-of-americans-to-delay-treatment-n1925200\n",
        "http://www.townhall.com\n",
        "/tipsheet/townhallmagazine/2014/12/01/feminists-against-cosmo-n1925869\n",
        "http://www.townhall.com\n",
        "Feminists Against Cosmo - Townhall Magazine \n"
       ]
      },
      {
       "output_type": "stream",
       "stream": "stdout",
       "text": [
        "\n",
        "http://townhall.com/news/politicselections/2014/11/29/obama-landrieus-biggest-hurdle-in-louisiana-n1925213\n",
        "http://www.townhall.com\n",
        "/watchdog/virginia/2014/12/01/mcauliffe-hunger-game-n6691\n",
        "http://www.townhall.com\n",
        "Farmers blast McAuliffe\u2019s hunger game - Kenric Ward\n"
       ]
      },
      {
       "output_type": "stream",
       "stream": "stdout",
       "text": [
        "\n",
        "http://townhall.com/news/politicselections/2014/11/30/obama-to-hold-meetings-monday-on-ferguson-n1925547\n",
        "http://www.townhall.com\n",
        "http://townhall.com/tipsheet/MattVespa/2014/12/01/most-immigrants-who-arrived-in-america-didnt-get-in-line-or-followed-the-law-n1925203\n",
        "http://www.townhall.com\n",
        "http://townhall.com/tipsheet/DanielDoherty/2014/12/01/report-isis-encouraging-attacks-against-military-personnel-inside-the-homeland-n1925850\n",
        "http://www.townhall.com\n",
        "http://townhall.com/electionsitemap\n",
        "http://www.townhall.com\n",
        "http://townhall.com/tipsheet/GuyBenson/2014/12/01/louisiana-dem-you-wont-be-prosecuted-for-voting-multiple-times-for-landrieu-n1925809\n",
        "http://www.townhall.com\n",
        "/tipsheet/mattvespa/2014/12/01/most-immigrants-who-arrived-in-america-didnt-get-in-line-or-followed-the-law-n1925203\n",
        "http://www.townhall.com\n",
        "Most Immigrants Who Arrived In America Didn't 'Get In Line,' Or Follow The Law  - Matt Vespa \n"
       ]
      },
      {
       "output_type": "stream",
       "stream": "stdout",
       "text": [
        "\n",
        "/pages/townhall_jobs\n",
        "http://www.townhall.com\n",
        "/sitemap.htm\n",
        "http://www.townhall.com\n",
        "http://townhall.com/tags/\n",
        "http://www.townhall.com\n",
        "/columnists/richgalen/2014/12/01/a-crack-in-the-dem-n1925688\n",
        "http://www.townhall.com\n",
        "http://www.townhall.com"
       ]
      },
      {
       "output_type": "stream",
       "stream": "stdout",
       "text": [
        "\n",
        "A Crack in the Dem - Rich Galen -  Page full\n"
       ]
      },
      {
       "output_type": "stream",
       "stream": "stdout",
       "text": [
        "\n",
        "http://townhall.com/tipsheet/CortneyOBrien/2014/11/30/one-class-act-in-the-nfl-n1924336\n",
        "http://www.townhall.com\n",
        "http://townhall.com/news\n",
        "http://www.townhall.com\n",
        "http://townhall.com/news/politicselections/2014/11/30/justices-weigh-limits-of-free-speech-over-internet-n1925410\n",
        "http://www.townhall.com\n",
        "/photos/\n",
        "http://www.townhall.com\n",
        "/tipsheet/christinerousselle/2014/12/01/12-days-of-christmas-gifts-slightly-more-expensive-this-year-n1925931\n",
        "http://www.townhall.com\n",
        "\"12 Days of Christmas\" Gifts Slightly More Expensive This Year - Christine Rousselle \n"
       ]
      },
      {
       "output_type": "stream",
       "stream": "stdout",
       "text": [
        "\n",
        "/tipsheet/guybenson/2014/12/01/louisiana-dem-you-wont-be-prosecuted-for-voting-multiple-times-for-landrieu-n1925809\n",
        "http://www.townhall.com\n",
        "Louisiana Democrat: Vote Multiple Times, You Won't Be Prosecuted  - Guy Benson \n"
       ]
      },
      {
       "output_type": "stream",
       "stream": "stdout",
       "text": [
        "\n",
        "http://townhall.com/tipsheet/CortneyOBrien/2014/12/01/early-voting-among-dems-in-louisiana-drops-18-percent-n1925746\n",
        "http://www.townhall.com\n",
        "http://townhall.com/news/politicselections/2014/11/30/congress-crams-unfinished-agenda-into-final-days-n1925413\n",
        "http://www.townhall.com\n",
        "/columnists\n",
        "http://www.townhall.com\n",
        "https://plus.google.com/+townhall/posts\n",
        "http://www.townhall.com\n",
        "http://townhall.com/video\n",
        "http://www.townhall.com\n",
        "/xml\n",
        "http://www.townhall.com\n",
        "/columnists/ronpaul\n",
        "http://www.townhall.com\n",
        "/columnists/michaelbarone\n",
        "http://www.townhall.com\n",
        "/columnists/michaelschaus\n",
        "http://www.townhall.com\n",
        "/tipsheet/kevinglass/2014/12/01/what-chris-rock-said-about-political-correctness-should-make-college-students-gasp-n1925772\n",
        "http://www.townhall.com\n",
        "What Chris Rock Said About Political Correctness Should Make College Students Gasp - Kevin Glass \n"
       ]
      },
      {
       "output_type": "stream",
       "stream": "stdout",
       "text": [
        "\n",
        "/columnists/michaelschaus/2014/12/01/global-warming-alarmists-claim-airplanes-wont-fly-in-50-years-n1925601\n",
        "http://www.townhall.com\n",
        "http://www.townhall.com"
       ]
      },
      {
       "output_type": "stream",
       "stream": "stdout",
       "text": [
        "\n",
        "Global Warming Alarmists Claim Airplanes Won\u2019t Fly in 50 Years - Michael Schaus - Townhall Finance Conservative Columnists and Financial Commentary - Page full\n"
       ]
      },
      {
       "output_type": "stream",
       "stream": "stdout",
       "text": [
        "\n",
        "http://www.youtube.com/user/townhall\n",
        "http://www.townhall.com\n",
        "/video/californians-excited-by-rain-despite-damage-n1925862\n",
        "http://www.townhall.com\n",
        "/columnists/autryjpruitt\n",
        "http://www.townhall.com\n",
        "/mobile-apps\n",
        "http://www.townhall.com\n",
        "http://townhall.com/tipsheet\n",
        "http://www.townhall.com\n",
        "http://townhall.com/tipsheet/TownhallMagazine/2014/12/01/feminists-against-cosmo-n1925869\n",
        "http://www.townhall.com\n",
        "/columnists/anncoulter\n",
        "http://www.townhall.com\n",
        "/video/fbi-warns-of-isis-attacks-on-homeland-military-community-n1925910\n",
        "http://www.townhall.com\n",
        "/video/dem-mayor-encourages-voter-fraud-for-mary-landrieu-n1925907\n",
        "http://www.townhall.com\n",
        "/columnists/katiekieffer\n",
        "http://www.townhall.com\n",
        "http://hotair.com\n",
        "http://www.townhall.com\n",
        "/tipsheet/mattvespa/2014/12/01/republicans-invested-heavily-in-womenand-it-paid-off-n1925920\n",
        "http://www.townhall.com\n",
        "Republicans Invested Heavily In Women\u2013And It Paid Off  - Matt Vespa \n"
       ]
      },
      {
       "output_type": "stream",
       "stream": "stdout",
       "text": [
        "\n",
        "/watchdog/wisconsin/2014/12/01/irs-conservative-non-profit-n6689\n",
        "http://www.townhall.com\n",
        "Little conservative group gives up in non-profit status battle with IRS - M.D. Kittle\n"
       ]
      },
      {
       "output_type": "stream",
       "stream": "stdout",
       "text": [
        "\n",
        "/columnists/arthurschaper/2014/12/01/ferguson-protests-reactions-and-reasons-n1925828\n",
        "http://www.townhall.com\n",
        "http://www.townhall.com"
       ]
      },
      {
       "output_type": "stream",
       "stream": "stdout",
       "text": [
        "\n",
        "Ferguson Protests: Reactions and Reasons - Arthur  Schaper  -  Page full\n"
       ]
      },
      {
       "output_type": "stream",
       "stream": "stdout",
       "text": [
        "\n",
        "/tipsheet/\n",
        "http://www.townhall.com\n",
        "http://media.townhall.com/townhall/privacypolicy/privacypolicy.htm\n",
        "http://www.townhall.com\n",
        "/political-cartoons\n",
        "http://www.townhall.com\n",
        "http://townhall.com/tipsheet/MattVespa/2014/11/30/jim-webb-thinks-he-can-beat-hillary-clinton-n1924720\n",
        "http://www.townhall.com\n",
        "http://townhall.com/tipsheet/MattVespa/2014/12/01/the-nypd-is-on-the-ground-in-ferguson-braces-for-grand-jury-decision-of-their-own-n1925105\n",
        "http://www.townhall.com\n",
        "http://townhall.com/video/black-friday-by-the-numbers-n1924762\n",
        "http://www.townhall.com\n",
        "http://townhall.com/video/fifteen-islamic-state-targets-hit-by-us-allies-since-wednesday-n1925261\n",
        "http://www.townhall.com\n",
        "/columnists/arthurschaper\n",
        "http://www.townhall.com\n",
        "http://townhall.com/tipsheet/KatiePavlich/2014/12/01/rich-lowery-tells-truth-about-michael-brown-makes-nbc-liberals-upset-n1925690\n",
        "http://www.townhall.com\n",
        "http://townhall.com/election\n",
        "http://www.townhall.com\n",
        "http://m.townhall.com/\n",
        "http://www.townhall.com\n",
        "http://townhall.com/news/us/2014/12/01/10-things-to-know-for-today-n1925658\n",
        "http://www.townhall.com\n",
        "/columnists/shawnmitchell/2014/12/01/to-quote-obama-mr-brokaw-elections-have-consequences-n1925568\n",
        "http://www.townhall.com\n",
        "http://www.townhall.com"
       ]
      },
      {
       "output_type": "stream",
       "stream": "stdout",
       "text": [
        "\n",
        "To Quote Obama, Mr Brokaw: Elections Have Consequences - Shawn Mitchell - Townhall Finance Conservative Columnists and Financial Commentary - Page full\n"
       ]
      },
      {
       "output_type": "stream",
       "stream": "stdout",
       "text": [
        "\n",
        "/columnists/toddstarnes\n",
        "http://www.townhall.com\n",
        "http://www.facebook.com/townhallcom\n",
        "http://www.townhall.com\n",
        "/columnists/paulgreenberg\n",
        "http://www.townhall.com\n",
        "http://townhall.com/talkradio\n",
        "http://www.townhall.com\n",
        "/columnists/terrypaulson/2014/12/01/americas-choice-emperor-obama-or-the-constitutional-rule-of-law-n1924764\n",
        "http://www.townhall.com\n",
        "http://www.townhall.com"
       ]
      },
      {
       "output_type": "stream",
       "stream": "stdout",
       "text": [
        "\n",
        "America\u2019s Choice: Emperor Obama or the Constitutional Rule of Law - Terry Paulson -  Page full\n"
       ]
      },
      {
       "output_type": "stream",
       "stream": "stdout",
       "text": [
        "\n",
        "http://townhall.com/columnists\n",
        "http://www.townhall.com\n",
        "http://townhall.com/tipsheet/ConnCarroll/2014/11/29/why-amnesty-activists-will-never-stop-heckling-obama-n1924347\n",
        "http://www.townhall.com\n",
        "/columnists/michaelbarone/2014/12/01/democratic-takeover-of-senate-in-2016-possible-but-not-a-slam-dunk-n1925769\n",
        "http://www.townhall.com\n",
        "http://www.townhall.com"
       ]
      },
      {
       "output_type": "stream",
       "stream": "stdout",
       "text": [
        "\n",
        "Democratic Takeover of Senate in 2016 Possible but Not a Slam Dunk - Michael Barone -  Page full\n"
       ]
      },
      {
       "output_type": "stream",
       "stream": "stdout",
       "text": [
        "\n",
        "http://www.motherjones.com\n",
        "http://www.motherjones.com\n",
        "http://www.motherjones.com\n",
        "http://www.motherjones.com\n",
        "http://www.motherjones.com\n",
        "http://www.motherjones.com\n",
        "http://www.motherjones.com\n",
        "Despite Conservatives' Pleas, Texas Board Rejects Clemency for Mentally Ill Convict | Mother Jones\n"
       ]
      },
      {
       "output_type": "stream",
       "stream": "stdout",
       "text": [
        "\n",
        "http://www.motherjones.com\n",
        "http://www.motherjones.com\n",
        "http://www.motherjones.com\n",
        "How Dark Money Is Taking Over Judicial Elections | Mother Jones\n"
       ]
      },
      {
       "output_type": "stream",
       "stream": "stdout",
       "text": [
        "\n",
        "http://www.motherjones.com\n",
        "http://www.motherjones.com\n",
        "http://www.motherjones.com\n",
        "http://www.motherjones.com\n",
        "The Looming Olive Oil Apocalypse | Mother Jones\n"
       ]
      },
      {
       "output_type": "stream",
       "stream": "stdout",
       "text": [
        "\n",
        "http://www.motherjones.com\n",
        "http://www.motherjones.com\n",
        "I Wish I Weren't Already a Journalist So This Music Video Could Inspire Me to Become a Journalist | Mother Jones\n"
       ]
      },
      {
       "output_type": "stream",
       "stream": "stdout",
       "text": [
        "\n",
        "http://www.motherjones.com\n",
        "http://www.motherjones.com\n",
        "That Takeout Coffee Cup May Be Messing With Your Hormones | Mother Jones\n"
       ]
      },
      {
       "output_type": "stream",
       "stream": "stdout",
       "text": [
        "\n",
        "http://www.motherjones.com\n",
        "http://www.motherjones.com\n",
        "http://www.motherjones.com\n",
        "http://www.motherjones.com\n",
        "http://www.motherjones.com\n",
        "http://www.motherjones.com\n",
        "http://www.motherjones.com\n",
        "http://www.motherjones.com\n",
        "http://www.motherjones.com\n",
        "5 Key Inconsistencies in What Happened During the Michael Brown Shooting | Mother Jones\n"
       ]
      },
      {
       "output_type": "stream",
       "stream": "stdout",
       "text": [
        "\n",
        "http://www.motherjones.com\n",
        "http://www.motherjones.com\n",
        "The Koch 130 | Mother Jones\n"
       ]
      },
      {
       "output_type": "stream",
       "stream": "stdout",
       "text": [
        "\n",
        "http://www.motherjones.com\n",
        "\"Wild's\" Cheryl Strayed Becomes One With Reese Witherspoon | Mother Jones\n"
       ]
      },
      {
       "output_type": "stream",
       "stream": "stdout",
       "text": [
        "\n",
        "http://www.motherjones.com\n",
        "Map: The United States of Legal Weed | Mother Jones\n"
       ]
      },
      {
       "output_type": "stream",
       "stream": "stdout",
       "text": [
        "\n",
        "http://www.motherjones.com\n",
        "http://www.motherjones.com\n",
        "http://www.motherjones.com\n",
        "http://www.motherjones.com\n",
        "Chris Rock: \"My Children Are Encountering the Nicest White People That America Has Ever Produced\" | Mother Jones\n"
       ]
      },
      {
       "output_type": "stream",
       "stream": "stdout",
       "text": [
        "\n",
        "http://www.motherjones.com\n",
        "http://www.motherjones.com\n",
        "http://www.motherjones.com\n",
        "Ferguson Is Even More Polarizing Than Polls Suggest | Mother Jones\n"
       ]
      },
      {
       "output_type": "stream",
       "stream": "stdout",
       "text": [
        "\n",
        "http://www.motherjones.com\n",
        "http://www.motherjones.com\n",
        "Photos of the First AIDS Hospice Center Tell a Story of Struggle and Resilience | Mother Jones\n"
       ]
      },
      {
       "output_type": "stream",
       "stream": "stdout",
       "text": [
        "\n",
        "http://www.motherjones.com\n",
        "http://www.motherjones.com\n",
        "http://www.motherjones.com"
       ]
      },
      {
       "output_type": "stream",
       "stream": "stdout",
       "text": [
        "\n",
        "Climate Negotiators Are Working on History's Most Important Mad Lib | Mother Jones\n"
       ]
      },
      {
       "output_type": "stream",
       "stream": "stdout",
       "text": [
        "\n",
        "http://www.motherjones.com\n",
        "http://www.motherjones.com\n",
        "The Science of Why Cops Shoot Young Black Men | Mother Jones\n"
       ]
      },
      {
       "output_type": "stream",
       "stream": "stdout",
       "text": [
        "\n",
        "http://www.motherjones.com\n",
        "http://www.motherjones.com\n",
        "http://www.motherjones.com\n"
       ]
      }
     ],
     "prompt_number": 38
    },
    {
     "cell_type": "markdown",
     "metadata": {},
     "source": [
      "#Part 2: Feature Vectors"
     ]
    },
    {
     "cell_type": "code",
     "collapsed": false,
     "input": [],
     "language": "python",
     "metadata": {},
     "outputs": []
    }
   ],
   "metadata": {}
  }
 ]
}