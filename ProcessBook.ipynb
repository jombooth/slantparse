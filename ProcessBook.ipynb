{
 "metadata": {
  "name": "",
  "signature": "sha256:57b8c7df7709deb603a3c07c30561efc0c0fbee2064fd2aca20c8b384d981b96"
 },
 "nbformat": 3,
 "nbformat_minor": 0,
 "worksheets": [
  {
   "cells": [
    {
     "cell_type": "markdown",
     "metadata": {},
     "source": [
      "<h2 align=\"center\">slant parse: <br><br> Using Machine Learning to Determine the Political Leanings of News Publications</h2>\n",
      "\n",
      "<br><center>Serena L Booth, Harvard College, Class of 2016</center>\n",
      "\n",
      "<center>Joseph M Booth, Harvard College, Class of 2015</center>\n",
      "\n",
      "\n",
      "---"
     ]
    },
    {
     "cell_type": "markdown",
     "metadata": {},
     "source": [
      "# Part 0: Overview and Motivation\n",
      "\n",
      "<i> Provide an overview of the project goals and the motivation for it. Consider that this will be read by people who did not see your project proposal. </i>\n",
      "\n",
      "Our original goal for this project was to train a classifier such that we were able to determine the unstated political leanings of satirical news organizations. This idea came up in casual conversation between the authors, and it was (and is) something we very much want to investigate. In drafting our project proposal and in meeting with our TF Olivia, it became apparant that for such a project to be relevant, we would need to provide a metric for determining the success of our classification. Given that the types of satirical news organizations we wanted to target certainly do not have a stated leaning, and nor have any or many lists of political leanings been created for these publications, such a metric couldn't be readily verified. For this reason, we decided to refine our project idea to determine the political leanings of news organizations in general. \n",
      "\n",
      "Both of the authors of this project are very interested in text analysis and natural language processing; this interest was part of our motivation for studying classification of political leanings in texts. Additionally, the authors wanted to explore scraping and cleaning data from the web. We had a lot of fun with that aspect of this project, and we both felt extremely proud of how neatly our article-retrieved text came out of our scraper (post computational clean up, naturally). \n",
      "\n",
      "The principal result of this work is a classifier which is trained on more than 250 articles scraped from five Liberal sources and five Conservative sources. This classifier vectorizes the words, considers the word frequencies, removes stop words (words like \"the\" or \"again\"), and successfully classifies the test data with approximately 80% accuracy. We look at the precision, the recall, and the F1-score for our classifier. We then provide some visual models for interpreting our feature evaluation. "
     ]
    },
    {
     "cell_type": "markdown",
     "metadata": {},
     "source": [
      "# Part 1: Related Work\n",
      "\n",
      "<i> \n",
      "Anything that inspired you, such as a paper, a web site, or something we discussed in class.\n",
      "</i>\n",
      "\n",
      "We, the authors of this project, were inspired to work with news data due to particular current events that were unfolding at the time of this project. These current events include ruling in the Ferguson case as well as the case of Eric Gardner, among many other interesting, complex, and deep news stories. We set out to learn about the reprentation of politics in natural language. Further, we are both very interested in natural language processing in general and saw this as an opportunity to explore that interest, as well as an opportunity to learn how to scrape and clean text data from the web. \n",
      "\n",
      "The main reason the authors embarked on this endeavor was to see how politics is evident in writing. Is it restricted to phrases like \"Obamacare\" versus the \"Affordable Care Act\"? Or is it more subtle, affecting adjective choices and emotion words? Because we wanted to see how politics manifested itself in writing, we didn't want to restrict our classification scheme to a single subject (like Obamacare or Ferguson) -- we really wanted to see what features of politics were expressed across topics and across publications. \n",
      "\n",
      "In short, as news junkies we wanted to work with news data, and as students we wanted to explore natural language processing and classification further. \n"
     ]
    },
    {
     "cell_type": "markdown",
     "metadata": {},
     "source": [
      "# Part 2: Initial Questions\n",
      "\n",
      "<i> What questions are you trying to answer? How did these questions evolve over the course of the project? What new questions did you consider in the course of your analysis? </i>\n",
      "\n",
      "Initially, we wanted to learn about the political slants of satirical news organizations. Over the course of this project, particularly after discussing the project with our TF, we realized that coming up with a valid metric for sites like 'The Onion', which has no official political leaning, was an unattainable goal. We wouldn't be able classify satirical news organizations with conviction, as we would have no proof of validity. For this reason, we refined our question to concern only those publications with a known political slant. "
     ]
    },
    {
     "cell_type": "markdown",
     "metadata": {},
     "source": [
      "#Part 3: Metric\n",
      "\n",
      "Our metric is relatively simple. We looked up lists of the best conservative and liberal news publications; we chose five well-ranked publications from either list and used these to train a classifier capable of determining the political leaning of each article from each publication."
     ]
    },
    {
     "cell_type": "code",
     "collapsed": false,
     "input": [
      "import urllib\n",
      "import csv\n",
      "from bs4 import BeautifulSoup\n",
      "from sets import Set\n",
      "from sgmllib import SGMLParser\n",
      "import pickle \n",
      "from textstat.textstat import textstat as ts\n",
      "from sklearn import svm\n",
      "from sklearn import neighbors\n",
      "from sklearn import tree\n",
      "from sklearn import ensemble\n",
      "from sklearn.feature_extraction import text\n",
      "from sklearn import metrics\n",
      "from sklearn.naive_bayes import MultinomialNB\n",
      "from sklearn.pipeline import Pipeline\n",
      "from sklearn.linear_model import SGDClassifier\n",
      "from sklearn.ensemble import GradientBoostingClassifier\n",
      "import sklearn.linear_model\n",
      "from os import path\n",
      "import matplotlib.pyplot as plt\n",
      "from wordcloud import WordCloud\n",
      "\n",
      "import csv, enchant, string, cPickle, re, time\n",
      "from collections import Counter\n",
      "import stop_words\n",
      "\n",
      "%matplotlib inline\n"
     ],
     "language": "python",
     "metadata": {},
     "outputs": [],
     "prompt_number": 1
    },
    {
     "cell_type": "code",
     "collapsed": false,
     "input": [
      "list_of_political_magazines = ['http://en.wikipedia.org/wiki/List_of_political_magazines', 'http://en.wikipedia.org/wiki/Category:Modern_liberal_American_magazines',\n",
      "                               'http://en.wikipedia.org/wiki/Category:Conservative_American_magazines', 'http://usconservatives.about.com/od/gettinginvolved/tp/TopConservativeMagazines.htm',\n",
      "                               'http://www.allyoucanread.com/top-10-political-magazines/', 'http://www.conservapedia.com/Conservative_media', \n",
      "                               'http://www.dailykos.com/story/2009/04/05/716698/-The-Compleat-Revised-Guide-to-Liberal-and-Progressive-News-and-Politics-on-the-Web',\n",
      "                               'http://www.washingtonpost.com/blogs/the-fix/wp/2014/10/21/lets-rank-the-media-from-liberal-to-conservative-based-on-their-audiences/']"
     ],
     "language": "python",
     "metadata": {},
     "outputs": [],
     "prompt_number": 2
    },
    {
     "cell_type": "markdown",
     "metadata": {},
     "source": [
      "# Part 4: Data Collection\n",
      "\n",
      "<i> Source, scraping method, cleanup, etc. </i>\n",
      "\n",
      "We use the metric defined above (cross-referencing lists of political leanings) to determine 5 liberal sources and 5 conservative sources. \n",
      "\n",
      "The 5 liberal sources: \n",
      "    - Mother Jones\n",
      "    - The Nation\n",
      "    - Slate\n",
      "    - The New Yorker\n",
      "    - The Washington Post\n",
      "\n",
      "The 5 conservative sources:\n",
      "    - The Christian Science Monitor\n",
      "    - The Weekly Standard\n",
      "    - TownHall\n",
      "    - The American Conservative\n",
      "    - The American Spectator\n",
      "    \n",
      "We first visit the homepage of each of these publications. From the home page, we scrape all links and store these in a set. We then visit each such link, check if it is an article from the given publication, and then scrape that data into a csv called articles.csv. The format of articles.csv is: publication title, political leaning (C or L), article title, article text. "
     ]
    },
    {
     "cell_type": "code",
     "collapsed": false,
     "input": [
      "# cite: https://github.com/chungy/diveintopython/blob/master/py/urllister.py\n",
      "class URLLister(SGMLParser):\n",
      "    \"\"\"\n",
      "    Arguments: (implicit) SGMLParser \n",
      "    \n",
      "    Extracts all 'href's from an html document. We store these links in a set, \n",
      "    and process them individually to retrieve content or additional links. \n",
      "    \"\"\"\n",
      "    def reset(self):\n",
      "        SGMLParser.reset(self)\n",
      "        self.urls = []\n",
      "\n",
      "    def start_a(self, attrs):\n",
      "        href = [v for k, v in attrs if k=='href']\n",
      "        if href:\n",
      "            self.urls.extend(href)\n",
      "    "
     ],
     "language": "python",
     "metadata": {},
     "outputs": [],
     "prompt_number": 3
    },
    {
     "cell_type": "code",
     "collapsed": false,
     "input": [
      "def process_url(url, url_mod, string_start, find_string, start_article_delim, end_article_delim, name, pol):\n",
      "    \"\"\"\n",
      "    Arguments: string url, string url_mod, string find_string, string start_title_delim, \n",
      "    string end_title_delim, string start_article_delim, string end_article_delim, string name, string pol\n",
      "    \n",
      "    For each url passed to process_url, open the CSV file articles.csv which contains all data scraped.\n",
      "    Process the article by retrieving the title, and by using BeautifulSoup to retrieve the article text.\n",
      "    Store each article in the CSV as the publication name, the publication's political leaning (either 'L' or 'C'), article title, and article content.  \n",
      "    \"\"\"\n",
      "        \n",
      "    \n",
      "    #with open('articles_scraped.pickle', 'a+') as handle:\n",
      "    #    pickle.dump(set(), handle)\n",
      "    \n",
      "    # check url format\n",
      "    if len(url) > 0 and ((str(url)[0] == '/' and string_start == \"argument-not-used\") or str(url).find(string_start) == 0) and str(url).find(find_string) != -1: \n",
      "        with open('articles.csv', 'a+') as csvfile:\n",
      "            article_writer = csv.writer(csvfile, delimiter=',')\n",
      "            \n",
      "            tmp_url = url_mod + str(url)\n",
      "            usock = urllib.urlopen(tmp_url)\n",
      "            html = usock.read()\n",
      "                        \n",
      "            # use Beautiful Soup \n",
      "            soup_unprocessed = BeautifulSoup(html)\n",
      "            \n",
      "              \n",
      "            # use try/except to catch cases in which articles do not conform to general standards\n",
      "            # e.g. when an article does not have a title\n",
      "            try:\n",
      "                title = soup_unprocessed.title.string \n",
      "                title = title.encode(\"utf-8\")\n",
      "                \n",
      "                 # If article is from a specific provider, modify it according to the following rules: \n",
      "                # e.g. in the case of Townhall, we only want html which has the full article rather than a paged version\n",
      "                if name == \"TownHall\" and html.find(\"View Full Article\") != -1:\n",
      "                    process_url(url + '/page/full', url_mod, string_start, find_string, start_article_delim, end_article_delim, name, pol)\n",
      "                    usock.close()\n",
      "                    return\n",
      "                elif name == \"Slate\" and html.find('<div class=\"single-page\">') != -1: \n",
      "                    process_url(url[0:url.find('.html')] + '.single.html', url_mod, string_start, find_string, start_article_delim, end_article_delim, name, pol)\n",
      "                    usock.close()\n",
      "                    return\n",
      "                elif name == \"Mother Jones\" and (title.find('Issue') != -1 or title.find('map') != -1):\n",
      "                    print 'Content not text, or article not relevant.\\n'\n",
      "                    usock.close()\n",
      "                    return\n",
      "                elif name == \"The American Conservative\" and html.find('Author Archives') != -1 or title.find('Web Headlines') != -1 or title.find('Articles') != -1:\n",
      "                    print 'Content not text, or article not relevant.\\n'\n",
      "                    usock.close()\n",
      "                    return\n",
      "                elif name == \"The Christian Science Monitor\" and (title.find('+video') != -1 or url.find('The-Culture') != -1 or title.find('Photos of the day') != -1 or title.find('How much do you know about') != -1):\n",
      "                    print 'Content not text, or article not relevant.\\n'\n",
      "                    usock.close()\n",
      "                    return \n",
      "                elif name == \"The Blaze\" and title.find('Video') != -1:\n",
      "                    print 'Content not text, or article not relevant.\\n'\n",
      "                    usock.close()\n",
      "                    return\n",
      "                elif name == \"Slate\" and (url.find('video') != -1 or url.find('podcast') != -1): \n",
      "                    print 'Content not text, or article not relevant.\\n'\n",
      "                    usock.close()\n",
      "                    return\n",
      "                elif name == \"The Washington Post\" and (url.find('live') != -1 or html.find('posttv-video-template') != -1):\n",
      "                    print 'Content not text, or article not relevant.\\n'\n",
      "                    usock.close()\n",
      "                    return\n",
      "                else: \n",
      "                    print title + '\\n'\n",
      "                    content = str(html)[str(html).find(start_article_delim) + len (start_article_delim):str(html).find(end_article_delim)]\n",
      "                    soup = BeautifulSoup(content)\n",
      "                    \n",
      "                    # remove JS from html \n",
      "                    for script in soup([\"script\", \"style\"]):\n",
      "                        script.extract() \n",
      "                        \n",
      "                    mod_content = soup.get_text()\n",
      "                \n",
      "                # check if article has already been processed;\n",
      "                with open('articles_scraped.pickle', 'rb') as handle:\n",
      "                    article_list = pickle.load(handle)\n",
      "                    if title in article_list: \n",
      "                        print '\\n ALREADY IN SET \\n'\n",
      "                        return\n",
      "                    else:\n",
      "                        with open('articles_scraped.pickle', 'wb') as handle:\n",
      "                            article_list.append(title)\n",
      "                            pickle.dump(article_list, handle)\n",
      "                \n",
      "                mod_content = mod_content.encode(\"utf-8\") \n",
      "                \n",
      "                ascii_title = unicode(title, 'ascii', 'ignore')\n",
      "                ascii_content = unicode(mod_content, 'ascii', 'ignore')\n",
      "\n",
      "                article_writer.writerow([name, pol, ascii_title, ascii_content])\n",
      "            except AttributeError: \n",
      "                print 'Attribute Error'\n",
      "                \n",
      "            usock.close()\n",
      "            "
     ],
     "language": "python",
     "metadata": {},
     "outputs": [],
     "prompt_number": 4
    },
    {
     "cell_type": "code",
     "collapsed": false,
     "input": [
      "def scrape(start_url, iterator, url_list, url_mod):      \n",
      "    \"\"\"\n",
      "    Arguments: string start_url, int iterator, set url_list, string url_mod\n",
      "    Returns: updated set url_list \n",
      "    \n",
      "    For each start_url passed, this function opens that url and retrieves all hrefs from that page. \n",
      "    If iterator is smaller than the (constant) number of ITER_PAGES, scrape is called recursively \n",
      "    on the set of urls. \n",
      "    \"\"\"\n",
      "    \n",
      "    # limit the number of articles retrieved by limiting page depth\n",
      "    if iterator > ITER_PAGES: \n",
      "        return set()\n",
      "    \n",
      "    # call URLLister to retrieve all hrefs in the html read from the url \n",
      "    usock = urllib.urlopen(start_url)\n",
      "    parser = URLLister()\n",
      "    html = usock.read()\n",
      "    parser.feed(html)\n",
      "    usock.close()\n",
      "    parser.close()\n",
      "    \n",
      "    url_list = url_list.union(parser.urls)\n",
      "    \n",
      "    # scrape each correctly formatted url\n",
      "    for url in url_list: \n",
      "        if len(url) > 0 and str(url)[0] == '/': \n",
      "            tmp_url = url_mod + str(url)\n",
      "            try: \n",
      "                tmp_set = scrape(tmp_url, iterator + 1, url_list, url_mod)\n",
      "                url_list = url_list.union(tmp_set) \n",
      "            except IOError: \n",
      "                print \"Couldn't Open\"\n",
      "    return url_list\n"
     ],
     "language": "python",
     "metadata": {},
     "outputs": [],
     "prompt_number": 5
    },
    {
     "cell_type": "code",
     "collapsed": false,
     "input": [
      "ITER_PAGES = 1\n",
      "\n",
      "# pickle setup\n",
      "articles_to_pickle = []\n",
      "try:\n",
      "    with open('articles_scraped.pickle', 'rb') as handle:\n",
      "        articles_to_pickle = pickle.load(handle)\n",
      "except IOError: \n",
      "    with open('articles_scraped.pickle', 'wb') as handle:\n",
      "        pickle.dump(articles_to_pickle, handle)\n",
      "\n",
      "# call the function\n",
      "url_list = set()  \n",
      "american_conservative_list = scrape('http://www.theamericanconservative.com/', 1, url_list, '')\n",
      "townhall_list = scrape('http://www.townhall.com/', 1, url_list, 'http://www.townhall.com')\n",
      "csmonitor_list = scrape('http://www.csmonitor.com/', 1, url_list, 'http://www.csmonitor.com/')\n",
      "weekly_std_list = scrape('http://www.weeklystandard.com/', 1, url_list, 'http://www.weeklystandard.com/')\n",
      "spectator_list = scrape('http://spectator.org/', 1, url_list, 'http://spectator.org/')\n",
      "\n",
      "mother_jones_list = scrape('http://www.motherjones.com/', 1, url_list, 'http://www.motherjones.com')\n",
      "nation_list = scrape('http://www.thenation.com/', 1, url_list, 'http://www.thenation.com/')\n",
      "slate_list = scrape('http://www.slate.com/', 1, url_list, '')\n",
      "newyorker_list = scrape('http://www.newyorker.com/', 1, url_list, '')\n",
      "wp_list = scrape('http://www.washingtonpost.com/', 1, url_list, '')\n",
      "\n",
      "print '\\nurls\\n'\n",
      "\n",
      "# conservative 1\n",
      "for url in american_conservative_list: \n",
      "    process_url(url, '', 'http://www.theamericanconservative.com/', 'theamericanconservative', '<div class=\"post-content\">', '<footer id=\"articlefooter\">', 'The American Conservative', 'C')\n",
      "\n",
      "    # conservative 2\n",
      "for url in townhall_list:\n",
      "    process_url(url, 'http://www.townhall.com', 'argument-not-used', '2014' , '<ul class=\"breadcrumb\">', '<hr class=\"article-divider\"', 'TownHall', 'C')\n",
      "\n",
      "# conservative 3\n",
      "for url in csmonitor_list:\n",
      "    process_url(url, 'http://www.csmonitor.com/', 'argument-not-used', '2014/', '<div id=\"story-body\"', '<span id=\"end-of-story\"', 'The Christian Science Monitor', 'C')\n",
      "\n",
      "# conservative 4\n",
      "for url in weekly_std_list: \n",
      "    process_url(url, 'http://www.weeklystandard.com/', 'argument-not-used', '/articles/', '  <div class=\"all_article\">', '<div class=\"article-footer\">', 'The Weekly Standard', 'C')\n",
      "\n",
      "# conservative 5\n",
      "for url in spectator_list:\n",
      "    process_url(url, 'http://spectator.org/', 'argument-not-used', '/articles/', 'target=\"_blank\" rel=\"nofollow\">', '</iframe></div><div class=\"field-item even\"><p class=\"label\">', 'The American Spectator', 'C')\n",
      "\n",
      "# liberal 1 \n",
      "for url in mother_jones_list:\n",
      "    process_url(url, 'http://www.motherjones.com', 'argument-not-used', '2014' , '<div id=\"node-header\" class=\"clear-block\">', '<div id=\"node-footer\" class=\"clear-block\">', 'Mother Jones', 'L')\n",
      "\n",
      "# liberal 2\n",
      "for url in nation_list:\n",
      "    process_url(url, 'http://www.thenation.com/', 'argument-not-used', '/article/', '<div class=\"field field-type-text field-field-image-caption\">', '</p></div><div class=\"views-field-value byline\">', 'The Nation', 'L')\n",
      "\n",
      "# liberal 3\n",
      "for url in slate_list:\n",
      "    process_url(url, '', 'http://www.slate.com/', '/2014/', '<div class=\"text text-1 parbase section\">', '<section class=\"about-the-author', 'Slate', 'L')\n",
      "\n",
      "# liberal 4 - slightly more complex \n",
      "for url in newyorker_list:\n",
      "    if url.find('//') == 0 or len(url) < 45:\n",
      "        print 'URL badly formatted'\n",
      "        # do nothing for this url\n",
      "    else:\n",
      "        process_url(url, '', 'http://www.newyorker.com/', 'news', '<div itemprop=\"articleBody\" class=\"articleBody\" id=\"articleBody\">', '<span class=\"dingbat\">', 'The New Yorker', 'L')\n",
      "        process_url(url, '', 'http://www.newyorker.com/', 'magazine/2014', '<div itemprop=\"articleBody\" class=\"articleBody\" id=\"articleBody\">', '<span class=\"dingbat\">', 'The New Yorker', 'L')\n",
      "\n",
      "# liberal 5\n",
      "for url in wp_list:\n",
      "    process_url(url, '', 'http://www.washingtonpost.com/', '/2014/', '<div id=\"article-body\" class=\"article-body\">', '</article>', 'The Washington Post', 'L')"
     ],
     "language": "python",
     "metadata": {},
     "outputs": [
      {
       "output_type": "stream",
       "stream": "stdout",
       "text": [
        "\n",
        "urls\n",
        "\n",
        "Content not text, or article not relevant.\n"
       ]
      },
      {
       "output_type": "stream",
       "stream": "stdout",
       "text": [
        "\n",
        "Inquiries Aren\u2019t the Answer to Eric Garner | The American Conservative\n"
       ]
      },
      {
       "output_type": "stream",
       "stream": "stdout",
       "text": [
        "\n",
        "\n",
        " ALREADY IN SET \n",
        "\n",
        "UVA\u2019s Jackie: A Wahoo Tawana Brawley? | The American Conservative\n"
       ]
      },
      {
       "output_type": "stream",
       "stream": "stdout",
       "text": [
        "\n",
        "\n",
        " ALREADY IN SET \n",
        "\n",
        "The Localist Manifesto | The American Conservative\n"
       ]
      },
      {
       "output_type": "stream",
       "stream": "stdout",
       "text": [
        "\n",
        "\n",
        " ALREADY IN SET \n",
        "\n",
        "Campus Rape & Witch-Hunting | The American Conservative\n"
       ]
      },
      {
       "output_type": "stream",
       "stream": "stdout",
       "text": [
        "\n",
        "\n",
        " ALREADY IN SET \n",
        "\n",
        "Moralistic Therapeutic Journalism | The American Conservative\n"
       ]
      },
      {
       "output_type": "stream",
       "stream": "stdout",
       "text": [
        "\n",
        "\n",
        " ALREADY IN SET \n",
        "\n",
        "Content not text, or article not relevant.\n"
       ]
      },
      {
       "output_type": "stream",
       "stream": "stdout",
       "text": [
        "\n",
        "Channing Tatum. Wrestling Picture. Whadaya Need \u2013 A Road Map? | The American Conservative\n"
       ]
      },
      {
       "output_type": "stream",
       "stream": "stdout",
       "text": [
        "\n",
        "\n",
        " ALREADY IN SET \n",
        "\n",
        "Europe\u2019s Conchita Wurst Consensus | The American Conservative\n"
       ]
      },
      {
       "output_type": "stream",
       "stream": "stdout",
       "text": [
        "\n",
        "\n",
        " ALREADY IN SET \n",
        "\n",
        "Content not text, or article not relevant.\n"
       ]
      },
      {
       "output_type": "stream",
       "stream": "stdout",
       "text": [
        "\n",
        "Content not text, or article not relevant.\n"
       ]
      },
      {
       "output_type": "stream",
       "stream": "stdout",
       "text": [
        "\n",
        "Don\u2019t Risk War With Russia | The American Conservative\n"
       ]
      },
      {
       "output_type": "stream",
       "stream": "stdout",
       "text": [
        "\n",
        "What Are \u201cNational Rights\u201d? | The American Conservative\n"
       ]
      },
      {
       "output_type": "stream",
       "stream": "stdout",
       "text": [
        "\n",
        "\n",
        " ALREADY IN SET \n",
        "\n",
        "Fidelis Ad Mortem? | The American Conservative\n"
       ]
      },
      {
       "output_type": "stream",
       "stream": "stdout",
       "text": [
        "\n",
        "\n",
        " ALREADY IN SET \n",
        "\n",
        "About Us | The American Conservative\n"
       ]
      },
      {
       "output_type": "stream",
       "stream": "stdout",
       "text": [
        "\n",
        "\n",
        " ALREADY IN SET \n",
        "\n",
        "Grand Strategy Is Bunk | The American Conservative\n"
       ]
      },
      {
       "output_type": "stream",
       "stream": "stdout",
       "text": [
        "\n",
        "\n",
        " ALREADY IN SET \n",
        "\n",
        "Content not text, or article not relevant.\n"
       ]
      },
      {
       "output_type": "stream",
       "stream": "stdout",
       "text": [
        "\n",
        "Our Absurd and Useless Cuba Policy | The American Conservative\n"
       ]
      },
      {
       "output_type": "stream",
       "stream": "stdout",
       "text": [
        "\n",
        "RIP The New Republic | The American Conservative\n"
       ]
      },
      {
       "output_type": "stream",
       "stream": "stdout",
       "text": [
        "\n",
        "\n",
        " ALREADY IN SET \n",
        "\n",
        "Dear Modernity, I Love You Hard | The American Conservative\n"
       ]
      },
      {
       "output_type": "stream",
       "stream": "stdout",
       "text": [
        "\n",
        "\n",
        " ALREADY IN SET \n",
        "\n",
        "The Importance of Generational Knowledge | The American Conservative\n"
       ]
      },
      {
       "output_type": "stream",
       "stream": "stdout",
       "text": [
        "\n",
        "\n",
        " ALREADY IN SET \n",
        "\n",
        "Bringing Back Husbandry | The American Conservative\n"
       ]
      },
      {
       "output_type": "stream",
       "stream": "stdout",
       "text": [
        "\n",
        "\n",
        " ALREADY IN SET \n",
        "\n",
        "Rolling Stone Rolls Off Cliff | The American Conservative\n"
       ]
      },
      {
       "output_type": "stream",
       "stream": "stdout",
       "text": [
        "\n",
        "\n",
        " ALREADY IN SET \n",
        "\n",
        "\u201cLearning\u201d the \u201cLessons\u201d of the 1930s Forever | The American Conservative\n"
       ]
      },
      {
       "output_type": "stream",
       "stream": "stdout",
       "text": [
        "\n",
        "\n",
        " ALREADY IN SET \n",
        "\n",
        "The Moral Path to Peace | The American Conservative\n"
       ]
      },
      {
       "output_type": "stream",
       "stream": "stdout",
       "text": [
        "\n",
        "\n",
        " ALREADY IN SET \n",
        "\n",
        "Deconstructing Western Civilization | The American Conservative\n"
       ]
      },
      {
       "output_type": "stream",
       "stream": "stdout",
       "text": [
        "\n",
        "\n",
        " ALREADY IN SET \n",
        "\n",
        "How Iraq Explains Ferguson | The American Conservative\n"
       ]
      },
      {
       "output_type": "stream",
       "stream": "stdout",
       "text": [
        "\n",
        "\n",
        " ALREADY IN SET \n",
        "\n",
        "A Foreign Policy of Russophobia | The American Conservative\n"
       ]
      },
      {
       "output_type": "stream",
       "stream": "stdout",
       "text": [
        "\n",
        "The Sloppy Thinking Behind \u201cCredibility\u201d Arguments | The American Conservative\n"
       ]
      },
      {
       "output_type": "stream",
       "stream": "stdout",
       "text": [
        "\n",
        "\n",
        " ALREADY IN SET \n",
        "\n",
        "Shakeup at TNR | The American Conservative\n"
       ]
      },
      {
       "output_type": "stream",
       "stream": "stdout",
       "text": [
        "\n",
        "\n",
        " ALREADY IN SET \n",
        "\n",
        "Racist Cops\u2014or Liberal Slander? | The American Conservative\n"
       ]
      },
      {
       "output_type": "stream",
       "stream": "stdout",
       "text": [
        "\n",
        "\n",
        " ALREADY IN SET \n",
        "\n",
        "Content not text, or article not relevant.\n"
       ]
      },
      {
       "output_type": "stream",
       "stream": "stdout",
       "text": [
        "\n",
        "Content not text, or article not relevant.\n"
       ]
      },
      {
       "output_type": "stream",
       "stream": "stdout",
       "text": [
        "\n",
        "Why the Dishonest Charge of \u201cRetreat\u201d Endures | The American Conservative\n"
       ]
      },
      {
       "output_type": "stream",
       "stream": "stdout",
       "text": [
        "\n",
        "\n",
        " ALREADY IN SET \n",
        "\n",
        "Against the Mob | The American Conservative\n"
       ]
      },
      {
       "output_type": "stream",
       "stream": "stdout",
       "text": [
        "\n",
        "\n",
        " ALREADY IN SET \n",
        "\n",
        "Eric Garner & Police Brutality | The American Conservative\n"
       ]
      },
      {
       "output_type": "stream",
       "stream": "stdout",
       "text": [
        "\n",
        "\n",
        " ALREADY IN SET \n",
        "\n",
        "Ferguson Is Not Palestine | The American Conservative\n"
       ]
      },
      {
       "output_type": "stream",
       "stream": "stdout",
       "text": [
        "\n",
        "\n",
        " ALREADY IN SET \n",
        "\n",
        "Content not text, or article not relevant.\n"
       ]
      },
      {
       "output_type": "stream",
       "stream": "stdout",
       "text": [
        "\n",
        "The Greatly Overrated Rubio | The American Conservative\n"
       ]
      },
      {
       "output_type": "stream",
       "stream": "stdout",
       "text": [
        "\n",
        "\n",
        " ALREADY IN SET \n",
        "\n",
        "Democratic Party Disappears in South | The American Conservative\n"
       ]
      },
      {
       "output_type": "stream",
       "stream": "stdout",
       "text": [
        "\n",
        "\n",
        " ALREADY IN SET \n",
        "\n",
        "COIN Is a Proven Failure | The American Conservative\n"
       ]
      },
      {
       "output_type": "stream",
       "stream": "stdout",
       "text": [
        "\n",
        "\n",
        " ALREADY IN SET \n",
        "\n",
        "U.S. Public Opinion and Israel/Palestine | The American Conservative\n"
       ]
      },
      {
       "output_type": "stream",
       "stream": "stdout",
       "text": [
        "\n",
        "\n",
        " ALREADY IN SET \n",
        "\n",
        "Star Wars and Politics | The American Conservative\n"
       ]
      },
      {
       "output_type": "stream",
       "stream": "stdout",
       "text": [
        "\n",
        "\n",
        " ALREADY IN SET \n",
        "\n",
        "Content not text, or article not relevant.\n"
       ]
      },
      {
       "output_type": "stream",
       "stream": "stdout",
       "text": [
        "\n",
        "Enlightenment or Endarkenment? | The American Conservative\n"
       ]
      },
      {
       "output_type": "stream",
       "stream": "stdout",
       "text": [
        "\n",
        "\n",
        " ALREADY IN SET \n",
        "\n",
        "The American Conservative\n"
       ]
      },
      {
       "output_type": "stream",
       "stream": "stdout",
       "text": [
        "\n",
        "\n",
        " ALREADY IN SET \n",
        "\n",
        "Content not text, or article not relevant.\n"
       ]
      },
      {
       "output_type": "stream",
       "stream": "stdout",
       "text": [
        "\n",
        "No Tears For TNR | The American Conservative\n"
       ]
      },
      {
       "output_type": "stream",
       "stream": "stdout",
       "text": [
        "\n",
        "Content not text, or article not relevant.\n"
       ]
      },
      {
       "output_type": "stream",
       "stream": "stdout",
       "text": [
        "\n",
        "The Senate Torture Report and Foreign Policy | The American Conservative\n"
       ]
      },
      {
       "output_type": "stream",
       "stream": "stdout",
       "text": [
        "\n",
        "\n",
        " ALREADY IN SET \n",
        "\n",
        "Untrue? So What; It\u2019s Useful | The American Conservative\n"
       ]
      },
      {
       "output_type": "stream",
       "stream": "stdout",
       "text": [
        "\n",
        "\n",
        " ALREADY IN SET \n",
        "\n",
        "A Reply to Rush Limbaugh - Mona Charen -  Page full\n"
       ]
      },
      {
       "output_type": "stream",
       "stream": "stdout",
       "text": [
        "\n",
        "North Korea: It's a \"False Rumor\" We Hacked Sony, Okay? - Daniel Doherty \n"
       ]
      },
      {
       "output_type": "stream",
       "stream": "stdout",
       "text": [
        "\n",
        "\n",
        " ALREADY IN SET \n",
        "\n",
        "Dumb Policies Frustrate Benefits of Falling Oil Prices - Peter Morici - Townhall Finance Conservative Columnists and Financial Commentary - Page full\n"
       ]
      },
      {
       "output_type": "stream",
       "stream": "stdout",
       "text": [
        "\n",
        "Federal Lawsuit Could Stop Obama's Amnesty Before It Starts - Conn Carroll \n"
       ]
      },
      {
       "output_type": "stream",
       "stream": "stdout",
       "text": [
        "\n",
        "\n",
        " ALREADY IN SET \n",
        "\n",
        "You Don't Have to Love Your Parents: The Case for the Ten Commandments - Dennis Prager -  Page full\n"
       ]
      },
      {
       "output_type": "stream",
       "stream": "stdout",
       "text": [
        "\n",
        "\r\n",
        "\tPolitical Cartoons - Political Humor, Jokes, and Pictures, Obama, Palin ~ December 8, 2014 - 125592\r\n",
        "\n"
       ]
      },
      {
       "output_type": "stream",
       "stream": "stdout",
       "text": [
        "\n",
        "\n",
        " ALREADY IN SET \n",
        "\n",
        "A Russophobic Rant From Congress - Pat Buchanan -  Page full\n"
       ]
      },
      {
       "output_type": "stream",
       "stream": "stdout",
       "text": [
        "\n",
        "Standard Practice - Bill Murchison -  Page full\n"
       ]
      },
      {
       "output_type": "stream",
       "stream": "stdout",
       "text": [
        "\n",
        "Nebraska\u2019s \u2018Teflon governor\u2019 Heineman leaves under cloud of scandals - Deena Winter\n"
       ]
      },
      {
       "output_type": "stream",
       "stream": "stdout",
       "text": [
        "\n",
        "\n",
        " ALREADY IN SET \n",
        "\n",
        "Your Screwed Up Life Is Your Own Responsibility - John Hawkins -  Page full\n"
       ]
      },
      {
       "output_type": "stream",
       "stream": "stdout",
       "text": [
        "\n",
        "The Tree of National Socialism  - Bill Tatro - Townhall Finance Conservative Columnists and Financial Commentary - Page full\n"
       ]
      },
      {
       "output_type": "stream",
       "stream": "stdout",
       "text": [
        "\n",
        "Columbia Law School to Postpone Exams for Students Upset By Recent Grand Jury Decisions  - Christine Rousselle \n"
       ]
      },
      {
       "output_type": "stream",
       "stream": "stdout",
       "text": [
        "\n",
        "\n",
        " ALREADY IN SET \n",
        "\n",
        "British & American Christianity: \u201cDenial and Inertia\u201d No Match for \u201cResolute Wickedness\u201d - Bethany Blankley -  Page full\n"
       ]
      },
      {
       "output_type": "stream",
       "stream": "stdout",
       "text": [
        "\n",
        "\n",
        " ALREADY IN SET \n",
        "\n",
        "Mid-Terms 2014 - RIP - Rich Galen -  Page full\n"
       ]
      },
      {
       "output_type": "stream",
       "stream": "stdout",
       "text": [
        "\n",
        "\n",
        " ALREADY IN SET \n",
        "\n",
        "Poll: Americans Favor Suing Obama For Immigration Overhaul - Sarah Jean Seman \n"
       ]
      },
      {
       "output_type": "stream",
       "stream": "stdout",
       "text": [
        "\n",
        "\n",
        " ALREADY IN SET \n",
        "\n",
        "Reaching for the Sky - Charles Payne - Townhall Finance Conservative Columnists and Financial Commentary - Page full\n"
       ]
      },
      {
       "output_type": "stream",
       "stream": "stdout",
       "text": [
        "\n",
        "Iran Criticizes US for 'Practice of Racism and Inhumane Behavior'  - Leah Barkoukis \n"
       ]
      },
      {
       "output_type": "stream",
       "stream": "stdout",
       "text": [
        "\n",
        "\n",
        " ALREADY IN SET \n",
        "\n",
        "Don't Look for Much Emphasis on Abortion in the 2016 Campaign - Michael Barone -  Page full\n"
       ]
      },
      {
       "output_type": "stream",
       "stream": "stdout",
       "text": [
        "\n",
        "Obamacare's Destruction of Primary Care Doctors Continues  - Katie Pavlich \n"
       ]
      },
      {
       "output_type": "stream",
       "stream": "stdout",
       "text": [
        "\n",
        "\n",
        " ALREADY IN SET \n",
        "\n",
        "Conservatives Need to Re-establish Control of Party and Nation - David Limbaugh -  Page full\n"
       ]
      },
      {
       "output_type": "stream",
       "stream": "stdout",
       "text": [
        "\n",
        "The War Between Disparate Impact and Equal Protection Continues - Ilya Shapiro -  Page full\n"
       ]
      },
      {
       "output_type": "stream",
       "stream": "stdout",
       "text": [
        "\n",
        " Rep. Paul Ryan's Hope for a Congress That Works - Cal  Thomas -  Page full\n"
       ]
      },
      {
       "output_type": "stream",
       "stream": "stdout",
       "text": [
        "\n",
        "December 7, 2014: Hillary\u2019s Day of Infamy - Ken Blackwell -  Page full\n"
       ]
      },
      {
       "output_type": "stream",
       "stream": "stdout",
       "text": [
        "\n",
        "Christmas Books - Thomas Sowell -  Page full\n"
       ]
      },
      {
       "output_type": "stream",
       "stream": "stdout",
       "text": [
        "\n",
        "Mayor used about $7,000 in taxpayer money to retrieve new car, audit says - Chris Butler\n"
       ]
      },
      {
       "output_type": "stream",
       "stream": "stdout",
       "text": [
        "\n",
        "\n",
        " ALREADY IN SET \n",
        "\n",
        "The High Cost of Fast Track - Phyllis Schlafly -  Page full\n"
       ]
      },
      {
       "output_type": "stream",
       "stream": "stdout",
       "text": [
        "\n",
        "Like Louie Zamperini\u2019s Survival, \u2018Unbroken\u2019 Film Took Years of Patience, Endurance  - Cortney O'Brien \n"
       ]
      },
      {
       "output_type": "stream",
       "stream": "stdout",
       "text": [
        "\n",
        "\n",
        " ALREADY IN SET \n",
        "\n",
        "Americans Hate a Loser, GOP - John Ransom - Townhall Finance Conservative Columnists and Financial Commentary - Page full\n"
       ]
      },
      {
       "output_type": "stream",
       "stream": "stdout",
       "text": [
        "\n",
        "\n",
        " ALREADY IN SET \n",
        "\n",
        "Government Coercion Is the Common Link between Nazism, Communism, and other forms of Socialism  - Daniel J. Mitchell - Townhall Finance Conservative Columnists and Financial Commentary - Page full\n"
       ]
      },
      {
       "output_type": "stream",
       "stream": "stdout",
       "text": [
        "\n",
        "11 Law Enforcement Officers Killed - Chuck Norris -  Page full\n"
       ]
      },
      {
       "output_type": "stream",
       "stream": "stdout",
       "text": [
        "\n",
        "Bloomberg Poll: In Early Horse-Race, Smooth Sailing for Hillary? - Daniel Doherty \n"
       ]
      },
      {
       "output_type": "stream",
       "stream": "stdout",
       "text": [
        "\n",
        "\n",
        " ALREADY IN SET \n",
        "\n",
        "Coming Soon: Barbara Boxer's Retirement Announcement? - Guy Benson \n"
       ]
      },
      {
       "output_type": "stream",
       "stream": "stdout",
       "text": [
        "\n",
        "\n",
        " ALREADY IN SET \n",
        "\n",
        "Questioning the Architect of Obamacare Deception - Phil Kerpen -  Page full\n"
       ]
      },
      {
       "output_type": "stream",
       "stream": "stdout",
       "text": [
        "\n",
        "\n",
        " ALREADY IN SET \n",
        "\n",
        "Will a Divided Government Work for Millennials? - Corie  Stephens -  Page full\n"
       ]
      },
      {
       "output_type": "stream",
       "stream": "stdout",
       "text": [
        "\n",
        "\n",
        " ALREADY IN SET \n",
        "\n",
        "Attacks on juvenile detention staff skyrocket after policy change - Arthur Kane\n"
       ]
      },
      {
       "output_type": "stream",
       "stream": "stdout",
       "text": [
        "\n",
        "\n",
        " ALREADY IN SET \n",
        "\n",
        "Fannie and Freddie Resume Their Sub-Prime Mortgage Scheme  - Mike Shedlock - Townhall Finance Conservative Columnists and Financial Commentary - Page 1\n"
       ]
      },
      {
       "output_type": "stream",
       "stream": "stdout",
       "text": [
        "\n",
        "The Truth Behind The Swiss Gold Referendum  - Ralph Benko - Townhall Finance Conservative Columnists and Financial Commentary - Page full\n"
       ]
      },
      {
       "output_type": "stream",
       "stream": "stdout",
       "text": [
        "\n",
        "Is Law Optional? - Thomas Sowell -  Page full\n"
       ]
      },
      {
       "output_type": "stream",
       "stream": "stdout",
       "text": [
        "\n",
        "The Liberal Media And The Terrible, Horrible, No Good, Very Bad Week - Matt Vespa \n"
       ]
      },
      {
       "output_type": "stream",
       "stream": "stdout",
       "text": [
        "\n",
        "\n",
        " ALREADY IN SET \n",
        "\n",
        "House Chooses New Cold War With Russia - Ron Paul -  Page full\n"
       ]
      },
      {
       "output_type": "stream",
       "stream": "stdout",
       "text": [
        "\n",
        "\n",
        " ALREADY IN SET \n",
        "\n",
        "Liberal Politico asks: Will Jonathan Gruber Topple Obamacare?  - Nick Sorrentino - Townhall Finance Conservative Columnists and Financial Commentary - Page full\n"
       ]
      },
      {
       "output_type": "stream",
       "stream": "stdout",
       "text": [
        "\n",
        "Poverty Pimp On Display: Sharpton to Lead New Civil Rights Movement March on DC - Wayne Dupree -  Page full\n"
       ]
      },
      {
       "output_type": "stream",
       "stream": "stdout",
       "text": [
        "\n",
        "Iran to the Rescue  - Night Watch - Townhall Finance Conservative Columnists and Financial Commentary - Page full\n"
       ]
      },
      {
       "output_type": "stream",
       "stream": "stdout",
       "text": [
        "\n",
        "A 2014 Gift of the Magi - Tom Purcell -  Page full\n"
       ]
      },
      {
       "output_type": "stream",
       "stream": "stdout",
       "text": [
        "\n",
        "\n",
        " ALREADY IN SET \n",
        "\n",
        "What China's Army-issue underwear reveals - CSMonitor.com\n"
       ]
      },
      {
       "output_type": "stream",
       "stream": "stdout",
       "text": [
        "\n",
        "\n",
        " ALREADY IN SET \n",
        "\n",
        "Content not text, or article not relevant.\n"
       ]
      },
      {
       "output_type": "stream",
       "stream": "stdout",
       "text": [
        "\n",
        "Content not text, or article not relevant.\n"
       ]
      },
      {
       "output_type": "stream",
       "stream": "stdout",
       "text": [
        "\n",
        "Did the moon once contain a dynamo? - CSMonitor.com\n"
       ]
      },
      {
       "output_type": "stream",
       "stream": "stdout",
       "text": [
        "\n",
        "\n",
        " ALREADY IN SET \n",
        "\n",
        "Nicole Wong on how big data could change the way we live - CSMonitor.com\n"
       ]
      },
      {
       "output_type": "stream",
       "stream": "stdout",
       "text": [
        "\n",
        "\n",
        " ALREADY IN SET \n",
        "\n",
        "Content not text, or article not relevant.\n"
       ]
      },
      {
       "output_type": "stream",
       "stream": "stdout",
       "text": [
        "\n",
        "Content not text, or article not relevant.\n"
       ]
      },
      {
       "output_type": "stream",
       "stream": "stdout",
       "text": [
        "\n",
        "Despite failed raid, US likely to stand by its no-ransom policy for hostages - CSMonitor.com\n"
       ]
      },
      {
       "output_type": "stream",
       "stream": "stdout",
       "text": [
        "\n",
        "\n",
        " ALREADY IN SET \n"
       ]
      },
      {
       "output_type": "stream",
       "stream": "stdout",
       "text": [
        "\n",
        "Content not text, or article not relevant.\n"
       ]
      },
      {
       "output_type": "stream",
       "stream": "stdout",
       "text": [
        "\n",
        "Molly Sauter\u2019s quest to make political DDoS legitimate - CSMonitor.com\n"
       ]
      },
      {
       "output_type": "stream",
       "stream": "stdout",
       "text": [
        "\n",
        "\n",
        " ALREADY IN SET \n",
        "\n",
        "Symbolic 'end' to Afghanistan war overshadowed by new Obama plans - CSMonitor.com\n"
       ]
      },
      {
       "output_type": "stream",
       "stream": "stdout",
       "text": [
        "\n",
        "\n",
        " ALREADY IN SET \n",
        "\n",
        "Content not text, or article not relevant.\n"
       ]
      },
      {
       "output_type": "stream",
       "stream": "stdout",
       "text": [
        "\n",
        "Grumpy Cat made nearly $100 million? Not quite, owner says. - CSMonitor.com\n"
       ]
      },
      {
       "output_type": "stream",
       "stream": "stdout",
       "text": [
        "\n",
        "\n",
        " ALREADY IN SET \n",
        "\n",
        "Possibility unbound: 25 years of progress for those with disability - CSMonitor.com\n"
       ]
      },
      {
       "output_type": "stream",
       "stream": "stdout",
       "text": [
        "\n",
        "\n",
        " ALREADY IN SET \n",
        "\n",
        "Time to leave the nest? Japan's Abe pushes youths to head overseas - CSMonitor.com\n"
       ]
      },
      {
       "output_type": "stream",
       "stream": "stdout",
       "text": [
        "\n",
        "\n",
        " ALREADY IN SET \n",
        "\n",
        "Content not text, or article not relevant.\n"
       ]
      },
      {
       "output_type": "stream",
       "stream": "stdout",
       "text": [
        "\n",
        "The new ethics of eating - CSMonitor.com\n"
       ]
      },
      {
       "output_type": "stream",
       "stream": "stdout",
       "text": [
        "\n",
        "\n",
        " ALREADY IN SET \n",
        "\n",
        "Caring for our food at its source - CSMonitor.com\n"
       ]
      },
      {
       "output_type": "stream",
       "stream": "stdout",
       "text": [
        "\n",
        "\n",
        " ALREADY IN SET \n",
        "\n",
        "Content not text, or article not relevant.\n"
       ]
      },
      {
       "output_type": "stream",
       "stream": "stdout",
       "text": [
        "\n",
        "Could you pass a citizenship test? States may make it graduation requirement. - CSMonitor.com\n"
       ]
      },
      {
       "output_type": "stream",
       "stream": "stdout",
       "text": [
        "\n",
        "\n",
        " ALREADY IN SET \n",
        "\n",
        "Content not text, or article not relevant.\n"
       ]
      },
      {
       "output_type": "stream",
       "stream": "stdout",
       "text": [
        "\n",
        "Content not text, or article not relevant.\n"
       ]
      },
      {
       "output_type": "stream",
       "stream": "stdout",
       "text": [
        "\n",
        "Content not text, or article not relevant.\n"
       ]
      },
      {
       "output_type": "stream",
       "stream": "stdout",
       "text": [
        "\n",
        "Content not text, or article not relevant.\n"
       ]
      },
      {
       "output_type": "stream",
       "stream": "stdout",
       "text": [
        "\n",
        "India rape case: Does Uber know who's driving? - CSMonitor.com\n"
       ]
      },
      {
       "output_type": "stream",
       "stream": "stdout",
       "text": [
        "\n",
        "\n",
        " ALREADY IN SET \n",
        "\n",
        "Content not text, or article not relevant.\n"
       ]
      },
      {
       "output_type": "stream",
       "stream": "stdout",
       "text": [
        "\n",
        "Failed hostage raid in Yemen: why there'll be more rescues to come - CSMonitor.com\n"
       ]
      },
      {
       "output_type": "stream",
       "stream": "stdout",
       "text": [
        "\n",
        "\n",
        " ALREADY IN SET \n",
        "\n",
        "Peter Schumann's puppets speak out on big issues - CSMonitor.com\n"
       ]
      },
      {
       "output_type": "stream",
       "stream": "stdout",
       "text": [
        "\n",
        "\n",
        " ALREADY IN SET \n",
        "\n",
        "Content not text, or article not relevant.\n"
       ]
      },
      {
       "output_type": "stream",
       "stream": "stdout",
       "text": [
        "\n",
        "South Stream loses steam; Oil prices keep plunging; Optimism at Lima [Recharge] - CSMonitor.com\n"
       ]
      },
      {
       "output_type": "stream",
       "stream": "stdout",
       "text": [
        "\n",
        "\n",
        " ALREADY IN SET \n",
        "\n",
        "'Historic' Los Angeles fire engulfs city block - CSMonitor.com\n"
       ]
      },
      {
       "output_type": "stream",
       "stream": "stdout",
       "text": [
        "\n",
        "\n",
        " ALREADY IN SET \n",
        "\n",
        "Content not text, or article not relevant.\n"
       ]
      },
      {
       "output_type": "stream",
       "stream": "stdout",
       "text": [
        "\n",
        "Content not text, or article not relevant.\n"
       ]
      },
      {
       "output_type": "stream",
       "stream": "stdout",
       "text": [
        "\n",
        "UN reports Israeli support for Syria rebels - CSMonitor.com\n"
       ]
      },
      {
       "output_type": "stream",
       "stream": "stdout",
       "text": [
        "\n",
        "\n",
        " ALREADY IN SET \n",
        "\n",
        "Content not text, or article not relevant.\n"
       ]
      },
      {
       "output_type": "stream",
       "stream": "stdout",
       "text": [
        "\n",
        "Mitch McConnell's big test - CSMonitor.com\n"
       ]
      },
      {
       "output_type": "stream",
       "stream": "stdout",
       "text": [
        "\n",
        "\n",
        " ALREADY IN SET \n",
        "\n",
        "'War and Peace' will air on British radio on New Year's Day - CSMonitor.com\n"
       ]
      },
      {
       "output_type": "stream",
       "stream": "stdout",
       "text": [
        "\n",
        "\n",
        " ALREADY IN SET \n",
        "\n",
        "Content not text, or article not relevant.\n"
       ]
      },
      {
       "output_type": "stream",
       "stream": "stdout",
       "text": [
        "\n",
        "McDonald's tries out customizable burger menus as sales slide - CSMonitor.com\n"
       ]
      },
      {
       "output_type": "stream",
       "stream": "stdout",
       "text": [
        "\n",
        "\n",
        " ALREADY IN SET \n",
        "\n",
        "A light on Iran's dark powers - CSMonitor.com\n"
       ]
      },
      {
       "output_type": "stream",
       "stream": "stdout",
       "text": [
        "\n",
        "\n",
        " ALREADY IN SET \n",
        "\n",
        "How to fix police-black distrust - CSMonitor.com\n"
       ]
      },
      {
       "output_type": "stream",
       "stream": "stdout",
       "text": [
        "\n",
        "\n",
        " ALREADY IN SET \n",
        "\n",
        "Inventor hopes to clean the air with giant purifiers - CSMonitor.com\n"
       ]
      },
      {
       "output_type": "stream",
       "stream": "stdout",
       "text": [
        "\n",
        "\n",
        " ALREADY IN SET \n",
        "\n",
        "Fallujah anniversary: Tracking down the US Marine 'Death Dealers' - CSMonitor.com\n"
       ]
      },
      {
       "output_type": "stream",
       "stream": "stdout",
       "text": [
        "\n",
        "\n",
        " ALREADY IN SET \n",
        "\n",
        "Content not text, or article not relevant.\n"
       ]
      },
      {
       "output_type": "stream",
       "stream": "stdout",
       "text": [
        "\n",
        "Do you understand the Syria conflict? Take the quiz. - Muslim Brotherhood - CSMonitor.com\n"
       ]
      },
      {
       "output_type": "stream",
       "stream": "stdout",
       "text": [
        "\n",
        "\n",
        " ALREADY IN SET \n"
       ]
      },
      {
       "output_type": "stream",
       "stream": "stdout",
       "text": [
        "\n",
        "Justice Department's new racial profiling policy should go further, some say - CSMonitor.com\n"
       ]
      },
      {
       "output_type": "stream",
       "stream": "stdout",
       "text": [
        "\n",
        "\n",
        " ALREADY IN SET \n",
        "\n",
        "How to fix Congress: Two former Senate leaders give their repair list - CSMonitor.com\n"
       ]
      },
      {
       "output_type": "stream",
       "stream": "stdout",
       "text": [
        "\n",
        "\n",
        " ALREADY IN SET \n",
        "\n",
        "Content not text, or article not relevant.\n"
       ]
      },
      {
       "output_type": "stream",
       "stream": "stdout",
       "text": [
        "\n",
        "Amid Rolling Stone fallout, will college women be reluctant to report rape? - CSMonitor.com\n"
       ]
      },
      {
       "output_type": "stream",
       "stream": "stdout",
       "text": [
        "\n",
        "\n",
        " ALREADY IN SET \n",
        "\n",
        "Content not text, or article not relevant.\n"
       ]
      },
      {
       "output_type": "stream",
       "stream": "stdout",
       "text": [
        "\n",
        "Content not text, or article not relevant.\n"
       ]
      },
      {
       "output_type": "stream",
       "stream": "stdout",
       "text": [
        "\n",
        "Why Elon Musk's space agency is hiring a farmer - CSMonitor.com\n"
       ]
      },
      {
       "output_type": "stream",
       "stream": "stdout",
       "text": [
        "\n",
        "\n",
        " ALREADY IN SET \n",
        "\n",
        "Content not text, or article not relevant.\n"
       ]
      },
      {
       "output_type": "stream",
       "stream": "stdout",
       "text": [
        "\n",
        "A decade after a devastating tsunami, new forests protect Indonesia's coast - CSMonitor.com\n"
       ]
      },
      {
       "output_type": "stream",
       "stream": "stdout",
       "text": [
        "\n",
        "\n",
        " ALREADY IN SET \n",
        "\n",
        "Content not text, or article not relevant.\n"
       ]
      },
      {
       "output_type": "stream",
       "stream": "stdout",
       "text": [
        "\n",
        "Elon Musk says SpaceX has a 50 percent chance of landing a rocket on floating platform - CSMonitor.com\n"
       ]
      },
      {
       "output_type": "stream",
       "stream": "stdout",
       "text": [
        "\n",
        "\n",
        " ALREADY IN SET \n",
        "\n",
        "Content not text, or article not relevant.\n"
       ]
      },
      {
       "output_type": "stream",
       "stream": "stdout",
       "text": [
        "\n",
        "What Do Illegal Immigrants Want? | The Weekly Standard\n"
       ]
      },
      {
       "output_type": "stream",
       "stream": "stdout",
       "text": [
        "\n",
        "\n",
        " ALREADY IN SET \n",
        "\n",
        "No Justification | The Weekly Standard\n"
       ]
      },
      {
       "output_type": "stream",
       "stream": "stdout",
       "text": [
        "\n",
        "\n",
        " ALREADY IN SET \n",
        "\n",
        "Schiele\u2019s Faces    | The Weekly Standard\n"
       ]
      },
      {
       "output_type": "stream",
       "stream": "stdout",
       "text": [
        "\n",
        "\n",
        " ALREADY IN SET \n",
        "\n",
        "As the World Turns | The Weekly Standard\n"
       ]
      },
      {
       "output_type": "stream",
       "stream": "stdout",
       "text": [
        "\n",
        "\n",
        " ALREADY IN SET \n",
        "\n",
        "Beyond the Barricades  | The Weekly Standard\n"
       ]
      },
      {
       "output_type": "stream",
       "stream": "stdout",
       "text": [
        "\n",
        "\n",
        " ALREADY IN SET \n",
        "\n",
        "The Incredible Shrinking SecDef | The Weekly Standard\n"
       ]
      },
      {
       "output_type": "stream",
       "stream": "stdout",
       "text": [
        "\n",
        "\n",
        " ALREADY IN SET \n",
        "\n",
        "Menendez vs. the White House | The Weekly Standard\n"
       ]
      },
      {
       "output_type": "stream",
       "stream": "stdout",
       "text": [
        "\n",
        "\n",
        " ALREADY IN SET \n",
        "\n",
        "Catching the Wave | The Weekly Standard\n"
       ]
      },
      {
       "output_type": "stream",
       "stream": "stdout",
       "text": [
        "\n",
        "\n",
        " ALREADY IN SET \n",
        "\n",
        "Selling Cigs Kills | The Weekly Standard\n"
       ]
      },
      {
       "output_type": "stream",
       "stream": "stdout",
       "text": [
        "\n",
        "\n",
        " ALREADY IN SET \n",
        "\n",
        "Sermons for the King | The Weekly Standard\n"
       ]
      },
      {
       "output_type": "stream",
       "stream": "stdout",
       "text": [
        "\n",
        "\n",
        " ALREADY IN SET \n",
        "\n",
        "The Benghazi Report | The Weekly Standard\n"
       ]
      },
      {
       "output_type": "stream",
       "stream": "stdout",
       "text": [
        "\n",
        "\n",
        " ALREADY IN SET \n",
        "\n",
        "Here the Word   | The Weekly Standard\n"
       ]
      },
      {
       "output_type": "stream",
       "stream": "stdout",
       "text": [
        "\n",
        "\n",
        " ALREADY IN SET \n",
        "\n",
        "Mistress of Murder    | The Weekly Standard\n"
       ]
      },
      {
       "output_type": "stream",
       "stream": "stdout",
       "text": [
        "\n",
        "\n",
        " ALREADY IN SET \n",
        "\n",
        "Churchill on the Hill | The Weekly Standard\n"
       ]
      },
      {
       "output_type": "stream",
       "stream": "stdout",
       "text": [
        "\n",
        "\n",
        " ALREADY IN SET \n",
        "\n",
        "Strait Man | The Weekly Standard\n"
       ]
      },
      {
       "output_type": "stream",
       "stream": "stdout",
       "text": [
        "\n",
        "\n",
        " ALREADY IN SET \n",
        "\n",
        "Obama Negativa  | The Weekly Standard\n"
       ]
      },
      {
       "output_type": "stream",
       "stream": "stdout",
       "text": [
        "\n",
        "\n",
        " ALREADY IN SET \n",
        "\n",
        "A New Name for a Tired Theory | The Weekly Standard\n"
       ]
      },
      {
       "output_type": "stream",
       "stream": "stdout",
       "text": [
        "\n",
        "\n",
        " ALREADY IN SET \n",
        "\n",
        "Wrestlers and Brothers  | The Weekly Standard\n"
       ]
      },
      {
       "output_type": "stream",
       "stream": "stdout",
       "text": [
        "\n",
        "\n",
        " ALREADY IN SET \n",
        "\n",
        "Hartache | The Weekly Standard\n"
       ]
      },
      {
       "output_type": "stream",
       "stream": "stdout",
       "text": [
        "\n",
        "\n",
        " ALREADY IN SET \n",
        "\n",
        "Into the Valley  | The Weekly Standard\n"
       ]
      },
      {
       "output_type": "stream",
       "stream": "stdout",
       "text": [
        "\n",
        "\n",
        " ALREADY IN SET \n",
        "\n",
        "Kevorkian\u2019s Vision | The Weekly Standard\n"
       ]
      },
      {
       "output_type": "stream",
       "stream": "stdout",
       "text": [
        "\n",
        "\n",
        " ALREADY IN SET \n",
        "\n",
        "Did He Jump, or Was He Pushed? | The Weekly Standard\n"
       ]
      },
      {
       "output_type": "stream",
       "stream": "stdout",
       "text": [
        "\n",
        "\n",
        " ALREADY IN SET \n",
        "\n",
        "On a Roll  | The Weekly Standard\n"
       ]
      },
      {
       "output_type": "stream",
       "stream": "stdout",
       "text": [
        "\n",
        "\n",
        " ALREADY IN SET \n",
        "\n",
        "Stormin\u2019 Norman   | The Weekly Standard\n"
       ]
      },
      {
       "output_type": "stream",
       "stream": "stdout",
       "text": [
        "\n",
        "\n",
        " ALREADY IN SET \n",
        "\n",
        "A Solution for Cities on the Brink of Bankruptcy | The American Spectator\n"
       ]
      },
      {
       "output_type": "stream",
       "stream": "stdout",
       "text": [
        "\n",
        "\n",
        " ALREADY IN SET \n",
        "\n",
        "Mad Sounding Meds: Is This Any Way to Treat a Condition? | The American Spectator\n"
       ]
      },
      {
       "output_type": "stream",
       "stream": "stdout",
       "text": [
        "\n",
        "\n",
        " ALREADY IN SET \n",
        "\n",
        "The Shock of Christmas | The American Spectator\n"
       ]
      },
      {
       "output_type": "stream",
       "stream": "stdout",
       "text": [
        "\n",
        "\n",
        " ALREADY IN SET \n",
        "\n",
        "America\u2019s \u2018Other\u2019 Inequality | The American Spectator\n"
       ]
      },
      {
       "output_type": "stream",
       "stream": "stdout",
       "text": [
        "\n",
        "\n",
        " ALREADY IN SET \n",
        "\n",
        "The Gift Shop of the Dead | The American Spectator\n"
       ]
      },
      {
       "output_type": "stream",
       "stream": "stdout",
       "text": [
        "\n",
        "\n",
        " ALREADY IN SET \n",
        "\n",
        "Net Neutrality Compromises the Internet\u2019s Future  | The American Spectator\n"
       ]
      },
      {
       "output_type": "stream",
       "stream": "stdout",
       "text": [
        "\n",
        "\n",
        " ALREADY IN SET \n",
        "\n",
        "Something Sick Is Happening | The American Spectator\n"
       ]
      },
      {
       "output_type": "stream",
       "stream": "stdout",
       "text": [
        "\n",
        "\n",
        " ALREADY IN SET \n",
        "\n",
        "California Faces Death by Pension | The American Spectator\n"
       ]
      },
      {
       "output_type": "stream",
       "stream": "stdout",
       "text": [
        "\n",
        "\n",
        " ALREADY IN SET \n",
        "\n",
        "Piling New Regulations Atop Unworkable Older Ones | The American Spectator\n"
       ]
      },
      {
       "output_type": "stream",
       "stream": "stdout",
       "text": [
        "\n",
        "\n",
        " ALREADY IN SET \n",
        "\n",
        "How Sovereign Patent Trolls Threaten Free Trade  | The American Spectator\n"
       ]
      },
      {
       "output_type": "stream",
       "stream": "stdout",
       "text": [
        "\n",
        "\n",
        " ALREADY IN SET \n",
        "\n",
        "Ferguson in Black and White | The American Spectator\n"
       ]
      },
      {
       "output_type": "stream",
       "stream": "stdout",
       "text": [
        "\n",
        "\n",
        " ALREADY IN SET \n",
        "\n",
        "The Missing Hurricanes | The American Spectator\n"
       ]
      },
      {
       "output_type": "stream",
       "stream": "stdout",
       "text": [
        "\n",
        "\n",
        " ALREADY IN SET \n",
        "\n",
        "Goodbye to a Man Who Saved His Country | The American Spectator\n"
       ]
      },
      {
       "output_type": "stream",
       "stream": "stdout",
       "text": [
        "\n",
        "\n",
        " ALREADY IN SET \n",
        "\n",
        "The Cautionary Tale of Elizabeth Lauten | The American Spectator\n"
       ]
      },
      {
       "output_type": "stream",
       "stream": "stdout",
       "text": [
        "\n",
        "\n",
        " ALREADY IN SET \n"
       ]
      },
      {
       "output_type": "stream",
       "stream": "stdout",
       "text": [
        "\n",
        "Don\u2019t Misunderstand: I Like Prince Charles | The American Spectator\n"
       ]
      },
      {
       "output_type": "stream",
       "stream": "stdout",
       "text": [
        "\n",
        "\n",
        " ALREADY IN SET \n",
        "\n",
        "Thanks, Hirohito, We Needed That | The American Spectator\n"
       ]
      },
      {
       "output_type": "stream",
       "stream": "stdout",
       "text": [
        "\n",
        "\n",
        " ALREADY IN SET \n",
        "\n",
        "The Rehabilitation of Rick Perry | The American Spectator\n"
       ]
      },
      {
       "output_type": "stream",
       "stream": "stdout",
       "text": [
        "\n",
        "\n",
        " ALREADY IN SET \n",
        "\n",
        "Eric Garner, Tax Martyr | The American Spectator\n"
       ]
      },
      {
       "output_type": "stream",
       "stream": "stdout",
       "text": [
        "\n",
        "\n",
        " ALREADY IN SET \n",
        "\n",
        "The Glory of the Old Days | The American Spectator\n"
       ]
      },
      {
       "output_type": "stream",
       "stream": "stdout",
       "text": [
        "\n",
        "\n",
        " ALREADY IN SET \n",
        "\n",
        "How Newt Gingrich\u2019s Language Guru Helped Rebrand the Kochs' Message | Mother Jones\n"
       ]
      },
      {
       "output_type": "stream",
       "stream": "stdout",
       "text": [
        "\n",
        "\n",
        " ALREADY IN SET \n",
        "\n",
        "The Freedom Tower Was Supposed to Be the Greenest Building in America. So What Went Wrong? | Mother Jones\n"
       ]
      },
      {
       "output_type": "stream",
       "stream": "stdout",
       "text": [
        "\n",
        "\n",
        " ALREADY IN SET \n",
        "\n",
        "Here's the Pentagon's Report of Michael Brown's Autopsy | Mother Jones\n"
       ]
      },
      {
       "output_type": "stream",
       "stream": "stdout",
       "text": [
        "\n",
        "\n",
        " ALREADY IN SET \n",
        "\n",
        "The Koch 130 | Mother Jones\n"
       ]
      },
      {
       "output_type": "stream",
       "stream": "stdout",
       "text": [
        "\n",
        "\n",
        " ALREADY IN SET \n",
        "\n",
        "Map: The United States of Legal Weed | Mother Jones\n"
       ]
      },
      {
       "output_type": "stream",
       "stream": "stdout",
       "text": [
        "\n",
        "\n",
        " ALREADY IN SET \n",
        "\n",
        "Don't Let the Rolling Stone Controversy Distract You From the Campus Rape Epidemic | Mother Jones\n"
       ]
      },
      {
       "output_type": "stream",
       "stream": "stdout",
       "text": [
        "\n",
        "\n",
        " ALREADY IN SET \n",
        "\n",
        "Bill de Blasio Explains Why  Encounters with Police Are \"Different for a White Child\"  | Mother Jones\n"
       ]
      },
      {
       "output_type": "stream",
       "stream": "stdout",
       "text": [
        "\n",
        "\n",
        " ALREADY IN SET \n",
        "\n",
        "New Study: California's Epic Drought Probably Wasn't Caused by Climate Change | Mother Jones\n"
       ]
      },
      {
       "output_type": "stream",
       "stream": "stdout",
       "text": [
        "\n",
        "\n",
        " ALREADY IN SET \n",
        "\n",
        "American Lives Will Be Saved, Not Lost, If We Release the Senate Torture Report | Mother Jones\n"
       ]
      },
      {
       "output_type": "stream",
       "stream": "stdout",
       "text": [
        "\n",
        "\n",
        " ALREADY IN SET \n",
        "\n",
        "Content not text, or article not relevant.\n"
       ]
      },
      {
       "output_type": "stream",
       "stream": "stdout",
       "text": [
        "\n",
        "Rolling Stone Owes Readers, Jackie, and Survivors Everywhere An Explanation | Mother Jones\n"
       ]
      },
      {
       "output_type": "stream",
       "stream": "stdout",
       "text": [
        "\n",
        "\n",
        " ALREADY IN SET \n",
        "\n",
        "Thurgood Marshall Blasted Police for Killing Black Men With Chokeholds | Mother Jones\n"
       ]
      },
      {
       "output_type": "stream",
       "stream": "stdout",
       "text": [
        "\n",
        "\n",
        " ALREADY IN SET \n",
        "\n",
        "Is the Gates Foundation Still Investing in Private Prisons? | Mother Jones\n"
       ]
      },
      {
       "output_type": "stream",
       "stream": "stdout",
       "text": [
        "\n",
        "\n",
        " ALREADY IN SET \n",
        "\n",
        "The Science of Why Cops Shoot Young Black Men | Mother Jones\n"
       ]
      },
      {
       "output_type": "stream",
       "stream": "stdout",
       "text": [
        "\n",
        "\n",
        " ALREADY IN SET \n",
        "\n",
        "There Are No \"Terms of Service\" In War | Mother Jones\n"
       ]
      },
      {
       "output_type": "stream",
       "stream": "stdout",
       "text": [
        "\n",
        "\n",
        " ALREADY IN SET \n",
        "\n",
        "Women of Color and the Hidden Trauma of Police Brutality | The Nation\n"
       ]
      },
      {
       "output_type": "stream",
       "stream": "stdout",
       "text": [
        "\n",
        "An Open Letter To Charles Barkley | The Nation\n"
       ]
      },
      {
       "output_type": "stream",
       "stream": "stdout",
       "text": [
        "\n",
        "\n",
        " ALREADY IN SET \n"
       ]
      },
      {
       "output_type": "stream",
       "stream": "stdout",
       "text": [
        "\n",
        "Plugged Into the Socket of Life | The Nation\n"
       ]
      },
      {
       "output_type": "stream",
       "stream": "stdout",
       "text": [
        "\n",
        "\n",
        " ALREADY IN SET \n"
       ]
      },
      {
       "output_type": "stream",
       "stream": "stdout",
       "text": [
        "\n",
        "Our Public Education System Needs Transformation, Not \u2018Reform\u2019 | The Nation\n"
       ]
      },
      {
       "output_type": "stream",
       "stream": "stdout",
       "text": [
        "\n",
        "\n",
        " ALREADY IN SET \n",
        "\n",
        "No Exit in Gaza  | The Nation\n"
       ]
      },
      {
       "output_type": "stream",
       "stream": "stdout",
       "text": [
        "\n",
        "\n",
        " ALREADY IN SET \n",
        "\n",
        "We Don\u2019t Just Need Nicer Cops. We Need Fewer Cops. | The Nation\n"
       ]
      },
      {
       "output_type": "stream",
       "stream": "stdout",
       "text": [
        "\n",
        "\n",
        " ALREADY IN SET \n",
        "\n",
        "Imitations of Life | The Nation\n"
       ]
      },
      {
       "output_type": "stream",
       "stream": "stdout",
       "text": [
        "\n",
        "\n",
        " ALREADY IN SET \n",
        "\n",
        "Our Words, Our Selves | The Nation\n"
       ]
      },
      {
       "output_type": "stream",
       "stream": "stdout",
       "text": [
        "\n",
        "\n",
        " ALREADY IN SET \n",
        "\n",
        "Are Cities the Next Front in the Right\u2019s War on Labor? | The Nation\n"
       ]
      },
      {
       "output_type": "stream",
       "stream": "stdout",
       "text": [
        "\n",
        "\n",
        " ALREADY IN SET \n"
       ]
      },
      {
       "output_type": "stream",
       "stream": "stdout",
       "text": [
        "\n",
        "In Egypt\u2019s Growing Insurgency, Civilians Pay the Highest Price | The Nation\n"
       ]
      },
      {
       "output_type": "stream",
       "stream": "stdout",
       "text": [
        "\n",
        "\n",
        " ALREADY IN SET \n",
        "\n",
        "No Fate but Entropy | The Nation\n"
       ]
      },
      {
       "output_type": "stream",
       "stream": "stdout",
       "text": [
        "\n",
        "\n",
        " ALREADY IN SET \n",
        "\n",
        "Why Hagel\u2019s Departure Is a Victory For War Hawks  | The Nation\n"
       ]
      },
      {
       "output_type": "stream",
       "stream": "stdout",
       "text": [
        "\n",
        "\n",
        " ALREADY IN SET \n"
       ]
      },
      {
       "output_type": "stream",
       "stream": "stdout",
       "text": [
        "\n",
        "4 Reasons Keystone Really Matters | The Nation\n"
       ]
      },
      {
       "output_type": "stream",
       "stream": "stdout",
       "text": [
        "\n",
        "\n",
        " ALREADY IN SET \n",
        "\n",
        "Why It\u2019s Impossible to Indict a Cop | The Nation\n"
       ]
      },
      {
       "output_type": "stream",
       "stream": "stdout",
       "text": [
        "\n",
        "\n",
        " ALREADY IN SET \n"
       ]
      },
      {
       "output_type": "stream",
       "stream": "stdout",
       "text": [
        "\n",
        "Anti-Gay, Anti-Choice Children\u2019s AIDS Fund Still Raking In Taxpayer Money | The Nation\n"
       ]
      },
      {
       "output_type": "stream",
       "stream": "stdout",
       "text": [
        "\n",
        "\n",
        " ALREADY IN SET \n",
        "\n",
        "Removing tourists and objects from photos: Demonstration of easy Photoshop feature (VIDEO).  \n",
        "\n"
       ]
      },
      {
       "output_type": "stream",
       "stream": "stdout",
       "text": [
        "\n",
        "\n",
        " ALREADY IN SET \n",
        "\n",
        "Eric Garner, Daniel Pantaleo, and cop training: Police departments must explain why their officers\u2019 first instinct is the sudden use of force.\n"
       ]
      },
      {
       "output_type": "stream",
       "stream": "stdout",
       "text": [
        "\n",
        "\n",
        " ALREADY IN SET \n",
        "\n",
        "Conservative Case for Gay Marriage: How to talk to your antigay religious relatives about same-sex unions.\n"
       ]
      },
      {
       "output_type": "stream",
       "stream": "stdout",
       "text": [
        "\n",
        "Content not text, or article not relevant.\n"
       ]
      },
      {
       "output_type": "stream",
       "stream": "stdout",
       "text": [
        "\n",
        "Zero Motivation, directed by Talya Lavie, reviewed. \n"
       ]
      },
      {
       "output_type": "stream",
       "stream": "stdout",
       "text": [
        "\n",
        "\n",
        " ALREADY IN SET \n",
        "\n",
        "Israeli election: Don't assume Benjamin Netanyahu's job is safe.\n"
       ]
      },
      {
       "output_type": "stream",
       "stream": "stdout",
       "text": [
        "\n",
        "\n",
        " ALREADY IN SET \n",
        "\n",
        "Running calculator: Introducing Slate\u2019s marathon time predictor, a better way to calculate how fast you\u2019ll run.\u2028",
        "\n"
       ]
      },
      {
       "output_type": "stream",
       "stream": "stdout",
       "text": [
        "\n",
        "\n",
        " ALREADY IN SET \n",
        "\n",
        "Wild: Reese Witherspoon movie has a lot in common with \u201c10 Hours of Walking in NYC as a Woman\u201d (VIDEO).\n"
       ]
      },
      {
       "output_type": "stream",
       "stream": "stdout",
       "text": [
        "\n",
        "Time person of the year: Masoud Barzani is a cop-out. ISIS leader Abu Bakr al-Baghdadi was the most significant person of 2014.\n"
       ]
      },
      {
       "output_type": "stream",
       "stream": "stdout",
       "text": [
        "\n",
        "\n",
        " ALREADY IN SET \n",
        "\n",
        "SNL Ferguson sketch was cut: Watch James Franco, Kenan Thomspon, and Cecily Strong on Saturday Night Live (VIDEO).\n"
       ]
      },
      {
       "output_type": "stream",
       "stream": "stdout",
       "text": [
        "\n",
        "\n",
        " ALREADY IN SET \n",
        "\n",
        "Content not text, or article not relevant.\n"
       ]
      },
      {
       "output_type": "stream",
       "stream": "stdout",
       "text": [
        "\n",
        "Why is modern warfare so deadly for children?\n"
       ]
      },
      {
       "output_type": "stream",
       "stream": "stdout",
       "text": [
        "\n",
        "\n",
        " ALREADY IN SET \n",
        "\n",
        "Content not text, or article not relevant.\n"
       ]
      },
      {
       "output_type": "stream",
       "stream": "stdout",
       "text": [
        "\n",
        "Felix Salmon on Slate Money: I told listeners I\u2019d match their charity donations and ended up spending nearly $20,000.\n"
       ]
      },
      {
       "output_type": "stream",
       "stream": "stdout",
       "text": [
        "\n",
        "\n",
        " ALREADY IN SET \n",
        "\n",
        "Questionable adoptions, lobbying rewards, and dubious \u201cwork therapy\u201d: the best investigative reporting of the past week.\n"
       ]
      },
      {
       "output_type": "stream",
       "stream": "stdout",
       "text": [
        "\n",
        "\n",
        " ALREADY IN SET \n",
        "\n",
        "The Newsroom campus rape episode: Aaron Sorkin has no idea how to report rape stories.\n"
       ]
      },
      {
       "output_type": "stream",
       "stream": "stdout",
       "text": [
        "\n",
        "The New Republic\u2019s demise: The magazine\u2019s heterodox liberalism is what made it unique.\n"
       ]
      },
      {
       "output_type": "stream",
       "stream": "stdout",
       "text": [
        "\n",
        "\n",
        " ALREADY IN SET \n",
        "\n",
        "Ashton Carter may be a good defense secretary: Why does the United States have so few people qualified to run the Pentagon?\n"
       ]
      },
      {
       "output_type": "stream",
       "stream": "stdout",
       "text": [
        "\n",
        "\n",
        " ALREADY IN SET \n",
        "\n",
        "Dear Prudence: Is our sexy young nanny a temptation for my husband?\n"
       ]
      },
      {
       "output_type": "stream",
       "stream": "stdout",
       "text": [
        "\n",
        "\n",
        " ALREADY IN SET \n",
        "\n",
        "Content not text, or article not relevant.\n"
       ]
      },
      {
       "output_type": "stream",
       "stream": "stdout",
       "text": [
        "\n",
        "Sony Pictures hack: Reveals gender pay gap at the entertainment company and Deloitte. \n"
       ]
      },
      {
       "output_type": "stream",
       "stream": "stdout",
       "text": [
        "\n",
        "\n",
        " ALREADY IN SET \n",
        "\n",
        "Dear Prudence: Grandma never puts work into gift-buying. I do it instead.\n"
       ]
      },
      {
       "output_type": "stream",
       "stream": "stdout",
       "text": [
        "\n",
        "\n",
        " ALREADY IN SET \n",
        "\n",
        "Football on Thanksgiving: How the Dallas Cowboys ruined Turkey Day.\n"
       ]
      },
      {
       "output_type": "stream",
       "stream": "stdout",
       "text": [
        "\n",
        "\n",
        " ALREADY IN SET \n",
        "\n",
        "Eric Garner protests: The demonstrations in New York were angry, cathartic, peaceful\u2014and kind of beautiful.\n"
       ]
      },
      {
       "output_type": "stream",
       "stream": "stdout",
       "text": [
        "\n",
        "\n",
        " ALREADY IN SET \n",
        "\n",
        "4DX: How simulation and virtual reality technology are changing the way we experience movies.\n"
       ]
      },
      {
       "output_type": "stream",
       "stream": "stdout",
       "text": [
        "\n",
        "\n",
        " ALREADY IN SET \n"
       ]
      },
      {
       "output_type": "stream",
       "stream": "stdout",
       "text": [
        "\n",
        "Content not text, or article not relevant.\n"
       ]
      },
      {
       "output_type": "stream",
       "stream": "stdout",
       "text": [
        "\n",
        "Content not text, or article not relevant.\n"
       ]
      },
      {
       "output_type": "stream",
       "stream": "stdout",
       "text": [
        "\n",
        "James Watson selling Nobel Prize: DNA structure discoverer\u2019s history of racism and sexism.\n"
       ]
      },
      {
       "output_type": "stream",
       "stream": "stdout",
       "text": [
        "\n",
        "\n",
        " ALREADY IN SET \n",
        "\n",
        "Content not text, or article not relevant.\n"
       ]
      },
      {
       "output_type": "stream",
       "stream": "stdout",
       "text": [
        "\n",
        "Mark Pryor's farewell is everything that's wrong with politics.\n"
       ]
      },
      {
       "output_type": "stream",
       "stream": "stdout",
       "text": [
        "\n",
        "\n",
        " ALREADY IN SET \n",
        "\n",
        "What does it mean to play legato on the piano?\n"
       ]
      },
      {
       "output_type": "stream",
       "stream": "stdout",
       "text": [
        "\n",
        "\n",
        " ALREADY IN SET \n"
       ]
      },
      {
       "output_type": "stream",
       "stream": "stdout",
       "text": [
        "\n",
        "Content not text, or article not relevant.\n"
       ]
      },
      {
       "output_type": "stream",
       "stream": "stdout",
       "text": [
        "\n",
        "Slow cooker choucroute recipe: How to cook vegetables in a slow cooker.\n"
       ]
      },
      {
       "output_type": "stream",
       "stream": "stdout",
       "text": [
        "\n",
        "FSUTwitter: Florida State football fans are the new Gamergate.\n"
       ]
      },
      {
       "output_type": "stream",
       "stream": "stdout",
       "text": [
        "\n",
        "\n",
        " ALREADY IN SET \n",
        "\n",
        "LeBron wears \u201cI Can\u2019t Breathe\u201d shirt during pregame warmups.\n"
       ]
      },
      {
       "output_type": "stream",
       "stream": "stdout",
       "text": [
        "\n",
        "\n",
        " ALREADY IN SET \n",
        "\n",
        "Doxxing Jackie: The vile and dangerous threats of Charles Johnson and other trolls.\n"
       ]
      },
      {
       "output_type": "stream",
       "stream": "stdout",
       "text": [
        "\n",
        "\n",
        " ALREADY IN SET \n",
        "\n",
        "Broke millennials: The decline of young adult incomes since the recession.\n"
       ]
      },
      {
       "output_type": "stream",
       "stream": "stdout",
       "text": [
        "\n",
        "\n",
        " ALREADY IN SET \n",
        "\n",
        "Content not text, or article not relevant.\n"
       ]
      },
      {
       "output_type": "stream",
       "stream": "stdout",
       "text": [
        "\n",
        "TV: best shows of 2014. \n"
       ]
      },
      {
       "output_type": "stream",
       "stream": "stdout",
       "text": [
        "\n",
        "\n",
        " ALREADY IN SET \n",
        "\n",
        "College rape: Campus sexual assault is a serious problem. But the efforts to protect women are infringing on the civil rights of men.\n"
       ]
      },
      {
       "output_type": "stream",
       "stream": "stdout",
       "text": [
        "\n",
        "\n",
        " ALREADY IN SET \n"
       ]
      },
      {
       "output_type": "stream",
       "stream": "stdout",
       "text": [
        "\n",
        "Why trans and trans* caught on as cover terms for transgender, transsexual, transman, transwoman, etc.\n"
       ]
      },
      {
       "output_type": "stream",
       "stream": "stdout",
       "text": [
        "\n",
        "\n",
        " ALREADY IN SET \n",
        "\n",
        "Content not text, or article not relevant.\n"
       ]
      },
      {
       "output_type": "stream",
       "stream": "stdout",
       "text": [
        "\n",
        "Sam Hinkie: Is the Philadelphia 76ers\u2019 lose-on-purpose approach to team-building ingenious or morally bankrupt?\n"
       ]
      },
      {
       "output_type": "stream",
       "stream": "stdout",
       "text": [
        "\n",
        "\n",
        " ALREADY IN SET \n",
        "\n",
        "Fraternity sexual assault and criminal activities: States should use gang laws to seize their assets.\n"
       ]
      },
      {
       "output_type": "stream",
       "stream": "stdout",
       "text": [
        "\n",
        "\n",
        " ALREADY IN SET \n",
        "\n",
        "Olympic reforms: Co-hosting could be allowed.\n"
       ]
      },
      {
       "output_type": "stream",
       "stream": "stdout",
       "text": [
        "\n",
        "\n",
        " ALREADY IN SET \n",
        "\n",
        "Edward Banfield: The racist, classist origins of broken windows policing.\n"
       ]
      },
      {
       "output_type": "stream",
       "stream": "stdout",
       "text": [
        "\n",
        "\n",
        " ALREADY IN SET \n",
        "\n",
        "The conservative case for reforming the police and how to do it, in three steps.\n"
       ]
      },
      {
       "output_type": "stream",
       "stream": "stdout",
       "text": [
        "\n",
        "\n",
        " ALREADY IN SET \n",
        "\n",
        "New limits on racial profiling by law enforcement announced.\n"
       ]
      },
      {
       "output_type": "stream",
       "stream": "stdout",
       "text": [
        "\n",
        "\n",
        " ALREADY IN SET \n",
        "\n",
        "Content not text, or article not relevant.\n"
       ]
      },
      {
       "output_type": "stream",
       "stream": "stdout",
       "text": [
        "\n",
        "Wild and Into the Wild: Cheryl Strayed and Christopher McCandless, compared.\n"
       ]
      },
      {
       "output_type": "stream",
       "stream": "stdout",
       "text": [
        "\n",
        "\n",
        " ALREADY IN SET \n",
        "\n",
        "Content not text, or article not relevant.\n"
       ]
      },
      {
       "output_type": "stream",
       "stream": "stdout",
       "text": [
        "\n",
        "Anonymous vs. LulzSec: The technology snob\u2019s favorite hacker group.\n"
       ]
      },
      {
       "output_type": "stream",
       "stream": "stdout",
       "text": [
        "\n",
        "\n",
        " ALREADY IN SET \n",
        "\n",
        "Content not text, or article not relevant.\n"
       ]
      },
      {
       "output_type": "stream",
       "stream": "stdout",
       "text": [
        "\n",
        "Math versus maths: How Americans and Brits deploy the collective noun.\n"
       ]
      },
      {
       "output_type": "stream",
       "stream": "stdout",
       "text": [
        "\n",
        "\n",
        " ALREADY IN SET \n",
        "\n",
        "Collapse of middle-class wealth: The median family is worth less today than in 1969.\n"
       ]
      },
      {
       "output_type": "stream",
       "stream": "stdout",
       "text": [
        "\n",
        "\n",
        " ALREADY IN SET \n",
        "\n",
        "What Grumpy Cat is worth: Did Tabatha Bundesen's pet really earn $100 million?\n"
       ]
      },
      {
       "output_type": "stream",
       "stream": "stdout",
       "text": [
        "\n",
        "\n",
        " ALREADY IN SET \n",
        "\n",
        "LeBron James, Cleveland: How LeBron and the city found their way back to each other.\n"
       ]
      },
      {
       "output_type": "stream",
       "stream": "stdout",
       "text": [
        "\n",
        "\n",
        " ALREADY IN SET \n",
        "\n",
        "Dave Brandon: The resignation of Michigan\u2019s villainous athletic director is why we like college sports.\n"
       ]
      },
      {
       "output_type": "stream",
       "stream": "stdout",
       "text": [
        "\n",
        "\n",
        " ALREADY IN SET \n",
        "\n",
        "Patrick Morarescu photographs performance artists.\n"
       ]
      },
      {
       "output_type": "stream",
       "stream": "stdout",
       "text": [
        "\n",
        "\n",
        " ALREADY IN SET \n",
        "\n",
        "Airbnb has 1 million homes: Brian Chesky announces milestone and almost no one noticed.\n"
       ]
      },
      {
       "output_type": "stream",
       "stream": "stdout",
       "text": [
        "\n",
        "\n",
        " ALREADY IN SET \n",
        "\n",
        "Senator Wyden proposes Secure Data Act to keep government agencies from mandating encryption backdoors.\n"
       ]
      },
      {
       "output_type": "stream",
       "stream": "stdout",
       "text": [
        "\n",
        "\n",
        " ALREADY IN SET \n",
        "\n",
        "New Republic staff changes: What the debate about the magazine reveals about modern journalism.\n"
       ]
      },
      {
       "output_type": "stream",
       "stream": "stdout",
       "text": [
        "\n",
        "\n",
        " ALREADY IN SET \n",
        "\n",
        "Edie Bresler: We Sold a Winner looks at the stores that sold winning lottery tickets around the country (PHOTOS).\n"
       ]
      },
      {
       "output_type": "stream",
       "stream": "stdout",
       "text": [
        "\n",
        "\n",
        " ALREADY IN SET \n",
        "\n",
        "Holiday shopping: Gift ideas for minimalists, homebodies, foodies, and kids.\n"
       ]
      },
      {
       "output_type": "stream",
       "stream": "stdout",
       "text": [
        "\n",
        "\n",
        " ALREADY IN SET \n",
        "\n",
        "Sony Pictures hack: Was North Korea really the culprit?\n"
       ]
      },
      {
       "output_type": "stream",
       "stream": "stdout",
       "text": [
        "\n",
        "\n",
        " ALREADY IN SET \n",
        "\n",
        "Engineer Alex Smolyanitsky submitted fake papers to two for-profit scientific journals to test their peer review.\n"
       ]
      },
      {
       "output_type": "stream",
       "stream": "stdout",
       "text": [
        "\n",
        "\n",
        " ALREADY IN SET \n",
        "\n",
        "Orion and SLS: Time to rethink NASA's direction.\n"
       ]
      },
      {
       "output_type": "stream",
       "stream": "stdout",
       "text": [
        "\n",
        "\n",
        " ALREADY IN SET \n",
        "\n",
        "The Last Five Years starring Anna Kendrick trailer: How does it compare to the stage version?\n"
       ]
      },
      {
       "output_type": "stream",
       "stream": "stdout",
       "text": [
        "\n",
        "\n",
        " ALREADY IN SET \n",
        "\n",
        "Oxytots and meth babies are the new crack babies: Bad science and the rush to demonize the most vulnerable pregnant women. \n"
       ]
      },
      {
       "output_type": "stream",
       "stream": "stdout",
       "text": [
        "\n",
        "\n",
        " ALREADY IN SET \n",
        "\n",
        "Content not text, or article not relevant.\n"
       ]
      },
      {
       "output_type": "stream",
       "stream": "stdout",
       "text": [
        "\n",
        "The new seven wonders: Defining the top technological marvels of the contemporary age.\n"
       ]
      },
      {
       "output_type": "stream",
       "stream": "stdout",
       "text": [
        "\n",
        "\n",
        " ALREADY IN SET \n"
       ]
      },
      {
       "output_type": "stream",
       "stream": "stdout",
       "text": [
        "\n",
        "Kim Kardashian didn\u2019t break the Internet: How to cause a scandal in an overly transgressive age.\n"
       ]
      },
      {
       "output_type": "stream",
       "stream": "stdout",
       "text": [
        "\n",
        "\n",
        " ALREADY IN SET \n",
        "\n",
        "Katrina Arnold photographs New Orleans Ladies Arm Wrestling tournaments.  \n"
       ]
      },
      {
       "output_type": "stream",
       "stream": "stdout",
       "text": [
        "\n",
        "\n",
        " ALREADY IN SET \n",
        "\n",
        "Marsala: Pantone announces its 2015 Color of the Year. \n"
       ]
      },
      {
       "output_type": "stream",
       "stream": "stdout",
       "text": [
        "\n",
        "\n",
        " ALREADY IN SET \n",
        "\n",
        "Orion test launch success: Will the Space Launch System succeed for crewed flight?\n"
       ]
      },
      {
       "output_type": "stream",
       "stream": "stdout",
       "text": [
        "\n",
        "\n",
        " ALREADY IN SET \n",
        "\n",
        "Dear Prudence: My husband is a bad gift-giver.\n"
       ]
      },
      {
       "output_type": "stream",
       "stream": "stdout",
       "text": [
        "\n",
        "\n",
        " ALREADY IN SET \n",
        "\n",
        "Adam Voorhes photographs a rare collection of brains in his book, Malformed: Forgotten Brains of the Texas State Mental Hospital, with Alex Hannaford.\n"
       ]
      },
      {
       "output_type": "stream",
       "stream": "stdout",
       "text": [
        "\n",
        "\n",
        " ALREADY IN SET \n",
        "\n",
        "Net neutrality: German Chancellor Angela Merkel supported fast lanes at the Digitising Europe conference in Berlin.\n"
       ]
      },
      {
       "output_type": "stream",
       "stream": "stdout",
       "text": [
        "\n",
        "\n",
        " ALREADY IN SET \n",
        "\n",
        "Gap sales down 4 percent after Dress Normal campaign failure.\n"
       ]
      },
      {
       "output_type": "stream",
       "stream": "stdout",
       "text": [
        "\n",
        "\n",
        " ALREADY IN SET \n",
        "\n",
        "\"Abortion reversals\": The latest anti-abortion offer from crisis pregnancy centers. \n"
       ]
      },
      {
       "output_type": "stream",
       "stream": "stdout",
       "text": [
        "\n",
        "\n",
        " ALREADY IN SET \n",
        "\n",
        "Truvada, the gay community, and fear: Considering the meanings of condoms and pills.\n"
       ]
      },
      {
       "output_type": "stream",
       "stream": "stdout",
       "text": [
        "\n",
        "\n",
        " ALREADY IN SET \n",
        "\n",
        "Best books of 2014: Slate Book Review editor picks.\n"
       ]
      },
      {
       "output_type": "stream",
       "stream": "stdout",
       "text": [
        "\n",
        "\n",
        " ALREADY IN SET \n",
        "\n",
        "Content not text, or article not relevant.\n"
       ]
      },
      {
       "output_type": "stream",
       "stream": "stdout",
       "text": [
        "\n",
        "Content not text, or article not relevant.\n"
       ]
      },
      {
       "output_type": "stream",
       "stream": "stdout",
       "text": [
        "\n",
        "HBO's Regarding Susan Sontag documentary, reviewed. \n"
       ]
      },
      {
       "output_type": "stream",
       "stream": "stdout",
       "text": [
        "\n",
        "\n",
        " ALREADY IN SET \n",
        "\n",
        "Orion: NASA's second attempt at launch.\n"
       ]
      },
      {
       "output_type": "stream",
       "stream": "stdout",
       "text": [
        "\n",
        "\n",
        " ALREADY IN SET \n",
        "\n",
        "Oil prices five-year low: Barrels of crude make great stocking-stuffers this holiday season.\n"
       ]
      },
      {
       "output_type": "stream",
       "stream": "stdout",
       "text": [
        "\n",
        "Amazing libraries from around the world in the book, Reflections: Libraries.\n"
       ]
      },
      {
       "output_type": "stream",
       "stream": "stdout",
       "text": [
        "\n",
        "\n",
        " ALREADY IN SET \n",
        "\n",
        "Content not text, or article not relevant.\n"
       ]
      },
      {
       "output_type": "stream",
       "stream": "stdout",
       "text": [
        "\n",
        "Rolling Stone UVA rape story continues to unravel. Jackie's friend \"Andy\" speaks out. \n"
       ]
      },
      {
       "output_type": "stream",
       "stream": "stdout",
       "text": [
        "\n",
        "\n",
        " ALREADY IN SET \n",
        "\n",
        "Dawn sees Ceres: Spacecraft's first picture of asteroid target.\n"
       ]
      },
      {
       "output_type": "stream",
       "stream": "stdout",
       "text": [
        "\n",
        "\n",
        " ALREADY IN SET \n",
        "\n",
        "How Yahoo could make up for its decision to sell Flickr users' photos.\n"
       ]
      },
      {
       "output_type": "stream",
       "stream": "stdout",
       "text": [
        "\n",
        "\n",
        " ALREADY IN SET \n",
        "\n",
        "Flamenco beach in Culebra, Puerto Rico\n"
       ]
      },
      {
       "output_type": "stream",
       "stream": "stdout",
       "text": [
        "\n",
        "\n",
        " ALREADY IN SET \n",
        "\n",
        "Slate\u2019s most commented articles: Who comments on what articles and why?\n"
       ]
      },
      {
       "output_type": "stream",
       "stream": "stdout",
       "text": [
        "\n",
        "\n",
        " ALREADY IN SET \n",
        "\n",
        "Content not text, or article not relevant.\n"
       ]
      },
      {
       "output_type": "stream",
       "stream": "stdout",
       "text": [
        "\n",
        "During the Romney campaign 22 people had to approve tweets before they were published.\n"
       ]
      },
      {
       "output_type": "stream",
       "stream": "stdout",
       "text": [
        "\n",
        "\n",
        " ALREADY IN SET \n",
        "\n",
        "Beards: History and theory of male facial hair and comedy.\n"
       ]
      },
      {
       "output_type": "stream",
       "stream": "stdout",
       "text": [
        "\n",
        "\n",
        " ALREADY IN SET \n",
        "\n",
        "Linda Tirado on the realities of living in bootstrap America: daily annoyances for most people are catastrophic for poor people.\n"
       ]
      },
      {
       "output_type": "stream",
       "stream": "stdout",
       "text": [
        "\n",
        "\n",
        " ALREADY IN SET \n",
        "\n",
        "Israel\u2019s demolition of Palestinian homes: Benjamin Netanyahu\u2019s government teaches its citizens the wrong lessons.\n"
       ]
      },
      {
       "output_type": "stream",
       "stream": "stdout",
       "text": [
        "\n",
        "\n",
        " ALREADY IN SET \n",
        "\n",
        "Silk Road 2.0 arrests, Operation Onymous: Did the FBI break Tor?\n"
       ]
      },
      {
       "output_type": "stream",
       "stream": "stdout",
       "text": [
        "\n",
        "\n",
        " ALREADY IN SET \n",
        "\n",
        "Drinking problem in academia: Alcohol abuse among faculty members.\n"
       ]
      },
      {
       "output_type": "stream",
       "stream": "stdout",
       "text": [
        "\n",
        "\n",
        " ALREADY IN SET \n",
        "\n",
        "Aquaculture: Farmed fish could be better for the environment.\n"
       ]
      },
      {
       "output_type": "stream",
       "stream": "stdout",
       "text": [
        "\n",
        "\n",
        " ALREADY IN SET \n"
       ]
      },
      {
       "output_type": "stream",
       "stream": "stdout",
       "text": [
        "\n",
        "Marcel Leli\u00ebnhof photographs the Hells Angels in Norway in his book, Helvetes Engler\u2014Hells Angels MC Norway(PHOTOS).\n"
       ]
      },
      {
       "output_type": "stream",
       "stream": "stdout",
       "text": [
        "\n",
        "\n",
        " ALREADY IN SET \n",
        "\n",
        "Republican attorney general cooperation: Scott Pruitt, Devon Energy work hand in hand.\n"
       ]
      },
      {
       "output_type": "stream",
       "stream": "stdout",
       "text": [
        "\n",
        "\n",
        " ALREADY IN SET \n",
        "\n",
        "President Obama says voters want \u201cthat new car smell\u201d: Can he take criticism from Hillary Clinton and other Democrats in the 2016 presidential race?\n"
       ]
      },
      {
       "output_type": "stream",
       "stream": "stdout",
       "text": [
        "\n",
        "\n",
        " ALREADY IN SET \n",
        "\n",
        "Content not text, or article not relevant.\n"
       ]
      },
      {
       "output_type": "stream",
       "stream": "stdout",
       "text": [
        "\n",
        "Young v UPS: Conservative groups come out against pregnancy discrimination.\n"
       ]
      },
      {
       "output_type": "stream",
       "stream": "stdout",
       "text": [
        "\n",
        "\n",
        " ALREADY IN SET \n",
        "\n",
        "Rolling Stone backs away from its UVA gang rape story. \n"
       ]
      },
      {
       "output_type": "stream",
       "stream": "stdout",
       "text": [
        "\n",
        "\n",
        " ALREADY IN SET \n",
        "\n",
        "Slate weekly roundup: Senior technology writer Will Oremus\u2019s reading recommendations for this week.  \n"
       ]
      },
      {
       "output_type": "stream",
       "stream": "stdout",
       "text": [
        "\n",
        "\n",
        " ALREADY IN SET \n",
        "\n",
        "Tech internship salaries: An even longer list that will make your eyes water.\n"
       ]
      },
      {
       "output_type": "stream",
       "stream": "stdout",
       "text": [
        "\n",
        "\n",
        " ALREADY IN SET \n",
        "\n",
        "History of Pearl Harbor: \"Day of Infamy\" speech first draft. \n"
       ]
      },
      {
       "output_type": "stream",
       "stream": "stdout",
       "text": [
        "\n",
        "\n",
        " ALREADY IN SET \n",
        "\n",
        "Daniel Pantaleo Staten Island grand jury: Why did it refuse to indict Eric Garner\u2019s killer?\n"
       ]
      },
      {
       "output_type": "stream",
       "stream": "stdout",
       "text": [
        "\n",
        "\n",
        " ALREADY IN SET \n",
        "\n",
        "Johnny Manziel, Kerrville: Even in the town where he learned to play the game, Johnny Football is polarizing.\n"
       ]
      },
      {
       "output_type": "stream",
       "stream": "stdout",
       "text": [
        "\n",
        "\n",
        " ALREADY IN SET \n",
        "\n",
        "Content not text, or article not relevant.\n"
       ]
      },
      {
       "output_type": "stream",
       "stream": "stdout",
       "text": [
        "\n",
        "Content not text, or article not relevant.\n"
       ]
      },
      {
       "output_type": "stream",
       "stream": "stdout",
       "text": [
        "\n",
        "Content not text, or article not relevant.\n"
       ]
      },
      {
       "output_type": "stream",
       "stream": "stdout",
       "text": [
        "\n",
        "The Madison Museum of Contemporary Art presents Narayn Mahon: Lands in Limbo.\n"
       ]
      },
      {
       "output_type": "stream",
       "stream": "stdout",
       "text": [
        "\n",
        "\n",
        " ALREADY IN SET \n",
        "\n",
        "Dress codes: Smart casual, dress to impress, cocktail attire, tropical chic, explained.\n"
       ]
      },
      {
       "output_type": "stream",
       "stream": "stdout",
       "text": [
        "\n",
        "\n",
        " ALREADY IN SET \n",
        "\n",
        "Content not text, or article not relevant.\n"
       ]
      },
      {
       "output_type": "stream",
       "stream": "stdout",
       "text": [
        "\n",
        "Ibolya Feher: Sclerder Abbey takes a look at the Sisters of the Carmelite order (PHOTOS).\n"
       ]
      },
      {
       "output_type": "stream",
       "stream": "stdout",
       "text": [
        "\n",
        "\n",
        " ALREADY IN SET \n",
        "\n",
        "Content not text, or article not relevant.\n"
       ]
      },
      {
       "output_type": "stream",
       "stream": "stdout",
       "text": [
        "\n",
        "Cisco Sues Arista, a Rival Run by Former Cisco Employees, for copyright infringement. \n"
       ]
      },
      {
       "output_type": "stream",
       "stream": "stdout",
       "text": [
        "\n",
        "\n",
        " ALREADY IN SET \n",
        "\n",
        "Discovery Channel Eaten Alive documentary was disappointing because educational television is becoming clickbait.\n"
       ]
      },
      {
       "output_type": "stream",
       "stream": "stdout",
       "text": [
        "\n",
        "\n",
        " ALREADY IN SET \n",
        "\n",
        "Typhoon Hagupit: Could natural disasters threaten Asia's economic miracle?\n"
       ]
      },
      {
       "output_type": "stream",
       "stream": "stdout",
       "text": [
        "\n",
        "\n",
        " ALREADY IN SET \n",
        "\n",
        "Dear Prudence: I was fat-shamed by my cousin at Thanksgiving.\n"
       ]
      },
      {
       "output_type": "stream",
       "stream": "stdout",
       "text": [
        "\n",
        "\n",
        " ALREADY IN SET \n",
        "\n",
        "Content not text, or article not relevant.\n"
       ]
      },
      {
       "output_type": "stream",
       "stream": "stdout",
       "text": [
        "\n",
        "Best books 2014: Slate staff recommendations. \n"
       ]
      },
      {
       "output_type": "stream",
       "stream": "stdout",
       "text": [
        "\n",
        "\n",
        " ALREADY IN SET \n"
       ]
      },
      {
       "output_type": "stream",
       "stream": "stdout",
       "text": [
        "\n",
        "Content not text, or article not relevant.\n"
       ]
      },
      {
       "output_type": "stream",
       "stream": "stdout",
       "text": [
        "\n",
        "Flu from a flu shot? Why it\u2019s impossible to get sick from the vaccination (VIDEO).\n"
       ]
      },
      {
       "output_type": "stream",
       "stream": "stdout",
       "text": [
        "\n",
        "\n",
        " ALREADY IN SET \n",
        "\n",
        "URL badly formatted\n",
        "URL badly formatted\n",
        "New Jobs Figures Worth Celebrating - The New Yorker\n"
       ]
      },
      {
       "output_type": "stream",
       "stream": "stdout",
       "text": [
        "\n",
        "\n",
        " ALREADY IN SET \n"
       ]
      },
      {
       "output_type": "stream",
       "stream": "stdout",
       "text": [
        "\n",
        "URL badly formatted\n",
        "URL badly formatted\n",
        "URL badly formatted\n",
        "URL badly formatted\n",
        "URL badly formatted\n",
        "URL badly formatted\n",
        "Where the Streets Have a Name: Seven Addresses that Defined the News in 2014 - The New Yorker\n"
       ]
      },
      {
       "output_type": "stream",
       "stream": "stdout",
       "text": [
        "\n",
        "\n",
        " ALREADY IN SET \n",
        "\n",
        "URL badly formatted\n",
        "URL badly formatted\n",
        "URL badly formatted\n",
        "Wall of Sound | The New Yorker\n"
       ]
      },
      {
       "output_type": "stream",
       "stream": "stdout",
       "text": [
        "\n",
        "\n",
        " ALREADY IN SET \n",
        "\n",
        "URL badly formatted\n",
        "URL badly formatted\n",
        "URL badly formatted\n",
        "Where the Streets Have a Name: Seven Addresses that Defined the News in 2014 - The New Yorker\n"
       ]
      },
      {
       "output_type": "stream",
       "stream": "stdout",
       "text": [
        "\n",
        "\n",
        " ALREADY IN SET \n",
        "\n",
        "URL badly formatted\n",
        "URL badly formatted\n",
        "URL badly formatted\n",
        "P.K. Subban, Hockey\u2019s Ice Breaker | The New Yorker\n"
       ]
      },
      {
       "output_type": "stream",
       "stream": "stdout",
       "text": [
        "\n",
        "\n",
        " ALREADY IN SET \n",
        "\n",
        "URL badly formatted\n",
        "URL badly formatted\n",
        "URL badly formatted\n",
        "URL badly formatted\n",
        "What the Eric Garner Grand Jury Didn\u2019t See - The New Yorker\n"
       ]
      },
      {
       "output_type": "stream",
       "stream": "stdout",
       "text": [
        "\n",
        "\n",
        " ALREADY IN SET \n"
       ]
      },
      {
       "output_type": "stream",
       "stream": "stdout",
       "text": [
        "\n",
        "URL badly formatted\n",
        "URL badly formatted\n",
        "URL badly formatted\n",
        "URL badly formatted\n",
        "URL badly formatted\n",
        "URL badly formatted\n",
        "Page not found\n"
       ]
      },
      {
       "output_type": "stream",
       "stream": "stdout",
       "text": [
        "\n",
        "\n",
        " ALREADY IN SET \n",
        "\n",
        "URL badly formatted\n",
        "URL badly formatted\n",
        "URL badly formatted\n",
        "URL badly formatted\n",
        "URL badly formatted\n",
        "URL badly formatted\n",
        "URL badly formatted\n",
        "URL badly formatted\n",
        "URL badly formatted\n",
        "URL badly formatted\n",
        "URL badly formatted\n",
        "URL badly formatted\n",
        "URL badly formatted\n",
        "URL badly formatted\n",
        "URL badly formatted\n",
        "Hans Ulrich Obrist, the Curator Who Never Sleeps\n"
       ]
      },
      {
       "output_type": "stream",
       "stream": "stdout",
       "text": [
        "\n",
        "\n",
        " ALREADY IN SET \n",
        "\n",
        "URL badly formatted\n",
        "After the Eric Garner Decision | The New Yorker\n"
       ]
      },
      {
       "output_type": "stream",
       "stream": "stdout",
       "text": [
        "\n",
        "\n",
        " ALREADY IN SET \n",
        "\n",
        "Uber Reviews for Charon, Boatman of Hades | The New Yorker\n"
       ]
      },
      {
       "output_type": "stream",
       "stream": "stdout",
       "text": [
        "\n",
        "One Woman\u2019s Drive to Revolutionize Medical Testing | The New Yorker\n"
       ]
      },
      {
       "output_type": "stream",
       "stream": "stdout",
       "text": [
        "\n",
        "\n",
        " ALREADY IN SET \n",
        "\n",
        "URL badly formatted\n",
        "The Real Crisis of Journalism - The New Yorker\n"
       ]
      },
      {
       "output_type": "stream",
       "stream": "stdout",
       "text": [
        "\n",
        "URL badly formatted\n",
        "URL badly formatted\n",
        "URL badly formatted\n",
        "URL badly formatted\n",
        "URL badly formatted\n",
        "URL badly formatted\n",
        "The School of American Ballet on PBS | The New Yorker\n"
       ]
      },
      {
       "output_type": "stream",
       "stream": "stdout",
       "text": [
        "\n",
        "URL badly formatted\n",
        "\u201cThe Newsroom\u201d \u2019s Crazy-Making Campus-Rape Episode - The New Yorker\n"
       ]
      },
      {
       "output_type": "stream",
       "stream": "stdout",
       "text": [
        "\n",
        "URL badly formatted"
       ]
      },
      {
       "output_type": "stream",
       "stream": "stdout",
       "text": [
        "\n",
        "URL badly formatted\n",
        "The Ride of Their Lives\n"
       ]
      },
      {
       "output_type": "stream",
       "stream": "stdout",
       "text": [
        "\n",
        "\n",
        " ALREADY IN SET \n",
        "\n",
        "URL badly formatted\n",
        "URL badly formatted\n",
        "URL badly formatted\n",
        "URL badly formatted\n",
        "URL badly formatted\n",
        "URL badly formatted\n",
        "URL badly formatted\n",
        "Should the Democrats Give Up on the South? - The New Yorker\n"
       ]
      },
      {
       "output_type": "stream",
       "stream": "stdout",
       "text": [
        "\n",
        "\n",
        " ALREADY IN SET \n"
       ]
      },
      {
       "output_type": "stream",
       "stream": "stdout",
       "text": [
        "\n",
        "URL badly formatted\n",
        "The Best Sports Moments of 2014 - The New Yorker\n"
       ]
      },
      {
       "output_type": "stream",
       "stream": "stdout",
       "text": [
        "\n",
        "\n",
        " ALREADY IN SET \n",
        "\n",
        "Rolling Stone, U.V.A., and Reporting on Rape - The New Yorker\n"
       ]
      },
      {
       "output_type": "stream",
       "stream": "stdout",
       "text": [
        "\n",
        "\n",
        " ALREADY IN SET \n",
        "\n",
        "VIDEO GAME REVIEW: \u201cThis War of Mine\u201d deals with the horrors of war without the gore - The Washington Post\n"
       ]
      },
      {
       "output_type": "stream",
       "stream": "stdout",
       "text": [
        "\n",
        "\n",
        " ALREADY IN SET \n",
        "\n",
        "The politics of the Philippines\u2019 vulnerability to natural disasters - The Washington Post\n"
       ]
      },
      {
       "output_type": "stream",
       "stream": "stdout",
       "text": [
        "\n",
        "\n",
        " ALREADY IN SET \n",
        "\n",
        "Massive Los Angeles fire destroyed apartment building, snarled traffic on two freeways - The Washington Post\n"
       ]
      },
      {
       "output_type": "stream",
       "stream": "stdout",
       "text": [
        "\n",
        "\n",
        " ALREADY IN SET \n",
        "\n",
        "The New Republic is dead, thanks to its owner, Chris Hughes - The Washington Post\n"
       ]
      },
      {
       "output_type": "stream",
       "stream": "stdout",
       "text": [
        "\n",
        "\n",
        " ALREADY IN SET \n",
        "\n",
        "Arguing with anti-vaxers: Maybe not a good idea - The Washington Post\n"
       ]
      },
      {
       "output_type": "stream",
       "stream": "stdout",
       "text": [
        "\n",
        "\n",
        " ALREADY IN SET \n",
        "\n",
        "The Insiders: The Gruberization of the Democratic Party - The Washington Post\n"
       ]
      },
      {
       "output_type": "stream",
       "stream": "stdout",
       "text": [
        "\n",
        "\n",
        " ALREADY IN SET \n",
        "\n",
        "When \u2018unrecognizable\u2019 is a compliment - The Washington Post\n"
       ]
      },
      {
       "output_type": "stream",
       "stream": "stdout",
       "text": [
        "\n",
        "\n",
        " ALREADY IN SET \n",
        "\n",
        "Content not text, or article not relevant.\n"
       ]
      },
      {
       "output_type": "stream",
       "stream": "stdout",
       "text": [
        "\n",
        "Content not text, or article not relevant.\n"
       ]
      },
      {
       "output_type": "stream",
       "stream": "stdout",
       "text": [
        "\n",
        "No matter what Jackie said, we should generally believe rape claims - The Washington Post\n"
       ]
      },
      {
       "output_type": "stream",
       "stream": "stdout",
       "text": [
        "\n",
        "\n",
        " ALREADY IN SET \n",
        "\n",
        "Judge-found facts are a \u201cquestionable foundation,\u201d says the Tenth Circuit - The Washington Post\n"
       ]
      },
      {
       "output_type": "stream",
       "stream": "stdout",
       "text": [
        "\n",
        "\n",
        " ALREADY IN SET \n",
        "\n",
        "Content not text, or article not relevant.\n"
       ]
      },
      {
       "output_type": "stream",
       "stream": "stdout",
       "text": [
        "\n",
        "This is the best way to save for college. And hardly anyone uses it - The Washington Post\n"
       ]
      },
      {
       "output_type": "stream",
       "stream": "stdout",
       "text": [
        "\n",
        "\n",
        " ALREADY IN SET \n",
        "\n",
        "Content not text, or article not relevant.\n"
       ]
      },
      {
       "output_type": "stream",
       "stream": "stdout",
       "text": [
        "\n",
        "The king and the cabinet: Saudi political reshuffle explained - The Washington Post\n"
       ]
      },
      {
       "output_type": "stream",
       "stream": "stdout",
       "text": [
        "\n",
        "\n",
        " ALREADY IN SET \n",
        "\n",
        "Rick Noack - The Washington Post\n"
       ]
      },
      {
       "output_type": "stream",
       "stream": "stdout",
       "text": [
        "\n",
        "\n",
        " ALREADY IN SET \n"
       ]
      },
      {
       "output_type": "stream",
       "stream": "stdout",
       "text": [
        "\n",
        "Obama says law enforcement complaints \u2018personal for me because of who I am\u2019 - The Washington Post\n"
       ]
      },
      {
       "output_type": "stream",
       "stream": "stdout",
       "text": [
        "\n",
        "\n",
        " ALREADY IN SET \n",
        "\n",
        "Redskins injury update: Helu seeing specialist regarding toe injury - The Washington Post\n"
       ]
      },
      {
       "output_type": "stream",
       "stream": "stdout",
       "text": [
        "\n",
        "\n",
        " ALREADY IN SET \n",
        "\n",
        "Content not text, or article not relevant.\n"
       ]
      },
      {
       "output_type": "stream",
       "stream": "stdout",
       "text": [
        "\n",
        "Alyssa Rosenberg - The Washington Post\n"
       ]
      },
      {
       "output_type": "stream",
       "stream": "stdout",
       "text": [
        "\n",
        "\n",
        " ALREADY IN SET \n"
       ]
      },
      {
       "output_type": "stream",
       "stream": "stdout",
       "text": [
        "\n",
        "5 questions about the CIA detention and interrogation report you wish you didn\u2019t have to ask - The Washington Post\n"
       ]
      },
      {
       "output_type": "stream",
       "stream": "stdout",
       "text": [
        "\n",
        "\n",
        " ALREADY IN SET \n",
        "\n",
        "And the winner for the best allusion related to the Lena Denham controversy is \u2026 - The Washington Post\n"
       ]
      },
      {
       "output_type": "stream",
       "stream": "stdout",
       "text": [
        "\n",
        "\n",
        " ALREADY IN SET \n",
        "\n",
        "Alice Li - The Washington Post\n"
       ]
      },
      {
       "output_type": "stream",
       "stream": "stdout",
       "text": [
        "\n",
        "\n",
        " ALREADY IN SET \n"
       ]
      },
      {
       "output_type": "stream",
       "stream": "stdout",
       "text": [
        "\n",
        "Militaries, civilians and the crisis of the Arab state - The Washington Post\n"
       ]
      },
      {
       "output_type": "stream",
       "stream": "stdout",
       "text": [
        "\n",
        "\n",
        " ALREADY IN SET \n",
        "\n",
        "No, really: There is a scientific explanation for the parting of the Red Sea in Exodus - The Washington Post\n"
       ]
      },
      {
       "output_type": "stream",
       "stream": "stdout",
       "text": [
        "\n",
        "\n",
        " ALREADY IN SET \n",
        "\n",
        "Three American teens, recruited online, are caught trying to join the Islamic State - The Washington Post\n"
       ]
      },
      {
       "output_type": "stream",
       "stream": "stdout",
       "text": [
        "\n",
        "\n",
        " ALREADY IN SET \n",
        "\n",
        "As Andre Burakovsky navigates \u2018a valley\u2019 in rookie year, Caps unsure of his World Juniors status - The Washington Post\n"
       ]
      },
      {
       "output_type": "stream",
       "stream": "stdout",
       "text": [
        "\n",
        "\n",
        " ALREADY IN SET \n",
        "\n",
        "U.S. military braces for release of CIA interrogation report - The Washington Post\n"
       ]
      },
      {
       "output_type": "stream",
       "stream": "stdout",
       "text": [
        "\n",
        "\n",
        " ALREADY IN SET \n",
        "\n",
        "Free & Easy: Winternational, Santarchy and holidays at the White House - The Washington Post\n"
       ]
      },
      {
       "output_type": "stream",
       "stream": "stdout",
       "text": [
        "\n",
        "\n",
        " ALREADY IN SET \n",
        "\n",
        "Larry Birkhead was oddly charming on \u2018Millionaire Matchmaker\u2019 - The Washington Post\n"
       ]
      },
      {
       "output_type": "stream",
       "stream": "stdout",
       "text": [
        "\n",
        "\n",
        " ALREADY IN SET \n",
        "\n",
        "The insane narrative you are supposed to believe about the torture report - The Washington Post\n"
       ]
      },
      {
       "output_type": "stream",
       "stream": "stdout",
       "text": [
        "\n",
        "\n",
        " ALREADY IN SET \n",
        "\n",
        "Content not text, or article not relevant.\n"
       ]
      },
      {
       "output_type": "stream",
       "stream": "stdout",
       "text": [
        "\n",
        "Six killed when plane crashes into house in Gaithersburg - The Washington Post\n"
       ]
      },
      {
       "output_type": "stream",
       "stream": "stdout",
       "text": [
        "\n",
        "\n",
        " ALREADY IN SET \n",
        "\n",
        "Virginia\u2019s licensing requirements hurt a Loudoun County charter school - The Washington Post\n"
       ]
      },
      {
       "output_type": "stream",
       "stream": "stdout",
       "text": [
        "\n",
        "\n",
        " ALREADY IN SET \n",
        "\n",
        "Updated apology digs bigger hole for Rolling Stone - The Washington Post\n"
       ]
      },
      {
       "output_type": "stream",
       "stream": "stdout",
       "text": [
        "\n",
        "\n",
        " ALREADY IN SET \n",
        "\n",
        "Lena Dunham\u2019s publisher says her alleged rapist \u201cBarry\u201d wasn\u2019t actually named Barry - The Washington Post\n"
       ]
      },
      {
       "output_type": "stream",
       "stream": "stdout",
       "text": [
        "\n",
        "\n",
        " ALREADY IN SET \n",
        "\n",
        "Administration tries to hide Iran\u2019s alleged cheating - The Washington Post\n"
       ]
      },
      {
       "output_type": "stream",
       "stream": "stdout",
       "text": [
        "\n",
        "\n",
        " ALREADY IN SET \n",
        "\n",
        "Air traffic control: \u2018Nothing left of that house \u2019 - The Washington Post\n"
       ]
      },
      {
       "output_type": "stream",
       "stream": "stdout",
       "text": [
        "\n",
        "\n",
        " ALREADY IN SET \n",
        "\n",
        "How the Dec. 26 day off affects pay, leave and more for federal workers - The Washington Post\n"
       ]
      },
      {
       "output_type": "stream",
       "stream": "stdout",
       "text": [
        "\n",
        "\n",
        " ALREADY IN SET \n",
        "\n",
        "Typhoon Hagupit inundates Philippines with third day of flooding rain - The Washington Post\n"
       ]
      },
      {
       "output_type": "stream",
       "stream": "stdout",
       "text": [
        "\n",
        "\n",
        " ALREADY IN SET \n",
        "\n",
        "Video game designer Ralph Baer invented your childhood. Here are five things you can learn from his extraordinary life. - The Washington Post\n"
       ]
      },
      {
       "output_type": "stream",
       "stream": "stdout",
       "text": [
        "\n",
        "\n",
        " ALREADY IN SET \n",
        "\n",
        "Brian Murphy - The Washington Post\n"
       ]
      },
      {
       "output_type": "stream",
       "stream": "stdout",
       "text": [
        "\n",
        "\n",
        " ALREADY IN SET \n"
       ]
      },
      {
       "output_type": "stream",
       "stream": "stdout",
       "text": [
        "\n",
        "Metro and safety overseer reach agreement on tests of new rail cars - The Washington Post\n"
       ]
      },
      {
       "output_type": "stream",
       "stream": "stdout",
       "text": [
        "\n",
        "\n",
        " ALREADY IN SET \n",
        "\n",
        "Being a cop showed me just how racist and violent the police are. There\u2019s only one fix. - The Washington Post\n"
       ]
      },
      {
       "output_type": "stream",
       "stream": "stdout",
       "text": [
        "\n",
        "\n",
        " ALREADY IN SET \n",
        "\n",
        "Day in photos - The Washington Post\n"
       ]
      },
      {
       "output_type": "stream",
       "stream": "stdout",
       "text": [
        "\n",
        "\n",
        " ALREADY IN SET \n",
        "\n",
        "Adam Goldman - The Washington Post\n"
       ]
      },
      {
       "output_type": "stream",
       "stream": "stdout",
       "text": [
        "\n",
        "\n",
        " ALREADY IN SET \n"
       ]
      },
      {
       "output_type": "stream",
       "stream": "stdout",
       "text": [
        "\n",
        "Why cyber armies are a good investment for countries like North Korea - The Washington Post\n"
       ]
      },
      {
       "output_type": "stream",
       "stream": "stdout",
       "text": [
        "\n",
        "\n",
        " ALREADY IN SET \n",
        "\n",
        "Fatal plane crash in Gaithersburg - The Washington Post\n"
       ]
      },
      {
       "output_type": "stream",
       "stream": "stdout",
       "text": [
        "\n",
        "\n",
        " ALREADY IN SET \n"
       ]
      },
      {
       "output_type": "stream",
       "stream": "stdout",
       "text": [
        "\n",
        "Arguing with anti-vaxers: Maybe not a good idea - The Washington Post\n"
       ]
      },
      {
       "output_type": "stream",
       "stream": "stdout",
       "text": [
        "\n",
        "\n",
        " ALREADY IN SET \n",
        "\n",
        "Federal workers\u2019 morale is at lowest point in years - The Washington Post\n"
       ]
      },
      {
       "output_type": "stream",
       "stream": "stdout",
       "text": [
        "\n",
        "Despite progress on racism, the uncomfortable truth is that work remains - The Washington Post\n"
       ]
      },
      {
       "output_type": "stream",
       "stream": "stdout",
       "text": [
        "\n",
        "\n",
        " ALREADY IN SET \n",
        "\n",
        "PM Update: Rain arrives overnight, persists into Tuesday; Ice risk north and west suburbs - The Washington Post\n"
       ]
      },
      {
       "output_type": "stream",
       "stream": "stdout",
       "text": [
        "\n",
        "Curiosity Rover finds new indications of water on Mars - The Washington Post\n"
       ]
      },
      {
       "output_type": "stream",
       "stream": "stdout",
       "text": [
        "\n",
        "\n",
        " ALREADY IN SET \n",
        "\n",
        "Wizards squander second-half lead before beating Celtics in double overtime - The Washington Post\n"
       ]
      },
      {
       "output_type": "stream",
       "stream": "stdout",
       "text": [
        "\n",
        "\n",
        " ALREADY IN SET \n",
        "\n",
        "Technology is ruining our memory. Here\u2019s why that doesn\u2019t matter. - The Washington Post\n"
       ]
      },
      {
       "output_type": "stream",
       "stream": "stdout",
       "text": [
        "\n",
        "\n",
        " ALREADY IN SET \n",
        "\n",
        "School districts in Washington region go different routes in labeling days off - The Washington Post\n"
       ]
      },
      {
       "output_type": "stream",
       "stream": "stdout",
       "text": [
        "\n",
        "\n",
        " ALREADY IN SET \n",
        "\n",
        "Massive Los Angeles fire destroyed apartment building, snarled traffic on two freeways - The Washington Post\n"
       ]
      },
      {
       "output_type": "stream",
       "stream": "stdout",
       "text": [
        "\n",
        "\n",
        " ALREADY IN SET \n",
        "\n",
        "First-time buyers can now get a mortgage with only 3 percent down - The Washington Post\n"
       ]
      },
      {
       "output_type": "stream",
       "stream": "stdout",
       "text": [
        "\n",
        "\n",
        " ALREADY IN SET \n",
        "\n",
        "Challenge for protesters in wake of police killings: Turning anger, grief into action - The Washington Post\n"
       ]
      },
      {
       "output_type": "stream",
       "stream": "stdout",
       "text": [
        "\n",
        "\n",
        " ALREADY IN SET \n",
        "\n",
        "How prescription drug abusers are cheating the system by shopping across state lines - The Washington Post\n"
       ]
      },
      {
       "output_type": "stream",
       "stream": "stdout",
       "text": [
        "\n",
        "\n",
        " ALREADY IN SET \n",
        "\n",
        "Why Congress can\u2019t stop a federal hiring blitz tied to Obama\u2019s immigration actions - The Washington Post\n"
       ]
      },
      {
       "output_type": "stream",
       "stream": "stdout",
       "text": [
        "\n",
        "\n",
        " ALREADY IN SET \n",
        "\n",
        "Americans are not lovin\u2019 McDonald\u2019s\u2014and haven\u2019t been for years - The Washington Post\n"
       ]
      },
      {
       "output_type": "stream",
       "stream": "stdout",
       "text": [
        "\n",
        "\n",
        " ALREADY IN SET \n",
        "\n",
        "Content not text, or article not relevant.\n"
       ]
      },
      {
       "output_type": "stream",
       "stream": "stdout",
       "text": [
        "\n",
        "Across America, whites are biased and they don\u2019t even know it - The Washington Post\n"
       ]
      },
      {
       "output_type": "stream",
       "stream": "stdout",
       "text": [
        "\n",
        "\n",
        " ALREADY IN SET \n",
        "\n",
        "Royal couple arrives in New York for talks and a tour - The Washington Post\n"
       ]
      },
      {
       "output_type": "stream",
       "stream": "stdout",
       "text": [
        "\n",
        "\n",
        " ALREADY IN SET \n"
       ]
      },
      {
       "output_type": "stream",
       "stream": "stdout",
       "text": [
        "\n",
        "Harry Reid working on a confirmation deal? - The Washington Post\n"
       ]
      },
      {
       "output_type": "stream",
       "stream": "stdout",
       "text": [
        "\n",
        "\n",
        " ALREADY IN SET \n",
        "\n",
        "Characters in children\u2019s books are almost always white, and it\u2019s a big problem - The Washington Post\n"
       ]
      },
      {
       "output_type": "stream",
       "stream": "stdout",
       "text": [
        "\n",
        "\n",
        " ALREADY IN SET \n",
        "\n",
        "New Orleans tries to bar newspaper from \u2018disclosing any information\u2019 in police report in alleged rape case - The Washington Post\n"
       ]
      },
      {
       "output_type": "stream",
       "stream": "stdout",
       "text": [
        "\n",
        "\n",
        " ALREADY IN SET \n",
        "\n",
        "Woman walks her dog while dressed as the abominable snowman, makes winter less awful - The Washington Post\n"
       ]
      },
      {
       "output_type": "stream",
       "stream": "stdout",
       "text": [
        "\n",
        "\n",
        " ALREADY IN SET \n",
        "\n",
        "The New Republic is dead, thanks to its owner, Chris Hughes - The Washington Post\n"
       ]
      },
      {
       "output_type": "stream",
       "stream": "stdout",
       "text": [
        "\n",
        "\n",
        " ALREADY IN SET \n",
        "\n",
        "New laws should expand access to voting, not discourage it - The Washington Post\n"
       ]
      },
      {
       "output_type": "stream",
       "stream": "stdout",
       "text": [
        "\n",
        "\n",
        " ALREADY IN SET \n",
        "\n",
        "Lena Dunham\u2019s publisher says her alleged rapist \u201cBarry\u201d wasn\u2019t actually named Barry - The Washington Post\n"
       ]
      },
      {
       "output_type": "stream",
       "stream": "stdout",
       "text": [
        "\n",
        "\n",
        " ALREADY IN SET \n",
        "\n",
        "Six killed when plane crashes into house in Gaithersburg - The Washington Post\n"
       ]
      },
      {
       "output_type": "stream",
       "stream": "stdout",
       "text": [
        "\n",
        "\n",
        " ALREADY IN SET \n",
        "\n",
        "Obama\u2019s acid reflux may help others receive proper diagnosis and treatment - The Washington Post\n"
       ]
      },
      {
       "output_type": "stream",
       "stream": "stdout",
       "text": [
        "\n",
        "\n",
        " ALREADY IN SET \n",
        "\n",
        "Welcome to the Baseball Winter Meetings - The Washington Post\n"
       ]
      },
      {
       "output_type": "stream",
       "stream": "stdout",
       "text": [
        "\n",
        "\n",
        " ALREADY IN SET \n",
        "\n",
        "LeBron James wore an \u201cI can\u2019t breathe\u201d warmup shirt tonight. That\u2019s a very big deal. - The Washington Post\n"
       ]
      },
      {
       "output_type": "stream",
       "stream": "stdout",
       "text": [
        "\n",
        "\n",
        " ALREADY IN SET \n",
        "\n",
        "Agency funding, federal employee pay decisions go down to the wire - The Washington Post\n"
       ]
      },
      {
       "output_type": "stream",
       "stream": "stdout",
       "text": [
        "\n",
        "\n",
        " ALREADY IN SET \n",
        "\n",
        "Amazon threatens to move its drone research overseas - The Washington Post\n"
       ]
      },
      {
       "output_type": "stream",
       "stream": "stdout",
       "text": [
        "\n",
        "\n",
        " ALREADY IN SET \n",
        "\n",
        "Can technology pick the perfect health plan for you? - The Washington Post\n"
       ]
      },
      {
       "output_type": "stream",
       "stream": "stdout",
       "text": [
        "\n",
        "\n",
        " ALREADY IN SET \n",
        "\n",
        "The meaning of Mary Landrieu\u2019s loss, by the numbers - The Washington Post\n"
       ]
      },
      {
       "output_type": "stream",
       "stream": "stdout",
       "text": [
        "\n",
        "\n",
        " ALREADY IN SET \n",
        "\n",
        "Parties You Missed: White House hosts holiday bash - The Washington Post\n"
       ]
      },
      {
       "output_type": "stream",
       "stream": "stdout",
       "text": [
        "\n",
        "\n",
        " ALREADY IN SET \n",
        "\n",
        "U.S. prepares to protect citizens, facilities abroad ahead of CIA interrogation report - The Washington Post\n"
       ]
      },
      {
       "output_type": "stream",
       "stream": "stdout",
       "text": [
        "\n",
        "\n",
        " ALREADY IN SET \n",
        "\n",
        "A German political party wants immigrants to stop speaking foreign languages\u2014even at home - The Washington Post\n"
       ]
      },
      {
       "output_type": "stream",
       "stream": "stdout",
       "text": [
        "\n",
        "\n",
        " ALREADY IN SET \n",
        "\n",
        "PM Update: Rain arrives overnight, persists into Tuesday; Ice risk north and west suburbs - The Washington Post\n"
       ]
      },
      {
       "output_type": "stream",
       "stream": "stdout",
       "text": [
        "\n",
        "\n",
        " ALREADY IN SET \n",
        "\n",
        "Will Japan\u2019s habit of rewriting its history affect its future? - The Washington Post\n"
       ]
      },
      {
       "output_type": "stream",
       "stream": "stdout",
       "text": [
        "\n",
        "\n",
        " ALREADY IN SET \n",
        "\n",
        "Elahe Izadi - The Washington Post\n"
       ]
      },
      {
       "output_type": "stream",
       "stream": "stdout",
       "text": [
        "\n",
        "\n",
        " ALREADY IN SET \n",
        "\n",
        "In \u2018The Imitation Game,\u2019 a portrait of what bias cost England - The Washington Post\n"
       ]
      },
      {
       "output_type": "stream",
       "stream": "stdout",
       "text": [
        "\n",
        "\n",
        " ALREADY IN SET \n",
        "\n",
        "Prince William\u2019s World Bank visit brings out the royal gawkers - The Washington Post\n"
       ]
      },
      {
       "output_type": "stream",
       "stream": "stdout",
       "text": [
        "\n",
        "\n",
        " ALREADY IN SET \n",
        "\n",
        "The familiar cycle of the taxi industry wars - The Washington Post\n"
       ]
      },
      {
       "output_type": "stream",
       "stream": "stdout",
       "text": [
        "\n",
        "\n",
        " ALREADY IN SET \n",
        "\n",
        "Amazon threatens to move its drone research overseas - The Washington Post\n"
       ]
      },
      {
       "output_type": "stream",
       "stream": "stdout",
       "text": [
        "\n",
        "\n",
        " ALREADY IN SET \n",
        "\n",
        "Content not text, or article not relevant.\n"
       ]
      },
      {
       "output_type": "stream",
       "stream": "stdout",
       "text": [
        "\n",
        "Prince William\u2019s World Bank visit brings out the royal gawkers - The Washington Post\n"
       ]
      },
      {
       "output_type": "stream",
       "stream": "stdout",
       "text": [
        "\n",
        "\n",
        " ALREADY IN SET \n",
        "\n",
        "Happy Hour Roundup - The Washington Post\n"
       ]
      },
      {
       "output_type": "stream",
       "stream": "stdout",
       "text": [
        "\n",
        "\n",
        " ALREADY IN SET \n",
        "\n",
        "Paul Duggan - The Washington Post\n"
       ]
      },
      {
       "output_type": "stream",
       "stream": "stdout",
       "text": [
        "\n",
        "\n",
        " ALREADY IN SET \n",
        "\n",
        "Montana governor wants a little more Mountain West in the Democratic Party - The Washington Post\n"
       ]
      },
      {
       "output_type": "stream",
       "stream": "stdout",
       "text": [
        "\n",
        "\n",
        " ALREADY IN SET \n",
        "\n",
        "Content not text, or article not relevant.\n"
       ]
      },
      {
       "output_type": "stream",
       "stream": "stdout",
       "text": [
        "\n",
        "John Wall, Nicki Minaj and Miyah - The Washington Post\n"
       ]
      },
      {
       "output_type": "stream",
       "stream": "stdout",
       "text": [
        "\n",
        "Navy\u2019s helmets send message to Army: \u2018Don\u2019t Tread On Me\u2019 - The Washington Post\n"
       ]
      },
      {
       "output_type": "stream",
       "stream": "stdout",
       "text": [
        "\n",
        "\n",
        " ALREADY IN SET \n",
        "\n",
        "Free-market academics want the FTC to weigh in on net neutrality. Here\u2019s why it probably won\u2019t. - The Washington Post\n"
       ]
      },
      {
       "output_type": "stream",
       "stream": "stdout",
       "text": [
        "\n",
        "\n",
        " ALREADY IN SET \n",
        "\n",
        "No, Grumpy Cat didn\u2019t make $100 million - The Washington Post\n"
       ]
      },
      {
       "output_type": "stream",
       "stream": "stdout",
       "text": [
        "\n",
        "\n",
        " ALREADY IN SET \n",
        "\n"
       ]
      }
     ],
     "prompt_number": 6
    },
    {
     "cell_type": "code",
     "collapsed": false,
     "input": [
      "CHAR_LEN_BOUND = 1500\n",
      "\n",
      "fd = open('articles.csv', 'rb')\n",
      "raw_rows = []\n",
      "\n",
      "reader = csv.reader(fd, delimiter=',')\n",
      "for reading in reader:\n",
      "    raw_rows.append(reading)\n",
      "\n",
      "def basic_strip(article):\n",
      "    \"\"\"\n",
      "    Arguments: string article\n",
      "    Returns: string\n",
      "    \n",
      "    When passed article text, this function looks for words which are on its 'exclude' list; these\n",
      "    words include those which ask users to share articles on social media. All words are converted to lower case. \n",
      "    Only the sentences which do not include words from the 'exclude' list are returned in the cleaned string. \n",
      "    \"\"\"\n",
      "    exclude = [\"facebook\", \"digg\", \"tagged\", \"recommended\", \"stumbleupon\", \"share\", \"blogs\", \"user agreement\", \"subscription\", \"login\", \"twitter\", \"topics\", \"excel\", \"accessed\", \"check out\", \"tweet\", \"|\", \"see also\", \"e-mail\", \"strongbox\",\n",
      "               \"ad choices\", \"photograph\", \"about us\", \"faq\", \"careers\", \"view all\", \"app\", \"sign in\", \"contact us\", \"comment\", \"follow\", \"@\", \"http\", \"posted\", \"update\", \"staff writer\", \"editor\"]\n",
      "    article = re.sub('[ \\t\\n]+' , ' ', article)\n",
      "    sentences = article.split('.')\n",
      "    new_sentences = []\n",
      "    for sen in sentences:\n",
      "        clean = True\n",
      "        for word in exclude:\n",
      "            if word in sen.lower():\n",
      "                clean = False\n",
      "\n",
      "        if clean:\n",
      "            new_sentences.append(sen)\n",
      "\n",
      "    outstr = \"\"\n",
      "    for sen in new_sentences:\n",
      "        if len(sen) > 5:\n",
      "            outstr += sen.strip() + '. '\n",
      "    return outstr\n",
      "\n",
      "rows = []\n",
      "\n",
      "for i in range(0, len(raw_rows)):\n",
      "    article_text = basic_strip(raw_rows[i][3])\n",
      "    if len(article_text) > CHAR_LEN_BOUND:\n",
      "        rows.append([raw_rows[i][0], raw_rows[i][1], raw_rows[i][2], article_text])\n",
      "        \n",
      "print 'Finished applying the basic_strip function to text.'"
     ],
     "language": "python",
     "metadata": {},
     "outputs": [
      {
       "output_type": "stream",
       "stream": "stdout",
       "text": [
        "Finished applying the basic_strip function to text.\n"
       ]
      }
     ],
     "prompt_number": 8
    },
    {
     "cell_type": "markdown",
     "metadata": {},
     "source": [
      "# Part 5: Feature Vector Creation, Classification\n",
      "\n",
      "For this part of the project, we analyzed several different types of classifiers. We considered using random forest classifiers, a Bayesian multinomial classifier, a traditional svm. We finally decided to use a gradient boosting classifier. We did so for several reasons; first and foremost, this type of classifier is robust to overfitting, which we control by selecting a random sample of articles as the training set, leaving the remaining articles we scraped as test data. "
     ]
    },
    {
     "cell_type": "code",
     "collapsed": false,
     "input": [
      "Xtrain, Ytrain = [],[]\n",
      "Xtest, Ytest = [],[]\n",
      "\n",
      "# function for converting format of CountVectorizer output to be used for classification\n",
      "def csr_2_list(csr):\n",
      "    ints = [csr[0,i] for i in range(0, csr.shape[1]) ]\n",
      "    return ints\n",
      "\n",
      "num_libarticles, num_consarticles = 0, 0\n",
      "\n",
      "for row in rows:\n",
      "    if rows[1] == 'C':\n",
      "        num_consarticles += 1\n",
      "    else:\n",
      "        num_libarticles += 1\n",
      "\n",
      "print \"***VECTORIZING DOCUMENTS***\"\n",
      "\n",
      "\n",
      "test_rows = rows[::2]\n",
      "train_rows = rows[1::2]\n",
      "\n",
      "# construct a CountVectorizer and give it training data\n",
      "tk_train = text.CountVectorizer(max_features=2400, stop_words='english')\n",
      "text_doc_matrix_train = tk_train.fit_transform([row[3] for row in train_rows])\n",
      "\n",
      "# construct another CountVectorizer with vocabulary based on training set's vocab\n",
      "tk_test = text.CountVectorizer(max_features=2400, stop_words='english', vocabulary = tk_train.vocabulary_)\n",
      "text_doc_matrix_test = tk_test.fit_transform([row[3] for row in test_rows])\n",
      "\n",
      "for i in range(0, text_doc_matrix_train.shape[0]):\n",
      "    Xtrain.append(csr_2_list(text_doc_matrix_train[i]))\n",
      "    Ytrain.append(train_rows[i][1])\n",
      "\n",
      "for i in range(0, text_doc_matrix_test.shape[0]):\n",
      "    Xtest.append(csr_2_list(text_doc_matrix_test[i]))\n",
      "    Ytest.append(test_rows[i][1])\n",
      "\n",
      "print \">>>DONE VECTORIZING DOCUMENTS<<<\\n\"\n",
      "\n",
      "print \"***TRAINING CLASSIFIER***\"\n",
      "\n",
      "# define the classifier\n",
      "clf = GradientBoostingClassifier(n_estimators = 1000, max_depth = 5)\n",
      "clf.fit(Xtrain, Ytrain)\n",
      "\n",
      "print \">>>DONE TRAINING CLASSIFIER<<<\\n\"\n",
      "\n",
      "print \"***DUMPING CLASSIFIER***\"\n",
      "\n",
      "fd = open('./web/classifier', 'wb')\n",
      "cPickle.dump(clf, fd, cPickle.HIGHEST_PROTOCOL)\n",
      "fd.close()\n",
      "\n",
      "fd = open('./web/vocab', 'wb')\n",
      "cPickle.dump(tk_train.vocabulary_, fd, cPickle.HIGHEST_PROTOCOL)\n",
      "fd.close()\n",
      "\n",
      "print \">>>DONE DUMPING CLASSIFIER<<<\\n\"\n"
     ],
     "language": "python",
     "metadata": {},
     "outputs": [
      {
       "output_type": "stream",
       "stream": "stdout",
       "text": [
        "***VECTORIZING DOCUMENTS***\n",
        ">>>DONE VECTORIZING DOCUMENTS<<<\n"
       ]
      },
      {
       "output_type": "stream",
       "stream": "stdout",
       "text": [
        "\n",
        "***TRAINING CLASSIFIER***\n",
        ">>>DONE TRAINING CLASSIFIER<<<\n"
       ]
      },
      {
       "output_type": "stream",
       "stream": "stdout",
       "text": [
        "\n",
        "***DUMPING CLASSIFIER***\n",
        ">>>DONE DUMPING CLASSIFIER<<<\n"
       ]
      },
      {
       "output_type": "stream",
       "stream": "stdout",
       "text": [
        "\n"
       ]
      }
     ],
     "prompt_number": 9
    },
    {
     "cell_type": "markdown",
     "metadata": {},
     "source": [
      "# Part 6: Exploratory Analysis\n",
      "\n",
      "<i>What visualizations did you use to look at your data in different ways? What are the different statistical methods you considered? Justify the decisions you made, and show any major changes to your ideas. How did you reach these conclusions? </i>\n",
      "\n",
      "We first look at all of our test data and see how the classifier ranks the article's political slant relative to its publisher's political slant. \n",
      "\n",
      "After looking at the classification directly, we then look at the precision, recall, and F1-score for our classifier. All of these values tend to be around 80%. \n",
      "\n",
      "Having looked at the precision, recall, and F1-scores for our classifier, we then consider the data we scraped from the ten liberal and conservative sources. We visualize this data by creating a word cloud of all of the words (not including stop words) from all of the articles. We then create another word cloud, this time looking at the most important features to the classifier. "
     ]
    },
    {
     "cell_type": "code",
     "collapsed": false,
     "input": [
      "successes,trials = 0,0\n",
      "\n",
      "predicted = clf.predict(Xtest)\n",
      "\n",
      "for i in range(0, len(Xtest)):\n",
      "    print \"FOR: \" + test_rows[i][2] + \"\\n CLF SAID: \" + clf.predict(Xtest[i])[0] + \" ACTUALLY: \" + Ytest[i]\n",
      "    if Ytest[i] == clf.predict(Xtest[i])[0]:\n",
      "        successes += 1\n",
      "    trials+=1\n",
      "\n",
      "print \"\\n The classifier was %.2f%% accurate.\" % (float(successes)/trials*100)\n",
      "print \"\\n %d liberal articles, %d conservative articles.\" % (num_libarticles, num_consarticles) \n",
      "print \"\\n\""
     ],
     "language": "python",
     "metadata": {},
     "outputs": [
      {
       "output_type": "stream",
       "stream": "stdout",
       "text": [
        "FOR: What Not to Do on Iran | The American Conservative\n",
        " CLF SAID: L ACTUALLY: C\n",
        "FOR: Channing Tatum. Wrestling Picture. Whadaya Need  A Road Map? | The American Conservative\n",
        " CLF SAID: C ACTUALLY: C\n",
        "FOR: Double Feature Feature: 10,000 Hours Edition | The American Conservative\n",
        " CLF SAID: L ACTUALLY: C\n",
        "FOR: About Us | The American Conservative\n",
        " CLF SAID: C ACTUALLY: C\n",
        "FOR: A Fraternity of Rape | The American Conservative\n",
        " CLF SAID: L ACTUALLY: C\n",
        "FOR: Bringing Back Husbandry | The American Conservative\n",
        " CLF SAID: L ACTUALLY: C\n",
        "FOR: The Moral Path to Peace | The American Conservative\n",
        " CLF SAID: C ACTUALLY: C\n",
        "FOR: SWPLs & Eric Garner | The American Conservative\n",
        " CLF SAID: L ACTUALLY: C\n",
        "FOR: The Uses and Abuses of Historical Analogies | The American Conservative\n",
        " CLF SAID: C ACTUALLY: C\n",
        "FOR: Federalism Can Still Save Religious Liberty | The American Conservative\n",
        " CLF SAID: C ACTUALLY: C\n",
        "FOR: Against the Mob | The American Conservative\n",
        " CLF SAID: C ACTUALLY: C\n",
        "FOR: Ferguson Is Not Palestine | The American Conservative\n",
        " CLF SAID: C ACTUALLY: C\n",
        "FOR: The Greatly Overrated Rubio | The American Conservative\n",
        " CLF SAID: C ACTUALLY: C\n",
        "FOR: A Chuck Hagel Postmortem | The American Conservative\n",
        " CLF SAID: C ACTUALLY: C\n",
        "FOR: Galloping Toward Gomorrah | The American Conservative\n",
        " CLF SAID: L ACTUALLY: C\n",
        "FOR: Considering Thankfulness | The American Conservative\n",
        " CLF SAID: L ACTUALLY: C\n",
        "FOR: Thanksgiving Doorbusters Backfire on Big Retail | The American Conservative\n",
        " CLF SAID: L ACTUALLY: C\n",
        "FOR: Cotton and the Iran Hawks Loathing of Diplomacy | The American Conservative\n",
        " CLF SAID: L ACTUALLY: C\n",
        "FOR: At Gitmo, a Tough Policy To Swallow - Steve Chapman -  Page full\n",
        " CLF SAID: L ACTUALLY: C\n",
        "FOR: Why Conservatives Should Get to Know Bitcoin - Townhall Magazine \n",
        " CLF SAID: L ACTUALLY: C\n",
        "FOR: Europe Is Way Behind the United States... And Here's Why - Daniel J. Mitchell - Townhall Finance Conservative Columnists and Financial Commentary - Page full\n",
        " CLF SAID: L ACTUALLY: C\n",
        "FOR: Report: Prominent Ex-Governor Making Inquiries Into NH... - Daniel Doherty \n",
        " CLF SAID: L ACTUALLY: C\n",
        "FOR: The Willfully Ignorant - Derek Hunter -  Page full\n",
        " CLF SAID: C ACTUALLY: C\n",
        "FOR: Black People The Media Hate (And Rand Paul Isn't Wild About) - Ann Coulter -  Page full\n",
        " CLF SAID: L ACTUALLY: C\n",
        "FOR: Diplomacy Failed in Iran: Fund Missile Defense - George Landrith -  Page full\n",
        " CLF SAID: C ACTUALLY: C\n",
        "FOR: Something Weird in the U.S. New Home Market - Political  Calculations - Townhall Finance Conservative Columnists and Financial Commentary - Page full\n",
        " CLF SAID: C ACTUALLY: C\n",
        "FOR: Ferguson: Inconvenient Facts About the Encounter - Larry Elder -  Page full\n",
        " CLF SAID: C ACTUALLY: C\n",
        "FOR: Where's the Fire, Buddy?  - Rich Galen -  Page full\n",
        " CLF SAID: L ACTUALLY: C\n",
        "FOR: The Weird United Nations Rule That Makes It Cheaper To Buy From Foreign Companies - Kevin Glass \n",
        " CLF SAID: C ACTUALLY: C\n",
        "FOR: \"The Advent of Controversy\" - Jerry Newcombe -  Page full\n",
        " CLF SAID: L ACTUALLY: C\n",
        "FOR: GOP Poll: Perhaps Landrieu Should Start Packing Her Bags... - Daniel Doherty \n",
        " CLF SAID: C ACTUALLY: C\n",
        "FOR: Facebook Journalism: Is It Such Big News? - Debra J. Saunders -  Page full\n",
        " CLF SAID: C ACTUALLY: C\n",
        "FOR: After He, Racism - John Ransom - Townhall Finance Conservative Columnists and Financial Commentary - Page full\n",
        " CLF SAID: C ACTUALLY: C\n",
        "FOR: Socialist Party Caught \"Underpaying\" Minimum Wage Activists   - Michael Schaus - Townhall Finance Conservative Columnists and Financial Commentary - Page full\n",
        " CLF SAID: C ACTUALLY: C\n",
        "FOR: How Washington should think about the Internet of Things - CSMonitor.com\n",
        " CLF SAID: C ACTUALLY: C\n",
        "FOR: Possibility unbound: 25 years of progress for those with disability - CSMonitor.com\n",
        " CLF SAID: C ACTUALLY: C\n",
        "FOR: Constant cycle of violence in Israel, regulating working hours in Japan, Bangladeshs quiet mobile revolution, Kenya standing against terrorist at... - CSMonitor.com\n",
        " CLF SAID: C ACTUALLY: C\n",
        "FOR: Is Obama favoring donors in ambassador appointments? That's nothing new. - CSMonitor.com\n",
        " CLF SAID: C ACTUALLY: C\n",
        "FOR: With fewer young people gambling, time for a government rethink - CSMonitor.com\n",
        " CLF SAID: C ACTUALLY: C\n",
        "FOR: From Egyptian judges: conspiracy theories, mass death sentences, and freedom for Mubarak - CSMonitor.com\n",
        " CLF SAID: C ACTUALLY: C\n",
        "FOR: Sarah Palin weighs in on Ferguson. Was it funny or offensive? - CSMonitor.com\n",
        " CLF SAID: C ACTUALLY: C\n",
        "FOR: Amid anger over Eric Garner, a unique moment for change in NYPD - CSMonitor.com\n",
        " CLF SAID: C ACTUALLY: C\n",
        "FOR: Inventor hopes to clean the air with giant purifiers - CSMonitor.com\n",
        " CLF SAID: C ACTUALLY: C\n",
        "FOR: Could you pass a citizenship test? States may make it graduation requirement. - CSMonitor.com\n",
        " CLF SAID: C ACTUALLY: C\n",
        "FOR: Prospector Theater helps the disabled entertain new prospects - CSMonitor.com\n",
        " CLF SAID: C ACTUALLY: C\n",
        "FOR: Why 20 year drop in crime is more impressive than it seems - CSMonitor.com\n",
        " CLF SAID: C ACTUALLY: C\n",
        "FOR: Taking a cue from nightclubs, 24-hour bookstores boom in Taiwan: Could they work in the US? - CSMonitor.com\n",
        " CLF SAID: C ACTUALLY: C\n",
        "FOR: British police arrest seven in latest anti-jihadi sweep - CSMonitor.com\n",
        " CLF SAID: C ACTUALLY: C\n",
        "FOR: The Benghazi Whitewash | The Weekly Standard\n",
        " CLF SAID: L ACTUALLY: C\n",
        "FOR: Uncommon Ancestor  | The Weekly Standard\n",
        " CLF SAID: L ACTUALLY: C\n",
        "FOR: The Laughs on Us  | The Weekly Standard\n",
        " CLF SAID: C ACTUALLY: C\n",
        "FOR: Outer Borough Tales    | The Weekly Standard\n",
        " CLF SAID: C ACTUALLY: C\n",
        "FOR: The Reacher File   | The Weekly Standard\n",
        " CLF SAID: C ACTUALLY: C\n",
        "FOR: Voice of Experience | The Weekly Standard\n",
        " CLF SAID: L ACTUALLY: C\n",
        "FOR: French Curtains | The Weekly Standard\n",
        " CLF SAID: C ACTUALLY: C\n",
        "FOR: Comte Franaise    | The Weekly Standard\n",
        " CLF SAID: C ACTUALLY: C\n",
        "FOR: No Deal | The Weekly Standard\n",
        " CLF SAID: C ACTUALLY: C\n",
        "FOR: Hartache | The Weekly Standard\n",
        " CLF SAID: L ACTUALLY: C"
       ]
      },
      {
       "output_type": "stream",
       "stream": "stdout",
       "text": [
        "\n",
        "FOR: The Bitter End | The Weekly Standard\n",
        " CLF SAID: C ACTUALLY: C\n",
        "FOR: Crpes Suzette or Pie? | The Weekly Standard\n",
        " CLF SAID: C ACTUALLY: C\n",
        "FOR: A Solution for Cities on the Brink of Bankruptcy | The American Spectator\n",
        " CLF SAID: C ACTUALLY: C\n",
        "FOR: Dad & Dylan | The American Spectator\n",
        " CLF SAID: L ACTUALLY: C\n",
        "FOR: The Gift Shop of the Dead | The American Spectator\n",
        " CLF SAID: L ACTUALLY: C\n",
        "FOR: FDA: More Nutrition Information Will Make Americans Healthier  Oh, Really? | The American Spectator\n",
        " CLF SAID: L ACTUALLY: C\n",
        "FOR: Do What the Cops Tell You: It Isn't Rocket Science | The American Spectator\n",
        " CLF SAID: C ACTUALLY: C\n",
        "FOR: The Sins of Elizabeth Lauten | The American Spectator\n",
        " CLF SAID: C ACTUALLY: C\n",
        "FOR: It Cant Rain Hard Enough | The American Spectator\n",
        " CLF SAID: C ACTUALLY: C\n",
        "FOR: Opinions Versus Facts | The American Spectator\n",
        " CLF SAID: L ACTUALLY: C\n",
        "FOR: Rainy Day Rage | The American Spectator\n",
        " CLF SAID: L ACTUALLY: C\n",
        "FOR: What? Another Conversation About Race? | The American Spectator\n",
        " CLF SAID: C ACTUALLY: C\n",
        "FOR: The US Government Deported 438,000 People in 2013. 83 Percent Never Got a Hearing. | Mother Jones\n",
        " CLF SAID: L ACTUALLY: L\n",
        "FOR: I Told a Grand Jury I Saw a Cop Shoot and Kill an Unarmed Man. It Didn't Indict. | Mother Jones\n",
        " CLF SAID: L ACTUALLY: L\n",
        "FOR: The Problem With the Ferguson, Ray Rice, and UVA Rape Stories | Mother Jones\n",
        " CLF SAID: L ACTUALLY: L\n",
        "FOR: Thurgood Marshall Blasted Police for Killing Black Men With Chokeholds | Mother Jones\n",
        " CLF SAID: L ACTUALLY: L\n",
        "FOR: An Open Letter To Charles Barkley | The Nation\n",
        " CLF SAID: L ACTUALLY: L\n",
        "FOR: Plugged Into the Socket of Life | The Nation\n",
        " CLF SAID: L ACTUALLY: L\n",
        "FOR: Our Words, Our Selves | The Nation\n",
        " CLF SAID: C ACTUALLY: L\n",
        "FOR: Why Hagels Departure Is a Victory For War Hawks  | The Nation\n",
        " CLF SAID: C ACTUALLY: L\n",
        "FOR: In Egypts Growing Insurgency, Civilians Pay the Highest Price | The Nation\n",
        " CLF SAID: C ACTUALLY: L\n",
        "FOR: The UN Backs Down a Little, Adds More Women to Its Peacekeeping Panel | The Nation\n",
        " CLF SAID: L ACTUALLY: L\n",
        "FOR: Why Its Impossible to Indict a Cop | The Nation\n",
        " CLF SAID: L ACTUALLY: L\n",
        "FOR: Uber raises $1.2 billion: New funding gives Travis Kalanick's ride service a $40 billion valuation.\n",
        " CLF SAID: L ACTUALLY: L\n",
        "FOR: Running calculator: Introducing Slates marathon time predictor, a better way to calculate how fast youll run.\n",
        " CLF SAID: L ACTUALLY: L\n",
        "FOR: Ferguson grand jury investigation: A shadow trial violates the publics right to access.\n",
        " CLF SAID: L ACTUALLY: L\n",
        "FOR: Adam Voorhes photographs a rare collection of brains in his book, Malformed: Forgotten Brains of the Texas State Mental Hospital, with Alex Hannaford.\n",
        " CLF SAID: L ACTUALLY: L\n",
        "FOR: Hawaiian \"Mele Kalikimaka,\" Greek \"khristos,\" Xmas, and why not \"Hristmas\": Sound changes in Christmas vocabulary.\n",
        " CLF SAID: L ACTUALLY: L\n",
        "FOR: Sabrina Rubin Erdely, UVA: Why didnt a Rolling Stone writer talk to the alleged perpetrators of a gang rape?\n",
        " CLF SAID: L ACTUALLY: L\n",
        "FOR: New York City protests over Eric Garner grand jury decision.\n",
        " CLF SAID: L ACTUALLY: L\n",
        "FOR: Stephanie Diani: Live Audience! Looks at the people who attend multiple television tapings (PHOTOS).\n",
        " CLF SAID: L ACTUALLY: L\n",
        "FOR: Ball Aerospace: A company known for mason jars helped with NASA's Orion capsule.\n",
        " CLF SAID: L ACTUALLY: L\n",
        "FOR: Whole Foods Detroit: Can a grocery store really fight elitism, racism, and obesity?\n",
        " CLF SAID: L ACTUALLY: L\n",
        "FOR: Top skyscrapers around the world that were stalled, stunted, stopped midconstruction, or never built. \n",
        " CLF SAID: L ACTUALLY: L\n",
        "FOR: Patrick Morarescu photographs performance artists.\n",
        " CLF SAID: L ACTUALLY: L\n",
        "FOR: Edie Bresler: We Sold a Winner looks at the stores that sold winning lottery tickets around the country (PHOTOS).\n",
        " CLF SAID: L ACTUALLY: L\n",
        "FOR: The new seven wonders: Defining the top technological marvels of the contemporary age.\n",
        " CLF SAID: L ACTUALLY: L\n",
        "FOR: Katrina Arnold photographs New Orleans Ladies Arm Wrestling tournaments.  \n",
        " CLF SAID: L ACTUALLY: L\n",
        "FOR: Transparents Zackary Drucker wants to archive Flawless Sabrinas lifework.\n",
        " CLF SAID: L ACTUALLY: L\n",
        "FOR: Slate recommendations: Favorite media recommendations from staffers this Thanksgiving. \n",
        " CLF SAID: L ACTUALLY: L\n",
        "FOR: New No CAPTCHA reCAPTCHA from Google is much easier for humans.\n",
        " CLF SAID: L ACTUALLY: L\n",
        "FOR: Derrick Rose, injuries: NBA stars aren't superheroes. They break just like the rest of us puny humans.\n",
        " CLF SAID: L ACTUALLY: L\n",
        "FOR: Science shows you're better off being a nice boss.\n",
        " CLF SAID: L ACTUALLY: L\n",
        "FOR: Netizen Report: Iranian Facebook user sentenced to death for allegedly insulting the prophet.\n",
        " CLF SAID: L ACTUALLY: L\n",
        "FOR: Marcel Lelinhof photographs the Hells Angels in Norway in his book, Helvetes EnglerHells Angels MC Norway(PHOTOS).\n",
        " CLF SAID: L ACTUALLY: L\n",
        "FOR: Peter Pan played by a woman: Why? A history of casting the J.M. Barrie character.\n",
        " CLF SAID: L ACTUALLY: L\n",
        "FOR: A Thanksgiving guide to talking to your relatives about Bill Cosby, affirmative consent, and feminism. \n",
        " CLF SAID: C ACTUALLY: L\n",
        "FOR: Sian Davey: Looking for Alice is a series about a photographers relationship with her daughter who has Down syndrome (PHOTOS).\n",
        " CLF SAID: L ACTUALLY: L\n",
        "FOR: Are trolls ruining Slates comment section?\n",
        " CLF SAID: L ACTUALLY: L\n",
        "FOR: How Yahoo could make up for its decision to sell Flickr users' photos.\n",
        " CLF SAID: L ACTUALLY: L\n",
        "FOR: Hosni Mubarak freed in Egypt: Its futile for revolutionaries to charge dictators.\n",
        " CLF SAID: L ACTUALLY: L\n",
        "FOR: Reverend\n",
        " CLF SAID: L ACTUALLY: L\n",
        "FOR: Crisis in Mexico: Pena Nieto, and Mexico's Infrarrealistas\n",
        " CLF SAID: L ACTUALLY: L"
       ]
      },
      {
       "output_type": "stream",
       "stream": "stdout",
       "text": [
        "\n",
        "FOR: A New Deal for the Kurds - The New Yorker\n",
        " CLF SAID: C ACTUALLY: L\n",
        "FOR: The Political Scene: Negotiating Climate Change - The New Yorker\n",
        " CLF SAID: L ACTUALLY: L\n",
        "FOR: Whose Streets? - The New Yorker\n",
        " CLF SAID: L ACTUALLY: L\n",
        "FOR: Hans Ulrich Obrist, the Curator Who Never Sleeps\n",
        " CLF SAID: L ACTUALLY: L\n",
        "FOR: Why Cameras on Police Officers Wont Save Us - The New Yorker\n",
        " CLF SAID: L ACTUALLY: L\n",
        "FOR: No Such Thing as Racial Profiling\n",
        " CLF SAID: L ACTUALLY: L\n",
        "FOR: A Risky Novel of Seduction and Betrayal\n",
        " CLF SAID: L ACTUALLY: L\n",
        "FOR: Tables for Two: Turntable Retro Bar & Restaurant Mad for Chicken\n",
        " CLF SAID: L ACTUALLY: L\n",
        "FOR: How Washington made itself irrelevant - The Washington Post\n",
        " CLF SAID: L ACTUALLY: L\n",
        "FOR: French horns? Snowshoes? TVs? Pentagon details what it gives to U.S. police - The Washington Post\n",
        " CLF SAID: L ACTUALLY: L\n",
        "FOR: A safe zone in Syria would be a forward step in the Islamic State fight - The Washington Post\n",
        " CLF SAID: L ACTUALLY: L\n",
        "FOR: Developer wants portion of I-395 in D.C. shut down to expedite construction project - The Washington Post\n",
        " CLF SAID: L ACTUALLY: L\n",
        "FOR: Even climate change experts and activists are in denial about climate change - The Washington Post\n",
        " CLF SAID: C ACTUALLY: L\n",
        "FOR: Ben Carson to Wolf Blitzer: I stand by my Nazi Germany-U.S. comments - The Washington Post\n",
        " CLF SAID: L ACTUALLY: L\n",
        "FOR: For Jay Gruden, the best place for Robert Griffin III is elsewhere - The Washington Post\n",
        " CLF SAID: L ACTUALLY: L\n",
        "FOR: The remarkable collapse of our trust in government, in one chart - The Washington Post\n",
        " CLF SAID: L ACTUALLY: L\n",
        "FOR: The loss of Rep. Mike Rogers as head of the House Intelligence Committee is a blow to bipartisanship - The Washington Post\n",
        " CLF SAID: C ACTUALLY: L\n",
        "FOR: Bill Cosbys honorary title revoked by U.S. Navy - The Washington Post\n",
        " CLF SAID: L ACTUALLY: L\n",
        "FOR: The racial divide in America is this elemental: Blacks and whites actually breathe different air. - The Washington Post\n",
        " CLF SAID: L ACTUALLY: L\n",
        "FOR: Expect large crowds for downtown events - The Washington Post\n",
        " CLF SAID: L ACTUALLY: L\n",
        "FOR: Many liberals and conservatives find themselves on common ground following the Garner decision - The Washington Post\n",
        " CLF SAID: L ACTUALLY: L\n",
        "FOR: Hagel says resignation followed series of conversations with president - The Washington Post\n",
        " CLF SAID: L ACTUALLY: L\n",
        "FOR: Jay Gruden could consider adding quarterbacks coach to staff next year - The Washington Post\n",
        " CLF SAID: L ACTUALLY: L\n",
        "FOR: More protests underway in D.C. on Thursday - The Washington Post\n",
        " CLF SAID: L ACTUALLY: L\n",
        "FOR: U.S. contractor has spent five years in a Cuban prison for distributing Internet equipment - The Washington Post\n",
        " CLF SAID: L ACTUALLY: L\n",
        "FOR: The surprising origins of the #CrimingWhileWhite movement - The Washington Post\n",
        " CLF SAID: L ACTUALLY: L\n",
        "FOR: Weve reached a tipping point when Charles Krauthammer is more outspoken on police abuses than Barack Obama - The Washington Post\n",
        " CLF SAID: L ACTUALLY: L\n",
        "FOR: Huge shakeup at The New Republic: What does this vanity publisher want? - The Washington Post\n",
        " CLF SAID: L ACTUALLY: L\n",
        "FOR: After Brown and Garner, limiting the downside of police body cameras - The Washington Post\n",
        " CLF SAID: L ACTUALLY: L\n",
        "FOR: The real fight is among the Democrats - The Washington Post\n",
        " CLF SAID: L ACTUALLY: L\n",
        "FOR: Defense spending bill passes, sequester must now go - The Washington Post\n",
        " CLF SAID: L ACTUALLY: L\n",
        "FOR: Body cameras wont stop police brutality. Eric Garner is only one of several reasons why. - The Washington Post\n",
        " CLF SAID: C ACTUALLY: L\n",
        "FOR: The strength, and limits, of de Blasios speech about Eric Garner - The Washington Post\n",
        " CLF SAID: L ACTUALLY: L\n",
        "FOR: The standing problem in Zivotofsky, revisited - The Washington Post\n",
        " CLF SAID: L ACTUALLY: L\n",
        "FOR: Investigation: Afghan shooter ambushed slain Army general at close range - The Washington Post\n",
        " CLF SAID: L ACTUALLY: L\n",
        "FOR: Orion test flight scrubbed due to valve problems - The Washington Post\n",
        " CLF SAID: L ACTUALLY: L\n",
        "FOR: Ferguson, Staten Island: Similar events bring very different reaction - The Washington Post\n",
        " CLF SAID: L ACTUALLY: L\n",
        "FOR: Manila Mart in Beltsville caters to Pinoys and American fanboys alike - The Washington Post\n",
        " CLF SAID: L ACTUALLY: L\n",
        "FOR: How Privilege Dies | The American Conservative\n",
        " CLF SAID: L ACTUALLY: C\n"
       ]
      },
      {
       "output_type": "stream",
       "stream": "stdout",
       "text": [
        "FOR: Rolling Stone Rolls Off Cliff | The American Conservative\n",
        " CLF SAID: L ACTUALLY: C\n",
        "FOR: Shakeup at TNR | The American Conservative\n",
        " CLF SAID: C ACTUALLY: C\n",
        "FOR: Five Myths That Keep America in the Middle East | The American Conservative\n",
        " CLF SAID: C ACTUALLY: C\n",
        "FOR: Civil Liberties Lose a Champion | The American Conservative\n",
        " CLF SAID: L ACTUALLY: C\n",
        "FOR: What Should Conservatives Do? Just Say No. - Craig Shirley -  Page full\n",
        " CLF SAID: C ACTUALLY: C\n",
        "FOR: Evaluating Conservative Attacks On The Garner Grand Jury - Mark Davis -  Page full\n",
        " CLF SAID: C ACTUALLY: C\n",
        "FOR: Hey Ferguson, Is Anyone Listening? - Wayne Dupree -  Page full\n",
        " CLF SAID: C ACTUALLY: C\n",
        "FOR: 18,000 Would Crush Smartest Guys in the Room - Charles Payne - Townhall Finance Conservative Columnists and Financial Commentary - Page full\n",
        " CLF SAID: C ACTUALLY: C\n",
        "FOR: Rand Paul is Right: Cig Taxes Factored into Garner's Death - Jonah Goldberg -  Page full\n",
        " CLF SAID: C ACTUALLY: C\n",
        "FOR: Racist Cops -- or Liberal Slander?  - Pat Buchanan -  Page full\n",
        " CLF SAID: C ACTUALLY: C\n",
        "FOR: Landrieu: C'mon, My Fellow Democrat's Pro-Voter Fraud Advice Was Just 'a Joke' - Guy Benson \n",
        " CLF SAID: C ACTUALLY: C\n",
        "FOR: How to Beat the Traditional S&S 500 Index - Nicholas Vardy -  Page full\n",
        " CLF SAID: L ACTUALLY: C\n",
        "FOR: Obama's Scandal-Tainted BCGB (Best Chicago Golfing Buddy) - Michelle Malkin -  Page full\n",
        " CLF SAID: C ACTUALLY: C\n",
        "FOR: Great Moments in Government Schooling - Daniel J. Mitchell - Townhall Finance Conservative Columnists and Financial Commentary - Page full\n",
        " CLF SAID: C ACTUALLY: C\n",
        "FOR: Rape, Rudeness and Deciding the News - Erick Erickson -  Page full\n",
        " CLF SAID: C ACTUALLY: C\n",
        "FOR: The Challenge: Waiting Through Advent - Rebecca Hagelin -  Page full\n",
        " CLF SAID: C ACTUALLY: C\n",
        "FOR: Obama Now Wants To Make Nice With Congressional Dems - Donald Lambro -  Page full\n",
        " CLF SAID: L ACTUALLY: C\n",
        "FOR: What the UVA Rape Case Reveals - Mona Charen -  Page full\n",
        " CLF SAID: C ACTUALLY: C\n",
        "FOR: Should There Have Been Charges Filed In The Eric Garner Case? - Matt Vespa \n",
        " CLF SAID: L ACTUALLY: C\n",
        "FOR: Another Ceasefire Awaits Failure in Ukraine - Night Watch - Townhall Finance Conservative Columnists and Financial Commentary - Page full\n",
        " CLF SAID: L ACTUALLY: C\n",
        "FOR: Uh Oh: Rolling Stone Says There Are Discrepancies In Their UVA Story - Matt Vespa \n",
        " CLF SAID: L ACTUALLY: C\n",
        "FOR: With Eric Garner case, Mayor de Blasio finds more resolute voice - CSMonitor.com\n",
        " CLF SAID: C ACTUALLY: C\n",
        "FOR: Jihadi hostage-taking: Could it get out of control in Lebanon? - CSMonitor.com\n",
        " CLF SAID: C ACTUALLY: C\n",
        "FOR: Five burger trends to watch in 2015 - CSMonitor.com\n",
        " CLF SAID: C ACTUALLY: C\n",
        "FOR: Time to leave the nest? Japan's Abe pushes youths to head overseas - CSMonitor.com\n",
        " CLF SAID: C ACTUALLY: C\n",
        "FOR: Ferguson protesters met with racial slurs during march to Missouri capital - CSMonitor.com\n",
        " CLF SAID: L ACTUALLY: C\n",
        "FOR: Shakespeare in Shanghai? The Bard takes China by storm - CSMonitor.com\n",
        " CLF SAID: C ACTUALLY: C\n",
        "FOR: Sidelined in Jordan, Syrians watch their revolution, dismayed but unbowed - CSMonitor.com\n",
        " CLF SAID: C ACTUALLY: C\n",
        "FOR: Peter Schumann's puppets speak out on big issues - CSMonitor.com\n",
        " CLF SAID: C ACTUALLY: C\n",
        "FOR: Landrieu battle cry: 'The only poll that matters is on Election Day' - CSMonitor.com\n",
        " CLF SAID: C ACTUALLY: C\n",
        "FOR: Romney 2016: Why it may make sense for him to run again - CSMonitor.com\n",
        " CLF SAID: C ACTUALLY: C\n",
        "FOR: What Do Illegal Immigrants Want? | The Weekly Standard\n",
        " CLF SAID: L ACTUALLY: C\n",
        "FOR: Schieles Faces    | The Weekly Standard\n",
        " CLF SAID: C ACTUALLY: C\n",
        "FOR: The Incredible Shrinking SecDef | The Weekly Standard\n",
        " CLF SAID: C ACTUALLY: C\n",
        "FOR: Sermons for the King | The Weekly Standard\n",
        " CLF SAID: C ACTUALLY: C\n",
        "FOR: Here the Word   | The Weekly Standard\n",
        " CLF SAID: C ACTUALLY: C\n",
        "FOR: Churchill on the Hill | The Weekly Standard\n",
        " CLF SAID: C ACTUALLY: C\n",
        "FOR: Obama Negativa  | The Weekly Standard\n",
        " CLF SAID: C ACTUALLY: C\n",
        "FOR: Into the Valley  | The Weekly Standard\n",
        " CLF SAID: C ACTUALLY: C\n",
        "FOR: On a Roll  | The Weekly Standard\n",
        " CLF SAID: C ACTUALLY: C\n",
        "FOR: Piling New Regulations Atop Unworkable Older Ones | The American Spectator\n",
        " CLF SAID: C ACTUALLY: C\n",
        "FOR: Goodbye to a Man Who Saved His Country | The American Spectator\n",
        " CLF SAID: C ACTUALLY: C\n",
        "FOR: How Science Can Tell If Your Great-Grandparents Were Strikebreakers | Mother Jones\n",
        " CLF SAID: C ACTUALLY: L\n",
        "FOR: Elizabeth Warren Doesn't Like This Treasury Nominee. Here's Why. | Mother Jones\n",
        " CLF SAID: C ACTUALLY: L\n",
        "FOR: Homophobic slur at a funeral: Should you speak up?\n",
        " CLF SAID: L ACTUALLY: L\n",
        "FOR: Linda Tirado on the realities of living in bootstrap America: daily annoyances for most people are catastrophic for poor people.\n",
        " CLF SAID: L ACTUALLY: L\n",
        "FOR: Felix Salmon on Slate Money: I told listeners Id match their charity donations and ended up spending nearly $20,000.\n",
        " CLF SAID: L ACTUALLY: L\n",
        "FOR: Questionable adoptions, lobbying rewards, and dubious work therapy: the best investigative reporting of the past week.\n",
        " CLF SAID: C ACTUALLY: L\n",
        "FOR: Gluten-free fad: Dont be annoyed, says celiac disease memoirist.\n",
        " CLF SAID: L ACTUALLY: L"
       ]
      },
      {
       "output_type": "stream",
       "stream": "stdout",
       "text": [
        "\n",
        "FOR: Sony Pictures hack: Reveals gender pay gap at the entertainment company and Deloitte. \n",
        " CLF SAID: L ACTUALLY: L\n",
        "FOR: Behomm is the first home exchange community reserved for designers and visual artists. \n",
        " CLF SAID: C ACTUALLY: L\n",
        "FOR: Rumain Brisbon shooting, Phoenix protests: Unarmed black man and white cop.\n",
        " CLF SAID: L ACTUALLY: L\n",
        "FOR: Kilgore College: Texas community college asbestos controversy escalates to shooting at board members house. \n",
        " CLF SAID: L ACTUALLY: L\n",
        "FOR: Edward Banfield: The racist, classist origins of broken windows policing.\n",
        " CLF SAID: L ACTUALLY: L\n",
        "FOR: The conservative case for reforming the police and how to do it, in three steps.\n",
        " CLF SAID: C ACTUALLY: L\n",
        "FOR: Orion: NASA's second attempt at launch.\n",
        " CLF SAID: L ACTUALLY: L\n",
        "FOR: Caitlyn Ricci college tuition lawsuit: Divorced parents are obliged to pay ongoing support.\n",
        " CLF SAID: L ACTUALLY: L\n",
        "FOR: Senator Wyden proposes Secure Data Act to keep government agencies from mandating encryption backdoors.\n",
        " CLF SAID: L ACTUALLY: L\n",
        "FOR: Network TV sitcoms: Four tips to get network TV out of the Great Sitcom Recession.\n",
        " CLF SAID: L ACTUALLY: L\n",
        "FOR: Johnny Manziel, Kerrville: Even in the town where he learned to play the game, Johnny Football is polarizing.\n",
        " CLF SAID: L ACTUALLY: L\n",
        "FOR: New Jobs Figures Worth Celebrating - The New Yorker\n",
        " CLF SAID: L ACTUALLY: L\n",
        "FOR: Wild and Mr. Turner Reviews\n",
        " CLF SAID: L ACTUALLY: L\n",
        "FOR: The Ride of Their Lives\n",
        " CLF SAID: L ACTUALLY: L\n",
        "FOR: Eric Garner case offers Obama a moment to seize - The Washington Post\n",
        " CLF SAID: C ACTUALLY: L\n",
        "FOR: NASAs Orion completes historic flight, ushers in new era - The Washington Post\n",
        " CLF SAID: L ACTUALLY: L\n",
        "FOR: U-Va. community struggles with latest twist in traumatic fall semester - The Washington Post\n",
        " CLF SAID: L ACTUALLY: L\n",
        "FOR: The Insiders: Who is Hillary kidding? - The Washington Post\n",
        " CLF SAID: L ACTUALLY: L\n",
        "FOR: Millennials arent job hopping as much as previous generations. Heres why thats bad. - The Washington Post\n",
        " CLF SAID: C ACTUALLY: L\n",
        "FOR: 4 reasons to reject the racist Dutch tradition of Zwarte Piet - The Washington Post\n",
        " CLF SAID: L ACTUALLY: L\n",
        "FOR: How Rolling Stone failed in its story of alleged rape at the University of Virginia - The Washington Post\n",
        " CLF SAID: L ACTUALLY: L\n",
        "FOR: The marijuana industry is following the trail blazed by Big Tobacco - The Washington Post\n",
        " CLF SAID: L ACTUALLY: L\n",
        "FOR: The DOJs jaw-dropping report about the Cleveland Police Department - The Washington Post\n",
        " CLF SAID: L ACTUALLY: L\n",
        "FOR: Key elements of Rolling Stones U-Va. gang rape allegations in doubt - The Washington Post\n",
        " CLF SAID: L ACTUALLY: L\n",
        "FOR: Vincent Gray  D.C.s unfinished business - The Washington Post\n",
        " CLF SAID: L ACTUALLY: L\n",
        "FOR: For Americans exonerated in Qatar, the law worked. Eventually. - The Washington Post\n",
        " CLF SAID: C ACTUALLY: L\n",
        "FOR: Elite fragmentation and securitization in Bahrain - The Washington Post\n",
        " CLF SAID: C ACTUALLY: L\n",
        "FOR: Tamir Rices family files wrongful death lawsuit after fatal shooting of 12-year-old in Cleveland - The Washington Post\n",
        " CLF SAID: L ACTUALLY: L\n",
        "FOR: Protesters continue march throughout the District, police say rolling road closures in effect - The Washington Post\n",
        " CLF SAID: L ACTUALLY: L\n",
        "FOR: Daesh: John Kerry starts calling the Islamic State a name they hate - The Washington Post\n",
        " CLF SAID: L ACTUALLY: L\n",
        "FOR: Happy Hour Roundup - The Washington Post\n",
        " CLF SAID: C ACTUALLY: L\n",
        "FOR: Phillip Thomas eager to redeem himself with Meriweather doubtful - The Washington Post\n",
        " CLF SAID: L ACTUALLY: L\n",
        "FOR: Why its so hard to calculate the cost of the Sony Pictures hack - The Washington Post\n",
        " CLF SAID: L ACTUALLY: L\n",
        "FOR: Is there a Peter Principle for investors? - The Washington Post\n",
        " CLF SAID: L ACTUALLY: L\n",
        "FOR: A jogger saved Mike Wises life. Six years later, the columnist got to repay him. - The Washington Post\n",
        " CLF SAID: L ACTUALLY: L\n",
        "FOR: Heres how Landrieus kitchen sink strategy against Cassidy has sounded - The Washington Post\n",
        " CLF SAID: L ACTUALLY: L\n",
        "FOR: The Galapagos might lose some of their best researchers, and theyre blaming the gift shop - The Washington Post\n",
        " CLF SAID: L ACTUALLY: L\n",
        "FOR: Obama makes Dec. 26 a holiday - The Washington Post\n",
        " CLF SAID: L ACTUALLY: L\n",
        "FOR: The long, halting, still-unfinished fight to end racial profiling in America - The Washington Post\n",
        " CLF SAID: L ACTUALLY: L\n",
        "FOR: Special assistant Deric Ladnier hired by Diamondbacks - The Washington Post\n",
        " CLF SAID: L ACTUALLY: L\n",
        "FOR: How Chinas Economy Passed the United States - Doug Fabian - Townhall Finance Conservative Columnists and Financial Commentary - Page 1\n",
        " CLF SAID: C ACTUALLY: C\n",
        "FOR: We Can't Live Like This, and We Won't Much Longer - Steve Deace -  Page full\n",
        " CLF SAID: C ACTUALLY: C\n",
        "FOR: Another Victory for Fiscal Responsibility: The Death of Earmarks  - Daniel J. Mitchell - Townhall Finance Conservative Columnists and Financial Commentary - Page full\n",
        " CLF SAID: L ACTUALLY: C\n",
        "FOR: Everything You Should Know About the Jobs Numbers  - Mike Shedlock - Townhall Finance Conservative Columnists and Financial Commentary - Page 1\n",
        " CLF SAID: C ACTUALLY: C\n",
        "FOR: Bad Laws Lead to Bad Cops  - Mark Skousen - Townhall Finance Conservative Columnists and Financial Commentary - Page 1\n",
        " CLF SAID: L ACTUALLY: C\n",
        "FOR: Is Obama Still President? Thats All We Need - John Ransom - Townhall Finance Conservative Columnists and Financial Commentary - Page full\n",
        " CLF SAID: C ACTUALLY: C"
       ]
      },
      {
       "output_type": "stream",
       "stream": "stdout",
       "text": [
        "\n",
        "FOR: The Power of Fred - Bill Tatro - Townhall Finance Conservative Columnists and Financial Commentary - Page 1\n",
        " CLF SAID: C ACTUALLY: C\n",
        "FOR: Why OPEC Will Tolerate Cheap Oil - John  Browne - Townhall Finance Conservative Columnists and Financial Commentary - Page full\n",
        " CLF SAID: C ACTUALLY: C\n",
        "FOR: Oil Prices Put Pressure on Russian Aggression  - Night Watch - Townhall Finance Conservative Columnists and Financial Commentary - Page full\n",
        " CLF SAID: L ACTUALLY: C\n",
        "FOR: Rules and submission guidelines for the 2014 Cartoonist Studio Prize.\n",
        " CLF SAID: L ACTUALLY: L\n",
        "FOR: Best books 2014: Slate staff recommendations. \n",
        " CLF SAID: L ACTUALLY: L\n",
        "FOR: A Party for Whisper\n",
        " CLF SAID: L ACTUALLY: L\n",
        "FOR: Humphries, Wall lead Wizards to a rout of Nuggets, 119-89 - The Washington Post\n",
        " CLF SAID: L ACTUALLY: L\n",
        "FOR: The Importance of Generational Knowledge | The American Conservative\n",
        " CLF SAID: C ACTUALLY: C\n",
        "FOR: Why earmarks hinder Congress - CSMonitor.com\n",
        " CLF SAID: C ACTUALLY: C\n",
        "FOR: Can reforms change Mexico's corrupt police culture? - CSMonitor.com\n",
        " CLF SAID: C ACTUALLY: C\n",
        "FOR: Luke Somers: US and South African hostages murdered in rescue mission. \n",
        " CLF SAID: L ACTUALLY: L\n",
        "FOR: Civil rights comrades remember Marion Barry - The Washington Post\n",
        " CLF SAID: L ACTUALLY: L\n",
        "FOR:  - The Washington Post\n",
        " CLF SAID: L ACTUALLY: L\n",
        "FOR: Protesters of chokehold death rally around nation - The Washington Post\n",
        " CLF SAID: L ACTUALLY: L\n",
        "FOR: Just Asking: Valerie Jarrett on giving bad advice, shyness and the value of loyalty - The Washington Post\n",
        " CLF SAID: C ACTUALLY: L\n",
        "FOR: Panel lets Chris Christie off 'Bridgegate' hook. Is he, really? - CSMonitor.com\n",
        " CLF SAID: C ACTUALLY: C\n",
        "FOR: What UVA journalists take away from Rolling Stone apology - CSMonitor.com\n",
        " CLF SAID: C ACTUALLY: C\n",
        "FOR: College football TV schedule: Conference championships on Saturday - CSMonitor.com\n",
        " CLF SAID: C ACTUALLY: C\n",
        "FOR: The Obama Recovery Has Been Miles Better Than the Bush Recovery | Mother Jones\n",
        " CLF SAID: C ACTUALLY: L\n",
        "FOR: U.S. will keep 1,000 more rroops in Afghanistan than planned.\n",
        " CLF SAID: L ACTUALLY: L\n",
        "FOR: Jewell profoundly disappointed by land exchange at sacred Native American sites - The Washington Post\n",
        " CLF SAID: L ACTUALLY: L\n",
        "FOR: Redskins are streaking in wrong direction again - The Washington Post\n",
        " CLF SAID: L ACTUALLY: L\n",
        "FOR: Being a cop showed me just how racist and violent the police are. Theres only one fix. - The Washington Post\n",
        " CLF SAID: L ACTUALLY: L\n",
        "FOR: Redskins-Rams: Five story lines to follow Sunday at FedEx Field - The Washington Post\n",
        " CLF SAID: L ACTUALLY: L\n",
        "FOR: Who had the worst week in Washington? Elizabeth Lauten. - The Washington Post\n",
        " CLF SAID: L ACTUALLY: L\n",
        "FOR: Dispute over Redskins Robert Griffin III could lead to showdown between Jay Gruden, Bruce Allen - The Washington Post\n",
        " CLF SAID: L ACTUALLY: L\n",
        "FOR: @Work Advice: Since when does PTO mean Potty Time Off? - The Washington Post\n",
        " CLF SAID: L ACTUALLY: L\n",
        "FOR: Hogan says he will declare heroin emergency once sworn in as Md. governor - The Washington Post\n",
        " CLF SAID: L ACTUALLY: L\n",
        "FOR: Marion Barrys final farewell draws thousands, stretches for hours - The Washington Post\n",
        " CLF SAID: L ACTUALLY: L\n",
        "FOR: Harvey Silverglate on Fergusons Unexpected Lessons - The Washington Post\n",
        " CLF SAID: C ACTUALLY: L\n",
        "FOR: No matter what Jackie said, we should generally believe rape claims - The Washington Post\n",
        " CLF SAID: C ACTUALLY: L\n",
        "FOR: After more than three decades and 3,000 reviews, a fond farewell - The Washington Post\n",
        " CLF SAID: L ACTUALLY: L\n",
        "FOR: Untrue? So What; Its Useful | The American Conservative\n",
        " CLF SAID: L ACTUALLY: C\n",
        "FOR: Great (and Not so Great) Moments in Tax Avoidance  - Daniel J. Mitchell - Townhall Finance Conservative Columnists and Financial Commentary - Page full\n",
        " CLF SAID: L ACTUALLY: C\n",
        "FOR: Is This What We Really Want? - Kevin McCullough -  Page full\n",
        " CLF SAID: C ACTUALLY: C\n",
        "FOR: Black Crime and Police Killings - Steve Chapman -  Page full\n",
        " CLF SAID: L ACTUALLY: C\n",
        "FOR: I Kissed Fox Goodbye - Marvin Olasky -  Page full\n",
        " CLF SAID: L ACTUALLY: C\n",
        "FOR: Oh, Brother - Paul Jacob -  Page full\n",
        " CLF SAID: C ACTUALLY: C\n",
        "FOR: Top GOP Leader Promises Total Amnesty In 2015  - Nick Sorrentino - Townhall Finance Conservative Columnists and Financial Commentary - Page 1\n",
        " CLF SAID: C ACTUALLY: C\n",
        "FOR: Who Is Killing Off Black Americans - Michael Brown -  Page full\n",
        " CLF SAID: C ACTUALLY: C\n",
        "FOR: Blue State Leftists Destroying Red States? - Bruce Bialosky -  Page full\n",
        " CLF SAID: C ACTUALLY: C\n",
        "FOR: UC's New Motto: Take the Money and Run - Debra J. Saunders -  Page full\n",
        " CLF SAID: C ACTUALLY: C\n",
        "FOR: Caring for our food at its source - CSMonitor.com\n",
        " CLF SAID: C ACTUALLY: C"
       ]
      },
      {
       "output_type": "stream",
       "stream": "stdout",
       "text": [
        "\n",
        "FOR: Four years after Egypt's uprising, prison ranks swell: A writer's story - CSMonitor.com\n",
        " CLF SAID: C ACTUALLY: C\n",
        "FOR: How to fix police-black distrust - CSMonitor.com\n",
        " CLF SAID: C ACTUALLY: C\n",
        "FOR: NFL Game of the Week: Seattle Seahawks vs. Philadelphia Eagles - CSMonitor.com\n",
        " CLF SAID: C ACTUALLY: C\n",
        "FOR: North Korea calls Sony hack a righteous deed. \n",
        " CLF SAID: L ACTUALLY: L\n",
        "FOR: Ibolya Feher: Sclerder Abbey takes a look at the Sisters of the Carmelite order (PHOTOS).\n",
        " CLF SAID: L ACTUALLY: L\n",
        "FOR: Rolling Stone, U.V.A., and Reporting on Rape - The New Yorker\n",
        " CLF SAID: L ACTUALLY: L\n",
        "FOR: The Duggar Family Kama Sutra\n",
        " CLF SAID: C ACTUALLY: L\n",
        "FOR: London Fletcher slams Jim Haslett - The Washington Post\n",
        " CLF SAID: L ACTUALLY: L\n",
        "FOR: Former CIA chief says agency never lied about torture - The Washington Post\n",
        " CLF SAID: L ACTUALLY: L\n",
        "FOR: Why angry Australian gamers want to ban the Bible - The Washington Post\n",
        " CLF SAID: L ACTUALLY: L\n",
        "FOR: N.Y. Mayor Bill de Blasio spoke bluntly on race, policing in ways harder for Obama - The Washington Post\n",
        " CLF SAID: L ACTUALLY: L\n",
        "FOR: TCU snub shows weekly College Football Playoff rankings were a sham, whether Ohio State was deserving or not - The Washington Post\n",
        " CLF SAID: L ACTUALLY: L\n",
        "FOR: Page Not Found - The Washington Post\n",
        " CLF SAID: L ACTUALLY: L\n",
        "FOR: Baylor, TCU fans erupt on Twitter over College Football Playoff, Big 12 and Bob Bowlsby - The Washington Post\n",
        " CLF SAID: L ACTUALLY: L\n",
        "FOR: Capitals forward Liam OBrien reassigned to Hershey - The Washington Post\n",
        " CLF SAID: L ACTUALLY: L\n",
        "FOR: College Football Playoff: Alabama, Oregon, Florida State, Ohio State are in - The Washington Post\n",
        " CLF SAID: L ACTUALLY: L\n",
        "FOR: The old man and the rising sea - The Washington Post\n",
        " CLF SAID: L ACTUALLY: L\n",
        "FOR: Inquiries Arent the Answer to Eric Garner | The American Conservative\n",
        " CLF SAID: C ACTUALLY: C\n",
        "FOR: Moralistic Therapeutic Journalism | The American Conservative\n",
        " CLF SAID: L ACTUALLY: C\n",
        "FOR: The Dead Hand of the Past: Bad Jews at the Studio Theatre | The American Conservative\n",
        " CLF SAID: L ACTUALLY: C\n",
        "FOR: Ft. Hood Victims May Get Purple Heart, Lingering Questions Remain - Larry Provost -  Page full\n",
        " CLF SAID: L ACTUALLY: C\n",
        "FOR: Forget Low-information Voters, Blame Low-information Media - Tom Tradup \n",
        " CLF SAID: C ACTUALLY: C\n",
        "FOR: You Will Live Forever - Matt Barber -  Page full\n",
        " CLF SAID: C ACTUALLY: C\n",
        "FOR: The Good That Results From US 'Boots on the Ground' - Jeff Jacoby -  Page 1\n",
        " CLF SAID: C ACTUALLY: C\n",
        "FOR: Mary, Mary Quite Contrary - Jeff Crouere - Townhall Finance Conservative Columnists and Financial Commentary - Page full\n",
        " CLF SAID: C ACTUALLY: C\n",
        "FOR: Obama's Selfie, Photoshopped Life - John Ransom - Townhall Finance Conservative Columnists and Financial Commentary - Page full\n",
        " CLF SAID: C ACTUALLY: C\n",
        "FOR: Subsidized Terrorism Insurance: Another Example of Unjust Corporate Welfare - Daniel J. Mitchell - Townhall Finance Conservative Columnists and Financial Commentary - Page full\n",
        " CLF SAID: C ACTUALLY: C\n",
        "FOR: Syria, Iran accuse Israel of air strike; arms for Hezbollah are likely target - CSMonitor.com\n",
        " CLF SAID: C ACTUALLY: C\n",
        "FOR: UN reports Israeli support for Syria rebels - CSMonitor.com\n",
        " CLF SAID: C ACTUALLY: C\n",
        "FOR: Americas Other Inequality | The American Spectator\n",
        " CLF SAID: L ACTUALLY: C\n",
        "FOR: Dont Misunderstand: I Like Prince Charles | The American Spectator\n",
        " CLF SAID: C ACTUALLY: C\n",
        "FOR: The Missing Hurricanes | The American Spectator\n",
        " CLF SAID: L ACTUALLY: C\n",
        "FOR: Eric Garner, Tax Martyr | The American Spectator\n",
        " CLF SAID: C ACTUALLY: C\n",
        "FOR: How Newt Gingrichs Language Guru Helped Rebrand the Kochs Message | Mother Jones\n",
        " CLF SAID: L ACTUALLY: L\n",
        "FOR: Is the Gates Foundation Still Investing in Private Prisons? | Mother Jones\n",
        " CLF SAID: L ACTUALLY: L\n",
        "FOR: College rape: Campus sexual assault is a serious problem. But the efforts to protect women are infringing on the civil rights of men.\n",
        " CLF SAID: L ACTUALLY: L\n",
        "FOR: Oxytots and meth babies are the new crack babies: Bad science and the rush to demonize the most vulnerable pregnant women. \n",
        " CLF SAID: C ACTUALLY: L\n",
        "FOR: Silk Road 2.0 arrests, Operation Onymous: Did the FBI break Tor?\n",
        " CLF SAID: L ACTUALLY: L\n",
        "FOR: Movie intermissions are necessary in the age of long movies like Interstellar.\n",
        " CLF SAID: L ACTUALLY: L\n",
        "FOR: The Cooper Hewitt Re-Opens | The New Yorker\n",
        " CLF SAID: L ACTUALLY: L\n",
        "FOR: The Astonishing Rise of Angela Merkel\n",
        " CLF SAID: L ACTUALLY: L\n",
        "FOR: One Womans Drive to Revolutionize Medical Testing | The New Yorker\n",
        " CLF SAID: L ACTUALLY: L\n",
        "FOR: Abby Phillip - The Washington Post\n",
        " CLF SAID: L ACTUALLY: L\n",
        "FOR: How Rolling Stones campus rape story could discourage victims from speaking out - The Washington Post\n",
        " CLF SAID: L ACTUALLY: L\n",
        "FOR: Why Congress cant stop a federal hiring blitz tied to Obamas immigration actions - The Washington Post\n",
        " CLF SAID: C ACTUALLY: L\n",
        "FOR: With 13 Hours in Islamabad, Homeland is almost great again - The Washington Post\n",
        " CLF SAID: C ACTUALLY: L\n",
        "FOR: This is the best way to save for college. And hardly anyone uses it - The Washington Post\n",
        " CLF SAID: L ACTUALLY: L\n",
        "FOR: Technology is ruining our memory. Heres why that doesnt matter. - The Washington Post\n",
        " CLF SAID: L ACTUALLY: L\n",
        "FOR: Does Obama have the worst record of any president on the national debt? - The Washington Post\n",
        " CLF SAID: C ACTUALLY: L\n",
        "FOR: READ IN: Best Week Ever Edition - The Washington Post\n",
        " CLF SAID: C ACTUALLY: L\n",
        "FOR: Kevin Durant, Oklahoma City in foreign land but not seeking any sympathy - The Washington Post\n",
        " CLF SAID: L ACTUALLY: L\n",
        "FOR: The Redskins are bad, from top to bottom - The Washington Post\n",
        " CLF SAID: L ACTUALLY: L\n",
        "FOR: College Football Playoff field set but controversy lingers with Ohio State in, TCU snubbed - The Washington Post\n",
        " CLF SAID: L ACTUALLY: L\n",
        "FOR: The last remnants of the old New Republic have been swept away - The Washington Post\n",
        " CLF SAID: C ACTUALLY: L\n",
        "FOR: Why Eric Garner is the turning point Ferguson never was - The Washington Post\n",
        " CLF SAID: C ACTUALLY: L\n",
        "FOR: The happiness curve - The Washington Post\n",
        " CLF SAID: L ACTUALLY: L"
       ]
      },
      {
       "output_type": "stream",
       "stream": "stdout",
       "text": [
        "\n",
        "FOR: The epic Rolling Stone gang-rape fallout  and how major publications get it wrong - The Washington Post\n",
        " CLF SAID: L ACTUALLY: L\n",
        "FOR: Conservatives say Rolling Stone U-Va. rape story exposes the liberal narrative - The Washington Post\n",
        " CLF SAID: C ACTUALLY: L\n",
        "FOR: People have lost faith with companies and governments - The Washington Post\n",
        " CLF SAID: L ACTUALLY: L\n",
        "FOR: Nationals to make another effort re-sign Jordan Zimmermann long-term - The Washington Post\n",
        " CLF SAID: L ACTUALLY: L\n",
        "FOR: Heres how irrational flu vaccine deniers are - The Washington Post\n",
        " CLF SAID: L ACTUALLY: L\n",
        "FOR: Kennedy Center Honors kicks off with a star-studded red carpet - The Washington Post\n",
        " CLF SAID: L ACTUALLY: L\n",
        "FOR: Morning Plum: Hey Democrats, whats your Plan B? - The Washington Post\n",
        " CLF SAID: C ACTUALLY: L\n",
        "FOR: The overlooked audiotape of the Michael Brown shooting - The Washington Post\n",
        " CLF SAID: L ACTUALLY: L\n",
        "FOR: North Korea denies hacking Sony but calls the breach a righteous deed - The Washington Post\n",
        " CLF SAID: L ACTUALLY: L\n",
        "FOR: Witnessing Ferguson: Variation in witness statements driven more by systematic bias than uncertainty - The Washington Post\n",
        " CLF SAID: L ACTUALLY: L\n",
        "FOR: Learning the Lessons of the 1930s Forever | The American Conservative\n",
        " CLF SAID: C ACTUALLY: C\n",
        "FOR: Enlightenment or Endarkenment? | The American Conservative\n",
        " CLF SAID: C ACTUALLY: C\n",
        "FOR: North Korea: It's a \"False Rumor\" We Hacked Sony, Okay? - Daniel Doherty \n",
        " CLF SAID: L ACTUALLY: C\n",
        "FOR: Mid-Terms 2014 - RIP - Rich Galen -  Page full\n",
        " CLF SAID: L ACTUALLY: C\n",
        "FOR: Obamacare's Destruction of Primary Care Doctors Continues  - Katie Pavlich \n",
        " CLF SAID: L ACTUALLY: C\n",
        "FOR: Americans Hate a Loser, GOP - John Ransom - Townhall Finance Conservative Columnists and Financial Commentary - Page full\n",
        " CLF SAID: C ACTUALLY: C\n",
        "FOR: Coming Soon: Barbara Boxer's Retirement Announcement? - Guy Benson \n",
        " CLF SAID: C ACTUALLY: C\n",
        "FOR: Will a Divided Government Work for Millennials? - Corie  Stephens -  Page full\n",
        " CLF SAID: C ACTUALLY: C\n",
        "FOR: House Chooses New Cold War With Russia - Ron Paul -  Page full\n",
        " CLF SAID: C ACTUALLY: C\n",
        "FOR: What China's Army-issue underwear reveals - CSMonitor.com\n",
        " CLF SAID: L ACTUALLY: C\n",
        "FOR: Despite failed raid, US likely to stand by its no-ransom policy for hostages - CSMonitor.com\n",
        " CLF SAID: L ACTUALLY: C\n",
        "FOR: Symbolic 'end' to Afghanistan war overshadowed by new Obama plans - CSMonitor.com\n",
        " CLF SAID: C ACTUALLY: C\n",
        "FOR: Russian scientist spies mountain-sized asteroid heading our way - CSMonitor.com\n",
        " CLF SAID: C ACTUALLY: C\n",
        "FOR: Failed hostage raid in Yemen: why there'll be more rescues to come - CSMonitor.com\n",
        " CLF SAID: C ACTUALLY: C\n",
        "FOR: 'Historic' Los Angeles fire engulfs city block - CSMonitor.com\n",
        " CLF SAID: C ACTUALLY: C\n",
        "FOR: A light on Iran's dark powers - CSMonitor.com\n",
        " CLF SAID: C ACTUALLY: C\n",
        "FOR: Amid Rolling Stone fallout, will college women be reluctant to report rape? - CSMonitor.com\n",
        " CLF SAID: C ACTUALLY: C\n",
        "FOR: Supreme Court declines dispute about BP oil spill compensation fund - CSMonitor.com\n",
        " CLF SAID: C ACTUALLY: C\n",
        "FOR: The Freedom Tower Was Supposed to Be the Greenest Building in America. So What Went Wrong? | Mother Jones\n",
        " CLF SAID: L ACTUALLY: L\n",
        "FOR: American Lives Will Be Saved, Not Lost, If We Release the Senate Torture Report | Mother Jones\n",
        " CLF SAID: C ACTUALLY: L\n",
        "FOR: No Exit in Gaza  | The Nation\n",
        " CLF SAID: L ACTUALLY: L\n",
        "FOR: Net neutrality: German Chancellor Angela Merkel supported fast lanes at the Digitising Europe conference in Berlin.\n",
        " CLF SAID: L ACTUALLY: L\n",
        "FOR: 4DX: How simulation and virtual reality technology are changing the way we experience movies.\n",
        " CLF SAID: L ACTUALLY: L\n",
        "FOR: What does it mean to play legato on the piano?\n",
        " CLF SAID: L ACTUALLY: L\n",
        "FOR: Broke millennials: The decline of young adult incomes since the recession.\n",
        " CLF SAID: L ACTUALLY: L\n",
        "FOR: Olympic reforms: Co-hosting could be allowed.\n",
        " CLF SAID: L ACTUALLY: L\n",
        "FOR: Math versus maths: How Americans and Brits deploy the collective noun.\n",
        " CLF SAID: L ACTUALLY: L\n",
        "FOR: What Grumpy Cat is worth: Did Tabatha Bundesen's pet really earn $100 million?\n",
        " CLF SAID: L ACTUALLY: L\n",
        "FOR: Marsala: Pantone announces its 2015 Color of the Year. \n",
        " CLF SAID: L ACTUALLY: L\n",
        "FOR: Republican attorney general cooperation: Scott Pruitt, Devon Energy work hand in hand.\n",
        " CLF SAID: C ACTUALLY: L\n",
        "FOR: Daniel Pantaleo Staten Island grand jury: Why did it refuse to indict Eric Garners killer?\n",
        " CLF SAID: L ACTUALLY: L\n",
        "FOR: Discovery Channel Eaten Alive documentary was disappointing because educational television is becoming clickbait.\n",
        " CLF SAID: L ACTUALLY: L\n",
        "FOR: Where the Streets Have a Name: Seven Addresses that Defined the News in 2014 - The New Yorker\n",
        " CLF SAID: L ACTUALLY: L\n",
        "FOR: Inherent Vice Review | The New Yorker\n",
        " CLF SAID: C ACTUALLY: L\n",
        "FOR: Should the Democrats Give Up on the South? - The New Yorker\n",
        " CLF SAID: C ACTUALLY: L\n",
        "FOR: VIDEO GAME REVIEW: This War of Mine deals with the horrors of war without the gore - The Washington Post\n",
        " CLF SAID: L ACTUALLY: L\n",
        "FOR: Massive Los Angeles fire destroyed apartment building, snarled traffic on two freeways - The Washington Post\n",
        " CLF SAID: L ACTUALLY: L\n",
        "FOR: Arguing with anti-vaxers: Maybe not a good idea - The Washington Post\n",
        " CLF SAID: L ACTUALLY: L\n",
        "FOR: Judge-found facts are a questionable foundation, says the Tenth Circuit - The Washington Post\n",
        " CLF SAID: L ACTUALLY: L"
       ]
      },
      {
       "output_type": "stream",
       "stream": "stdout",
       "text": [
        "\n",
        "FOR: Obama says law enforcement complaints personal for me because of who I am - The Washington Post\n",
        " CLF SAID: L ACTUALLY: L\n",
        "FOR: 5 questions about the CIA detention and interrogation report you wish you didnt have to ask - The Washington Post\n",
        " CLF SAID: L ACTUALLY: L\n",
        "FOR: No, really: There is a scientific explanation for the parting of the Red Sea in Exodus - The Washington Post\n",
        " CLF SAID: L ACTUALLY: L\n",
        "FOR: As Andre Burakovsky navigates a valley in rookie year, Caps unsure of his World Juniors status - The Washington Post\n",
        " CLF SAID: L ACTUALLY: L\n",
        "FOR: Free & Easy: Winternational, Santarchy and holidays at the White House - The Washington Post\n",
        " CLF SAID: L ACTUALLY: L\n",
        "FOR: The insane narrative you are supposed to believe about the torture report - The Washington Post\n",
        " CLF SAID: L ACTUALLY: L\n",
        "FOR: Virginias licensing requirements hurt a Loudoun County charter school - The Washington Post\n",
        " CLF SAID: C ACTUALLY: L\n",
        "FOR: Administration tries to hide Irans alleged cheating - The Washington Post\n",
        " CLF SAID: C ACTUALLY: L\n",
        "FOR: Typhoon Hagupit inundates Philippines with third day of flooding rain - The Washington Post\n",
        " CLF SAID: L ACTUALLY: L\n",
        "FOR: Adam Goldman - The Washington Post\n",
        " CLF SAID: L ACTUALLY: L\n",
        "FOR: When unrecognizable is a compliment - The Washington Post\n",
        " CLF SAID: C ACTUALLY: L\n",
        "FOR: PM Update: Rain arrives overnight, persists into Tuesday; Some ice risk north and west - The Washington Post\n",
        " CLF SAID: L ACTUALLY: L\n",
        "FOR: Wizards squander second-half lead before beating Celtics in double overtime - The Washington Post\n",
        " CLF SAID: L ACTUALLY: L\n",
        "FOR: Korean Air executive goes nuts over service, delays plane - The Washington Post\n",
        " CLF SAID: C ACTUALLY: L\n",
        "FOR: Challenge for protesters in wake of police killings: Turning anger, grief into action - The Washington Post\n",
        " CLF SAID: L ACTUALLY: L\n",
        "FOR: Americans are not lovin McDonaldsand havent been for years - The Washington Post\n",
        " CLF SAID: L ACTUALLY: L\n",
        "FOR: Video game designer Ralph Baer invented your childhood. Here are five things you can learn from his extraordinary life. - The Washington Post\n",
        " CLF SAID: L ACTUALLY: L\n",
        "FOR: Woman walks her dog while dressed as the abominable snowman, makes winter less awful - The Washington Post\n",
        " CLF SAID: C ACTUALLY: L\n",
        "FOR: Obamas acid reflux may help others receive proper diagnosis and treatment - The Washington Post\n",
        " CLF SAID: L ACTUALLY: L\n",
        "FOR: LeBron James wore an I cant breathe warmup shirt tonight. Thats a very big deal. - The Washington Post\n",
        " CLF SAID: L ACTUALLY: L\n",
        "FOR: Amazon threatens to move its drone research overseas - The Washington Post\n",
        " CLF SAID: L ACTUALLY: L\n",
        "FOR: The meaning of Mary Landrieus loss, by the numbers - The Washington Post\n",
        " CLF SAID: L ACTUALLY: L\n",
        "FOR: A German political party wants immigrants to stop speaking foreign languageseven at home - The Washington Post\n",
        " CLF SAID: L ACTUALLY: L\n",
        "FOR: In The Imitation Game, a portrait of what bias cost England - The Washington Post\n",
        " CLF SAID: L ACTUALLY: L\n",
        "FOR: The familiar cycle of the taxi industry wars - The Washington Post\n",
        " CLF SAID: L ACTUALLY: L\n",
        "FOR: Montana governor wants a little more Mountain West in the Democratic Party - The Washington Post\n",
        " CLF SAID: C ACTUALLY: L\n",
        "FOR: Dont Risk War With Russia | The American Conservative\n",
        " CLF SAID: C ACTUALLY: C\n",
        "FOR: A Foreign Policy of Russophobia | The American Conservative\n",
        " CLF SAID: C ACTUALLY: C\n",
        "FOR: A Reply to Rush Limbaugh - Mona Charen -  Page full\n",
        " CLF SAID: C ACTUALLY: C\n",
        "FOR: You Don't Have to Love Your Parents: The Case for the Ten Commandments - Dennis Prager -  Page full\n",
        " CLF SAID: C ACTUALLY: C\n",
        "FOR: Standard Practice - Bill Murchison -  Page full\n",
        " CLF SAID: C ACTUALLY: C\n",
        "FOR: The Tree of National Socialism  - Bill Tatro - Townhall Finance Conservative Columnists and Financial Commentary - Page full\n",
        " CLF SAID: C ACTUALLY: C\n",
        "FOR: Don't Look for Much Emphasis on Abortion in the 2016 Campaign - Michael Barone -  Page full\n",
        " CLF SAID: C ACTUALLY: C\n",
        "FOR: The War Between Disparate Impact and Equal Protection Continues - Ilya Shapiro -  Page full\n",
        " CLF SAID: C ACTUALLY: C\n",
        "FOR: December 7, 2014: Hillarys Day of Infamy - Ken Blackwell -  Page full\n",
        " CLF SAID: C ACTUALLY: C\n",
        "FOR: The High Cost of Fast Track - Phyllis Schlafly -  Page full\n",
        " CLF SAID: C ACTUALLY: C\n",
        "FOR: 11 Law Enforcement Officers Killed - Chuck Norris -  Page full\n",
        " CLF SAID: C ACTUALLY: C\n",
        "FOR: The Truth Behind The Swiss Gold Referendum  - Ralph Benko - Townhall Finance Conservative Columnists and Financial Commentary - Page full\n",
        " CLF SAID: C ACTUALLY: C\n",
        "FOR: Liberal Politico asks: Will Jonathan Gruber Topple Obamacare?  - Nick Sorrentino - Townhall Finance Conservative Columnists and Financial Commentary - Page full\n",
        " CLF SAID: C ACTUALLY: C\n",
        "FOR: Iran to the Rescue  - Night Watch - Townhall Finance Conservative Columnists and Financial Commentary - Page full\n",
        " CLF SAID: C ACTUALLY: C\n",
        "FOR: Wild: Reese Witherspoon movie has a lot in common with 10 Hours of Walking in NYC as a Woman (VIDEO).\n",
        " CLF SAID: C ACTUALLY: L\n",
        "FOR: Uber Reviews for Charon, Boatman of Hades | The New Yorker\n",
        " CLF SAID: L ACTUALLY: L\n",
        "FOR: The School of American Ballet on PBS | The New Yorker\n",
        " CLF SAID: L ACTUALLY: L\n",
        "FOR: Federal workers morale is at lowest point in years - The Washington Post\n",
        " CLF SAID: L ACTUALLY: L\n",
        "FOR: John Wall, Nicki Minaj and Miyah - The Washington Post\n",
        " CLF SAID: L ACTUALLY: L\n",
        "\n",
        " The classifier was 78.31% accurate.\n",
        "\n",
        " 875 liberal articles, 0 conservative articles.\n",
        "\n",
        "\n"
       ]
      }
     ],
     "prompt_number": 11
    },
    {
     "cell_type": "code",
     "collapsed": false,
     "input": [
      "print (metrics.classification_report(Ytest, predicted))"
     ],
     "language": "python",
     "metadata": {},
     "outputs": [
      {
       "output_type": "stream",
       "stream": "stdout",
       "text": [
        "             precision    recall  f1-score   support\n",
        "\n",
        "          C       0.76      0.73      0.74       190\n",
        "          L       0.80      0.83      0.81       248\n",
        "\n",
        "avg / total       0.78      0.78      0.78       438\n",
        "\n"
       ]
      }
     ],
     "prompt_number": 12
    },
    {
     "cell_type": "code",
     "collapsed": false,
     "input": [
      "from wordcloud import STOPWORDS\n",
      "# cite: https://github.com/amueller/word_cloud\n",
      "mywcstr = \"\"\n",
      "\n",
      "for row in test_rows:\n",
      "    mywcstr += row[3] + ' '\n",
      "for row in train_rows:\n",
      "    mywcstr += row[3] + ' '\n",
      "    \n",
      "our_stopword_list = ('one', 'said', 'year', 'will', 'take', 'new', 'say')\n",
      "    \n",
      "our_stopwords = STOPWORDS.union(our_stopword_list)\n",
      "    \n",
      "wordcloud = WordCloud(background_color=\"white\", max_words=100, stopwords=our_stopwords).generate(mywcstr)\n",
      "\n",
      "plt.figure(figsize = (14,16))\n",
      "plt.title(\"What's in the news? \\n Words by Frequency\", fontsize = 20)\n",
      "plt.imshow(wordcloud, )\n",
      "plt.axis(\"off\")\n",
      "plt.show()"
     ],
     "language": "python",
     "metadata": {},
     "outputs": [
      {
       "metadata": {},
       "output_type": "display_data",
       "png": "[encoded data removed]",
       "text": [
        "<matplotlib.figure.Figure at 0x7ffa21d040d0>"
       ]
      }
     ],
     "prompt_number": 39
    },
    {
     "cell_type": "code",
     "collapsed": false,
     "input": [
      "# word cloud of SVM features\n",
      "features = clf.feature_importances_\n",
      "vocab = tk_train.vocabulary_\n",
      "vocabInvDict = {v: k for k, v in vocab.items()}\n",
      "\n",
      "outstr = \"\"\n",
      "for i in range(0,len(features)):\n",
      "    # lookup feature i in vocabulary\n",
      "    for _ in range(0,int(4000*features[i])):\n",
      "        outstr += ' ' + vocabInvDict[i] + ' '\n",
      "    # multiply value of feature i * word, add to out string\n",
      "        \n",
      "wordcloud = WordCloud(background_color=\"black\", max_words=100, stopwords=['said','advertisement', 'photo']).generate(outstr)\n",
      "\n",
      "plt.figure(figsize = (14,16))\n",
      "plt.title(\"Words Used For Classification of News Articles\", fontsize = 20)\n",
      "plt.imshow(wordcloud, )\n",
      "plt.axis(\"off\")\n",
      "plt.show()"
     ],
     "language": "python",
     "metadata": {},
     "outputs": [
      {
       "metadata": {},
       "output_type": "display_data",
       "png": "[encoded data removed]",
       "text": [
        "<matplotlib.figure.Figure at 0x7ff9e296fe90>"
       ]
      }
     ],
     "prompt_number": 74
    },
    {
     "cell_type": "markdown",
     "metadata": {},
     "source": [
      "# Part 7: Web Tool Creation\n",
      "\n",
      "On the website which corresponds to this project, we will have a textbox whereby a user can enter article text and we will classify it for them on the spot. The code to do this is included here. "
     ]
    },
    {
     "cell_type": "code",
     "collapsed": false,
     "input": [],
     "language": "python",
     "metadata": {},
     "outputs": []
    },
    {
     "cell_type": "markdown",
     "metadata": {},
     "source": [
      "# Part 8: Final Analysis\n",
      "\n",
      "<i>What did you learn about the data? How did you answer the questions? How can you justify your answers? </i>"
     ]
    },
    {
     "cell_type": "code",
     "collapsed": false,
     "input": [],
     "language": "python",
     "metadata": {},
     "outputs": []
    }
   ],
   "metadata": {}
  }
 ]
}