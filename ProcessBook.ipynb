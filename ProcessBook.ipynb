{
 "metadata": {
  "name": "",
  "signature": "sha256:a25258972b1cb7307bf8e9bd15238ab1461bab559e01b754af68e881cbbcb173"
 },
 "nbformat": 3,
 "nbformat_minor": 0,
 "worksheets": [
  {
   "cells": [
    {
     "cell_type": "markdown",
     "metadata": {},
     "source": [
      "<h2 align=\"center\">slant parse: <br><br> Using Machine Learning to Determine the Political Leanings of News Publications</h2>\n",
      "\n",
      "<br><center>Serena L Booth, Harvard College, Class of 2016</center>\n",
      "\n",
      "<center>Joseph M Booth, Harvard College, Class of 2015</center>\n",
      "\n",
      "\n",
      "---"
     ]
    },
    {
     "cell_type": "markdown",
     "metadata": {},
     "source": [
      "# Part 0: Overview and Motivation\n",
      "\n",
      "<i> Provide an overview of the project goals and the motivation for it. Consider that this will be read by people who did not see your project proposal. </i>\n",
      "\n",
      "Our original goal for this project was to train a classifier such that we were able to determine the unstated political leanings of satirical news organizations. This idea came up in casual conversation between the authors, and it was (and is) something we very much want to investigate. In drafting our project proposal and in meeting with our TF Olivia, it became apparant that for such a project to be relevant, we would need to provide a metric for determining the success of our classification. Given that the types of satirical news organizations we wanted to target certainly do not have a stated leaning, and nor have any or many lists of political leanings been created for these publications, such a metric couldn't be readily verified. For this reason, we decided to refine our project idea to determine the political leanings of news organizations in general. \n",
      "\n",
      "Both of the authors of this project are very interested in text analysis and natural language processing; this interest was part of our motivation for studying classification of political leanings in texts. Additionally, the authors wanted to explore scraping and cleaning data from the web. We had a lot of fun with that aspect of this project, and we both felt extremely proud of how neatly our article-retrieved text came out of our scraper (post computational clean up, naturally). \n",
      "\n",
      "The principal result of this work is a classifier which is trained on more than 250 articles scraped from five Liberal sources and five Conservative sources. This classifier vectorizes the words, considers the word frequencies, removes stop words (words like \"the\" or \"again\"), and successfully classifies the test data with approximately 80% accuracy. We look at the precision, the recall, and the F1-score for our classifier. We then provide some visual models for interpreting our feature evaluation. "
     ]
    },
    {
     "cell_type": "markdown",
     "metadata": {},
     "source": [
      "# Part 1: Related Work\n",
      "\n",
      "<i> Anything that inspired you, such as a paper, a web site, or something we discussed in class.\n",
      "Initial Questions: What questions are you trying to answer? How did these questions evolve over the course of the project? What new questions did you consider in the course of your analysis? </i>"
     ]
    },
    {
     "cell_type": "markdown",
     "metadata": {},
     "source": [
      "# Part 2: Initial Questions\n",
      "\n",
      "<i> What questions are you trying to answer? How did these questions evolve over the course of the project? What new questions did you consider in the course of your analysis? </i>"
     ]
    },
    {
     "cell_type": "markdown",
     "metadata": {},
     "source": [
      "#Part 3: Metric "
     ]
    },
    {
     "cell_type": "code",
     "collapsed": false,
     "input": [
      "import urllib\n",
      "import csv\n",
      "from bs4 import BeautifulSoup\n",
      "from sets import Set\n",
      "from sgmllib import SGMLParser\n",
      "import pickle \n",
      "from textstat.textstat import textstat as ts\n",
      "from sklearn import neighbors\n",
      "from sklearn import tree\n",
      "from sklearn import ensemble\n",
      "from sklearn.feature_extraction import text\n",
      "from sklearn import metrics\n",
      "from sklearn.naive_bayes import MultinomialNB\n",
      "from sklearn.ensemble import GradientBoostingClassifier\n",
      "\n",
      "import csv, enchant, string, pickle, re, time\n",
      "from collections import Counter"
     ],
     "language": "python",
     "metadata": {},
     "outputs": [],
     "prompt_number": 1
    },
    {
     "cell_type": "code",
     "collapsed": false,
     "input": [
      "list_of_political_magazines = ['http://en.wikipedia.org/wiki/List_of_political_magazines', 'http://en.wikipedia.org/wiki/Category:Modern_liberal_American_magazines',\n",
      "                               'http://en.wikipedia.org/wiki/Category:Conservative_American_magazines', 'http://usconservatives.about.com/od/gettinginvolved/tp/TopConservativeMagazines.htm',\n",
      "                               'http://www.allyoucanread.com/top-10-political-magazines/', 'http://www.conservapedia.com/Conservative_media', \n",
      "                               'http://www.dailykos.com/story/2009/04/05/716698/-The-Compleat-Revised-Guide-to-Liberal-and-Progressive-News-and-Politics-on-the-Web',\n",
      "                               'http://www.washingtonpost.com/blogs/the-fix/wp/2014/10/21/lets-rank-the-media-from-liberal-to-conservative-based-on-their-audiences/']"
     ],
     "language": "python",
     "metadata": {},
     "outputs": [],
     "prompt_number": 2
    },
    {
     "cell_type": "markdown",
     "metadata": {},
     "source": [
      "# Part 4: Data Collection\n",
      "\n",
      "<i> Source, scraping method, cleanup, etc. </i>\n",
      "\n",
      "We use the metric defined above (cross-referencing lists of political leanings) to determine 5 liberal sources and 5 conservative sources. \n",
      "\n",
      "The 5 liberal sources: \n",
      "    - Mother Jones\n",
      "    - The Nation\n",
      "    - Slate\n",
      "    - The New Yorker\n",
      "    - The Washington Post\n",
      "\n",
      "The 5 conservative sources:\n",
      "    - The Christian Science Monitor\n",
      "    - The Weekly Standard\n",
      "    - TownHall\n",
      "    - The American Conservative\n",
      "    - The American Spectator\n",
      "    \n",
      "We first visit the homepage of each of these publications. From the home page, we scrape all links and store these in a set. We then visit each such link, check if it is an article from the given publication, and then scrape that data into a csv called articles.csv. The format of articles.csv is: publication title, political leaning (C or L), article title, article text. "
     ]
    },
    {
     "cell_type": "code",
     "collapsed": false,
     "input": [
      "# cite: https://github.com/chungy/diveintopython/blob/master/py/urllister.py\n",
      "class URLLister(SGMLParser):\n",
      "    \"\"\"\n",
      "    Arguments: (implicit) SGMLParser \n",
      "    \n",
      "    Extracts all 'href's from an html document. We store these links in a set, \n",
      "    and process them individually to retrieve content or additional links. \n",
      "    \"\"\"\n",
      "    def reset(self):\n",
      "        SGMLParser.reset(self)\n",
      "        self.urls = []\n",
      "\n",
      "    def start_a(self, attrs):\n",
      "        href = [v for k, v in attrs if k=='href']\n",
      "        if href:\n",
      "            self.urls.extend(href)\n",
      "    "
     ],
     "language": "python",
     "metadata": {},
     "outputs": [],
     "prompt_number": 3
    },
    {
     "cell_type": "code",
     "collapsed": false,
     "input": [
      "def process_url(url, url_mod, string_start, find_string, start_article_delim, end_article_delim, name, pol):\n",
      "    \"\"\"\n",
      "    Arguments: string url, string url_mod, string find_string, string start_title_delim, \n",
      "    string end_title_delim, string start_article_delim, string end_article_delim, string name, string pol\n",
      "    \n",
      "    For each url passed to process_url, open the CSV file articles.csv which contains all data scraped.\n",
      "    Process the article by retrieving the title, and by using BeautifulSoup to retrieve the article text.\n",
      "    Store each article in the CSV as the publication name, the publication's political leaning (either 'L' or 'C'), article title, and article content.  \n",
      "    \"\"\"\n",
      "        \n",
      "    \n",
      "    #with open('articles_scraped.pickle', 'a+') as handle:\n",
      "    #    pickle.dump(set(), handle)\n",
      "    \n",
      "    # check url format\n",
      "    if len(url) > 0 and ((str(url)[0] == '/' and string_start == \"argument-not-used\") or str(url).find(string_start) == 0) and str(url).find(find_string) != -1: \n",
      "        with open('articles.csv', 'a+') as csvfile:\n",
      "            article_writer = csv.writer(csvfile, delimiter=',')\n",
      "            \n",
      "            tmp_url = url_mod + str(url)\n",
      "            usock = urllib.urlopen(tmp_url)\n",
      "            html = usock.read()\n",
      "                        \n",
      "            # use Beautiful Soup \n",
      "            soup_unprocessed = BeautifulSoup(html)\n",
      "            \n",
      "              \n",
      "            # use try/except to catch cases in which articles do not conform to general standards\n",
      "            # e.g. when an article does not have a title\n",
      "            try:\n",
      "                title = soup_unprocessed.title.string \n",
      "                title = title.encode(\"utf-8\")\n",
      "                \n",
      "                 # If article is from a specific provider, modify it according to the following rules: \n",
      "                # e.g. in the case of Townhall, we only want html which has the full article rather than a paged version\n",
      "                if name == \"TownHall\" and html.find(\"View Full Article\") != -1:\n",
      "                    process_url(url + '/page/full', url_mod, string_start, find_string, start_article_delim, end_article_delim, name, pol)\n",
      "                    usock.close()\n",
      "                    return\n",
      "                elif name == \"Slate\" and html.find('<div class=\"single-page\">') != -1: \n",
      "                    process_url(url[0:url.find('.html')] + '.single.html', url_mod, string_start, find_string, start_article_delim, end_article_delim, name, pol)\n",
      "                    usock.close()\n",
      "                    return\n",
      "                elif name == \"Mother Jones\" and (title.find('Issue') != -1 or title.find('map') != -1):\n",
      "                    print 'Content not text, or article not relevant.\\n'\n",
      "                    usock.close()\n",
      "                    return\n",
      "                elif name == \"The American Conservative\" and html.find('Author Archives') != -1 or title.find('Web Headlines') != -1 or title.find('Articles') != -1:\n",
      "                    print 'Content not text, or article not relevant.\\n'\n",
      "                    usock.close()\n",
      "                    return\n",
      "                elif name == \"The Christian Science Monitor\" and (title.find('+video') != -1 or url.find('The-Culture') != -1 or title.find('Photos of the day') != -1 or title.find('How much do you know about') != -1):\n",
      "                    print 'Content not text, or article not relevant.\\n'\n",
      "                    usock.close()\n",
      "                    return \n",
      "                elif name == \"The Blaze\" and title.find('Video') != -1:\n",
      "                    print 'Content not text, or article not relevant.\\n'\n",
      "                    usock.close()\n",
      "                    return\n",
      "                elif name == \"Slate\" and (url.find('video') != -1 or url.find('podcast') != -1): \n",
      "                    print 'Content not text, or article not relevant.\\n'\n",
      "                    usock.close()\n",
      "                    return\n",
      "                elif name == \"The Washington Post\" and (url.find('live') != -1 or html.find('posttv-video-template') != -1):\n",
      "                    print 'Content not text, or article not relevant.\\n'\n",
      "                    usock.close()\n",
      "                    return\n",
      "                else: \n",
      "                    print title + '\\n'\n",
      "                    content = str(html)[str(html).find(start_article_delim) + len (start_article_delim):str(html).find(end_article_delim)]\n",
      "                    soup = BeautifulSoup(content)\n",
      "                    \n",
      "                    # remove JS from html \n",
      "                    for script in soup([\"script\", \"style\"]):\n",
      "                        script.extract() \n",
      "                        \n",
      "                    mod_content = soup.get_text()\n",
      "                \n",
      "                # check if article has already been processed;\n",
      "                with open('articles_scraped.pickle', 'rb') as handle:\n",
      "                    article_list = pickle.load(handle)\n",
      "                    if title in article_list: \n",
      "                        print '\\n ALREADY IN SET \\n'\n",
      "                        return\n",
      "                    else:\n",
      "                        with open('articles_scraped.pickle', 'wb') as handle:\n",
      "                            article_list.append(title)\n",
      "                            pickle.dump(article_list, handle)\n",
      "                \n",
      "                mod_content = mod_content.encode(\"utf-8\") \n",
      "                \n",
      "                ascii_title = unicode(title, 'ascii', 'ignore')\n",
      "                ascii_content = unicode(mod_content, 'ascii', 'ignore')\n",
      "\n",
      "                article_writer.writerow([name, pol, ascii_title, ascii_content])\n",
      "            except AttributeError: \n",
      "                print 'Attribute Error'\n",
      "                \n",
      "            usock.close()\n",
      "            "
     ],
     "language": "python",
     "metadata": {},
     "outputs": [],
     "prompt_number": 4
    },
    {
     "cell_type": "code",
     "collapsed": false,
     "input": [
      "def scrape(start_url, iterator, url_list, url_mod):      \n",
      "    \"\"\"\n",
      "    Arguments: string start_url, int iterator, set url_list, string url_mod\n",
      "    Returns: updated set url_list \n",
      "    \n",
      "    For each start_url passed, this function opens that url and retrieves all hrefs from that page. \n",
      "    If iterator is smaller than the (constant) number of ITER_PAGES, scrape is called recursively \n",
      "    on the set of urls. \n",
      "    \"\"\"\n",
      "    \n",
      "    # limit the number of articles retrieved by limiting page depth\n",
      "    if iterator > ITER_PAGES: \n",
      "        return set()\n",
      "    \n",
      "    # call URLLister to retrieve all hrefs in the html read from the url \n",
      "    usock = urllib.urlopen(start_url)\n",
      "    parser = URLLister()\n",
      "    html = usock.read()\n",
      "    parser.feed(html)\n",
      "    usock.close()\n",
      "    parser.close()\n",
      "    \n",
      "    url_list = url_list.union(parser.urls)\n",
      "    \n",
      "    # scrape each correctly formatted url\n",
      "    for url in url_list: \n",
      "        if len(url) > 0 and str(url)[0] == '/': \n",
      "            tmp_url = url_mod + str(url)\n",
      "            try: \n",
      "                tmp_set = scrape(tmp_url, iterator + 1, url_list, url_mod)\n",
      "                url_list = url_list.union(tmp_set) \n",
      "            except IOError: \n",
      "                print \"Couldn't Open\"\n",
      "    return url_list\n"
     ],
     "language": "python",
     "metadata": {},
     "outputs": [],
     "prompt_number": 5
    },
    {
     "cell_type": "code",
     "collapsed": false,
     "input": [
      "ITER_PAGES = 1\n",
      "\n",
      "# pickle setup\n",
      "articles_to_pickle = []\n",
      "try:\n",
      "    with open('articles_scraped.pickle', 'rb') as handle:\n",
      "        articles_to_pickle = pickle.load(handle)\n",
      "except IOError: \n",
      "    with open('articles_scraped.pickle', 'wb') as handle:\n",
      "        pickle.dump(articles_to_pickle, handle)\n",
      "\n",
      "# call the function\n",
      "url_list = set()  \n",
      "american_conservative_list = scrape('http://www.theamericanconservative.com/', 1, url_list, '')\n",
      "townhall_list = scrape('http://www.townhall.com/', 1, url_list, 'http://www.townhall.com')\n",
      "csmonitor_list = scrape('http://www.csmonitor.com/', 1, url_list, 'http://www.csmonitor.com/')\n",
      "weekly_std_list = scrape('http://www.weeklystandard.com/', 1, url_list, 'http://www.weeklystandard.com/')\n",
      "spectator_list = scrape('http://spectator.org/', 1, url_list, 'http://spectator.org/')\n",
      "\n",
      "mother_jones_list = scrape('http://www.motherjones.com/', 1, url_list, 'http://www.motherjones.com')\n",
      "nation_list = scrape('http://www.thenation.com/', 1, url_list, 'http://www.thenation.com/')\n",
      "slate_list = scrape('http://www.slate.com/', 1, url_list, '')\n",
      "newyorker_list = scrape('http://www.newyorker.com/', 1, url_list, '')\n",
      "wp_list = scrape('http://www.washingtonpost.com/', 1, url_list, '')\n",
      "\n",
      "print '\\nurls\\n'\n",
      "\n",
      "# conservative 1\n",
      "for url in american_conservative_list: \n",
      "    process_url(url, '', 'http://www.theamericanconservative.com/', 'theamericanconservative', '<div class=\"post-content\">', '<footer id=\"articlefooter\">', 'The American Conservative', 'C')\n",
      "\n",
      "    # conservative 2\n",
      "for url in townhall_list:\n",
      "    process_url(url, 'http://www.townhall.com', 'argument-not-used', '2014' , '<ul class=\"breadcrumb\">', '<hr class=\"article-divider\"', 'TownHall', 'C')\n",
      "\n",
      "# conservative 3\n",
      "for url in csmonitor_list:\n",
      "    process_url(url, 'http://www.csmonitor.com/', 'argument-not-used', '2014/', '<div id=\"story-body\"', '<span id=\"end-of-story\"', 'The Christian Science Monitor', 'C')\n",
      "\n",
      "# conservative 4\n",
      "for url in weekly_std_list: \n",
      "    process_url(url, 'http://www.weeklystandard.com/', 'argument-not-used', '/articles/', '  <div class=\"all_article\">', '<div class=\"article-footer\">', 'The Weekly Standard', 'C')\n",
      "\n",
      "# conservative 5\n",
      "for url in spectator_list:\n",
      "    process_url(url, 'http://spectator.org/', 'argument-not-used', '/articles/', 'target=\"_blank\" rel=\"nofollow\">', '</iframe></div><div class=\"field-item even\"><p class=\"label\">', 'The American Spectator', 'C')\n",
      "\n",
      "# liberal 1 \n",
      "for url in mother_jones_list:\n",
      "    process_url(url, 'http://www.motherjones.com', 'argument-not-used', '2014' , '<div id=\"node-header\" class=\"clear-block\">', '<div id=\"node-footer\" class=\"clear-block\">', 'Mother Jones', 'L')\n",
      "\n",
      "# liberal 2\n",
      "for url in nation_list:\n",
      "    process_url(url, 'http://www.thenation.com/', 'argument-not-used', '/article/', '<div class=\"field field-type-text field-field-image-caption\">', '</p></div><div class=\"views-field-value byline\">', 'The Nation', 'L')\n",
      "\n",
      "# liberal 3\n",
      "for url in slate_list:\n",
      "    process_url(url, '', 'http://www.slate.com/', '/2014/', '<div class=\"text text-1 parbase section\">', '<section class=\"about-the-author', 'Slate', 'L')\n",
      "\n",
      "# liberal 4 - slightly more complex \n",
      "for url in newyorker_list:\n",
      "    if url.find('//') == 0 or len(url) < 45:\n",
      "        print 'URL badly formatted'\n",
      "        # do nothing for this url\n",
      "    else:\n",
      "        process_url(url, '', 'http://www.newyorker.com/', 'news', '<div itemprop=\"articleBody\" class=\"articleBody\" id=\"articleBody\">', '<span class=\"dingbat\">', 'The New Yorker', 'L')\n",
      "        process_url(url, '', 'http://www.newyorker.com/', 'magazine/2014', '<div itemprop=\"articleBody\" class=\"articleBody\" id=\"articleBody\">', '<span class=\"dingbat\">', 'The New Yorker', 'L')\n",
      "\n",
      "# liberal 5\n",
      "for url in wp_list:\n",
      "    process_url(url, '', 'http://www.washingtonpost.com/', '/2014/', '<div id=\"article-body\" class=\"article-body\">', '</article>', 'The Washington Post', 'L')"
     ],
     "language": "python",
     "metadata": {},
     "outputs": [
      {
       "output_type": "stream",
       "stream": "stdout",
       "text": [
        "\n",
        "urls\n",
        "\n",
        "What Not to Do on Iran | The American Conservative\n"
       ]
      },
      {
       "output_type": "stream",
       "stream": "stdout",
       "text": [
        "\n",
        "\n",
        " ALREADY IN SET \n",
        "\n",
        "Content not text, or article not relevant.\n"
       ]
      },
      {
       "output_type": "stream",
       "stream": "stdout",
       "text": [
        "\n",
        "Content not text, or article not relevant.\n"
       ]
      },
      {
       "output_type": "stream",
       "stream": "stdout",
       "text": [
        "\n",
        "UVA\u2019s Jackie: A Wahoo Tawana Brawley? | The American Conservative\n"
       ]
      },
      {
       "output_type": "stream",
       "stream": "stdout",
       "text": [
        "\n",
        "\n",
        " ALREADY IN SET \n",
        "\n",
        "How Privilege Dies | The American Conservative\n"
       ]
      },
      {
       "output_type": "stream",
       "stream": "stdout",
       "text": [
        "\n",
        "\n",
        " ALREADY IN SET \n",
        "\n",
        "Is Clickbait the End of Online News? | The American Conservative\n"
       ]
      },
      {
       "output_type": "stream",
       "stream": "stdout",
       "text": [
        "\n",
        "\n",
        " ALREADY IN SET \n",
        "\n",
        "Content not text, or article not relevant.\n"
       ]
      },
      {
       "output_type": "stream",
       "stream": "stdout",
       "text": [
        "\n",
        "Channing Tatum. Wrestling Picture. Whadaya Need \u2013 A Road Map? | The American Conservative\n"
       ]
      },
      {
       "output_type": "stream",
       "stream": "stdout",
       "text": [
        "\n",
        "\n",
        " ALREADY IN SET \n",
        "\n",
        "Europe\u2019s Conchita Wurst Consensus | The American Conservative\n"
       ]
      },
      {
       "output_type": "stream",
       "stream": "stdout",
       "text": [
        "\n",
        "\n",
        " ALREADY IN SET \n",
        "\n",
        "Content not text, or article not relevant.\n"
       ]
      },
      {
       "output_type": "stream",
       "stream": "stdout",
       "text": [
        "\n",
        "Content not text, or article not relevant.\n"
       ]
      },
      {
       "output_type": "stream",
       "stream": "stdout",
       "text": [
        "\n",
        "Double Feature Feature: 10,000 Hours Edition | The American Conservative\n"
       ]
      },
      {
       "output_type": "stream",
       "stream": "stdout",
       "text": [
        "\n",
        "\n",
        " ALREADY IN SET \n",
        "\n",
        "What Are \u201cNational Rights\u201d? | The American Conservative\n"
       ]
      },
      {
       "output_type": "stream",
       "stream": "stdout",
       "text": [
        "\n",
        "\n",
        " ALREADY IN SET \n",
        "\n",
        "Fidelis Ad Mortem? | The American Conservative\n"
       ]
      },
      {
       "output_type": "stream",
       "stream": "stdout",
       "text": [
        "\n",
        "\n",
        " ALREADY IN SET \n",
        "\n",
        "About Us | The American Conservative\n"
       ]
      },
      {
       "output_type": "stream",
       "stream": "stdout",
       "text": [
        "\n",
        "\n",
        " ALREADY IN SET \n",
        "\n",
        "Grand Strategy Is Bunk | The American Conservative\n"
       ]
      },
      {
       "output_type": "stream",
       "stream": "stdout",
       "text": [
        "\n",
        "\n",
        " ALREADY IN SET \n",
        "\n",
        "RIP The New Republic | The American Conservative\n"
       ]
      },
      {
       "output_type": "stream",
       "stream": "stdout",
       "text": [
        "\n",
        "\n",
        " ALREADY IN SET \n",
        "\n",
        "The Importance of Generational Knowledge | The American Conservative\n"
       ]
      },
      {
       "output_type": "stream",
       "stream": "stdout",
       "text": [
        "\n",
        "\n",
        " ALREADY IN SET \n",
        "\n",
        "Bringing Back Husbandry | The American Conservative\n"
       ]
      },
      {
       "output_type": "stream",
       "stream": "stdout",
       "text": [
        "\n",
        "\n",
        " ALREADY IN SET \n",
        "\n",
        "Rolling Stone Rolls Off Cliff | The American Conservative\n"
       ]
      },
      {
       "output_type": "stream",
       "stream": "stdout",
       "text": [
        "\n",
        "\n",
        " ALREADY IN SET \n",
        "\n",
        "Content not text, or article not relevant.\n"
       ]
      },
      {
       "output_type": "stream",
       "stream": "stdout",
       "text": [
        "\n",
        "Content not text, or article not relevant.\n"
       ]
      },
      {
       "output_type": "stream",
       "stream": "stdout",
       "text": [
        "\n",
        "The Moral Path to Peace | The American Conservative\n"
       ]
      },
      {
       "output_type": "stream",
       "stream": "stdout",
       "text": [
        "\n",
        "\n",
        " ALREADY IN SET \n",
        "\n",
        "Deconstructing Western Civilization | The American Conservative\n"
       ]
      },
      {
       "output_type": "stream",
       "stream": "stdout",
       "text": [
        "\n",
        "\n",
        " ALREADY IN SET \n",
        "\n",
        "Galloping Toward Gomorrah | The American Conservative\n"
       ]
      },
      {
       "output_type": "stream",
       "stream": "stdout",
       "text": [
        "\n",
        "\n",
        " ALREADY IN SET \n",
        "\n",
        "Bringing Big Data to the Farm | The American Conservative\n"
       ]
      },
      {
       "output_type": "stream",
       "stream": "stdout",
       "text": [
        "\n",
        "\n",
        " ALREADY IN SET \n",
        "\n",
        "Canada\u2019s Patriot Act Moment | The American Conservative\n"
       ]
      },
      {
       "output_type": "stream",
       "stream": "stdout",
       "text": [
        "\n",
        "\n",
        " ALREADY IN SET \n",
        "\n",
        "Shakeup at TNR | The American Conservative\n"
       ]
      },
      {
       "output_type": "stream",
       "stream": "stdout",
       "text": [
        "\n",
        "\n",
        " ALREADY IN SET \n",
        "\n",
        "Racist Cops\u2014or Liberal Slander? | The American Conservative\n"
       ]
      },
      {
       "output_type": "stream",
       "stream": "stdout",
       "text": [
        "\n",
        "\n",
        " ALREADY IN SET \n",
        "\n",
        "The Uses and Abuses of Historical Analogies | The American Conservative\n"
       ]
      },
      {
       "output_type": "stream",
       "stream": "stdout",
       "text": [
        "\n",
        "\n",
        " ALREADY IN SET \n",
        "\n",
        "Content not text, or article not relevant.\n"
       ]
      },
      {
       "output_type": "stream",
       "stream": "stdout",
       "text": [
        "\n",
        "Federalism Can Still Save Religious Liberty | The American Conservative\n"
       ]
      },
      {
       "output_type": "stream",
       "stream": "stdout",
       "text": [
        "\n",
        "\n",
        " ALREADY IN SET \n",
        "\n",
        "Content not text, or article not relevant.\n"
       ]
      },
      {
       "output_type": "stream",
       "stream": "stdout",
       "text": [
        "\n",
        "Why the Dishonest Charge of \u201cRetreat\u201d Endures | The American Conservative\n"
       ]
      },
      {
       "output_type": "stream",
       "stream": "stdout",
       "text": [
        "\n",
        "\n",
        " ALREADY IN SET \n",
        "\n",
        "Against the Mob | The American Conservative\n"
       ]
      },
      {
       "output_type": "stream",
       "stream": "stdout",
       "text": [
        "\n",
        "\n",
        " ALREADY IN SET \n",
        "\n",
        "Eric Garner & Police Brutality | The American Conservative\n"
       ]
      },
      {
       "output_type": "stream",
       "stream": "stdout",
       "text": [
        "\n",
        "\n",
        " ALREADY IN SET \n",
        "\n",
        "Declaring War on ISIS | The American Conservative\n"
       ]
      },
      {
       "output_type": "stream",
       "stream": "stdout",
       "text": [
        "\n",
        "\n",
        " ALREADY IN SET \n",
        "\n",
        "Ferguson Is Not Palestine | The American Conservative\n"
       ]
      },
      {
       "output_type": "stream",
       "stream": "stdout",
       "text": [
        "\n",
        "\n",
        " ALREADY IN SET \n",
        "\n",
        "Content not text, or article not relevant.\n"
       ]
      },
      {
       "output_type": "stream",
       "stream": "stdout",
       "text": [
        "\n",
        "Content not text, or article not relevant.\n"
       ]
      },
      {
       "output_type": "stream",
       "stream": "stdout",
       "text": [
        "\n",
        "The Greatly Overrated Rubio | The American Conservative\n"
       ]
      },
      {
       "output_type": "stream",
       "stream": "stdout",
       "text": [
        "\n",
        "\n",
        " ALREADY IN SET \n",
        "\n",
        "Ukraine and NATO | The American Conservative\n"
       ]
      },
      {
       "output_type": "stream",
       "stream": "stdout",
       "text": [
        "\n",
        "\n",
        " ALREADY IN SET \n",
        "\n",
        "A Chuck Hagel Postmortem | The American Conservative\n"
       ]
      },
      {
       "output_type": "stream",
       "stream": "stdout",
       "text": [
        "\n",
        "\n",
        " ALREADY IN SET \n",
        "\n",
        "Iran: We Need to Talk | The American Conservative\n"
       ]
      },
      {
       "output_type": "stream",
       "stream": "stdout",
       "text": [
        "\n",
        "\n",
        " ALREADY IN SET \n",
        "\n",
        "COIN Is a Proven Failure | The American Conservative\n"
       ]
      },
      {
       "output_type": "stream",
       "stream": "stdout",
       "text": [
        "\n",
        "\n",
        " ALREADY IN SET \n",
        "\n",
        "Star Wars and Politics | The American Conservative\n"
       ]
      },
      {
       "output_type": "stream",
       "stream": "stdout",
       "text": [
        "\n",
        "\n",
        " ALREADY IN SET \n",
        "\n",
        "A Millman-Walt Dialogue On Foreign Policy | The American Conservative\n"
       ]
      },
      {
       "output_type": "stream",
       "stream": "stdout",
       "text": [
        "\n",
        "\n",
        " ALREADY IN SET \n",
        "\n",
        "Thanksgiving Doorbusters Backfire on Big Retail | The American Conservative\n"
       ]
      },
      {
       "output_type": "stream",
       "stream": "stdout",
       "text": [
        "\n",
        "\n",
        " ALREADY IN SET \n",
        "\n",
        "And Now, For Something Completely Different \u2013 Or Perhaps Not | The American Conservative\n"
       ]
      },
      {
       "output_type": "stream",
       "stream": "stdout",
       "text": [
        "\n",
        "\n",
        " ALREADY IN SET \n",
        "\n",
        "Content not text, or article not relevant.\n"
       ]
      },
      {
       "output_type": "stream",
       "stream": "stdout",
       "text": [
        "\n",
        "The American Conservative\n"
       ]
      },
      {
       "output_type": "stream",
       "stream": "stdout",
       "text": [
        "\n",
        "\n",
        " ALREADY IN SET \n",
        "\n",
        "Wolves Everywhere! The Media Cried | The American Conservative\n"
       ]
      },
      {
       "output_type": "stream",
       "stream": "stdout",
       "text": [
        "\n",
        "\n",
        " ALREADY IN SET \n",
        "\n",
        "Content not text, or article not relevant.\n"
       ]
      },
      {
       "output_type": "stream",
       "stream": "stdout",
       "text": [
        "\n",
        "Civil Liberties Lose a Champion | The American Conservative\n"
       ]
      },
      {
       "output_type": "stream",
       "stream": "stdout",
       "text": [
        "\n",
        "\n",
        " ALREADY IN SET \n",
        "\n",
        "Content not text, or article not relevant.\n"
       ]
      },
      {
       "output_type": "stream",
       "stream": "stdout",
       "text": [
        "\n",
        "EEOC Has Become The Problem, Not The Solution - Star Parker -  Page 1\n"
       ]
      },
      {
       "output_type": "stream",
       "stream": "stdout",
       "text": [
        "\n",
        "\n",
        " ALREADY IN SET \n",
        "\n",
        "Requiring Calorie Counts on Menu Probably Won't Make People Healthier - Christine Rousselle \n"
       ]
      },
      {
       "output_type": "stream",
       "stream": "stdout",
       "text": [
        "\n",
        "\n",
        " ALREADY IN SET \n",
        "\n",
        "How China\u2019s Economy Passed the United States - Doug Fabian - Townhall Finance Conservative Columnists and Financial Commentary - Page 1\n"
       ]
      },
      {
       "output_type": "stream",
       "stream": "stdout",
       "text": [
        "\n",
        "\n",
        " ALREADY IN SET \n",
        "\n",
        "We Can't Live Like This, and We Won't Much Longer - Steve Deace -  Page full\n"
       ]
      },
      {
       "output_type": "stream",
       "stream": "stdout",
       "text": [
        "\n",
        "\n",
        " ALREADY IN SET \n",
        "\n",
        "Walker, Van Hollen join lawsuit against Obama immigration order - M.D. Kittle\n"
       ]
      },
      {
       "output_type": "stream",
       "stream": "stdout",
       "text": [
        "\n",
        "Romney Insider: Mitt's Running... - Daniel Doherty \n"
       ]
      },
      {
       "output_type": "stream",
       "stream": "stdout",
       "text": [
        "\n",
        "\n",
        " ALREADY IN SET \n",
        "\n",
        "Egg Freezing and the Indentured Woman - Arina  Grossu -  Page full\n"
       ]
      },
      {
       "output_type": "stream",
       "stream": "stdout",
       "text": [
        "\n",
        "\n",
        " ALREADY IN SET \n",
        "\n",
        "Obamacare quirk promotes migrant hiring over U.S. citizens - Kenric Ward\n"
       ]
      },
      {
       "output_type": "stream",
       "stream": "stdout",
       "text": [
        "\n",
        "Christmas Spoof: The Townhall Office  - Townhall.com Staff \n"
       ]
      },
      {
       "output_type": "stream",
       "stream": "stdout",
       "text": [
        "\n",
        "\n",
        " ALREADY IN SET \n",
        "\n",
        "Another Victory for Fiscal Responsibility: The Death of Earmarks  - Daniel J. Mitchell - Townhall Finance Conservative Columnists and Financial Commentary - Page full\n"
       ]
      },
      {
       "output_type": "stream",
       "stream": "stdout",
       "text": [
        "\n",
        "\n",
        " ALREADY IN SET \n",
        "\n",
        "Obama\u2019s \u201cClimate Education and Literacy Initiative\u201d: How Do You Spell \u201cI-N-D-O-C-T-R-I-N-A-T-I-O-N\u201d? - Calvin Beisner -  Page full\n"
       ]
      },
      {
       "output_type": "stream",
       "stream": "stdout",
       "text": [
        "\n",
        "\n",
        " ALREADY IN SET \n",
        "\n",
        "Official: Obama Nominates Ashton Carter for Secretary of Defense  - Sarah Jean Seman \n"
       ]
      },
      {
       "output_type": "stream",
       "stream": "stdout",
       "text": [
        "\n",
        "\n",
        " ALREADY IN SET \n",
        "\n",
        "Landrieu: C'mon, My Fellow Democrat's Pro-Voter Fraud Advice Was Just 'a Joke' - Guy Benson \n"
       ]
      },
      {
       "output_type": "stream",
       "stream": "stdout",
       "text": [
        "\n",
        "\n",
        " ALREADY IN SET \n",
        "\n",
        "Everything You Should Know About the Jobs Numbers  - Mike Shedlock - Townhall Finance Conservative Columnists and Financial Commentary - Page 1\n"
       ]
      },
      {
       "output_type": "stream",
       "stream": "stdout",
       "text": [
        "\n",
        "\n",
        " ALREADY IN SET \n"
       ]
      },
      {
       "output_type": "stream",
       "stream": "stdout",
       "text": [
        "\n",
        "Jobs Jump in November but Outlook Remains Guarded - Peter Morici - Townhall Finance Conservative Columnists and Financial Commentary - Page full\n"
       ]
      },
      {
       "output_type": "stream",
       "stream": "stdout",
       "text": [
        "\n",
        "\n",
        " ALREADY IN SET \n",
        "\n",
        "\r\n",
        "\tPolitical Cartoons - Political Humor, Jokes, and Pictures, Obama, Palin ~ December 5, 2014 - 125594\r\n",
        "\n"
       ]
      },
      {
       "output_type": "stream",
       "stream": "stdout",
       "text": [
        "\n",
        "\n",
        " ALREADY IN SET \n",
        "\n",
        "Obama's Scandal-Tainted BCGB (Best Chicago Golfing Buddy) - Michelle Malkin -  Page full\n"
       ]
      },
      {
       "output_type": "stream",
       "stream": "stdout",
       "text": [
        "\n",
        "\n",
        " ALREADY IN SET \n",
        "\n",
        "Tax Hikes 'For The Children' Don't Work - Casey Given -  Page full\n"
       ]
      },
      {
       "output_type": "stream",
       "stream": "stdout",
       "text": [
        "\n",
        "\n",
        " ALREADY IN SET \n",
        "\n",
        "Bad Laws Lead to Bad Cops  - Mark Skousen - Townhall Finance Conservative Columnists and Financial Commentary - Page 1\n"
       ]
      },
      {
       "output_type": "stream",
       "stream": "stdout",
       "text": [
        "\n",
        "\n",
        " ALREADY IN SET \n",
        "\n",
        "Thanks Michelle Obama: GOP Pushes For School Lunch Exemptions - Kevin Glass \n"
       ]
      },
      {
       "output_type": "stream",
       "stream": "stdout",
       "text": [
        "\n",
        "What the Numbers Say on Police Use of Force - Steven Malanga -  Page full\n"
       ]
      },
      {
       "output_type": "stream",
       "stream": "stdout",
       "text": [
        "\n",
        "\n",
        " ALREADY IN SET \n",
        "\n",
        "Too Much Junk - Charles Payne - Townhall Finance Conservative Columnists and Financial Commentary - Page 1\n"
       ]
      },
      {
       "output_type": "stream",
       "stream": "stdout",
       "text": [
        "\n",
        "\n",
        " ALREADY IN SET \n",
        "\n",
        "Republicans ready to reform public assistance in Wisconsin - M.D. Kittle\n"
       ]
      },
      {
       "output_type": "stream",
       "stream": "stdout",
       "text": [
        "\n",
        "Is Obama Still President? That\u2019s All We Need - John Ransom - Townhall Finance Conservative Columnists and Financial Commentary - Page full\n"
       ]
      },
      {
       "output_type": "stream",
       "stream": "stdout",
       "text": [
        "\n",
        "\n",
        " ALREADY IN SET \n",
        "\n",
        "American, South African Hostages Killed in Yemen During Failed Rescue Attempt - Christine Rousselle \n"
       ]
      },
      {
       "output_type": "stream",
       "stream": "stdout",
       "text": [
        "\n",
        "Why Gasoline Prices Are Down -- And How to Keep It That Way - Ed Feulner -  Page full\n"
       ]
      },
      {
       "output_type": "stream",
       "stream": "stdout",
       "text": [
        "\n",
        "\n",
        " ALREADY IN SET \n",
        "\n",
        "Should There Have Been Charges Filed In The Eric Garner Case? - Matt Vespa \n"
       ]
      },
      {
       "output_type": "stream",
       "stream": "stdout",
       "text": [
        "\n",
        "\n",
        " ALREADY IN SET \n"
       ]
      },
      {
       "output_type": "stream",
       "stream": "stdout",
       "text": [
        "\n",
        "The Power of Fred - Bill Tatro - Townhall Finance Conservative Columnists and Financial Commentary - Page 1\n"
       ]
      },
      {
       "output_type": "stream",
       "stream": "stdout",
       "text": [
        "\n",
        "\n",
        " ALREADY IN SET \n",
        "\n",
        "Obama's War On Cops - John Nantz -  Page full\n"
       ]
      },
      {
       "output_type": "stream",
       "stream": "stdout",
       "text": [
        "\n",
        "\n",
        " ALREADY IN SET \n",
        "\n",
        "Exoneration: Democrat-Led 'Bridgegate' Investigation Clears Christie of Wrongdoing - Guy Benson \n"
       ]
      },
      {
       "output_type": "stream",
       "stream": "stdout",
       "text": [
        "\n",
        "\n",
        " ALREADY IN SET \n",
        "\n",
        "Uh Oh: Rolling Stone Says There Are \u2018Discrepancies\u2019 In Their UVA Story - Matt Vespa \n"
       ]
      },
      {
       "output_type": "stream",
       "stream": "stdout",
       "text": [
        "\n",
        "\n",
        " ALREADY IN SET \n",
        "\n",
        "Why OPEC Will Tolerate Cheap Oil - John  Browne - Townhall Finance Conservative Columnists and Financial Commentary - Page full\n"
       ]
      },
      {
       "output_type": "stream",
       "stream": "stdout",
       "text": [
        "\n",
        "\n",
        " ALREADY IN SET \n",
        "\n",
        "Mission Impossible: Making a Smart Choice in the ObamaCare Exchange - John C. Goodman -  Page full\n"
       ]
      },
      {
       "output_type": "stream",
       "stream": "stdout",
       "text": [
        "\n",
        "\n",
        " ALREADY IN SET \n",
        "\n",
        "Oil Prices Put Pressure on Russian Aggression  - Night Watch - Townhall Finance Conservative Columnists and Financial Commentary - Page full\n"
       ]
      },
      {
       "output_type": "stream",
       "stream": "stdout",
       "text": [
        "\n",
        "\n",
        " ALREADY IN SET \n",
        "\n",
        "What Schumer Wants to Embrace - Jonah Goldberg -  Page full\n"
       ]
      },
      {
       "output_type": "stream",
       "stream": "stdout",
       "text": [
        "\n",
        "\n",
        " ALREADY IN SET \n",
        "\n",
        "Content not text, or article not relevant.\n"
       ]
      },
      {
       "output_type": "stream",
       "stream": "stdout",
       "text": [
        "\n",
        "Content not text, or article not relevant.\n"
       ]
      },
      {
       "output_type": "stream",
       "stream": "stdout",
       "text": [
        "\n",
        "Panel lets Chris Christie off 'Bridgegate' hook. Is he, really? - CSMonitor.com\n"
       ]
      },
      {
       "output_type": "stream",
       "stream": "stdout",
       "text": [
        "\n",
        "Content not text, or article not relevant.\n"
       ]
      },
      {
       "output_type": "stream",
       "stream": "stdout",
       "text": [
        "\n",
        "Content not text, or article not relevant.\n"
       ]
      },
      {
       "output_type": "stream",
       "stream": "stdout",
       "text": [
        "\n",
        "Photos of the weekend - The Christian Science Monitor - CSMonitor.com\n"
       ]
      },
      {
       "output_type": "stream",
       "stream": "stdout",
       "text": [
        "\n",
        "What UVA journalists take away from Rolling Stone apology - CSMonitor.com\n"
       ]
      },
      {
       "output_type": "stream",
       "stream": "stdout",
       "text": [
        "\n",
        "Stasi-linked party is back in power. Is Germany ready? - CSMonitor.com\n"
       ]
      },
      {
       "output_type": "stream",
       "stream": "stdout",
       "text": [
        "\n",
        "\n",
        " ALREADY IN SET \n",
        "\n",
        "Content not text, or article not relevant.\n"
       ]
      },
      {
       "output_type": "stream",
       "stream": "stdout",
       "text": [
        "\n",
        "Content not text, or article not relevant.\n"
       ]
      },
      {
       "output_type": "stream",
       "stream": "stdout",
       "text": [
        "\n",
        "Possibility unbound: 25 years of progress for those with disability - CSMonitor.com\n"
       ]
      },
      {
       "output_type": "stream",
       "stream": "stdout",
       "text": [
        "\n",
        "\n",
        " ALREADY IN SET \n",
        "\n",
        "US 'terrorism?' What's not being said about Kansas City, Austin attacks. - CSMonitor.com\n"
       ]
      },
      {
       "output_type": "stream",
       "stream": "stdout",
       "text": [
        "\n",
        "\n",
        " ALREADY IN SET \n",
        "\n",
        "Time to leave the nest? Japan's Abe pushes youths to head overseas - CSMonitor.com\n"
       ]
      },
      {
       "output_type": "stream",
       "stream": "stdout",
       "text": [
        "\n",
        "\n",
        " ALREADY IN SET \n",
        "\n",
        "Could you pass a citizenship test? States may make it graduation requirement. - CSMonitor.com\n"
       ]
      },
      {
       "output_type": "stream",
       "stream": "stdout",
       "text": [
        "\n",
        "\n",
        " ALREADY IN SET \n",
        "\n",
        "Content not text, or article not relevant.\n"
       ]
      },
      {
       "output_type": "stream",
       "stream": "stdout",
       "text": [
        "\n",
        "Content not text, or article not relevant.\n"
       ]
      },
      {
       "output_type": "stream",
       "stream": "stdout",
       "text": [
        "\n",
        "Content not text, or article not relevant.\n"
       ]
      },
      {
       "output_type": "stream",
       "stream": "stdout",
       "text": [
        "\n",
        "Content not text, or article not relevant.\n"
       ]
      },
      {
       "output_type": "stream",
       "stream": "stdout",
       "text": [
        "\n",
        "In Germany, a Christmas market of a different sort - CSMonitor.com\n"
       ]
      },
      {
       "output_type": "stream",
       "stream": "stdout",
       "text": [
        "\n",
        "\n",
        " ALREADY IN SET \n",
        "\n",
        "Kenyan raid exposes hive of cybercrime - CSMonitor.com\n"
       ]
      },
      {
       "output_type": "stream",
       "stream": "stdout",
       "text": [
        "\n",
        "\n",
        " ALREADY IN SET \n",
        "\n",
        "Content not text, or article not relevant.\n"
       ]
      },
      {
       "output_type": "stream",
       "stream": "stdout",
       "text": [
        "\n",
        "Content not text, or article not relevant.\n"
       ]
      },
      {
       "output_type": "stream",
       "stream": "stdout",
       "text": [
        "\n",
        "Content not text, or article not relevant.\n"
       ]
      },
      {
       "output_type": "stream",
       "stream": "stdout",
       "text": [
        "\n",
        "Cybersecurity unit drives Israeli Internet economy - CSMonitor.com\n"
       ]
      },
      {
       "output_type": "stream",
       "stream": "stdout",
       "text": [
        "\n",
        "\n",
        " ALREADY IN SET \n",
        "\n",
        "Why earmarks hinder Congress - CSMonitor.com\n"
       ]
      },
      {
       "output_type": "stream",
       "stream": "stdout",
       "text": [
        "\n",
        "\n",
        " ALREADY IN SET \n",
        "\n",
        "Russia's march toward self-reliance - CSMonitor.com\n"
       ]
      },
      {
       "output_type": "stream",
       "stream": "stdout",
       "text": [
        "\n",
        "\n",
        " ALREADY IN SET \n",
        "\n",
        "With fewer young people gambling, time for a government rethink - CSMonitor.com\n"
       ]
      },
      {
       "output_type": "stream",
       "stream": "stdout",
       "text": [
        "\n",
        "\n",
        " ALREADY IN SET \n",
        "\n",
        "Content not text, or article not relevant.\n"
       ]
      },
      {
       "output_type": "stream",
       "stream": "stdout",
       "text": [
        "\n",
        "Content not text, or article not relevant.\n"
       ]
      },
      {
       "output_type": "stream",
       "stream": "stdout",
       "text": [
        "\n",
        "Shakespeare in Shanghai? The Bard takes China by storm - CSMonitor.com\n"
       ]
      },
      {
       "output_type": "stream",
       "stream": "stdout",
       "text": [
        "\n",
        "\n",
        " ALREADY IN SET \n",
        "\n",
        "Content not text, or article not relevant.\n"
       ]
      },
      {
       "output_type": "stream",
       "stream": "stdout",
       "text": [
        "\n",
        "Mining character for clues - CSMonitor.com\n"
       ]
      },
      {
       "output_type": "stream",
       "stream": "stdout",
       "text": [
        "\n",
        "\n",
        " ALREADY IN SET \n",
        "\n",
        "Will Japan run out of rice? - CSMonitor.com\n"
       ]
      },
      {
       "output_type": "stream",
       "stream": "stdout",
       "text": [
        "\n",
        "Landrieu battle cry: 'The only poll that matters is on Election Day' - CSMonitor.com\n"
       ]
      },
      {
       "output_type": "stream",
       "stream": "stdout",
       "text": [
        "\n",
        "\n",
        " ALREADY IN SET \n",
        "\n",
        "Mitch McConnell's big test - CSMonitor.com\n"
       ]
      },
      {
       "output_type": "stream",
       "stream": "stdout",
       "text": [
        "\n",
        "\n",
        " ALREADY IN SET \n",
        "\n",
        "Polish event brings 'Harry Potter' castle Hogwarts to life - CSMonitor.com\n"
       ]
      },
      {
       "output_type": "stream",
       "stream": "stdout",
       "text": [
        "\n",
        "\n",
        " ALREADY IN SET \n",
        "\n",
        "College football TV schedule: Conference championships on Saturday - CSMonitor.com\n"
       ]
      },
      {
       "output_type": "stream",
       "stream": "stdout",
       "text": [
        "\n",
        "Inventor hopes to clean the air with giant purifiers - CSMonitor.com\n"
       ]
      },
      {
       "output_type": "stream",
       "stream": "stdout",
       "text": [
        "\n",
        "\n",
        " ALREADY IN SET \n",
        "\n",
        "Content not text, or article not relevant.\n"
       ]
      },
      {
       "output_type": "stream",
       "stream": "stdout",
       "text": [
        "\n",
        "Did the moon once contain a dynamo? - CSMonitor.com\n"
       ]
      },
      {
       "output_type": "stream",
       "stream": "stdout",
       "text": [
        "\n",
        "\n",
        " ALREADY IN SET \n",
        "\n",
        "Fallujah anniversary: Tracking down the US Marine 'Death Dealers' - CSMonitor.com\n"
       ]
      },
      {
       "output_type": "stream",
       "stream": "stdout",
       "text": [
        "\n",
        "\n",
        " ALREADY IN SET \n",
        "\n",
        "Content not text, or article not relevant.\n"
       ]
      },
      {
       "output_type": "stream",
       "stream": "stdout",
       "text": [
        "\n",
        "Content not text, or article not relevant.\n"
       ]
      },
      {
       "output_type": "stream",
       "stream": "stdout",
       "text": [
        "\n",
        "Fortress Israel: Can people make peace when they don\u2019t talk? - CSMonitor.com\n"
       ]
      },
      {
       "output_type": "stream",
       "stream": "stdout",
       "text": [
        "\n",
        "\n",
        " ALREADY IN SET \n",
        "\n",
        "Peter Schumann's puppets speak out on big issues - CSMonitor.com\n"
       ]
      },
      {
       "output_type": "stream",
       "stream": "stdout",
       "text": [
        "\n",
        "\n",
        " ALREADY IN SET \n",
        "\n",
        "How to fix Congress: Two former Senate leaders give their repair list - CSMonitor.com\n"
       ]
      },
      {
       "output_type": "stream",
       "stream": "stdout",
       "text": [
        "\n",
        "\n",
        " ALREADY IN SET \n",
        "\n",
        "Content not text, or article not relevant.\n"
       ]
      },
      {
       "output_type": "stream",
       "stream": "stdout",
       "text": [
        "\n",
        "Content not text, or article not relevant.\n"
       ]
      },
      {
       "output_type": "stream",
       "stream": "stdout",
       "text": [
        "\n",
        "Why Elon Musk's space agency is hiring a farmer - CSMonitor.com\n"
       ]
      },
      {
       "output_type": "stream",
       "stream": "stdout",
       "text": [
        "\n",
        "\n",
        " ALREADY IN SET \n",
        "\n",
        "Content not text, or article not relevant.\n"
       ]
      },
      {
       "output_type": "stream",
       "stream": "stdout",
       "text": [
        "\n",
        "Content not text, or article not relevant.\n"
       ]
      },
      {
       "output_type": "stream",
       "stream": "stdout",
       "text": [
        "\n",
        "Elon Musk says SpaceX has a 50 percent chance of landing a rocket on floating platform - CSMonitor.com\n"
       ]
      },
      {
       "output_type": "stream",
       "stream": "stdout",
       "text": [
        "\n",
        "\n",
        " ALREADY IN SET \n",
        "\n",
        "Content not text, or article not relevant.\n"
       ]
      },
      {
       "output_type": "stream",
       "stream": "stdout",
       "text": [
        "\n",
        "British police arrest seven in latest anti-jihadi sweep - CSMonitor.com\n"
       ]
      },
      {
       "output_type": "stream",
       "stream": "stdout",
       "text": [
        "\n",
        "\n",
        " ALREADY IN SET \n",
        "\n",
        "Obama justifies failed rescue of American Luke Somers in Yemen - CSMonitor.com\n"
       ]
      },
      {
       "output_type": "stream",
       "stream": "stdout",
       "text": [
        "\n",
        "What Do Illegal Immigrants Want? | The Weekly Standard\n"
       ]
      },
      {
       "output_type": "stream",
       "stream": "stdout",
       "text": [
        "\n",
        "\n",
        " ALREADY IN SET \n",
        "\n",
        "No Justification | The Weekly Standard\n"
       ]
      },
      {
       "output_type": "stream",
       "stream": "stdout",
       "text": [
        "\n",
        "\n",
        " ALREADY IN SET \n",
        "\n",
        "Schiele\u2019s Faces    | The Weekly Standard\n"
       ]
      },
      {
       "output_type": "stream",
       "stream": "stdout",
       "text": [
        "\n",
        "\n",
        " ALREADY IN SET \n",
        "\n",
        "As the World Turns | The Weekly Standard\n"
       ]
      },
      {
       "output_type": "stream",
       "stream": "stdout",
       "text": [
        "\n",
        "\n",
        " ALREADY IN SET \n",
        "\n",
        "Beyond the Barricades  | The Weekly Standard\n"
       ]
      },
      {
       "output_type": "stream",
       "stream": "stdout",
       "text": [
        "\n",
        "\n",
        " ALREADY IN SET \n",
        "\n",
        "The Incredible Shrinking SecDef | The Weekly Standard\n"
       ]
      },
      {
       "output_type": "stream",
       "stream": "stdout",
       "text": [
        "\n",
        "\n",
        " ALREADY IN SET \n",
        "\n",
        "Menendez vs. the White House | The Weekly Standard\n"
       ]
      },
      {
       "output_type": "stream",
       "stream": "stdout",
       "text": [
        "\n",
        "\n",
        " ALREADY IN SET \n",
        "\n",
        "Catching the Wave | The Weekly Standard\n"
       ]
      },
      {
       "output_type": "stream",
       "stream": "stdout",
       "text": [
        "\n",
        "\n",
        " ALREADY IN SET \n",
        "\n",
        "Selling Cigs Kills | The Weekly Standard\n"
       ]
      },
      {
       "output_type": "stream",
       "stream": "stdout",
       "text": [
        "\n",
        "\n",
        " ALREADY IN SET \n",
        "\n",
        "Sermons for the King | The Weekly Standard\n"
       ]
      },
      {
       "output_type": "stream",
       "stream": "stdout",
       "text": [
        "\n",
        "\n",
        " ALREADY IN SET \n",
        "\n",
        "The Benghazi Report | The Weekly Standard\n"
       ]
      },
      {
       "output_type": "stream",
       "stream": "stdout",
       "text": [
        "\n",
        "\n",
        " ALREADY IN SET \n",
        "\n",
        "Here the Word   | The Weekly Standard\n"
       ]
      },
      {
       "output_type": "stream",
       "stream": "stdout",
       "text": [
        "\n",
        "\n",
        " ALREADY IN SET \n",
        "\n",
        "Mistress of Murder    | The Weekly Standard\n"
       ]
      },
      {
       "output_type": "stream",
       "stream": "stdout",
       "text": [
        "\n",
        "\n",
        " ALREADY IN SET \n",
        "\n",
        "Churchill on the Hill | The Weekly Standard\n"
       ]
      },
      {
       "output_type": "stream",
       "stream": "stdout",
       "text": [
        "\n",
        "\n",
        " ALREADY IN SET \n",
        "\n",
        "Strait Man | The Weekly Standard\n"
       ]
      },
      {
       "output_type": "stream",
       "stream": "stdout",
       "text": [
        "\n",
        "\n",
        " ALREADY IN SET \n",
        "\n",
        "Obama Negativa  | The Weekly Standard\n"
       ]
      },
      {
       "output_type": "stream",
       "stream": "stdout",
       "text": [
        "\n",
        "\n",
        " ALREADY IN SET \n",
        "\n",
        "A New Name for a Tired Theory | The Weekly Standard\n"
       ]
      },
      {
       "output_type": "stream",
       "stream": "stdout",
       "text": [
        "\n",
        "\n",
        " ALREADY IN SET \n",
        "\n",
        "Wrestlers and Brothers  | The Weekly Standard\n"
       ]
      },
      {
       "output_type": "stream",
       "stream": "stdout",
       "text": [
        "\n",
        "\n",
        " ALREADY IN SET \n",
        "\n",
        "Hartache | The Weekly Standard\n"
       ]
      },
      {
       "output_type": "stream",
       "stream": "stdout",
       "text": [
        "\n",
        "\n",
        " ALREADY IN SET \n",
        "\n",
        "Into the Valley  | The Weekly Standard\n"
       ]
      },
      {
       "output_type": "stream",
       "stream": "stdout",
       "text": [
        "\n",
        "\n",
        " ALREADY IN SET \n",
        "\n",
        "Kevorkian\u2019s Vision | The Weekly Standard\n"
       ]
      },
      {
       "output_type": "stream",
       "stream": "stdout",
       "text": [
        "\n",
        "\n",
        " ALREADY IN SET \n",
        "\n",
        "Did He Jump, or Was He Pushed? | The Weekly Standard\n"
       ]
      },
      {
       "output_type": "stream",
       "stream": "stdout",
       "text": [
        "\n",
        "\n",
        " ALREADY IN SET \n",
        "\n",
        "On a Roll  | The Weekly Standard\n"
       ]
      },
      {
       "output_type": "stream",
       "stream": "stdout",
       "text": [
        "\n",
        "\n",
        " ALREADY IN SET \n",
        "\n",
        "Stormin\u2019 Norman   | The Weekly Standard\n"
       ]
      },
      {
       "output_type": "stream",
       "stream": "stdout",
       "text": [
        "\n",
        "\n",
        " ALREADY IN SET \n",
        "\n",
        "A Solution for Cities on the Brink of Bankruptcy | The American Spectator\n"
       ]
      },
      {
       "output_type": "stream",
       "stream": "stdout",
       "text": [
        "\n",
        "\n",
        " ALREADY IN SET \n",
        "\n",
        "Crowning Moments in Britain\u2019s One-Sided Culture War | The American Spectator\n"
       ]
      },
      {
       "output_type": "stream",
       "stream": "stdout",
       "text": [
        "\n",
        "\n",
        " ALREADY IN SET \n",
        "\n",
        "Dad & Dylan | The American Spectator\n"
       ]
      },
      {
       "output_type": "stream",
       "stream": "stdout",
       "text": [
        "\n",
        "\n",
        " ALREADY IN SET \n",
        "\n",
        "The Shock of Christmas | The American Spectator\n"
       ]
      },
      {
       "output_type": "stream",
       "stream": "stdout",
       "text": [
        "\n",
        "\n",
        " ALREADY IN SET \n",
        "\n",
        "The Gift Shop of the Dead | The American Spectator\n"
       ]
      },
      {
       "output_type": "stream",
       "stream": "stdout",
       "text": [
        "\n",
        "\n",
        " ALREADY IN SET \n",
        "\n",
        "Net Neutrality Compromises the Internet\u2019s Future  | The American Spectator\n"
       ]
      },
      {
       "output_type": "stream",
       "stream": "stdout",
       "text": [
        "\n",
        "\n",
        " ALREADY IN SET \n",
        "\n",
        "Do What the Cops Tell You: It Isn't Rocket Science | The American Spectator\n"
       ]
      },
      {
       "output_type": "stream",
       "stream": "stdout",
       "text": [
        "\n",
        "\n",
        " ALREADY IN SET \n",
        "\n",
        "David Brooks Insults Capitalism | The American Spectator\n"
       ]
      },
      {
       "output_type": "stream",
       "stream": "stdout",
       "text": [
        "\n",
        "\n",
        " ALREADY IN SET \n",
        "\n",
        "The Sins of Elizabeth Lauten | The American Spectator\n"
       ]
      },
      {
       "output_type": "stream",
       "stream": "stdout",
       "text": [
        "\n",
        "\n",
        " ALREADY IN SET \n",
        "\n",
        "It Can\u2019t Rain Hard Enough | The American Spectator\n"
       ]
      },
      {
       "output_type": "stream",
       "stream": "stdout",
       "text": [
        "\n",
        "\n",
        " ALREADY IN SET \n",
        "\n",
        "California Faces Death by Pension | The American Spectator\n"
       ]
      },
      {
       "output_type": "stream",
       "stream": "stdout",
       "text": [
        "\n",
        "\n",
        " ALREADY IN SET \n",
        "\n",
        "Piling New Regulations Atop Unworkable Older Ones | The American Spectator\n"
       ]
      },
      {
       "output_type": "stream",
       "stream": "stdout",
       "text": [
        "\n",
        "\n",
        " ALREADY IN SET \n",
        "\n",
        "How Sovereign Patent Trolls Threaten Free Trade  | The American Spectator\n"
       ]
      },
      {
       "output_type": "stream",
       "stream": "stdout",
       "text": [
        "\n",
        "\n",
        " ALREADY IN SET \n",
        "\n",
        "Rainy Day Rage | The American Spectator\n"
       ]
      },
      {
       "output_type": "stream",
       "stream": "stdout",
       "text": [
        "\n",
        "\n",
        " ALREADY IN SET \n",
        "\n",
        "Ferguson in Black and White | The American Spectator\n"
       ]
      },
      {
       "output_type": "stream",
       "stream": "stdout",
       "text": [
        "\n",
        "\n",
        " ALREADY IN SET \n",
        "\n",
        "Goodbye to a Man Who Saved His Country | The American Spectator\n"
       ]
      },
      {
       "output_type": "stream",
       "stream": "stdout",
       "text": [
        "\n",
        "\n",
        " ALREADY IN SET \n",
        "\n",
        "The Cautionary Tale of Elizabeth Lauten | The American Spectator\n"
       ]
      },
      {
       "output_type": "stream",
       "stream": "stdout",
       "text": [
        "\n",
        "\n",
        " ALREADY IN SET \n",
        "\n",
        "The Rehabilitation of Rick Perry | The American Spectator\n"
       ]
      },
      {
       "output_type": "stream",
       "stream": "stdout",
       "text": [
        "\n",
        "\n",
        " ALREADY IN SET \n",
        "\n",
        "The Search for Racism | The American Spectator\n"
       ]
      },
      {
       "output_type": "stream",
       "stream": "stdout",
       "text": [
        "\n",
        "\n",
        " ALREADY IN SET \n",
        "\n",
        "Film Review: \"We Are the Giant\" | Mother Jones\n"
       ]
      },
      {
       "output_type": "stream",
       "stream": "stdout",
       "text": [
        "\n",
        "\n",
        " ALREADY IN SET \n",
        "\n",
        "How Science Can Tell If Your Great-Grandparents Were Strikebreakers | Mother Jones\n"
       ]
      },
      {
       "output_type": "stream",
       "stream": "stdout",
       "text": [
        "\n",
        "\n",
        " ALREADY IN SET \n",
        "\n",
        "Elizabeth Warren Doesn't Like This Treasury Nominee. Here's Why. | Mother Jones\n"
       ]
      },
      {
       "output_type": "stream",
       "stream": "stdout",
       "text": [
        "\n",
        "\n",
        " ALREADY IN SET \n",
        "\n",
        "I Told a Grand Jury I Saw a Cop Shoot and Kill an Unarmed Man. It Didn't Indict. | Mother Jones\n"
       ]
      },
      {
       "output_type": "stream",
       "stream": "stdout",
       "text": [
        "\n",
        "\n",
        " ALREADY IN SET \n",
        "\n",
        "The Obama Recovery Has Been Miles Better Than the Bush Recovery | Mother Jones\n"
       ]
      },
      {
       "output_type": "stream",
       "stream": "stdout",
       "text": [
        "\n",
        "Watch the Bullies Who Protest Outside of Abortion Clinics Get Exactly What They Deserve | Mother Jones\n"
       ]
      },
      {
       "output_type": "stream",
       "stream": "stdout",
       "text": [
        "\n",
        "\n",
        " ALREADY IN SET \n",
        "\n",
        "SeaWorld Says It Has to Keep Orcas in Captivity to Save Them | Mother Jones\n"
       ]
      },
      {
       "output_type": "stream",
       "stream": "stdout",
       "text": [
        "\n",
        "\n",
        " ALREADY IN SET \n",
        "\n",
        "The Koch 130 | Mother Jones\n"
       ]
      },
      {
       "output_type": "stream",
       "stream": "stdout",
       "text": [
        "\n",
        "\n",
        " ALREADY IN SET \n",
        "\n",
        "Map: The United States of Legal Weed | Mother Jones\n"
       ]
      },
      {
       "output_type": "stream",
       "stream": "stdout",
       "text": [
        "\n",
        "\n",
        " ALREADY IN SET \n",
        "\n",
        "Don't Let the Rolling Stone Controversy Distract You From the Campus Rape Epidemic | Mother Jones\n"
       ]
      },
      {
       "output_type": "stream",
       "stream": "stdout",
       "text": [
        "\n",
        "\n",
        " ALREADY IN SET \n",
        "\n",
        "The US Government Deported 438,000 People in 2013. 83 Percent Never Got a Hearing. | Mother Jones\n"
       ]
      },
      {
       "output_type": "stream",
       "stream": "stdout",
       "text": [
        "\n",
        "\n",
        " ALREADY IN SET \n",
        "\n",
        "Watch NASA Launch Its Next-Gen Spacecraft Friday Morning | Mother Jones\n"
       ]
      },
      {
       "output_type": "stream",
       "stream": "stdout",
       "text": [
        "\n",
        "\n",
        " ALREADY IN SET \n",
        "\n",
        "Content not text, or article not relevant.\n"
       ]
      },
      {
       "output_type": "stream",
       "stream": "stdout",
       "text": [
        "\n",
        "Thurgood Marshall Blasted Police for Killing Black Men With Chokeholds | Mother Jones\n"
       ]
      },
      {
       "output_type": "stream",
       "stream": "stdout",
       "text": [
        "\n",
        "\n",
        " ALREADY IN SET \n",
        "\n",
        "The Science of Why Cops Shoot Young Black Men | Mother Jones\n"
       ]
      },
      {
       "output_type": "stream",
       "stream": "stdout",
       "text": [
        "\n",
        "\n",
        " ALREADY IN SET \n",
        "\n",
        "We Don\u2019t Just Need Nicer Cops. We Need Fewer Cops. | The Nation\n"
       ]
      },
      {
       "output_type": "stream",
       "stream": "stdout",
       "text": [
        "\n",
        "\n",
        " ALREADY IN SET \n",
        "\n",
        "An Open Letter To Charles Barkley | The Nation\n"
       ]
      },
      {
       "output_type": "stream",
       "stream": "stdout",
       "text": [
        "\n",
        "\n",
        " ALREADY IN SET \n",
        "\n",
        "Plugged Into the Socket of Life | The Nation\n"
       ]
      },
      {
       "output_type": "stream",
       "stream": "stdout",
       "text": [
        "\n",
        "\n",
        " ALREADY IN SET \n"
       ]
      },
      {
       "output_type": "stream",
       "stream": "stdout",
       "text": [
        "\n",
        "Our Public Education System Needs Transformation, Not \u2018Reform\u2019 | The Nation\n"
       ]
      },
      {
       "output_type": "stream",
       "stream": "stdout",
       "text": [
        "\n",
        "\n",
        " ALREADY IN SET \n",
        "\n",
        "Imitations of Life | The Nation\n"
       ]
      },
      {
       "output_type": "stream",
       "stream": "stdout",
       "text": [
        "\n",
        "\n",
        " ALREADY IN SET \n",
        "\n",
        "Our Words, Our Selves | The Nation\n"
       ]
      },
      {
       "output_type": "stream",
       "stream": "stdout",
       "text": [
        "\n",
        "\n",
        " ALREADY IN SET \n",
        "\n",
        "Are Cities the Next Front in the Right\u2019s War on Labor? | The Nation\n"
       ]
      },
      {
       "output_type": "stream",
       "stream": "stdout",
       "text": [
        "\n",
        "\n",
        " ALREADY IN SET \n",
        "\n",
        "The UN Backs Down a Little, Adds More Women to Its Peacekeeping Panel | The Nation\n"
       ]
      },
      {
       "output_type": "stream",
       "stream": "stdout",
       "text": [
        "\n",
        "\n",
        " ALREADY IN SET \n",
        "\n",
        "In Egypt\u2019s Growing Insurgency, Civilians Pay the Highest Price | The Nation\n"
       ]
      },
      {
       "output_type": "stream",
       "stream": "stdout",
       "text": [
        "\n",
        "\n",
        " ALREADY IN SET \n",
        "\n",
        "Anti-Gay, Anti-Choice Children\u2019s AIDS Fund Still Raking In Taxpayer Money | The Nation\n"
       ]
      },
      {
       "output_type": "stream",
       "stream": "stdout",
       "text": [
        "\n",
        "\n",
        " ALREADY IN SET \n",
        "\n",
        "No Fate but Entropy | The Nation\n"
       ]
      },
      {
       "output_type": "stream",
       "stream": "stdout",
       "text": [
        "\n",
        "\n",
        " ALREADY IN SET \n"
       ]
      },
      {
       "output_type": "stream",
       "stream": "stdout",
       "text": [
        "\n",
        "Why Hagel\u2019s Departure Is a Victory For War Hawks  | The Nation\n"
       ]
      },
      {
       "output_type": "stream",
       "stream": "stdout",
       "text": [
        "\n",
        "\n",
        " ALREADY IN SET \n",
        "\n",
        "Why It\u2019s Impossible to Indict a Cop | The Nation\n"
       ]
      },
      {
       "output_type": "stream",
       "stream": "stdout",
       "text": [
        "\n",
        "\n",
        " ALREADY IN SET \n",
        "\n",
        "4 Reasons Keystone Really Matters | The Nation\n"
       ]
      },
      {
       "output_type": "stream",
       "stream": "stdout",
       "text": [
        "\n",
        "\n",
        " ALREADY IN SET \n",
        "\n",
        "Removing tourists and objects from photos: Demonstration of easy Photoshop feature (VIDEO).  \n",
        "\n"
       ]
      },
      {
       "output_type": "stream",
       "stream": "stdout",
       "text": [
        "\n",
        "\n",
        " ALREADY IN SET \n",
        "\n",
        "Eric Garner, Daniel Pantaleo, and cop training: Police departments must explain why their officers\u2019 first instinct is the sudden use of force.\n"
       ]
      },
      {
       "output_type": "stream",
       "stream": "stdout",
       "text": [
        "\n",
        "\n",
        " ALREADY IN SET \n",
        "\n",
        "Slate weekly roundup: Senior technology writer Will Oremus\u2019s reading recommendations for this week.  \n"
       ]
      },
      {
       "output_type": "stream",
       "stream": "stdout",
       "text": [
        "\n",
        "Warren Buffett Ready for Hillary donation: Gives maximum to Clinton super PAC.\n"
       ]
      },
      {
       "output_type": "stream",
       "stream": "stdout",
       "text": [
        "\n",
        "\n",
        " ALREADY IN SET \n",
        "\n",
        "Ava DuVernay profile: The Selma director on her MLK drama and being a black female director in Hollywood.\n"
       ]
      },
      {
       "output_type": "stream",
       "stream": "stdout",
       "text": [
        "\n",
        "\n",
        " ALREADY IN SET \n"
       ]
      },
      {
       "output_type": "stream",
       "stream": "stdout",
       "text": [
        "\n",
        "Content not text, or article not relevant.\n"
       ]
      },
      {
       "output_type": "stream",
       "stream": "stdout",
       "text": [
        "\n",
        "Israeli election: Don't assume Benjamin Netanyahu's job is safe.\n"
       ]
      },
      {
       "output_type": "stream",
       "stream": "stdout",
       "text": [
        "\n",
        "\n",
        " ALREADY IN SET \n",
        "\n",
        "Homophobic slur at a funeral: Should you speak up?\n"
       ]
      },
      {
       "output_type": "stream",
       "stream": "stdout",
       "text": [
        "\n",
        "\n",
        " ALREADY IN SET \n",
        "\n",
        "Running calculator: Introducing Slate\u2019s marathon time predictor, a better way to calculate how fast you\u2019ll run.\u2028",
        "\n"
       ]
      },
      {
       "output_type": "stream",
       "stream": "stdout",
       "text": [
        "\n",
        "\n",
        " ALREADY IN SET \n",
        "\n",
        "Grammys 2015: Beyonc\u00e9 passes Dolly Parton as the most nominated woman in Grammy history.\n"
       ]
      },
      {
       "output_type": "stream",
       "stream": "stdout",
       "text": [
        "\n",
        "\n",
        " ALREADY IN SET \n",
        "\n",
        "Linda Tirado on the realities of living in bootstrap America: daily annoyances for most people are catastrophic for poor people.\n"
       ]
      },
      {
       "output_type": "stream",
       "stream": "stdout",
       "text": [
        "\n",
        "\n",
        " ALREADY IN SET \n",
        "\n",
        "History of spycraft: Manual for British spies during WWII. \n"
       ]
      },
      {
       "output_type": "stream",
       "stream": "stdout",
       "text": [
        "\n",
        "\n",
        " ALREADY IN SET \n",
        "\n",
        "Content not text, or article not relevant.\n"
       ]
      },
      {
       "output_type": "stream",
       "stream": "stdout",
       "text": [
        "\n",
        "Felix Salmon on Slate Money: I told listeners I\u2019d match their charity donations and ended up spending nearly $20,000.\n"
       ]
      },
      {
       "output_type": "stream",
       "stream": "stdout",
       "text": [
        "\n",
        "\n",
        " ALREADY IN SET \n",
        "\n",
        "Cult film slang: Words first cited in the OED from Heathers, Pulp Fiction, Withnail and I, Ghostbusters, Blade Runner, Spinal Tap\n"
       ]
      },
      {
       "output_type": "stream",
       "stream": "stdout",
       "text": [
        "\n",
        "\n",
        " ALREADY IN SET \n",
        "\n",
        "Rules and submission guidelines for the 2014 Cartoonist Studio Prize.\n"
       ]
      },
      {
       "output_type": "stream",
       "stream": "stdout",
       "text": [
        "\n",
        "\n",
        " ALREADY IN SET \n"
       ]
      },
      {
       "output_type": "stream",
       "stream": "stdout",
       "text": [
        "\n",
        "Questionable adoptions, lobbying rewards, and dubious \u201cwork therapy\u201d: the best investigative reporting of the past week.\n"
       ]
      },
      {
       "output_type": "stream",
       "stream": "stdout",
       "text": [
        "\n",
        "\n",
        " ALREADY IN SET \n",
        "\n",
        "Cellphone rights guide for protesters in the United States.\n"
       ]
      },
      {
       "output_type": "stream",
       "stream": "stdout",
       "text": [
        "\n",
        "The New Republic\u2019s demise: The magazine\u2019s heterodox liberalism is what made it unique.\n"
       ]
      },
      {
       "output_type": "stream",
       "stream": "stdout",
       "text": [
        "\n",
        "\n",
        " ALREADY IN SET \n",
        "\n",
        "Ashton Carter may be a good defense secretary: Why does the United States have so few people qualified to run the Pentagon?\n"
       ]
      },
      {
       "output_type": "stream",
       "stream": "stdout",
       "text": [
        "\n",
        "\n",
        " ALREADY IN SET \n",
        "\n",
        "Mongolian nomads: Ambitious program uses solar panels to connect region\u2019s 800,000 nomads to the grid.\n"
       ]
      },
      {
       "output_type": "stream",
       "stream": "stdout",
       "text": [
        "\n",
        "\n",
        " ALREADY IN SET \n",
        "\n",
        "Sony Pictures hack: Reveals gender pay gap at the entertainment company and Deloitte. \n"
       ]
      },
      {
       "output_type": "stream",
       "stream": "stdout",
       "text": [
        "\n",
        "\n",
        " ALREADY IN SET \n",
        "\n",
        "Single-sex classroom research: Fake brain science supports gender segregation.\n"
       ]
      },
      {
       "output_type": "stream",
       "stream": "stdout",
       "text": [
        "\n",
        "\n",
        " ALREADY IN SET \n",
        "\n",
        "Football on Thanksgiving: How the Dallas Cowboys ruined Turkey Day.\n"
       ]
      },
      {
       "output_type": "stream",
       "stream": "stdout",
       "text": [
        "\n",
        "\n",
        " ALREADY IN SET \n",
        "\n",
        "Eric Garner protests: The demonstrations in New York were angry, cathartic, peaceful\u2014and kind of beautiful.\n"
       ]
      },
      {
       "output_type": "stream",
       "stream": "stdout",
       "text": [
        "\n",
        "\n",
        " ALREADY IN SET \n",
        "\n",
        "Why does Gandalf the White fight with a sword instead of casting spells?\n"
       ]
      },
      {
       "output_type": "stream",
       "stream": "stdout",
       "text": [
        "\n",
        "\n",
        " ALREADY IN SET \n"
       ]
      },
      {
       "output_type": "stream",
       "stream": "stdout",
       "text": [
        "\n",
        "We don't need to ban frats to reduce rape rates, but it might help to integrate women into them.\n"
       ]
      },
      {
       "output_type": "stream",
       "stream": "stdout",
       "text": [
        "\n",
        "\n",
        " ALREADY IN SET \n",
        "\n",
        "Sabrina Rubin Erdely, UVA: Why didn\u2019t a Rolling Stone writer talk to the alleged perpetrators of a gang rape?\n"
       ]
      },
      {
       "output_type": "stream",
       "stream": "stdout",
       "text": [
        "\n",
        "\n",
        " ALREADY IN SET \n",
        "\n",
        "Flu from a flu shot? Why it\u2019s impossible to get sick from the vaccination (VIDEO).\n"
       ]
      },
      {
       "output_type": "stream",
       "stream": "stdout",
       "text": [
        "\n",
        "\n",
        " ALREADY IN SET \n",
        "\n",
        "Content not text, or article not relevant.\n"
       ]
      },
      {
       "output_type": "stream",
       "stream": "stdout",
       "text": [
        "\n",
        "James Watson selling Nobel Prize: DNA structure discoverer\u2019s history of racism and sexism.\n"
       ]
      },
      {
       "output_type": "stream",
       "stream": "stdout",
       "text": [
        "\n",
        "\n",
        " ALREADY IN SET \n",
        "\n",
        "Content not text, or article not relevant.\n"
       ]
      },
      {
       "output_type": "stream",
       "stream": "stdout",
       "text": [
        "\n",
        "Akai Gurley shooter Peter Liang texted union before requesting help.\n"
       ]
      },
      {
       "output_type": "stream",
       "stream": "stdout",
       "text": [
        "\n",
        "\n",
        " ALREADY IN SET \n",
        "\n",
        "Behomm is the first home exchange community reserved for designers and visual artists. \n"
       ]
      },
      {
       "output_type": "stream",
       "stream": "stdout",
       "text": [
        "\n",
        "\n",
        " ALREADY IN SET \n",
        "\n",
        "Content not text, or article not relevant.\n"
       ]
      },
      {
       "output_type": "stream",
       "stream": "stdout",
       "text": [
        "\n",
        "The Slate Quiz with quizmaster Ken Jennings: Play the news quiz for the week of Dec 5.\n"
       ]
      },
      {
       "output_type": "stream",
       "stream": "stdout",
       "text": [
        "\n",
        "\n",
        " ALREADY IN SET \n",
        "\n",
        "Mark Wahlberg pardon request: Actor was convicted of assault at age 16.\n"
       ]
      },
      {
       "output_type": "stream",
       "stream": "stdout",
       "text": [
        "\n",
        "\n",
        " ALREADY IN SET \n",
        "\n",
        "FSUTwitter: Florida State football fans are the new Gamergate.\n"
       ]
      },
      {
       "output_type": "stream",
       "stream": "stdout",
       "text": [
        "\n",
        "Rolling Stone UVA rape story continues to unravel. Jackie's friend \"Andy\" speaks out. \n"
       ]
      },
      {
       "output_type": "stream",
       "stream": "stdout",
       "text": [
        "\n",
        "Content not text, or article not relevant.\n"
       ]
      },
      {
       "output_type": "stream",
       "stream": "stdout",
       "text": [
        "\n",
        "Content not text, or article not relevant.\n"
       ]
      },
      {
       "output_type": "stream",
       "stream": "stdout",
       "text": [
        "\n",
        "Content not text, or article not relevant.\n"
       ]
      },
      {
       "output_type": "stream",
       "stream": "stdout",
       "text": [
        "\n",
        "November jobs report: We added 321,000 jobs.\n"
       ]
      },
      {
       "output_type": "stream",
       "stream": "stdout",
       "text": [
        "\n",
        "\n",
        " ALREADY IN SET \n",
        "\n",
        "Stephanie Diani: Live Audience! Looks at the people who attend multiple television tapings (PHOTOS).\n"
       ]
      },
      {
       "output_type": "stream",
       "stream": "stdout",
       "text": [
        "\n",
        "\n",
        " ALREADY IN SET \n",
        "\n",
        "Content not text, or article not relevant.\n"
       ]
      },
      {
       "output_type": "stream",
       "stream": "stdout",
       "text": [
        "\n",
        "Kilgore College: Texas community college asbestos controversy escalates to shooting at board member\u2019s house. \n"
       ]
      },
      {
       "output_type": "stream",
       "stream": "stdout",
       "text": [
        "\n",
        "\n",
        " ALREADY IN SET \n",
        "\n",
        "Sam Hinkie: Is the Philadelphia 76ers\u2019 lose-on-purpose approach to team-building ingenious or morally bankrupt?\n"
       ]
      },
      {
       "output_type": "stream",
       "stream": "stdout",
       "text": [
        "\n",
        "\n",
        " ALREADY IN SET \n",
        "\n",
        "Ball Aerospace: A company known for mason jars helped with NASA's Orion capsule.\n"
       ]
      },
      {
       "output_type": "stream",
       "stream": "stdout",
       "text": [
        "\n",
        "\n",
        " ALREADY IN SET \n",
        "\n",
        "Overturned New York Times truck in Philadelphia: no particular symbolic significance.\n"
       ]
      },
      {
       "output_type": "stream",
       "stream": "stdout",
       "text": [
        "\n",
        "\n",
        " ALREADY IN SET \n",
        "\n",
        "Whole Foods Detroit: Can a grocery store really fight elitism, racism, and obesity?\n"
       ]
      },
      {
       "output_type": "stream",
       "stream": "stdout",
       "text": [
        "\n",
        "\n",
        " ALREADY IN SET \n"
       ]
      },
      {
       "output_type": "stream",
       "stream": "stdout",
       "text": [
        "\n",
        "Fraternity sexual assault and criminal activities: States should use gang laws to seize their assets.\n"
       ]
      },
      {
       "output_type": "stream",
       "stream": "stdout",
       "text": [
        "\n",
        "\n",
        " ALREADY IN SET \n",
        "\n",
        "The problem with The Paris Wife, Loving Frank, and historical novels about famous men\u2019s wives.\n"
       ]
      },
      {
       "output_type": "stream",
       "stream": "stdout",
       "text": [
        "\n",
        "\n",
        " ALREADY IN SET \n",
        "\n",
        "Totally Obsessed: the age of cultural manias, from True Detective to Serial and beyond.\n"
       ]
      },
      {
       "output_type": "stream",
       "stream": "stdout",
       "text": [
        "\n",
        "\n",
        " ALREADY IN SET \n",
        "\n",
        "Edward Banfield: The racist, classist origins of broken windows policing.\n"
       ]
      },
      {
       "output_type": "stream",
       "stream": "stdout",
       "text": [
        "\n",
        "\n",
        " ALREADY IN SET \n",
        "\n",
        "The conservative case for reforming the police and how to do it, in three steps.\n"
       ]
      },
      {
       "output_type": "stream",
       "stream": "stdout",
       "text": [
        "\n",
        "\n",
        " ALREADY IN SET \n",
        "\n",
        "Creationism poll: How many Americans believe the Bible is literal, inerrant, or symbolic.\n"
       ]
      },
      {
       "output_type": "stream",
       "stream": "stdout",
       "text": [
        "\n",
        "\n",
        " ALREADY IN SET \n",
        "\n",
        "Content not text, or article not relevant.\n"
       ]
      },
      {
       "output_type": "stream",
       "stream": "stdout",
       "text": [
        "\n",
        "Content not text, or article not relevant.\n"
       ]
      },
      {
       "output_type": "stream",
       "stream": "stdout",
       "text": [
        "\n",
        "Content not text, or article not relevant.\n"
       ]
      },
      {
       "output_type": "stream",
       "stream": "stdout",
       "text": [
        "\n",
        "Content not text, or article not relevant.\n"
       ]
      },
      {
       "output_type": "stream",
       "stream": "stdout",
       "text": [
        "\n",
        "LeBron James, Cleveland: How LeBron and the city found their way back to each other.\n"
       ]
      },
      {
       "output_type": "stream",
       "stream": "stdout",
       "text": [
        "\n",
        "\n",
        " ALREADY IN SET \n",
        "\n",
        "Dave Brandon: The resignation of Michigan\u2019s villainous athletic director is why we like college sports.\n"
       ]
      },
      {
       "output_type": "stream",
       "stream": "stdout",
       "text": [
        "\n",
        "\n",
        " ALREADY IN SET \n",
        "\n",
        "Content not text, or article not relevant.\n"
       ]
      },
      {
       "output_type": "stream",
       "stream": "stdout",
       "text": [
        "\n",
        "Patrick Morarescu photographs performance artists.\n"
       ]
      },
      {
       "output_type": "stream",
       "stream": "stdout",
       "text": [
        "\n",
        "\n",
        " ALREADY IN SET \n",
        "\n",
        "Gap sales down 4 percent after Dress Normal campaign failure.\n"
       ]
      },
      {
       "output_type": "stream",
       "stream": "stdout",
       "text": [
        "\n",
        "\n",
        " ALREADY IN SET \n",
        "\n",
        "Senator Wyden proposes Secure Data Act to keep government agencies from mandating encryption backdoors.\n"
       ]
      },
      {
       "output_type": "stream",
       "stream": "stdout",
       "text": [
        "\n",
        "\n",
        " ALREADY IN SET \n",
        "\n",
        "New Republic staff changes: What the debate about the magazine reveals about modern journalism.\n"
       ]
      },
      {
       "output_type": "stream",
       "stream": "stdout",
       "text": [
        "\n",
        "\n",
        " ALREADY IN SET \n",
        "\n",
        "Renee C. Byer: Living On A Dollar A Day is an examination of worldwide extreme hunger and poverty (PHOTOS).\n"
       ]
      },
      {
       "output_type": "stream",
       "stream": "stdout",
       "text": [
        "\n",
        "\n",
        " ALREADY IN SET \n",
        "\n",
        "Edie Bresler: We Sold a Winner looks at the stores that sold winning lottery tickets around the country (PHOTOS).\n"
       ]
      },
      {
       "output_type": "stream",
       "stream": "stdout",
       "text": [
        "\n",
        "\n",
        " ALREADY IN SET \n",
        "\n",
        "Sony Pictures hack: Was North Korea really the culprit?\n"
       ]
      },
      {
       "output_type": "stream",
       "stream": "stdout",
       "text": [
        "\n",
        "\n",
        " ALREADY IN SET \n",
        "\n",
        "The new seven wonders: Defining the top technological marvels of the contemporary age.\n"
       ]
      },
      {
       "output_type": "stream",
       "stream": "stdout",
       "text": [
        "\n",
        "\n",
        " ALREADY IN SET \n"
       ]
      },
      {
       "output_type": "stream",
       "stream": "stdout",
       "text": [
        "\n",
        "Kim Kardashian didn\u2019t break the Internet: How to cause a scandal in an overly transgressive age.\n"
       ]
      },
      {
       "output_type": "stream",
       "stream": "stdout",
       "text": [
        "\n",
        "\n",
        " ALREADY IN SET \n",
        "\n",
        "Content not text, or article not relevant.\n"
       ]
      },
      {
       "output_type": "stream",
       "stream": "stdout",
       "text": [
        "\n",
        "Falling oil prices: Why an oil bust won\u2019t hurt the American economy or energy industry in the long run.\n"
       ]
      },
      {
       "output_type": "stream",
       "stream": "stdout",
       "text": [
        "\n",
        "\n",
        " ALREADY IN SET \n",
        "\n",
        "Beards: History and theory of male facial hair and comedy.\n"
       ]
      },
      {
       "output_type": "stream",
       "stream": "stdout",
       "text": [
        "\n",
        "\n",
        " ALREADY IN SET \n",
        "\n",
        "Katrina Arnold photographs New Orleans Ladies Arm Wrestling tournaments.  \n"
       ]
      },
      {
       "output_type": "stream",
       "stream": "stdout",
       "text": [
        "\n",
        "\n",
        " ALREADY IN SET \n",
        "\n",
        "Content not text, or article not relevant.\n"
       ]
      },
      {
       "output_type": "stream",
       "stream": "stdout",
       "text": [
        "\n",
        "During the Romney campaign 22 people had to approve tweets before they were published.\n"
       ]
      },
      {
       "output_type": "stream",
       "stream": "stdout",
       "text": [
        "\n",
        "\n",
        " ALREADY IN SET \n",
        "\n",
        "Adam Voorhes photographs a rare collection of brains in his book, Malformed: Forgotten Brains of the Texas State Mental Hospital, with Alex Hannaford.\n"
       ]
      },
      {
       "output_type": "stream",
       "stream": "stdout",
       "text": [
        "\n",
        "\n",
        " ALREADY IN SET \n",
        "\n",
        "Pink slugs, drunken parrots, giant earthworms, and tree lobsters of Australia.\n"
       ]
      },
      {
       "output_type": "stream",
       "stream": "stdout",
       "text": [
        "\n",
        "\n",
        " ALREADY IN SET \n",
        "\n",
        "Dr. Ben Carson blames feminism and the 60s for police shootings of unarmed black men.\n"
       ]
      },
      {
       "output_type": "stream",
       "stream": "stdout",
       "text": [
        "\n",
        "\n",
        " ALREADY IN SET \n",
        "\n",
        "Content not text, or article not relevant.\n"
       ]
      },
      {
       "output_type": "stream",
       "stream": "stdout",
       "text": [
        "\n",
        "Orion launch: Watch live.\n"
       ]
      },
      {
       "output_type": "stream",
       "stream": "stdout",
       "text": [
        "\n",
        "\n",
        " ALREADY IN SET \n",
        "\n",
        "Truvada, the gay community, and fear: Considering the meanings of condoms and pills.\n"
       ]
      },
      {
       "output_type": "stream",
       "stream": "stdout",
       "text": [
        "\n",
        "\n",
        " ALREADY IN SET \n",
        "\n",
        "Best books of 2014: Slate Book Review editor picks.\n"
       ]
      },
      {
       "output_type": "stream",
       "stream": "stdout",
       "text": [
        "\n",
        "\n",
        " ALREADY IN SET \n",
        "\n",
        "U.S. will keep 1,000 more rroops in Afghanistan than planned.\n"
       ]
      },
      {
       "output_type": "stream",
       "stream": "stdout",
       "text": [
        "\n",
        "Still Alice review: Julianne Moore in an Alzheimer\u2019s movie based on the Lisa Genova book.\n"
       ]
      },
      {
       "output_type": "stream",
       "stream": "stdout",
       "text": [
        "\n",
        "\n",
        " ALREADY IN SET \n",
        "\n",
        "Derrick Rose, injuries: NBA stars aren't superheroes. They break just like the rest of us puny humans.\n"
       ]
      },
      {
       "output_type": "stream",
       "stream": "stdout",
       "text": [
        "\n",
        "\n",
        " ALREADY IN SET \n",
        "\n",
        "Cop in Mesa, Arizona punches 15-year-old girl in the face.\n"
       ]
      },
      {
       "output_type": "stream",
       "stream": "stdout",
       "text": [
        "\n",
        "Orion: NASA's second attempt at launch.\n"
       ]
      },
      {
       "output_type": "stream",
       "stream": "stdout",
       "text": [
        "\n",
        "\n",
        " ALREADY IN SET \n",
        "\n",
        "Luke Somers: US and South African hostages murdered in rescue mission. \n"
       ]
      },
      {
       "output_type": "stream",
       "stream": "stdout",
       "text": [
        "\n",
        "\n",
        " ALREADY IN SET \n",
        "\n",
        "Girlfriends\u2019 Guide to Divorce on Bravo: Lisa Edelstein\u2019s new show, reviewed.\n"
       ]
      },
      {
       "output_type": "stream",
       "stream": "stdout",
       "text": [
        "\n",
        "\n",
        " ALREADY IN SET \n",
        "\n",
        "Amazing libraries from around the world in the book, Reflections: Libraries.\n"
       ]
      },
      {
       "output_type": "stream",
       "stream": "stdout",
       "text": [
        "\n",
        "\n",
        " ALREADY IN SET \n",
        "\n",
        "Science shows you're better off being a nice boss.\n"
       ]
      },
      {
       "output_type": "stream",
       "stream": "stdout",
       "text": [
        "\n",
        "\n",
        " ALREADY IN SET \n",
        "\n",
        "Gluten-free fad: Don\u2019t be annoyed, says celiac disease memoirist.\n"
       ]
      },
      {
       "output_type": "stream",
       "stream": "stdout",
       "text": [
        "\n",
        "\n",
        " ALREADY IN SET \n",
        "\n",
        "Dawn sees Ceres: Spacecraft's first picture of asteroid target.\n"
       ]
      },
      {
       "output_type": "stream",
       "stream": "stdout",
       "text": [
        "\n",
        "\n",
        " ALREADY IN SET \n",
        "\n",
        "Content not text, or article not relevant.\n"
       ]
      },
      {
       "output_type": "stream",
       "stream": "stdout",
       "text": [
        "\n",
        "Slate\u2019s most commented articles: Who comments on what articles and why?\n"
       ]
      },
      {
       "output_type": "stream",
       "stream": "stdout",
       "text": [
        "\n",
        "\n",
        " ALREADY IN SET \n",
        "\n",
        "Dear Prudence: My husband is a bad gift-giver.\n"
       ]
      },
      {
       "output_type": "stream",
       "stream": "stdout",
       "text": [
        "\n",
        "\n",
        " ALREADY IN SET \n",
        "\n",
        "New Republic turnover and breaking shit: A history of silicon valley's favorite phrase. \n"
       ]
      },
      {
       "output_type": "stream",
       "stream": "stdout",
       "text": [
        "\n",
        "\n",
        " ALREADY IN SET \n",
        "\n",
        "Best novels, children\u2019s books, and comics of 2014: Dan Kois picks his 15 favorites.\n"
       ]
      },
      {
       "output_type": "stream",
       "stream": "stdout",
       "text": [
        "\n",
        "\n",
        " ALREADY IN SET \n",
        "\n",
        "Network TV sitcoms: Four tips to get network TV out of the Great Sitcom Recession.\n"
       ]
      },
      {
       "output_type": "stream",
       "stream": "stdout",
       "text": [
        "\n",
        "\n",
        " ALREADY IN SET \n",
        "\n",
        "Israel\u2019s demolition of Palestinian homes: Benjamin Netanyahu\u2019s government teaches its citizens the wrong lessons.\n"
       ]
      },
      {
       "output_type": "stream",
       "stream": "stdout",
       "text": [
        "\n",
        "\n",
        " ALREADY IN SET \n",
        "\n",
        "Dear Prudence: I was fat-shamed by my cousin at Thanksgiving.\n"
       ]
      },
      {
       "output_type": "stream",
       "stream": "stdout",
       "text": [
        "\n",
        "\n",
        " ALREADY IN SET \n",
        "\n",
        "Drinking problem in academia: Alcohol abuse among faculty members.\n"
       ]
      },
      {
       "output_type": "stream",
       "stream": "stdout",
       "text": [
        "\n",
        "\n",
        " ALREADY IN SET \n",
        "\n",
        "Aquaculture: Farmed fish could be better for the environment.\n"
       ]
      },
      {
       "output_type": "stream",
       "stream": "stdout",
       "text": [
        "\n",
        "\n",
        " ALREADY IN SET \n",
        "\n",
        "Why female Jacana birds do all the fighting while the males stay home and watch the kids. \n"
       ]
      },
      {
       "output_type": "stream",
       "stream": "stdout",
       "text": [
        "\n",
        "\n",
        " ALREADY IN SET \n",
        "\n",
        "Richard Pryor on police chokeholds: A 1977 bit that anticipates Eric Garner (VIDEO). \n"
       ]
      },
      {
       "output_type": "stream",
       "stream": "stdout",
       "text": [
        "\n",
        "Marcel Leli\u00ebnhof photographs the Hells Angels in Norway in his book, Helvetes Engler\u2014Hells Angels MC Norway(PHOTOS).\n"
       ]
      },
      {
       "output_type": "stream",
       "stream": "stdout",
       "text": [
        "\n",
        "\n",
        " ALREADY IN SET \n",
        "\n",
        "President Obama says voters want \u201cthat new car smell\u201d: Can he take criticism from Hillary Clinton and other Democrats in the 2016 presidential race?\n"
       ]
      },
      {
       "output_type": "stream",
       "stream": "stdout",
       "text": [
        "\n",
        "\n",
        " ALREADY IN SET \n",
        "\n",
        "M83: New composite shows incredible detail.\n"
       ]
      },
      {
       "output_type": "stream",
       "stream": "stdout",
       "text": [
        "\n",
        "\n",
        " ALREADY IN SET \n",
        "\n",
        "Content not text, or article not relevant.\n"
       ]
      },
      {
       "output_type": "stream",
       "stream": "stdout",
       "text": [
        "\n",
        "Rolling Stone backs away from its UVA gang rape story. \n"
       ]
      },
      {
       "output_type": "stream",
       "stream": "stdout",
       "text": [
        "\n",
        "\n",
        " ALREADY IN SET \n",
        "\n",
        "Dear Prudence: Is our sexy young nanny a temptation for my husband?\n"
       ]
      },
      {
       "output_type": "stream",
       "stream": "stdout",
       "text": [
        "\n",
        "\n",
        " ALREADY IN SET \n",
        "\n",
        "Tech internship salaries: An even longer list that will make your eyes water\n"
       ]
      },
      {
       "output_type": "stream",
       "stream": "stdout",
       "text": [
        "\n",
        "\n",
        " ALREADY IN SET \n",
        "\n",
        "Johnny Manziel, Kerrville: Even in the town where he learned to play the game, Johnny Football is polarizing.\n"
       ]
      },
      {
       "output_type": "stream",
       "stream": "stdout",
       "text": [
        "\n",
        "\n",
        " ALREADY IN SET \n",
        "\n",
        "Content not text, or article not relevant.\n"
       ]
      },
      {
       "output_type": "stream",
       "stream": "stdout",
       "text": [
        "\n",
        "Ridley Scott\u2019s Exodus: Were ancient Egyptians white, black, or brown?\n"
       ]
      },
      {
       "output_type": "stream",
       "stream": "stdout",
       "text": [
        "\n",
        "\n",
        " ALREADY IN SET \n",
        "\n",
        "\"Why doesn't she leave?\": The Janay Rice interview contains some answers to the perennial domestic violence question.\n"
       ]
      },
      {
       "output_type": "stream",
       "stream": "stdout",
       "text": [
        "\n",
        "\n",
        " ALREADY IN SET \n",
        "\n",
        "Karen Joy Fowler\u2019s We Are All Completely Beside Ourselves: Book club guide and discussion.\n"
       ]
      },
      {
       "output_type": "stream",
       "stream": "stdout",
       "text": [
        "\n",
        "\n",
        " ALREADY IN SET \n",
        "\n",
        "Content not text, or article not relevant.\n"
       ]
      },
      {
       "output_type": "stream",
       "stream": "stdout",
       "text": [
        "\n",
        "Dress codes: Smart casual, dress to impress, cocktail attire, tropical chic, explained.\n"
       ]
      },
      {
       "output_type": "stream",
       "stream": "stdout",
       "text": [
        "\n",
        "\n",
        " ALREADY IN SET \n",
        "\n",
        "2014 World Series, Game 7: Should Alex Gordon have tried to dash home with the tying run?\n"
       ]
      },
      {
       "output_type": "stream",
       "stream": "stdout",
       "text": [
        "\n",
        "\n",
        " ALREADY IN SET \n",
        "\n",
        "Republicans divided on immigration: Ted Cruz accuses Republicans of breaking campaign promises\n"
       ]
      },
      {
       "output_type": "stream",
       "stream": "stdout",
       "text": [
        "\n",
        "\n",
        " ALREADY IN SET \n",
        "\n",
        "Content not text, or article not relevant.\n"
       ]
      },
      {
       "output_type": "stream",
       "stream": "stdout",
       "text": [
        "\n",
        "Cisco Sues Arista, a Rival Run by Former Cisco Employees, for copyright infringement. \n"
       ]
      },
      {
       "output_type": "stream",
       "stream": "stdout",
       "text": [
        "\n",
        "How Yahoo could make up for its decision to sell Flickr users' photos.\n"
       ]
      },
      {
       "output_type": "stream",
       "stream": "stdout",
       "text": [
        "\n",
        "\n",
        " ALREADY IN SET \n",
        "\n",
        "Google services for kids are coming next year.\n"
       ]
      },
      {
       "output_type": "stream",
       "stream": "stdout",
       "text": [
        "\n",
        "\n",
        " ALREADY IN SET \n",
        "\n",
        "Best books 2014: Slate staff recommendations. \n"
       ]
      },
      {
       "output_type": "stream",
       "stream": "stdout",
       "text": [
        "\n",
        "\n",
        " ALREADY IN SET \n"
       ]
      },
      {
       "output_type": "stream",
       "stream": "stdout",
       "text": [
        "\n",
        "Content not text, or article not relevant.\n"
       ]
      },
      {
       "output_type": "stream",
       "stream": "stdout",
       "text": [
        "\n",
        "Are trolls ruining Slate\u2019s comment section?\n"
       ]
      },
      {
       "output_type": "stream",
       "stream": "stdout",
       "text": [
        "\n",
        "\n",
        " ALREADY IN SET \n",
        "\n",
        "Chicago minimum wage vote: $13 by 2019, including for domestic workers. \n"
       ]
      },
      {
       "output_type": "stream",
       "stream": "stdout",
       "text": [
        "\n",
        "\n",
        " ALREADY IN SET \n",
        "\n",
        "URL badly formatted\n",
        "URL badly formatted\n",
        "URL badly formatted\n",
        "URL badly formatted\n",
        "URL badly formatted\n",
        "Reverend\n"
       ]
      },
      {
       "output_type": "stream",
       "stream": "stdout",
       "text": [
        "\n",
        "\n",
        " ALREADY IN SET \n",
        "\n",
        "The U.K.\u2019s \u201cMr. Austerity\u201d Doubles Down - The New Yorker\n"
       ]
      },
      {
       "output_type": "stream",
       "stream": "stdout",
       "text": [
        "\n",
        "\n",
        " ALREADY IN SET \n",
        "\n",
        "URL badly formatted\n",
        "URL badly formatted\n",
        "URL badly formatted\n",
        "URL badly formatted\n",
        "URL badly formatted\n",
        "URL badly formatted\n",
        "URL badly formatted\n",
        "Yesterday\u2019s News - The New Yorker\n"
       ]
      },
      {
       "output_type": "stream",
       "stream": "stdout",
       "text": [
        "\n",
        "\n",
        " ALREADY IN SET \n",
        "\n",
        "URL badly formatted\n",
        "In and Out of Time in Iraq - The New Yorker\n"
       ]
      },
      {
       "output_type": "stream",
       "stream": "stdout",
       "text": [
        "\n",
        "\n",
        " ALREADY IN SET \n",
        "\n",
        "URL badly formatted\n",
        "URL badly formatted\n",
        "Bar Tab: Kilo Bravo\n"
       ]
      },
      {
       "output_type": "stream",
       "stream": "stdout",
       "text": [
        "\n",
        "\n",
        " ALREADY IN SET \n",
        "\n",
        "URL badly formatted\n",
        "URL badly formatted\n",
        "URL badly formatted\n",
        "URL badly formatted\n",
        "URL badly formatted\n",
        "What the Eric Garner Grand Jury Didn\u2019t See - The New Yorker\n"
       ]
      },
      {
       "output_type": "stream",
       "stream": "stdout",
       "text": [
        "\n",
        "\n",
        " ALREADY IN SET \n",
        "\n",
        "URL badly formatted\n",
        "URL badly formatted\n",
        "URL badly formatted\n",
        "URL badly formatted\n",
        "URL badly formatted\n",
        "URL badly formatted\n",
        "URL badly formatted\n",
        "URL badly formatted\n",
        "URL badly formatted\n",
        "URL badly formatted\n",
        "URL badly formatted\n",
        "URL badly formatted\n",
        "URL badly formatted\n",
        "URL badly formatted\n",
        "URL badly formatted\n",
        "URL badly formatted\n",
        "URL badly formatted\n",
        "URL badly formatted\n",
        "\u201cWild\u201d and \u201cMr. Turner\u201d Reviews\n"
       ]
      },
      {
       "output_type": "stream",
       "stream": "stdout",
       "text": [
        "\n",
        "\n",
        " ALREADY IN SET \n",
        "\n",
        "URL badly formatted\n",
        "The Trouble With Cheap Oil - The New Yorker\n"
       ]
      },
      {
       "output_type": "stream",
       "stream": "stdout",
       "text": [
        "\n",
        "\n",
        " ALREADY IN SET \n"
       ]
      },
      {
       "output_type": "stream",
       "stream": "stdout",
       "text": [
        "\n",
        "URL badly formatted\n",
        "URL badly formatted\n",
        "URL badly formatted\n",
        "URL badly formatted\n",
        "URL badly formatted\n",
        "No Such Thing as Racial Profiling\n"
       ]
      },
      {
       "output_type": "stream",
       "stream": "stdout",
       "text": [
        "\n",
        "\n",
        " ALREADY IN SET \n"
       ]
      },
      {
       "output_type": "stream",
       "stream": "stdout",
       "text": [
        "\n",
        "URL badly formatted\n",
        "URL badly formatted\n",
        "A Party for Whisper\n"
       ]
      },
      {
       "output_type": "stream",
       "stream": "stdout",
       "text": [
        "\n",
        "\n",
        " ALREADY IN SET \n",
        "\n",
        "URL badly formatted\n",
        "URL badly formatted\n",
        "URL badly formatted\n",
        "URL badly formatted\n",
        "URL badly formatted\n",
        "URL badly formatted\n",
        "URL badly formatted\n",
        "URL badly formatted\n",
        "The Ride of Their Lives\n"
       ]
      },
      {
       "output_type": "stream",
       "stream": "stdout",
       "text": [
        "\n",
        "\n",
        " ALREADY IN SET \n",
        "\n",
        "URL badly formatted\n",
        "URL badly formatted\n",
        "An Alaskan Poet\u2019s Lyrics of Sex and Power\n"
       ]
      },
      {
       "output_type": "stream",
       "stream": "stdout",
       "text": [
        "\n",
        "\n",
        " ALREADY IN SET \n",
        "\n",
        "URL badly formatted\n",
        "URL badly formatted\n",
        "URL badly formatted\n",
        "URL badly formatted\n",
        "URL badly formatted\n",
        "URL badly formatted\n",
        "New Jobs Figures Worth Celebrating - The New Yorker\n"
       ]
      },
      {
       "output_type": "stream",
       "stream": "stdout",
       "text": [
        "\n",
        "\n",
        " ALREADY IN SET \n",
        "\n",
        "URL badly formatted\n",
        "Best news photos of the week - The Washington Post\n"
       ]
      },
      {
       "output_type": "stream",
       "stream": "stdout",
       "text": [
        "\n",
        "\n",
        " ALREADY IN SET \n",
        "\n",
        "Jewell \u2018profoundly\u2019 disappointed by land exchange at sacred Native American sites - The Washington Post\n"
       ]
      },
      {
       "output_type": "stream",
       "stream": "stdout",
       "text": [
        "\n",
        "\u2018Wild,\u2019 \u2018Remote Area Medical\u2019 and other new movies, reviewed - The Washington Post\n"
       ]
      },
      {
       "output_type": "stream",
       "stream": "stdout",
       "text": [
        "\n",
        "\n",
        " ALREADY IN SET \n",
        "\n",
        "\u201cKey elements of Rolling Stone\u2019s U-Va. gang rape allegations in doubt\u201d - The Washington Post\n"
       ]
      },
      {
       "output_type": "stream",
       "stream": "stdout",
       "text": [
        "\n",
        "\n",
        " ALREADY IN SET \n",
        "\n",
        "Many of the worst run states in the country are states hit the hardest by the housing crash - The Washington Post\n"
       ]
      },
      {
       "output_type": "stream",
       "stream": "stdout",
       "text": [
        "\n",
        "\n",
        " ALREADY IN SET \n",
        "\n",
        "Capitals at Devils: Game 26 discussion thread - The Washington Post\n"
       ]
      },
      {
       "output_type": "stream",
       "stream": "stdout",
       "text": [
        "\n",
        "NASA\u2019s Orion completes historic flight, ushers in \u2018new era\u2019 - The Washington Post\n"
       ]
      },
      {
       "output_type": "stream",
       "stream": "stdout",
       "text": [
        "\n",
        "\n",
        " ALREADY IN SET \n",
        "\n",
        "Content not text, or article not relevant.\n"
       ]
      },
      {
       "output_type": "stream",
       "stream": "stdout",
       "text": [
        "\n",
        "Redskins are streaking in wrong direction again - The Washington Post\n"
       ]
      },
      {
       "output_type": "stream",
       "stream": "stdout",
       "text": [
        "\n",
        "New line of upscale Starbucks stores to take coffee to luxurious heights - The Washington Post\n"
       ]
      },
      {
       "output_type": "stream",
       "stream": "stdout",
       "text": [
        "\n",
        "\n",
        " ALREADY IN SET \n",
        "\n",
        "Obama gets sore throat checked out - The Washington Post\n"
       ]
      },
      {
       "output_type": "stream",
       "stream": "stdout",
       "text": [
        "\n",
        "Eric Garner\u2019s family thanks protesters as nationwide demonstrations continue - The Washington Post\n"
       ]
      },
      {
       "output_type": "stream",
       "stream": "stdout",
       "text": [
        "\n",
        "Being a cop showed me just how racist and violent the police are. There\u2019s only one fix. - The Washington Post\n"
       ]
      },
      {
       "output_type": "stream",
       "stream": "stdout",
       "text": [
        "\n",
        "The Insiders: Who is Hillary kidding? - The Washington Post\n"
       ]
      },
      {
       "output_type": "stream",
       "stream": "stdout",
       "text": [
        "\n",
        "\n",
        " ALREADY IN SET \n",
        "\n",
        "7 things you didn\u2019t read today (but should have) - The Washington Post\n"
       ]
      },
      {
       "output_type": "stream",
       "stream": "stdout",
       "text": [
        "\n",
        "\n",
        " ALREADY IN SET \n",
        "\n",
        "Powerful typhoon slams into eastern Philippines - The Washington Post\n"
       ]
      },
      {
       "output_type": "stream",
       "stream": "stdout",
       "text": [
        "\n",
        "Content not text, or article not relevant.\n"
       ]
      },
      {
       "output_type": "stream",
       "stream": "stdout",
       "text": [
        "\n",
        "Millennials aren\u2019t job hopping as much as previous generations. Here\u2019s why that\u2019s bad. - The Washington Post\n"
       ]
      },
      {
       "output_type": "stream",
       "stream": "stdout",
       "text": [
        "\n",
        "\n",
        " ALREADY IN SET \n",
        "\n",
        "Alyssa Rosenberg - The Washington Post\n"
       ]
      },
      {
       "output_type": "stream",
       "stream": "stdout",
       "text": [
        "\n",
        "\n",
        " ALREADY IN SET \n",
        "\n",
        "Redskins-Rams: Five story lines to follow Sunday at FedEx Field - The Washington Post\n"
       ]
      },
      {
       "output_type": "stream",
       "stream": "stdout",
       "text": [
        "\n",
        "4 reasons to reject the racist Dutch tradition of Zwarte Piet - The Washington Post\n"
       ]
      },
      {
       "output_type": "stream",
       "stream": "stdout",
       "text": [
        "\n",
        "\n",
        " ALREADY IN SET \n",
        "\n",
        "Content not text, or article not relevant.\n"
       ]
      },
      {
       "output_type": "stream",
       "stream": "stdout",
       "text": [
        "\n",
        "Why the world missed the oil price crash - The Washington Post\n"
       ]
      },
      {
       "output_type": "stream",
       "stream": "stdout",
       "text": [
        "\n",
        "Content not text, or article not relevant.\n"
       ]
      },
      {
       "output_type": "stream",
       "stream": "stdout",
       "text": [
        "\n",
        "Venezuela\u2019s Maduro indicts opposition leader as economic forces conspire against him - The Washington Post\n"
       ]
      },
      {
       "output_type": "stream",
       "stream": "stdout",
       "text": [
        "\n",
        "\n",
        " ALREADY IN SET \n",
        "\n",
        "Who had the worst week in Washington? Elizabeth Lauten. - The Washington Post\n"
       ]
      },
      {
       "output_type": "stream",
       "stream": "stdout",
       "text": [
        "\n",
        "U-Va. remains resolved to address sexual violence as Rolling Stone account unravels - The Washington Post\n"
       ]
      },
      {
       "output_type": "stream",
       "stream": "stdout",
       "text": [
        "\n",
        "There is a second Eric Garner video. It may be more disturbing than the first. - The Washington Post\n"
       ]
      },
      {
       "output_type": "stream",
       "stream": "stdout",
       "text": [
        "\n",
        "\n",
        " ALREADY IN SET \n",
        "\n",
        "SEE: 10 of the Most Striking #EricGarner Cartoons (so far)\u2026 - The Washington Post\n"
       ]
      },
      {
       "output_type": "stream",
       "stream": "stdout",
       "text": [
        "\n",
        "The best way to respect sexual assault survivors is to get their stories right - The Washington Post\n"
       ]
      },
      {
       "output_type": "stream",
       "stream": "stdout",
       "text": [
        "\n",
        "\n",
        " ALREADY IN SET \n",
        "\n",
        "New U.S. military command established for Iraq and Syria operations - The Washington Post\n"
       ]
      },
      {
       "output_type": "stream",
       "stream": "stdout",
       "text": [
        "\n",
        "\n",
        " ALREADY IN SET \n",
        "\n",
        "Dispute over Redskins\u2019 Robert Griffin III could lead to showdown between Jay Gruden, Bruce Allen - The Washington Post\n"
       ]
      },
      {
       "output_type": "stream",
       "stream": "stdout",
       "text": [
        "\n",
        "Content not text, or article not relevant.\n"
       ]
      },
      {
       "output_type": "stream",
       "stream": "stdout",
       "text": [
        "\n",
        "Hagel: U.S. hostage \u2018murdered\u2019 in Yemen - The Washington Post\n"
       ]
      },
      {
       "output_type": "stream",
       "stream": "stdout",
       "text": [
        "\n",
        "\n",
        " ALREADY IN SET \n",
        "\n",
        "What was fake on the Internet this week: Dog whisperer death and the Zodiac Killer - The Washington Post\n"
       ]
      },
      {
       "output_type": "stream",
       "stream": "stdout",
       "text": [
        "\n",
        "\n",
        " ALREADY IN SET \n",
        "\n",
        "The DOJ\u2019s jaw-dropping report about the Cleveland Police Department - The Washington Post\n"
       ]
      },
      {
       "output_type": "stream",
       "stream": "stdout",
       "text": [
        "\n",
        "\n",
        " ALREADY IN SET \n",
        "\n",
        "Best state in America: Texas, where both crime and incarceration rates are falling - The Washington Post\n"
       ]
      },
      {
       "output_type": "stream",
       "stream": "stdout",
       "text": [
        "\n",
        "The racial divide in America is this elemental: Blacks and whites actually breathe different air. - The Washington Post\n"
       ]
      },
      {
       "output_type": "stream",
       "stream": "stdout",
       "text": [
        "\n",
        "\n",
        " ALREADY IN SET \n",
        "\n",
        "Content not text, or article not relevant.\n"
       ]
      },
      {
       "output_type": "stream",
       "stream": "stdout",
       "text": [
        "\n",
        "Crazy: At least 1 in every 10 robberies involves the theft of a phone - The Washington Post\n"
       ]
      },
      {
       "output_type": "stream",
       "stream": "stdout",
       "text": [
        "\n",
        "\n",
        " ALREADY IN SET \n",
        "\n",
        "Key elements of Rolling Stone\u2019s U-Va. gang rape allegations in doubt - The Washington Post\n"
       ]
      },
      {
       "output_type": "stream",
       "stream": "stdout",
       "text": [
        "\n",
        "\n",
        " ALREADY IN SET \n",
        "\n",
        "@Work Advice: Since when does PTO mean Potty Time Off? - The Washington Post\n"
       ]
      },
      {
       "output_type": "stream",
       "stream": "stdout",
       "text": [
        "\n",
        "Grammy nominations: Beyonc\u00e9, Sam Smith, Taylor Swift, Iggy Azalea and more - The Washington Post\n"
       ]
      },
      {
       "output_type": "stream",
       "stream": "stdout",
       "text": [
        "\n",
        "\n",
        " ALREADY IN SET \n",
        "\n",
        "Predicting epileptic seizures with 82 percent accuracy - The Washington Post\n"
       ]
      },
      {
       "output_type": "stream",
       "stream": "stdout",
       "text": [
        "\n",
        "Content not text, or article not relevant.\n"
       ]
      },
      {
       "output_type": "stream",
       "stream": "stdout",
       "text": [
        "\n",
        "Katie Zezima - The Washington Post\n"
       ]
      },
      {
       "output_type": "stream",
       "stream": "stdout",
       "text": [
        "\n",
        "\n",
        " ALREADY IN SET \n",
        "\n",
        "Jonnelle Marte - The Washington Post\n"
       ]
      },
      {
       "output_type": "stream",
       "stream": "stdout",
       "text": [
        "\n",
        "\n",
        " ALREADY IN SET \n",
        "\n",
        "Painting Ted Turner\u2019s legacy - The Washington Post\n"
       ]
      },
      {
       "output_type": "stream",
       "stream": "stdout",
       "text": [
        "\n",
        "\n",
        " ALREADY IN SET \n",
        "\n",
        "Redskins place Minnifield on IR, call up DB Okoro from practice squad - The Washington Post\n"
       ]
      },
      {
       "output_type": "stream",
       "stream": "stdout",
       "text": [
        "\n",
        "From \u2018Splash\u2019 to \u2018Saving Private Ryan,\u2019 Tom Hanks\u2019s career is marked by creative leaps - The Washington Post\n"
       ]
      },
      {
       "output_type": "stream",
       "stream": "stdout",
       "text": [
        "\n",
        "D.C. area forecast: A soggy Saturday, then sparkling but breezy on Sunday - The Washington Post\n"
       ]
      },
      {
       "output_type": "stream",
       "stream": "stdout",
       "text": [
        "\n",
        "\n",
        " ALREADY IN SET \n",
        "\n",
        "Hogan says he will declare heroin \u2018emergency\u2019 once sworn in as Md. governor - The Washington Post\n"
       ]
      },
      {
       "output_type": "stream",
       "stream": "stdout",
       "text": [
        "\n",
        "Mommy, why are police officers so bad? - The Washington Post\n"
       ]
      },
      {
       "output_type": "stream",
       "stream": "stdout",
       "text": [
        "\n",
        "I refuse to post a single picture of my baby on Facebook - The Washington Post\n"
       ]
      },
      {
       "output_type": "stream",
       "stream": "stdout",
       "text": [
        "\n",
        "\n",
        " ALREADY IN SET \n",
        "\n",
        "Uber\u2019s not a $40 billion start-up. It\u2019s a mid-sized car company. - The Washington Post\n"
       ]
      },
      {
       "output_type": "stream",
       "stream": "stdout",
       "text": [
        "\n",
        "\n",
        " ALREADY IN SET \n",
        "\n",
        "Obama makes Dec. 26 a holiday - The Washington Post\n"
       ]
      },
      {
       "output_type": "stream",
       "stream": "stdout",
       "text": [
        "\n",
        "\n",
        " ALREADY IN SET \n",
        "\n",
        "President Obama at WH at holiday party: Please don\u2019t steal the silver! - The Washington Post\n"
       ]
      },
      {
       "output_type": "stream",
       "stream": "stdout",
       "text": [
        "\n",
        "\n",
        " ALREADY IN SET \n",
        "\n",
        "Obama makes Dec. 26 a holiday - The Washington Post\n"
       ]
      },
      {
       "output_type": "stream",
       "stream": "stdout",
       "text": [
        "\n",
        "\n",
        " ALREADY IN SET \n",
        "\n",
        "Marion Barry\u2019s final farewell draws thousands, stretches for hours - The Washington Post\n"
       ]
      },
      {
       "output_type": "stream",
       "stream": "stdout",
       "text": [
        "\n",
        "Ishaan Tharoor - The Washington Post\n"
       ]
      },
      {
       "output_type": "stream",
       "stream": "stdout",
       "text": [
        "\n",
        "\n",
        " ALREADY IN SET \n",
        "\n",
        "Santa, is that you? But where\u2019s your white beard? - The Washington Post\n"
       ]
      },
      {
       "output_type": "stream",
       "stream": "stdout",
       "text": [
        "\n",
        "Protesters continue march throughout the District, police say rolling road closures in effect - The Washington Post\n"
       ]
      },
      {
       "output_type": "stream",
       "stream": "stdout",
       "text": [
        "\n",
        "\n",
        " ALREADY IN SET \n",
        "\n",
        "Key elements of Rolling Stone\u2019s U-Va. gang rape allegations in doubt - The Washington Post\n"
       ]
      },
      {
       "output_type": "stream",
       "stream": "stdout",
       "text": [
        "\n",
        "\n",
        " ALREADY IN SET \n",
        "\n",
        "Harvey Silverglate on \u2018Ferguson\u2019s Unexpected Lessons\u2019 - The Washington Post\n"
       ]
      },
      {
       "output_type": "stream",
       "stream": "stdout",
       "text": [
        "\n",
        "Quiz: Match the PANTONE color to the year it was named \u2018color of the year.\u2019 - The Washington Post\n"
       ]
      },
      {
       "output_type": "stream",
       "stream": "stdout",
       "text": [
        "\n",
        "\n",
        " ALREADY IN SET \n",
        "\n",
        "Content not text, or article not relevant.\n"
       ]
      },
      {
       "output_type": "stream",
       "stream": "stdout",
       "text": [
        "\n",
        "Children who are prostituted aren\u2019t criminals. So why do we keep putting them in jail? - The Washington Post\n"
       ]
      },
      {
       "output_type": "stream",
       "stream": "stdout",
       "text": [
        "\n",
        "\n",
        " ALREADY IN SET \n",
        "\n",
        "Jewell \u2018profoundly\u2019 disappointed by land exchange at sacred Native American sites - The Washington Post\n"
       ]
      },
      {
       "output_type": "stream",
       "stream": "stdout",
       "text": [
        "\n",
        "\n",
        " ALREADY IN SET \n",
        "\n",
        "Does this postal chairman\u2019s lobbying history pose a conflict of interest? - The Washington Post\n"
       ]
      },
      {
       "output_type": "stream",
       "stream": "stdout",
       "text": [
        "\n",
        "\n",
        " ALREADY IN SET \n",
        "\n",
        "Failure porn: There\u2019s too much celebration of failure and too little fear - The Washington Post\n"
       ]
      },
      {
       "output_type": "stream",
       "stream": "stdout",
       "text": [
        "\n",
        "Nancy Scola - The Washington Post\n"
       ]
      },
      {
       "output_type": "stream",
       "stream": "stdout",
       "text": [
        "\n",
        "\n",
        " ALREADY IN SET \n"
       ]
      },
      {
       "output_type": "stream",
       "stream": "stdout",
       "text": [
        "\n",
        "Rolling Stone\u2019s disastrous U-Va. story: A case of real media bias - The Washington Post\n"
       ]
      },
      {
       "output_type": "stream",
       "stream": "stdout",
       "text": [
        "\n",
        "\n",
        " ALREADY IN SET \n",
        "\n",
        "No matter what Jackie said, we should generally believe rape claims - The Washington Post\n"
       ]
      },
      {
       "output_type": "stream",
       "stream": "stdout",
       "text": [
        "\n",
        "Obama gets sore throat checked out - The Washington Post\n"
       ]
      },
      {
       "output_type": "stream",
       "stream": "stdout",
       "text": [
        "\n",
        "\n",
        " ALREADY IN SET \n",
        "\n",
        "2014\u2019s fascinating images - The Washington Post\n"
       ]
      },
      {
       "output_type": "stream",
       "stream": "stdout",
       "text": [
        "\n",
        "\n",
        " ALREADY IN SET \n",
        "\n",
        "Content not text, or article not relevant.\n"
       ]
      },
      {
       "output_type": "stream",
       "stream": "stdout",
       "text": [
        "\n",
        "New technologies encourage women, but not poor people, to participate in politics - The Washington Post\n"
       ]
      },
      {
       "output_type": "stream",
       "stream": "stdout",
       "text": [
        "\n",
        "\n",
        " ALREADY IN SET \n",
        "\n",
        "CBS, Dish reach deal on retransmission fees - The Washington Post\n"
       ]
      },
      {
       "output_type": "stream",
       "stream": "stdout",
       "text": [
        "\n",
        "Just Asking: Valerie Jarrett on giving bad advice, shyness and the value of loyalty - The Washington Post\n"
       ]
      },
      {
       "output_type": "stream",
       "stream": "stdout",
       "text": [
        "\n",
        "\n",
        " ALREADY IN SET \n",
        "\n",
        "27 holiday cookie recipes to sweeten the season - The Washington Post\n"
       ]
      },
      {
       "output_type": "stream",
       "stream": "stdout",
       "text": [
        "\n",
        "\n",
        " ALREADY IN SET \n"
       ]
      },
      {
       "output_type": "stream",
       "stream": "stdout",
       "text": [
        "\n",
        "Obama makes Dec. 26 a holiday - The Washington Post\n"
       ]
      },
      {
       "output_type": "stream",
       "stream": "stdout",
       "text": [
        "\n",
        "\n",
        " ALREADY IN SET \n",
        "\n",
        "What do Obama, the Pope and Erdogan have in common? They\u2019re killing it on Twitter. - The Washington Post\n"
       ]
      },
      {
       "output_type": "stream",
       "stream": "stdout",
       "text": [
        "\n",
        "\n",
        " ALREADY IN SET \n"
       ]
      },
      {
       "output_type": "stream",
       "stream": "stdout",
       "text": [
        "\n",
        "Today\u2019s CIA critics once urged the agency to do anything to fight al-Qaeda - The Washington Post\n"
       ]
      },
      {
       "output_type": "stream",
       "stream": "stdout",
       "text": [
        "\n",
        "After more than three decades and 3,000 reviews, a fond farewell - The Washington Post\n"
       ]
      },
      {
       "output_type": "stream",
       "stream": "stdout",
       "text": [
        "\n",
        "Open Thread - The Washington Post\n"
       ]
      },
      {
       "output_type": "stream",
       "stream": "stdout",
       "text": [
        "\n",
        "\n",
        " ALREADY IN SET \n",
        "\n",
        "Content not text, or article not relevant.\n"
       ]
      },
      {
       "output_type": "stream",
       "stream": "stdout",
       "text": [
        "\n",
        "Libel law and the Rolling Stone / UVA alleged gang rape story - The Washington Post\n"
       ]
      },
      {
       "output_type": "stream",
       "stream": "stdout",
       "text": [
        "\n",
        "\n",
        " ALREADY IN SET \n",
        "\n",
        "D.C. mourns its \u2018mayor for life\u2019 - The Washington Post\n"
       ]
      },
      {
       "output_type": "stream",
       "stream": "stdout",
       "text": [
        "\n",
        "Content not text, or article not relevant.\n"
       ]
      },
      {
       "output_type": "stream",
       "stream": "stdout",
       "text": [
        "\n",
        "Rolling Stone\u2019s disastrous U-Va. story: A case of real media bias - The Washington Post\n"
       ]
      },
      {
       "output_type": "stream",
       "stream": "stdout",
       "text": [
        "\n",
        "\n",
        " ALREADY IN SET \n",
        "\n",
        "Special assistant Deric Ladnier hired by Diamondbacks - The Washington Post\n"
       ]
      },
      {
       "output_type": "stream",
       "stream": "stdout",
       "text": [
        "\n",
        "\n",
        " ALREADY IN SET \n",
        "\n"
       ]
      }
     ],
     "prompt_number": 6
    },
    {
     "cell_type": "code",
     "collapsed": false,
     "input": [
      "CHAR_LEN_BOUND = 1500\n",
      "\n",
      "fd = open('articles.csv', 'rb')\n",
      "raw_rows = []\n",
      "\n",
      "reader = csv.reader(fd, delimiter=',')\n",
      "for reading in reader:\n",
      "    raw_rows.append(reading)\n",
      "\n",
      "def basic_strip(article):\n",
      "    \"\"\"\n",
      "    Arguments: string article\n",
      "    Returns: string\n",
      "    \n",
      "    When passed article text, this function looks for words which are on its 'exclude' list; these\n",
      "    words include those which ask users to share articles on social media. All words are converted to lower case. \n",
      "    Only the sentences which do not include words from the 'exclude' list are returned in the cleaned string. \n",
      "    \"\"\"\n",
      "    exclude = [\"facebook\", \"digg\", \"tagged\", \"recommended\", \"stumbleupon\", \"share\", \"blogs\", \"user agreement\", \"subscription\", \"login\", \"twitter\", \"topics\", \"excel\", \"accessed\", \"check out\", \"tweet\", \"|\", \"see also\", \"e-mail\", \"strongbox\",\n",
      "               \"ad choices\", \"photograph\", \"about us\", \"faq\", \"careers\", \"view all\", \"app\", \"sign in\", \"contact us\", \"comment\", \"follow\", \"@\", \"http\", \"posted\", \"update\", \"staff writer\", \"editor\"]\n",
      "    article = re.sub('[ \\t\\n]+' , ' ', article)\n",
      "    sentences = article.split('.')\n",
      "    new_sentences = []\n",
      "    for sen in sentences:\n",
      "        clean = True\n",
      "        for word in exclude:\n",
      "            if word in sen.lower():\n",
      "                clean = False\n",
      "\n",
      "        if clean:\n",
      "            new_sentences.append(sen)\n",
      "\n",
      "    outstr = \"\"\n",
      "    for sen in new_sentences:\n",
      "        if len(sen) > 5:\n",
      "            outstr += sen.strip() + '. '\n",
      "    return outstr\n",
      "\n",
      "rows = []\n",
      "\n",
      "for i in range(0, len(raw_rows)):\n",
      "    article_text = basic_strip(raw_rows[i][3])\n",
      "    if len(article_text) > CHAR_LEN_BOUND:\n",
      "        rows.append([raw_rows[i][0], raw_rows[i][1], raw_rows[i][2], article_text])\n",
      "        \n",
      "print 'Finished applying the basic_strip function to text.'"
     ],
     "language": "python",
     "metadata": {},
     "outputs": [
      {
       "output_type": "stream",
       "stream": "stdout",
       "text": [
        "Finished applying the basic_strip function to text.\n"
       ]
      }
     ],
     "prompt_number": 10
    },
    {
     "cell_type": "markdown",
     "metadata": {},
     "source": [
      "# Part 5: Feature Vector Creation, Classification\n",
      "\n",
      "For this part of the project, we analyzed several different types of classifiers. We considered using random forest classifiers, a Bayesian multinomial classifier, a traditional svm. We finally decided to use a gradient boosting classifier. We did so for several reasons; first and foremost, this type of classifier is robust to overfitting, which we control by selecting a random sample of articles as the training set, leaving the remaining articles we scraped as test data. "
     ]
    },
    {
     "cell_type": "code",
     "collapsed": false,
     "input": [
      "Xtrain, Ytrain = [],[]\n",
      "Xtest, Ytest = [],[]\n",
      "\n",
      "# function for converting format of CountVectorizer output to be used for classification\n",
      "def csr_2_list(csr):\n",
      "    ints = [csr[0,i] for i in range(0, csr.shape[1]) ]\n",
      "    int_sum = sum(ints)\n",
      "    return ints\n",
      "\n",
      "num_libarticles, num_consarticles = 0, 0\n",
      "\n",
      "print \"***VECTORIZING DOCUMENTS***\"\n",
      "\n",
      "tk = text.CountVectorizer(max_features=2400, stop_words='english')\n",
      "text_doc_matrix = tk.fit_transform([row[3] for row in rows])\n",
      "\n",
      "# create Xtrain, Ytrain, Xtest, Ytest by placing alternate articles from scraped data in these groups. \n",
      "for i in range(0, text_doc_matrix.shape[0]):\n",
      "    if rows[i][1] == 'C':\n",
      "        num_consarticles += 1\n",
      "    else:\n",
      "        num_libarticles += 1\n",
      "\n",
      "    if i % 2 == 0:\n",
      "        Xtrain.append(csr_2_list(text_doc_matrix[i]))\n",
      "        Ytrain.append(rows[i][1])\n",
      "    else:\n",
      "        Xtest.append(csr_2_list(text_doc_matrix[i]))\n",
      "        Ytest.append(rows[i][1])\n",
      "\n",
      "print \">>>DONE VECTORIZING DOCUMENTS<<<\"\n",
      "time.sleep(2)\n",
      "\n",
      "# define the classifier\n",
      "clf = GradientBoostingClassifier(n_estimators = 1000, max_depth = 11)\n",
      "clf.fit(Xtrain, Ytrain)"
     ],
     "language": "python",
     "metadata": {},
     "outputs": [
      {
       "output_type": "stream",
       "stream": "stdout",
       "text": [
        "***VECTORIZING DOCUMENTS***\n",
        ">>>DONE VECTORIZING DOCUMENTS<<<"
       ]
      },
      {
       "output_type": "stream",
       "stream": "stdout",
       "text": [
        "\n"
       ]
      },
      {
       "metadata": {},
       "output_type": "pyout",
       "prompt_number": 15,
       "text": [
        "GradientBoostingClassifier(init=None, learning_rate=0.1, loss='deviance',\n",
        "              max_depth=11, max_features=None, max_leaf_nodes=None,\n",
        "              min_samples_leaf=1, min_samples_split=2, n_estimators=1000,\n",
        "              random_state=None, subsample=1.0, verbose=0,\n",
        "              warm_start=False)"
       ]
      }
     ],
     "prompt_number": 15
    },
    {
     "cell_type": "markdown",
     "metadata": {},
     "source": [
      "# Part 6: Exploratory Analysis\n",
      "\n",
      "<i>What visualizations did you use to look at your data in different ways? What are the different statistical methods you considered? Justify the decisions you made, and show any major changes to your ideas. How did you reach these conclusions? </i>"
     ]
    },
    {
     "cell_type": "code",
     "collapsed": false,
     "input": [
      "successes,trials = 0,0\n",
      "\n",
      "predicted = clf.predict(Xtest)\n",
      "\n",
      "for i in range(0, len(Xtest)):\n",
      "    print \"CLF SAID: \" + clf.predict(Xtest[i])[0]\n",
      "    print \"ACTUAL ANSWER: \" + Ytest[i]\n",
      "    if Ytest[i] == clf.predict(Xtest[i])[0]:\n",
      "        successes += 1\n",
      "    trials+=1\n",
      "\n",
      "\n",
      "\n",
      "print \"\\n The classifier was %.2f%% accurate.\" % (float(successes)/trials*100)\n",
      "print \"\\n %d liberal articles, %d conservative articles.\" % (num_libarticles, num_consarticles) \n",
      "print \"\\n\"\n",
      "\n",
      "print (metrics.classification_report(Ytest, predicted))\n"
     ],
     "language": "python",
     "metadata": {},
     "outputs": [
      {
       "output_type": "stream",
       "stream": "stdout",
       "text": [
        "CLF SAID: C\n",
        "ACTUAL ANSWER: C\n",
        "CLF SAID: C\n",
        "ACTUAL ANSWER: C\n",
        "CLF SAID: C\n",
        "ACTUAL ANSWER: C\n",
        "CLF SAID: C\n",
        "ACTUAL ANSWER: C\n",
        "CLF SAID: L\n",
        "ACTUAL ANSWER: C\n",
        "CLF SAID: C\n",
        "ACTUAL ANSWER: C\n",
        "CLF SAID: L\n",
        "ACTUAL ANSWER: C\n",
        "CLF SAID: C\n",
        "ACTUAL ANSWER: C\n",
        "CLF SAID: L\n",
        "ACTUAL ANSWER: C\n",
        "CLF SAID: C\n",
        "ACTUAL ANSWER: C\n",
        "CLF SAID: C\n",
        "ACTUAL ANSWER: C\n",
        "CLF SAID: C\n",
        "ACTUAL ANSWER: C\n",
        "CLF SAID: L\n",
        "ACTUAL ANSWER: C\n",
        "CLF SAID: C\n",
        "ACTUAL ANSWER: C\n",
        "CLF SAID: L\n",
        "ACTUAL ANSWER: C\n",
        "CLF SAID: C\n",
        "ACTUAL ANSWER: C\n",
        "CLF SAID: C\n",
        "ACTUAL ANSWER: C\n",
        "CLF SAID: C\n",
        "ACTUAL ANSWER: C\n",
        "CLF SAID: C\n",
        "ACTUAL ANSWER: C\n",
        "CLF SAID: C\n",
        "ACTUAL ANSWER: C\n",
        "CLF SAID: C\n",
        "ACTUAL ANSWER: C\n",
        "CLF SAID: C\n",
        "ACTUAL ANSWER: C\n",
        "CLF SAID: C\n",
        "ACTUAL ANSWER: C\n",
        "CLF SAID: C\n",
        "ACTUAL ANSWER: C\n",
        "CLF SAID: L\n",
        "ACTUAL ANSWER: C\n",
        "CLF SAID: C\n",
        "ACTUAL ANSWER: C\n",
        "CLF SAID: C\n",
        "ACTUAL ANSWER: C\n",
        "CLF SAID: C\n",
        "ACTUAL ANSWER: C\n",
        "CLF SAID: L\n",
        "ACTUAL ANSWER: C\n",
        "CLF SAID: C\n",
        "ACTUAL ANSWER: C\n",
        "CLF SAID: L\n",
        "ACTUAL ANSWER: C\n",
        "CLF SAID: L\n",
        "ACTUAL ANSWER: C\n",
        "CLF SAID: C\n",
        "ACTUAL ANSWER: C\n",
        "CLF SAID: C\n",
        "ACTUAL ANSWER: C\n",
        "CLF SAID: L\n",
        "ACTUAL ANSWER: C\n",
        "CLF SAID: C\n",
        "ACTUAL ANSWER: C\n",
        "CLF SAID: C\n",
        "ACTUAL ANSWER: C\n",
        "CLF SAID: C\n",
        "ACTUAL ANSWER: C\n",
        "CLF SAID: C\n",
        "ACTUAL ANSWER: C\n",
        "CLF SAID: C\n",
        "ACTUAL ANSWER: C\n",
        "CLF SAID: C\n",
        "ACTUAL ANSWER: C\n",
        "CLF SAID: C\n",
        "ACTUAL ANSWER: C\n",
        "CLF SAID: C\n",
        "ACTUAL ANSWER: C\n",
        "CLF SAID: C\n",
        "ACTUAL ANSWER: C\n",
        "CLF SAID: C\n",
        "ACTUAL ANSWER: C\n",
        "CLF SAID: C\n",
        "ACTUAL ANSWER: C\n",
        "CLF SAID: C\n",
        "ACTUAL ANSWER: C\n",
        "CLF SAID: C\n",
        "ACTUAL ANSWER: C\n",
        "CLF SAID: C\n",
        "ACTUAL ANSWER: C\n",
        "CLF SAID: C\n",
        "ACTUAL ANSWER: C\n",
        "CLF SAID: C\n",
        "ACTUAL ANSWER: C\n",
        "CLF SAID: L\n",
        "ACTUAL ANSWER: C\n",
        "CLF SAID: C\n",
        "ACTUAL ANSWER: C\n",
        "CLF SAID: C\n",
        "ACTUAL ANSWER: C\n",
        "CLF SAID: C\n",
        "ACTUAL ANSWER: C\n",
        "CLF SAID: C\n",
        "ACTUAL ANSWER: C\n",
        "CLF SAID: C\n",
        "ACTUAL ANSWER: C\n",
        "CLF SAID: C\n",
        "ACTUAL ANSWER: C\n",
        "CLF SAID: C\n",
        "ACTUAL ANSWER: C\n",
        "CLF SAID: C\n",
        "ACTUAL ANSWER: C\n",
        "CLF SAID: L\n",
        "ACTUAL ANSWER: C\n",
        "CLF SAID: C\n",
        "ACTUAL ANSWER: C\n",
        "CLF SAID: C"
       ]
      },
      {
       "output_type": "stream",
       "stream": "stdout",
       "text": [
        "\n",
        "ACTUAL ANSWER: C\n",
        "CLF SAID: C\n",
        "ACTUAL ANSWER: C\n",
        "CLF SAID: C\n",
        "ACTUAL ANSWER: C\n",
        "CLF SAID: C\n",
        "ACTUAL ANSWER: C\n",
        "CLF SAID: C\n",
        "ACTUAL ANSWER: C\n",
        "CLF SAID: C\n",
        "ACTUAL ANSWER: C\n",
        "CLF SAID: C\n",
        "ACTUAL ANSWER: C\n",
        "CLF SAID: C\n",
        "ACTUAL ANSWER: C\n",
        "CLF SAID: C\n",
        "ACTUAL ANSWER: L\n",
        "CLF SAID: L\n",
        "ACTUAL ANSWER: L\n",
        "CLF SAID: C\n",
        "ACTUAL ANSWER: L\n",
        "CLF SAID: L\n",
        "ACTUAL ANSWER: L\n",
        "CLF SAID: L\n",
        "ACTUAL ANSWER: L\n",
        "CLF SAID: C\n",
        "ACTUAL ANSWER: L\n",
        "CLF SAID: L\n",
        "ACTUAL ANSWER: L\n",
        "CLF SAID: C\n",
        "ACTUAL ANSWER: L\n",
        "CLF SAID: L\n",
        "ACTUAL ANSWER: L\n",
        "CLF SAID: C\n",
        "ACTUAL ANSWER: L\n",
        "CLF SAID: L\n",
        "ACTUAL ANSWER: L\n",
        "CLF SAID: L\n",
        "ACTUAL ANSWER: L\n",
        "CLF SAID: C\n",
        "ACTUAL ANSWER: L\n",
        "CLF SAID: L\n",
        "ACTUAL ANSWER: L\n",
        "CLF SAID: L\n",
        "ACTUAL ANSWER: L\n",
        "CLF SAID: L\n",
        "ACTUAL ANSWER: L\n",
        "CLF SAID: L\n",
        "ACTUAL ANSWER: L\n",
        "CLF SAID: L\n",
        "ACTUAL ANSWER: L\n",
        "CLF SAID: L\n",
        "ACTUAL ANSWER: L\n",
        "CLF SAID: L\n",
        "ACTUAL ANSWER: L\n",
        "CLF SAID: L\n",
        "ACTUAL ANSWER: L\n",
        "CLF SAID: L\n",
        "ACTUAL ANSWER: L\n",
        "CLF SAID: L\n",
        "ACTUAL ANSWER: L\n",
        "CLF SAID: L\n",
        "ACTUAL ANSWER: L\n",
        "CLF SAID: L\n",
        "ACTUAL ANSWER: L\n",
        "CLF SAID: L\n",
        "ACTUAL ANSWER: L\n",
        "CLF SAID: L\n",
        "ACTUAL ANSWER: L\n",
        "CLF SAID: L\n",
        "ACTUAL ANSWER: L\n",
        "CLF SAID: L\n",
        "ACTUAL ANSWER: L\n",
        "CLF SAID: L\n",
        "ACTUAL ANSWER: L\n",
        "CLF SAID: L\n",
        "ACTUAL ANSWER: L\n",
        "CLF SAID: L\n",
        "ACTUAL ANSWER: L\n",
        "CLF SAID: L\n",
        "ACTUAL ANSWER: L\n",
        "CLF SAID: L\n",
        "ACTUAL ANSWER: L\n",
        "CLF SAID: L\n",
        "ACTUAL ANSWER: L\n",
        "CLF SAID: L\n",
        "ACTUAL ANSWER: L\n",
        "CLF SAID: L\n",
        "ACTUAL ANSWER: L\n",
        "CLF SAID: L\n",
        "ACTUAL ANSWER: L\n",
        "CLF SAID: L\n",
        "ACTUAL ANSWER: L\n",
        "CLF SAID: L\n",
        "ACTUAL ANSWER: L\n",
        "CLF SAID: L\n",
        "ACTUAL ANSWER: L\n",
        "CLF SAID: L\n",
        "ACTUAL ANSWER: L\n",
        "CLF SAID: L\n",
        "ACTUAL ANSWER: L\n",
        "CLF SAID: C\n",
        "ACTUAL ANSWER: L\n",
        "CLF SAID: L\n",
        "ACTUAL ANSWER: L\n",
        "CLF SAID: C\n",
        "ACTUAL ANSWER: L\n",
        "CLF SAID: L\n",
        "ACTUAL ANSWER: L\n",
        "CLF SAID: C\n",
        "ACTUAL ANSWER: L\n",
        "CLF SAID: L\n",
        "ACTUAL ANSWER: L\n",
        "CLF SAID: L\n",
        "ACTUAL ANSWER: L\n",
        "CLF SAID: L\n",
        "ACTUAL ANSWER: L\n",
        "CLF SAID: L\n",
        "ACTUAL ANSWER: L\n",
        "CLF SAID: L\n",
        "ACTUAL ANSWER: L\n",
        "CLF SAID: C\n",
        "ACTUAL ANSWER: L\n",
        "CLF SAID: L"
       ]
      },
      {
       "output_type": "stream",
       "stream": "stdout",
       "text": [
        "\n",
        "ACTUAL ANSWER: L\n",
        "CLF SAID: L\n",
        "ACTUAL ANSWER: L\n",
        "CLF SAID: L\n",
        "ACTUAL ANSWER: L\n",
        "CLF SAID: L\n",
        "ACTUAL ANSWER: L\n",
        "CLF SAID: L\n",
        "ACTUAL ANSWER: L\n",
        "CLF SAID: L\n",
        "ACTUAL ANSWER: L\n",
        "CLF SAID: L\n",
        "ACTUAL ANSWER: L\n",
        "CLF SAID: L\n",
        "ACTUAL ANSWER: L\n",
        "CLF SAID: L\n",
        "ACTUAL ANSWER: L\n",
        "CLF SAID: L\n",
        "ACTUAL ANSWER: L\n",
        "CLF SAID: L\n",
        "ACTUAL ANSWER: L\n",
        "CLF SAID: C\n",
        "ACTUAL ANSWER: L\n",
        "CLF SAID: C\n",
        "ACTUAL ANSWER: L\n",
        "CLF SAID: L\n",
        "ACTUAL ANSWER: L\n",
        "CLF SAID: L\n",
        "ACTUAL ANSWER: L\n",
        "CLF SAID: L\n",
        "ACTUAL ANSWER: L\n",
        "CLF SAID: L\n",
        "ACTUAL ANSWER: L\n",
        "CLF SAID: L\n",
        "ACTUAL ANSWER: L\n",
        "CLF SAID: L\n",
        "ACTUAL ANSWER: L\n",
        "CLF SAID: C\n",
        "ACTUAL ANSWER: L\n",
        "CLF SAID: L\n",
        "ACTUAL ANSWER: L\n",
        "CLF SAID: C\n",
        "ACTUAL ANSWER: L\n",
        "CLF SAID: C\n",
        "ACTUAL ANSWER: L\n",
        "CLF SAID: L\n",
        "ACTUAL ANSWER: L\n",
        "CLF SAID: L\n",
        "ACTUAL ANSWER: L\n",
        "CLF SAID: L\n",
        "ACTUAL ANSWER: C\n",
        "CLF SAID: L\n",
        "ACTUAL ANSWER: C\n",
        "CLF SAID: C\n",
        "ACTUAL ANSWER: C\n",
        "CLF SAID: C\n",
        "ACTUAL ANSWER: C\n",
        "CLF SAID: C\n",
        "ACTUAL ANSWER: C\n",
        "CLF SAID: C\n",
        "ACTUAL ANSWER: C\n",
        "CLF SAID: L\n",
        "ACTUAL ANSWER: C\n",
        "CLF SAID: C\n",
        "ACTUAL ANSWER: C\n",
        "CLF SAID: C\n",
        "ACTUAL ANSWER: C\n",
        "CLF SAID: C\n",
        "ACTUAL ANSWER: C\n",
        "CLF SAID: C\n",
        "ACTUAL ANSWER: C\n",
        "CLF SAID: C\n",
        "ACTUAL ANSWER: C\n",
        "CLF SAID: L\n",
        "ACTUAL ANSWER: C\n",
        "CLF SAID: C\n",
        "ACTUAL ANSWER: C\n",
        "CLF SAID: C\n",
        "ACTUAL ANSWER: C\n",
        "CLF SAID: L\n",
        "ACTUAL ANSWER: C\n",
        "CLF SAID: C\n",
        "ACTUAL ANSWER: C\n",
        "CLF SAID: C\n",
        "ACTUAL ANSWER: C\n",
        "CLF SAID: C\n",
        "ACTUAL ANSWER: C\n",
        "CLF SAID: C\n",
        "ACTUAL ANSWER: C\n",
        "CLF SAID: C\n",
        "ACTUAL ANSWER: C\n",
        "CLF SAID: C\n",
        "ACTUAL ANSWER: C\n",
        "CLF SAID: C\n",
        "ACTUAL ANSWER: C\n",
        "CLF SAID: C\n",
        "ACTUAL ANSWER: C\n",
        "CLF SAID: C\n",
        "ACTUAL ANSWER: C\n",
        "CLF SAID: C\n",
        "ACTUAL ANSWER: C\n",
        "CLF SAID: C\n",
        "ACTUAL ANSWER: C\n",
        "CLF SAID: C\n",
        "ACTUAL ANSWER: C\n",
        "CLF SAID: C\n",
        "ACTUAL ANSWER: C\n",
        "CLF SAID: C\n",
        "ACTUAL ANSWER: C\n",
        "CLF SAID: C\n",
        "ACTUAL ANSWER: C\n",
        "CLF SAID: C\n",
        "ACTUAL ANSWER: C\n",
        "CLF SAID: C\n",
        "ACTUAL ANSWER: C\n",
        "CLF SAID: C\n",
        "ACTUAL ANSWER: C\n",
        "CLF SAID: C\n",
        "ACTUAL ANSWER: C\n",
        "CLF SAID: C\n",
        "ACTUAL ANSWER: C\n",
        "CLF SAID: L\n",
        "ACTUAL ANSWER: C\n",
        "CLF SAID: L"
       ]
      },
      {
       "output_type": "stream",
       "stream": "stdout",
       "text": [
        "\n",
        "ACTUAL ANSWER: C\n",
        "CLF SAID: C\n",
        "ACTUAL ANSWER: C\n",
        "CLF SAID: C\n",
        "ACTUAL ANSWER: C\n",
        "CLF SAID: C\n",
        "ACTUAL ANSWER: C\n",
        "CLF SAID: C\n",
        "ACTUAL ANSWER: C\n",
        "CLF SAID: C\n",
        "ACTUAL ANSWER: C\n",
        "CLF SAID: C\n",
        "ACTUAL ANSWER: L\n",
        "CLF SAID: L\n",
        "ACTUAL ANSWER: L\n",
        "CLF SAID: L\n",
        "ACTUAL ANSWER: L\n",
        "CLF SAID: L\n",
        "ACTUAL ANSWER: L\n",
        "CLF SAID: L\n",
        "ACTUAL ANSWER: L\n",
        "CLF SAID: L\n",
        "ACTUAL ANSWER: L\n",
        "CLF SAID: L\n",
        "ACTUAL ANSWER: L\n",
        "CLF SAID: L\n",
        "ACTUAL ANSWER: L\n",
        "CLF SAID: L\n",
        "ACTUAL ANSWER: L\n",
        "CLF SAID: C\n",
        "ACTUAL ANSWER: L\n",
        "CLF SAID: L\n",
        "ACTUAL ANSWER: L\n",
        "CLF SAID: L\n",
        "ACTUAL ANSWER: L\n",
        "CLF SAID: L\n",
        "ACTUAL ANSWER: L\n",
        "CLF SAID: L\n",
        "ACTUAL ANSWER: L\n",
        "CLF SAID: L\n",
        "ACTUAL ANSWER: L\n",
        "CLF SAID: L\n",
        "ACTUAL ANSWER: L\n",
        "CLF SAID: L\n",
        "ACTUAL ANSWER: L\n",
        "CLF SAID: L\n",
        "ACTUAL ANSWER: L\n",
        "CLF SAID: L\n",
        "ACTUAL ANSWER: L\n",
        "CLF SAID: L\n",
        "ACTUAL ANSWER: L\n",
        "CLF SAID: L\n",
        "ACTUAL ANSWER: L\n",
        "CLF SAID: L\n",
        "ACTUAL ANSWER: L\n",
        "CLF SAID: L\n",
        "ACTUAL ANSWER: L\n",
        "CLF SAID: L\n",
        "ACTUAL ANSWER: L\n",
        "CLF SAID: C\n",
        "ACTUAL ANSWER: L\n",
        "CLF SAID: L\n",
        "ACTUAL ANSWER: L\n",
        "CLF SAID: C\n",
        "ACTUAL ANSWER: L\n",
        "CLF SAID: L\n",
        "ACTUAL ANSWER: L\n",
        "CLF SAID: L\n",
        "ACTUAL ANSWER: L\n",
        "CLF SAID: C\n",
        "ACTUAL ANSWER: L\n",
        "CLF SAID: L\n",
        "ACTUAL ANSWER: L\n",
        "CLF SAID: C\n",
        "ACTUAL ANSWER: L\n",
        "CLF SAID: L\n",
        "ACTUAL ANSWER: L\n",
        "CLF SAID: L\n",
        "ACTUAL ANSWER: L\n",
        "CLF SAID: L\n",
        "ACTUAL ANSWER: L\n",
        "CLF SAID: C\n",
        "ACTUAL ANSWER: L\n",
        "CLF SAID: L\n",
        "ACTUAL ANSWER: L\n",
        "CLF SAID: C\n",
        "ACTUAL ANSWER: L\n",
        "CLF SAID: L\n",
        "ACTUAL ANSWER: L\n",
        "CLF SAID: C\n",
        "ACTUAL ANSWER: L\n",
        "CLF SAID: L\n",
        "ACTUAL ANSWER: L\n",
        "CLF SAID: C\n",
        "ACTUAL ANSWER: L\n",
        "CLF SAID: L\n",
        "ACTUAL ANSWER: L\n",
        "CLF SAID: L\n",
        "ACTUAL ANSWER: L\n",
        "CLF SAID: L\n",
        "ACTUAL ANSWER: L\n",
        "CLF SAID: L\n",
        "ACTUAL ANSWER: L\n",
        "CLF SAID: C\n",
        "ACTUAL ANSWER: C\n",
        "CLF SAID: C\n",
        "ACTUAL ANSWER: C\n",
        "CLF SAID: L\n",
        "ACTUAL ANSWER: C\n",
        "CLF SAID: C\n",
        "ACTUAL ANSWER: C\n",
        "CLF SAID: C\n",
        "ACTUAL ANSWER: C\n",
        "CLF SAID: L\n",
        "ACTUAL ANSWER: C\n",
        "CLF SAID: C\n",
        "ACTUAL ANSWER: C\n",
        "CLF SAID: C\n",
        "ACTUAL ANSWER: C\n",
        "CLF SAID: L\n",
        "ACTUAL ANSWER: C\n",
        "CLF SAID: C\n",
        "ACTUAL ANSWER: C\n",
        "CLF SAID: L"
       ]
      },
      {
       "output_type": "stream",
       "stream": "stdout",
       "text": [
        "\n",
        "ACTUAL ANSWER: L\n",
        "CLF SAID: L\n",
        "ACTUAL ANSWER: L\n",
        "CLF SAID: L\n",
        "ACTUAL ANSWER: L\n",
        "CLF SAID: L\n",
        "ACTUAL ANSWER: L\n",
        "CLF SAID: C\n",
        "ACTUAL ANSWER: C\n",
        "CLF SAID: C\n",
        "ACTUAL ANSWER: C\n",
        "CLF SAID: L\n",
        "ACTUAL ANSWER: L\n",
        "CLF SAID: L\n",
        "ACTUAL ANSWER: L\n",
        "CLF SAID: C\n",
        "ACTUAL ANSWER: L\n",
        "CLF SAID: L\n",
        "ACTUAL ANSWER: L\n",
        "CLF SAID: C\n",
        "ACTUAL ANSWER: L\n",
        "CLF SAID: C\n",
        "ACTUAL ANSWER: C\n",
        "CLF SAID: L\n",
        "ACTUAL ANSWER: C\n",
        "CLF SAID: C\n",
        "ACTUAL ANSWER: C\n",
        "CLF SAID: C\n",
        "ACTUAL ANSWER: C\n",
        "CLF SAID: L\n",
        "ACTUAL ANSWER: L\n",
        "CLF SAID: L\n",
        "ACTUAL ANSWER: L\n",
        "CLF SAID: C\n",
        "ACTUAL ANSWER: L\n",
        "CLF SAID: L\n",
        "ACTUAL ANSWER: L\n",
        "CLF SAID: L\n",
        "ACTUAL ANSWER: L\n",
        "CLF SAID: L\n",
        "ACTUAL ANSWER: L\n",
        "CLF SAID: L\n",
        "ACTUAL ANSWER: L\n",
        "CLF SAID: C\n",
        "ACTUAL ANSWER: L\n",
        "CLF SAID: L\n",
        "ACTUAL ANSWER: L\n",
        "CLF SAID: L\n",
        "ACTUAL ANSWER: L\n",
        "CLF SAID: L\n",
        "ACTUAL ANSWER: L\n",
        "CLF SAID: L\n",
        "ACTUAL ANSWER: L\n",
        "CLF SAID: C\n",
        "ACTUAL ANSWER: L\n",
        "\n",
        " The classifier was 80.80% accurate.\n",
        "\n",
        " 296 liberal articles, 257 conservative articles.\n",
        "\n",
        "\n",
        "             precision    recall  f1-score   support\n",
        "\n",
        "          C       0.78      0.82      0.80       129\n",
        "          L       0.84      0.80      0.82       147\n",
        "\n",
        "avg / total       0.81      0.81      0.81       276\n",
        "\n"
       ]
      }
     ],
     "prompt_number": 16
    },
    {
     "cell_type": "markdown",
     "metadata": {},
     "source": [
      "# Part 7: Final Analysis\n",
      "\n",
      "<i>What did you learn about the data? How did you answer the questions? How can you justify your answers? </i>"
     ]
    },
    {
     "cell_type": "code",
     "collapsed": false,
     "input": [],
     "language": "python",
     "metadata": {},
     "outputs": []
    }
   ],
   "metadata": {}
  }
 ]
}