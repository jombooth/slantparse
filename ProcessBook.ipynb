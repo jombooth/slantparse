{
 "metadata": {
  "name": "",
  "signature": "sha256:6f1b498a5e3501e6bd7ae91f9cb3ac4925b0023e00457776a249ff982cef954f"
 },
 "nbformat": 3,
 "nbformat_minor": 0,
 "worksheets": [
  {
   "cells": [
    {
     "cell_type": "markdown",
     "metadata": {},
     "source": [
      "<h2 align=\"center\">slant parse: <br><br> Using Machine Learning to Determine the Political Leanings of News Publications</h2>\n",
      "\n",
      "<br><center>Serena L Booth, Harvard College, Class of 2016</center>\n",
      "\n",
      "<center>Joseph M Booth, Harvard College, Class of 2015</center>\n",
      "\n",
      "\n",
      "---"
     ]
    },
    {
     "cell_type": "markdown",
     "metadata": {},
     "source": [
      "#Part 0: Metric "
     ]
    },
    {
     "cell_type": "code",
     "collapsed": false,
     "input": [
      "list_of_political_magazines = ['http://en.wikipedia.org/wiki/List_of_political_magazines', 'http://en.wikipedia.org/wiki/Category:Modern_liberal_American_magazines',\n",
      "                               'http://en.wikipedia.org/wiki/Category:Conservative_American_magazines', 'http://usconservatives.about.com/od/gettinginvolved/tp/TopConservativeMagazines.htm',\n",
      "                               'http://www.allyoucanread.com/top-10-political-magazines/', 'http://www.conservapedia.com/Conservative_media', \n",
      "                               'http://www.dailykos.com/story/2009/04/05/716698/-The-Compleat-Revised-Guide-to-Liberal-and-Progressive-News-and-Politics-on-the-Web',\n",
      "                               'http://www.washingtonpost.com/blogs/the-fix/wp/2014/10/21/lets-rank-the-media-from-liberal-to-conservative-based-on-their-audiences/']"
     ],
     "language": "python",
     "metadata": {},
     "outputs": [],
     "prompt_number": 1
    },
    {
     "cell_type": "markdown",
     "metadata": {},
     "source": [
      "# Part 1: Data Collection\n",
      "\n",
      "We scrape 5 liberal sources: \n",
      "    - Mother Jones\n",
      "    - The Nation\n",
      "    - Slate\n",
      "    - The New Yorker\n",
      "    - The Washington Post\n",
      "\n",
      "And 5 conservative sources:\n",
      "    - The Christian Science Monitor\n",
      "    - The Weekly Standard\n",
      "    - TownHall\n",
      "    - The American Conservative\n",
      "    - The American Spectator\n",
      "    \n",
      "These sources are added to a csv file called articles.csv. The format is: publication title, political leaning (C or L), article title, article text. "
     ]
    },
    {
     "cell_type": "code",
     "collapsed": false,
     "input": [
      "import urllib\n",
      "import csv\n",
      "from bs4 import BeautifulSoup\n",
      "from sets import Set\n",
      "from sgmllib import SGMLParser\n",
      "import pickle "
     ],
     "language": "python",
     "metadata": {},
     "outputs": [],
     "prompt_number": 2
    },
    {
     "cell_type": "code",
     "collapsed": false,
     "input": [
      "# cite: https://github.com/chungy/diveintopython/blob/master/py/urllister.py\n",
      "class URLLister(SGMLParser):\n",
      "    \"\"\"\n",
      "    Arguments: (implicit) SGMLParser \n",
      "    \n",
      "    Extracts all 'href's from an html document. We store these links in a set, \n",
      "    and process them individually to retrieve content or additional links. \n",
      "    \"\"\"\n",
      "    def reset(self):\n",
      "        SGMLParser.reset(self)\n",
      "        self.urls = []\n",
      "\n",
      "    def start_a(self, attrs):\n",
      "        href = [v for k, v in attrs if k=='href']\n",
      "        if href:\n",
      "            self.urls.extend(href)\n",
      "    "
     ],
     "language": "python",
     "metadata": {},
     "outputs": [],
     "prompt_number": 3
    },
    {
     "cell_type": "code",
     "collapsed": false,
     "input": [
      "def process_url(url, url_mod, string_start, find_string, start_article_delim, end_article_delim, name, pol):\n",
      "    \"\"\"\n",
      "    Arguments: string url, string url_mod, string find_string, string start_title_delim, \n",
      "    string end_title_delim, string start_article_delim, string end_article_delim, string name, string pol\n",
      "    \n",
      "    For each url passed to process_url, open the CSV file articles.csv which contains all data scraped.\n",
      "    Process the article by retrieving the title, and by using BeautifulSoup to retrieve the article text.\n",
      "    Store each article in the CSV as the publication name, the publication's political leaning (either 'L' or 'C'), article title, and article content.  \n",
      "    \"\"\"\n",
      "        \n",
      "    \n",
      "    #with open('articles_scraped.pickle', 'a+') as handle:\n",
      "    #    pickle.dump(set(), handle)\n",
      "    \n",
      "    # check url format\n",
      "    if len(url) > 0 and ((str(url)[0] == '/' and string_start == \"\") or str(url).find(string_start) == 0) and str(url).find(find_string) != -1: \n",
      "        with open('articles.csv', 'a+') as csvfile:\n",
      "            article_writer = csv.writer(csvfile, delimiter=',')\n",
      "            \n",
      "            tmp_url = url_mod + str(url)\n",
      "            usock = urllib.urlopen(tmp_url)\n",
      "            html = usock.read()\n",
      "                        \n",
      "            # use Beautiful Soup \n",
      "            soup_unprocessed = BeautifulSoup(html)\n",
      "              \n",
      "            # use try/except to catch cases in which articles do not conform to general standards\n",
      "            # e.g. when an article does not have a title\n",
      "            try:\n",
      "                title = soup_unprocessed.title.string \n",
      "                title = title.encode(\"utf-8\")\n",
      "                \n",
      "                 # If article is from a specific provider, modify it according to the following rules: \n",
      "                # e.g. in the case of Townhall, we only want html which has the full article rather than a paged version\n",
      "                if name == \"TownHall\" and html.find(\"View Full Article\") != -1:\n",
      "                    process_url(url + '/page/full', url_mod, string_start, find_string, start_article_delim, end_article_delim, name, pol)\n",
      "                    usock.close()\n",
      "                    return\n",
      "                elif name == \"Slate\" and html.find('<div class=\"single-page\">') != -1: \n",
      "                    process_url(url[0:url.find('.html')] + '.single.html', url_mod, string_start, find_string, start_article_delim, end_article_delim, name, pol)\n",
      "                    usock.close()\n",
      "                    return\n",
      "                elif name == \"Mother Jones\" and (title.find('Issue') != -1 or title.find('map') != -1):\n",
      "                    print 'Content not text, or article not relevant.\\n'\n",
      "                    usock.close()\n",
      "                    return\n",
      "                elif name == \"The American Conservative\" and html.find('Author Archives') != -1 or title.find('Web Headlines') != -1 or title.find('Articles') != -1:\n",
      "                    print 'Content not text, or article not relevant.\\n'\n",
      "                    usock.close()\n",
      "                    return\n",
      "                elif name == \"The Christian Science Monitor\" and (title.find('+video') != -1 or url.find('The-Culture') != -1 or title.find('Photos of the day') != -1 or title.find('How much do you know about') != -1):\n",
      "                    print 'Content not text, or article not relevant.\\n'\n",
      "                    usock.close()\n",
      "                    return \n",
      "                elif name == \"The Blaze\" and title.find('Video') != -1:\n",
      "                    print 'Content not text, or article not relevant.\\n'\n",
      "                    usock.close()\n",
      "                    return\n",
      "                elif name == \"Slate\" and (url.find('video') != -1 or url.find('podcast') != -1): \n",
      "                    print 'Content not text, or article not relevant.\\n'\n",
      "                    usock.close()\n",
      "                    return\n",
      "                elif name == \"The Washington Post\" and (url.find('live') != -1 or html.find('posttv-video-template') != -1):\n",
      "                    print 'Content not text, or article not relevant.\\n'\n",
      "                    usock.close()\n",
      "                    return\n",
      "                else: \n",
      "                    print title + '\\n'\n",
      "                    content = str(html)[str(html).find(start_article_delim) + len (start_article_delim):str(html).find(end_article_delim)]\n",
      "                    soup = BeautifulSoup(content)\n",
      "                    \n",
      "                    for script in soup([\"script\", \"style\"]):\n",
      "                        script.extract() \n",
      "                        \n",
      "                    mod_content = soup.get_text()\n",
      "                \n",
      "                with open('articles_scraped.pickle', 'rb') as handle:\n",
      "                    article_list = pickle.load(handle)\n",
      "                    if title in article_list: \n",
      "                        print '\\n ALREADY IN SET \\n'\n",
      "                        return\n",
      "                    else:\n",
      "                        with open('articles_scraped.pickle', 'wb') as handle:\n",
      "                            article_list.append(title)\n",
      "                            pickle.dump(article_list, handle)\n",
      "                \n",
      "                mod_content = mod_content.encode(\"utf-8\") \n",
      "                \n",
      "                ascii_title = unicode(title, 'ascii', 'ignore')\n",
      "                ascii_content = unicode(mod_content, 'ascii', 'ignore')\n",
      "\n",
      "                article_writer.writerow([name, pol, ascii_title, ascii_content])\n",
      "            except AttributeError: \n",
      "                print 'Attribute Error'\n",
      "                \n",
      "            usock.close()\n",
      "            "
     ],
     "language": "python",
     "metadata": {},
     "outputs": [],
     "prompt_number": 16
    },
    {
     "cell_type": "code",
     "collapsed": false,
     "input": [
      "def scrape(start_url, iterator, url_list, url_mod):      \n",
      "    \"\"\"\n",
      "    Arguments: string start_url, int iterator, set url_list, string url_mod\n",
      "    Returns: updated set url_list \n",
      "    \n",
      "    For each start_url passed, this function opens that url and retrieves all hrefs from that page. \n",
      "    If iterator is smaller than the (constant) number of ITER_PAGES, scrape is called recursively \n",
      "    on the set of urls. \n",
      "    \"\"\"\n",
      "    \n",
      "    # limit the number of articles retrieved by limiting page depth\n",
      "    if iterator > ITER_PAGES: \n",
      "        return set()\n",
      "    \n",
      "    # call URLLister to retrieve all hrefs in the html read from the url \n",
      "    usock = urllib.urlopen(start_url)\n",
      "    parser = URLLister()\n",
      "    html = usock.read()\n",
      "    parser.feed(html)\n",
      "    usock.close()\n",
      "    parser.close()\n",
      "    \n",
      "    url_list = url_list.union(parser.urls)\n",
      "    \n",
      "    # scrape each correctly formatted url\n",
      "    for url in url_list: \n",
      "        if len(url) > 0 and str(url)[0] == '/': \n",
      "            tmp_url = url_mod + str(url)\n",
      "            try: \n",
      "                tmp_set = scrape(tmp_url, iterator + 1, url_list, url_mod)\n",
      "                url_list = url_list.union(tmp_set) \n",
      "            except IOError: \n",
      "                print \"Couldn't Open\"\n",
      "    return url_list\n"
     ],
     "language": "python",
     "metadata": {},
     "outputs": [],
     "prompt_number": 8
    },
    {
     "cell_type": "code",
     "collapsed": false,
     "input": [
      "ITER_PAGES = 1\n",
      "\n",
      "# pickle setup\n",
      "articles_to_pickle = []\n",
      "try:\n",
      "    with open('articles_scraped.pickle', 'rb') as handle:\n",
      "        articles_to_pickle = pickle.load(handle)\n",
      "except IOError: \n",
      "    with open('articles_scraped.pickle', 'wb') as handle:\n",
      "        pickle.dump(articles_to_pickle, handle)\n",
      "\n",
      "# call the function\n",
      "url_list = set()  \n",
      "american_conservative_list = scrape('http://www.theamericanconservative.com/', 1, url_list, '')\n",
      "townhall_list = scrape('http://www.townhall.com/', 1, url_list, 'http://www.townhall.com')\n",
      "csmonitor_list = scrape('http://www.csmonitor.com/', 1, url_list, 'http://www.csmonitor.com/')\n",
      "weekly_std_list = scrape('http://www.weeklystandard.com/', 1, url_list, 'http://www.weeklystandard.com/')\n",
      "spectator_list = scrape('http://spectator.org/', 1, url_list, 'http://spectator.org/')\n",
      "\n",
      "mother_jones_list = scrape('http://www.motherjones.com/', 1, url_list, 'http://www.motherjones.com')\n",
      "nation_list = scrape('http://www.thenation.com/', 1, url_list, 'http://www.thenation.com/')\n",
      "slate_list = scrape('http://www.slate.com/', 1, url_list, '')\n",
      "newyorker_list = scrape('http://www.newyorker.com/', 1, url_list, '')\n",
      "wp_list = scrape('http://www.washingtonpost.com/', 1, url_list, '')\n",
      "\n",
      "print '\\nurls\\n'\n",
      "\n",
      "# conservative 1\n",
      "for url in american_conservative_list: \n",
      "    process_url(url, '', 'http://www.theamericanconservative.com/', 'theamericanconservative', '<div class=\"post-content\">', '<footer id=\"articlefooter\">', 'The American Conservative', 'C')\n",
      "\n",
      "# conservative 2\n",
      "for url in townhall_list: \n",
      "    process_url(url, 'http://www.townhall.com', 'argument-not-used', '2014' , '<ul class=\"breadcrumb\">', '<hr class=\"article-divider\"', 'TownHall', 'C')\n",
      "\n",
      "# conservative 3\n",
      "for url in csmonitor_list:\n",
      "    process_url(url, 'http://www.csmonitor.com/', 'argument-not-used', '2014/', '<div id=\"story-body\"', '<span id=\"end-of-story\"', 'The Christian Science Monitor', 'C')\n",
      "\n",
      "# conservative 4\n",
      "for url in weekly_std_list: \n",
      "    process_url(url, 'http://www.weeklystandard.com/', 'argument-not-used', '/articles/', '  <div class=\"all_article\">', '<div class=\"article-footer\">', 'The Weekly Standard', 'C')\n",
      "\n",
      "# conservative 5\n",
      "for url in spectator_list:\n",
      "    process_url(url, 'http://spectator.org/', 'argument-not-used', '/articles/', 'target=\"_blank\" rel=\"nofollow\">', '</iframe></div><div class=\"field-item even\"><p class=\"label\">', 'The American Spectator', 'C')\n",
      "\n",
      "# liberal 1 \n",
      "for url in mother_jones_list:\n",
      "    process_url(url, 'http://www.motherjones.com', 'argument-not-used', '2014' , '<div id=\"node-header\" class=\"clear-block\">', '<div id=\"node-footer\" class=\"clear-block\">', 'Mother Jones', 'L')\n",
      "\n",
      "# liberal 2\n",
      "for url in nation_list:\n",
      "    process_url(url, 'http://www.thenation.com/', 'argument-not-used', '/article/', '<div class=\"field field-type-text field-field-image-caption\">', '</p></div><div class=\"views-field-value byline\">', 'The Nation', 'L')\n",
      "\n",
      "# liberal 3\n",
      "for url in slate_list:\n",
      "    process_url(url, '', 'http://www.slate.com/', '/2014/', '<div class=\"text text-1 parbase section\">', '<section class=\"about-the-author', 'Slate', 'L')\n",
      "\n",
      "# liberal 4 - slightly more complex \n",
      "for url in newyorker_list:\n",
      "    if url.find('//') == 0 or len(url) < 45:\n",
      "        print 'URL badly formatted'\n",
      "        # do nothing for this url\n",
      "    else:\n",
      "        process_url(url, '', 'http://www.newyorker.com/', 'news', '<div itemprop=\"articleBody\" class=\"articleBody\" id=\"articleBody\">', '<span class=\"dingbat\">', 'The New Yorker', 'L')\n",
      "        process_url(url, '', 'http://www.newyorker.com/', 'magazine/2014', '<div itemprop=\"articleBody\" class=\"articleBody\" id=\"articleBody\">', '<span class=\"dingbat\">', 'The New Yorker', 'L')\n",
      "\n",
      "# liberal 5\n",
      "for url in wp_list:\n",
      "    print url\n",
      "    process_url(url, '', 'http://www.washingtonpost.com/', '/2014/', '<div id=\"article-body\" class=\"article-body\">', '</article>', 'The Washington Post', 'L')"
     ],
     "language": "python",
     "metadata": {},
     "outputs": [
      {
       "output_type": "stream",
       "stream": "stdout",
       "text": [
        "\n",
        "urls\n",
        "\n",
        "What Not to Do on Iran | The American Conservative\n"
       ]
      },
      {
       "output_type": "stream",
       "stream": "stdout",
       "text": [
        "\n",
        "Content not text, or article not relevant.\n"
       ]
      },
      {
       "output_type": "stream",
       "stream": "stdout",
       "text": [
        "\n",
        "UVA\u2019s Jackie: A Wahoo Tawana Brawley? | The American Conservative\n"
       ]
      },
      {
       "output_type": "stream",
       "stream": "stdout",
       "text": [
        "\n",
        "Content not text, or article not relevant.\n"
       ]
      },
      {
       "output_type": "stream",
       "stream": "stdout",
       "text": [
        "\n",
        "Channing Tatum. Wrestling Picture. Whadaya Need \u2013 A Road Map? | The American Conservative\n"
       ]
      },
      {
       "output_type": "stream",
       "stream": "stdout",
       "text": [
        "\n",
        "Europe\u2019s Conchita Wurst Consensus | The American Conservative\n"
       ]
      },
      {
       "output_type": "stream",
       "stream": "stdout",
       "text": [
        "\n",
        "Content not text, or article not relevant.\n"
       ]
      },
      {
       "output_type": "stream",
       "stream": "stdout",
       "text": [
        "\n",
        "Content not text, or article not relevant.\n"
       ]
      },
      {
       "output_type": "stream",
       "stream": "stdout",
       "text": [
        "\n",
        "Double Feature Feature: 10,000 Hours Edition | The American Conservative\n"
       ]
      },
      {
       "output_type": "stream",
       "stream": "stdout",
       "text": [
        "\n",
        "What Are \u201cNational Rights\u201d? | The American Conservative\n"
       ]
      },
      {
       "output_type": "stream",
       "stream": "stdout",
       "text": [
        "\n",
        "About Us | The American Conservative\n"
       ]
      },
      {
       "output_type": "stream",
       "stream": "stdout",
       "text": [
        "\n",
        "Grand Strategy Is Bunk | The American Conservative\n"
       ]
      },
      {
       "output_type": "stream",
       "stream": "stdout",
       "text": [
        "\n",
        "A Fraternity of Rape | The American Conservative\n"
       ]
      },
      {
       "output_type": "stream",
       "stream": "stdout",
       "text": [
        "\n",
        "RIP The New Republic | The American Conservative\n"
       ]
      },
      {
       "output_type": "stream",
       "stream": "stdout",
       "text": [
        "\n",
        "Bringing Back Husbandry | The American Conservative\n"
       ]
      },
      {
       "output_type": "stream",
       "stream": "stdout",
       "text": [
        "\n",
        "Content not text, or article not relevant.\n"
       ]
      },
      {
       "output_type": "stream",
       "stream": "stdout",
       "text": [
        "\n",
        "Is Clickbait the End of Online News? | The American Conservative\n"
       ]
      },
      {
       "output_type": "stream",
       "stream": "stdout",
       "text": [
        "\n",
        "Content not text, or article not relevant.\n"
       ]
      },
      {
       "output_type": "stream",
       "stream": "stdout",
       "text": [
        "\n",
        "The Moral Path to Peace | The American Conservative\n"
       ]
      },
      {
       "output_type": "stream",
       "stream": "stdout",
       "text": [
        "\n",
        "Deconstructing Western Civilization | The American Conservative\n"
       ]
      },
      {
       "output_type": "stream",
       "stream": "stdout",
       "text": [
        "\n",
        "SWPLs & Eric Garner | The American Conservative\n"
       ]
      },
      {
       "output_type": "stream",
       "stream": "stdout",
       "text": [
        "\n",
        "Jeb Bush\u2019s Victory Plan | The American Conservative\n"
       ]
      },
      {
       "output_type": "stream",
       "stream": "stdout",
       "text": [
        "\n",
        "The Uses and Abuses of Historical Analogies | The American Conservative\n"
       ]
      },
      {
       "output_type": "stream",
       "stream": "stdout",
       "text": [
        "\n",
        "Content not text, or article not relevant.\n"
       ]
      },
      {
       "output_type": "stream",
       "stream": "stdout",
       "text": [
        "\n",
        "The Dante Club | The American Conservative\n"
       ]
      },
      {
       "output_type": "stream",
       "stream": "stdout",
       "text": [
        "\n",
        "Federalism Can Still Save Religious Liberty | The American Conservative\n"
       ]
      },
      {
       "output_type": "stream",
       "stream": "stdout",
       "text": [
        "\n",
        "Content not text, or article not relevant.\n"
       ]
      },
      {
       "output_type": "stream",
       "stream": "stdout",
       "text": [
        "\n",
        "Why the Dishonest Charge of \u201cRetreat\u201d Endures | The American Conservative\n"
       ]
      },
      {
       "output_type": "stream",
       "stream": "stdout",
       "text": [
        "\n",
        "Against the Mob | The American Conservative\n"
       ]
      },
      {
       "output_type": "stream",
       "stream": "stdout",
       "text": [
        "\n",
        "Jindal\u2019s Boilerplate Hawkishness | The American Conservative\n"
       ]
      },
      {
       "output_type": "stream",
       "stream": "stdout",
       "text": [
        "\n",
        "Eric Garner & Police Brutality | The American Conservative\n"
       ]
      },
      {
       "output_type": "stream",
       "stream": "stdout",
       "text": [
        "\n",
        "Ferguson Is Not Palestine | The American Conservative\n"
       ]
      },
      {
       "output_type": "stream",
       "stream": "stdout",
       "text": [
        "\n",
        "Content not text, or article not relevant.\n"
       ]
      },
      {
       "output_type": "stream",
       "stream": "stdout",
       "text": [
        "\n",
        "Chris Rocks, Chris Rolls | The American Conservative\n"
       ]
      },
      {
       "output_type": "stream",
       "stream": "stdout",
       "text": [
        "\n",
        "The Greatly Overrated Rubio | The American Conservative\n"
       ]
      },
      {
       "output_type": "stream",
       "stream": "stdout",
       "text": [
        "\n",
        "Ukraine and NATO | The American Conservative\n"
       ]
      },
      {
       "output_type": "stream",
       "stream": "stdout",
       "text": [
        "\n",
        "A Chuck Hagel Postmortem | The American Conservative\n"
       ]
      },
      {
       "output_type": "stream",
       "stream": "stdout",
       "text": [
        "\n",
        "Iran: We Need to Talk | The American Conservative\n"
       ]
      },
      {
       "output_type": "stream",
       "stream": "stdout",
       "text": [
        "\n",
        "Galloping Toward Gomorrah | The American Conservative\n"
       ]
      },
      {
       "output_type": "stream",
       "stream": "stdout",
       "text": [
        "\n",
        "COIN Is a Proven Failure | The American Conservative\n"
       ]
      },
      {
       "output_type": "stream",
       "stream": "stdout",
       "text": [
        "\n",
        "Considering Thankfulness | The American Conservative\n"
       ]
      },
      {
       "output_type": "stream",
       "stream": "stdout",
       "text": [
        "\n",
        "A Millman-Walt Dialogue On Foreign Policy | The American Conservative\n"
       ]
      },
      {
       "output_type": "stream",
       "stream": "stdout",
       "text": [
        "\n",
        "Star Wars and Politics | The American Conservative\n"
       ]
      },
      {
       "output_type": "stream",
       "stream": "stdout",
       "text": [
        "\n",
        "Thanksgiving Doorbusters Backfire on Big Retail | The American Conservative\n"
       ]
      },
      {
       "output_type": "stream",
       "stream": "stdout",
       "text": [
        "\n",
        "And Now, For Something Completely Different \u2013 Or Perhaps Not | The American Conservative\n"
       ]
      },
      {
       "output_type": "stream",
       "stream": "stdout",
       "text": [
        "\n",
        "The American Conservative\n"
       ]
      },
      {
       "output_type": "stream",
       "stream": "stdout",
       "text": [
        "\n",
        "Content not text, or article not relevant.\n"
       ]
      },
      {
       "output_type": "stream",
       "stream": "stdout",
       "text": [
        "\n",
        "Cotton and the Iran Hawks\u2019 Loathing of Diplomacy | The American Conservative\n"
       ]
      },
      {
       "output_type": "stream",
       "stream": "stdout",
       "text": [
        "\n",
        "Bringing Big Data to the Farm | The American Conservative\n"
       ]
      },
      {
       "output_type": "stream",
       "stream": "stdout",
       "text": [
        "\n",
        "Declaring War on ISIS | The American Conservative\n"
       ]
      },
      {
       "output_type": "stream",
       "stream": "stdout",
       "text": [
        "\n",
        "Content not text, or article not relevant.\n"
       ]
      },
      {
       "output_type": "stream",
       "stream": "stdout",
       "text": [
        "\n",
        "Removing tourists and objects from photos: Demonstration of easy Photoshop feature (VIDEO).  \n",
        "\n"
       ]
      },
      {
       "output_type": "stream",
       "stream": "stdout",
       "text": [
        "\n",
        "Eric Garner, Daniel Pantaleo, and cop training: Police departments must explain why their officers\u2019 first instinct is the sudden use of force.\n"
       ]
      },
      {
       "output_type": "stream",
       "stream": "stdout",
       "text": [
        "\n",
        "Global warming: Antarctica is losing more than 6 billion tons of ice annually.\n"
       ]
      },
      {
       "output_type": "stream",
       "stream": "stdout",
       "text": [
        "\n",
        "Uber raises $1.2 billion: New funding gives Travis Kalanick's ride service a $40 billion valuation.\n"
       ]
      },
      {
       "output_type": "stream",
       "stream": "stdout",
       "text": [
        "\n",
        "Warren Buffett Ready for Hillary donation: Gives maximum to Clinton super PAC.\n"
       ]
      },
      {
       "output_type": "stream",
       "stream": "stdout",
       "text": [
        "\n",
        "James Watson Nobel Prize auction: Medal for DNA discovery gets $4.1 million at Christie's.\n"
       ]
      },
      {
       "output_type": "stream",
       "stream": "stdout",
       "text": [
        "\n",
        "Content not text, or article not relevant.\n"
       ]
      },
      {
       "output_type": "stream",
       "stream": "stdout",
       "text": [
        "\n",
        "Jon Stewart on Eric Garner: The Daily Show got serious on the grand jury decision (VIDEO).\n"
       ]
      },
      {
       "output_type": "stream",
       "stream": "stdout",
       "text": [
        "\n",
        "Running calculator: Introducing Slate\u2019s marathon time predictor, a better way to calculate how fast you\u2019ll run.\u2028",
        "\n"
       ]
      },
      {
       "output_type": "stream",
       "stream": "stdout",
       "text": [
        "\n",
        "New York Times notable books of 2014 list incites Ayelet Waldman to twitter fury. \n"
       ]
      },
      {
       "output_type": "stream",
       "stream": "stdout",
       "text": [
        "\n",
        "Ferguson grand jury investigation: A shadow trial violates the public\u2019s right to access.\n"
       ]
      },
      {
       "output_type": "stream",
       "stream": "stdout",
       "text": [
        "\n",
        "The art of science: How they intertwine.\n"
       ]
      },
      {
       "output_type": "stream",
       "stream": "stdout",
       "text": [
        "\n",
        "We Second That Second Novel List: Marlon James\u2019 The Book of Night Women.\n"
       ]
      },
      {
       "output_type": "stream",
       "stream": "stdout",
       "text": [
        "\n",
        "James Watson selling Nobel Prize: DNA structure discoverer\u2019s history of racism and sexism.\n"
       ]
      },
      {
       "output_type": "stream",
       "stream": "stdout",
       "text": [
        "\n",
        "Adam Voorhes photographs a rare collection of brains in his book, Malformed: Forgotten Brains of the Texas State Mental Hospital, with Alex Hannaford.\n"
       ]
      },
      {
       "output_type": "stream",
       "stream": "stdout",
       "text": [
        "\n",
        "Purity Ring Push Pull track: Duo\u2019s first new album material since their debut is great (VIDEO).\n"
       ]
      },
      {
       "output_type": "stream",
       "stream": "stdout",
       "text": [
        "\n",
        "Wild, reviewed: Reese Witherspoon takes an epic hike in this adaptation of Cheryl Strayed\u2019s memoir.\n"
       ]
      },
      {
       "output_type": "stream",
       "stream": "stdout",
       "text": [
        "\n",
        "Jeb Bush\u2019s chances in 2016: Can the former Florida governor win over the Republican Party?\n"
       ]
      },
      {
       "output_type": "stream",
       "stream": "stdout",
       "text": [
        "\n",
        "Dear Prudence: Is our sexy young nanny a temptation for my husband?\n"
       ]
      },
      {
       "output_type": "stream",
       "stream": "stdout",
       "text": [
        "\n",
        "Hawaiian \"Mele Kalikimaka,\" Greek \"khristos,\" Xmas, and why not \"Hristmas\": Sound changes in Christmas vocabulary.\n"
       ]
      },
      {
       "output_type": "stream",
       "stream": "stdout",
       "text": [
        "\n",
        "How should Slate improve its comments section? A members-only open thread.\n"
       ]
      },
      {
       "output_type": "stream",
       "stream": "stdout",
       "text": [
        "\n",
        "Map of juvenile delinquents: DC map from 1935 showing homes of juvenile offenders. \n"
       ]
      },
      {
       "output_type": "stream",
       "stream": "stdout",
       "text": [
        "\n",
        "Law school solvency: Why I just bet a professor money that at least one law school will close.\n",
        "\n"
       ]
      },
      {
       "output_type": "stream",
       "stream": "stdout",
       "text": [
        "\n",
        "\"Why doesn't she leave?\": The Janay Rice interview contains some answers to the perennial domestic violence question.\n"
       ]
      },
      {
       "output_type": "stream",
       "stream": "stdout",
       "text": [
        "\n",
        "We don't need to ban frats to reduce rape rates, but it might help to integrate women into them.\n"
       ]
      },
      {
       "output_type": "stream",
       "stream": "stdout",
       "text": [
        "\n",
        "Sabrina Rubin Erdely, UVA: Why didn\u2019t a Rolling Stone writer talk to the alleged perpetrators of a gang rape?\n"
       ]
      },
      {
       "output_type": "stream",
       "stream": "stdout",
       "text": [
        "\n",
        "Flu from a flu shot? Why it\u2019s impossible to get sick from the vaccination (VIDEO).\n"
       ]
      },
      {
       "output_type": "stream",
       "stream": "stdout",
       "text": [
        "\n",
        "Bill Cosby rape allegations: Tina Fey brought them up on Saturday Night Live's Weekend Update in 2005 (VIDEO).\n"
       ]
      },
      {
       "output_type": "stream",
       "stream": "stdout",
       "text": [
        "\n",
        "Content not text, or article not relevant.\n"
       ]
      },
      {
       "output_type": "stream",
       "stream": "stdout",
       "text": [
        "\n",
        "Content not text, or article not relevant.\n"
       ]
      },
      {
       "output_type": "stream",
       "stream": "stdout",
       "text": [
        "\n",
        "Football on Thanksgiving: How the Dallas Cowboys ruined Turkey Day.\n"
       ]
      },
      {
       "output_type": "stream",
       "stream": "stdout",
       "text": [
        "\n",
        "Facebook copyright notice hoax: How algorithms could stop misinformation. \n"
       ]
      },
      {
       "output_type": "stream",
       "stream": "stdout",
       "text": [
        "\n",
        "Eric Garner, no indictment: Grand jury declines to charge Daniel Pantaleo.\n"
       ]
      },
      {
       "output_type": "stream",
       "stream": "stdout",
       "text": [
        "\n",
        "New York City protests over Eric Garner grand jury decision.\n"
       ]
      },
      {
       "output_type": "stream",
       "stream": "stdout",
       "text": [
        "\n",
        "Grand jury subpoena and FBI search lead LA school district to end iPad, Pearson contract.\n"
       ]
      },
      {
       "output_type": "stream",
       "stream": "stdout",
       "text": [
        "\n",
        "Content not text, or article not relevant.\n"
       ]
      },
      {
       "output_type": "stream",
       "stream": "stdout",
       "text": [
        "\n",
        "Young v. UPS: The Supreme Court takes up pregnant workers\u2019 rights.\n"
       ]
      },
      {
       "output_type": "stream",
       "stream": "stdout",
       "text": [
        "\n",
        "Content not text, or article not relevant.\n"
       ]
      },
      {
       "output_type": "stream",
       "stream": "stdout",
       "text": [
        "\n",
        "Content not text, or article not relevant.\n"
       ]
      },
      {
       "output_type": "stream",
       "stream": "stdout",
       "text": [
        "\n",
        "Google Tax: The UK cracks down on multinational companies shifting profits and taxes abroad.\n"
       ]
      },
      {
       "output_type": "stream",
       "stream": "stdout",
       "text": [
        "\n",
        "Stephanie Diani: Live Audience! Looks at the people who attend multiple television tapings (PHOTOS).\n"
       ]
      },
      {
       "output_type": "stream",
       "stream": "stdout",
       "text": [
        "\n",
        "Sam Hinkie: Is the Philadelphia 76ers\u2019 lose-on-purpose approach to team-building ingenious or morally bankrupt?\n"
       ]
      },
      {
       "output_type": "stream",
       "stream": "stdout",
       "text": [
        "\n",
        "Ball Aerospace: A company known for mason jars helped with NASA's Orion capsule.\n"
       ]
      },
      {
       "output_type": "stream",
       "stream": "stdout",
       "text": [
        "\n",
        "2014 World Series, Game 7: Should Alex Gordon have tried to dash home with the tying run?\n"
       ]
      },
      {
       "output_type": "stream",
       "stream": "stdout",
       "text": [
        "\n",
        "Whole Foods Detroit: Can a grocery store really fight elitism, racism, and obesity?\n"
       ]
      },
      {
       "output_type": "stream",
       "stream": "stdout",
       "text": [
        "\n",
        "Cleveland police, Justice Department: Systemic use of excessive force. \n"
       ]
      },
      {
       "output_type": "stream",
       "stream": "stdout",
       "text": [
        "\n",
        "Young v. UPS pregnancy discrimination arguments: Supreme Court justices argue over a semicolon.\n"
       ]
      },
      {
       "output_type": "stream",
       "stream": "stdout",
       "text": [
        "\n",
        "Iran vigorously denies U.S. claims that it\u2019s cooperating with the U.S. against ISIS\n"
       ]
      },
      {
       "output_type": "stream",
       "stream": "stdout",
       "text": [
        "\n",
        "Broken windows policing doesn\u2019t work. It also may have killed Eric Garner.\n"
       ]
      },
      {
       "output_type": "stream",
       "stream": "stdout",
       "text": [
        "\n",
        "Creationism poll: How many Americans believe the Bible is literal, inerrant, or symbolic.\n"
       ]
      },
      {
       "output_type": "stream",
       "stream": "stdout",
       "text": [
        "\n",
        "While We're Young trailer: Noah Baumbach movie stars Ben Stiller, Adam Driver, and Ad-Rock (VIDEO).\n"
       ]
      },
      {
       "output_type": "stream",
       "stream": "stdout",
       "text": [
        "\n",
        "China says it will stop harvesting organs from executed prisoners.\n"
       ]
      },
      {
       "output_type": "stream",
       "stream": "stdout",
       "text": [
        "\n",
        "Content not text, or article not relevant.\n"
       ]
      },
      {
       "output_type": "stream",
       "stream": "stdout",
       "text": [
        "\n",
        "Content not text, or article not relevant.\n"
       ]
      },
      {
       "output_type": "stream",
       "stream": "stdout",
       "text": [
        "\n",
        "Top skyscrapers around the world that were stalled, stunted, stopped midconstruction, or never built. \n"
       ]
      },
      {
       "output_type": "stream",
       "stream": "stdout",
       "text": [
        "\n",
        "Cruise ships, billion gallons of sewage: That's a lot of sewage.\n"
       ]
      },
      {
       "output_type": "stream",
       "stream": "stdout",
       "text": [
        "\n",
        "LeBron James, Cleveland: How LeBron and the city found their way back to each other.\n"
       ]
      },
      {
       "output_type": "stream",
       "stream": "stdout",
       "text": [
        "\n",
        "Dave Brandon: The resignation of Michigan\u2019s villainous athletic director is why we like college sports.\n"
       ]
      },
      {
       "output_type": "stream",
       "stream": "stdout",
       "text": [
        "\n",
        "Content not text, or article not relevant.\n"
       ]
      },
      {
       "output_type": "stream",
       "stream": "stdout",
       "text": [
        "\n",
        "Patrick Morarescu photographs performance artists.\n"
       ]
      },
      {
       "output_type": "stream",
       "stream": "stdout",
       "text": [
        "\n",
        "Yoan Moncada: Is It Now Legal for Cuban Ballplayers to Leave Their Country and Join the Major Leagues? \n"
       ]
      },
      {
       "output_type": "stream",
       "stream": "stdout",
       "text": [
        "\n",
        "Girlfriends\u2019 Guide to Divorce on Bravo: Lisa Edelstein\u2019s new show, reviewed.\n"
       ]
      },
      {
       "output_type": "stream",
       "stream": "stdout",
       "text": [
        "\n",
        "Transparency International index: As long as everyone thinks China is corrupt, it still needs Hong Kong.\n"
       ]
      },
      {
       "output_type": "stream",
       "stream": "stdout",
       "text": [
        "\n",
        "Renee C. Byer: Living On A Dollar A Day is an examination of worldwide extreme hunger and poverty (PHOTOS).\n"
       ]
      },
      {
       "output_type": "stream",
       "stream": "stdout",
       "text": [
        "\n",
        "Edie Bresler: We Sold a Winner looks at the stores that sold winning lottery tickets around the country (PHOTOS).\n"
       ]
      },
      {
       "output_type": "stream",
       "stream": "stdout",
       "text": [
        "\n",
        "Content not text, or article not relevant.\n"
       ]
      },
      {
       "output_type": "stream",
       "stream": "stdout",
       "text": [
        "\n",
        "Sony Pictures hack: Was North Korea really the culprit?\n"
       ]
      },
      {
       "output_type": "stream",
       "stream": "stdout",
       "text": [
        "\n",
        "Content not text, or article not relevant.\n"
       ]
      },
      {
       "output_type": "stream",
       "stream": "stdout",
       "text": [
        "\n",
        "Nonce words: Why does English have so many obscure words?\n"
       ]
      },
      {
       "output_type": "stream",
       "stream": "stdout",
       "text": [
        "\n",
        "The new seven wonders: Defining the top technological marvels of the contemporary age.\n"
       ]
      },
      {
       "output_type": "stream",
       "stream": "stdout",
       "text": [
        "\n",
        "Kim Kardashian didn\u2019t break the Internet: How to cause a scandal in an overly transgressive age.\n"
       ]
      },
      {
       "output_type": "stream",
       "stream": "stdout",
       "text": [
        "\n",
        "Content not text, or article not relevant.\n"
       ]
      },
      {
       "output_type": "stream",
       "stream": "stdout",
       "text": [
        "\n",
        "Content not text, or article not relevant.\n"
       ]
      },
      {
       "output_type": "stream",
       "stream": "stdout",
       "text": [
        "\n",
        "Barnes & Noble buys out Microsoft's Nook stake to prepare for e-reader spinoff.\n"
       ]
      },
      {
       "output_type": "stream",
       "stream": "stdout",
       "text": [
        "\n",
        "Katrina Arnold photographs New Orleans Ladies Arm Wrestling tournaments.  \n"
       ]
      },
      {
       "output_type": "stream",
       "stream": "stdout",
       "text": [
        "\n",
        "Holiday season hacking: Beware of malware and phishing in order confirmation emails.\n"
       ]
      },
      {
       "output_type": "stream",
       "stream": "stdout",
       "text": [
        "\n",
        "Transparent\u2019s Zackary Drucker wants to archive Flawless Sabrina\u2019s lifework.\n"
       ]
      },
      {
       "output_type": "stream",
       "stream": "stdout",
       "text": [
        "\n",
        "Content not text, or article not relevant.\n"
       ]
      },
      {
       "output_type": "stream",
       "stream": "stdout",
       "text": [
        "\n",
        "The Unspeakable: And Other Subjects of Discussion, an essay collection, by Meghan Daum, reviewed.\n"
       ]
      },
      {
       "output_type": "stream",
       "stream": "stdout",
       "text": [
        "\n",
        "Pink slugs, drunken parrots, giant earthworms, and tree lobsters of Australia.\n"
       ]
      },
      {
       "output_type": "stream",
       "stream": "stdout",
       "text": [
        "\n",
        "Dr. Ben Carson blames feminism and the 60s for police shootings of unarmed black men.\n"
       ]
      },
      {
       "output_type": "stream",
       "stream": "stdout",
       "text": [
        "\n",
        "Slate recommendations: Favorite media recommendations from staffers this Thanksgiving. \n"
       ]
      },
      {
       "output_type": "stream",
       "stream": "stdout",
       "text": [
        "\n",
        "Content not text, or article not relevant.\n"
       ]
      },
      {
       "output_type": "stream",
       "stream": "stdout",
       "text": [
        "\n",
        "Orion launch: Watch live.\n"
       ]
      },
      {
       "output_type": "stream",
       "stream": "stdout",
       "text": [
        "\n",
        "Best books of 2014: Slate Book Review editor picks.\n"
       ]
      },
      {
       "output_type": "stream",
       "stream": "stdout",
       "text": [
        "\n",
        "Girl Scouts: Cookies go digital, but Girl Scouts brand still suffers. \n"
       ]
      },
      {
       "output_type": "stream",
       "stream": "stdout",
       "text": [
        "\n",
        "New No CAPTCHA reCAPTCHA from Google is much easier for humans.\n"
       ]
      },
      {
       "output_type": "stream",
       "stream": "stdout",
       "text": [
        "\n",
        "Content not text, or article not relevant.\n"
       ]
      },
      {
       "output_type": "stream",
       "stream": "stdout",
       "text": [
        "\n",
        "U.S. Department of Education comes out in support of transgender students' rights.\n"
       ]
      },
      {
       "output_type": "stream",
       "stream": "stdout",
       "text": [
        "\n",
        "Derrick Rose, injuries: NBA stars aren't superheroes. They break just like the rest of us puny humans.\n"
       ]
      },
      {
       "output_type": "stream",
       "stream": "stdout",
       "text": [
        "\n",
        "Terminator: Genisys trailer: Arnold Schwarzenegger returns in the franchise reboot (VIDEO).\n"
       ]
      },
      {
       "output_type": "stream",
       "stream": "stdout",
       "text": [
        "\n",
        "Cosby lawsuit claims extortion by Judy Huth.\n"
       ]
      },
      {
       "output_type": "stream",
       "stream": "stdout",
       "text": [
        "\n",
        "Darren Wilson \u201cno true bill\u201d: Why cops are almost never indicted for shooting someone in the line of duty.\n"
       ]
      },
      {
       "output_type": "stream",
       "stream": "stdout",
       "text": [
        "\n",
        "Content not text, or article not relevant.\n"
       ]
      },
      {
       "output_type": "stream",
       "stream": "stdout",
       "text": [
        "\n",
        "Science shows you're better off being a nice boss.\n"
       ]
      },
      {
       "output_type": "stream",
       "stream": "stdout",
       "text": [
        "\n",
        "Ashton Carter may be a good defense secretary: Why does the United States have so few people qualified to run the Pentagon?\n"
       ]
      },
      {
       "output_type": "stream",
       "stream": "stdout",
       "text": [
        "\n",
        "Fox Host Carlson hopes New York City tree lighting unaffected by Garner protests. \n"
       ]
      },
      {
       "output_type": "stream",
       "stream": "stdout",
       "text": [
        "\n",
        "Content not text, or article not relevant.\n"
       ]
      },
      {
       "output_type": "stream",
       "stream": "stdout",
       "text": [
        "\n",
        "Slate\u2019s most commented articles: Who comments on what articles and why?\n"
       ]
      },
      {
       "output_type": "stream",
       "stream": "stdout",
       "text": [
        "\n",
        "Dear Prudence: My husband is a bad gift-giver.\n"
       ]
      },
      {
       "output_type": "stream",
       "stream": "stdout",
       "text": [
        "\n",
        "Darren Wilson\u2019s racial portrayal of Michael Brown as a superhuman demon: The Ferguson police officer\u2019s account is a common projection of racial fears. \n"
       ]
      },
      {
       "output_type": "stream",
       "stream": "stdout",
       "text": [
        "\n",
        "Israel\u2019s demolition of Palestinian homes: Benjamin Netanyahu\u2019s government teaches its citizens the wrong lessons.\n"
       ]
      },
      {
       "output_type": "stream",
       "stream": "stdout",
       "text": [
        "\n",
        "Eric Garner, grand jury: How would we cover the decision not to indict a police officer if it happened in another country?\n"
       ]
      },
      {
       "output_type": "stream",
       "stream": "stdout",
       "text": [
        "\n",
        "Netizen Report: Iranian Facebook user sentenced to death for allegedly insulting the prophet.\n"
       ]
      },
      {
       "output_type": "stream",
       "stream": "stdout",
       "text": [
        "\n",
        "Drinking problem in academia: Alcohol abuse among faculty members.\n"
       ]
      },
      {
       "output_type": "stream",
       "stream": "stdout",
       "text": [
        "\n",
        "Single-sex classroom research: Fake brain science supports gender segregation.\n"
       ]
      },
      {
       "output_type": "stream",
       "stream": "stdout",
       "text": [
        "\n",
        "Dear Prudence: I was fat-shamed by my cousin at Thanksgiving.\n"
       ]
      },
      {
       "output_type": "stream",
       "stream": "stdout",
       "text": [
        "\n",
        "Marcel Leli\u00ebnhof photographs the Hells Angels in Norway in his book, Helvetes Engler\u2014Hells Angels MC Norway(PHOTOS).\n"
       ]
      },
      {
       "output_type": "stream",
       "stream": "stdout",
       "text": [
        "\n",
        "Daniel Pantaleo not indicted: Why the NYPD officer wasn\u2019t indicted in the chokehold death of Eric Garner.\n"
       ]
      },
      {
       "output_type": "stream",
       "stream": "stdout",
       "text": [
        "\n",
        "President Obama says voters want \u201cthat new car smell\u201d: Can he take criticism from Hillary Clinton and other Democrats in the 2016 presidential race?\n"
       ]
      },
      {
       "output_type": "stream",
       "stream": "stdout",
       "text": [
        "\n",
        "M83: New composite shows incredible detail.\n"
       ]
      },
      {
       "output_type": "stream",
       "stream": "stdout",
       "text": [
        "\n",
        "Content not text, or article not relevant.\n"
       ]
      },
      {
       "output_type": "stream",
       "stream": "stdout",
       "text": [
        "\n",
        "Peter Pan played by a woman: Why? A history of casting the J.M. Barrie character.\n"
       ]
      },
      {
       "output_type": "stream",
       "stream": "stdout",
       "text": [
        "\n",
        "Best drone gifts: DJI Phantom, Parrot AR, Rolling Spider reviewed.\n"
       ]
      },
      {
       "output_type": "stream",
       "stream": "stdout",
       "text": [
        "\n",
        "Tension between Germany and other eurozone countries over stimulus is hurting the economy.\n"
       ]
      },
      {
       "output_type": "stream",
       "stream": "stdout",
       "text": [
        "\n",
        "A Thanksgiving guide to talking to your relatives about Bill Cosby, affirmative consent, and feminism. \n"
       ]
      },
      {
       "output_type": "stream",
       "stream": "stdout",
       "text": [
        "\n",
        "Why female Jacana birds do all the fighting while the males stay home and watch the kids. \n"
       ]
      },
      {
       "output_type": "stream",
       "stream": "stdout",
       "text": [
        "\n",
        "Sian Davey: Looking for Alice is a series about a photographer\u2019s relationship with her daughter who has Down syndrome (PHOTOS).\n"
       ]
      },
      {
       "output_type": "stream",
       "stream": "stdout",
       "text": [
        "\n",
        "Content not text, or article not relevant.\n"
       ]
      },
      {
       "output_type": "stream",
       "stream": "stdout",
       "text": [
        "\n",
        "Gangnam Style was so popular that YouTube had to upgrade its view counter.\n"
       ]
      },
      {
       "output_type": "stream",
       "stream": "stdout",
       "text": [
        "\n",
        "Ridley Scott\u2019s Exodus: Were ancient Egyptians white, black, or brown?\n"
       ]
      },
      {
       "output_type": "stream",
       "stream": "stdout",
       "text": [
        "\n",
        "Are trolls ruining Slate\u2019s comment section?\n"
       ]
      },
      {
       "output_type": "stream",
       "stream": "stdout",
       "text": [
        "\n",
        "Dress codes: Smart casual, dress to impress, cocktail attire, tropical chic, explained.\n"
       ]
      },
      {
       "output_type": "stream",
       "stream": "stdout",
       "text": [
        "\n",
        "Overturned New York Times truck in Philadelphia: no particular symbolic significance.\n"
       ]
      },
      {
       "output_type": "stream",
       "stream": "stdout",
       "text": [
        "\n",
        "Content not text, or article not relevant.\n"
       ]
      },
      {
       "output_type": "stream",
       "stream": "stdout",
       "text": [
        "\n",
        "Content not text, or article not relevant.\n"
       ]
      },
      {
       "output_type": "stream",
       "stream": "stdout",
       "text": [
        "\n",
        "Beards: History and theory of male facial hair and comedy.\n"
       ]
      },
      {
       "output_type": "stream",
       "stream": "stdout",
       "text": [
        "\n",
        "How Yahoo could make up for its decision to sell Flickr users' photos.\n"
       ]
      },
      {
       "output_type": "stream",
       "stream": "stdout",
       "text": [
        "\n",
        "Google services for kids are coming next year.\n"
       ]
      },
      {
       "output_type": "stream",
       "stream": "stdout",
       "text": [
        "\n",
        "Chris Hemsworth is the Sexiest Man Alive 2014: A look back at People\u2019s most enduring brand. \n"
       ]
      },
      {
       "output_type": "stream",
       "stream": "stdout",
       "text": [
        "\n",
        "Sheldon Adelson may have spent too much fighting Internet gambling: The Las Vegas billionaire shouldn\u2019t have made himself part of the story.\n"
       ]
      },
      {
       "output_type": "stream",
       "stream": "stdout",
       "text": [
        "\n",
        "Hosni Mubarak freed in Egypt: It\u2019s futile for revolutionaries to charge dictators.\n"
       ]
      },
      {
       "output_type": "stream",
       "stream": "stdout",
       "text": [
        "\n",
        "Chicago minimum wage vote: $13 by 2019, including for domestic workers. \n"
       ]
      },
      {
       "output_type": "stream",
       "stream": "stdout",
       "text": [
        "\n",
        "URL badly formatted\n",
        "URL badly formatted\n",
        "URL badly formatted\n",
        "URL badly formatted\n",
        "URL badly formatted\n",
        "URL badly formatted\n",
        "Reverend\n"
       ]
      },
      {
       "output_type": "stream",
       "stream": "stdout",
       "text": [
        "\n",
        "The U.K.\u2019s \u201cMr. Austerity\u201d Doubles Down - The New Yorker\n"
       ]
      },
      {
       "output_type": "stream",
       "stream": "stdout",
       "text": [
        "\n",
        "URL badly formatted"
       ]
      },
      {
       "output_type": "stream",
       "stream": "stdout",
       "text": [
        "\n",
        "URL badly formatted\n",
        "URL badly formatted\n",
        "URL badly formatted\n",
        "URL badly formatted\n",
        "URL badly formatted\n",
        "URL badly formatted\n",
        "URL badly formatted\n",
        "URL badly formatted\n",
        "Crisis in Mexico: Pena Nieto, and Mexico's Infrarrealistas\n"
       ]
      },
      {
       "output_type": "stream",
       "stream": "stdout",
       "text": [
        "\n",
        "Rohan Marley\u2019s Marijuana Venture\n"
       ]
      },
      {
       "output_type": "stream",
       "stream": "stdout",
       "text": [
        "\n",
        "A New Deal for the Kurds - The New Yorker\n"
       ]
      },
      {
       "output_type": "stream",
       "stream": "stdout",
       "text": [
        "\n",
        "URL badly formatted"
       ]
      },
      {
       "output_type": "stream",
       "stream": "stdout",
       "text": [
        "\n",
        "URL badly formatted\n",
        "URL badly formatted\n",
        "URL badly formatted\n",
        "URL badly formatted\n",
        "What the Eric Garner Grand Jury Didn\u2019t See - The New Yorker\n"
       ]
      },
      {
       "output_type": "stream",
       "stream": "stdout",
       "text": [
        "\n",
        "URL badly formatted"
       ]
      },
      {
       "output_type": "stream",
       "stream": "stdout",
       "text": [
        "\n",
        "URL badly formatted\n",
        "The Political Scene: Negotiating Climate Change - The New Yorker\n"
       ]
      },
      {
       "output_type": "stream",
       "stream": "stdout",
       "text": [
        "\n",
        "URL badly formatted"
       ]
      },
      {
       "output_type": "stream",
       "stream": "stdout",
       "text": [
        "\n",
        "URL badly formatted\n",
        "URL badly formatted\n",
        "ISIS at the Border\n"
       ]
      },
      {
       "output_type": "stream",
       "stream": "stdout",
       "text": [
        "\n",
        "URL badly formatted\n",
        "URL badly formatted\n",
        "Whose Streets? - The New Yorker\n"
       ]
      },
      {
       "output_type": "stream",
       "stream": "stdout",
       "text": [
        "\n",
        "URL badly formatted"
       ]
      },
      {
       "output_type": "stream",
       "stream": "stdout",
       "text": [
        "\n",
        "URL badly formatted\n",
        "URL badly formatted\n",
        "URL badly formatted\n",
        "URL badly formatted\n",
        "URL badly formatted\n",
        "URL badly formatted\n",
        "Can Chris Rock Make the Leap to Leading Man?\n"
       ]
      },
      {
       "output_type": "stream",
       "stream": "stdout",
       "text": [
        "\n",
        "URL badly formatted\n",
        "URL badly formatted\n",
        "URL badly formatted\n",
        "URL badly formatted\n",
        "URL badly formatted\n",
        "Hans Ulrich Obrist, the Curator Who Never Sleeps\n"
       ]
      },
      {
       "output_type": "stream",
       "stream": "stdout",
       "text": [
        "\n",
        "URL badly formatted\n",
        "New York\u2019s Verdict: We Can\u2019t Breathe - The New Yorker\n"
       ]
      },
      {
       "output_type": "stream",
       "stream": "stdout",
       "text": [
        "\n",
        "URL badly formatted"
       ]
      },
      {
       "output_type": "stream",
       "stream": "stdout",
       "text": [
        "\n",
        "URL badly formatted\n",
        "URL badly formatted\n",
        "URL badly formatted\n",
        "Why Cameras on Police Officers Won\u2019t Save Us - The New Yorker\n"
       ]
      },
      {
       "output_type": "stream",
       "stream": "stdout",
       "text": [
        "\n",
        "URL badly formatted"
       ]
      },
      {
       "output_type": "stream",
       "stream": "stdout",
       "text": [
        "\n",
        "URL badly formatted\n",
        "The Carnival Logic of \u201cAmerican Horror Story: Freak Show\u201d\n"
       ]
      },
      {
       "output_type": "stream",
       "stream": "stdout",
       "text": [
        "\n",
        "No Such Thing as Racial Profiling\n"
       ]
      },
      {
       "output_type": "stream",
       "stream": "stdout",
       "text": [
        "\n",
        "URL badly formatted"
       ]
      },
      {
       "output_type": "stream",
       "stream": "stdout",
       "text": [
        "\n",
        "URL badly formatted\n",
        "URL badly formatted\n",
        "URL badly formatted\n",
        "The View from a Bridge\n"
       ]
      },
      {
       "output_type": "stream",
       "stream": "stdout",
       "text": [
        "\n",
        "A Risky Novel of Seduction and Betrayal\n"
       ]
      },
      {
       "output_type": "stream",
       "stream": "stdout",
       "text": [
        "\n",
        "URL badly formatted\n",
        "Why Cameras on Police Officers Won\u2019t Save Us - The New Yorker\n"
       ]
      },
      {
       "output_type": "stream",
       "stream": "stdout",
       "text": [
        "\n",
        "\n",
        " ALREADY IN SET \n"
       ]
      },
      {
       "output_type": "stream",
       "stream": "stdout",
       "text": [
        "\n",
        "URL badly formatted\n",
        "URL badly formatted\n",
        "URL badly formatted\n",
        "No Such Thing as Racial Profiling\n"
       ]
      },
      {
       "output_type": "stream",
       "stream": "stdout",
       "text": [
        "\n",
        "\n",
        " ALREADY IN SET \n"
       ]
      },
      {
       "output_type": "stream",
       "stream": "stdout",
       "text": [
        "\n",
        "An Alaskan Poet\u2019s Lyrics of Sex and Power\n"
       ]
      },
      {
       "output_type": "stream",
       "stream": "stdout",
       "text": [
        "\n",
        "URL badly formatted\n",
        "URL badly formatted\n",
        "URL badly formatted\n",
        "Tables for Two: Turntable Retro Bar & Restaurant Mad for Chicken\n"
       ]
      },
      {
       "output_type": "stream",
       "stream": "stdout",
       "text": [
        "\n",
        "URL badly formatted\n",
        "URL badly formatted\n",
        "URL badly formatted\n",
        "The Wu-Tang Clan\u2019s \u201cA Better Tomorrow\u201d\n"
       ]
      },
      {
       "output_type": "stream",
       "stream": "stdout",
       "text": [
        "\n",
        "URL badly formatted\n",
        "/realestate/in-northeast-dc-brian-levy-seeks-to-spark-a-revolution-with-his-innovative-micro-house/2014/12/04/53642712-339b-11e4-9e92-0899b306bbea_story.html\n",
        "http://www.washingtonpost.com/opinions/how-washington-made-itself-irrelevant/2014/12/04/d1a1fec0-74c2-11e4-9d9b-86d397daad27_story.html\n",
        "How Washington made itself irrelevant - The Washington Post\n"
       ]
      },
      {
       "output_type": "stream",
       "stream": "stdout",
       "text": [
        "\n",
        "/national\n",
        "http://www.washingtonpost.com/blogs/reliable-source/wp/2014/12/04/jenna-bush-hager-hanky-panky-and-the-white-house-roof/\n",
        "Jenna Bush Hager, hanky-panky, and the White House roof - The Washington Post\n"
       ]
      },
      {
       "output_type": "stream",
       "stream": "stdout",
       "text": [
        "\n",
        "/lifestyle/style/when-pretending-to-be-joan-rivers-is-your-job-when-is-it-okay-to-get-back-to-work/2014/12/04/076700d6-70c3-11e4-8808-afaa1e3a33ef_story.html\n",
        "http://www.washingtonpost.com/wp-srv/interactivity/corrections/\n",
        "http://www.washingtonpost.com/entertainment/museums\n",
        "http://www.washingtonpost.com/news/storyline/wp/2014/12/04/police-union-on-brown-and-garner-we-dont-believe-its-an-issue-of-race-we-believe-its-an-issue-of-poverty/\n",
        "Police union: \u2018We don\u2019t believe it\u2019s an issue of race. We believe it\u2019s an issue of poverty\u2019 - The Washington Post\n"
       ]
      },
      {
       "output_type": "stream",
       "stream": "stdout",
       "text": [
        "\n",
        "http://www.washingtonpost.com/terms-of-service/2011/11/18/gIQAldiYiN_sto\r\n",
        "ry.html\n",
        "http://www.washingtonpost.com/news/checkpoint/wp/2014/12/04/french-horns-snow-shoes-tvs-pentagon-details-what-it-gives-to-u-s-police/\n",
        "French horns? Snowshoes? TVs? Pentagon details what it gives to U.S. police - The Washington Post\n"
       ]
      },
      {
       "output_type": "stream",
       "stream": "stdout",
       "text": [
        "\n",
        "http://www.washingtonpost.com/capital_business?tid=hpModule_a2e19bf4-86a3-11e2-9d71-f0feafdd1394\n",
        "0\n",
        "http://www.washingtonpost.com/blogs/the-fix/wp/2014/12/04/i-honestly-dont-know-what-to-say-jon-stewart-goes-serious-on-eric-garner/?tid=pm_pop\n",
        "\u2018I honestly don\u2019t know what to say\u2019; Jon Stewart gets serious on Eric Garner - The Washington Post\n"
       ]
      },
      {
       "output_type": "stream",
       "stream": "stdout",
       "text": [
        "\n",
        "http://www.washingtonpost.com/news/storyline\n",
        "/national/health-science/research-casts-alarming-light-on-decline-of-west-antarctic-ice-sheets/2014/12/04/19efd3e4-7bbe-11e4-84d4-7c896b90abdc_story.html\n",
        "http://www.washingtonpost.com/weather\n",
        "http://www.washingtonpost.com/lifestyle/blogs-columns\n",
        "http://www.washingtonpost.com/opinions/toles\n",
        "http://www.washingtonpost.com/opinions/a-safe-zone-in-syria-would-be-a-forward-step-in-the-islamic-state-fight/2014/12/04/fda912f0-7b17-11e4-84d4-7c896b90abdc_story.html\n",
        "A safe zone in Syria would be a forward step in the Islamic State fight - The Washington Post\n"
       ]
      },
      {
       "output_type": "stream",
       "stream": "stdout",
       "text": [
        "\n",
        "http://www.washingtonpost.com/lifestyle/on-parenting\n",
        "/lifestyle/style/top-two-new-republic-editors-resign-after-clashing-with-owner-chris-hughes/2014/12/04/2b8f19b6-7c09-11e4-9a27-6fdbc612bff8_story.html?tid=hpModule_1f58c93a-8a7a-11e2-98d9-3012c1cd8d1e\n",
        "http://www.washingtonpost.com/lifestyle/weddings\n",
        "http://www.washingtonpost.com/opinions/personalities\n",
        "http://www.washingtonpost.com/md\n",
        "http://www.washingtonpost.com/blogs\n",
        "http://www.washingtonpost.com/blogs/the-switch/wp/2014/12/04/the-big-winner-of-the-holiday-season-so-far-mobile-shopping/\n",
        "The big winner of the holiday season so far: mobile shopping - The Washington Post\n"
       ]
      },
      {
       "output_type": "stream",
       "stream": "stdout",
       "text": [
        "\n",
        "http://www.washingtonpost.com/blogs/dc-sports-bog/wp/2014/12/04/rams-coach-jeff-fisher-says-rgiii-is-too-talented-to-be-done-in-the-nfl/?tid=hpModule_a4df998e-86a7-11e2-9d71-f0feafdd1394\n",
        "Rams Coach Jeff Fisher says RGIII is too talented to be done in the NFL - The Washington Post\n"
       ]
      },
      {
       "output_type": "stream",
       "stream": "stdout",
       "text": [
        "\n",
        "http://www.washingtonpost.com/blogs/wonkblog/wp/2014/12/04/the-long-halting-unfinished-fight-to-end-racial-profiling-in-america/\n",
        "The long, halting, unfinished fight to end racial profiling in America - The Washington Post\n"
       ]
      },
      {
       "output_type": "stream",
       "stream": "stdout",
       "text": [
        "\n",
        "http://www.washingtonpost.com/technology/blogs-columns\n",
        "http://www.washingtonpost.com/posttv/politics/first-family-sings-dances-at-national-christmas-tree-lighting/2014/12/04/004868f8-7c0d-11e4-8241-8cc0a3670239_video.html\n",
        "Content not text, or article not relevant.\n"
       ]
      },
      {
       "output_type": "stream",
       "stream": "stdout",
       "text": [
        "\n",
        "http://www.washingtonpost.com/national/blogs-columns\n",
        "/business/economy/no-gifts-for-you-parents-try-to-teach-a-christmas-lesson/2014/12/04/b28717f2-7bc8-11e4-84d4-7c896b90abdc_story.html\n",
        "http://www.washingtonpost.com/topics\n",
        "http://www.washingtonpost.com/blogs/federal-eye/wp/2014/12/04/former-banking-lobbyist-chairs-postal-board-as-usps-mulls-payday-loans/\n",
        "Does this postal chairman\u2019s lobbying history pose a conflict of interest? - The Washington Post\n"
       ]
      },
      {
       "output_type": "stream",
       "stream": "stdout",
       "text": [
        "\n",
        "http://www.expressnightout.com\n",
        "http://games.washingtonpost.com/games/sudoku\n",
        "https://subscribe.washingtonpost.com/acquisition/?&tid=s_006&promo=dghpsubtn\n",
        "/entertainment/museums/picturing-mary-at-the-national-museum-of-women-in-the-arts/2014/12/03/fbdaadee-7b12-11e4-b821-503cc7efed9e_story.html?tid=hpModule_5fb4f58a-8a7a-11e2-98d9-3012c1cd8d1e\n",
        "http://www.washingtonpost.com/dc\n",
        "mailto:readers@washpost.com\n",
        "http://live.washingtonpost.com/astrology-131204.html\n",
        "http://www.washingtonpost.com/ongiving\n",
        "http://www.washingtonpost.com/local/traffic-commuting\n",
        "http://www.washingtonpost.com/posteverything/wp/2014/12/04/even-climate-change-experts-and-activists-are-in-denial-about-climate-change/\n",
        "Even climate change experts and activists are in denial about climate change - The Washington Post\n"
       ]
      },
      {
       "output_type": "stream",
       "stream": "stdout",
       "text": [
        "\n",
        "http://www.washingtonpost.com/mdpolitics\n",
        "http://www.washingtonpost.com/rentals/?nid=top_rentals\n",
        "http://washingtonpost.com/posteverything\n",
        "/entertainment/museums/biden-celebrates-new-vision-as-work-begins-on-kennedy-center-expansion/2014/12/04/07512e9e-7b29-11e4-b821-503cc7efed9e_story.html\n",
        "http://www.washingtonpost.com/opinions/erik-wemple/2012/12/17/85b31a30-9d0c-11e0-8017-e14307b2451a_page.html\n",
        "http://www.washingtonpost.com/news/post-nation/wp/2014/12/04/new-york-mayor-bill-de-blasio-pens-an-open-letter-after-the-eric-garner-decision-there-is-much-more-to-be-done/\n",
        "New York Mayor Bill de Blasio pens an open letter after the Eric Garner decision: \u2018There is much more to be done.\u2019 - The Washington Post\n"
       ]
      },
      {
       "output_type": "stream",
       "stream": "stdout",
       "text": [
        "\n",
        "http://www.washingtonpost.com/blogs/monkey-cage/wp/2014/12/04/arab-autocrats-are-not-going-back-to-the-future/\n",
        "Arab autocrats are not going back to the future - The Washington Post\n"
       ]
      },
      {
       "output_type": "stream",
       "stream": "stdout",
       "text": [
        "\n",
        "http://www.washingtonpost.com/opinions\n",
        "http://www.washingtonpost.com/national/energy-environment\n",
        "http://www.washingtonpost.com/sports/blogs-columns\n",
        "http://www.washingtonpost.com/pr/\n",
        "/business/technology\n",
        "#\n",
        "http://www.washingtonpost.com/blogs/erik-wemple/wp/2014/12/03/ben-carson-to-wolf-blitzer-i-stand-by-my-nazi-germany-u-s-comments/?tid=pm_pop\n",
        "Ben Carson to Wolf Blitzer: I stand by my Nazi Germany-U.S. comments - The Washington Post\n"
       ]
      },
      {
       "output_type": "stream",
       "stream": "stdout",
       "text": [
        "\n",
        "http://www.washingtonpost.com/buyphotos\n",
        "http://www.washingtonpost.com/world/africa\n",
        "http://www.amazon.com/Keystone-XL-Down-Books-ebook/dp/B00C0YZKHC/ref=sr_1_1?ie=UTF8&qid=1364394338&sr=8-1&keywords=keystone+mufson\n",
        "http://findnsave.washingtonpost.com/\n",
        "http://www.washingtonpost.com/blogs/post-politics-live/liveblog/implementing-obamacare/\n",
        "http://www.washingtonpost.com/investigations\n",
        "http://www.washingtonpost.com/blogs/innovations/wp/2014/12/04/how-i-manage-a-demanding-new-york-job-while-living-in-crimea-and-caring-for-my-cancer-stricken-mother/?tid=hpModule_a2e19bf4-86a3-11e2-9d71-f0feafdd1394\n",
        "How I manage a demanding New York job while living in Crimea and caring for my cancer-stricken mother - The Washington Post\n"
       ]
      },
      {
       "output_type": "stream",
       "stream": "stdout",
       "text": [
        "\n",
        "http://www.washingtonpost.com/opinions/toles/\n",
        "http://www.washingtonpost.com/posttv/politics/first-family-sings-dances-at-national-christmas-tree-lighting/2014/12/04/004868f8-7c0d-11e4-8241-8cc0a3670239_video.html?tid=hp_mm\n",
        "Content not text, or article not relevant.\n"
       ]
      },
      {
       "output_type": "stream",
       "stream": "stdout",
       "text": [
        "\n",
        "http://www.washingtonpost.com/blogs/worldviews/wp/2014/12/04/the-problem-with-the-u-s-policy-of-no-ransoms-rescues-are-very-very-difficult/\n",
        "The problem with the U.S. policy of no ransoms? Hostage rescues are very, very difficult. - The Washington Post\n"
       ]
      },
      {
       "output_type": "stream",
       "stream": "stdout",
       "text": [
        "\n",
        "http://www.washingtonpost.com/local/crime\n",
        "http://www.washingtonpost.com/sports/redskins\n",
        "http://www.washingtonpost.com/robert-thomson/2011/03/08/ABxG2JP_page.html\n",
        "http://findnsave.washingtonpost.com\n",
        "/politics/federal_government/major-civil-rights-coalition-opposes-postal-consolidation-hits-officials-appointment/2014/12/04/b9f269a0-7bdd-11e4-84d4-7c896b90abdc_story.html?tid=hpModule_308f7142-9199-11e2-bdea-e32ad90da239\n",
        "http://www.washingtonpost.com/blogs/wonkblog/\n",
        "http://www.washingtonpost.com/sports/redskins/for-jay-gruden-the-best-place-for-robert-griffin-iii-is-elsewhere/2014/12/03/911e0cde-7a69-11e4-9a27-6fdbc612bff8_story.html?tid=pm_pop\n",
        "For Jay Gruden, the best place for Robert Griffin III is elsewhere - The Washington Post\n"
       ]
      },
      {
       "output_type": "stream",
       "stream": "stdout",
       "text": [
        "\n",
        "http://www.washingtonpost.com/entertainment/tv\n",
        "http://www.washingtonpost.com/actmgmt/help/\n",
        "http://www.washingtonpost.com/blogs/worldviews/wp/2014/12/04/abu-dhabi-police-arrested-a-suspect-in-the-case-of-a-slain-american-woman-they-also-found-a-planted-bomb/\n",
        "Abu Dhabi police arrested a suspect in the case of a slain American woman. They also found a planted bomb. - The Washington Post\n"
       ]
      },
      {
       "output_type": "stream",
       "stream": "stdout",
       "text": [
        "\n",
        "http://www.washingtonpost.com/va\n",
        "http://www.washingtonpost.com/national/emily-heil/2011/10/24/gIQAbr9HDM_page.html\n",
        "http://www.washingtonpost.com/opinions/residents-of-prince-georges-have-waited-too-long-for-improved-medical-facilities/2014/12/04/22af7240-71d8-11e4-893f-86bd390a3340_story.html\n",
        "Residents of Prince George\u2019s have waited too long for improved medical facilities - The Washington Post\n"
       ]
      },
      {
       "output_type": "stream",
       "stream": "stdout",
       "text": [
        "\n",
        "http://nie.washingtonpost.com\n",
        "http://www.washingtonpost.com/local/education\n",
        "http://www.washingtonpost.com/blogs/the-fix/wp/2014/12/04/the-remarkable-collapse-of-our-trust-in-government-in-1-chart/?tid=hpModule_ba0d4c2a-86a2-11e2-9d71-f0feafdd1394\n",
        "The remarkable collapse of our trust in government, in one chart - The Washington Post\n"
       ]
      },
      {
       "output_type": "stream",
       "stream": "stdout",
       "text": [
        "\n",
        "http://www.washingtonpost.com/tim-carman/2011/05/12/AFbgMy0G_page.html\n",
        "http://www.washingtonpost.com/news/comic-riffs/wp/2014/12/04/darrin-bell-from-ferguson-to-new-york-cases-cartoonist-draws-deeply-from-the-personal-qa/\n",
        "DARRIN BELL: From Ferguson to New York cases, \u2018Candorville\u2019 cartoonist draws deeply from the personal [Q&A] - The Washington Post\n"
       ]
      },
      {
       "output_type": "stream",
       "stream": "stdout",
       "text": [
        "\n",
        "http://www.washingtonpost.com/jena-mcgregor/2011/02/28/ABWXIIQ_page.html\n",
        "http://www.washingtonpost.com/capital_business\n",
        "/local\n",
        "http://www.washingtonpost.com/opinions/david-ignatius-a-precarious-transition-in-the-house/2014/12/04/6a59f082-7be9-11e4-84d4-7c896b90abdc_story.html\n",
        "The loss of Rep. Mike Rogers as head of the House Intelligence Committee is a blow to bipartisanship - The Washington Post\n"
       ]
      },
      {
       "output_type": "stream",
       "stream": "stdout",
       "text": [
        "\n",
        "http://www.washingtonpost.com/blogs/style-blog/wp/2014/12/03/the-white-house-celebrates-the-holidays-with-a-tree-too-big-to-fit-through-the-door/\n",
        "The White House celebrates the holidays with a tree too big to fit through the door - The Washington Post\n"
       ]
      },
      {
       "output_type": "stream",
       "stream": "stdout",
       "text": [
        "\n",
        "http://www.washingtonpost.com\n",
        "/realestate/ballston-rows-big-open-layout-townhouses-draw-buyers/2014/11/26/a305c436-71d2-11e4-893f-86bd390a3340_story.html?tid=hpModule_6032d2d6-919e-11e2-bdea-e32ad90da239\n",
        "http://www.washingtonpost.com/business/on-it\n",
        "http://live.washingtonpost.com/tv-chat-1401204.html\n",
        "http://www.washingtonpost.com/lifestyle/wellness\n",
        "http://www.washingtonpost.com/todays_paper/updates\n",
        "http://www.washingtonpost.com/blogs/where-we-live/wp/2014/12/04/thirty-year-fixed-rate-tumbles-to-lowest-level-in-19-months-as-mortgage-rates-fall/?tid=hpModule_6032d2d6-919e-11e2-bdea-e32ad90da239\n",
        "Content not text, or article not relevant.\n"
       ]
      },
      {
       "output_type": "stream",
       "stream": "stdout",
       "text": [
        "\n",
        "http://www.washingtonpost.com/entertainment/horoscopes\n",
        "/world/national-security/iran-extends-detention-of-post-journalist-jason-rezaian-for-up-to-60-more-days/2014/12/03/06bcfdee-7b3f-11e4-b821-503cc7efed9e_story.html?tid=hpModule_04941f10-8a79-11e2-98d9-3012c1cd8d1e\n",
        "http://www.washingtonpost.com/blogs/capital-weather-gang/wp/2014/12/04/pm-update-rain-moves-in-this-evening-fallstreak-clouds-over-d-c/\n",
        "PM Update: Rain moves in this evening; Fallstreak clouds over D.C. - The Washington Post\n"
       ]
      },
      {
       "output_type": "stream",
       "stream": "stdout",
       "text": [
        "\n",
        "http://live.washingtonpost.com/web-hostess-141204.html\n",
        "http://www.washingtonpost.com/entertainment\n",
        "http://www.washingtonpost.com/world/day-in-photos/2014/12/04/4d101a36-7bb4-11e4-84d4-7c896b90abdc_gallery.html\n",
        "Day in photos - The Washington Post\n"
       ]
      },
      {
       "output_type": "stream",
       "stream": "stdout",
       "text": [
        "\n",
        "/sports"
       ]
      },
      {
       "output_type": "stream",
       "stream": "stdout",
       "text": [
        "\n",
        "http://www.washingtonpost.com/realestate/\n",
        "http://www.washingtonpost.com/blogs/style-blog/wp/2014/12/04/bill-cosbys-honorary-title-revoked-by-u-s-navy/\n",
        "Bill Cosby\u2019s honorary title revoked by U.S. Navy - The Washington Post\n"
       ]
      },
      {
       "output_type": "stream",
       "stream": "stdout",
       "text": [
        "\n",
        "http://www.washingtonpost.com/national/\n",
        "http://www.washingtonpost.com/news/to-your-health/wp/2014/12/04/this-flu-season-could-be-a-bad-one-cdc-says/\n",
        "This flu season could be a bad one, CDC says - The Washington Post\n"
       ]
      },
      {
       "output_type": "stream",
       "stream": "stdout",
       "text": [
        "\n",
        "http://www.washingtonpost.com/local/obituaries\n",
        "http://www.washingtonpost.com/news/post-nation/wp/2014/12/04/teens-are-better-than-us-at-everything-and-this-teens-cute-mugshot-is-proof/\n",
        "Teens are better than us at everything, and this teen\u2019s \u2018cute mugshot\u2019 is proof - The Washington Post\n"
       ]
      },
      {
       "output_type": "stream",
       "stream": "stdout",
       "text": [
        "\n",
        "http://live.washingtonpost.com/got-plans-12-04-2014.html\n",
        "http://www.washingtonpost.com/entertainment/books\n",
        "http://www.washingtonpost.com/dcpolitics\n",
        "http://www.washingtonpost.com/the-posts-view/2011/12/07/gIQAoEIscO_page.html\n",
        "http://games.washingtonpost.com/games/klondike-solitaire-gold/\n",
        "http://www.washingtonpost.com/sports/othersports\n",
        "/sports/redskins/for-jay-gruden-the-best-place-for-robert-griffin-iii-is-elsewhere/2014/12/03/911e0cde-7a69-11e4-9a27-6fdbc612bff8_story.html?tid=hpModule_a4df998e-86a7-11e2-9d71-f0feafdd1394\n",
        "http://www.washingtonpost.com/blogs/wonkblog/wp/2014/12/04/asthma-like-so-many-other-factors-in-eric-garners-death-is-correlated-with-race/?tid=hpModule_9d3add6c-8a79-11e2-98d9-3012c1cd8d1e\n",
        "The racial divide in America is this elemental: Blacks and whites actually breathe different air. - The Washington Post\n"
       ]
      },
      {
       "output_type": "stream",
       "stream": "stdout",
       "text": [
        "\n",
        "http://www.washingtonpost.com/how-can-i-opt-out-of-online-advertising-co\r\n",
        "okies/2011/11/18/gIQABECbiN_story.html\n",
        "http://www.washingtonpost.com/jobs/home\n",
        "http://www.washingtonpost.com//posttv.com\n",
        "http://www.washingtonpost.com/world/asia-pacific\n",
        "http://www.washingtonpost.com/news/post-nation/wp/2014/12/04/new-york-mayor-bill-de-blasio-and-police-union-officials-clash-after-grand-jury-decision-in-eric-garners-death/\n",
        "New York Mayor, police union officials clash after grand jury decision in Eric Garner\u2019s death - The Washington Post\n"
       ]
      },
      {
       "output_type": "stream",
       "stream": "stdout",
       "text": [
        "\n",
        "http://www.washingtonpost.com/business\n",
        "/politics/republican-senators-say-theyll-block-obamas-choice-to-lead-social-security/2014/12/03/20a28dcc-7b45-11e4-84d4-7c896b90abdc_story.html?tid=hpModule_308f7142-9199-11e2-bdea-e32ad90da239\n",
        "http://posttv.com\n",
        "http://www.washingtonpost.com/blogs/dc-sports-bog/wp/2014/12/04/when-youre-feeling-down-watch-john-wall-shimmy/\n",
        "When you\u2019re feeling down, watch John Wall shimmy - The Washington Post\n"
       ]
      },
      {
       "output_type": "stream",
       "stream": "stdout",
       "text": [
        "\n",
        "http://www.washingtonpost.com/blogs/the-fix/wp/2014/12/04/6-things-you-didnt-read-today-but-should-have-4/\n",
        "6 things you didn\u2019t read today (but should have) - The Washington Post\n"
       ]
      },
      {
       "output_type": "stream",
       "stream": "stdout",
       "text": [
        "\n",
        "http://washingtonpostwine.com/\n",
        "http://www.washingtonpost.com/realestate\n",
        "/sports/nationals/openly-gay-baseball-umpire-dale-scott-is-happy-his-story-became-a-non-story/2014/12/04/40160c18-7bbf-11e4-9a27-6fdbc612bff8_story.html\n",
        "http://www.washingtonpost.com/blogs/dr-gridlock/wp/2014/12/04/expect-large-crowds-for-downtown-events/\n",
        "Expect large crowds for downtown events - The Washington Post\n"
       ]
      },
      {
       "output_type": "stream",
       "stream": "stdout",
       "text": [
        "\n",
        "http://www.washingtonpost.com/blogs/wonkblog/wp/2014/12/04/plunging-oil-prices-spell-trouble-for-alaska-americas-own-petro-state/?tid=hpModule_79c38dfc-8691-11e2-9d71-f0feafdd1394\n",
        "Plunging oil prices spell trouble for Alaska, America\u2019s own petro-state - The Washington Post\n"
       ]
      },
      {
       "output_type": "stream",
       "stream": "stdout",
       "text": [
        "\n",
        "http://www.washingtonpost.com/local\n",
        "http://www.washingtonpost.com/politics\n",
        "http://www.washingtonpost.com/amy-argetsinger/2011/02/02/ABoviAJ_page.html\n",
        "/local/dc-politics/memorial-events-for-former-mayor-marion-barry-begin-at-wilson-building/2014/12/04/f5fd55b4-7b00-11e4-84d4-7c896b90abdc_story.html?tid=hpModule_99d5f542-86a2-11e2-9d71-f0feafdd1394\n",
        "http://www.washingtonpost.com/business/technology\n",
        "/world/national-security/book-review-twilight-of-the-eastern-gods-by-ismail-kadare/2014/12/04/9e5bc2d6-7016-11e4-8808-afaa1e3a33ef_story.html?tid=hpModule_5fb4f58a-8a7a-11e2-98d9-3012c1cd8d1e\n",
        "http://www.washingtonpost.com/letters-to-the-editor/2010/07/06/ABjQAIP_linkset.html\n",
        "http://www.washingtonpost.com/blogs/post-politics/wp/2014/12/04/many-liberals-and-conservatives-find-themselves-on-common-ground-following-the-garner-decision/\n",
        "Many liberals and conservatives find themselves on common ground following the Garner decision - The Washington Post\n"
       ]
      },
      {
       "output_type": "stream",
       "stream": "stdout",
       "text": [
        "\n",
        "/politics/house-republicans-repudiate-obamas-immigration-actions/2014/12/04/7cc56a60-7bdc-11e4-84d4-7c896b90abdc_story.html\n",
        "http://www.washingtonpost.com/blogs/erik-wemple/wp/2014/12/04/new-york-police-union-official-blames-media-over-eric-garner-case/\n",
        "New York police union official blames media over Eric Garner case - The Washington Post\n"
       ]
      },
      {
       "output_type": "stream",
       "stream": "stdout",
       "text": [
        "\n",
        "http://www.washingtonpost.com/sports/capitals\n",
        "http://www.washingtonpost.com/posttv/national/on-leadership/etsys-ceo-on-taking-paternity-leave--on-leadership/2014/12/04/93664d98-7bc8-11e4-8241-8cc0a3670239_video.html?tid=hp_mm\n",
        "Content not text, or article not relevant.\n"
       ]
      },
      {
       "output_type": "stream",
       "stream": "stdout",
       "text": [
        "\n",
        "http://live.washingtonpost.com/\n",
        "http://www.washingtonpost.com/news/post-nation/wp/2014/12/04/washington-state-man-accused-of-making-threats-against-darren-wilson-ex-ferguson-cop-who-shot-michael-brown/\n",
        "Washington state man accused of making threats against Darren Wilson, ex-Ferguson cop who shot Michael Brown - The Washington Post\n"
       ]
      },
      {
       "output_type": "stream",
       "stream": "stdout",
       "text": [
        "\n",
        "http://pqasb.pqarchiver.com/washingtonpost/search.html\n",
        "http://www.washingtonpost.com/sf/brand-connect/\n",
        "http://www.washingtonpost.com/news/checkpoint/wp/2014/12/04/hagel-says-resignation-followed-series-of-conversations-with-president/\n",
        "Hagel says resignation followed series of conversations with president - The Washington Post\n"
       ]
      },
      {
       "output_type": "stream",
       "stream": "stdout",
       "text": [
        "\n",
        "http://www.washingtonpost.com/blogs/reliable-source/wp/2014/12/04/jenna-bush-hager-hanky-panky-and-the-white-house-roof/?tid=pm_pop\n",
        "Jenna Bush Hager, hanky-panky, and the White House roof - The Washington Post\n"
       ]
      },
      {
       "output_type": "stream",
       "stream": "stdout",
       "text": [
        "\n",
        "\n",
        " ALREADY IN SET \n",
        "\n",
        "http://www.washingtonpost.com/2011/02/24/ABPqBzI_page.html\n",
        "http://www.washingtonpost.com/katie-zezima/2014/03/27/f132a5c8-b5c3-11e3-8cb6-284052554d74_page.html\n",
        "Katie Zezima - The Washington Post\n"
       ]
      },
      {
       "output_type": "stream",
       "stream": "stdout",
       "text": [
        "\n",
        "http://www.washingtonpost.com/blogs#business\n",
        "https://subscribe.washingtonpost.com/acquisition/?oscode=RPW2&tid=s_005&promo=dghpfooter\n",
        "http://www.washingtonpost.com/blogs/football-insider/wp/2014/12/04/jay-gruden-could-consider-adding-quarterbacks-coach-to-staff-next-year/\n",
        "Jay Gruden could consider adding quarterbacks coach to staff next year - The Washington Post\n"
       ]
      },
      {
       "output_type": "stream",
       "stream": "stdout",
       "text": [
        "\n",
        "http://www.washingtonpost.com/jonnelle-marte/2014/05/05/1186a2d6-d480-11e3-95d3-3bcd77cd4e11_page.html\n",
        "Jonnelle Marte - The Washington Post\n"
       ]
      },
      {
       "output_type": "stream",
       "stream": "stdout",
       "text": [
        "\n",
        "http://www.washingtonpost.com/blogs/early-lead/wp/2014/12/03/winona-state-gymnast-brooke-baures-dies-following-accident-in-food-service-elevator/\n",
        "Winona State gymnast Brooke Baures dies following accident in food-service elevator - The Washington Post\n"
       ]
      },
      {
       "output_type": "stream",
       "stream": "stdout",
       "text": [
        "\n",
        "http://www.washingtonpost.com/world/americas\n",
        "http://www.washingtonpost.com/blogs/worldviews\n",
        "http://www.washingtonpost.com/blogs/local/wp/2014/12/04/more-protests-planned-for-d-c-on-thursday/?tid=hpModule_99d5f542-86a2-11e2-9d71-f0feafdd1394\n",
        "More protests underway in D.C. on Thursday - The Washington Post\n"
       ]
      },
      {
       "output_type": "stream",
       "stream": "stdout",
       "text": [
        "\n",
        "http://www.washingtonpost.com/angela-fritz/2014/06/27/c084e65c-fe0c-11e3-932c-0a55b81f48ce_page.html\n",
        "Angela Fritz - The Washington Post\n"
       ]
      },
      {
       "output_type": "stream",
       "stream": "stdout",
       "text": [
        "\n",
        "http://www.washingtonpost.com/news/digger/\n",
        "http://www.washingtonpost.com/local/blogs-columns\n",
        "http://www.washingtonpost.com/lifestyle/kidspost\n",
        "http://www.washingtonpost.com/privacy-policy/2011/11/18/gIQASIiaiN_story\r\n",
        ".html\n",
        "http://www.washingtonpost.com/lifestyle/\n",
        "http://www.washingtonpost.com/opinions/jay-sterling-silver-fixing-the-conflict-of-interest-at-the-core-of-police-brutality-cases/2014/12/04/0233e6e2-7b1d-11e4-b821-503cc7efed9e_story.html\n",
        "Fixing the conflict of interest at the core of police brutality cases - The Washington Post\n"
       ]
      },
      {
       "output_type": "stream",
       "stream": "stdout",
       "text": [
        "\n",
        "http://www.washingtonpost.com/blogs/style-blog/wp/2014/12/04/why-does-everyone-already-hate-peter-pan-live-when-it-hasnt-even-aired-yet/\n",
        "Content not text, or article not relevant.\n"
       ]
      },
      {
       "output_type": "stream",
       "stream": "stdout",
       "text": [
        "\n",
        "http://www.washingtonpost.com/politics/courts-and-law/gJQAvz8ptW_topic.html\n",
        "http://www.washingtonpost.com/josh-hicks/2012/11/29/f025fbbe-3a4d-11e2-b01f-5f55b193f58f_page.html\n",
        "/business/shades-of-complexity-dominate-the-debate-over-net-neutrality/2014/11/27/bde4f2de-74ef-11e4-9d9b-86d397daad27_story.html\n",
        "http://www.washingtonpost.com/lifestyle/style\n",
        "http://www.washingtonpost.com/lifestyle/magazine\n",
        "http://www.washingtonpost.com/sports/highschools\n",
        "http://www.washingtonpost.com//www.washingtonpost.com/jobs/home\n",
        "https://subscribe.washingtonpost.com/loginregistration/index.html#/register/group/short?action=ereplica\n",
        "http://www.washingtonpost.com/sports/colleges\n",
        "http://www.washingtonpost.com/lenny-bernstein/2011/02/24/ABHUJyI_page.html\n",
        "http://www.washingtonpost.com/blogs/the-switch/wp/2014/12/04/u-s-contractor-has-spent-five-years-in-a-cuban-prison-for-distributing-internet-equipment/\n",
        "U.S. contractor has spent five years in a Cuban prison for distributing Internet equipment - The Washington Post\n"
       ]
      },
      {
       "output_type": "stream",
       "stream": "stdout",
       "text": [
        "\n",
        "left\n",
        "http://www.washingtonpost.com/blogs/post-politics/wp/2014/12/04/does-rahm-emanuel-miss-d-c-pardon-his-french-but-no/?tid=hpModule_ba0d4c2a-86a2-11e2-9d71-f0feafdd1394\n",
        "Does Rahm Emanuel miss D.C.? Pardon his French, but no. - The Washington Post\n"
       ]
      },
      {
       "output_type": "stream",
       "stream": "stdout",
       "text": [
        "\n",
        "/world/national-security/justice-department-finds-use-of-force-problems-in-cleveland-police-department/2014/12/04/303e0d28-7be6-11e4-b821-503cc7efed9e_story.html\n",
        "/entertainment\n",
        "http://www.twitter.com/intent/user?screen_name=washingtonpost\n",
        "http://www.thecapitoldeal.com\n",
        "http://www.washingtonpost.com/news/get-there/wp/2014/12/03/are-you-smart-enough-to-retire/\n",
        "Are you smart enough to retire? - The Washington Post\n"
       ]
      },
      {
       "output_type": "stream",
       "stream": "stdout",
       "text": [
        "\n",
        "http://fashionwashington.com\n",
        "http://www.washingtonpost.com/jennifer-rubin/2011/02/24/ABbIUXN_page.html\n",
        "http://www.washingtonpost.com/blogs/govbeat/wp/2014/12/04/what-percentage-of-politicians-support-same-sex-marriage-by-state/\n",
        "What percentage of politicians support same-sex marriage, by state - The Washington Post\n"
       ]
      },
      {
       "output_type": "stream",
       "stream": "stdout",
       "text": [
        "\n",
        "/politics\n",
        "http://www.washingtonpostwine.com/\n",
        "http://www.washingtonpost.com/politics/white-house/gJQAugUh6W_topic.html\n",
        "http://live.washingtonpost.com/home-front-1204.html\n",
        "http://www.washingtonpost.com/national/higher-education\n",
        "http://www.washingtonpost.com/posteverything/wp/2014/12/04/i-refuse-to-post-a-single-picture-of-my-baby-on-facebook/\n",
        "I refuse to post a single picture of my baby on Facebook - The Washington Post\n"
       ]
      },
      {
       "output_type": "stream",
       "stream": "stdout",
       "text": [
        "\n",
        "http://www.washingtonpost.com/discussions\n",
        "http://www.washingtonpost.com/blogs/the-switch/\n",
        "http://www.washingtonpost.com/blogs/wonkblog/wp/2014/12/04/weve-reached-a-tipping-point-when-charles-krauthammer-is-more-outspoken-on-police-abuses-than-barack-obama/\n",
        "We\u2019ve reached a tipping point when Charles Krauthammer is more outspoken on police abuses than Barack Obama - The Washington Post\n"
       ]
      },
      {
       "output_type": "stream",
       "stream": "stdout",
       "text": [
        "\n",
        "http://www.washingtonpost.com/blogs/worldviews/wp/2014/12/04/despite-beheadings-americans-are-still-overwhelmingly-against-paying-ransoms-to-terrorists/?tid=hpModule_04941f10-8a79-11e2-98d9-3012c1cd8d1e\n",
        "Despite beheadings, Americans are still overwhelmingly against paying ransoms to terrorists - The Washington Post\n"
       ]
      },
      {
       "output_type": "stream",
       "stream": "stdout",
       "text": [
        "\n",
        "http://www.thecapitoldeal.com/\n",
        "http://www.washingtonpost.com/vapolitics\n",
        "http://www.washingtonpost.com/news/the-intersect/wp/2014/12/04/the-glaring-problem-with-crimingwhilewhite/\n",
        "The glaring problem with #CrimingWhileWhite - The Washington Post\n"
       ]
      },
      {
       "output_type": "stream",
       "stream": "stdout",
       "text": [
        "\n",
        "http://www.washingtonpost.com/world\n",
        "http://www.washingtonpost.com/opinions/local-opinions\n",
        "http://games.washingtonpost.com/games/eggz-classic\n",
        "http://www.washingtonpost.com/\n",
        "http://www.washingtonpost.com/blogs/erik-wemple/wp/2014/12/04/huge-shakeup-at-the-new-republic-what-does-this-vanity-publisher-want/\n",
        "Huge shakeup at The New Republic: What does this vanity publisher want? - The Washington Post\n"
       ]
      },
      {
       "output_type": "stream",
       "stream": "stdout",
       "text": [
        "\n",
        "http://www.washingtonpost.com/caitlin-dewey/2012/10/25/4a0dc746-1d2b-11e2-b647-bb1668e64058_page.html\n",
        "/local/crime/police-mans-body-found-on-baseball-diamond-in-pr-georges-county-park/2014/12/04/bcdf3a2c-7bcd-11e4-9a27-6fdbc612bff8_story.html?tid=hpModule_99d5f542-86a2-11e2-9d71-f0feafdd1394\n",
        "/business/starbucks-launches-pay-ahead-in-portland/2014/12/04/0d9053e2-7bcf-11e4-8241-8cc0a3670239_story.html?tid=hpModule_a2e19bf4-86a3-11e2-9d71-f0feafdd1394\n",
        "http://www.washingtonpost.com/blogs/post-partisan/wp/2014/12/04/black-males-and-the-cops-who-kill-them/\n",
        "Black males and the cops who kill them - The Washington Post\n"
       ]
      },
      {
       "output_type": "stream",
       "stream": "stdout",
       "text": [
        "\n",
        "http://www.washingtonpost.com/national/health-science\n",
        "http://knowmore.washingtonpost.com/\n",
        "http://www.washingtonpost.com/entertainment/music\n",
        "/lifestyle\n",
        "http://www.washingtonpost.com/lifestyle\n",
        "http://www.washingtonpost.com/blogs/post-partisan/wp/2014/12/04/after-brown-and-garner-limiting-the-downside-of-police-body-cameras/\n",
        "After Brown and Garner, limiting the downside of police body cameras - The Washington Post\n"
       ]
      },
      {
       "output_type": "stream",
       "stream": "stdout",
       "text": [
        "\n",
        "http://www.washingtonpost.com/national\n",
        "http://www.washingtonpost.com/lifestyle/travel\n",
        "http://www.washingtonpost.com/business/get-there\n",
        "http://www.washingtonpost.com/blogs/capital-weather-gang/wp/2014/12/04/dangerous-super-typhoon-hagupit-on-collision-course-with-philippines/?tid=hpModule_04941f10-8a79-11e2-98d9-3012c1cd8d1e\n",
        "Dangerous Super Typhoon Hagupit on collision course with Philippines - The Washington Post\n"
       ]
      },
      {
       "output_type": "stream",
       "stream": "stdout",
       "text": [
        "\n",
        "http://www.washingtonpost.com/opinions/charles-krauthammer-the-real-fight-is-among-the-democrats/2014/12/04/380743f2-7c00-11e4-84d4-7c896b90abdc_story.html\n",
        "The real fight is among the Democrats - The Washington Post\n"
       ]
      },
      {
       "output_type": "stream",
       "stream": "stdout",
       "text": [
        "\n",
        "http://www.washingtonpost.com/gog/?nid=top_gog\n",
        "http://www.washingtonpost.com/news/morning-mix/wp/2014/04/28/knoxville-cop-fired-immediately-after-photos-show-brutal-choking-of-student/?tid=pm_pop\n",
        "Knox County cop fired immediately after photos show brutal choking of student - The Washington Post\n"
       ]
      },
      {
       "output_type": "stream",
       "stream": "stdout",
       "text": [
        "\n",
        "http://www.washingtonpost.com/lifestyle/home-garden\n",
        "http://www.washingtonpost.com/wp-srv/contents/mobile/\n",
        "http://www.washingtonpost.com/alex-prewitt/2012/09/05/ac1451ae-f773-11e1-8b93-c4f4ab1c8d13_page.html\n",
        "/\n",
        "http://www.washingtonpost.com/blogs/worldviews/\n",
        "http://www.washingtonpost.com/world/europe\n",
        "http://advertising.washingtonpost.com/index.php\n",
        "/business\n",
        "http://www.facebook.com/washingtonpost\n",
        "http://www.washingtonpost.com/lifestyle/style/white-house-2014-holiday-decorations/2014/12/03/13f67a54-7b39-11e4-84d4-7c896b90abdc_gallery.html\n",
        "White House 2014 holiday decorations - The Washington Post\n"
       ]
      },
      {
       "output_type": "stream",
       "stream": "stdout",
       "text": [
        "\n",
        "http://www.washingtonpost.com/blogs/ask-the-post/wp/2014/12/03/live-chat-pages-get-an-updated-design/"
       ]
      },
      {
       "output_type": "stream",
       "stream": "stdout",
       "text": [
        "\n",
        "Content not text, or article not relevant.\n"
       ]
      },
      {
       "output_type": "stream",
       "stream": "stdout",
       "text": [
        "\n",
        "http://www.washingtonpost.com/politics/blogs-columns\n",
        "http://www.washingtonpost.com/blogs/right-turn/wp/2014/12/04/defense-spending-bill-passes-sequester-must-now-go/\n",
        "Defense spending bill passes, sequester must now go - The Washington Post\n"
       ]
      },
      {
       "output_type": "stream",
       "stream": "stdout",
       "text": [
        "\n",
        "http://www.washingtonpost.com/lifestyle/advice\n",
        "http://www.washingtonpost.com/blogs/nationals-journal/wp/2014/12/03/denard-span-has-sports-hernia-surgery-is-expected-to-be-ready-for-spring-training/\n",
        "Denard Span has sports hernia surgery (updated) - The Washington Post\n"
       ]
      },
      {
       "output_type": "stream",
       "stream": "stdout",
       "text": [
        "\n",
        "http://www.washingtonpost.com/opinions/telnaes\n",
        "/opinions/after-the-death-of-eric-garner-justice-is-stifled/2014/12/04/75eecdf8-7beb-11e4-84d4-7c896b90abdc_story.html\n",
        "http://www.washingtonpost.com/wp-srv/guidelines/corrections.html\n",
        "http://games.washingtonpost.com/games/mahjongg-dimensions\n",
        "https://ssl.washingtonpost.com/actmgmt/registration/addnewsletter/long\n",
        "http://washpost.bloomberg.com/market-news/\n",
        "http://www.washingtonpost.com/blogs/the-fix/wp/2014/12/04/i-honestly-dont-know-what-to-say-jon-stewart-goes-serious-on-eric-garner/\n",
        "\u2018I honestly don\u2019t know what to say\u2019; Jon Stewart gets serious on Eric Garner - The Washington Post\n"
       ]
      },
      {
       "output_type": "stream",
       "stream": "stdout",
       "text": [
        "\n",
        "\n",
        " ALREADY IN SET \n",
        "\n",
        "http://www.washingtonpost.com/rss\n",
        "https://subscribe.washingtonpost.com/acquisition/?oscode=RPW2&promo=dgtodayspaper&tid=sub_s0024\n",
        "http://www.washingtonpost.com/blogs/the-switch/wp/2014/12/04/in-the-global-struggle-for-internet-freedom-the-internet-is-losing-report-finds/\n",
        "In the \u2018global struggle for Internet freedom,\u2019 the Internet is losing, report finds - The Washington Post\n"
       ]
      },
      {
       "output_type": "stream",
       "stream": "stdout",
       "text": [
        "\n",
        "http://www.washingtonpost.com/posttv/entertainment/stings-unique-style-spans-decades--kennedy-center-honors/2014/12/03/b40d184a-7b2a-11e4-8241-8cc0a3670239_video.html?tid=hp_mm\n",
        "Content not text, or article not relevant.\n"
       ]
      },
      {
       "output_type": "stream",
       "stream": "stdout",
       "text": [
        "\n",
        "/opinions/fareed-zakaria-a-pentagon-out-of-control/2014/12/04/270db314-7bf7-11e4-84d4-7c896b90abdc_story.html\n",
        "http://www.washingtonpost.com/politics/federal-government\n",
        "http://www.washingtonpost.com/photography/\n",
        "http://www.washingtonpost.com/posteverything/wp/2014/12/04/body-cameras-wont-stop-police-brutality-eric-garner-is-only-one-of-several-reasons-why/\n",
        "Body cameras won\u2019t stop police brutality. Eric Garner is only one of several reasons why. - The Washington Post\n"
       ]
      },
      {
       "output_type": "stream",
       "stream": "stdout",
       "text": [
        "\n",
        "javascript:void(window.open('http://www.washingtonpost.com/wp-srv/make-homepage.html','','toolbar=no,location=no,directories=no,status=no,menubar=yes,scrollbars=yes,resizable=no,copyhistory=no,width=417,height=415,left=50,top=200,screenX=50,screenY=200'));\n",
        "http://www.washingtonpost.com/classifieds\n",
        "http://www.washingtonpost.com/cars\n",
        "http://www.washingtonpost.com/sports\n",
        "http://www.washingtonpost.com/scott-allen/2014/03/26/33fc51c4-b506-11e3-8cb6-284052554d74_page.html\n",
        "Scott Allen - The Washington Post\n"
       ]
      },
      {
       "output_type": "stream",
       "stream": "stdout",
       "text": [
        "\n",
        "http://www.washingtonpost.com/business/on-leadership\n",
        "http://www.washingtonpost.com/blogs/govbeat\n",
        "/world/europe/chechen-militants-attack-grozny-shattering-peace-as-putin-gives-speech/2014/12/04/4c77f8df-0dd7-468d-97b0-5c4752808ef8_story.html\n",
        "http://www.washingtonpost.com/blogs/on-leadership/wp/2014/12/04/the-strength-and-limits-of-nyc-mayor-bill-de-blasios-speech-about-eric-garners-death/\n",
        "The strength, and limits, of de Blasio\u2019s speech about Eric Garner - The Washington Post\n"
       ]
      },
      {
       "output_type": "stream",
       "stream": "stdout",
       "text": [
        "\n",
        "http://www.washingtonpost.com/express\n",
        "/lifestyle/style/carolyn-hax-pushing-for-marriage-scares-off-boyfriend/2014/12/03/f493d57e-71a3-11e4-ad12-3734c461eab6_story.html?tid=hpModule_1f58c93a-8a7a-11e2-98d9-3012c1cd8d1e\n",
        "http://live.washingtonpost.com/gardening-1211.html\n",
        "/entertainment/music/jhene-aiko-seems-ready-to-fill-a-void-in-mainstream-randb/2014/12/03/2d733948-7aff-11e4-9a27-6fdbc612bff8_story.html?tid=hpModule_5fb4f58a-8a7a-11e2-98d9-3012c1cd8d1e\n",
        "http://www.cafepress.com/washingtonpost\n",
        "http://www.washingtonpost.com/lifestyle/food\n",
        "http://www.eltiempolatino.com\n",
        "http://www.washingtonpost.com/world/middle-east\n",
        "http://www.washingtonpost.com/michael-cavna/2011/03/04/AB01KwN_page.html\n",
        "right\n",
        "/politics/defense-bill-packed-with-non-military-matters/2014/12/03/b6eaa4e0-7b13-11e4-b821-503cc7efed9e_story.html?tid=hpModule_ba0d4c2a-86a2-11e2-9d71-f0feafdd1394\n",
        "http://www.washingtonpost.com/posttv/entertainment/year-of-the-binge-watching-baby-name/2014/12/03/e1df180a-7b29-11e4-8241-8cc0a3670239_video.html?tid=hp_mm\n",
        "Content not text, or article not relevant.\n"
       ]
      },
      {
       "output_type": "stream",
       "stream": "stdout",
       "text": [
        "\n",
        "http://www.washingtonpost.com/politics/polling\n",
        "http://postpoints.washingtonpost.com\n",
        "http://www.washingtonpost.com/opinions/catherine-rampell-men-want-women-to-be-equal-but-the-system-defeats-them/2014/12/04/1c494f7e-7bf2-11e4-9a27-6fdbc612bff8_story.html\n",
        "Catherine Rampell: Men want women to be equal, but the system defeats them - The Washington Post\n"
       ]
      },
      {
       "output_type": "stream",
       "stream": "stdout",
       "text": [
        "\n",
        "http://www.washingtonpost.com/lifestyle/home/the-poinsettia-reinvented-and-still-going-strong/2014/12/03/1ca78b8a-759d-11e4-bd1b-03009bd3e984_story.html\n",
        "The poinsettia, reinvented and still going strong - The Washington Post\n"
       ]
      },
      {
       "output_type": "stream",
       "stream": "stdout",
       "text": [
        "\n",
        "http://www.washingtonpost.com/blogs/reliable-source/wp/2014/12/04/cnns-s-e-cupp-welcomes-baby-boy/\n",
        "CNN\u2019s S.E. Cupp welcomes baby boy - The Washington Post\n"
       ]
      },
      {
       "output_type": "stream",
       "stream": "stdout",
       "text": [
        "\n",
        "http://www.washingtonpost.com/jonathan-capehart/2011/02/24/AB1tR7I_page.html\n",
        "http://www.washingtonpost.com/gog/\n",
        "http://www.washingtonpost.com/blogs/federal-eye/wp/2014/12/04/former-banking-lobbyist-chairs-postal-board-as-usps-mulls-payday-loans/?tid=hpModule_308f7142-9199-11e2-bdea-e32ad90da239\n",
        "Does this postal chairman\u2019s lobbying history pose a conflict of interest? - The Washington Post\n"
       ]
      },
      {
       "output_type": "stream",
       "stream": "stdout",
       "text": [
        "\n",
        "\n",
        " ALREADY IN SET \n",
        "\n",
        "/sports/wizards/andre-miller-gives-washington-wizards-an-age-old-solution/2014/12/04/3a30878a-7bf4-11e4-9a27-6fdbc612bff8_story.html?tid=hpModule_c7c1f590-868f-11e2-9d71-f0feafdd1394\n",
        "http://www.parade.com\n",
        "http://www.washingtonpost.com/entertainment/comics\n",
        "http://www.washingtonpost.com/news/volokh-conspiracy/wp/2014/12/04/the-standing-problem-in-zivotofsky-revisited/\n",
        "The standing problem in Zivotofsky, revisited - The Washington Post\n"
       ]
      },
      {
       "output_type": "stream",
       "stream": "stdout",
       "text": [
        "\n",
        "/realestate/where-we-live-barracks-row-from-grit-to-glamour/2014/11/26/d9950d64-636c-11e4-836c-83bc4f26eb67_story.html?tid=hpModule_6032d2d6-919e-11e2-bdea-e32ad90da239\n",
        "http://www.washingtonpost.com/sports/nationals\n",
        "http://www.washingtonpost.com/stephen-stromberg/2011/02/24/ABUFa8O_page.html\n",
        "http://www.washingtonpost.com/posttv/entertainment/picturing-mary-through-an-artistic-lens/2014/12/04/f6bee624-7b56-11e4-8241-8cc0a3670239_video.html?tid=hp_mm\n",
        "Content not text, or article not relevant.\n"
       ]
      },
      {
       "output_type": "stream",
       "stream": "stdout",
       "text": [
        "\n",
        "http://www.washingtonpost.com/opinions/eugene-robinson-the-eric-garner-cases-sickening-outcome/2014/12/03/283c0e02-7b5c-11e4-b821-503cc7efed9e_story.html\n",
        "The Eric Garner case\u2019s sickening outcome - The Washington Post\n"
       ]
      },
      {
       "output_type": "stream",
       "stream": "stdout",
       "text": [
        "\n",
        "http://www.washingtonpost.com/hayley-tsukayama/2011/03/25/AFwMAnXB_page.html\n",
        "http://www.washingtonpost.com/blogs/ask-the-post/post/reprints-and-permissions/2011/11/18/gIQAztpLlN_blog.html\n",
        "http://www.washingtonpost.com/mike-jones/2011/02/24/ABm77hP_page.html\n",
        "http://www.washingtonpost.com/national/on-innovations\n",
        "http://www.washingtonpost.com/national/religion\n",
        "http://www.washingtonpost.com/nancy-scola/2014/06/24/4b1d521c-fba2-11e3-932c-0a55b81f48ce_page.html\n",
        "Nancy Scola - The Washington Post\n"
       ]
      },
      {
       "output_type": "stream",
       "stream": "stdout",
       "text": [
        "\n",
        "/world"
       ]
      },
      {
       "output_type": "stream",
       "stream": "stdout",
       "text": [
        "\n",
        "http://www.washingtonpost.com/craig-whitlock/2011/02/28/AB5dpFP_page.html\n",
        "/sports/colleges/no-7-virginia-handles-no-21-maryland-76-65-in-accbig-ten-challenge/2014/12/04/af8baae6-7b3b-11e4-84d4-7c896b90abdc_story.html?tid=hpModule_a4df998e-86a7-11e2-9d71-f0feafdd1394\n",
        "/local/crime/prosecutors-accused-alexandria-serial-killer-was-motivated-by-child-custody-case/2014/12/04/f6ce6fa8-7c01-11e4-9a27-6fdbc612bff8_story.html?tid=hpModule_13097a0c-868e-11e2-9d71-f0feafdd1394\n",
        "http://www.washingtonpost.com/ebooks\n",
        "/lifestyle/style/three-more-bill-cosby-accusers-come-forward-this-time-with-the-assistance-of-lawyer-gloria-allred/2014/12/03/097d1186-7b2b-11e4-b821-503cc7efed9e_story.html\n",
        "/politics/the-speakers-fine-with-obama-speaking/2014/12/04/f9719a04-7bfd-11e4-84d4-7c896b90abdc_story.html?tid=hpModule_14fd66a0-9199-11e2-bdea-e32ad90da239\n",
        "http://www.washingtonpost.com/carolyn-hax/2011/02/24/ABBRcOJ_page.html\n",
        "http://www.washingtonpost.com/photography\n",
        "https://subscribe.washingtonpost.com/acquisition/?oscode=RPWH&tid=sub_s008&promo=dghpfooter\n",
        "http://www.washingtonpost.com/sports/wizards\n",
        "http://www.washingtonpost.com/world/2014s-fascinating-images/2014/01/21/7bc7c2ee-82b7-11e3-8099-9181471f7aaf_gallery.html\n",
        "2014\u2019s fascinating images - The Washington Post\n"
       ]
      },
      {
       "output_type": "stream",
       "stream": "stdout",
       "text": [
        "\n",
        "javascript:void(0);"
       ]
      },
      {
       "output_type": "stream",
       "stream": "stdout",
       "text": [
        "\n",
        "http://www.posttv.com\n",
        "http://www.washingtonpost.com/community\n",
        "http://syndication.washingtonpost.com\n",
        "http://www.washingtonpost.com/news/checkpoint/wp/2014/12/04/obama-to-nominate-next-secretary-of-defense-tomorrow/\n",
        "Obama to nominate next secretary of defense tomorrow - The Washington Post\n"
       ]
      },
      {
       "output_type": "stream",
       "stream": "stdout",
       "text": [
        "\n",
        "http://www.washingtonpost.com/lifestyle/holidayfoodguide/27-holiday-cookie-recipes-to-sweeten-the-season/2014/12/04/8bd10964-773c-11e4-a755-e32227229e7b_gallery.html\n",
        "27 holiday cookie recipes to sweeten the season - The Washington Post\n"
       ]
      },
      {
       "output_type": "stream",
       "stream": "stdout",
       "text": [
        "\n",
        "http://www.washingtonpost.com/elahe-izadi/2014/07/25/2d72340e-1433-11e4-9285-4243a40ddc97_page.html"
       ]
      },
      {
       "output_type": "stream",
       "stream": "stdout",
       "text": [
        "\n",
        "Elahe Izadi - The Washington Post\n"
       ]
      },
      {
       "output_type": "stream",
       "stream": "stdout",
       "text": [
        "\n",
        "http://www.washingtonpost.com/news/volokh-conspiracy/wp/2014/12/04/could-barry-sue-lena-dunham-over-her-memoirs/\n",
        "Could \u2018Barry\u2019 sue Lena Dunham over her memoirs? - The Washington Post\n"
       ]
      },
      {
       "output_type": "stream",
       "stream": "stdout",
       "text": [
        "\n",
        "http://washpost.bloomberg.com/worldbusiness/\n",
        "http://www.washingtonpost.com/blogs/the-switch/wp/2014/12/04/nasa-to-launch-orion-test-flight-thursday-morning/\n",
        "Orion test flight scrubbed due to valve problems - The Washington Post\n"
       ]
      },
      {
       "output_type": "stream",
       "stream": "stdout",
       "text": [
        "\n",
        "http://www.washingtonpost.com/entertainment/blogs-columns\n",
        "http://www.postmasterclass.com\n",
        "http://www.washingtonpost.com/posteverything/wp/2014/12/04/star-wars-episode-vii-please-for-the-love-of-god-as-little-politics-as-possible/\n",
        "\u2018Star Wars, Episode VII\u2019: Please, for the love of God, as little politics as possible - The Washington Post\n"
       ]
      },
      {
       "output_type": "stream",
       "stream": "stdout",
       "text": [
        "\n",
        "http://www.washingtonpost.com/james-wagner/2011/05/05/AFxWMwAG_page.html\n",
        "http://www.washingtonpost.com/world/national-security\n",
        "http://www.washingtonpost.com/blogs/post-politics/wp/2014/12/04/white-house-democrats-teaming-up-on-immigration-strike-team/?tid=hpModule_f8335a3c-868c-11e2-9d71-f0feafdd1394\n",
        "White House, Democrats teaming up on \u2018Immigration Strike Team\u2019 - The Washington Post\n"
       ]
      },
      {
       "output_type": "stream",
       "stream": "stdout",
       "text": [
        "\n",
        "http://washingtonpostlive.com/\n",
        "http://www.washingtonpost.com/sports/dcunited\n",
        "http://knowmore.washingtonpost.com\n",
        "http://www.washingtonpost.com/blogs/govbeat/wp/2014/12/04/same-sex-marriage-in-florida-could-begin-in-january-court-rules/?tid=hpModule_9d3add6c-8a79-11e2-98d9-3012c1cd8d1e\n",
        "Same-sex marriage in Florida could begin in January, court rules - The Washington Post\n"
       ]
      },
      {
       "output_type": "stream",
       "stream": "stdout",
       "text": [
        "\n",
        "http://www.washingtonpost.com/business/on-small-business\n",
        "http://www.washingtonpost.com/blogs/capitals-insider/wp/2014/12/04/capitals-at-hurricanes-game-25-discussion-thread/\n",
        "Capitals at Hurricanes: Game 25 discussion thread - The Washington Post\n"
       ]
      },
      {
       "output_type": "stream",
       "stream": "stdout",
       "text": [
        "\n",
        "http://www.washingtonpost.com/sarah-larimer/2014/06/20/f57ad354-f8b6-11e3-a606-946fd632f9f1_page.html\n",
        "Sarah Larimer - The Washington Post\n"
       ]
      },
      {
       "output_type": "stream",
       "stream": "stdout",
       "text": [
        "\n",
        "http://games.washingtonpost.com/\n",
        "http://games.washingtonpost.com/games/daily-crossword\n",
        "http://washingtonpostmedia.com/careers\n",
        "http://www.washingtonpost.com/entertainment/theater-dance\n",
        "http://www.washingtonpost.com/technology\n",
        "http://www.washingtonpost.com/blogs/going-out-guide/wp/2014/12/04/manila-mart-in-beltsville-caters-to-pinoys-and-american-fanboys-alike/\n",
        "Manila Mart in Beltsville caters to Pinoys and American fanboys alike - The Washington Post\n"
       ]
      },
      {
       "output_type": "stream",
       "stream": "stdout",
       "text": [
        "\n",
        "http://www.washingtonpost.com/news/in-sight/wp/2014/12/04/th-rules-of-engagement-how-global-militarized-units-enforce-the-law/\n",
        "The rules of engagement: How militarized police units enforce the law around the world - The Washington Post\n"
       ]
      },
      {
       "output_type": "stream",
       "stream": "stdout",
       "text": [
        "\n",
        "http://www.washingtonpost.com/wl/jobs/home\n",
        "/opinions\n",
        "http://www.washingtonpost.com/blogs/the-switch/wp/2014/12/04/why-apples-in-court-over-ipod-software-it-stopped-using-in-2009/\n",
        "Why Apple\u2019s in court over iPod software it stopped using in 2009 - The Washington Post\n"
       ]
      },
      {
       "output_type": "stream",
       "stream": "stdout",
       "text": [
        "\n",
        "http://www.washingtonpost.com/news/checkpoint/wp/2014/12/04/investigation-afghan-shooter-ambushed-slain-army-general-from-less-than-15-meters/\n",
        "Investigation: Afghan shooter ambushed slain Army general at close range - The Washington Post\n"
       ]
      },
      {
       "output_type": "stream",
       "stream": "stdout",
       "text": [
        "\n",
        "http://www.washingtonpost.com/michelle-singletary/2011/02/24/ABWCMzI_page.html\n",
        "https://ssl.washingtonpost.com/securedrop\n",
        "http://www.washingtonpost.com/rss-terms-of-service/2012/01/16/gIQAadFYAQ_story.html\n",
        "http://www.washingtonpost.com/discussion-and-submission-guidelines/2011/\r\n",
        "11/21/gIQAuvIbiN_story.html\n",
        "http://www.washingtonpost.com/goingoutguide/movies\n",
        "http://www.washingtonpostads.com/\n",
        "/world/europe/with-budget-cuts-britain-could-be-changed-beyond-recognition/2014/12/04/dcba7fac-6d0a-4570-9032-038c3eb7c3d4_story.html\n",
        "/lifestyle/style/laura-dern-on-the-unique-challenges-of-wild-my-heart-completely-cracked-open/2014/12/04/002f5d00-7bee-11e4-b821-503cc7efed9e_story.html?tid=hpModule_1f58c93a-8a7a-11e2-98d9-3012c1cd8d1e\n",
        "http://www.washingtonpost.com/blogs/capital-weather-gang/wp/2014/12/04/bright-exploding-fireball-streaks-across-the-sky-over-northeast-u-s/?tid=hpModule_9d3add6c-8a79-11e2-98d9-3012c1cd8d1e\n",
        "Bright, exploding fireball streaks across the sky over Northeast U.S. - The Washington Post\n"
       ]
      },
      {
       "output_type": "stream",
       "stream": "stdout",
       "text": [
        "\n",
        "http://live.washingtonpost.com/color-of-money-live-20141204.html\n"
       ]
      }
     ],
     "prompt_number": 17
    },
    {
     "cell_type": "markdown",
     "metadata": {},
     "source": [
      "#Part 2: Feature Vectors"
     ]
    },
    {
     "cell_type": "code",
     "collapsed": false,
     "input": [],
     "language": "python",
     "metadata": {},
     "outputs": []
    }
   ],
   "metadata": {}
  }
 ]
}