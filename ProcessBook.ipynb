{
 "metadata": {
  "name": "",
  "signature": "sha256:c08728aa5876bc24c46a5ef8d4ac0be1432e1f35df00c6daf23519eb38a35ef8"
 },
 "nbformat": 3,
 "nbformat_minor": 0,
 "worksheets": [
  {
   "cells": [
    {
     "cell_type": "markdown",
     "metadata": {},
     "source": [
      "<h2 align=\"center\">slant parse: <br><br> Using Machine Learning to Determine the Political Leanings of News Publications</h2>\n",
      "\n",
      "<br><center>Serena L Booth, Harvard College, Class of 2016</center>\n",
      "\n",
      "<center>Joseph M Booth, Harvard College, Class of 2015</center>\n",
      "\n",
      "\n",
      "---"
     ]
    },
    {
     "cell_type": "markdown",
     "metadata": {},
     "source": [
      "# Part 1: Data Collection"
     ]
    },
    {
     "cell_type": "code",
     "collapsed": false,
     "input": [
      "import urllib\n",
      "import csv\n",
      "from bs4 import BeautifulSoup\n",
      "from sets import Set\n",
      "from sgmllib import SGMLParser\n",
      "import pickle \n",
      "\n",
      "# cite: https://github.com/chungy/diveintopython/blob/master/py/urllister.py\n",
      "class URLLister(SGMLParser):\n",
      "    def reset(self):\n",
      "        SGMLParser.reset(self)\n",
      "        self.urls = []\n",
      "\n",
      "    def start_a(self, attrs):\n",
      "        href = [v for k, v in attrs if k=='href']\n",
      "        if href:\n",
      "            self.urls.extend(href)\n",
      "            \n",
      "def process_url(url, url_mod, start_title_delim, end_title_delim, start_article_delim, end_article_delim, name, pol):\n",
      "    if str(url)[0] == '/' and str(url).find('2014') != -1: \n",
      "        with open('articles.csv', 'a+') as csvfile:\n",
      "            #pickled_article_names = pickle.load( open( \"save.p\", \"a+\" ) )\n",
      "\n",
      "            article_writer = csv.writer(csvfile, delimiter='^')\n",
      "            tmp_url = url_mod + str(url)\n",
      "            usock = urllib.urlopen(tmp_url)\n",
      "            html = usock.read()\n",
      "            soup_unprocessed = BeautifulSoup(html)\n",
      "            print soup_unprocessed.title.string + '\\n' \n",
      "\n",
      "            title = soup_unprocessed.title.string\n",
      "            if str(title).find('map') != -1: \n",
      "                mod_content = 'map'\n",
      "            #title = str(html)[str(html).find(start_title_delim) + len(start_title_delim):str(html).find(end_title_delim)]\n",
      "            #title = title[0: title.find('| Mother')]\n",
      "            else: \n",
      "                content = str(html)[str(html).find(start_article_delim) + len (start_article_delim):str(html).find(end_article_delim)]\n",
      "                soup = BeautifulSoup(content)\n",
      "                mod_content = soup.get_text()\n",
      "                title = title.encode(\"utf-8\")\n",
      "                mod_content = mod_content.encode(\"utf-8\")\n",
      "\n",
      "            article_writer.writerow([name, pol, title, mod_content])\n",
      "            usock.close()\n",
      "        \n",
      "            \n",
      "\n",
      "def scrape(start_url, iterator, url_list, url_mod):                \n",
      "    if iterator > 2: \n",
      "        return set()\n",
      "    usock = urllib.urlopen(start_url)\n",
      "    parser = URLLister()\n",
      "    html = usock.read()\n",
      "    parser.feed(html)\n",
      "    usock.close()\n",
      "    parser.close()\n",
      "\n",
      "    url_list = url_list.union(parser.urls)\n",
      "    \n",
      "    for url in url_list: \n",
      "        if str(url)[0] == '/': \n",
      "            tmp_url = url_mod + str(url)\n",
      "            try: \n",
      "                tmp_set = scrape(tmp_url, iterator + 1, url_list, url_mod)\n",
      "                url_list = url_list.union(tmp_set) \n",
      "            except IOError: \n",
      "                print \"Couldn't Open\"\n",
      "    return url_list\n",
      "\n",
      "        \n",
      "# call the function\n",
      "url_list = set()  \n",
      "url_list = scrape('http://www.motherjones.com/', 1, url_list, 'http://www.motherjones.com')\n",
      "\n",
      "print '\\nurls\\n'\n",
      "\n",
      "for url in url_list: \n",
      "    process_url(url, 'http://www.motherjones.com', '<title>', '</title>' , '<div id=\"node-header\" class=\"clear-block\">', '<div id=\"node-footer\" class=\"clear-block\">', 'Mother Jones', 'L')\n",
      "    \n",
      "\n"
     ],
     "language": "python",
     "metadata": {},
     "outputs": [
      {
       "output_type": "stream",
       "stream": "stdout",
       "text": [
        "\n",
        "urls\n",
        "\n",
        "Check Out This FBI Memo Citing John Lennon's \"Revolutionary Activities\" | Mother Jones\n"
       ]
      },
      {
       "output_type": "stream",
       "stream": "stdout",
       "text": [
        "\n",
        "Koch-Linked Firm Devoted to Grooming \"Electable\" Candidates Signs Up Arkansas GOP Leader | Mother Jones\n"
       ]
      },
      {
       "output_type": "stream",
       "stream": "stdout",
       "text": [
        "\n",
        "Common Core Opponents Send Oklahoma School Chief Packing | Mother Jones\n"
       ]
      },
      {
       "output_type": "stream",
       "stream": "stdout",
       "text": [
        "\n",
        "Did Obama Shoot Himself in the Foot on Net Neutrality? | Mother Jones\n"
       ]
      },
      {
       "output_type": "stream",
       "stream": "stdout",
       "text": [
        "\n",
        "Kids Today Are No Dumber Than Their Elders | Mother Jones\n"
       ]
      },
      {
       "output_type": "stream",
       "stream": "stdout",
       "text": [
        "\n",
        "Brazil's Dietary Guidelines Are So Much Better Than the USDA's | Mother Jones\n"
       ]
      },
      {
       "output_type": "stream",
       "stream": "stdout",
       "text": [
        "\n",
        "Triumph of the Drill: How Big Oil Clings to Billions in Government Giveaways | Mother Jones\n"
       ]
      },
      {
       "output_type": "stream",
       "stream": "stdout",
       "text": [
        "\n",
        "Mitch McConnell Can Barely Form a Coherent Sentence About Obamacare Now | Mother Jones\n"
       ]
      },
      {
       "output_type": "stream",
       "stream": "stdout",
       "text": [
        "\n",
        "Here's What We Saw on the Ferguson Livestreams Last Night | Mother Jones\n"
       ]
      },
      {
       "output_type": "stream",
       "stream": "stdout",
       "text": [
        "\n",
        "Science Says Your Baby Is a Socialist | Mother Jones\n"
       ]
      },
      {
       "output_type": "stream",
       "stream": "stdout",
       "text": [
        "\n",
        "Catholic Church Argues It Doesn't Have to Show Up in Court Because Religious Freedom | Mother Jones\n"
       ]
      },
      {
       "output_type": "stream",
       "stream": "stdout",
       "text": [
        "\n",
        "Todd Akin Is Still Talking About Rape\u2014and Suggests Bill Clinton Is a Rapist | Mother Jones\n"
       ]
      },
      {
       "output_type": "stream",
       "stream": "stdout",
       "text": [
        "\n",
        "Mitch McConnell Flips-Flops on an Ebola Flight Ban\u2014Within 24 Hours | Mother Jones\n"
       ]
      },
      {
       "output_type": "stream",
       "stream": "stdout",
       "text": [
        "\n",
        "Bribes, Favors, and a Billion-Dollar Yacht: Inside the Crazy World of the Men Who Do Oil Companies' Dirty Work | Mother Jones\n"
       ]
      },
      {
       "output_type": "stream",
       "stream": "stdout",
       "text": [
        "\n",
        "How Environmental Disaster Is Making Boko Haram Violence Worse | Mother Jones\n"
       ]
      },
      {
       "output_type": "stream",
       "stream": "stdout",
       "text": [
        "\n",
        "Elizabeth Warren: We Need to Stop Packing the Courts With Corporate Judges | Mother Jones\n"
       ]
      },
      {
       "output_type": "stream",
       "stream": "stdout",
       "text": [
        "\n",
        "Here's Why the Feds Are Investigating Ferguson | Mother Jones\n"
       ]
      },
      {
       "output_type": "stream",
       "stream": "stdout",
       "text": [
        "\n",
        "GOP Rebel Justin Amash Just Beat a Guy Who Called Him \"Al Qaeda's Best Friend\" | Mother Jones\n"
       ]
      },
      {
       "output_type": "stream",
       "stream": "stdout",
       "text": [
        "\n",
        "This Year's Wildfires Could Incinerate the Nation's Fire Budget | Mother Jones\n"
       ]
      },
      {
       "output_type": "stream",
       "stream": "stdout",
       "text": [
        "\n",
        "Rand Paul to Appear at Event Featuring Neo-Confederate Aide He Had to Fire | Mother Jones\n"
       ]
      },
      {
       "output_type": "stream",
       "stream": "stdout",
       "text": [
        "\n",
        "Tom Cotton's Victory in Arkansas Is a Huge Win for Neocons | Mother Jones\n"
       ]
      },
      {
       "output_type": "stream",
       "stream": "stdout",
       "text": [
        "\n",
        "Inside the Biggest Climate March in History | Mother Jones\n"
       ]
      },
      {
       "output_type": "stream",
       "stream": "stdout",
       "text": [
        "\n",
        "Scott Walker Is Bragging About a Pro-Life Endorsement He Didn't Receive This Year | Mother Jones\n"
       ]
      },
      {
       "output_type": "stream",
       "stream": "stdout",
       "text": [
        "\n",
        "Here\u2019s Why Bank of America\u2019s $17 Billion Settlement Probably Won\u2019t Cost It That Much | Mother Jones\n"
       ]
      },
      {
       "output_type": "stream",
       "stream": "stdout",
       "text": [
        "\n",
        "Putting Body Cameras on Cops Is Hardly a Cure-All for Abuses | Mother Jones\n"
       ]
      },
      {
       "output_type": "stream",
       "stream": "stdout",
       "text": [
        "\n",
        "The New Mother Jones Homepage, Explained | Mother Jones\n"
       ]
      },
      {
       "output_type": "stream",
       "stream": "stdout",
       "text": [
        "\n",
        "From Anarchists to Tibetan Monks, Here Are Some of the Outsiders Joining Protests in Ferguson | Mother Jones\n"
       ]
      },
      {
       "output_type": "stream",
       "stream": "stdout",
       "text": [
        "\n",
        "On Iraq, McCain Won't Take McCain's Advice | Mother Jones\n"
       ]
      },
      {
       "output_type": "stream",
       "stream": "stdout",
       "text": [
        "\n",
        "How the GOP's Senate Takeover Could Derail Global Climate Action | Mother Jones\n"
       ]
      },
      {
       "output_type": "stream",
       "stream": "stdout",
       "text": [
        "\n",
        "4 Stupid Conservative Arguments Against Net Neutrality, Debunked | Mother Jones\n"
       ]
      },
      {
       "output_type": "stream",
       "stream": "stdout",
       "text": [
        "\n",
        "These Stunning Photos Show China's Daily Onslaught of Toxic Smog | Mother Jones\n"
       ]
      },
      {
       "output_type": "stream",
       "stream": "stdout",
       "text": [
        "\n",
        "The Gulf Is Still So Far From Recovering. Just Ask This Oyster Farmer.  | Mother Jones\n"
       ]
      },
      {
       "output_type": "stream",
       "stream": "stdout",
       "text": [
        "\n",
        "VIDEO: Is John McCain Too Liberal? David Corn Debates. | Mother Jones\n"
       ]
      },
      {
       "output_type": "stream",
       "stream": "stdout",
       "text": [
        "\n",
        "Why Is This Year's Flu So Dangerous for Young Adults? | Mother Jones\n"
       ]
      },
      {
       "output_type": "stream",
       "stream": "stdout",
       "text": [
        "\n",
        "Look How Much Bigger Thanksgiving Turkeys Are Today Than in the 1930s | Mother Jones\n"
       ]
      },
      {
       "output_type": "stream",
       "stream": "stdout",
       "text": [
        "\n",
        "Can the Ultimate Clintonite Still Cut it in Bubba's Home Base? | Mother Jones\n"
       ]
      },
      {
       "output_type": "stream",
       "stream": "stdout",
       "text": [
        "\n",
        "\"More Money Than I Could Count\": Mitch McConnell's Very Special Relationship With Lobbyists | Mother Jones\n"
       ]
      },
      {
       "output_type": "stream",
       "stream": "stdout",
       "text": [
        "\n",
        "Green Zones: A Map of the US Military's Golf Courses | Mother Jones\n"
       ]
      },
      {
       "output_type": "stream",
       "stream": "stdout",
       "text": [
        "\n",
        "Charts: Tech's Pipeline Problem | Mother Jones\n"
       ]
      },
      {
       "output_type": "stream",
       "stream": "stdout",
       "text": [
        "\n",
        "Pointergate: This Week's Most Racist Local News Story | Mother Jones\n"
       ]
      },
      {
       "output_type": "stream",
       "stream": "stdout",
       "text": [
        "\n",
        "Chart of the Day: Net New Jobs in October | Mother Jones\n"
       ]
      },
      {
       "output_type": "stream",
       "stream": "stdout",
       "text": [
        "\n",
        "Wakey, Wakey! Your Life Is Wasting Away. | Mother Jones\n"
       ]
      },
      {
       "output_type": "stream",
       "stream": "stdout",
       "text": [
        "\n",
        "Oh Great, Here's a Hit Song Demanding Women Shut Up and Drink | Mother Jones\n"
       ]
      },
      {
       "output_type": "stream",
       "stream": "stdout",
       "text": [
        "\n",
        "I Cannot Stop Watching This Video of Super Mario Hurting People  | Mother Jones\n"
       ]
      },
      {
       "output_type": "stream",
       "stream": "stdout",
       "text": [
        "\n",
        "Malala Yousafzai Becomes Youngest Recipient of Nobel Peace Prize | Mother Jones\n"
       ]
      },
      {
       "output_type": "stream",
       "stream": "stdout",
       "text": [
        "\n",
        "Progressive Groups  Take Obama to Task for Violating Voting Rights Law  | Mother Jones\n"
       ]
      },
      {
       "output_type": "stream",
       "stream": "stdout",
       "text": [
        "\n",
        "Elizabeth Warren Gets a Promotion -- Or Does She? | Mother Jones\n"
       ]
      },
      {
       "output_type": "stream",
       "stream": "stdout",
       "text": [
        "\n",
        "Here Are the Psychological Reasons Why an American Might Join ISIS | Mother Jones\n"
       ]
      },
      {
       "output_type": "stream",
       "stream": "stdout",
       "text": [
        "\n",
        "Fighting in Gaza Bad for Mankind, Great for Right-Wing Website | Mother Jones\n"
       ]
      },
      {
       "output_type": "stream",
       "stream": "stdout",
       "text": [
        "\n",
        "No, the Culture Wars Haven't Heated Up. It Just Seems Like They Have. | Mother Jones\n"
       ]
      },
      {
       "output_type": "stream",
       "stream": "stdout",
       "text": [
        "\n",
        "Pentagon: We Could Soon Be Fighting Climate Wars | Mother Jones\n"
       ]
      },
      {
       "output_type": "stream",
       "stream": "stdout",
       "text": [
        "\n",
        "Cupcakes, Bacon, Kimchi: Here's Where Food Trends Come From | Mother Jones\n"
       ]
      },
      {
       "output_type": "stream",
       "stream": "stdout",
       "text": [
        "\n",
        "Republicans Said China Wouldn't Follow Through on its Climate Pledges. Looks Like They Were Wrong. | Mother Jones\n"
       ]
      },
      {
       "output_type": "stream",
       "stream": "stdout",
       "text": [
        "\n",
        "Mitch McConnell's Big Mitch Problem | Mother Jones\n"
       ]
      },
      {
       "output_type": "stream",
       "stream": "stdout",
       "text": [
        "\n",
        "Book Review: The Unspeakable | Mother Jones\n"
       ]
      },
      {
       "output_type": "stream",
       "stream": "stdout",
       "text": [
        "\n",
        "Even International Quidditch Has a Concussion Problem | Mother Jones\n"
       ]
      },
      {
       "output_type": "stream",
       "stream": "stdout",
       "text": [
        "\n",
        "Should Obama Fire His CIA Chief for Misleading the Public About the Senate Spying Scandal? | Mother Jones\n"
       ]
      },
      {
       "output_type": "stream",
       "stream": "stdout",
       "text": [
        "\n",
        "Obama Is About to Give You the Right to Unlock Your Phone | Mother Jones\n"
       ]
      },
      {
       "output_type": "stream",
       "stream": "stdout",
       "text": [
        "\n",
        "New Mexico Gov. Susana Martinez Wins Big. Is She the GOP's Top Pick for Veep? | Mother Jones\n"
       ]
      },
      {
       "output_type": "stream",
       "stream": "stdout",
       "text": [
        "\n",
        "No, We Should Not Arrest Climate Deniers | Mother Jones\n"
       ]
      },
      {
       "output_type": "stream",
       "stream": "stdout",
       "text": [
        "\n",
        "I Went to the Nutritionists' Annual Confab. It Was Catered by McDonald's.  | Mother Jones\n"
       ]
      },
      {
       "output_type": "stream",
       "stream": "stdout",
       "text": [
        "\n",
        "Will Snow Ruin Your Halloween? | Mother Jones\n"
       ]
      },
      {
       "output_type": "stream",
       "stream": "stdout",
       "text": [
        "\n",
        "Media Goes Wild Over Hagel Firing But Not Obama's Secret Afghanistan Reversal | Mother Jones\n"
       ]
      },
      {
       "output_type": "stream",
       "stream": "stdout",
       "text": [
        "\n",
        "Isn't It About Time to Ask Republicans to Start Acting Like Adults? | Mother Jones\n"
       ]
      },
      {
       "output_type": "stream",
       "stream": "stdout",
       "text": [
        "\n",
        "Portraits of 11 of the Americana Music Festival's Most Intriguing Acts  | Mother Jones\n"
       ]
      },
      {
       "output_type": "stream",
       "stream": "stdout",
       "text": [
        "\n",
        "Why the FCC Is Ditching Net Neutrality | Mother Jones\n"
       ]
      },
      {
       "output_type": "stream",
       "stream": "stdout",
       "text": [
        "\n",
        "Voter ID Laws: Terrible Public Policy, But Probably Pretty Feeble | Mother Jones\n"
       ]
      },
      {
       "output_type": "stream",
       "stream": "stdout",
       "text": [
        "\n",
        "GOP Gubernatorial Candidate: 47 Percent of Americans Are \"Dependent on the Largesse of Government\" | Mother Jones\n"
       ]
      },
      {
       "output_type": "stream",
       "stream": "stdout",
       "text": [
        "\n",
        "The Making of the Kochtopus | Mother Jones\n"
       ]
      },
      {
       "output_type": "stream",
       "stream": "stdout",
       "text": [
        "\n",
        "Housekeeping Note | Mother Jones\n"
       ]
      },
      {
       "output_type": "stream",
       "stream": "stdout",
       "text": [
        "\n",
        "Here's Why the World Is Spending Less on Renewable Energy | Mother Jones\n"
       ]
      },
      {
       "output_type": "stream",
       "stream": "stdout",
       "text": [
        "\n",
        "Riot Grrrl Kathleen Hanna, All Grown Up | Mother Jones\n"
       ]
      },
      {
       "output_type": "stream",
       "stream": "stdout",
       "text": [
        "\n",
        "Chick-Fil-A's Twee New Food Journalism Site | Mother Jones\n"
       ]
      },
      {
       "output_type": "stream",
       "stream": "stdout",
       "text": [
        "\n",
        "Gov. Susana Martinez's Emails Have Mysteriously Disappeared | Mother Jones\n"
       ]
      },
      {
       "output_type": "stream",
       "stream": "stdout",
       "text": [
        "\n",
        "18-Year-Old Wins State Legislature Seat in West Virginia | Mother Jones\n"
       ]
      },
      {
       "output_type": "stream",
       "stream": "stdout",
       "text": [
        "\n",
        "Inside the Mammoth Backlash to Common Core | Mother Jones\n"
       ]
      },
      {
       "output_type": "stream",
       "stream": "stdout",
       "text": [
        "\n",
        "Marijuana Legalization Seems to Be Working Out....So Far | Mother Jones\n"
       ]
      },
      {
       "output_type": "stream",
       "stream": "stdout",
       "text": [
        "\n",
        "More Good News: Michigan's \"Foreclosure King\" Headed to Congress | Mother Jones\n"
       ]
      },
      {
       "output_type": "stream",
       "stream": "stdout",
       "text": [
        "\n",
        "VIDEO: David Corn on Why Obama's State of the Union Speech Missed the Mark | Mother Jones\n"
       ]
      },
      {
       "output_type": "stream",
       "stream": "stdout",
       "text": [
        "\n",
        "January Jobs Report: Hard to Read | Mother Jones\n"
       ]
      },
      {
       "output_type": "stream",
       "stream": "stdout",
       "text": [
        "\n",
        "Black Lawmakers Turn Up the Heat On Obama Over Judicial Nominees Who Backed Voter ID Law, Confederate Flag | Mother Jones\n"
       ]
      },
      {
       "output_type": "stream",
       "stream": "stdout",
       "text": [
        "\n",
        "Radio Station Lays Off All 47 of Its Journalists, Will Play Beyonc\u00e9 All Day Everyday Instead | Mother Jones\n"
       ]
      },
      {
       "output_type": "stream",
       "stream": "stdout",
       "text": [
        "\n",
        "Is This Deep-Fried-Yam Chef the Future of Texas Politics? | Mother Jones\n"
       ]
      },
      {
       "output_type": "stream",
       "stream": "stdout",
       "text": [
        "\n",
        " \"I Could Krushchev You\": 9 Shocking Allegations From the Don Blankenship Indictment  | Mother Jones\n"
       ]
      },
      {
       "output_type": "stream",
       "stream": "stdout",
       "text": [
        "\n",
        "Can We Talk? Here's Why the White Working Class Hates Democrats | Mother Jones\n"
       ]
      },
      {
       "output_type": "stream",
       "stream": "stdout",
       "text": [
        "\n",
        "Death Wears Bunny Slippers | Mother Jones\n"
       ]
      },
      {
       "output_type": "stream",
       "stream": "stdout",
       "text": [
        "\n",
        "Susan Collins Says She Voted Against the Government Shutdown Last Year. Um, Really? | Mother Jones\n"
       ]
      },
      {
       "output_type": "stream",
       "stream": "stdout",
       "text": [
        "\n",
        "Herman Cain: A First Grader Could Run America Better Than Obama  | Mother Jones\n"
       ]
      },
      {
       "output_type": "stream",
       "stream": "stdout",
       "text": [
        "\n",
        "Gun-Pointing Cop Who Threatened to Kill Ferguson Protesters Is Suspended | Mother Jones\n"
       ]
      },
      {
       "output_type": "stream",
       "stream": "stdout",
       "text": [
        "\n",
        "Let a White Man Walking Around NYC Show You Just How Glorious Life Can Be | Mother Jones\n"
       ]
      },
      {
       "output_type": "stream",
       "stream": "stdout",
       "text": [
        "\n",
        "Anti-Immigrant Activist Says Influx of Migrants Will Lead to \"Ethnic Replacement\" | Mother Jones\n"
       ]
      },
      {
       "output_type": "stream",
       "stream": "stdout",
       "text": [
        "\n",
        "GOP to America: Rich Kids Are Worth More Than Poor Kids | Mother Jones\n"
       ]
      },
      {
       "output_type": "stream",
       "stream": "stdout",
       "text": [
        "\n",
        "Todd Akin Is Not Sorry for His Insane Rape Comments | Mother Jones\n"
       ]
      },
      {
       "output_type": "stream",
       "stream": "stdout",
       "text": [
        "\n",
        "Congress Just Delayed New Funding to Help Rape Victims | Mother Jones\n"
       ]
      },
      {
       "output_type": "stream",
       "stream": "stdout",
       "text": [
        "\n",
        "Al Franken Questions Uber Over Privacy | Mother Jones\n"
       ]
      },
      {
       "output_type": "stream",
       "stream": "stdout",
       "text": [
        "\n",
        "Pentagon Review Says America's Nukes Are FUBAR | Mother Jones\n"
       ]
      },
      {
       "output_type": "stream",
       "stream": "stdout",
       "text": [
        "\n",
        "Chuck Hagel Resigning as Secretary of Defense | Mother Jones\n"
       ]
      },
      {
       "output_type": "stream",
       "stream": "stdout",
       "text": [
        "\n",
        "World Leaders Have Failed to Seriously Confront Climate Change. Could That Change Next Week? | Mother Jones\n"
       ]
      },
      {
       "output_type": "stream",
       "stream": "stdout",
       "text": [
        "\n",
        "Former Virginia Gov. Bob McDonnell Convicted on Corruption Charges | Mother Jones\n"
       ]
      },
      {
       "output_type": "stream",
       "stream": "stdout",
       "text": [
        "\n",
        "Koch Lobbyist and Clinton Archenemy Wins in Virginia | Mother Jones\n"
       ]
      },
      {
       "output_type": "stream",
       "stream": "stdout",
       "text": [
        "\n",
        "The Midwest's Vast Farms Are Losing a Ton of Money This Year | Mother Jones\n"
       ]
      },
      {
       "output_type": "stream",
       "stream": "stdout",
       "text": [
        "\n",
        "7 Republicans Who Said Obama Wasn't Trying Hard Enough to Bring the Benghazi Attacker to Justice | Mother Jones\n"
       ]
      },
      {
       "output_type": "stream",
       "stream": "stdout",
       "text": [
        "\n",
        "Obama: \"The Affordable Care Act Is Here to Stay\" | Mother Jones\n"
       ]
      },
      {
       "output_type": "stream",
       "stream": "stdout",
       "text": [
        "\n",
        "Verizon Says It Wants to Kill Net Neutrality to Help Blind, Deaf, and Disabled People | Mother Jones\n"
       ]
      },
      {
       "output_type": "stream",
       "stream": "stdout",
       "text": [
        "\n",
        "Big Soda Is Totally Freaking Out About This Local Ordinance | Mother Jones\n"
       ]
      },
      {
       "output_type": "stream",
       "stream": "stdout",
       "text": [
        "\n",
        "Fast Tracks: \"Spanish Mary\" From Lost on the River | Mother Jones\n"
       ]
      },
      {
       "output_type": "stream",
       "stream": "stdout",
       "text": [
        "\n",
        "Karl Rove-Backed American Crossroads Attacks GOP Candidate as \"Perennial Loser\" | Mother Jones\n"
       ]
      },
      {
       "output_type": "stream",
       "stream": "stdout",
       "text": [
        "\n",
        "Elizabeth Warren to Banks: Prove You Can Protect Customer Data From Hackers | Mother Jones\n"
       ]
      },
      {
       "output_type": "stream",
       "stream": "stdout",
       "text": [
        "\n",
        "VIDEO: David Corn on Why Chris Christie Is Only a Minor-league Nixon | Mother Jones\n"
       ]
      },
      {
       "output_type": "stream",
       "stream": "stdout",
       "text": [
        "\n",
        "How to Find Your Polling Place | Mother Jones\n"
       ]
      },
      {
       "output_type": "stream",
       "stream": "stdout",
       "text": [
        "\n",
        "Louisiana Republicans Wondering Why Bobby Jindal Doesn't Call Them Anymore | Mother Jones\n"
       ]
      },
      {
       "output_type": "stream",
       "stream": "stdout",
       "text": [
        "\n",
        "\"Food Chains\" Looks at the Real Cost of Your Cheap Tomatoes | Mother Jones\n"
       ]
      },
      {
       "output_type": "stream",
       "stream": "stdout",
       "text": [
        "\n",
        "A Follow-Up: Why the Working and Middle Classes Don't Like Obamacare Much | Mother Jones\n"
       ]
      },
      {
       "output_type": "stream",
       "stream": "stdout",
       "text": [
        "\n",
        "Let John Oliver Explain the Insane Amount of Power Your Bizarre State Legislature Holds  | Mother Jones\n"
       ]
      },
      {
       "output_type": "stream",
       "stream": "stdout",
       "text": [
        "\n",
        "A GOP Senate's First Target: Elizabeth Warren\u2019s Consumer Protection Agency | Mother Jones\n"
       ]
      },
      {
       "output_type": "stream",
       "stream": "stdout",
       "text": [
        "\n",
        "Big Oil Can't Wait For the New Republican Majority in Congress | Mother Jones\n"
       ]
      },
      {
       "output_type": "stream",
       "stream": "stdout",
       "text": [
        "\n",
        "Joe Biden's World Cup Gift to Brazil: A Chilling Torture Memo | Mother Jones\n"
       ]
      },
      {
       "output_type": "stream",
       "stream": "stdout",
       "text": [
        "\n",
        "Sen. Feinstein: The CIA Scandal Began Because the Agency Misled Congress About Torture | Mother Jones\n"
       ]
      },
      {
       "output_type": "stream",
       "stream": "stdout",
       "text": [
        "\n",
        "Will This New GMO Potato Take Off? McDonald's Has Spoken | Mother Jones\n"
       ]
      },
      {
       "output_type": "stream",
       "stream": "stdout",
       "text": [
        "\n",
        "Quiz: Who's More Metal, the Cat or the Owner? | Mother Jones\n"
       ]
      },
      {
       "output_type": "stream",
       "stream": "stdout",
       "text": [
        "\n",
        "People Who Use Obamacare Sure Do Like It | Mother Jones\n"
       ]
      },
      {
       "output_type": "stream",
       "stream": "stdout",
       "text": [
        "\n",
        "\"Serious-Minded\" Benghazi Committee Chair Pushed Anti-Obama IRS Conspiracy Theory | Mother Jones\n"
       ]
      },
      {
       "output_type": "stream",
       "stream": "stdout",
       "text": [
        "\n",
        "There's a Place in the World That Is Fighting Poverty with Solar Power | Mother Jones\n"
       ]
      },
      {
       "output_type": "stream",
       "stream": "stdout",
       "text": [
        "\n",
        "Last Night's Other Big Winner: Minimum Wage Increases | Mother Jones\n"
       ]
      },
      {
       "output_type": "stream",
       "stream": "stdout",
       "text": [
        "\n",
        "4 Key Takeaways About Scott Walker's Alleged \"Criminal Scheme\" | Mother Jones\n"
       ]
      },
      {
       "output_type": "stream",
       "stream": "stdout",
       "text": [
        "\n",
        "Obama Is About to Make the World's Biggest Pledge to Help Poor Countries Fight Climate Change  | Mother Jones\n"
       ]
      },
      {
       "output_type": "stream",
       "stream": "stdout",
       "text": [
        "\n",
        "What's Wrong With the Science of \"Interstellar\"? | Mother Jones\n"
       ]
      },
      {
       "output_type": "stream",
       "stream": "stdout",
       "text": [
        "\n",
        "Gov. Susana Martinez Reacts to Mother Jones Story: \"One of the Most Desperate and Despicable Attacks\" | Mother Jones\n"
       ]
      },
      {
       "output_type": "stream",
       "stream": "stdout",
       "text": [
        "\n",
        "Obama's Executive Action Will Protect 5 Million Undocumented Immigrants | Mother Jones\n"
       ]
      },
      {
       "output_type": "stream",
       "stream": "stdout",
       "text": [
        "\n",
        "Quick Reads: \"The Noble Hustle\" by Colson Whitehead | Mother Jones\n"
       ]
      },
      {
       "output_type": "stream",
       "stream": "stdout",
       "text": [
        "\n",
        "Jonathan Gruber Says Nothing New, Gets Hammered For It | Mother Jones\n"
       ]
      },
      {
       "output_type": "stream",
       "stream": "stdout",
       "text": [
        "\n",
        "Could This Be the Senate Race Where the Koch Brothers Meet Their Match? | Mother Jones\n"
       ]
      },
      {
       "output_type": "stream",
       "stream": "stdout",
       "text": [
        "\n",
        "Confidential Memo: Former Koch Group Insider Fears the Tea Party Is Fading | Mother Jones\n"
       ]
      },
      {
       "output_type": "stream",
       "stream": "stdout",
       "text": [
        "\n",
        "Here's What Big Oil Has in the Pipes if Keystone Fails | Mother Jones\n"
       ]
      },
      {
       "output_type": "stream",
       "stream": "stdout",
       "text": [
        "\n",
        "I Am Being Followed By an Army of Twitter Lady Bots | Mother Jones\n"
       ]
      },
      {
       "output_type": "stream",
       "stream": "stdout",
       "text": [
        "\n",
        "After Offensive Comments, Paul Ryan Will Let Black Lawmakers School Him on Poverty | Mother Jones\n"
       ]
      },
      {
       "output_type": "stream",
       "stream": "stdout",
       "text": [
        "\n",
        "How Much Cleaner Will Obama's Climate Rules Make Your State? | Mother Jones\n"
       ]
      },
      {
       "output_type": "stream",
       "stream": "stdout",
       "text": [
        "\n",
        "Republicans Tried to Suppress the Black Vote in North Carolina. It's Not Working. | Mother Jones\n"
       ]
      },
      {
       "output_type": "stream",
       "stream": "stdout",
       "text": [
        "\n",
        "Surprise! This GOP Senator's Theory About Volcanoes and Climate Change Is Totally Wrong. | Mother Jones\n"
       ]
      },
      {
       "output_type": "stream",
       "stream": "stdout",
       "text": [
        "\n",
        "These Simple Charts Show Why the US-China Climate Pact Is Such a Big Deal | Mother Jones\n"
       ]
      },
      {
       "output_type": "stream",
       "stream": "stdout",
       "text": [
        "\n",
        "Why's This Tea Party PAC Going After a Top Tea Partier? | Mother Jones\n"
       ]
      },
      {
       "output_type": "stream",
       "stream": "stdout",
       "text": [
        "\n",
        "Washington Voters Just Passed the Gun Law Congress Couldn't | Mother Jones\n"
       ]
      },
      {
       "output_type": "stream",
       "stream": "stdout",
       "text": [
        "\n",
        "VIDEO: Is the BP Oil Spill Cleanup Still Making People Sick? | Mother Jones\n"
       ]
      },
      {
       "output_type": "stream",
       "stream": "stdout",
       "text": [
        "\n",
        "Elizabeth Warren's Next Target: Walmart | Mother Jones\n"
       ]
      },
      {
       "output_type": "stream",
       "stream": "stdout",
       "text": [
        "\n",
        "10 Guesses Why SF Mayor Ed Lee Is Sitting With Michelle Obama at SOTU | Mother Jones\n"
       ]
      },
      {
       "output_type": "stream",
       "stream": "stdout",
       "text": [
        "\n",
        "Rand Paul Is the Best-Dressed Man in Washington | Mother Jones\n"
       ]
      },
      {
       "output_type": "stream",
       "stream": "stdout",
       "text": [
        "\n",
        "Negotiating With Republicans \u2260 Negotiating With Tea Partiers | Mother Jones\n"
       ]
      },
      {
       "output_type": "stream",
       "stream": "stdout",
       "text": [
        "\n",
        "Is 2014 the \"Tipping Point\" for the GMO Labeling Movement?    | Mother Jones\n"
       ]
      },
      {
       "output_type": "stream",
       "stream": "stdout",
       "text": [
        "\n",
        "Cory Gardner's Senate Victory Proves Colorado Is Not a Blue State | Mother Jones\n"
       ]
      },
      {
       "output_type": "stream",
       "stream": "stdout",
       "text": [
        "\n",
        "The Creepy Language Tricks Taco Bell Uses to Fool People Into Eating There | Mother Jones\n"
       ]
      },
      {
       "output_type": "stream",
       "stream": "stdout",
       "text": [
        "\n",
        "GOP Obstruction Is Making It Harder To Catch Rapists\u2014Mitch McConnell Would Rather Not Talk About It | Mother Jones\n"
       ]
      },
      {
       "output_type": "stream",
       "stream": "stdout",
       "text": [
        "\n",
        "One Man Should Not Dictate Immigration Policy | Mother Jones\n"
       ]
      },
      {
       "output_type": "stream",
       "stream": "stdout",
       "text": [
        "\n",
        "Video: A Drone Shoots Hauntingly Beautiful Footage of Buffalo's Snowstorm | Mother Jones\n"
       ]
      },
      {
       "output_type": "stream",
       "stream": "stdout",
       "text": [
        "\n",
        "Could Bitcoin Become Scotland\u2019s Official Currency? | Mother Jones\n"
       ]
      },
      {
       "output_type": "stream",
       "stream": "stdout",
       "text": [
        "\n",
        "Love's New Album Is Finally Released\u201440 Years Late | Mother Jones\n"
       ]
      },
      {
       "output_type": "stream",
       "stream": "stdout",
       "text": [
        "\n",
        "Charts: How Minority Voters Get Blocked at the Ballot Box | Mother Jones\n"
       ]
      },
      {
       "output_type": "stream",
       "stream": "stdout",
       "text": [
        "\n",
        "Inside the UN Climate Talks | Mother Jones\n"
       ]
      },
      {
       "output_type": "stream",
       "stream": "stdout",
       "text": [
        "\n",
        "VIDEO: David Corn on What Chris Christie's Bridge Scandal Means for 2016 | Mother Jones\n"
       ]
      },
      {
       "output_type": "stream",
       "stream": "stdout",
       "text": [
        "\n",
        "Human Rights Advocates Worry US Aid for Nigerian Girls' Rescue Operation Could Go Awry | Mother Jones\n"
       ]
      },
      {
       "output_type": "stream",
       "stream": "stdout",
       "text": [
        "\n",
        "Two Charts That Show How the US Is Shortchanging the World | Mother Jones\n"
       ]
      },
      {
       "output_type": "stream",
       "stream": "stdout",
       "text": [
        "\n",
        "Why Picking Tom Perez for Attorney General Would Be a Smart Move for Obama | Mother Jones\n"
       ]
      },
      {
       "output_type": "stream",
       "stream": "stdout",
       "text": [
        "\n",
        "The Koch Brothers Left a Confidential Document at Their Donor Conference | Mother Jones\n"
       ]
      },
      {
       "output_type": "stream",
       "stream": "stdout",
       "text": [
        "\n",
        "\"Wild-Caught,\" Eh? 30 Percent of Shrimp Labels Are False | Mother Jones\n"
       ]
      },
      {
       "output_type": "stream",
       "stream": "stdout",
       "text": [
        "\n",
        "New Ad Hammers Gov. Andrew Cuomo For Abandoning His Pledge to Fight Corruption | Mother Jones\n"
       ]
      },
      {
       "output_type": "stream",
       "stream": "stdout",
       "text": [
        "\n",
        "Springsteen Pays Tribute to Seeger | Mother Jones\n"
       ]
      },
      {
       "output_type": "stream",
       "stream": "stdout",
       "text": [
        "\n",
        "Mitch McConnell Runs Away From Paul Ryan | Mother Jones\n"
       ]
      },
      {
       "output_type": "stream",
       "stream": "stdout",
       "text": [
        "\n",
        "Now Congressional Republicans Are Digging Through Scientists' Grant Proposals | Mother Jones\n"
       ]
      },
      {
       "output_type": "stream",
       "stream": "stdout",
       "text": [
        "\n",
        "Women Harassed Out of Their Homes. Mass Shooting Threats. How #Gamergate Morphed Into a Monster. | Mother Jones\n"
       ]
      },
      {
       "output_type": "stream",
       "stream": "stdout",
       "text": [
        "\n",
        "Friday Cat Blogging - 21 November 2014 | Mother Jones\n"
       ]
      },
      {
       "output_type": "stream",
       "stream": "stdout",
       "text": [
        "\n",
        "SunnyD's New Teen Energy Drink Has More Calories Than Coke | Mother Jones\n"
       ]
      },
      {
       "output_type": "stream",
       "stream": "stdout",
       "text": [
        "\n",
        "CPAC: How the IRS Scandal Is Just Like Russia Invading Ukraine | Mother Jones\n"
       ]
      },
      {
       "output_type": "stream",
       "stream": "stdout",
       "text": [
        "\n",
        "Dems Plan to Use Elizabeth Warren's Student Loan Bill Against the GOP in November | Mother Jones\n"
       ]
      },
      {
       "output_type": "stream",
       "stream": "stdout",
       "text": [
        "\n",
        "What Happens Today in These 4 Races Could Help Determine Our Next President  | Mother Jones\n"
       ]
      },
      {
       "output_type": "stream",
       "stream": "stdout",
       "text": [
        "\n",
        "Meet Another GOP Candidate Who's Pretending He's Pro-Choice | Mother Jones\n"
       ]
      },
      {
       "output_type": "stream",
       "stream": "stdout",
       "text": [
        "\n",
        "WATCH: These Reefs Are Beautiful\u2014But Most of the Coral Is Dead | Mother Jones\n"
       ]
      },
      {
       "output_type": "stream",
       "stream": "stdout",
       "text": [
        "\n",
        "Newly Released Clinton Doc: White House Aide Blasts Bill Clinton and Al Gore for \"F***ing Stupid\" Move | Mother Jones\n"
       ]
      },
      {
       "output_type": "stream",
       "stream": "stdout",
       "text": [
        "\n",
        "Why Scott Walker Might Be Our Next President | Mother Jones\n"
       ]
      },
      {
       "output_type": "stream",
       "stream": "stdout",
       "text": [
        "\n",
        "These Maps of California's Water Shortage Are Terrifying  | Mother Jones\n"
       ]
      },
      {
       "output_type": "stream",
       "stream": "stdout",
       "text": [
        "\n",
        "LISTEN: In Private Speech, Dick Cheney Talks Bombing Iran and GOP Donors Applaud | Mother Jones\n"
       ]
      },
      {
       "output_type": "stream",
       "stream": "stdout",
       "text": [
        "\n",
        "Watch Anita Sarkeesian Explain Gamergate's \"Attacks on Women\" and Convince Colbert He's a Feminist  | Mother Jones\n"
       ]
      },
      {
       "output_type": "stream",
       "stream": "stdout",
       "text": [
        "\n",
        "Rwanda Hits Back at America's Ebola Paranoia  | Mother Jones\n"
       ]
      },
      {
       "output_type": "stream",
       "stream": "stdout",
       "text": [
        "\n",
        "Watch Bernie Sanders Perfectly Predict Big Money's Domination This Past Election Day  | Mother Jones\n"
       ]
      },
      {
       "output_type": "stream",
       "stream": "stdout",
       "text": [
        "\n",
        "After Gutting the Voting Rights Act, Alabama Cites It As an Excuse for Racial Gerrymandering | Mother Jones\n"
       ]
      },
      {
       "output_type": "stream",
       "stream": "stdout",
       "text": [
        "\n",
        "In the Bay Area, Anti-Google Protests Get Creepy | Mother Jones\n"
       ]
      },
      {
       "output_type": "stream",
       "stream": "stdout",
       "text": [
        "\n",
        "Obama's Immigration Plan Is Both Good Policy and Remarkably Shrewd Politics | Mother Jones\n"
       ]
      },
      {
       "output_type": "stream",
       "stream": "stdout",
       "text": [
        "\n",
        "Should You Ask Your Doctor for Antibiotics Over the Phone? | Mother Jones\n"
       ]
      },
      {
       "output_type": "stream",
       "stream": "stdout",
       "text": [
        "\n",
        "Another Black Teenager Fatally Shot by Police, Just Miles from Ferguson | Mother Jones\n"
       ]
      },
      {
       "output_type": "stream",
       "stream": "stdout",
       "text": [
        "\n",
        "How Dr. Bronner's Soap Turned Activism Into Good Clean Fun | Mother Jones\n"
       ]
      },
      {
       "output_type": "stream",
       "stream": "stdout",
       "text": [
        "\n",
        "Rand Paul on Israel: Flip, Flop? | Mother Jones\n"
       ]
      },
      {
       "output_type": "stream",
       "stream": "stdout",
       "text": [
        "\n",
        "The Feds Just Approved a New GMO Corn. Here's Why I'm Not Rejoicing | Mother Jones\n"
       ]
      },
      {
       "output_type": "stream",
       "stream": "stdout",
       "text": [
        "\n",
        "Fast Food Workers Will Protest Again Today. Here's What They're Up Against. | Mother Jones\n"
       ]
      },
      {
       "output_type": "stream",
       "stream": "stdout",
       "text": [
        "\n",
        "WATCH: GOP Candidate Whacks Obama Bobblehead in Weird New Ad | Mother Jones\n"
       ]
      },
      {
       "output_type": "stream",
       "stream": "stdout",
       "text": [
        "\n",
        "Our Inability to Deal With Climate Change Is Going to Kill the Penguins | Mother Jones\n"
       ]
      },
      {
       "output_type": "stream",
       "stream": "stdout",
       "text": [
        "\n",
        "This Halloween, John Oliver Explains How the Sugar Industry Is Killing Us with Lies  | Mother Jones\n"
       ]
      },
      {
       "output_type": "stream",
       "stream": "stdout",
       "text": [
        "\n",
        "UPDATE: Republicans May Oppose China Climate Deal, But Change Is Coming Anyway | Mother Jones\n"
       ]
      },
      {
       "output_type": "stream",
       "stream": "stdout",
       "text": [
        "\n",
        "On Booze, Weed, Backyard Fracking, and Trapping Bears With Donuts, America Has Spoken | Mother Jones\n"
       ]
      },
      {
       "output_type": "stream",
       "stream": "stdout",
       "text": [
        "\n",
        "What Marc Andreessen Gets Wrong About Our Future Robot Overlords | Mother Jones\n"
       ]
      },
      {
       "output_type": "stream",
       "stream": "stdout",
       "text": [
        "\n",
        "You Probably Had No Idea the US Military Is Obsessed With Giant Cakes | Mother Jones\n"
       ]
      },
      {
       "output_type": "stream",
       "stream": "stdout",
       "text": [
        "\n",
        "Would Any of the Actual Czars Have Stopped Ebola? | Mother Jones\n"
       ]
      },
      {
       "output_type": "stream",
       "stream": "stdout",
       "text": [
        "\n",
        "Rand Paul Flubs the Facts on the Minimum Wage | Mother Jones\n"
       ]
      },
      {
       "output_type": "stream",
       "stream": "stdout",
       "text": [
        "\n",
        "Bad News for Obama: Fracking May Be Worse Than Burning Coal | Mother Jones\n"
       ]
      },
      {
       "output_type": "stream",
       "stream": "stdout",
       "text": [
        "\n",
        "A Mississippi Surprise: GOP Sen. Cochran Beats Back Tea Party Champion | Mother Jones\n"
       ]
      },
      {
       "output_type": "stream",
       "stream": "stdout",
       "text": [
        "\n",
        "Why BMI Is a Big Fat Scam | Mother Jones\n"
       ]
      },
      {
       "output_type": "stream",
       "stream": "stdout",
       "text": [
        "\n",
        "Hitler Comparisons, Santa Impersonators, and \u201cAl Qaeda\u2019s Best Friend\u201d: Highlights From Tuesday Night\u2019s GOP Primaries | Mother Jones\n"
       ]
      },
      {
       "output_type": "stream",
       "stream": "stdout",
       "text": [
        "\n",
        "A Playboy Ex-Con Reality Star, a Dance Instructor, and the Koch Brothers Walk Into a Congressional Race\u2026  | Mother Jones\n"
       ]
      },
      {
       "output_type": "stream",
       "stream": "stdout",
       "text": [
        "\n",
        "How 3,500 Voters in North Dakota Could Put the Brakes on America's Biggest Fracking Boom | Mother Jones\n"
       ]
      },
      {
       "output_type": "stream",
       "stream": "stdout",
       "text": [
        "\n",
        "Senate Democrats Re-up Their Dark-Money Disclosure Bill\u2014and Dare GOPers to Block It | Mother Jones\n"
       ]
      },
      {
       "output_type": "stream",
       "stream": "stdout",
       "text": [
        "\n",
        "Mexico's National Palace Burns As Protesters Demand Justice for Missing Students | Mother Jones\n"
       ]
      },
      {
       "output_type": "stream",
       "stream": "stdout",
       "text": [
        "\n",
        "WATCH: MoJo's Dan Schulman Talking Koch Brothers, 'Sons of Wichita' on The Daily Show | Mother Jones\n"
       ]
      },
      {
       "output_type": "stream",
       "stream": "stdout",
       "text": [
        "\n",
        "We Spent $7.6 Billion to Crush the Afghan Opium Trade\u2014and It's Doing Better Than Ever | Mother Jones\n"
       ]
      },
      {
       "output_type": "stream",
       "stream": "stdout",
       "text": [
        "\n",
        "The War on Voting May Have Swung These 4 Races | Mother Jones\n"
       ]
      },
      {
       "output_type": "stream",
       "stream": "stdout",
       "text": [
        "\n",
        "Could Enterovirus D68 Be Causing Polio-Like Paralysis in Kids? | Mother Jones\n"
       ]
      },
      {
       "output_type": "stream",
       "stream": "stdout",
       "text": [
        "\n",
        "Charts: The Most Ridiculously Expensive Olympics Ever | Mother Jones\n"
       ]
      },
      {
       "output_type": "stream",
       "stream": "stdout",
       "text": [
        "\n",
        "The Walmart Heirs Are Worth More Than Everyone in Your City Combined | Mother Jones\n"
       ]
      },
      {
       "output_type": "stream",
       "stream": "stdout",
       "text": [
        "\n",
        "Watch: How to Take Over the Middle East in a Few Easy Steps [Fiore Cartoon] | Mother Jones\n"
       ]
      },
      {
       "output_type": "stream",
       "stream": "stdout",
       "text": [
        "\n",
        "California Just Had Its Warmest Winter on Record | Mother Jones\n"
       ]
      },
      {
       "output_type": "stream",
       "stream": "stdout",
       "text": [
        "\n",
        "Slaughter-Free Milk Is Great for Cows, But Not the Environment | Mother Jones\n"
       ]
      },
      {
       "output_type": "stream",
       "stream": "stdout",
       "text": [
        "\n",
        "Scott Brown\u2019s Big-Money Sellout | Mother Jones\n"
       ]
      },
      {
       "output_type": "stream",
       "stream": "stdout",
       "text": [
        "\n",
        "We Are Making Ebola Outbreaks Worse by Cutting Down Forests | Mother Jones\n"
       ]
      },
      {
       "output_type": "stream",
       "stream": "stdout",
       "text": [
        "\n",
        "WATCH: A Fracking Company Got This Woman Banned From Her Grocery Store | Mother Jones\n"
       ]
      },
      {
       "output_type": "stream",
       "stream": "stdout",
       "text": [
        "\n",
        "WATCH: Rand Paul Says Dick Cheney Pushed for the Iraq War So Halliburton Would Profit | Mother Jones\n"
       ]
      },
      {
       "output_type": "stream",
       "stream": "stdout",
       "text": [
        "\n",
        "Obama to Donors: \"I Might Be In a Very Strong Position\" To Demand Constitutional Change on Money in Politics | Mother Jones\n"
       ]
      },
      {
       "output_type": "stream",
       "stream": "stdout",
       "text": [
        "\n",
        "Obama Addresses Midterm Election Results  | Mother Jones\n"
       ]
      },
      {
       "output_type": "stream",
       "stream": "stdout",
       "text": [
        "\n",
        "Was the Los Angeles Earthquake Caused by Fracking Techniques? | Mother Jones\n"
       ]
      },
      {
       "output_type": "stream",
       "stream": "stdout",
       "text": [
        "\n",
        "How Science Explains #Gamergate | Mother Jones\n"
       ]
      },
      {
       "output_type": "stream",
       "stream": "stdout",
       "text": [
        "\n",
        "How the Feds Are Ripping You Off To Benefit Big Coal  | Mother Jones\n"
       ]
      },
      {
       "output_type": "stream",
       "stream": "stdout",
       "text": [
        "\n",
        "Watch This Reporter Issue a Brutal Takedown of the International Banking System  | Mother Jones\n"
       ]
      },
      {
       "output_type": "stream",
       "stream": "stdout",
       "text": [
        "\n",
        "Is Dianne Feinstein Crafting a Secret Water Deal to Help Big Pistachio? UPDATED | Mother Jones\n"
       ]
      },
      {
       "output_type": "stream",
       "stream": "stdout",
       "text": [
        "\n",
        "April Had the Lowest Jobless Rate Since Obama Took Office | Mother Jones\n"
       ]
      },
      {
       "output_type": "stream",
       "stream": "stdout",
       "text": [
        "\n",
        "Here's a First Look at Your Long-Awaited Racially Diverse Emojis  | Mother Jones\n"
       ]
      },
      {
       "output_type": "stream",
       "stream": "stdout",
       "text": [
        "\n",
        "This Texas Democrat Could Be the Future of Her Party\u2014And Her Name Isn't Wendy Davis | Mother Jones\n"
       ]
      },
      {
       "output_type": "stream",
       "stream": "stdout",
       "text": [
        "\n",
        "Here's What Fracking Can Do to Your Health | Mother Jones\n"
       ]
      },
      {
       "output_type": "stream",
       "stream": "stdout",
       "text": [
        "\n",
        "Elizabeth Warren to Obama: Fed Nominees Should Crack Down On Big Banks | Mother Jones\n"
       ]
      },
      {
       "output_type": "stream",
       "stream": "stdout",
       "text": [
        "\n",
        "If These 35,000 Walruses Can't Convince You Climate Change Is Real, I Don't Know What to Tell You | Mother Jones\n"
       ]
      },
      {
       "output_type": "stream",
       "stream": "stdout",
       "text": [
        "\n",
        "Friday Cat Blogging - 14 November 2014 | Mother Jones\n"
       ]
      },
      {
       "output_type": "stream",
       "stream": "stdout",
       "text": [
        "\n",
        "House Candidate Called Female Senators \"Undeserving Bimbos in Tennis Shoes\" | Mother Jones\n"
       ]
      },
      {
       "output_type": "stream",
       "stream": "stdout",
       "text": [
        "\n",
        "Pete Seeger, RIP. And, By the Way, You Won. | Mother Jones\n"
       ]
      },
      {
       "output_type": "stream",
       "stream": "stdout",
       "text": [
        "\n",
        "Has Obama Gone Too Far? 5 Key Questions Answered About the Legality of His Immigration Plan | Mother Jones\n"
       ]
      },
      {
       "output_type": "stream",
       "stream": "stdout",
       "text": [
        "\n",
        "Obamacare Could Have Turned Millions of Uninsured Americans Into Voters | Mother Jones\n"
       ]
      },
      {
       "output_type": "stream",
       "stream": "stdout",
       "text": [
        "\n",
        "Liberals and Conservatives Join Together to Slam Obama for Sidestepping Congress on ISIS Fight | Mother Jones\n"
       ]
      },
      {
       "output_type": "stream",
       "stream": "stdout",
       "text": [
        "\n",
        "Why Henry Waxman Was One of the Most Important Congressmen Ever | Mother Jones\n"
       ]
      },
      {
       "output_type": "stream",
       "stream": "stdout",
       "text": [
        "\n",
        "Photos: This Year's Strongest Typhoon Pounds Japan | Mother Jones\n"
       ]
      },
      {
       "output_type": "stream",
       "stream": "stdout",
       "text": [
        "\n",
        "These State Lawmakers Want to Save Thanksgiving From Greedy Retailers | Mother Jones\n"
       ]
      },
      {
       "output_type": "stream",
       "stream": "stdout",
       "text": [
        "\n",
        "The Teachers' Unions Back Mark Pryor. He Raised Money for Their Enemies Anyway. | Mother Jones\n"
       ]
      },
      {
       "output_type": "stream",
       "stream": "stdout",
       "text": [
        "\n",
        "Diss Google Buses All You Want. They're Still Pretty Green. | Mother Jones\n"
       ]
      },
      {
       "output_type": "stream",
       "stream": "stdout",
       "text": [
        "\n",
        "Another Day, Another School Shooting | Mother Jones\n"
       ]
      },
      {
       "output_type": "stream",
       "stream": "stdout",
       "text": [
        "\n",
        "EPA: Those Bee-Killing Pesticides? They're Actually Pretty Useless  | Mother Jones\n"
       ]
      },
      {
       "output_type": "stream",
       "stream": "stdout",
       "text": [
        "\n",
        "Mitt Romney's Latest Excuse for His 47 Percent Remarks Is a Doozy | Mother Jones\n"
       ]
      },
      {
       "output_type": "stream",
       "stream": "stdout",
       "text": [
        "\n",
        "MAP: In 31 States, Daycare Is More Expensive Than College | Mother Jones\n"
       ]
      },
      {
       "output_type": "stream",
       "stream": "stdout",
       "text": [
        "\n",
        "Scientists Want to Make a Malaria-Resistant Mosquito | Mother Jones\n"
       ]
      },
      {
       "output_type": "stream",
       "stream": "stdout",
       "text": [
        "\n",
        "Public Evenly Split on Immigration Action | Mother Jones\n"
       ]
      },
      {
       "output_type": "stream",
       "stream": "stdout",
       "text": [
        "\n",
        "New Memo: Kissinger Gave the \"Green Light\" for Argentina's Dirty War | Mother Jones\n"
       ]
      },
      {
       "output_type": "stream",
       "stream": "stdout",
       "text": [
        "\n",
        "\"Duck Dynasty\" Congressional Candidate Says Godlessness Will Cause \"Mass Carnage and Mass Death\" | Mother Jones\n"
       ]
      },
      {
       "output_type": "stream",
       "stream": "stdout",
       "text": [
        "\n",
        "More Audio Surfaces From Dan Page, the St. Louis County Police Officer Suspended After Racist Remarks | Mother Jones\n"
       ]
      },
      {
       "output_type": "stream",
       "stream": "stdout",
       "text": [
        "\n",
        "How American Indians Could Save the Democrats' Senate Majority | Mother Jones\n"
       ]
      },
      {
       "output_type": "stream",
       "stream": "stdout",
       "text": [
        "\n",
        "These 204 Republicans Don't Want to Punish Companies That Steal Workers' Wages | Mother Jones\n"
       ]
      },
      {
       "output_type": "stream",
       "stream": "stdout",
       "text": [
        "\n",
        "Photos: Women Who Risked Everything to Expose Sexual Assault in the Military | Mother Jones\n"
       ]
      },
      {
       "output_type": "stream",
       "stream": "stdout",
       "text": [
        "\n",
        "Scott Brown Sure Posts a Lot of Photos of Himself Working Out | Mother Jones\n"
       ]
      },
      {
       "output_type": "stream",
       "stream": "stdout",
       "text": [
        "\n",
        "The Head of the IMF Says Inequality Threatens Democracy. Here Are 7 Charts Proving She's Right. | Mother Jones\n"
       ]
      },
      {
       "output_type": "stream",
       "stream": "stdout",
       "text": [
        "\n",
        "Ferguson Is 60 Percent Black. Virtually All Its Cops Are White. | Mother Jones\n"
       ]
      },
      {
       "output_type": "stream",
       "stream": "stdout",
       "text": [
        "\n",
        "Why There Is No Cure for the GOP's Benghazi Fever | Mother Jones\n"
       ]
      },
      {
       "output_type": "stream",
       "stream": "stdout",
       "text": [
        "\n",
        "Liberal Dems Are Split Over Obama and ISIS | Mother Jones\n"
       ]
      },
      {
       "output_type": "stream",
       "stream": "stdout",
       "text": [
        "\n",
        "Every Single Thing You Need to Know About Gerrymandering and Republicans | Mother Jones\n"
       ]
      },
      {
       "output_type": "stream",
       "stream": "stdout",
       "text": [
        "\n",
        "The Chilling Anti-Government, Cliven Bundy-Loving Facebook Posts of the Alleged Las Vegas Shooters | Mother Jones\n"
       ]
      },
      {
       "output_type": "stream",
       "stream": "stdout",
       "text": [
        "\n",
        "Reformers Launch $1 Million Ad Blitz Demanding \"Fair Elections\" Bill in New York State | Mother Jones\n"
       ]
      },
      {
       "output_type": "stream",
       "stream": "stdout",
       "text": [
        "\n",
        "In Search of a Revolution: Photos From Occupy Austin | Mother Jones\n"
       ]
      },
      {
       "output_type": "stream",
       "stream": "stdout",
       "text": [
        "\n",
        "5 New York Epidemics That Were Way Worse Than Ebola Will Be | Mother Jones\n"
       ]
      },
      {
       "output_type": "stream",
       "stream": "stdout",
       "text": [
        "\n",
        "Duck Dynasty Guy's Ad for Duck Dynasty Candidate Is the Full Duck Dynasty | Mother Jones\n"
       ]
      },
      {
       "output_type": "stream",
       "stream": "stdout",
       "text": [
        "\n",
        "How Do San Franciscans Really Feel About Google Buses? | Mother Jones\n"
       ]
      },
      {
       "output_type": "stream",
       "stream": "stdout",
       "text": [
        "\n",
        "Here Are This Year's Judicial Elections to Watch | Mother Jones\n"
       ]
      },
      {
       "output_type": "stream",
       "stream": "stdout",
       "text": [
        "\n",
        "Check Out Yoav Litvin's \"Outdoor Gallery\" of New York City Street Art | Mother Jones\n"
       ]
      },
      {
       "output_type": "stream",
       "stream": "stdout",
       "text": [
        "\n",
        "Walmart Is the Biggest Corporate Solar User. Why Are Its Owners Funding Groups That Oppose Solar? | Mother Jones\n"
       ]
      },
      {
       "output_type": "stream",
       "stream": "stdout",
       "text": [
        "\n",
        "South Dakota Senate Candidate Boasted of \"African American Friends,\" Mulled Run for DC Mayor | Mother Jones\n"
       ]
      },
      {
       "output_type": "stream",
       "stream": "stdout",
       "text": [
        "\n",
        "In a Radical Shift, California Police Chiefs Push for Regulation of Medical Marijuana  | Mother Jones\n"
       ]
      },
      {
       "output_type": "stream",
       "stream": "stdout",
       "text": [
        "\n",
        "New York Times Signals More Newsroom Layoffs Are Imminent | Mother Jones\n"
       ]
      },
      {
       "output_type": "stream",
       "stream": "stdout",
       "text": [
        "\n",
        "Texas College Rejects Two Nigerian Applicants Because of Ebola Panic | Mother Jones\n"
       ]
      },
      {
       "output_type": "stream",
       "stream": "stdout",
       "text": [
        "\n",
        "This Republican Tried To Stop North Carolina From Apologizing For A Racist Massacre. He\u2019d Like Your Vote, Please. | Mother Jones\n"
       ]
      },
      {
       "output_type": "stream",
       "stream": "stdout",
       "text": [
        "\n",
        "Awkward: Watch a Supercut of Republicans Using China As an Excuse to Do Nothing About Climate Change | Mother Jones\n"
       ]
      },
      {
       "output_type": "stream",
       "stream": "stdout",
       "text": [
        "\n",
        "Former GOP Senator Who First Hired McConnell Slams Him for Opposing Obamacare | Mother Jones\n"
       ]
      },
      {
       "output_type": "stream",
       "stream": "stdout",
       "text": [
        "\n",
        "Nope, the Tax Revolt Isn't Dead Yet | Mother Jones\n"
       ]
      },
      {
       "output_type": "stream",
       "stream": "stdout",
       "text": [
        "\n",
        "Map: Watching Americans Share Their Votes On Twitter | Mother Jones\n"
       ]
      },
      {
       "output_type": "stream",
       "stream": "stdout",
       "text": [
        "\n",
        "15 Reasons You Should Vote Today | Mother Jones\n"
       ]
      },
      {
       "output_type": "stream",
       "stream": "stdout",
       "text": [
        "\n",
        "Hustle and Flow: Here's Who Really Controls California's Water | Mother Jones\n"
       ]
      },
      {
       "output_type": "stream",
       "stream": "stdout",
       "text": [
        "\n",
        "This \"Jeopardy!\" Champ and Proud Geek Gives Swirlies to Gamergaters in His Spare Time | Mother Jones\n"
       ]
      },
      {
       "output_type": "stream",
       "stream": "stdout",
       "text": [
        "\n",
        "Two Important Notes For Anyone Renewing Obamacare Coverage | Mother Jones\n"
       ]
      },
      {
       "output_type": "stream",
       "stream": "stdout",
       "text": [
        "\n",
        "Here's What's Been Happening in Ferguson as Tensions Rise Again | Mother Jones\n"
       ]
      },
      {
       "output_type": "stream",
       "stream": "stdout",
       "text": [
        "\n",
        "Neil deGrasse Tyson Has Some Pretty Great Advice For This First Grader | Mother Jones\n"
       ]
      },
      {
       "output_type": "stream",
       "stream": "stdout",
       "text": [
        "\n",
        "Robert Frank's Photos of America Still Feel As Poignant As They Did 60 Years Ago | Mother Jones\n"
       ]
      },
      {
       "output_type": "stream",
       "stream": "stdout",
       "text": [
        "\n",
        "If You're White and Feel Discriminated Against, Jose Antonio Vargas Wants to Talk to You | Mother Jones\n"
       ]
      },
      {
       "output_type": "stream",
       "stream": "stdout",
       "text": [
        "\n",
        "Silly String Is Illegal Here\u2014But Only on Halloween  | Mother Jones\n"
       ]
      },
      {
       "output_type": "stream",
       "stream": "stdout",
       "text": [
        "\n",
        "7 Talking Points You Need for Discussing the Iraq Crisis | Mother Jones\n"
       ]
      },
      {
       "output_type": "stream",
       "stream": "stdout",
       "text": [
        "\n",
        "Is New Mexico Gov. Susana Martinez the Next Sarah Palin? | Mother Jones\n"
       ]
      },
      {
       "output_type": "stream",
       "stream": "stdout",
       "text": [
        "\n",
        "Republicans Finally Admit There Is No Benghazi Scandal | Mother Jones\n"
       ]
      },
      {
       "output_type": "stream",
       "stream": "stdout",
       "text": [
        "\n",
        "Today's Winner in Washington: The Filibuster | Mother Jones\n"
       ]
      },
      {
       "output_type": "stream",
       "stream": "stdout",
       "text": [
        "\n",
        "GOP Congressman Says Central America Too Dangerous for Congressmen\u2014But Not for Kids | Mother Jones\n"
       ]
      },
      {
       "output_type": "stream",
       "stream": "stdout",
       "text": [
        "\n",
        "Colorado Dems: We Caught James O'Keefe and His Friends Trying to Bait Us Into Approving Voter Fraud | Mother Jones\n"
       ]
      },
      {
       "output_type": "stream",
       "stream": "stdout",
       "text": [
        "\n",
        "Meet the Locals Trying to Keep the Peace in Ferguson | Mother Jones\n"
       ]
      },
      {
       "output_type": "stream",
       "stream": "stdout",
       "text": [
        "\n",
        "Benghazi Is Over, But the Mainstream Media Just Yawns | Mother Jones\n"
       ]
      },
      {
       "output_type": "stream",
       "stream": "stdout",
       "text": [
        "\n",
        "Study: White People Think Black People Are Magical Unicorns | Mother Jones\n"
       ]
      },
      {
       "output_type": "stream",
       "stream": "stdout",
       "text": [
        "\n",
        "If This Terrifying Report Doesn't Wake You Up to the Realities of What We're Doing to This Planet, What Will? | Mother Jones\n"
       ]
      },
      {
       "output_type": "stream",
       "stream": "stdout",
       "text": [
        "\n",
        "Krugman: Obama One of the Most Successful Presidents in American History | Mother Jones\n"
       ]
      },
      {
       "output_type": "stream",
       "stream": "stdout",
       "text": [
        "\n",
        "Drinking a \"Medium\" Soda Every Day Can Age You As Much As Smoking Does | Mother Jones\n"
       ]
      },
      {
       "output_type": "stream",
       "stream": "stdout",
       "text": [
        "\n",
        "Why Silicon Valley's Top Dogs Fought Back So Feebly Against NSA Spying | Mother Jones\n"
       ]
      },
      {
       "output_type": "stream",
       "stream": "stdout",
       "text": [
        "\n",
        "This Is the Left's Confidential $100 Million Plan to Win Back the States | Mother Jones\n"
       ]
      },
      {
       "output_type": "stream",
       "stream": "stdout",
       "text": [
        "\n",
        "Meet the Congressman Whose District Grows Most of Your Weed  | Mother Jones\n"
       ]
      },
      {
       "output_type": "stream",
       "stream": "stdout",
       "text": [
        "\n",
        "The Case for Senators Skipping Committee Hearings | Mother Jones\n"
       ]
      },
      {
       "output_type": "stream",
       "stream": "stdout",
       "text": [
        "\n",
        "Will Your State Be Next to Legalize Pot?  | Mother Jones\n"
       ]
      },
      {
       "output_type": "stream",
       "stream": "stdout",
       "text": [
        "\n",
        "8 Candidates We Can\u2019t Believe Might Actually Win | Mother Jones\n"
       ]
      },
      {
       "output_type": "stream",
       "stream": "stdout",
       "text": [
        "\n",
        "Is Obama a Realist, Isolationist, Humanitarian Interventionist, or Drone-Dropping Hawk? | Mother Jones\n"
       ]
      },
      {
       "output_type": "stream",
       "stream": "stdout",
       "text": [
        "\n",
        "These Laws Let Accused Rapists Off the Hook | Mother Jones\n"
       ]
      },
      {
       "output_type": "stream",
       "stream": "stdout",
       "text": [
        "\n",
        "Wiretapping Advocate Condoleezza Rice Joins Dropbox | Mother Jones\n"
       ]
      },
      {
       "output_type": "stream",
       "stream": "stdout",
       "text": [
        "\n",
        "Finland Starting to Think Hard About Joining NATO | Mother Jones\n"
       ]
      },
      {
       "output_type": "stream",
       "stream": "stdout",
       "text": [
        "\n",
        "The Ohlone People Were Forced Out of San Francisco. Now They Want Part of Their Land Back. | Mother Jones\n"
       ]
      },
      {
       "output_type": "stream",
       "stream": "stdout",
       "text": [
        "\n",
        "Will It Take a Keg Stand for Mary Landrieu to Get Reelected? | Mother Jones\n"
       ]
      },
      {
       "output_type": "stream",
       "stream": "stdout",
       "text": [
        "\n",
        "This Tea Partier Wants to Turn a 30-Acre Sinkhole Into a Campaign Issue | Mother Jones\n"
       ]
      },
      {
       "output_type": "stream",
       "stream": "stdout",
       "text": [
        "\n",
        "Why Rand Paul Was the Only Kentucky Republican to Lose on Tuesday | Mother Jones\n"
       ]
      },
      {
       "output_type": "stream",
       "stream": "stdout",
       "text": [
        "\n",
        "Rand Paul: GOP Should Reject Cheney for Defending \"Torture\" | Mother Jones\n"
       ]
      },
      {
       "output_type": "stream",
       "stream": "stdout",
       "text": [
        "\n",
        "Is This Fungus the Future of Farming? | Mother Jones\n"
       ]
      },
      {
       "output_type": "stream",
       "stream": "stdout",
       "text": [
        "\n",
        "Can This Coal Plant Save the Climate? | Mother Jones\n"
       ]
      },
      {
       "output_type": "stream",
       "stream": "stdout",
       "text": [
        "\n",
        "How to Open a Wine Bottle With Your Shoe | Mother Jones\n"
       ]
      },
      {
       "output_type": "stream",
       "stream": "stdout",
       "text": [
        "\n",
        "New York Stock Exchange Broke Its Own Rules, SEC Says | Mother Jones\n"
       ]
      },
      {
       "output_type": "stream",
       "stream": "stdout",
       "text": [
        "\n",
        "Elizabeth Warren to Fed: Stop Delegating on Enforcement  | Mother Jones\n"
       ]
      },
      {
       "output_type": "stream",
       "stream": "stdout",
       "text": [
        "\n",
        "Winnie the Pooh Banned From Playground For Wrong Reason | Mother Jones\n"
       ]
      },
      {
       "output_type": "stream",
       "stream": "stdout",
       "text": [
        "\n",
        "Rand Paul Thinks Ebola Is More Contagious Than AIDS | Mother Jones\n"
       ]
      },
      {
       "output_type": "stream",
       "stream": "stdout",
       "text": [
        "\n",
        "How Shall They Impeach Obama? Conservatives Count the Ways | Mother Jones\n"
       ]
      },
      {
       "output_type": "stream",
       "stream": "stdout",
       "text": [
        "\n",
        "Voter's Boyfriend to Obama: \"Mr. President, Don't Touch My Girlfriend\" | Mother Jones\n"
       ]
      },
      {
       "output_type": "stream",
       "stream": "stdout",
       "text": [
        "\n",
        "Twitter Is Not at War With ISIS. Here's Why. | Mother Jones\n"
       ]
      },
      {
       "output_type": "stream",
       "stream": "stdout",
       "text": [
        "\n",
        "How Rand Paul Bailed on His Bold Plan to Reform Big-Money Politics in Washington | Mother Jones\n"
       ]
      },
      {
       "output_type": "stream",
       "stream": "stdout",
       "text": [
        "\n",
        "Here Is a Photo of President Obama Holding a Koala | Mother Jones\n"
       ]
      },
      {
       "output_type": "stream",
       "stream": "stdout",
       "text": [
        "\n",
        "The Walmart Heirs Give a Measly Amount to Charity | Mother Jones\n"
       ]
      },
      {
       "output_type": "stream",
       "stream": "stdout",
       "text": [
        "\n",
        "President Obama Can Safely Keep His Veto Pen in Mothballs | Mother Jones\n"
       ]
      },
      {
       "output_type": "stream",
       "stream": "stdout",
       "text": [
        "\n",
        "Wendy Davis Spent $36 Million and All She Got Was This Lousy Landslide. Now What? | Mother Jones\n"
       ]
      },
      {
       "output_type": "stream",
       "stream": "stdout",
       "text": [
        "\n",
        "A Wee Caution About the Success of the Renewable Energy Loan Program | Mother Jones\n"
       ]
      },
      {
       "output_type": "stream",
       "stream": "stdout",
       "text": [
        "\n",
        "California's Insane Nut Boom, In 3 Simple Charts | Mother Jones\n"
       ]
      },
      {
       "output_type": "stream",
       "stream": "stdout",
       "text": [
        "\n",
        "GOP Lawmakers Scramble to Court Tesla | Mother Jones\n"
       ]
      },
      {
       "output_type": "stream",
       "stream": "stdout",
       "text": [
        "\n",
        "10 Hours in Ferguson: A Visual Timeline of Michael Brown's Death and Its Aftermath | Mother Jones\n"
       ]
      },
      {
       "output_type": "stream",
       "stream": "stdout",
       "text": [
        "\n",
        "The Next Cliven Bundy Showdown | Mother Jones\n"
       ]
      },
      {
       "output_type": "stream",
       "stream": "stdout",
       "text": [
        "\n",
        "Antonin Scalia's Son Now Works For Snoopy | Mother Jones\n"
       ]
      },
      {
       "output_type": "stream",
       "stream": "stdout",
       "text": [
        "\n",
        "GOP Obstructionism Is Holding Up Funds to Catch Rapists | Mother Jones\n"
       ]
      },
      {
       "output_type": "stream",
       "stream": "stdout",
       "text": [
        "\n",
        "This Restaurant Is Trying To Be The Worst One on Yelp | Mother Jones\n"
       ]
      },
      {
       "output_type": "stream",
       "stream": "stdout",
       "text": [
        "\n",
        "FLASHBACK: Remember When Paul Wolfowitz Said Not to Worry About Sectarian Violence in Iraq? | Mother Jones\n"
       ]
      },
      {
       "output_type": "stream",
       "stream": "stdout",
       "text": [
        "\n",
        "House Republicans Pass Bill to Lower Taxes on the Rich and Raise Taxes on the Poor | Mother Jones\n"
       ]
      },
      {
       "output_type": "stream",
       "stream": "stdout",
       "text": [
        "\n",
        "Here Are 4 Lawsuits That Could Inflict More Damage on Unions After Harris v. Quinn | Mother Jones\n"
       ]
      },
      {
       "output_type": "stream",
       "stream": "stdout",
       "text": [
        "\n",
        "Texas Just Won the Right to Disenfranchise 600,000 People. It's Not the First Time. | Mother Jones\n"
       ]
      },
      {
       "output_type": "stream",
       "stream": "stdout",
       "text": [
        "\n",
        "Where Is It a Crime to Leave a Kid Alone in a Parked Car?  | Mother Jones\n"
       ]
      },
      {
       "output_type": "stream",
       "stream": "stdout",
       "text": [
        "\n",
        "Silicon Valley Firms Are Even Whiter and More Male Than You Thought | Mother Jones\n"
       ]
      },
      {
       "output_type": "stream",
       "stream": "stdout",
       "text": [
        "\n",
        "Obama Takes a Good Half Step Toward an Unequivocal Ban on Torture | Mother Jones\n"
       ]
      },
      {
       "output_type": "stream",
       "stream": "stdout",
       "text": [
        "\n",
        "The Koch 130 | Mother Jones\n"
       ]
      },
      {
       "output_type": "stream",
       "stream": "stdout",
       "text": [
        "\n",
        "Nevada Dems Slam Boehner for Fundraising off Nevadans Rather Than Extending Their Unemployment Benefits | Mother Jones\n"
       ]
      },
      {
       "output_type": "stream",
       "stream": "stdout",
       "text": [
        "\n",
        "Butterball Goes \"Humane\" for Thanksgiving. Really?  | Mother Jones\n"
       ]
      },
      {
       "output_type": "stream",
       "stream": "stdout",
       "text": [
        "\n",
        "White House Aide: No Way the GOP Will Work With Us | Mother Jones\n"
       ]
      },
      {
       "output_type": "stream",
       "stream": "stdout",
       "text": [
        "\n",
        "Making School Lunch Healthy Is Hard. Getting Kids to Love It Is Harder. This Lady Did Both. | Mother Jones\n"
       ]
      },
      {
       "output_type": "stream",
       "stream": "stdout",
       "text": [
        "\n",
        "Here's How Many Ridiculously Hot Days Your City Will Have in the Future | Mother Jones\n"
       ]
      },
      {
       "output_type": "stream",
       "stream": "stdout",
       "text": [
        "\n",
        "Why Did Top Scientific Journals Reject This Dr. Bronner's Ad? | Mother Jones\n"
       ]
      },
      {
       "output_type": "stream",
       "stream": "stdout",
       "text": [
        "\n",
        "There Are 1,401 Uninspected High-Risk Oil and Gas Wells. Here's Where They Are. | Mother Jones\n"
       ]
      },
      {
       "output_type": "stream",
       "stream": "stdout",
       "text": [
        "\n",
        "GOP Congressional Candidate Says Obama Has Rare Mental Illness | Mother Jones\n"
       ]
      },
      {
       "output_type": "stream",
       "stream": "stdout",
       "text": [
        "\n",
        "How Many Ways Can the City of Ferguson Slap You With Court Fees? We Counted | Mother Jones\n"
       ]
      },
      {
       "output_type": "stream",
       "stream": "stdout",
       "text": [
        "\n",
        "5 Signs the Dark-Money Apocalypse Is Upon Us | Mother Jones\n"
       ]
      },
      {
       "output_type": "stream",
       "stream": "stdout",
       "text": [
        "\n",
        "David Brat, the Libertarian Who Beat Eric Cantor, Doesn't Believe in the \"Common\" Good | Mother Jones\n"
       ]
      },
      {
       "output_type": "stream",
       "stream": "stdout",
       "text": [
        "\n",
        "43 Mexican College Students Disappeared Weeks Ago. What Happened to Them? | Mother Jones\n"
       ]
      },
      {
       "output_type": "stream",
       "stream": "stdout",
       "text": [
        "\n",
        " Check Out This Amazing Collection of Iconic Photos of the 1960s Haight Street Scene | Mother Jones\n"
       ]
      },
      {
       "output_type": "stream",
       "stream": "stdout",
       "text": [
        "\n",
        "13 Astounding Numbers About This Year's World Cup | Mother Jones\n"
       ]
      },
      {
       "output_type": "stream",
       "stream": "stdout",
       "text": [
        "\n",
        "Germany's Key to Clean Energy Is\u2026This Coal Mine? | Mother Jones\n"
       ]
      },
      {
       "output_type": "stream",
       "stream": "stdout",
       "text": [
        "\n",
        "Being a Terrible Candidate Isn't What Doomed Martha Coakley | Mother Jones\n"
       ]
      },
      {
       "output_type": "stream",
       "stream": "stdout",
       "text": [
        "\n",
        "How America Finances the Destruction in Gaza\u2014and the Cleanup | Mother Jones\n"
       ]
      },
      {
       "output_type": "stream",
       "stream": "stdout",
       "text": [
        "\n",
        "Ebola Panic Mysteriously Disappeared Last Tuesday | Mother Jones\n"
       ]
      },
      {
       "output_type": "stream",
       "stream": "stdout",
       "text": [
        "\n",
        "Shadowy Wisconsin Group That Helped Scott Walker Win His Recall Was Backed by the Koch Network | Mother Jones\n"
       ]
      },
      {
       "output_type": "stream",
       "stream": "stdout",
       "text": [
        "\n",
        "The Child Migrant Surge Is Slowing Down, But Not Because America Freaked Out | Mother Jones\n"
       ]
      },
      {
       "output_type": "stream",
       "stream": "stdout",
       "text": [
        "\n",
        "We Just Had the Hottest October on Record | Mother Jones\n"
       ]
      },
      {
       "output_type": "stream",
       "stream": "stdout",
       "text": [
        "\n",
        "Watch Elizabeth Warren Slam the GOP for Blocking Unemployment Benefits | Mother Jones\n"
       ]
      },
      {
       "output_type": "stream",
       "stream": "stdout",
       "text": [
        "\n",
        "This Is the One Democrat Texas' Voter ID Law Could Really Screw Over | Mother Jones\n"
       ]
      },
      {
       "output_type": "stream",
       "stream": "stdout",
       "text": [
        "\n",
        "Here's Another Crazy Consequence of Eric Cantor's Loss | Mother Jones\n"
       ]
      },
      {
       "output_type": "stream",
       "stream": "stdout",
       "text": [
        "\n",
        "VIDEO: David Corn on Whether Chris Christie Is Coming to Terms with His Bridge Scandal | Mother Jones\n"
       ]
      },
      {
       "output_type": "stream",
       "stream": "stdout",
       "text": [
        "\n",
        "The Lawyer Behind the Supreme Court's Latest Campaign Finance Decision Has a New Cause: Sarah Palin for Senate | Mother Jones\n"
       ]
      },
      {
       "output_type": "stream",
       "stream": "stdout",
       "text": [
        "\n",
        "Obama Calls for a New Crackdown on Wall Street | Mother Jones\n"
       ]
      },
      {
       "output_type": "stream",
       "stream": "stdout",
       "text": [
        "\n",
        "Idaho Tribe Cancels Ted Nugent Concert Because of His Support for Washington Football Team Name | Mother Jones\n"
       ]
      },
      {
       "output_type": "stream",
       "stream": "stdout",
       "text": [
        "\n",
        "Monsanto Is Using Big Data to Take Over the World | Mother Jones\n"
       ]
      },
      {
       "output_type": "stream",
       "stream": "stdout",
       "text": [
        "\n",
        "The Latest in Ukraine in 19 Photos: Elections, Violence in the East, and Obama Meets the New President | Mother Jones\n"
       ]
      },
      {
       "output_type": "stream",
       "stream": "stdout",
       "text": [
        "\n",
        "Did Obama Just Signal That the FCC Will Preserve Net Neutrality? | Mother Jones\n"
       ]
      },
      {
       "output_type": "stream",
       "stream": "stdout",
       "text": [
        "\n",
        "4 Unarmed Black Men Have Been Killed By Police in the Last Month | Mother Jones\n"
       ]
      },
      {
       "output_type": "stream",
       "stream": "stdout",
       "text": [
        "\n",
        "This Week in 13 Photos: Sgt. Bergdahl, D-Day and Tiananmen Remembered, and Elections around the World | Mother Jones\n"
       ]
      },
      {
       "output_type": "stream",
       "stream": "stdout",
       "text": [
        "\n",
        "The GOP Is at War With Itself. So Why Are Republicans Poised to Win in 2014? | Mother Jones\n"
       ]
      },
      {
       "output_type": "stream",
       "stream": "stdout",
       "text": [
        "\n",
        "New Mexico AG Opens Criminal Investigation Into Missing Susana Martinez Emails | Mother Jones\n"
       ]
      },
      {
       "output_type": "stream",
       "stream": "stdout",
       "text": [
        "\n",
        "This \"Tough-As-Nails\" Banking Watchdog Isn't That Tough-As-Nails | Mother Jones\n"
       ]
      },
      {
       "output_type": "stream",
       "stream": "stdout",
       "text": [
        "\n",
        "Chart of the Day: Unauthorized Immigrants in the United States | Mother Jones\n"
       ]
      },
      {
       "output_type": "stream",
       "stream": "stdout",
       "text": [
        "\n",
        "Is Your Judge for Sale? | Mother Jones\n"
       ]
      },
      {
       "output_type": "stream",
       "stream": "stdout",
       "text": [
        "\n",
        "Tim Geithner on Why Obama Passed Over Elizabeth Warren to Head the Consumer Protection Bureau | Mother Jones\n"
       ]
      },
      {
       "output_type": "stream",
       "stream": "stdout",
       "text": [
        "\n",
        "How the US Government Helps McDonald's Sell Junk Food | Mother Jones\n"
       ]
      },
      {
       "output_type": "stream",
       "stream": "stdout",
       "text": [
        "\n",
        "Listen: Radio Ads From America's Pot-Growing Mecca | Mother Jones\n"
       ]
      },
      {
       "output_type": "stream",
       "stream": "stdout",
       "text": [
        "\n",
        "Anonymous' \"Op Ferguson\" Says It Will ID the Officer Who Killed Michael Brown | Mother Jones\n"
       ]
      },
      {
       "output_type": "stream",
       "stream": "stdout",
       "text": [
        "\n",
        "Fast-Food Workers Arrested In Fight For $15 Minimum Wage  | Mother Jones\n"
       ]
      },
      {
       "output_type": "stream",
       "stream": "stdout",
       "text": [
        "\n",
        "These Maps Show How Many Brutally Hot Days You Will Suffer When You're Old | Mother Jones\n"
       ]
      },
      {
       "output_type": "stream",
       "stream": "stdout",
       "text": [
        "\n",
        "Bill Gates Spent More Than $200 Million to Promote Common Core. Here\u2019s Where it Went. | Mother Jones\n"
       ]
      },
      {
       "output_type": "stream",
       "stream": "stdout",
       "text": [
        "\n",
        "These Guys Were on the Deepwater Horizon When It Blew Up | Mother Jones\n"
       ]
      },
      {
       "output_type": "stream",
       "stream": "stdout",
       "text": [
        "\n",
        "The Ferguson Shooting and the Science of Race and Guns | Mother Jones\n"
       ]
      },
      {
       "output_type": "stream",
       "stream": "stdout",
       "text": [
        "\n",
        "This News Anchor Wore the Same Suit for an Entire Year and No One Noticed | Mother Jones\n"
       ]
      },
      {
       "output_type": "stream",
       "stream": "stdout",
       "text": [
        "\n",
        "The Fed Was Supposed to Rein In Its Bailout Powers. Instead It Did This. | Mother Jones\n"
       ]
      },
      {
       "output_type": "stream",
       "stream": "stdout",
       "text": [
        "\n",
        "Hillary Clinton's Goldman Sachs Problem | Mother Jones\n"
       ]
      },
      {
       "output_type": "stream",
       "stream": "stdout",
       "text": [
        "\n",
        "Elizabeth Warren: The Obama Administration Chose to Protect Wall Street, Not Families | Mother Jones\n"
       ]
      },
      {
       "output_type": "stream",
       "stream": "stdout",
       "text": [
        "\n",
        "Science Says You Can Split Infinitives and Use the Passive Voice | Mother Jones\n"
       ]
      },
      {
       "output_type": "stream",
       "stream": "stdout",
       "text": [
        "\n",
        "Obama Slams Putin and Calls for Ukraine Ceasefire | Mother Jones\n"
       ]
      },
      {
       "output_type": "stream",
       "stream": "stdout",
       "text": [
        "\n",
        "This Is How Much America Spends Putting Out Wildfires | Mother Jones\n"
       ]
      },
      {
       "output_type": "stream",
       "stream": "stdout",
       "text": [
        "\n",
        "This Republican Who Wants to End the Weekend Is Probably Headed to Congress | Mother Jones\n"
       ]
      },
      {
       "output_type": "stream",
       "stream": "stdout",
       "text": [
        "\n",
        "What's Kathleen Hanna Listening to 16 Years Post-Bikini Kill? | Mother Jones\n"
       ]
      },
      {
       "output_type": "stream",
       "stream": "stdout",
       "text": [
        "\n",
        "READ: Conspiracy Theorist Dick Morris Blasts Clinton Conspiracy Theorists in Unsealed '95 Memo | Mother Jones\n"
       ]
      },
      {
       "output_type": "stream",
       "stream": "stdout",
       "text": [
        "\n",
        "Supreme Court To Decide if Judges in 30 States Can Solicit Campaign Cash | Mother Jones\n"
       ]
      },
      {
       "output_type": "stream",
       "stream": "stdout",
       "text": [
        "\n",
        "Cop Being Sued Over Beating Is Now a Ferguson City Councilwoman | Mother Jones\n"
       ]
      },
      {
       "output_type": "stream",
       "stream": "stdout",
       "text": [
        "\n",
        "Backstabbing in Hillaryland: Here We Go Again | Mother Jones\n"
       ]
      },
      {
       "output_type": "stream",
       "stream": "stdout",
       "text": [
        "\n",
        "No, New York Times, Keystone XL Is Not a \"Rounding Error\" | Mother Jones\n"
       ]
      },
      {
       "output_type": "stream",
       "stream": "stdout",
       "text": [
        "\n",
        "Neo-Confederate Ally Chris McDaniel Moves One Step Closer to Winning Mississippi's Senate Race | Mother Jones\n"
       ]
      },
      {
       "output_type": "stream",
       "stream": "stdout",
       "text": [
        "\n",
        "DC, Oregon, and Alaska Just Voted to Legalize Marijuana  | Mother Jones\n"
       ]
      },
      {
       "output_type": "stream",
       "stream": "stdout",
       "text": [
        "\n",
        "Exxon Has 25 Billion Barrels of Fossil Fuel and Plans To Extract it All | Mother Jones\n"
       ]
      },
      {
       "output_type": "stream",
       "stream": "stdout",
       "text": [
        "\n",
        "How a War-Shattered African Nation Gave Birth to a Heavy-Metal Scene | Mother Jones\n"
       ]
      },
      {
       "output_type": "stream",
       "stream": "stdout",
       "text": [
        "\n",
        "It Turns Out That Ferguson Is Pretty Typical of America | Mother Jones\n"
       ]
      },
      {
       "output_type": "stream",
       "stream": "stdout",
       "text": [
        "\n",
        "Turns Out Your \"Hormone-Free\" Milk Is Full of Sex Hormones | Mother Jones\n"
       ]
      },
      {
       "output_type": "stream",
       "stream": "stdout",
       "text": [
        "\n",
        "Why Don't We Make Election Day A Holiday? | Mother Jones\n"
       ]
      },
      {
       "output_type": "stream",
       "stream": "stdout",
       "text": [
        "\n",
        "This Is What a Farmer Looks Like | Mother Jones\n"
       ]
      },
      {
       "output_type": "stream",
       "stream": "stdout",
       "text": [
        "\n",
        "See the Moving Artwork Commemorating the Fall of the Berlin Wall 25 Years Ago | Mother Jones\n"
       ]
      },
      {
       "output_type": "stream",
       "stream": "stdout",
       "text": [
        "\n",
        "Watch a Wall of Snow Consume Buffalo, N.Y. | Mother Jones\n"
       ]
      },
      {
       "output_type": "stream",
       "stream": "stdout",
       "text": [
        "\n",
        "Pew: Republicans Don't Really Care About \"Getting Things Done\" in Washington | Mother Jones\n"
       ]
      },
      {
       "output_type": "stream",
       "stream": "stdout",
       "text": [
        "\n",
        "Study Finds Kids Prefer Healthier Lunches. School Food Lobby Refuses to Believe It. | Mother Jones\n"
       ]
      },
      {
       "output_type": "stream",
       "stream": "stdout",
       "text": [
        "\n",
        "10 Shots From an Incredible New Trove of Depression and World War II Photos | Mother Jones\n"
       ]
      },
      {
       "output_type": "stream",
       "stream": "stdout",
       "text": [
        "\n",
        "This Video Shows What Happens to Baby Turkeys at the Butterball Plant | Mother Jones\n"
       ]
      },
      {
       "output_type": "stream",
       "stream": "stdout",
       "text": [
        "\n",
        "Ruth \"Baby\" Ginsburg Is Absolutely Crushing Halloween This Year  | Mother Jones\n"
       ]
      },
      {
       "output_type": "stream",
       "stream": "stdout",
       "text": [
        "\n",
        "These Pictures of Spring Flowers Will Melt Your Frozen Heart | Mother Jones\n"
       ]
      },
      {
       "output_type": "stream",
       "stream": "stdout",
       "text": [
        "\n",
        "Fast-Food Workers Just Took McDonald\u2019s Down a Notch | Mother Jones\n"
       ]
      },
      {
       "output_type": "stream",
       "stream": "stdout",
       "text": [
        "\n",
        "\"We Rattled Too Many Cages:\" An Eyewitness Account of Journalist Marie Colvin's Death in Syria | Mother Jones\n"
       ]
      },
      {
       "output_type": "stream",
       "stream": "stdout",
       "text": [
        "\n",
        "Court Strikes Down Arkansas Voter ID Law | Mother Jones\n"
       ]
      },
      {
       "output_type": "stream",
       "stream": "stdout",
       "text": [
        "\n",
        "This Town Was Almost Swallowed by a Coal Mine | Mother Jones\n"
       ]
      },
      {
       "output_type": "stream",
       "stream": "stdout",
       "text": [
        "\n",
        "Hurray for the Riff Raff Has Had It With Misogyny and Violence | Mother Jones\n"
       ]
      },
      {
       "output_type": "stream",
       "stream": "stdout",
       "text": [
        "\n",
        "Anti-Abortion Tea Party Congressman Who Asked Mistress to Get Abortion Could Win Primary | Mother Jones\n"
       ]
      },
      {
       "output_type": "stream",
       "stream": "stdout",
       "text": [
        "\n",
        "This Guy Died and Asked For His Blood to Be Splashed on a Nuclear Facility | Mother Jones\n"
       ]
      },
      {
       "output_type": "stream",
       "stream": "stdout",
       "text": [
        "\n",
        "This Congressional Race Is a Battle for the Heart and Soul of Silicon Valley | Mother Jones\n"
       ]
      },
      {
       "output_type": "stream",
       "stream": "stdout",
       "text": [
        "\n",
        "Students at a Nebraska High School Can Now Pose With Guns in Their Senior Portraits  | Mother Jones\n"
       ]
      },
      {
       "output_type": "stream",
       "stream": "stdout",
       "text": [
        "\n",
        "Anonymous Posts St. Louis Police Dispatch Tapes From Day of Ferguson Shooting | Mother Jones\n"
       ]
      },
      {
       "output_type": "stream",
       "stream": "stdout",
       "text": [
        "\n",
        "Elizabeth Warren Demands An Investigation Of Mortgage Companies | Mother Jones\n"
       ]
      },
      {
       "output_type": "stream",
       "stream": "stdout",
       "text": [
        "\n",
        "Unions Should Brace Themselves for a Major Supreme Court Loss | Mother Jones\n"
       ]
      },
      {
       "output_type": "stream",
       "stream": "stdout",
       "text": [
        "\n",
        "Can Obama Weather the Current Geopolitical Shitstorm? | Mother Jones\n"
       ]
      },
      {
       "output_type": "stream",
       "stream": "stdout",
       "text": [
        "\n",
        "This Plastic Chemical Is Banned From Baby Toys, But Preemies Get a Heavy Dose of It | Mother Jones\n"
       ]
      },
      {
       "output_type": "stream",
       "stream": "stdout",
       "text": [
        "\n",
        "2014: The Year of Koch | Mother Jones\n"
       ]
      },
      {
       "output_type": "stream",
       "stream": "stdout",
       "text": [
        "\n",
        "Obama and the GOP Congress Unite to Push US Meat Overseas | Mother Jones\n"
       ]
      },
      {
       "output_type": "stream",
       "stream": "stdout",
       "text": [
        "\n",
        "Rand Paul: The Most Interesting Conspiracy Theorist in Washington  | Mother Jones\n"
       ]
      },
      {
       "output_type": "stream",
       "stream": "stdout",
       "text": [
        "\n",
        "BREAKING: Climate Deal May Face Republican Opposition | Mother Jones\n"
       ]
      },
      {
       "output_type": "stream",
       "stream": "stdout",
       "text": [
        "\n",
        "Supreme Court Delivers a Hit\u2014But Not a \"Kill Shot\"\u2014to Public-Employee Unions | Mother Jones\n"
       ]
      },
      {
       "output_type": "stream",
       "stream": "stdout",
       "text": [
        "\n",
        "Twitter Releases Its Diversity Stats. And Boy, Are They Embarrassing. | Mother Jones\n"
       ]
      },
      {
       "output_type": "stream",
       "stream": "stdout",
       "text": [
        "\n",
        "2014 - %3, November | Mother Jones\n"
       ]
      },
      {
       "output_type": "stream",
       "stream": "stdout",
       "text": [
        "\n",
        "Fox News Thinks Young Women Are Too Busy With Tinder to \"Get\" Voting  | Mother Jones\n"
       ]
      },
      {
       "output_type": "stream",
       "stream": "stdout",
       "text": [
        "\n",
        "The Meltdown of the Anti-Immigration Minuteman Militia | Mother Jones\n"
       ]
      },
      {
       "output_type": "stream",
       "stream": "stdout",
       "text": [
        "\n",
        "John Oliver: Why Is Columbus Day Still a Thing? | Mother Jones\n"
       ]
      },
      {
       "output_type": "stream",
       "stream": "stdout",
       "text": [
        "\n",
        "Watch John Oliver Explain How the Government Seduces Americans to Spend Huge on the Lottery | Mother Jones\n"
       ]
      },
      {
       "output_type": "stream",
       "stream": "stdout",
       "text": [
        "\n",
        "Only Obama Can Block the Keystone Pipeline Now | Mother Jones\n"
       ]
      },
      {
       "output_type": "stream",
       "stream": "stdout",
       "text": [
        "\n",
        "How the Top Iraqi Terrorist Was Helped by a Bush-Signed Agreement | Mother Jones\n"
       ]
      },
      {
       "output_type": "stream",
       "stream": "stdout",
       "text": [
        "\n",
        "Obama Orders Up More Money for Nukes, Less to Keep Them in Safe Hands | Mother Jones\n"
       ]
      },
      {
       "output_type": "stream",
       "stream": "stdout",
       "text": [
        "\n",
        "The Supreme Court Just Gutted Another Campaign Finance Law. Here\u2019s What Happened. | Mother Jones\n"
       ]
      },
      {
       "output_type": "stream",
       "stream": "stdout",
       "text": [
        "\n",
        "Ruling on Nuclear Waste Storage Could Create a \"Catastrophic Risk\" | Mother Jones\n"
       ]
      },
      {
       "output_type": "stream",
       "stream": "stdout",
       "text": [
        "\n",
        "Photos: The World's Largest Church Is in the Middle of an African Coconut Plantation | Mother Jones\n"
       ]
      },
      {
       "output_type": "stream",
       "stream": "stdout",
       "text": [
        "\n",
        "VIDEO: Elizabeth Warren Calls for Closing Loopholes for the Rich to Cut Student Loan Debt | Mother Jones\n"
       ]
      },
      {
       "output_type": "stream",
       "stream": "stdout",
       "text": [
        "\n",
        "Labor's New Attack on Iowa Senate Candidate Joni Ernst: She's An ALEC Shill | Mother Jones\n"
       ]
      },
      {
       "output_type": "stream",
       "stream": "stdout",
       "text": [
        "\n",
        "November/December 2014 Issue | Mother Jones\n"
       ]
      },
      {
       "output_type": "stream",
       "stream": "stdout",
       "text": [
        "\n",
        "Sorry, California. Winter Isn't Going to Fix Your Drought. | Mother Jones\n"
       ]
      },
      {
       "output_type": "stream",
       "stream": "stdout",
       "text": [
        "\n",
        "That Time We Almost Nuked North Carolina | Mother Jones\n"
       ]
      },
      {
       "output_type": "stream",
       "stream": "stdout",
       "text": [
        "\n",
        "The Supreme Court Might Gut Obamacare. Your State Could Save It. | Mother Jones\n"
       ]
      },
      {
       "output_type": "stream",
       "stream": "stdout",
       "text": [
        "\n",
        "BREAKING: The US and China Just Announced a Huge Deal on Climate\u2014and It's a Game Changer | Mother Jones\n"
       ]
      },
      {
       "output_type": "stream",
       "stream": "stdout",
       "text": [
        "\n",
        "Who Said It: Hillary Clinton or John McCain? | Mother Jones\n"
       ]
      },
      {
       "output_type": "stream",
       "stream": "stdout",
       "text": [
        "\n",
        "GOP Candidate Asks Residents to Mail Him Their Pee | Mother Jones\n"
       ]
      },
      {
       "output_type": "stream",
       "stream": "stdout",
       "text": [
        "\n",
        "Obama's Immigration Order: Lots of Sound and Fury, But Not Much Precedent | Mother Jones\n"
       ]
      },
      {
       "output_type": "stream",
       "stream": "stdout",
       "text": [
        "\n",
        "Can This Democrat Win on a No More \"Trayvon Martin Tragedies\" Platform? | Mother Jones\n"
       ]
      },
      {
       "output_type": "stream",
       "stream": "stdout",
       "text": [
        "\n",
        "Michigan GOP Primary Results: \"Foreclosure King\" Beats Santa Impersonator | Mother Jones\n"
       ]
      },
      {
       "output_type": "stream",
       "stream": "stdout",
       "text": [
        "\n",
        "Where Should Scott Brown Run for Senate Next? | Mother Jones\n"
       ]
      },
      {
       "output_type": "stream",
       "stream": "stdout",
       "text": [
        "\n",
        "Chart of the Day #2: Wage Growth Is Still Lousy | Mother Jones\n"
       ]
      },
      {
       "output_type": "stream",
       "stream": "stdout",
       "text": [
        "\n",
        "2014 - %3, November | Mother Jones\n"
       ]
      },
      {
       "output_type": "stream",
       "stream": "stdout",
       "text": [
        "\n",
        "Alleged Kansas Gunman's White Nationalist Buddy: He Was \"Upbeat\" in Last Phone Call | Mother Jones\n"
       ]
      },
      {
       "output_type": "stream",
       "stream": "stdout",
       "text": [
        "\n",
        "3 Ways Obama's Immigration Executive Action Changes Everything (and One Way It Doesn't) | Mother Jones\n"
       ]
      },
      {
       "output_type": "stream",
       "stream": "stdout",
       "text": [
        "\n",
        "Map: The Most Popular NFL Teams Everywhere in America\u2014According to Twitter | Mother Jones\n"
       ]
      },
      {
       "output_type": "stream",
       "stream": "stdout",
       "text": [
        "\n",
        "GOP Sens. Cruz and Kirk Solicit Americans' Obamacare Horror Stories, Get Success Stories Instead | Mother Jones\n"
       ]
      },
      {
       "output_type": "stream",
       "stream": "stdout",
       "text": [
        "\n",
        "GOP Governor's Ex-Campaign Manager Pleads Guilty In Leaked E-Mail Saga | Mother Jones\n"
       ]
      },
      {
       "output_type": "stream",
       "stream": "stdout",
       "text": [
        "\n",
        "Meet the Senate's New Climate Denial Caucus | Mother Jones\n"
       ]
      },
      {
       "output_type": "stream",
       "stream": "stdout",
       "text": [
        "\n",
        "John Oliver Shows the Supreme Court How to Make Their Boring Recordings Way More Adorable  | Mother Jones\n"
       ]
      },
      {
       "output_type": "stream",
       "stream": "stdout",
       "text": [
        "\n",
        "New Photobook Documents the Travails of Transgender Cubans | Mother Jones\n"
       ]
      },
      {
       "output_type": "stream",
       "stream": "stdout",
       "text": [
        "\n",
        "Will American Pot Farmers Put the Cartels out of Business? | Mother Jones\n"
       ]
      },
      {
       "output_type": "stream",
       "stream": "stdout",
       "text": [
        "\n",
        "Great Photos of High Life and Low Life in the American Desert | Mother Jones\n"
       ]
      },
      {
       "output_type": "stream",
       "stream": "stdout",
       "text": [
        "\n",
        "Carbon Emissions Are Higher Than Ever, and Rising | Mother Jones\n"
       ]
      },
      {
       "output_type": "stream",
       "stream": "stdout",
       "text": [
        "\n",
        "Democrats Take Careful Aim at Feet, Prepare Both Barrels For Firing | Mother Jones\n"
       ]
      },
      {
       "output_type": "stream",
       "stream": "stdout",
       "text": [
        "\n",
        "My Interview With a Pediatrician Who Thinks Vaccines Are \"Messing With Nature\" | Mother Jones\n"
       ]
      },
      {
       "output_type": "stream",
       "stream": "stdout",
       "text": [
        "\n",
        "Ted Cruz Is Attacking Obama for Relocating a Shrubbery | Mother Jones\n"
       ]
      },
      {
       "output_type": "stream",
       "stream": "stdout",
       "text": [
        "\n",
        "Industry Says Car Insurance Obviously Affordable for Poor Because They Buy Booze | Mother Jones\n"
       ]
      },
      {
       "output_type": "stream",
       "stream": "stdout",
       "text": [
        "\n",
        "Gov. Scott Walker on the Minimum Wage: \"I Don't Think It Serves a Purpose\" | Mother Jones\n"
       ]
      },
      {
       "output_type": "stream",
       "stream": "stdout",
       "text": [
        "\n",
        "Migrant Kids Need a Good Lawyer. But Who's Gonna Pay? | Mother Jones\n"
       ]
      },
      {
       "output_type": "stream",
       "stream": "stdout",
       "text": [
        "\n",
        "Thom Tillis Wins North Carolina Senate Primary | Mother Jones\n"
       ]
      },
      {
       "output_type": "stream",
       "stream": "stdout",
       "text": [
        "\n",
        "Wide Receiver Turned Foreign Policy Wonk? Dont\u00e9 Stallworth's Second Act | Mother Jones\n"
       ]
      },
      {
       "output_type": "stream",
       "stream": "stdout",
       "text": [
        "\n",
        "Man Who Believes God Speaks to Us Through \"Duck Dynasty\" Is About to Be Texas' Second-in-Command | Mother Jones\n"
       ]
      },
      {
       "output_type": "stream",
       "stream": "stdout",
       "text": [
        "\n",
        "Cliven Bundy: I'm Just Like Rosa Parks | Mother Jones\n"
       ]
      },
      {
       "output_type": "stream",
       "stream": "stdout",
       "text": [
        "\n",
        "BREAKING: The Senate Just Voted Not to Approve the Keystone XL Pipeline | Mother Jones\n"
       ]
      },
      {
       "output_type": "stream",
       "stream": "stdout",
       "text": [
        "\n",
        "Today's Math You Can Use: Marijuana + Big Corporations = A Lot More Marijuana | Mother Jones\n"
       ]
      },
      {
       "output_type": "stream",
       "stream": "stdout",
       "text": [
        "\n",
        "How a Top Conservative Strategist Ended Up With More Than $200,000 in Shady Money | Mother Jones\n"
       ]
      },
      {
       "output_type": "stream",
       "stream": "stdout",
       "text": [
        "\n",
        "How Dark Money Is Taking Over Judicial Elections | Mother Jones\n"
       ]
      },
      {
       "output_type": "stream",
       "stream": "stdout",
       "text": [
        "\n",
        "Citing Ukraine, Hawks Push for New Spending on Nukes  | Mother Jones\n"
       ]
      },
      {
       "output_type": "stream",
       "stream": "stdout",
       "text": [
        "\n",
        "Gore: Fracking Won't Solve Our Climate Crisis | Mother Jones\n"
       ]
      },
      {
       "output_type": "stream",
       "stream": "stdout",
       "text": [
        "\n",
        "25-Year-Old Occupy Protester Sentenced To 3 Months In Prison. She Could Have Gotten 7 Years. | Mother Jones\n"
       ]
      },
      {
       "output_type": "stream",
       "stream": "stdout",
       "text": [
        "\n",
        "Alaska's Stranded Walruses Face a New Threat: Oil Drillers | Mother Jones\n"
       ]
      },
      {
       "output_type": "stream",
       "stream": "stdout",
       "text": [
        "\n",
        "Therapist to the 1 Percent Weighs in on the Psychological Hardship of Being Rich | Mother Jones\n"
       ]
      },
      {
       "output_type": "stream",
       "stream": "stdout",
       "text": [
        "\n",
        "Return of P: Is Texas Really Ready for Another George Bush? | Mother Jones\n"
       ]
      },
      {
       "output_type": "stream",
       "stream": "stdout",
       "text": [
        "\n",
        "Elizabeth Warren's Latest Comment About Running For President Is the Most Cryptic Yet | Mother Jones\n"
       ]
      },
      {
       "output_type": "stream",
       "stream": "stdout",
       "text": [
        "\n",
        "NRA Victory Means It's Still Perfectly Legal to Cook Dogs and Cats in Pennsylvania | Mother Jones\n"
       ]
      },
      {
       "output_type": "stream",
       "stream": "stdout",
       "text": [
        "\n",
        "Elizabeth Warren: Let's Stop Scamming Our Vets | Mother Jones\n"
       ]
      },
      {
       "output_type": "stream",
       "stream": "stdout",
       "text": [
        "\n",
        "Three States Could Have Ended Legal Abortion. Only One Did. | Mother Jones\n"
       ]
      },
      {
       "output_type": "stream",
       "stream": "stdout",
       "text": [
        "\n",
        "GOP Congressional Candidate Apologizes for Calling Female Senators \"Undeserving Bimbos\" | Mother Jones\n"
       ]
      },
      {
       "output_type": "stream",
       "stream": "stdout",
       "text": [
        "\n",
        "And the Prize for Ebola Fearmongering Goes to Louisiana  | Mother Jones\n"
       ]
      },
      {
       "output_type": "stream",
       "stream": "stdout",
       "text": [
        "\n",
        "The Case Against Chlorinated Tap Water  | Mother Jones\n"
       ]
      },
      {
       "output_type": "stream",
       "stream": "stdout",
       "text": [
        "\n",
        "5 Diseases That Are Scarier Than Ebola | Mother Jones\n"
       ]
      },
      {
       "output_type": "stream",
       "stream": "stdout",
       "text": [
        "\n",
        "10 Fascinating Articles From the CIA's Secret Employee Magazine | Mother Jones\n"
       ]
      },
      {
       "output_type": "stream",
       "stream": "stdout",
       "text": [
        "\n",
        "Native Children Have the Same Rate of PTSD as Combat Veterans | Mother Jones\n"
       ]
      },
      {
       "output_type": "stream",
       "stream": "stdout",
       "text": [
        "\n",
        "How the Tea Party Is Causing Big Business to Back Democrats | Mother Jones\n"
       ]
      },
      {
       "output_type": "stream",
       "stream": "stdout",
       "text": [
        "\n",
        "Can the Zodiac Explain Why Washington, DC, Is So Messed Up? | Mother Jones\n"
       ]
      },
      {
       "output_type": "stream",
       "stream": "stdout",
       "text": [
        "\n",
        "How a Mexican Citizen Allegedly Funneled $500,000 of Illegal Money  into US Elections | Mother Jones\n"
       ]
      },
      {
       "output_type": "stream",
       "stream": "stdout",
       "text": [
        "\n",
        "The Beauty of Music, Visualized | Mother Jones\n"
       ]
      },
      {
       "output_type": "stream",
       "stream": "stdout",
       "text": [
        "\n",
        "Unredacted Court Docs Reveal Yahoo's Name and Other Top-Secret Stuff | Mother Jones\n"
       ]
      },
      {
       "output_type": "stream",
       "stream": "stdout",
       "text": [
        "\n",
        "GOP Climate Deniers Really Hate Obama's Big Climate Deal | Mother Jones\n"
       ]
      },
      {
       "output_type": "stream",
       "stream": "stdout",
       "text": [
        "\n",
        "Obama Just Announced His Full Support to Preserve Net Neutrality  | Mother Jones\n"
       ]
      },
      {
       "output_type": "stream",
       "stream": "stdout",
       "text": [
        "\n",
        "Elizabeth Warren Challenges Chris Christie for the Science Behind His Ebola Quarantine  | Mother Jones\n"
       ]
      },
      {
       "output_type": "stream",
       "stream": "stdout",
       "text": [
        "\n",
        "Tennessee Gubernatorial Nominee Explains Why He Wants to Send Governor to Electric Chair | Mother Jones\n"
       ]
      },
      {
       "output_type": "stream",
       "stream": "stdout",
       "text": [
        "\n",
        "Supreme Court Takes Up Yet Another Challenge to Obamacare | Mother Jones\n"
       ]
      },
      {
       "output_type": "stream",
       "stream": "stdout",
       "text": [
        "\n",
        "Snowden's Odd Email to the NSA Deepens the Mystery | Mother Jones\n"
       ]
      },
      {
       "output_type": "stream",
       "stream": "stdout",
       "text": [
        "\n",
        "The Demise of a US Group Backing Moderate Syrian Rebels Is a Bad Sign for Obama's Anti-ISIS Campaign | Mother Jones\n"
       ]
      },
      {
       "output_type": "stream",
       "stream": "stdout",
       "text": [
        "\n",
        "Thanks to Victoria's Secret, We Now Know Models Get Sad With Body Envy Too  | Mother Jones\n"
       ]
      },
      {
       "output_type": "stream",
       "stream": "stdout",
       "text": [
        "\n",
        "Map: The United States of Legal Weed | Mother Jones\n"
       ]
      },
      {
       "output_type": "stream",
       "stream": "stdout",
       "text": [
        "\n",
        "WATCH: Rand Paul Says Jimmy Carter Was Better on the Budget Than Ronald Reagan | Mother Jones\n"
       ]
      },
      {
       "output_type": "stream",
       "stream": "stdout",
       "text": [
        "\n",
        "Welcome Back to Silicon Valley's Biggest Sausage Fest | Mother Jones\n"
       ]
      },
      {
       "output_type": "stream",
       "stream": "stdout",
       "text": [
        "\n",
        "Watch Drought Take Over the Entire State of California in One GIF | Mother Jones\n"
       ]
      },
      {
       "output_type": "stream",
       "stream": "stdout",
       "text": [
        "\n",
        "Meet 5 of the Low-Level Drug Offenders Obama Could Set Free. There Are Thousands More Like Them | Mother Jones\n"
       ]
      },
      {
       "output_type": "stream",
       "stream": "stdout",
       "text": [
        "\n",
        "Chris Christie's Not in the Clear Yet. These Text Messages Show Why. | Mother Jones\n"
       ]
      },
      {
       "output_type": "stream",
       "stream": "stdout",
       "text": [
        "\n",
        "How Vape Pens Could Threaten the Pot Legalization Movement | Mother Jones\n"
       ]
      },
      {
       "output_type": "stream",
       "stream": "stdout",
       "text": [
        "\n",
        "Justice Scalia Goes to Conservative Legal Event, Gives Boring Speech | Mother Jones\n"
       ]
      },
      {
       "output_type": "stream",
       "stream": "stdout",
       "text": [
        "\n",
        "Friday Cat Blogging - 7 November 2014 | Mother Jones\n"
       ]
      },
      {
       "output_type": "stream",
       "stream": "stdout",
       "text": [
        "\n",
        "New Conservative Meme: Migrant Children Aren't Children | Mother Jones\n"
       ]
      },
      {
       "output_type": "stream",
       "stream": "stdout",
       "text": [
        "\n",
        "These 7 Conservatives Would  Impeach Obama Over Immigration | Mother Jones\n"
       ]
      },
      {
       "output_type": "stream",
       "stream": "stdout",
       "text": [
        "\n",
        "Watch Harrison Ford Fight Climate Change In a Fighter Jet | Mother Jones\n"
       ]
      },
      {
       "output_type": "stream",
       "stream": "stdout",
       "text": [
        "\n",
        "A New Book of Stunning Street Portraits by Vivian Maier | Mother Jones\n"
       ]
      },
      {
       "output_type": "stream",
       "stream": "stdout",
       "text": [
        "\n",
        "David Vitter's Deportation Proposal Could Require More Planes Than There Are on Earth | Mother Jones\n"
       ]
      },
      {
       "output_type": "stream",
       "stream": "stdout",
       "text": [
        "\n",
        "READ:  The Clinton Administration's Internal Memo on the \"Vast Right-Wing Conspiracy\" | Mother Jones\n"
       ]
      },
      {
       "output_type": "stream",
       "stream": "stdout",
       "text": [
        "\n",
        "This Group Is Starting the Elizabeth-Warren-for-President Campaign | Mother Jones\n"
       ]
      },
      {
       "output_type": "stream",
       "stream": "stdout",
       "text": [
        "\n",
        "Obama's Deal With China Is a Big Win for Solar, Nuclear, and Clean Coal | Mother Jones\n"
       ]
      },
      {
       "output_type": "stream",
       "stream": "stdout",
       "text": [
        "\n",
        "Hobby Lobby Funded Disgraced Fundamentalist Christian Leader Accused of Harassing Dozens of Women | Mother Jones\n"
       ]
      },
      {
       "output_type": "stream",
       "stream": "stdout",
       "text": [
        "\n",
        "Is the US-China Climate Pact as Big a Deal as It Seems? | Mother Jones\n"
       ]
      },
      {
       "output_type": "stream",
       "stream": "stdout",
       "text": [
        "\n",
        "\"I Still Live\": A Remembrance of Charles Bowden | Mother Jones\n"
       ]
      },
      {
       "output_type": "stream",
       "stream": "stdout",
       "text": [
        "\n",
        "The Obama Administration's 2 Million Deportations, Explained | Mother Jones\n"
       ]
      },
      {
       "output_type": "stream",
       "stream": "stdout",
       "text": [
        "\n",
        "Will Nigeria's Kidnapped Schoolgirls Come Home? | Mother Jones\n"
       ]
      },
      {
       "output_type": "stream",
       "stream": "stdout",
       "text": [
        "\n",
        "The Head of the Federal Reserve Just Gave a Rousing Speech on Inequality | Mother Jones\n"
       ]
      },
      {
       "output_type": "stream",
       "stream": "stdout",
       "text": [
        "\n",
        "Diesel Dope, Monster Trucks, and Snotty Dispensary Clerks: A Veteran Pot Grower's Back-to-the-Land Adventure | Mother Jones\n"
       ]
      },
      {
       "output_type": "stream",
       "stream": "stdout",
       "text": [
        "\n",
        "CNN's Don Lemon Tells Woman Accusing Bill Cosby of Rape She Could Have Bitten Her Way to Safety | Mother Jones\n"
       ]
      },
      {
       "output_type": "stream",
       "stream": "stdout",
       "text": [
        "\n",
        "Watch This Adorable Hamster Celebrate Thanksgiving Dinner Wearing a Pilgrim Hat  | Mother Jones\n"
       ]
      },
      {
       "output_type": "stream",
       "stream": "stdout",
       "text": [
        "\n",
        "Photos: These Ex-Cops Are a Criminal Defendant\u2019s Best Friends | Mother Jones\n"
       ]
      },
      {
       "output_type": "stream",
       "stream": "stdout",
       "text": [
        "\n",
        "Ted Cruz: Conservative Darling. Grandstanding Senator. Campaign-Finance Reform Ally? | Mother Jones\n"
       ]
      },
      {
       "output_type": "stream",
       "stream": "stdout",
       "text": [
        "\n",
        "Big Mayo Wants You to Know There's Only One Way to Make Mayo, Dammit | Mother Jones\n"
       ]
      },
      {
       "output_type": "stream",
       "stream": "stdout",
       "text": [
        "\n",
        "Climate Change Is Kicking the Insurance Industry's Butt | Mother Jones\n"
       ]
      },
      {
       "output_type": "stream",
       "stream": "stdout",
       "text": [
        "\n",
        "This Is How the Right Milks Benghazi for Cash | Mother Jones\n"
       ]
      },
      {
       "output_type": "stream",
       "stream": "stdout",
       "text": [
        "\n",
        "Quick Reads: \"The Skeleton Crew\" by By Deborah Halber | Mother Jones\n"
       ]
      },
      {
       "output_type": "stream",
       "stream": "stdout",
       "text": [
        "\n",
        "RIP Ben Bradlee, 1921-2014 | Mother Jones\n"
       ]
      },
      {
       "output_type": "stream",
       "stream": "stdout",
       "text": [
        "\n",
        "Conservatives Want to Wipe Out Coal Rules\u2026Over a Typo  | Mother Jones\n"
       ]
      },
      {
       "output_type": "stream",
       "stream": "stdout",
       "text": [
        "\n",
        "Here's What It Looks Like When a Typhoon Devastates Your City | Mother Jones\n"
       ]
      },
      {
       "output_type": "stream",
       "stream": "stdout",
       "text": [
        "\n",
        "Baby Catapulting and Other Batshit Hypotheses That Teach You How Science Works | Mother Jones\n"
       ]
      },
      {
       "output_type": "stream",
       "stream": "stdout",
       "text": [
        "\n",
        "GOP Chairman: Let's Get Rid of ALL Donation Limits  | Mother Jones\n"
       ]
      },
      {
       "output_type": "stream",
       "stream": "stdout",
       "text": [
        "\n",
        "America Is the Developed World's Second Most Ignorant Country | Mother Jones\n"
       ]
      },
      {
       "output_type": "stream",
       "stream": "stdout",
       "text": [
        "\n",
        "Hell Unearthed at the Florida School for Boys\u2014Again | Mother Jones\n"
       ]
      },
      {
       "output_type": "stream",
       "stream": "stdout",
       "text": [
        "\n",
        "US Coal Exports Have Erased All The CO2 Savings From the Fracking Boom | Mother Jones\n"
       ]
      },
      {
       "output_type": "stream",
       "stream": "stdout",
       "text": [
        "\n",
        "NSA Won't Say If It's Spying on Members of Congress | Mother Jones\n"
       ]
      },
      {
       "output_type": "stream",
       "stream": "stdout",
       "text": [
        "\n",
        "Ever Wonder Why Your Local TV News Stations Run the Same Damn Stories? | Mother Jones\n"
       ]
      },
      {
       "output_type": "stream",
       "stream": "stdout",
       "text": [
        "\n",
        "Another GOP Candidate Says Migrant Kids Might Have Ebola. (They Don't.) | Mother Jones\n"
       ]
      },
      {
       "output_type": "stream",
       "stream": "stdout",
       "text": [
        "\n",
        "In Georgia, Perdue Win Ends One of the GOP's Craziest Senate Primaries | Mother Jones\n"
       ]
      },
      {
       "output_type": "stream",
       "stream": "stdout",
       "text": [
        "\n",
        "The Hunger Game | Mother Jones\n"
       ]
      },
      {
       "output_type": "stream",
       "stream": "stdout",
       "text": [
        "\n",
        "Hagel's Pentagon Cuts Target Top Brass | Mother Jones\n"
       ]
      },
      {
       "output_type": "stream",
       "stream": "stdout",
       "text": [
        "\n",
        "How Harry Shearer Discovered the Soul of Richard Nixon | Mother Jones\n"
       ]
      },
      {
       "output_type": "stream",
       "stream": "stdout",
       "text": [
        "\n",
        "Exclusive: Jay Leno Cancels Performance at Gun Lobby Trade Show Following Pressure from Newtown Group | Mother Jones\n"
       ]
      },
      {
       "output_type": "stream",
       "stream": "stdout",
       "text": [
        "\n",
        "\"Hurt That Bitch\": What Undercover Investigators Saw Inside a Factory Farm | Mother Jones\n"
       ]
      },
      {
       "output_type": "stream",
       "stream": "stdout",
       "text": [
        "\n",
        "How Does This GOP Senate Candidate Keep Getting Away With Such Terrible Gaffes? | Mother Jones\n"
       ]
      },
      {
       "output_type": "stream",
       "stream": "stdout",
       "text": [
        "\n",
        "A Federal Appeals Court Just Ruled Against Gay Marriage. This Judge Just Issued An Epic Dissent. | Mother Jones\n"
       ]
      },
      {
       "output_type": "stream",
       "stream": "stdout",
       "text": [
        "\n",
        "Joy, Rage, and Love: '80s-tastic Photos of San Francisco Pride | Mother Jones\n"
       ]
      },
      {
       "output_type": "stream",
       "stream": "stdout",
       "text": [
        "\n",
        "Jeb Bush: \"What's the Paycheck Fairness Act?\" | Mother Jones\n"
       ]
      },
      {
       "output_type": "stream",
       "stream": "stdout",
       "text": [
        "\n",
        "The GOP's \"Fundraising Terrorist\" Has a New Cause: Electing More Women | Mother Jones\n"
       ]
      },
      {
       "output_type": "stream",
       "stream": "stdout",
       "text": [
        "\n",
        "Pat Roberts Avoids Being The Only Senate Republican To Lose In 2014 | Mother Jones\n"
       ]
      },
      {
       "output_type": "stream",
       "stream": "stdout",
       "text": [
        "\n",
        "Car Loans Could Be the Next Subprime Crisis. Thanks, Republicans! | Mother Jones\n"
       ]
      },
      {
       "output_type": "stream",
       "stream": "stdout",
       "text": [
        "\n",
        "How America's Favorite Baby-Goat Club Is Helping Big Ag Take Over Farming in Africa | Mother Jones\n"
       ]
      },
      {
       "output_type": "stream",
       "stream": "stdout",
       "text": [
        "\n",
        "Meet the Fortune 500 Companies Funding the Political Resegregation of America | Mother Jones\n"
       ]
      },
      {
       "output_type": "stream",
       "stream": "stdout",
       "text": [
        "\n",
        "The Obama Cousin Who Compared Obama to Hitler Just Lost His Kansas GOP Primary | Mother Jones\n"
       ]
      },
      {
       "output_type": "stream",
       "stream": "stdout",
       "text": [
        "\n",
        "The Race to Save the World's Chocolate  | Mother Jones\n"
       ]
      },
      {
       "output_type": "stream",
       "stream": "stdout",
       "text": [
        "\n",
        "Blame Spanking Advocates for Child Migrants' Lack of Rights | Mother Jones\n"
       ]
      },
      {
       "output_type": "stream",
       "stream": "stdout",
       "text": [
        "\n",
        "The \"NSA-Proof\" Cloud Drive: Spy-Thwarting Gadgets Are The Latest Tech Boom | Mother Jones\n"
       ]
      },
      {
       "output_type": "stream",
       "stream": "stdout",
       "text": [
        "\n",
        "Check Out These Vintage Photos of New York City's 1970s Punk Playground | Mother Jones\n"
       ]
      },
      {
       "output_type": "stream",
       "stream": "stdout",
       "text": [
        "\n",
        "Here's an Interesting Twist on Social Security That Might Be Worth Trying | Mother Jones\n"
       ]
      },
      {
       "output_type": "stream",
       "stream": "stdout",
       "text": [
        "\n",
        "Live Coverage: Obama Takes His Boldest Step Ever to Fight Climate Change | Mother Jones\n"
       ]
      },
      {
       "output_type": "stream",
       "stream": "stdout",
       "text": [
        "\n",
        "Is Giving Food to the Homeless Illegal in Your City Too? | Mother Jones\n"
       ]
      },
      {
       "output_type": "stream",
       "stream": "stdout",
       "text": [
        "\n",
        "In Hobby Lobby Case, the Supreme Court Chooses Religion Over Science | Mother Jones\n"
       ]
      },
      {
       "output_type": "stream",
       "stream": "stdout",
       "text": [
        "\n",
        "March Jobs Report Shows a Spring Pick-Up | Mother Jones\n"
       ]
      },
      {
       "output_type": "stream",
       "stream": "stdout",
       "text": [
        "\n",
        "24 Mind-Blowing Facts About Marijuana Production in America | Mother Jones\n"
       ]
      },
      {
       "output_type": "stream",
       "stream": "stdout",
       "text": [
        "\n",
        "People Are Trying to Sell Cinnamon Bark as an Ebola Cure | Mother Jones\n"
       ]
      },
      {
       "output_type": "stream",
       "stream": "stdout",
       "text": [
        "\n",
        "GOP Super-Donor on Politicians: \"Most of These People...They're Unemployable\" | Mother Jones\n"
       ]
      },
      {
       "output_type": "stream",
       "stream": "stdout",
       "text": [
        "\n",
        "It's Not Just Those Emails. Here's The Secret Investigation That Should Worry  Scott Walker. | Mother Jones\n"
       ]
      },
      {
       "output_type": "stream",
       "stream": "stdout",
       "text": [
        "\n",
        "This Climate Scientist Just Won Another Victory in Court | Mother Jones\n"
       ]
      },
      {
       "output_type": "stream",
       "stream": "stdout",
       "text": [
        "\n",
        "Obama's New Plan to Fight Climate Change Is a Really Big Deal | Mother Jones\n"
       ]
      },
      {
       "output_type": "stream",
       "stream": "stdout",
       "text": [
        "\n",
        "Hillary Clinton Praises a Guy With Lots of Blood on His Hands | Mother Jones\n"
       ]
      },
      {
       "output_type": "stream",
       "stream": "stdout",
       "text": [
        "\n",
        "Which Dad is More Embarrassing: Ron Paul or Rafael Cruz? | Mother Jones\n"
       ]
      },
      {
       "output_type": "stream",
       "stream": "stdout",
       "text": [
        "\n",
        "Which Bundy Said It: Cliven, Al, Ted, or McGeorge? | Mother Jones\n"
       ]
      },
      {
       "output_type": "stream",
       "stream": "stdout",
       "text": [
        "\n",
        "North Dakota Is the Deadliest State to Work In | Mother Jones\n"
       ]
      },
      {
       "output_type": "stream",
       "stream": "stdout",
       "text": [
        "\n",
        "Watch a New York Woman Get Catcalled 108 Times in Less Than One Day | Mother Jones\n"
       ]
      },
      {
       "output_type": "stream",
       "stream": "stdout",
       "text": [
        "\n",
        "Rand Paul Really Doesn't Want to Talk About His McConnell Endorsement | Mother Jones\n"
       ]
      },
      {
       "output_type": "stream",
       "stream": "stdout",
       "text": [
        "\n",
        "The Obama Administration Wants to End Racial Discrimination by Car Dealers. Why Are 35 Dems Getting in the Way? | Mother Jones\n"
       ]
      },
      {
       "output_type": "stream",
       "stream": "stdout",
       "text": [
        "\n",
        "The First Lawsuit Against Obama's New Coal Limits Just Got Filed | Mother Jones\n"
       ]
      },
      {
       "output_type": "stream",
       "stream": "stdout",
       "text": [
        "\n",
        "Wednesday Was Full of Good News for Obamacare. Here Are the Charts That Prove It. | Mother Jones\n"
       ]
      },
      {
       "output_type": "stream",
       "stream": "stdout",
       "text": [
        "\n",
        "Montana Democrat Ends Senate Campaign Over Plagiarism | Mother Jones\n"
       ]
      },
      {
       "output_type": "stream",
       "stream": "stdout",
       "text": [
        "\n",
        "Fundraiser for New Mexico Gov. Susana Martinez to Feature GOP House, Senate, and Party Bigwigs | Mother Jones\n"
       ]
      },
      {
       "output_type": "stream",
       "stream": "stdout",
       "text": [
        "\n",
        "Potential 2016 Contender Martin O'Malley Supports New Bill to Wean Politicians Off Big Money | Mother Jones\n"
       ]
      },
      {
       "output_type": "stream",
       "stream": "stdout",
       "text": [
        "\n",
        "Now You Can Get Solar Panels at Best Buy | Mother Jones\n"
       ]
      },
      {
       "output_type": "stream",
       "stream": "stdout",
       "text": [
        "\n",
        "You Might Not Know Where Chad Is, But the US Military Has Big Plans For It | Mother Jones\n"
       ]
      },
      {
       "output_type": "stream",
       "stream": "stdout",
       "text": [
        "\n",
        "Did Citigroup Get Off Easy With $7 Billion Penalty? | Mother Jones\n"
       ]
      },
      {
       "output_type": "stream",
       "stream": "stdout",
       "text": [
        "\n",
        "Watch: UN Agency Spokesman Breaks Down In Tears While Talking About Gaza School Bombing | Mother Jones\n"
       ]
      },
      {
       "output_type": "stream",
       "stream": "stdout",
       "text": [
        "\n",
        "The ISIS Speech: Obama and the Dogs of War | Mother Jones\n"
       ]
      },
      {
       "output_type": "stream",
       "stream": "stdout",
       "text": [
        "\n",
        "Congressional Democrats Back Obama on Immigration Reform | Mother Jones\n"
       ]
      },
      {
       "output_type": "stream",
       "stream": "stdout",
       "text": [
        "\n",
        "Grandmothers Smoke Pot for First Time, Play Jenga, Are Perfect | Mother Jones\n"
       ]
      },
      {
       "output_type": "stream",
       "stream": "stdout",
       "text": [
        "\n",
        "Leaked Docs: How a Secret FreedomWorks Donor Sought a Return on Its \"Investments\" | Mother Jones\n"
       ]
      },
      {
       "output_type": "stream",
       "stream": "stdout",
       "text": [
        "\n",
        "Rand Paul: Republicans Are \"Too Eager for War\" | Mother Jones\n"
       ]
      },
      {
       "output_type": "stream",
       "stream": "stdout",
       "text": [
        "\n",
        "Even Global Warming Can't Convince Republicans That Global Warming Exists | Mother Jones\n"
       ]
      },
      {
       "output_type": "stream",
       "stream": "stdout",
       "text": [
        "\n",
        "2014 Bright Spot: South Dakota County Named for Judge Who Pushed Out Indians Changes Its Name | Mother Jones\n"
       ]
      },
      {
       "output_type": "stream",
       "stream": "stdout",
       "text": [
        "\n",
        "The Truth About Bug Spray | Mother Jones\n"
       ]
      },
      {
       "output_type": "stream",
       "stream": "stdout",
       "text": [
        "\n",
        "In \"Pen and Ink,\" People Tell the Fascinating Stories Behind Their Tattoos | Mother Jones\n"
       ]
      },
      {
       "output_type": "stream",
       "stream": "stdout",
       "text": [
        "\n",
        "Scott Walker Wants to Totally Outlaw Abortion. In This Sneaky New Ad, He Pretends He Doesn't. | Mother Jones\n"
       ]
      },
      {
       "output_type": "stream",
       "stream": "stdout",
       "text": [
        "\n",
        "Buzz Kill: Pot Growers May Be Wiping Out This Cute Furry Mammal | Mother Jones\n"
       ]
      },
      {
       "output_type": "stream",
       "stream": "stdout",
       "text": [
        "\n",
        "Feds Say Big Banks Are Still Too Big to Fail | Mother Jones\n"
       ]
      },
      {
       "output_type": "stream",
       "stream": "stdout",
       "text": [
        "\n",
        "This New Study Explains Why Fracking Won't Solve Climate Change | Mother Jones\n"
       ]
      },
      {
       "output_type": "stream",
       "stream": "stdout",
       "text": [
        "\n",
        "Anti-Abortion Colorado Republican Candidate Tries to Pass Himself Off As Pro-Choice | Mother Jones\n"
       ]
      },
      {
       "output_type": "stream",
       "stream": "stdout",
       "text": [
        "\n",
        "Donald Rumsfeld: Up Close and Creepy | Mother Jones\n"
       ]
      },
      {
       "output_type": "stream",
       "stream": "stdout",
       "text": [
        "\n",
        "Will Sochi Have Enough Snow? | Mother Jones\n"
       ]
      },
      {
       "output_type": "stream",
       "stream": "stdout",
       "text": [
        "\n",
        "Wendy Davis Loses Big in Texas | Mother Jones\n"
       ]
      },
      {
       "output_type": "stream",
       "stream": "stdout",
       "text": [
        "\n",
        "Watch: Livestream from Ferguson: August 19 | Mother Jones\n"
       ]
      },
      {
       "output_type": "stream",
       "stream": "stdout",
       "text": [
        "\n",
        "The Idaho GOP Gubernatorial Debate Was Total Chaos | Mother Jones\n"
       ]
      },
      {
       "output_type": "stream",
       "stream": "stdout",
       "text": [
        "\n",
        "4 More Super-Racist Team Owners | Mother Jones\n"
       ]
      },
      {
       "output_type": "stream",
       "stream": "stdout",
       "text": [
        "\n",
        "Is Your Dentist Ripping You Off? | Mother Jones\n"
       ]
      },
      {
       "output_type": "stream",
       "stream": "stdout",
       "text": [
        "\n",
        "Sorry, Raw Sugar Is No Better for You Than Refined | Mother Jones\n"
       ]
      },
      {
       "output_type": "stream",
       "stream": "stdout",
       "text": [
        "\n",
        "Are Your Kids' Rainbow Bracelets Toxic? | Mother Jones\n"
       ]
      },
      {
       "output_type": "stream",
       "stream": "stdout",
       "text": [
        "\n",
        "President Obama Acted Unilaterally on Immigration and the Right Is Predictably Outraged | Mother Jones\n"
       ]
      },
      {
       "output_type": "stream",
       "stream": "stdout",
       "text": [
        "\n",
        "The Great Wage Slowdown Finally Takes Center Stage | Mother Jones\n"
       ]
      },
      {
       "output_type": "stream",
       "stream": "stdout",
       "text": [
        "\n",
        "Republican Thom Tillis Defeats Kay Hagan in North Carolina | Mother Jones\n"
       ]
      },
      {
       "output_type": "stream",
       "stream": "stdout",
       "text": [
        "\n",
        "The Richest 0.1 Percent Is About to Control More Wealth Than the Bottom 90 Percent | Mother Jones\n"
       ]
      },
      {
       "output_type": "stream",
       "stream": "stdout",
       "text": [
        "\n",
        "Eric Cantor Loses GOP Primary. Wait, What!? | Mother Jones\n"
       ]
      },
      {
       "output_type": "stream",
       "stream": "stdout",
       "text": [
        "\n",
        "Elizabeth Warren Says She's Not Running for President. So Why'd She Write a Campaign Book? | Mother Jones\n"
       ]
      },
      {
       "output_type": "stream",
       "stream": "stdout",
       "text": [
        "\n",
        "GOP Front-Runner Compares Gay Marriage to Polygamy | Mother Jones\n"
       ]
      },
      {
       "output_type": "stream",
       "stream": "stdout",
       "text": [
        "\n",
        "An Open Letter to My Sexist Dentist | Mother Jones\n"
       ]
      },
      {
       "output_type": "stream",
       "stream": "stdout",
       "text": [
        "\n",
        "Paul Ryan's Anti-Poverty Plan Would Cost Billions to Implement. Will GOPers Go for That? | Mother Jones\n"
       ]
      },
      {
       "output_type": "stream",
       "stream": "stdout",
       "text": [
        "\n",
        "Here Comes the Sun: America's Solar Boom, in Charts | Mother Jones\n"
       ]
      },
      {
       "output_type": "stream",
       "stream": "stdout",
       "text": [
        "\n",
        "Chris McDaniel Campaigns With Bizarre Obama Conspiracy Theorist | Mother Jones\n"
       ]
      },
      {
       "output_type": "stream",
       "stream": "stdout",
       "text": [
        "\n",
        "I Found Another Video of Super Mario Hurting People and It's Even Better Than the Last One | Mother Jones\n"
       ]
      },
      {
       "output_type": "stream",
       "stream": "stdout",
       "text": [
        "\n",
        "Nepal Just Had a Deadly Freak Avalanche. Is Climate Change To Blame? | Mother Jones\n"
       ]
      },
      {
       "output_type": "stream",
       "stream": "stdout",
       "text": [
        "\n",
        "JPMorgan Paid $20 Billion in Fines Last Year\u2014So Its Board Is Giving Jamie Dimon a Raise | Mother Jones\n"
       ]
      },
      {
       "output_type": "stream",
       "stream": "stdout",
       "text": [
        "\n",
        "Jim Webb Wanted to Punch George W. Bush. Now He Wants His Old Job. | Mother Jones\n"
       ]
      },
      {
       "output_type": "stream",
       "stream": "stdout",
       "text": [
        "\n",
        "The Supreme Court's McCutcheon Decision Nuked Campaign Laws In These 11 States (Plus DC) | Mother Jones\n"
       ]
      },
      {
       "output_type": "stream",
       "stream": "stdout",
       "text": [
        "\n",
        "BP Lashes Out at Journalists and \"Opportunistic\" Environmentalists | Mother Jones\n"
       ]
      },
      {
       "output_type": "stream",
       "stream": "stdout",
       "text": [
        "\n",
        "Photos: Living in the Shadow of the Bhopal Chemical Disaster | Mother Jones\n"
       ]
      },
      {
       "output_type": "stream",
       "stream": "stdout",
       "text": [
        "\n",
        "Scott Walker for President Begins Now | Mother Jones\n"
       ]
      },
      {
       "output_type": "stream",
       "stream": "stdout",
       "text": [
        "\n",
        "Fox News' Parent Company Is Really Worried About Global Warming | Mother Jones\n"
       ]
      },
      {
       "output_type": "stream",
       "stream": "stdout",
       "text": [
        "\n",
        "Republicans Finally Sue Over Obamacare -- And There's Even a Surprise Included | Mother Jones\n"
       ]
      },
      {
       "output_type": "stream",
       "stream": "stdout",
       "text": [
        "\n",
        "New York City Doctor Tests Positive for Ebola  | Mother Jones\n"
       ]
      },
      {
       "output_type": "stream",
       "stream": "stdout",
       "text": [
        "\n",
        "The FBI Is Very Excited About This Machine That Can Scan Your DNA in 90 Minutes | Mother Jones\n"
       ]
      },
      {
       "output_type": "stream",
       "stream": "stdout",
       "text": [
        "\n",
        "Hurricane Gonzalo Is Going to Slam Bermuda Today | Mother Jones\n"
       ]
      },
      {
       "output_type": "stream",
       "stream": "stdout",
       "text": [
        "\n",
        "3 State Measures That Could End Legal Abortion | Mother Jones\n"
       ]
      },
      {
       "output_type": "stream",
       "stream": "stdout",
       "text": [
        "\n",
        "Elevate Your Mood With the Cool Ghouls | Mother Jones\n"
       ]
      },
      {
       "output_type": "stream",
       "stream": "stdout",
       "text": [
        "\n",
        "29 Coal Miners Died in a 2010 Explosion. Congress Still Hasn't Fixed the Problem. | Mother Jones\n"
       ]
      },
      {
       "output_type": "stream",
       "stream": "stdout",
       "text": [
        "\n",
        "Are Term Limits a Good Idea? | Mother Jones\n"
       ]
      },
      {
       "output_type": "stream",
       "stream": "stdout",
       "text": [
        "\n",
        "WATCH: Rand Paul's Big Flip-Flop on Russia | Mother Jones\n"
       ]
      },
      {
       "output_type": "stream",
       "stream": "stdout",
       "text": [
        "\n",
        "Map: Which States Allow Gay Marriage? | Mother Jones\n"
       ]
      },
      {
       "output_type": "stream",
       "stream": "stdout",
       "text": [
        "\n",
        "Watch Nancy Pelosi Explain Why Questions About Her Stepping Down Are Blatantly Sexist  | Mother Jones\n"
       ]
      },
      {
       "output_type": "stream",
       "stream": "stdout",
       "text": [
        "\n",
        "Primary Rival Calls Top NSA Critic in the House \"Al Qaeda's Best Friend\" | Mother Jones\n"
       ]
      },
      {
       "output_type": "stream",
       "stream": "stdout",
       "text": [
        "\n",
        "Fallen Foreclosure King David J. Stern Disbarred | Mother Jones\n"
       ]
      },
      {
       "output_type": "stream",
       "stream": "stdout",
       "text": [
        "\n",
        "Whistleblower Suit Alleges Corruption, Cronyism, and Affairs in Gov. Susana Martinez's Administration | Mother Jones\n"
       ]
      },
      {
       "output_type": "stream",
       "stream": "stdout",
       "text": [
        "\n",
        "64 Percent of Women Scientists Say They've Been Sexually Harassed Doing Fieldwork | Mother Jones\n"
       ]
      },
      {
       "output_type": "stream",
       "stream": "stdout",
       "text": [
        "\n",
        "How Wall Street Can Solve the Climate Crisis | Mother Jones\n"
       ]
      },
      {
       "output_type": "stream",
       "stream": "stdout",
       "text": [
        "\n",
        "Map: How Long Does Your State Give Rape Survivors to Pursue Justice? | Mother Jones\n"
       ]
      },
      {
       "output_type": "stream",
       "stream": "stdout",
       "text": [
        "\n",
        "Sexts from Scarlett O'Hara | Mother Jones\n"
       ]
      },
      {
       "output_type": "stream",
       "stream": "stdout",
       "text": [
        "\n",
        "Koch-Backed Group Opens 2014 With $2.5 Million Obamacare Ad Assault | Mother Jones\n"
       ]
      },
      {
       "output_type": "stream",
       "stream": "stdout",
       "text": [
        "\n",
        "A Brief History of Big Tax Breaks for Oil Companies | Mother Jones\n"
       ]
      },
      {
       "output_type": "stream",
       "stream": "stdout",
       "text": [
        "\n",
        "Why Is the Republican Governor of Alaska Keeping Sexual Assault Scandal Records Secret? | Mother Jones\n"
       ]
      },
      {
       "output_type": "stream",
       "stream": "stdout",
       "text": [
        "\n",
        "Chris Christie: I Am \"Heartbroken\" and \"Embarrassed\" About Bridge Scandal\u2014But Not Guilty | Mother Jones\n"
       ]
      },
      {
       "output_type": "stream",
       "stream": "stdout",
       "text": [
        "\n",
        "Giant Slaughterhouse Recalls Fancy Grass-Fed Beef After Processing \"Diseased and Unsound Animals\" | Mother Jones\n"
       ]
      },
      {
       "output_type": "stream",
       "stream": "stdout",
       "text": [
        "\n",
        "Obama May Overhaul the Immigration Program That Detains Americans and Turns Cops Into Federal Agents  | Mother Jones\n"
       ]
      },
      {
       "output_type": "stream",
       "stream": "stdout",
       "text": [
        "\n",
        "The Dick Cheney/Rand Paul Feud Continues\u2014And They're Both Wrong | Mother Jones\n"
       ]
      },
      {
       "output_type": "stream",
       "stream": "stdout",
       "text": [
        "\n",
        "Tons of BP Oil Is Still on the Bottom of the Gulf of Mexico | Mother Jones\n"
       ]
      },
      {
       "output_type": "stream",
       "stream": "stdout",
       "text": [
        "\n",
        "Michael Brown's Mom Laid Flowers Where He Was Shot\u2014and Police Crushed Them | Mother Jones\n"
       ]
      },
      {
       "output_type": "stream",
       "stream": "stdout",
       "text": [
        "\n",
        "Chart: As Top Tax Rates Dropped, Top Incomes Soared | Mother Jones\n"
       ]
      },
      {
       "output_type": "stream",
       "stream": "stdout",
       "text": [
        "\n",
        "Hillary Clinton's Speaking Circuit Payday: $5 Million (and Counting) | Mother Jones\n"
       ]
      },
      {
       "output_type": "stream",
       "stream": "stdout",
       "text": [
        "\n",
        "Supreme Court to NRA: No, People Can't Lie to Buy Guns | Mother Jones\n"
       ]
      },
      {
       "output_type": "stream",
       "stream": "stdout",
       "text": [
        "\n",
        "This GOP Benghazi Hearing Is Actually Worth Having | Mother Jones\n"
       ]
      },
      {
       "output_type": "stream",
       "stream": "stdout",
       "text": [
        "\n",
        "Leaked Memo: Top Tea Party Group Says It Forced Mitch McConnell To Oppose the Stimulus | Mother Jones\n"
       ]
      },
      {
       "output_type": "stream",
       "stream": "stdout",
       "text": [
        "\n",
        "\"Hands Up, Don't Shoot:\" Peaceful Protests Across the Country Last Night | Mother Jones\n"
       ]
      },
      {
       "output_type": "stream",
       "stream": "stdout",
       "text": [
        "\n",
        "Mitch McConnell Photobombed by Disapproving Kentucky Man | Mother Jones\n"
       ]
      },
      {
       "output_type": "stream",
       "stream": "stdout",
       "text": [
        "\n",
        "The US Will See 50 Percent More Lightning Strikes, Thanks to Global Warming | Mother Jones\n"
       ]
      },
      {
       "output_type": "stream",
       "stream": "stdout",
       "text": [
        "\n",
        "The 5 Stupidest Paranoid Responses to Ebola | Mother Jones\n"
       ]
      },
      {
       "output_type": "stream",
       "stream": "stdout",
       "text": [
        "\n",
        "GOP Congressman Who Warned About Unvaccinated Migrants Opposed Vaccination | Mother Jones\n"
       ]
      },
      {
       "output_type": "stream",
       "stream": "stdout",
       "text": [
        "\n",
        "Obama Just Doubled Down on His Climate Plan\u2014Here's What Else He Could Do | Mother Jones\n"
       ]
      },
      {
       "output_type": "stream",
       "stream": "stdout",
       "text": [
        "\n",
        "Mark Zuckerberg Just Donated $25 Million to Fight Ebola  | Mother Jones\n"
       ]
      },
      {
       "output_type": "stream",
       "stream": "stdout",
       "text": [
        "\n",
        "America's 10 Most Hated Banks | Mother Jones\n"
       ]
      },
      {
       "output_type": "stream",
       "stream": "stdout",
       "text": [
        "\n",
        "RATKING: Gritty, Grimy Hip-Hop That Totally Grows on You | Mother Jones\n"
       ]
      },
      {
       "output_type": "stream",
       "stream": "stdout",
       "text": [
        "\n",
        "The Case Against Postal Banking | Mother Jones\n"
       ]
      },
      {
       "output_type": "stream",
       "stream": "stdout",
       "text": [
        "\n",
        "This Republican Admits Rising Seas Are Swallowing His District. But Can He Say That in Washington? | Mother Jones\n"
       ]
      },
      {
       "output_type": "stream",
       "stream": "stdout",
       "text": [
        "\n",
        "Meet the Former Bike Executive Who Could Crush Scott Walker's White House Dreams | Mother Jones\n"
       ]
      },
      {
       "output_type": "stream",
       "stream": "stdout",
       "text": [
        "\n",
        "1 in Every 30 US Children Is Homeless | Mother Jones\n"
       ]
      },
      {
       "output_type": "stream",
       "stream": "stdout",
       "text": [
        "\n",
        "Paul Ryan Refuses to Talk About the Cost of His Anti-Poverty Plan | Mother Jones\n"
       ]
      },
      {
       "output_type": "stream",
       "stream": "stdout",
       "text": [
        "\n",
        "Yes, Cheetos, Funnel Cake,  and Domino's Are Approved School Lunch Items | Mother Jones\n"
       ]
      },
      {
       "output_type": "stream",
       "stream": "stdout",
       "text": [
        "\n",
        "Sunni Awakening 2.0? Don't Hold Your Breath. | Mother Jones\n"
       ]
      },
      {
       "output_type": "stream",
       "stream": "stdout",
       "text": [
        "\n",
        "Watch Obama Announce His Immigration Executive Action Right Here | Mother Jones\n"
       ]
      },
      {
       "output_type": "stream",
       "stream": "stdout",
       "text": [
        "\n",
        "Watchdog: Wednesday's Big Wall Street Settlement Is \"Laughably Inadequate\" | Mother Jones\n"
       ]
      },
      {
       "output_type": "stream",
       "stream": "stdout",
       "text": [
        "\n",
        "The Supreme Court Just Blocked Scott Walker's Voter ID Law | Mother Jones\n"
       ]
      },
      {
       "output_type": "stream",
       "stream": "stdout",
       "text": [
        "\n",
        "Share These Stats About Black America With the Racist in Your Life | Mother Jones\n"
       ]
      },
      {
       "output_type": "stream",
       "stream": "stdout",
       "text": [
        "\n",
        "The GOP Controls Congress. Now It Can Change How Math Works. | Mother Jones\n"
       ]
      },
      {
       "output_type": "stream",
       "stream": "stdout",
       "text": [
        "\n",
        "Body of Boy Who Tried to Escape Notorious Florida Reform School is Identified | Mother Jones\n"
       ]
      },
      {
       "output_type": "stream",
       "stream": "stdout",
       "text": [
        "\n",
        "Deep Inside the Wild World of China's Fracking Boom | Mother Jones\n"
       ]
      },
      {
       "output_type": "stream",
       "stream": "stdout",
       "text": [
        "\n",
        "Glenn Beck Tells Common Core Activists They Shouldn't Mention His Name | Mother Jones\n"
       ]
      },
      {
       "output_type": "stream",
       "stream": "stdout",
       "text": [
        "\n",
        "Ted Cruz Addresses Rally Organized By Doctor Who Says Gays Recruit Children | Mother Jones\n"
       ]
      },
      {
       "output_type": "stream",
       "stream": "stdout",
       "text": [
        "\n",
        "How a Pro-Gun, Anti-Gay \"Political Terrorist\" Could Help Keep Colorado Democrats in Power | Mother Jones\n"
       ]
      },
      {
       "output_type": "stream",
       "stream": "stdout",
       "text": [
        "\n",
        "7 Incredibly Sleazy Ads Targeting Judges | Mother Jones\n"
       ]
      },
      {
       "output_type": "stream",
       "stream": "stdout",
       "text": [
        "\n",
        "Fast-Food Strikes Go Global  | Mother Jones\n"
       ]
      },
      {
       "output_type": "stream",
       "stream": "stdout",
       "text": [
        "\n",
        "Hilarious White House Memo In 1995: \"Hillary Could Speak To Young Women Through Internet\" | Mother Jones\n"
       ]
      },
      {
       "output_type": "stream",
       "stream": "stdout",
       "text": [
        "\n",
        "Nevada's GOP Stopped Opposing Abortion and Same-Sex Marriage. Here's What Happened Next. | Mother Jones\n"
       ]
      },
      {
       "output_type": "stream",
       "stream": "stdout",
       "text": [
        "\n",
        "No, Climate Change Is Not Waking Bears From Hibernation | Mother Jones\n"
       ]
      },
      {
       "output_type": "stream",
       "stream": "stdout",
       "text": [
        "\n",
        "Election 2014: Obama's Failure to Communicate | Mother Jones\n"
       ]
      },
      {
       "output_type": "stream",
       "stream": "stdout",
       "text": [
        "\n",
        "The Week in 15 Photos: Santa Barbara, Maya Angelou, and a Transgender Army Vet's Big Win | Mother Jones\n"
       ]
      },
      {
       "output_type": "stream",
       "stream": "stdout",
       "text": [
        "\n",
        "Photos: Tiananmen Protesters Were Heartbreakingly Young, Earnest, and Happy | Mother Jones\n"
       ]
      },
      {
       "output_type": "stream",
       "stream": "stdout",
       "text": [
        "\n",
        "Iowa GOP Official Warns That Child Migrants Might Be Highly Trained \"Warriors\" | Mother Jones\n"
       ]
      },
      {
       "output_type": "stream",
       "stream": "stdout",
       "text": [
        "\n",
        "Republican Agenda Starts to Take Shape | Mother Jones\n"
       ]
      },
      {
       "output_type": "stream",
       "stream": "stdout",
       "text": [
        "\n",
        "State Dept. Investigators: No Conflict of Interest in Keystone XL Review | Mother Jones\n"
       ]
      },
      {
       "output_type": "stream",
       "stream": "stdout",
       "text": [
        "\n",
        "These 11 Popular Sodas Tested Positive for a Potential Carcinogen | Mother Jones\n"
       ]
      },
      {
       "output_type": "stream",
       "stream": "stdout",
       "text": [
        "\n",
        "Vaccines Work. These 8 Charts Prove It.  | Mother Jones\n"
       ]
      },
      {
       "output_type": "stream",
       "stream": "stdout",
       "text": [
        "\n",
        "A Few Horrifying Pictures From Ferguson Last Night | Mother Jones\n"
       ]
      },
      {
       "output_type": "stream",
       "stream": "stdout",
       "text": [
        "\n",
        "Why Won't Orrin Hatch Blame Republicans For the Failure of Immigration Reform? | Mother Jones\n"
       ]
      },
      {
       "output_type": "stream",
       "stream": "stdout",
       "text": [
        "\n",
        "This Machine Turned Colorado Blue. Now It May Be Dems' Best Hope to Save the Senate. | Mother Jones\n"
       ]
      },
      {
       "output_type": "stream",
       "stream": "stdout",
       "text": [
        "\n",
        "Exactly How Often Do Police Shoot Unarmed Black Men? | Mother Jones\n"
       ]
      },
      {
       "output_type": "stream",
       "stream": "stdout",
       "text": [
        "\n",
        "Does the Web Seem Way Slow Today? It May Be Soon If You Don't Get in the FCC's Face  | Mother Jones\n"
       ]
      },
      {
       "output_type": "stream",
       "stream": "stdout",
       "text": [
        "\n",
        "These 7 Charts Show Why the Rent Is Too Damn High | Mother Jones\n"
       ]
      },
      {
       "output_type": "stream",
       "stream": "stdout",
       "text": [
        "\n",
        "Squirrel Steals GoPro Camera, Runs Up Tree, Becomes Internet Celebrity  | Mother Jones\n"
       ]
      },
      {
       "output_type": "stream",
       "stream": "stdout",
       "text": [
        "\n"
       ]
      }
     ],
     "prompt_number": 12
    },
    {
     "cell_type": "code",
     "collapsed": false,
     "input": [],
     "language": "python",
     "metadata": {},
     "outputs": []
    }
   ],
   "metadata": {}
  }
 ]
}