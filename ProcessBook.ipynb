{
 "metadata": {
  "name": "",
  "signature": "sha256:af70c5336f3764618fa3769a07e08659d16e5a48cbda922bb922aaee3abb03d5"
 },
 "nbformat": 3,
 "nbformat_minor": 0,
 "worksheets": [
  {
   "cells": [
    {
     "cell_type": "markdown",
     "metadata": {},
     "source": [
      "<h2 align=\"center\">slant parse: <br><br> Using Machine Learning to Determine the Political Leanings of News Publications</h2>\n",
      "\n",
      "<br><center>Serena L Booth, Harvard College, Class of 2016</center>\n",
      "\n",
      "<center>Joseph M Booth, Harvard College, Class of 2015</center>\n",
      "\n",
      "\n",
      "---"
     ]
    },
    {
     "cell_type": "markdown",
     "metadata": {},
     "source": [
      "#Part 0: Metric "
     ]
    },
    {
     "cell_type": "code",
     "collapsed": false,
     "input": [
      "list_of_political_magazines = ['http://en.wikipedia.org/wiki/List_of_political_magazines', 'http://en.wikipedia.org/wiki/Category:Modern_liberal_American_magazines',\n",
      "                               'http://en.wikipedia.org/wiki/Category:Conservative_American_magazines', 'http://usconservatives.about.com/od/gettinginvolved/tp/TopConservativeMagazines.htm',\n",
      "                               'http://www.allyoucanread.com/top-10-political-magazines/', 'http://www.conservapedia.com/Conservative_media']"
     ],
     "language": "python",
     "metadata": {},
     "outputs": [],
     "prompt_number": 10
    },
    {
     "cell_type": "markdown",
     "metadata": {},
     "source": [
      "# Part 1: Data Collection"
     ]
    },
    {
     "cell_type": "code",
     "collapsed": false,
     "input": [
      "import urllib\n",
      "import csv\n",
      "from bs4 import BeautifulSoup\n",
      "from sets import Set\n",
      "from sgmllib import SGMLParser\n",
      "import pickle \n",
      "\n",
      "\n",
      "# cite: https://github.com/chungy/diveintopython/blob/master/py/urllister.py\n",
      "class URLLister(SGMLParser):\n",
      "    \"\"\"\n",
      "    Arguments: (implicit) SGMLParser \n",
      "    \n",
      "    Extracts all 'href's from an html document. We store these links in a set, \n",
      "    and process them individually to retrieve content or additional links. \n",
      "    \"\"\"\n",
      "    def reset(self):\n",
      "        SGMLParser.reset(self)\n",
      "        self.urls = []\n",
      "\n",
      "    def start_a(self, attrs):\n",
      "        href = [v for k, v in attrs if k=='href']\n",
      "        if href:\n",
      "            self.urls.extend(href)\n",
      "    "
     ],
     "language": "python",
     "metadata": {},
     "outputs": [],
     "prompt_number": 2
    },
    {
     "cell_type": "code",
     "collapsed": false,
     "input": [
      "def process_url(url, url_mod, string_start, find_string, start_article_delim, end_article_delim, name, pol):\n",
      "    \"\"\"\n",
      "    Arguments: string url, string url_mod, string find_string, string start_title_delim, \n",
      "    string end_title_delim, string start_article_delim, string end_article_delim, string name, string pol\n",
      "    \n",
      "    For each url passed to process_url, open the CSV file articles.csv which contains all data scraped.\n",
      "    Process the article by retrieving the title, and by using BeautifulSoup to retrieve the article text.\n",
      "    Store each article in the CSV as the publication name, the publication's political leaning (either 'L' or 'C'), article title, and article content.  \n",
      "    \"\"\"\n",
      "    \n",
      "    # check url format\n",
      "    print url_mod\n",
      "    if len(url) > 0 and (str(url)[0] == '/' or str(url).find(string_start) == 0) and str(url).find(find_string) != -1: \n",
      "        with open('articles.csv', 'a+') as csvfile:\n",
      "            article_writer = csv.writer(csvfile, delimiter='^')\n",
      "            \n",
      "            tmp_url = url_mod + str(url)\n",
      "            usock = urllib.urlopen(tmp_url)\n",
      "            html = usock.read()\n",
      "                        \n",
      "            # use Beautiful Soup \n",
      "            soup_unprocessed = BeautifulSoup(html)\n",
      "              \n",
      "            # use try/except to catch cases in which articles do not conform to general standards\n",
      "            # e.g. when an article does not have a title\n",
      "            try:\n",
      "                title = soup_unprocessed.title.string \n",
      "                title = title.encode(\"utf-8\")\n",
      "\n",
      "                \n",
      "                 # If article is from a specific provider, modify it according to the following rules: \n",
      "                # e.g. in the case of Townhall, we only want html which has the full article rather than a paged version\n",
      "                if name == \"TownHall\" and html.find(\"View Full Article\") != -1:\n",
      "                    process_url(url + '/page/full', url_mod, 'argument-not-used', '2014', start_article_delim, end_article_delim, name, pol)\n",
      "                    usock.close()\n",
      "                    return\n",
      "                elif name == \"Mother Jones\" and (title.find('Issue') != -1 or title.find('map') != -1):\n",
      "                    print 'Content not text, or article not relevant.'\n",
      "                    usock.close()\n",
      "                    return\n",
      "                elif name == \"The American Conservative\" and html.find('Author Archives') != -1 or title.find('Web Headlines') != -1 or title.find('Articles') != -1:\n",
      "                    print 'Content not text, or article not relevant.'\n",
      "                    usock.close()\n",
      "                    return\n",
      "                elif name == \"The Christian Science Monitor\" and (title.find('+video') != -1 or url.find('The-Culture') != -1 or title.find('Photos of the day') != -1 or title.find('How much do you know about') != -1):\n",
      "                    print 'Content not text, or article not relevant.'\n",
      "                    usock.close()\n",
      "                    return \n",
      "                else: \n",
      "                    print title + '\\n'\n",
      "                    content = str(html)[str(html).find(start_article_delim) + len (start_article_delim):str(html).find(end_article_delim)]\n",
      "                    soup = BeautifulSoup(content)\n",
      "                    mod_content = soup.get_text()\n",
      "                \n",
      "                mod_content = mod_content.encode(\"utf-8\")    \n",
      "                article_writer.writerow([name, pol, title, mod_content])\n",
      "            except AttributeError: \n",
      "                print 'Attribute Error'\n",
      "                \n",
      "            usock.close()\n",
      "            "
     ],
     "language": "python",
     "metadata": {},
     "outputs": [],
     "prompt_number": 24
    },
    {
     "cell_type": "code",
     "collapsed": false,
     "input": [
      "def scrape(start_url, iterator, url_list, url_mod):      \n",
      "    \"\"\"\n",
      "    Arguments: string start_url, int iterator, set url_list, string url_mod\n",
      "    Returns: updated set url_list \n",
      "    \n",
      "    For each start_url passed, this function opens that url and retrieves all hrefs from that page. \n",
      "    If iterator is smaller than the (constant) number of ITER_PAGES, scrape is called recursively \n",
      "    on the set of urls. \n",
      "    \"\"\"\n",
      "    \n",
      "    # limit the number of articles retrieved by limiting page depth\n",
      "    if iterator > ITER_PAGES: \n",
      "        return set()\n",
      "    \n",
      "    # call URLLister to retrieve all hrefs in the html read from the url \n",
      "    usock = urllib.urlopen(start_url)\n",
      "    parser = URLLister()\n",
      "    html = usock.read()\n",
      "    parser.feed(html)\n",
      "    usock.close()\n",
      "    parser.close()\n",
      "    \n",
      "    url_list = url_list.union(parser.urls)\n",
      "    \n",
      "    # scrape each correctly formatted url\n",
      "    for url in url_list: \n",
      "        if len(url) > 0 and str(url)[0] == '/': \n",
      "            tmp_url = url_mod + str(url)\n",
      "            try: \n",
      "                tmp_set = scrape(tmp_url, iterator + 1, url_list, url_mod)\n",
      "                url_list = url_list.union(tmp_set) \n",
      "            except IOError: \n",
      "                print \"Couldn't Open\"\n",
      "    return url_list\n"
     ],
     "language": "python",
     "metadata": {},
     "outputs": [],
     "prompt_number": 4
    },
    {
     "cell_type": "code",
     "collapsed": false,
     "input": [
      "ITER_PAGES = 1\n",
      "\n",
      "# call the function\n",
      "url_list = set()  \n",
      "townhall_list = scrape('http://www.townhall.com/', 1, url_list, 'http://www.townhall.com')\n",
      "mother_jones_list = scrape('http://www.motherjones.com/', 1, url_list, 'http://www.motherjones.com')\n",
      "american_conservative_list = scrape('http://www.theamericanconservative.com/', 1, url_list, '')\n",
      "csmonitor_list = scrape('http://www.csmonitor.com/', 1, url_list, 'http://www.csmonitor.com/')\n",
      "\n",
      "print '\\nurls\\n'\n",
      "\n",
      "# conservative 1\n",
      "for url in american_conservative_list: \n",
      "    process_url(url, '', 'http://www.theamericanconservative.com/', 'theamericanconservative', '<div class=\"post-content\">', '<footer id=\"articlefooter\">', 'The American Conservative', 'C')\n",
      "\n",
      "# conservative 2\n",
      "for url in townhall_list: \n",
      "#    print url\n",
      "    process_url(url, 'http://www.townhall.com', 'argument-not-used', '2014' , '<ul class=\"breadcrumb\">', '<hr class=\"article-divider\"', 'TownHall', 'C')\n",
      "\n",
      "# conservative 3\n",
      "for url in csmonitor_list:\n",
      "    print url\n",
      "    process_url(url, 'http://www.csmonitor.com/', 'argument-not-used', '2014/', '<div id=\"story-body\"', '<span id=\"end-of-story\"', 'The Christian Science Monitor', 'C')\n",
      "\n",
      "# liberal 1 \n",
      "for url in mother_jones_list:\n",
      "    process_url(url, 'http://www.motherjones.com', 'argument-not-used', '2014' , '<div id=\"node-header\" class=\"clear-block\">', '<div id=\"node-footer\" class=\"clear-block\">', 'Mother Jones', 'L')"
     ],
     "language": "python",
     "metadata": {},
     "outputs": [
      {
       "output_type": "stream",
       "stream": "stdout",
       "text": [
        "\n",
        "urls\n",
        "\n",
        "\n",
        "What Not to Do on Iran | The American Conservative\n"
       ]
      },
      {
       "output_type": "stream",
       "stream": "stdout",
       "text": [
        "\n",
        "\n"
       ]
      },
      {
       "output_type": "stream",
       "stream": "stdout",
       "text": [
        "\n",
        "\n",
        "Mark Joseph Stern\u2019s Immaculate Conception | The American Conservative\n"
       ]
      },
      {
       "output_type": "stream",
       "stream": "stdout",
       "text": [
        "\n",
        "\n",
        "\n",
        "Old Age is a Humiliation | The American Conservative\n"
       ]
      },
      {
       "output_type": "stream",
       "stream": "stdout",
       "text": [
        "\n",
        "\n",
        "\n",
        "\n",
        "\n"
       ]
      },
      {
       "output_type": "stream",
       "stream": "stdout",
       "text": [
        "\n",
        "Thomism of the Table | The American Conservative\n"
       ]
      },
      {
       "output_type": "stream",
       "stream": "stdout",
       "text": [
        "\n",
        "\n",
        "Seven Reasons Police Brutality Is Systemic, Not Anecdotal | The American Conservative\n"
       ]
      },
      {
       "output_type": "stream",
       "stream": "stdout",
       "text": [
        "\n",
        "\n",
        "\n",
        "\n",
        "Words of Conversion | The American Conservative\n"
       ]
      },
      {
       "output_type": "stream",
       "stream": "stdout",
       "text": [
        "\n",
        "\n",
        "\n",
        "\n",
        "The Ferguson Evidence | The American Conservative\n"
       ]
      },
      {
       "output_type": "stream",
       "stream": "stdout",
       "text": [
        "\n",
        "\n",
        "Double Feature Feature: 10,000 Hours Edition | The American Conservative\n"
       ]
      },
      {
       "output_type": "stream",
       "stream": "stdout",
       "text": [
        "\n",
        "\n",
        "\n",
        "About Us | The American Conservative\n"
       ]
      },
      {
       "output_type": "stream",
       "stream": "stdout",
       "text": [
        "\n",
        "\n",
        "A Fraternity of Rape | The American Conservative\n"
       ]
      },
      {
       "output_type": "stream",
       "stream": "stdout",
       "text": [
        "\n",
        "\n"
       ]
      },
      {
       "output_type": "stream",
       "stream": "stdout",
       "text": [
        "\n",
        "\n",
        "\n",
        "Marion Barry: D.C.\u2019s Rascal King | The American Conservative\n"
       ]
      },
      {
       "output_type": "stream",
       "stream": "stdout",
       "text": [
        "\n",
        "\n",
        "Why 2016 Won\u2019t Be Like 1980 | The American Conservative\n"
       ]
      },
      {
       "output_type": "stream",
       "stream": "stdout",
       "text": [
        "\n",
        "\n",
        "\n"
       ]
      },
      {
       "output_type": "stream",
       "stream": "stdout",
       "text": [
        "\n",
        "Jesus, the Common Bond | The American Conservative\n"
       ]
      },
      {
       "output_type": "stream",
       "stream": "stdout",
       "text": [
        "\n",
        "\n",
        "Physical Evidence Supports Ofc. Wilson | The American Conservative\n"
       ]
      },
      {
       "output_type": "stream",
       "stream": "stdout",
       "text": [
        "\n",
        "\n",
        "\n",
        "\n"
       ]
      },
      {
       "output_type": "stream",
       "stream": "stdout",
       "text": [
        "\n",
        "A Bleak Foreign Policy November | The American Conservative\n"
       ]
      },
      {
       "output_type": "stream",
       "stream": "stdout",
       "text": [
        "\n",
        "\n",
        "\n",
        "\n"
       ]
      },
      {
       "output_type": "stream",
       "stream": "stdout",
       "text": [
        "\n",
        "Five Myths That Keep America in the Middle East | The American Conservative\n"
       ]
      },
      {
       "output_type": "stream",
       "stream": "stdout",
       "text": [
        "\n",
        "\n",
        "The Tao of the Traditional Family | The American Conservative\n"
       ]
      },
      {
       "output_type": "stream",
       "stream": "stdout",
       "text": [
        "\n",
        "\n",
        "\n",
        "Deconstructing Western Civilization | The American Conservative\n"
       ]
      },
      {
       "output_type": "stream",
       "stream": "stdout",
       "text": [
        "\n",
        "\n",
        "\n",
        "How Iran Hawks Spread Misinformation | The American Conservative\n"
       ]
      },
      {
       "output_type": "stream",
       "stream": "stdout",
       "text": [
        "\n",
        "\n",
        "Galloping Toward Gomorrah | The American Conservative\n"
       ]
      },
      {
       "output_type": "stream",
       "stream": "stdout",
       "text": [
        "\n",
        "\n",
        "How Iraq Explains Ferguson | The American Conservative\n"
       ]
      },
      {
       "output_type": "stream",
       "stream": "stdout",
       "text": [
        "\n",
        "\n",
        "The Uses and Abuses of Historical Analogies | The American Conservative\n"
       ]
      },
      {
       "output_type": "stream",
       "stream": "stdout",
       "text": [
        "\n",
        "\n",
        "\n"
       ]
      },
      {
       "output_type": "stream",
       "stream": "stdout",
       "text": [
        "\n"
       ]
      },
      {
       "output_type": "stream",
       "stream": "stdout",
       "text": [
        "\n",
        "Canada\u2019s Patriot Act Moment | The American Conservative\n"
       ]
      },
      {
       "output_type": "stream",
       "stream": "stdout",
       "text": [
        "\n",
        "\n",
        "\n",
        "Federalism Can Still Save Religious Liberty | The American Conservative\n"
       ]
      },
      {
       "output_type": "stream",
       "stream": "stdout",
       "text": [
        "\n",
        "\n"
       ]
      },
      {
       "output_type": "stream",
       "stream": "stdout",
       "text": [
        "\n",
        "\n",
        "\n",
        "\n"
       ]
      },
      {
       "output_type": "stream",
       "stream": "stdout",
       "text": [
        "\n",
        "\n",
        "\n",
        "The High Cost of Empire Maintenance | The American Conservative\n"
       ]
      },
      {
       "output_type": "stream",
       "stream": "stdout",
       "text": [
        "\n",
        "\n",
        "Declaring War on ISIS | The American Conservative\n"
       ]
      },
      {
       "output_type": "stream",
       "stream": "stdout",
       "text": [
        "\n",
        "\n",
        "\n",
        "\n",
        "\n",
        "Chris Rocks, Chris Rolls | The American Conservative\n"
       ]
      },
      {
       "output_type": "stream",
       "stream": "stdout",
       "text": [
        "\n",
        "\n",
        "\n",
        "The Unspoken Truth of Ferguson | The American Conservative\n"
       ]
      },
      {
       "output_type": "stream",
       "stream": "stdout",
       "text": [
        "\n",
        "\n",
        "\n",
        "\n",
        "\n",
        "A Chuck Hagel Postmortem | The American Conservative\n"
       ]
      },
      {
       "output_type": "stream",
       "stream": "stdout",
       "text": [
        "\n",
        "\n",
        "Iran: We Need to Talk | The American Conservative\n"
       ]
      },
      {
       "output_type": "stream",
       "stream": "stdout",
       "text": [
        "\n",
        "\n",
        "\n",
        "Two Seconds | The American Conservative\n"
       ]
      },
      {
       "output_type": "stream",
       "stream": "stdout",
       "text": [
        "\n",
        "\n",
        "\n",
        "Scapegoating Hagel | The American Conservative\n"
       ]
      },
      {
       "output_type": "stream",
       "stream": "stdout",
       "text": [
        "\n",
        "\n",
        "COIN Is a Proven Failure | The American Conservative\n"
       ]
      },
      {
       "output_type": "stream",
       "stream": "stdout",
       "text": [
        "\n",
        "\n",
        "\n",
        "Considering Thankfulness | The American Conservative\n"
       ]
      },
      {
       "output_type": "stream",
       "stream": "stdout",
       "text": [
        "\n",
        "\n",
        "A Millman-Walt Dialogue On Foreign Policy | The American Conservative\n"
       ]
      },
      {
       "output_type": "stream",
       "stream": "stdout",
       "text": [
        "\n",
        "\n",
        "Thanksgiving Doorbusters Backfire on Big Retail | The American Conservative\n"
       ]
      },
      {
       "output_type": "stream",
       "stream": "stdout",
       "text": [
        "\n",
        "\n",
        "The New Face of Gaullism | The American Conservative\n"
       ]
      },
      {
       "output_type": "stream",
       "stream": "stdout",
       "text": [
        "\n",
        "\n",
        "\n",
        "\n",
        "\n",
        "\n"
       ]
      },
      {
       "output_type": "stream",
       "stream": "stdout",
       "text": [
        "\n",
        "\n",
        "\n",
        "The American Conservative\n"
       ]
      },
      {
       "output_type": "stream",
       "stream": "stdout",
       "text": [
        "\n",
        "\n",
        "Ferguson Falls Apart | The American Conservative\n"
       ]
      },
      {
       "output_type": "stream",
       "stream": "stdout",
       "text": [
        "\n",
        "\n",
        "\n",
        "\n",
        "\n",
        "\n"
       ]
      },
      {
       "output_type": "stream",
       "stream": "stdout",
       "text": [
        "\n",
        "\n",
        "\n",
        "\n",
        "\n",
        "\n",
        "\n",
        "How Extension Benefits Foes of a Nuclear Deal | The American Conservative\n"
       ]
      },
      {
       "output_type": "stream",
       "stream": "stdout",
       "text": [
        "\n",
        "\n",
        "\n",
        "http://www.townhall.com"
       ]
      },
      {
       "output_type": "stream",
       "stream": "stdout",
       "text": [
        "\n",
        "http://www.townhall.com\n",
        "http://www.townhall.com"
       ]
      },
      {
       "output_type": "stream",
       "stream": "stdout",
       "text": [
        "\n",
        "Memo To The Outgoing House GOP Conference - Hugh Hewitt -  Page full\n"
       ]
      },
      {
       "output_type": "stream",
       "stream": "stdout",
       "text": [
        "\n",
        "http://www.townhall.com\n",
        "http://www.townhall.com\n",
        "http://www.townhall.com\n",
        "http://www.townhall.com\n",
        "Deval Patrick on 2016: \"I've Thought About it, But No...\" - Daniel Doherty \n"
       ]
      },
      {
       "output_type": "stream",
       "stream": "stdout",
       "text": [
        "\n",
        "http://www.townhall.com\n",
        "http://www.townhall.com"
       ]
      },
      {
       "output_type": "stream",
       "stream": "stdout",
       "text": [
        "\n",
        "Who Wants to be Defense Secretary? - Ron Paul -  Page full\n"
       ]
      },
      {
       "output_type": "stream",
       "stream": "stdout",
       "text": [
        "\n",
        "http://www.townhall.com\n",
        "http://www.townhall.com\n",
        "http://www.townhall.com\n",
        "http://www.townhall.com\n",
        "http://www.townhall.com\n",
        "http://www.townhall.com"
       ]
      },
      {
       "output_type": "stream",
       "stream": "stdout",
       "text": [
        "\n",
        "Obama\u2019s War on Blacks - Joanne  Moudy -  Page full\n"
       ]
      },
      {
       "output_type": "stream",
       "stream": "stdout",
       "text": [
        "\n",
        "http://www.townhall.com\n",
        "Time to Fess Up - Paul Greenberg -  Page 1\n"
       ]
      },
      {
       "output_type": "stream",
       "stream": "stdout",
       "text": [
        "\n",
        "http://www.townhall.com\n",
        "http://www.townhall.com\n",
        "http://www.townhall.com"
       ]
      },
      {
       "output_type": "stream",
       "stream": "stdout",
       "text": [
        "\n",
        "Why Did Disney Block God? - Todd Starnes -  Page full\n"
       ]
      },
      {
       "output_type": "stream",
       "stream": "stdout",
       "text": [
        "\n",
        "http://www.townhall.com\n",
        "http://www.townhall.com\n",
        "http://www.townhall.com\n",
        "http://www.townhall.com\n",
        "http://www.townhall.com\n",
        "http://www.townhall.com\n",
        "http://www.townhall.com\n",
        "http://www.townhall.com\n",
        "http://www.townhall.com\n",
        "http://www.townhall.com"
       ]
      },
      {
       "output_type": "stream",
       "stream": "stdout",
       "text": [
        "\n",
        "White House Goes Enron: Boosts GDP for 3rd Quarter? - John Ransom - Townhall Finance Conservative Columnists and Financial Commentary - Page full\n"
       ]
      },
      {
       "output_type": "stream",
       "stream": "stdout",
       "text": [
        "\n",
        "http://www.townhall.com\n",
        "Improve Government: Repeal Aid to States - Chris Edwards - Townhall Finance Conservative Columnists and Financial Commentary - Page 1\n"
       ]
      },
      {
       "output_type": "stream",
       "stream": "stdout",
       "text": [
        "\n",
        "http://www.townhall.com\n",
        "http://www.townhall.com\n",
        "http://www.townhall.com\n",
        "http://www.townhall.com\n",
        "http://www.townhall.com\n",
        "http://www.townhall.com\n",
        "http://www.townhall.com"
       ]
      },
      {
       "output_type": "stream",
       "stream": "stdout",
       "text": [
        "\n",
        "Black America and American Exceptionalism - Autry J.  Pruitt -  Page full\n"
       ]
      },
      {
       "output_type": "stream",
       "stream": "stdout",
       "text": [
        "\n",
        "http://www.townhall.com\n",
        "http://www.townhall.com\n",
        "http://www.townhall.com\n",
        "http://www.townhall.com\n",
        "http://www.townhall.com\n",
        "http://www.townhall.com\n",
        "Rich Lowry Tells Truth About Michael Brown, Makes NBC Liberals Upset - Katie Pavlich \n"
       ]
      },
      {
       "output_type": "stream",
       "stream": "stdout",
       "text": [
        "\n",
        "http://www.townhall.com\n",
        "http://www.townhall.com\n",
        "\r\n",
        "\tPolitical Cartoons - Political Humor, Jokes, and Pictures, Obama, Palin ~ December 1, 2014 - 125413\r\n",
        "\n"
       ]
      },
      {
       "output_type": "stream",
       "stream": "stdout",
       "text": [
        "\n",
        "http://www.townhall.com\n",
        "http://www.townhall.com"
       ]
      },
      {
       "output_type": "stream",
       "stream": "stdout",
       "text": [
        "\n",
        "Emanuel, Drooling Over Death - Katie Kieffer -  Page full\n"
       ]
      },
      {
       "output_type": "stream",
       "stream": "stdout",
       "text": [
        "\n",
        "http://www.townhall.com\n",
        "http://www.townhall.com\n",
        "http://www.townhall.com\n",
        "http://www.townhall.com\n",
        "http://www.townhall.com\n",
        "http://www.townhall.com\n",
        "http://www.townhall.com"
       ]
      },
      {
       "output_type": "stream",
       "stream": "stdout",
       "text": [
        "\n",
        "The Stark Choice with Iran - Herb London -  Page full\n"
       ]
      },
      {
       "output_type": "stream",
       "stream": "stdout",
       "text": [
        "\n",
        "http://www.townhall.com\n",
        "http://www.townhall.com\n",
        "http://www.townhall.com\n",
        "http://www.townhall.com\n",
        "http://www.townhall.com\n",
        "http://www.townhall.com\n",
        "http://www.townhall.com\n",
        "http://www.townhall.com\n",
        "http://www.townhall.com\n",
        "http://www.townhall.com\n",
        "http://www.townhall.com\n",
        "http://www.townhall.com\n",
        "http://www.townhall.com\n",
        "http://www.townhall.com\n",
        "http://www.townhall.com\n",
        "http://www.townhall.com\n",
        "http://www.townhall.com\n",
        "Report: ISIS Encouraging Attacks Against Military Personnel \"Inside the Homeland\" - Daniel Doherty \n"
       ]
      },
      {
       "output_type": "stream",
       "stream": "stdout",
       "text": [
        "\n",
        "http://www.townhall.com\n",
        "http://www.townhall.com\n",
        "http://www.townhall.com"
       ]
      },
      {
       "output_type": "stream",
       "stream": "stdout",
       "text": [
        "\n",
        "A Charlie Brown Christmas Miracle - Tom Purcell -  Page full\n"
       ]
      },
      {
       "output_type": "stream",
       "stream": "stdout",
       "text": [
        "\n",
        "http://www.townhall.com\n",
        "http://www.townhall.com"
       ]
      },
      {
       "output_type": "stream",
       "stream": "stdout",
       "text": [
        "\n",
        "Big Banks fear Swiss citizens will vote to reback their money with gold - Nick Sorrentino - Townhall Finance Conservative Columnists and Financial Commentary - Page full\n"
       ]
      },
      {
       "output_type": "stream",
       "stream": "stdout",
       "text": [
        "\n",
        "http://www.townhall.com\n",
        "http://www.townhall.com"
       ]
      },
      {
       "output_type": "stream",
       "stream": "stdout",
       "text": [
        "\n",
        "Obama Shafts Hillary With Amnesty and Ferguson - Kurt  Schlichter -  Page full\n"
       ]
      },
      {
       "output_type": "stream",
       "stream": "stdout",
       "text": [
        "\n",
        "http://www.townhall.com\n",
        "http://www.townhall.com\n",
        "http://www.townhall.com\n",
        "http://www.townhall.com\n",
        "http://www.townhall.com\n",
        "http://www.townhall.com\n",
        "http://www.townhall.com\n",
        "http://www.townhall.com\n",
        "Sanctions on Russia Bite Europe, China the Beneficiary - Mike Shedlock - Townhall Finance Conservative Columnists and Financial Commentary - Page 1\n"
       ]
      },
      {
       "output_type": "stream",
       "stream": "stdout",
       "text": [
        "\n",
        "http://www.townhall.com\n",
        "http://www.townhall.com\n",
        "http://www.townhall.com\n",
        "http://www.townhall.com\n",
        "Midterm Impact on Financial Regulation - Mark Calabria - Townhall Finance Conservative Columnists and Financial Commentary - Page 1\n"
       ]
      },
      {
       "output_type": "stream",
       "stream": "stdout",
       "text": [
        "\n",
        "http://www.townhall.com\n",
        "http://www.townhall.com"
       ]
      },
      {
       "output_type": "stream",
       "stream": "stdout",
       "text": [
        "\n",
        "Great Moments in Taxing, Spending, and Regulating - Daniel J. Mitchell - Townhall Finance Conservative Columnists and Financial Commentary - Page full\n"
       ]
      },
      {
       "output_type": "stream",
       "stream": "stdout",
       "text": [
        "\n",
        "http://www.townhall.com\n",
        "http://www.townhall.com\n",
        "Early Voting Among Dems in Louisiana Drops 18 Percent - Cortney O'Brien \n"
       ]
      },
      {
       "output_type": "stream",
       "stream": "stdout",
       "text": [
        "\n",
        "http://www.townhall.com\n",
        "http://www.townhall.com\n",
        "http://www.townhall.com\n",
        "http://www.townhall.com\n",
        "http://www.townhall.com\n",
        "http://www.townhall.com\n",
        "http://www.townhall.com\n",
        "http://www.townhall.com\n",
        "http://www.townhall.com\n",
        "http://www.townhall.com\n",
        "http://www.townhall.com\n",
        "Feminists Against Cosmo - Townhall Magazine \n"
       ]
      },
      {
       "output_type": "stream",
       "stream": "stdout",
       "text": [
        "\n",
        "http://www.townhall.com\n",
        "Farmers blast McAuliffe\u2019s hunger game - Kenric Ward\n"
       ]
      },
      {
       "output_type": "stream",
       "stream": "stdout",
       "text": [
        "\n",
        "http://www.townhall.com\n",
        "http://www.townhall.com\n",
        "http://www.townhall.com\n",
        "http://www.townhall.com\n",
        "http://www.townhall.com\n",
        "http://www.townhall.com\n",
        "Most Immigrants Who Arrived In America Didn't 'Get In Line,' Or Follow The Law  - Matt Vespa \n"
       ]
      },
      {
       "output_type": "stream",
       "stream": "stdout",
       "text": [
        "\n",
        "http://www.townhall.com\n",
        "http://www.townhall.com\n",
        "http://www.townhall.com\n",
        "http://www.townhall.com\n",
        "http://www.townhall.com\n",
        "http://www.townhall.com"
       ]
      },
      {
       "output_type": "stream",
       "stream": "stdout",
       "text": [
        "\n",
        "A Crack in the Dem - Rich Galen -  Page full\n"
       ]
      },
      {
       "output_type": "stream",
       "stream": "stdout",
       "text": [
        "\n",
        "http://www.townhall.com\n",
        "http://www.townhall.com\n",
        "http://www.townhall.com\n",
        "http://www.townhall.com\n",
        "http://www.townhall.com\n",
        "\"12 Days of Christmas\" Gifts Slightly More Expensive This Year - Christine Rousselle \n"
       ]
      },
      {
       "output_type": "stream",
       "stream": "stdout",
       "text": [
        "\n",
        "http://www.townhall.com\n",
        "http://www.townhall.com\n",
        "http://www.townhall.com\n",
        "http://www.townhall.com\n",
        "http://www.townhall.com\n",
        "http://www.townhall.com\n",
        "http://www.townhall.com\n",
        "http://www.townhall.com\n",
        "Vos: New WI Legislature to focus on smaller government, free market ideas - Adam Tobias\n"
       ]
      },
      {
       "output_type": "stream",
       "stream": "stdout",
       "text": [
        "\n",
        "http://www.townhall.com\n",
        "http://www.townhall.com\n",
        "http://www.townhall.com\n",
        "What Chris Rock Said About Political Correctness Should Make College Students Gasp - Kevin Glass \n"
       ]
      },
      {
       "output_type": "stream",
       "stream": "stdout",
       "text": [
        "\n",
        "http://www.townhall.com\n",
        "http://www.townhall.com"
       ]
      },
      {
       "output_type": "stream",
       "stream": "stdout",
       "text": [
        "\n",
        "Global Warming Alarmists Claim Airplanes Won\u2019t Fly in 50 Years - Michael Schaus - Townhall Finance Conservative Columnists and Financial Commentary - Page full\n"
       ]
      },
      {
       "output_type": "stream",
       "stream": "stdout",
       "text": [
        "\n",
        "http://www.townhall.com\n",
        "http://www.townhall.com\n",
        "Louisiana Democrat: Vote Multiple Times, You Won't Be Prosecuted  - Guy Benson \n"
       ]
      },
      {
       "output_type": "stream",
       "stream": "stdout",
       "text": [
        "\n",
        "http://www.townhall.com\n",
        "http://www.townhall.com\n",
        "http://www.townhall.com\n",
        "http://www.townhall.com\n",
        "http://www.townhall.com\n",
        "http://www.townhall.com\n",
        "http://www.townhall.com\n",
        "http://www.townhall.com\n",
        "http://www.townhall.com\n",
        "http://www.townhall.com\n",
        "http://www.townhall.com\n",
        "Republicans Invested Heavily In Women\u2013And It Paid Off  - Matt Vespa \n"
       ]
      },
      {
       "output_type": "stream",
       "stream": "stdout",
       "text": [
        "\n",
        "http://www.townhall.com\n",
        "Little conservative group gives up in non-profit status battle with IRS - M.D. Kittle\n"
       ]
      },
      {
       "output_type": "stream",
       "stream": "stdout",
       "text": [
        "\n",
        "http://www.townhall.com\n",
        "http://www.townhall.com"
       ]
      },
      {
       "output_type": "stream",
       "stream": "stdout",
       "text": [
        "\n",
        "Ferguson Protests: Reactions and Reasons - Arthur  Schaper  -  Page full\n"
       ]
      },
      {
       "output_type": "stream",
       "stream": "stdout",
       "text": [
        "\n",
        "http://www.townhall.com\n",
        "http://www.townhall.com\n",
        "http://www.townhall.com\n",
        "http://www.townhall.com\n",
        "http://www.townhall.com\n",
        "http://www.townhall.com\n",
        "http://www.townhall.com\n",
        "http://www.townhall.com\n",
        "http://www.townhall.com\n",
        "http://www.townhall.com\n",
        "http://www.townhall.com\n",
        "http://www.townhall.com\n",
        "http://www.townhall.com"
       ]
      },
      {
       "output_type": "stream",
       "stream": "stdout",
       "text": [
        "\n",
        "To Quote Obama, Mr Brokaw: Elections Have Consequences - Shawn Mitchell - Townhall Finance Conservative Columnists and Financial Commentary - Page full\n"
       ]
      },
      {
       "output_type": "stream",
       "stream": "stdout",
       "text": [
        "\n",
        "http://www.townhall.com\n",
        "http://www.townhall.com\n",
        "http://www.townhall.com\n",
        "http://www.townhall.com\n",
        "http://www.townhall.com\n",
        "http://www.townhall.com"
       ]
      },
      {
       "output_type": "stream",
       "stream": "stdout",
       "text": [
        "\n",
        "America\u2019s Choice: Emperor Obama or the Constitutional Rule of Law - Terry Paulson -  Page full\n"
       ]
      },
      {
       "output_type": "stream",
       "stream": "stdout",
       "text": [
        "\n",
        "http://www.townhall.com\n",
        "http://www.townhall.com\n",
        "http://www.townhall.com\n",
        "http://www.townhall.com"
       ]
      },
      {
       "output_type": "stream",
       "stream": "stdout",
       "text": [
        "\n",
        "Democratic Takeover of Senate in 2016 Possible but Not a Slam Dunk - Michael Barone -  Page full\n"
       ]
      },
      {
       "output_type": "stream",
       "stream": "stdout",
       "text": [
        "\n",
        "/Commentary/Monitor-Political-Cartoons\n",
        "http://www.csmonitor.com/\n",
        "/Specials/Hostage-The-Jill-Carroll-Story\n",
        "http://www.csmonitor.com/\n",
        "/Environment/Global-Warming\n",
        "http://www.csmonitor.com/\n",
        "https://w1.buysub.com/pubs/TF/CSX/CSX-CSZ_Digital_Content.jsp?cds_mag_code=CSX&cds_page_id=167137\n",
        "http://www.csmonitor.com/\n",
        "/USA/USA-Update\n",
        "http://www.csmonitor.com/\n",
        "https://plus.google.com/u/0/+TheChristianScienceMonitor/posts\n",
        "http://www.csmonitor.com/\n",
        "/Innovation/Pioneers\n",
        "http://www.csmonitor.com/\n",
        "/The-Culture/The-Home-Forum\n",
        "http://www.csmonitor.com/\n",
        "/Environment/Wildlife\n",
        "http://www.csmonitor.com/\n",
        "/USA/Elections/President\n",
        "http://www.csmonitor.com/\n",
        "/World/Making-a-difference/Change-Agent/2014/1201/California-police-chief-connects-cops-to-the-community-video\n",
        "http://www.csmonitor.com/\n",
        "not relevant \n"
       ]
      },
      {
       "output_type": "stream",
       "stream": "stdout",
       "text": [
        "\n",
        "/The-Culture/Latest-News-Wires\n",
        "http://www.csmonitor.com/\n",
        "/USA/Sports\n",
        "http://www.csmonitor.com/\n",
        "/Business/In-Gear\n",
        "http://www.csmonitor.com/\n",
        "/The-Culture/Family\n",
        "http://www.csmonitor.com/\n",
        "/The-Culture/Movies/Monitor-Movie-Guide\n",
        "http://www.csmonitor.com/\n",
        "/Business/Robert-Reich\n",
        "http://www.csmonitor.com/\n",
        "/The-Culture/Articles-on-Christian-Science/2014/1201/Prayer-for-Jerusalem\n",
        "http://www.csmonitor.com/\n",
        "not relevant \n"
       ]
      },
      {
       "output_type": "stream",
       "stream": "stdout",
       "text": [
        "\n",
        "/World/Security-Watch/Under-the-Radar\n",
        "http://www.csmonitor.com/\n",
        "/USA/Elections\n",
        "http://www.csmonitor.com/\n",
        "/Business/new-economy\n",
        "http://www.csmonitor.com/\n",
        "/World/Security-Watch/terrorism-security/2014/1201/Canadian-Israeli-woman-reportedly-captured-by-IS-as-airstrikes-increase\n",
        "http://www.csmonitor.com/\n",
        "Canadian-Israeli woman reportedly captured by IS as airstrikes increase - CSMonitor.com\n"
       ]
      },
      {
       "output_type": "stream",
       "stream": "stdout",
       "text": [
        "\n",
        "/World/Security-Watch/Backchannels/2014/1201/Mubarak-s-release-proof-of-Egypt-s-newly-confident-military-order-video\n",
        "http://www.csmonitor.com/\n",
        "not relevant \n"
       ]
      },
      {
       "output_type": "stream",
       "stream": "stdout",
       "text": [
        "\n",
        "/The-Culture/Culture-Cafe/2014/1201/Does-Angelina-Jolie-s-film-Unbroken-live-up-to-the-hype\n",
        "http://www.csmonitor.com/\n",
        "not relevant \n"
       ]
      },
      {
       "output_type": "stream",
       "stream": "stdout",
       "text": [
        "\n",
        "/Books/chapter-and-verse/2014/1201/P.D.-James-spun-crime-into-literature\n",
        "http://www.csmonitor.com/\n",
        "P.D. James spun crime into literature - CSMonitor.com\n"
       ]
      },
      {
       "output_type": "stream",
       "stream": "stdout",
       "text": [
        "\n",
        "/USA/Latest-News-Wires\n",
        "http://www.csmonitor.com/\n",
        "/Business/Guide-to-Giving/America-s-Top-50-charities-in-2014-ranked-by-total-income\n",
        "http://www.csmonitor.com/\n",
        "https://w1.buysub.com/pubs/TF/CSX/CSX_comboentry.jsp?cds_page_id=60187&cds_mag_code=CSX&id=1401199276946&lsid=41470901169017611&vid=1\n",
        "http://www.csmonitor.com/\n",
        "/Commentary/upfront-blog\n",
        "http://www.csmonitor.com/\n",
        "/USA/Military\n",
        "http://www.csmonitor.com/\n",
        "/Business/Latest-News-Wires\n",
        "http://www.csmonitor.com/\n",
        "/The-Culture/Music\n",
        "http://www.csmonitor.com/\n",
        "/World/Security-Watch/Cyber-Conflict-Monitor\n",
        "http://www.csmonitor.com/\n",
        "/The-Culture/Articles-on-Christian-Science\n",
        "http://www.csmonitor.com/\n",
        "/USA/Politics/The-Vote/2014/1201/Elizabeth-Lauten-resigns-Why-critics-attack-first-daughters-at-their-peril\n",
        "http://www.csmonitor.com/\n",
        "Elizabeth Lauten resigns: Why critics attack first daughters at their peril - CSMonitor.com\n"
       ]
      },
      {
       "output_type": "stream",
       "stream": "stdout",
       "text": [
        "\n",
        "/Commentary/Global-Newsstand\n",
        "http://www.csmonitor.com/\n",
        "/USA/Society/2014/1116/Possibility-unbound-25-years-of-progress-for-those-with-disability\n",
        "http://www.csmonitor.com/\n",
        "Possibility unbound: 25 years of progress for those with disability - CSMonitor.com\n"
       ]
      },
      {
       "output_type": "stream",
       "stream": "stdout",
       "text": [
        "\n",
        "/Commentary/Readers-Respond\n",
        "http://www.csmonitor.com/\n",
        "/USA/Foreign-Policy\n",
        "http://www.csmonitor.com/\n",
        "http://m.csmonitor.com\n",
        "http://www.csmonitor.com/\n",
        "/USA/Military/2014/1107/Fallujah-anniversary-Tracking-down-the-US-Marine-Death-Dealers\n",
        "http://www.csmonitor.com/\n",
        "Fallujah anniversary: Tracking down the US Marine 'Death Dealers' - CSMonitor.com\n"
       ]
      },
      {
       "output_type": "stream",
       "stream": "stdout",
       "text": [
        "\n",
        "/The-Culture/Movies/2014/1121/The-Tale-of-Princess-Kaguya-is-a-near-masterpiece\n",
        "http://www.csmonitor.com/\n",
        "not relevant \n"
       ]
      },
      {
       "output_type": "stream",
       "stream": "stdout",
       "text": [
        "\n",
        "/USA/Politics/The-Vote\n",
        "http://www.csmonitor.com/\n",
        "/Specials/Africa-AIDS-Orphans\n",
        "http://www.csmonitor.com/\n",
        "/Innovation/Latest-News-Wires\n",
        "http://www.csmonitor.com/\n",
        "/World/Asia-Pacific\n",
        "http://www.csmonitor.com/\n",
        "/Take-Action/Education\n",
        "http://www.csmonitor.com/\n",
        "/USA/Society\n",
        "http://www.csmonitor.com/\n",
        "/USA/Justice/2014/1201/US-Supreme-Court-declines-to-hear-juvenile-life-sentence-case\n",
        "http://www.csmonitor.com/\n",
        "US Supreme Court declines to hear juvenile life sentence case - CSMonitor.com\n"
       ]
      },
      {
       "output_type": "stream",
       "stream": "stdout",
       "text": [
        "\n",
        "/USA/Foreign-Policy/2014/1201/Why-are-the-world-s-food-aid-programs-running-short-of-money-video\n",
        "http://www.csmonitor.com/\n",
        "not relevant \n"
       ]
      },
      {
       "output_type": "stream",
       "stream": "stdout",
       "text": [
        "\n",
        "/World/Security-Watch/terrorism-security/2014/1130/US-strikes-target-Islamic-State-forces-in-Syrian-towns-of-Raqqa-and-Kobane-video\n",
        "http://www.csmonitor.com/\n",
        "not relevant \n"
       ]
      },
      {
       "output_type": "stream",
       "stream": "stdout",
       "text": [
        "\n",
        "/The-Culture/Family/Modern-Parenthood/2014/1201/Lego-inspired-Star-Wars-Episode-VII-prompts-budding-filmmakers-video\n",
        "http://www.csmonitor.com/\n",
        "not relevant \n"
       ]
      },
      {
       "output_type": "stream",
       "stream": "stdout",
       "text": [
        "\n",
        "/World/Making-a-difference/Latest-News-Wires\n",
        "http://www.csmonitor.com/\n",
        "/World/Security-Watch/Reality-Check\n",
        "http://www.csmonitor.com/\n",
        "/Environment/Latest-News-Wires\n",
        "http://www.csmonitor.com/\n",
        "/About/Careers\n",
        "http://www.csmonitor.com/\n",
        "/World/Middle-East\n",
        "http://www.csmonitor.com/\n",
        "/World/Security-Watch/Security-Voices\n",
        "http://www.csmonitor.com/\n",
        "/Specials/Difference-Maker\n",
        "http://www.csmonitor.com/\n",
        "/\n",
        "http://www.csmonitor.com/\n",
        "/About/Contact\n",
        "http://www.csmonitor.com/\n",
        "/Business/The-Bite/2014/1127/Cranberries-How-do-they-really-grow\n",
        "http://www.csmonitor.com/\n",
        "Cranberries: How do they really grow? - CSMonitor.com\n"
       ]
      },
      {
       "output_type": "stream",
       "stream": "stdout",
       "text": [
        "\n",
        "/Books/Book-Reviews\n",
        "http://www.csmonitor.com/\n",
        "/Commentary/the-monitors-view\n",
        "http://www.csmonitor.com/\n",
        "https://w1.buysub.com/servlet/OrdersGateway?cds_mag_code=CSZ&cds_page_id=156346&cds_response_key=I4FZXCFAT\n",
        "http://www.csmonitor.com/\n",
        "/World/Africa/Africa-Monitor\n",
        "http://www.csmonitor.com/\n",
        "/About/Contact/Feedback/About-these-Ads\n",
        "http://www.csmonitor.com/\n",
        "/Business/new-economy/2014/1201/12-Days-of-Christmas-gifts-will-cost-your-true-love-116K.-Geese-a-laying-prices-surge-74-percent\n",
        "http://www.csmonitor.com/\n",
        "'12 Days of Christmas' gifts will cost your true love $116K. 'Geese-a-laying' prices surge 74 percent. - CSMonitor.com\n"
       ]
      },
      {
       "output_type": "stream",
       "stream": "stdout",
       "text": [
        "\n",
        "/The-Culture/Family/2014/1123/Interfaith-America-Being-both-is-a-rising-trend-in-the-US\n",
        "http://www.csmonitor.com/\n",
        "not relevant \n"
       ]
      },
      {
       "output_type": "stream",
       "stream": "stdout",
       "text": [
        "\n",
        "/World/Americas/Latin-America-Monitor\n",
        "http://www.csmonitor.com/\n",
        "/Take-Action/Human-Trafficking\n",
        "http://www.csmonitor.com/\n",
        "/World/Africa\n",
        "http://www.csmonitor.com/\n",
        "/World/Topics\n",
        "http://www.csmonitor.com/\n",
        "/USA/Elections/Vox-News\n",
        "http://www.csmonitor.com/\n",
        "/The-Culture/Movies\n",
        "http://www.csmonitor.com/\n",
        "/USA/Justice/2014/1201/Are-Facebook-rants-threats-or-free-speech-Supreme-Court-takes-up-case.-video\n",
        "http://www.csmonitor.com/\n",
        "not relevant \n"
       ]
      },
      {
       "output_type": "stream",
       "stream": "stdout",
       "text": [
        "\n",
        "/Specials\n",
        "http://www.csmonitor.com/\n",
        "/USA\n",
        "http://www.csmonitor.com/\n",
        "/Business/2014/1201/Did-Cyber-Monday-and-Black-Friday-bomb-Don-t-buy-the-reports.-video\n",
        "http://www.csmonitor.com/\n",
        "not relevant \n"
       ]
      },
      {
       "output_type": "stream",
       "stream": "stdout",
       "text": [
        "\n",
        "/World/Making-a-difference/Change-Agent/2014/1126/Fort-Drum-goes-wood-powered-in-a-push-for-renewable-energy\n",
        "http://www.csmonitor.com/\n",
        "Fort Drum goes wood powered in a push for renewable energy - CSMonitor.com\n"
       ]
      },
      {
       "output_type": "stream",
       "stream": "stdout",
       "text": [
        "\n",
        "/Environment/Topics\n",
        "http://www.csmonitor.com/\n",
        "https://w1.buysub.com/servlet/OrdersGateway?cds_mag_code=CSX&cds_page_id=174060\n",
        "http://www.csmonitor.com/\n",
        "/Innovation/Energy\n",
        "http://www.csmonitor.com/\n",
        "/The-Culture/Gardening\n",
        "http://www.csmonitor.com/\n",
        "http://littlebillclinton.csmonitor.com/littlebillclinton/\n",
        "http://www.csmonitor.com/\n",
        "https://w1.buysub.com/servlet/OrdersGateway?cds_mag_code=CTE&cds_page_id=171409&cds_response_key=I4HCTETAR\n",
        "http://www.csmonitor.com/\n",
        "/The-Culture/Verbal-Energy\n",
        "http://www.csmonitor.com/\n",
        "/Business/Guide-to-Giving\n",
        "http://www.csmonitor.com/\n",
        "/About/Corrections\n",
        "http://www.csmonitor.com/\n",
        "http://www.facebook.com/ChristianScienceMonitor\n",
        "http://www.csmonitor.com/\n",
        "/World/Making-a-difference\n",
        "http://www.csmonitor.com/\n",
        "/The-Culture/Food/2014/1124/Three-tips-to-reduce-food-waste-at-your-Thanksgiving-dinner/Try-not-cooking-a-whole-bird\n",
        "http://www.csmonitor.com/\n",
        "not relevant \n"
       ]
      },
      {
       "output_type": "stream",
       "stream": "stdout",
       "text": [
        "\n",
        "/The-Culture/Food/Stir-It-Up/Topics\n",
        "http://www.csmonitor.com/\n",
        "/World/Asia-Pacific/2014/1201/Taiwan-election-surprise-Voters-reject-China-friendly-ruling-KMT-party-video\n",
        "http://www.csmonitor.com/\n",
        "not relevant \n"
       ]
      },
      {
       "output_type": "stream",
       "stream": "stdout",
       "text": [
        "\n",
        "/World/Latest-News-Wires\n",
        "http://www.csmonitor.com/\n",
        "/World/Security-Watch/terrorism-security\n",
        "http://www.csmonitor.com/\n",
        "/Commentary\n",
        "http://www.csmonitor.com/\n",
        "/World/Middle-East/2014/0923/How-much-do-you-know-about-the-Islamic-State/prime-source\n",
        "http://www.csmonitor.com/\n",
        "not relevant \n"
       ]
      },
      {
       "output_type": "stream",
       "stream": "stdout",
       "text": [
        "\n",
        "/Take-Action/Environment\n",
        "http://www.csmonitor.com/\n",
        "/Business\n",
        "http://www.csmonitor.com/\n",
        "/Commentary/Readers-Respond/2014/1201/Readers-Write-Soceity-makes-war-honorable-a-new-approach-in-Syria-is-needed\n",
        "http://www.csmonitor.com/\n",
        "Readers Write: Soceity makes war honorable; a new approach in Syria is needed - CSMonitor.com\n"
       ]
      },
      {
       "output_type": "stream",
       "stream": "stdout",
       "text": [
        "\n",
        "/Business/Saving-Money\n",
        "http://www.csmonitor.com/\n",
        "/csm/contentmap\n",
        "http://www.csmonitor.com/\n",
        "/Commentary/upfront-blog/2014/1130/Mining-character-for-clues\n",
        "http://www.csmonitor.com/\n",
        "Mining character for clues - CSMonitor.com\n"
       ]
      },
      {
       "output_type": "stream",
       "stream": "stdout",
       "text": [
        "\n",
        "/USA/DC-Decoder/Decoder-Voices\n",
        "http://www.csmonitor.com/\n",
        "/USA/DC-Decoder/Decoder-Buzz\n",
        "http://www.csmonitor.com/\n",
        "/World/Progress-Watch\n",
        "http://www.csmonitor.com/\n",
        "/USA/DC-Decoder/Decoder-Buzz/2014/1201/Malia-Sasha-and-the-turkey-brouhaha-When-is-it-OK-to-criticize-presidential-kids-video\n",
        "http://www.csmonitor.com/\n",
        "not relevant \n"
       ]
      },
      {
       "output_type": "stream",
       "stream": "stdout",
       "text": [
        "\n",
        "/csmlists/special/cover-story\n",
        "http://www.csmonitor.com/\n",
        "/USA/DC-Decoder/2014/1130/Mitch-McConnell-s-big-test\n",
        "http://www.csmonitor.com/\n",
        "Mitch McConnell's big test - CSMonitor.com\n"
       ]
      },
      {
       "output_type": "stream",
       "stream": "stdout",
       "text": [
        "\n",
        "/USA/DC-Decoder/2014/1130/12-things-to-know-about-Mitch-McConnell\n",
        "http://www.csmonitor.com/\n",
        "12 things to know about Mitch McConnell - CSMonitor.com\n"
       ]
      },
      {
       "output_type": "stream",
       "stream": "stdout",
       "text": [
        "\n",
        "/World/Asia-Pacific/2014/1201/Amid-Hong-Kong-violence-moms-make-hot-soup-to-woo-offspring-home-video\n",
        "http://www.csmonitor.com/\n",
        "not relevant \n"
       ]
      },
      {
       "output_type": "stream",
       "stream": "stdout",
       "text": [
        "\n",
        "/Specials/Monitor-Centennial\n",
        "http://www.csmonitor.com/\n",
        "/World/Global-Issues\n",
        "http://www.csmonitor.com/\n",
        "/The-Culture/Movies/2014/1128/The-Imitation-Game-Benedict-Cumberbatch-s-performance-is-more-interesting-than-the-movie-video\n",
        "http://www.csmonitor.com/\n",
        "not relevant \n"
       ]
      },
      {
       "output_type": "stream",
       "stream": "stdout",
       "text": [
        "\n",
        "/About/Terms\n",
        "http://www.csmonitor.com/\n",
        "/USA/DC-Decoder\n",
        "http://www.csmonitor.com/\n",
        "/World/Global-News\n",
        "http://www.csmonitor.com/\n",
        "/World/Europe\n",
        "http://www.csmonitor.com/\n",
        "/Commentary/the-monitors-view/2014/1201/Spotting-the-inviolate-in-oil-price-volatility\n",
        "http://www.csmonitor.com/\n",
        "Spotting the inviolate in oil price volatility - CSMonitor.com\n"
       ]
      },
      {
       "output_type": "stream",
       "stream": "stdout",
       "text": [
        "\n",
        "/Innovation\n",
        "http://www.csmonitor.com/\n",
        "/USA/Education\n",
        "http://www.csmonitor.com/\n",
        "/The-Culture/TV\n",
        "http://www.csmonitor.com/\n",
        "/USA/Elections/Senate\n",
        "http://www.csmonitor.com/\n",
        "/USA/Elections/House\n",
        "http://www.csmonitor.com/\n",
        "/The-Culture\n",
        "http://www.csmonitor.com/\n",
        "/USA/USA-Update/2014/1201/Girl-Scout-cookies-go-online-Now-you-can-buy-Thin-Mints-anywhere-video\n",
        "http://www.csmonitor.com/\n",
        "not relevant \n"
       ]
      },
      {
       "output_type": "stream",
       "stream": "stdout",
       "text": [
        "\n",
        "/About/Find-us-online\n",
        "http://www.csmonitor.com/\n",
        "/World/Making-a-difference/2014/1125/Chen-Hui-jie-runs-a-political-campaign-at-age-16\n",
        "http://www.csmonitor.com/\n",
        "Chen Hui-jie runs a political campaign \u2013 at age 16 - CSMonitor.com\n"
       ]
      },
      {
       "output_type": "stream",
       "stream": "stdout",
       "text": [
        "\n",
        "/The-Culture/Culture-Cafe\n",
        "http://www.csmonitor.com/\n",
        "http://www.twitter.com/CSMonitor\n",
        "http://www.csmonitor.com/\n",
        "/World/Making-a-difference/2014/1121/Chad-Houser-cooked-up-a-cafe-to-give-young-offenders-a-second-chance\n",
        "http://www.csmonitor.com/\n",
        "Chad Houser cooked up a caf\u00e9 to give young offenders a second chance - CSMonitor.com\n"
       ]
      },
      {
       "output_type": "stream",
       "stream": "stdout",
       "text": [
        "\n",
        "/USA/USA-Update/2014/1124/Paying-it-forward-Chicago-church-gives-congregants-500-to-do-good-video\n",
        "http://www.csmonitor.com/\n",
        "not relevant \n"
       ]
      },
      {
       "output_type": "stream",
       "stream": "stdout",
       "text": [
        "\n",
        "/The-Culture/Food/Stir-It-Up/2014/1128/Gluten-free-coconut-rice-pudding\n",
        "http://www.csmonitor.com/\n",
        "not relevant \n"
       ]
      },
      {
       "output_type": "stream",
       "stream": "stdout",
       "text": [
        "\n",
        "/USA/Politics\n",
        "http://www.csmonitor.com/\n",
        "/Take-Action/Conflict-Resolution\n",
        "http://www.csmonitor.com/\n",
        "/About/Advertise\n",
        "http://www.csmonitor.com/\n",
        "/Take-Action/Disaster-Relief-and-Recovery\n",
        "http://www.csmonitor.com/\n",
        "/World/Middle-East/2014/1026/Fortress-Israel-Can-people-make-peace-when-they-don-t-talk\n",
        "http://www.csmonitor.com/\n",
        "Fortress Israel: Can people make peace when they don\u2019t talk? - CSMonitor.com\n"
       ]
      },
      {
       "output_type": "stream",
       "stream": "stdout",
       "text": [
        "\n",
        "https://w1.buysub.com/servlet/OrdersGateway?cds_mag_code=CSX&cds_page_id=163269&cds_response_key=I4FXPPT\n",
        "http://www.csmonitor.com/\n",
        "/World/Security-Watch/Backchannels\n",
        "http://www.csmonitor.com/\n",
        "/content/search\n",
        "http://www.csmonitor.com/\n",
        "/World\n",
        "http://www.csmonitor.com/\n",
        "/Innovation/Horizons\n",
        "http://www.csmonitor.com/\n",
        "/Take-Action\n",
        "http://www.csmonitor.com/\n",
        "https://w1.buysub.com/servlet/OrdersGateway?cds_mag_code=CSZ&cds_page_id=156346&cds_response_key=I4FZXSNT\n",
        "http://www.csmonitor.com/\n",
        "/The-Culture/Movies/2014/1121/National-Gallery-is-a-remarkable-film-about-the-experience-of-art-in-all-its-manifestations\n",
        "http://www.csmonitor.com/\n",
        "not relevant \n"
       ]
      },
      {
       "output_type": "stream",
       "stream": "stdout",
       "text": [
        "\n",
        "/The-Culture/Family/Modern-Parenthood\n",
        "http://www.csmonitor.com/\n",
        "/USA/Elections/From-the-Wires\n",
        "http://www.csmonitor.com/\n",
        "/USA/Elections/Governors\n",
        "http://www.csmonitor.com/\n",
        "/Innovation/Responsible-Tech\n",
        "http://www.csmonitor.com/\n",
        "/Innovation/Tech-Culture\n",
        "http://www.csmonitor.com/\n",
        "/Environment/Energy-Voices/2014/1201/Oil-prices-OPEC-and-the-future-of-energy-Recharge\n",
        "http://www.csmonitor.com/\n",
        "Oil prices, OPEC, and the future of energy [Recharge] - CSMonitor.com\n"
       ]
      },
      {
       "output_type": "stream",
       "stream": "stdout",
       "text": [
        "\n",
        "/The-Culture/Food\n",
        "http://www.csmonitor.com/\n",
        "/USA/Society/2014/1201/NFL-won-t-punish-St.-Louis-Rams-for-Hands-up-Don-t-Shoot-protest-video\n",
        "http://www.csmonitor.com/\n",
        "not relevant \n"
       ]
      },
      {
       "output_type": "stream",
       "stream": "stdout",
       "text": [
        "\n",
        "/World/Security-Watch\n",
        "http://www.csmonitor.com/\n",
        "/textedition\n",
        "http://www.csmonitor.com/\n",
        "/World/Making-a-difference/Change-Agent\n",
        "http://www.csmonitor.com/\n",
        "/World/Global-Issues/2014/1201/Anti-AIDS-efforts-make-big-gains-in-stopping-child-infections-video\n",
        "http://www.csmonitor.com/\n",
        "not relevant \n"
       ]
      },
      {
       "output_type": "stream",
       "stream": "stdout",
       "text": [
        "\n",
        "/USA/Justice\n",
        "http://www.csmonitor.com/\n",
        "/The-Culture/Arts\n",
        "http://www.csmonitor.com/\n",
        "/Books/Latest-News-Wires\n",
        "http://www.csmonitor.com/\n",
        "/Business/Paper-Economy\n",
        "http://www.csmonitor.com/\n",
        "/csmlists/special/difference-maker\n",
        "http://www.csmonitor.com/\n",
        "/The-Culture/Food/2014/1124/Three-tips-to-reduce-food-waste-at-your-Thanksgiving-dinner\n",
        "http://www.csmonitor.com/\n",
        "not relevant \n"
       ]
      },
      {
       "output_type": "stream",
       "stream": "stdout",
       "text": [
        "\n",
        "/About/Subscriptions/E-readers\n",
        "http://www.csmonitor.com/\n",
        "/Business/The-Bite\n",
        "http://www.csmonitor.com/\n",
        "/Books/Readers-Picks\n",
        "http://www.csmonitor.com/\n",
        "/The-Culture/Movies/2014/1121/The-Last-Goodbye-will-make-you-weep-like-a-Nazgul\n",
        "http://www.csmonitor.com/\n",
        "not relevant \n"
       ]
      },
      {
       "output_type": "stream",
       "stream": "stdout",
       "text": [
        "\n",
        "/USA/DC-Decoder/2014/1201/Ferguson-day-at-the-White-House-What-did-Obama-accomplish\n",
        "http://www.csmonitor.com/\n",
        "Ferguson day at the White House: What did Obama accomplish? - CSMonitor.com\n"
       ]
      },
      {
       "output_type": "stream",
       "stream": "stdout",
       "text": [
        "\n",
        "/USA/DC-Decoder/Decoder-Buzz/2014/1130/Elizabeth-Lauten-GOP-staffer-who-slammed-Malia-and-Sasha-Obama-resigns\n",
        "http://www.csmonitor.com/\n",
        "Elizabeth Lauten: GOP staffer who slammed Malia and Sasha Obama resigns - CSMonitor.com\n"
       ]
      },
      {
       "output_type": "stream",
       "stream": "stdout",
       "text": [
        "\n",
        "/Commentary/the-monitors-view/2014/1130/A-pulpit-rebuke-of-Nigeria-s-terrorists\n",
        "http://www.csmonitor.com/\n",
        "A pulpit rebuke of Nigeria's terrorists - CSMonitor.com\n"
       ]
      },
      {
       "output_type": "stream",
       "stream": "stdout",
       "text": [
        "\n",
        "/World/Global-News/2014/1201/These-sisters-were-sexually-harassed-on-a-bus-in-India-Here-s-what-they-did-about-it\n",
        "http://www.csmonitor.com/\n",
        "These sisters were sexually harassed on a bus in India: Here's what they did about it - CSMonitor.com\n"
       ]
      },
      {
       "output_type": "stream",
       "stream": "stdout",
       "text": [
        "\n",
        "https://w1.buysub.com/pubs/TF/CSZ/Print_Digital_Combo.jsp?cds_page_id=156346&cds_mag_code=CSZ&id=1402508303756&lsid=41621238237041116&vid=1&cds_response_key=I4FZXSUBP\n",
        "http://www.csmonitor.com/\n",
        "/World/Americas\n",
        "http://www.csmonitor.com/\n",
        "/Books\n",
        "http://www.csmonitor.com/\n",
        "/Photo-Galleries\n",
        "http://www.csmonitor.com/\n",
        "/Innovation/Horizons/2014/1028/Elon-Musk-says-SpaceX-has-a-50-percent-chance-of-landing-a-rocket-on-floating-platform\n",
        "http://www.csmonitor.com/\n",
        "Elon Musk says SpaceX has a 50 percent chance of landing a rocket on floating platform - CSMonitor.com\n"
       ]
      },
      {
       "output_type": "stream",
       "stream": "stdout",
       "text": [
        "\n",
        "#\n",
        "http://www.csmonitor.com/\n",
        "https://w1.buysub.com/servlet/OrdersGateway?cds_mag_code=CSX&cds_page_id=163269&cds_response_key=I4FXWCTLC\n",
        "http://www.csmonitor.com/\n",
        "/World/Middle-East/Olive-Press\n",
        "http://www.csmonitor.com/\n",
        "/Photo-Galleries/Photos-of-the-Day/2014/Photos-of-the-day-12-01\n",
        "http://www.csmonitor.com/\n",
        "not relevant \n"
       ]
      },
      {
       "output_type": "stream",
       "stream": "stdout",
       "text": [
        "\n",
        "/Multimedia\n",
        "http://www.csmonitor.com/\n",
        "/The-Culture/Movies/2014/1128/Once-Upon-a-Time-Veronica-is-a-bit-dissolute-and-daffy\n",
        "http://www.csmonitor.com/\n",
        "not relevant \n"
       ]
      },
      {
       "output_type": "stream",
       "stream": "stdout",
       "text": [
        "\n",
        "/Environment\n",
        "http://www.csmonitor.com/\n",
        "/Science\n",
        "http://www.csmonitor.com/\n",
        "/USA/Politics/2014/1101/How-to-fix-Congress-Two-former-Senate-leaders-give-their-repair-list\n",
        "http://www.csmonitor.com/\n",
        "How to fix Congress: Two former Senate leaders give their repair list - CSMonitor.com\n"
       ]
      },
      {
       "output_type": "stream",
       "stream": "stdout",
       "text": [
        "\n",
        "/Science/2014/1126/Can-your-dog-understand-what-you-re-saying\n",
        "http://www.csmonitor.com/\n",
        "Can your dog understand what you're saying? - CSMonitor.com\n"
       ]
      },
      {
       "output_type": "stream",
       "stream": "stdout",
       "text": [
        "\n",
        "/USA/Military/2014/1201/Why-did-FBI-urge-US-troops-to-scrub-social-media-accounts\n",
        "http://www.csmonitor.com/\n",
        "Why did FBI urge US troops to scrub social media accounts? - CSMonitor.com\n"
       ]
      },
      {
       "output_type": "stream",
       "stream": "stdout",
       "text": [
        "\n",
        "/About/Privacy-Policy\n",
        "http://www.csmonitor.com/\n",
        "/USA/Society/2014/1201/A-black-storm-trooper-Star-Wars-awakens-forceful-debate-about-race\n",
        "http://www.csmonitor.com/\n",
        "A black storm trooper? 'Star Wars' awakens forceful debate about race. - CSMonitor.com\n"
       ]
      },
      {
       "output_type": "stream",
       "stream": "stdout",
       "text": [
        "\n",
        "/Environment/Energy-Voices\n",
        "http://www.csmonitor.com/\n",
        "/USA/Politics/monitor_breakfast\n",
        "http://www.csmonitor.com/\n",
        "/The-Culture/Poetry\n",
        "http://www.csmonitor.com/\n",
        "/Innovation/Tech\n",
        "http://www.csmonitor.com/\n",
        "/Science/2011/1209/Are-you-scientifically-literate-Take-our-quiz/Composing-about-78-percent-of-the-air-at-sea-level-what-is-the-most-common-gas-in-the-Earth-s-atmosphere\n",
        "http://www.csmonitor.com/\n",
        "/Business/Tax-VOX\n",
        "http://www.csmonitor.com/\n",
        "/Books/chapter-and-verse\n",
        "http://www.csmonitor.com/\n",
        "/About\n",
        "http://www.csmonitor.com/\n",
        "/World/Asia-South-Central\n",
        "http://www.csmonitor.com/\n",
        "/The-Culture/Religion\n",
        "http://www.csmonitor.com/\n",
        "/The-Culture/Food/Stir-It-Up\n",
        "http://www.csmonitor.com/\n",
        "http://www.motherjones.com\n",
        "http://www.motherjones.com\n",
        "http://www.motherjones.com\n",
        "http://www.motherjones.com\n",
        "http://www.motherjones.com\n",
        "http://www.motherjones.com\n",
        "http://www.motherjones.com\n",
        "Despite Conservatives' Pleas, Texas Board Rejects Clemency for Mentally Ill Convict | Mother Jones\n"
       ]
      },
      {
       "output_type": "stream",
       "stream": "stdout",
       "text": [
        "\n",
        "http://www.motherjones.com\n",
        "http://www.motherjones.com\n",
        "http://www.motherjones.com\n",
        "How Dark Money Is Taking Over Judicial Elections | Mother Jones\n"
       ]
      },
      {
       "output_type": "stream",
       "stream": "stdout",
       "text": [
        "\n",
        "http://www.motherjones.com\n",
        "http://www.motherjones.com\n",
        "http://www.motherjones.com\n",
        "http://www.motherjones.com\n",
        "The Looming Olive Oil Apocalypse | Mother Jones\n"
       ]
      },
      {
       "output_type": "stream",
       "stream": "stdout",
       "text": [
        "\n",
        "http://www.motherjones.com\n",
        "http://www.motherjones.com\n",
        "I Wish I Weren't Already a Journalist So This Music Video Could Inspire Me to Become a Journalist | Mother Jones\n"
       ]
      },
      {
       "output_type": "stream",
       "stream": "stdout",
       "text": [
        "\n",
        "http://www.motherjones.com\n",
        "http://www.motherjones.com\n",
        "That Takeout Coffee Cup May Be Messing With Your Hormones | Mother Jones\n"
       ]
      },
      {
       "output_type": "stream",
       "stream": "stdout",
       "text": [
        "\n",
        "http://www.motherjones.com\n",
        "http://www.motherjones.com\n",
        "http://www.motherjones.com\n",
        "http://www.motherjones.com\n",
        "http://www.motherjones.com\n",
        "http://www.motherjones.com\n",
        "http://www.motherjones.com\n",
        "http://www.motherjones.com\n",
        "http://www.motherjones.com\n",
        "5 Key Inconsistencies in What Happened During the Michael Brown Shooting | Mother Jones\n"
       ]
      },
      {
       "output_type": "stream",
       "stream": "stdout",
       "text": [
        "\n",
        "http://www.motherjones.com\n",
        "http://www.motherjones.com\n",
        "The Koch 130 | Mother Jones\n"
       ]
      },
      {
       "output_type": "stream",
       "stream": "stdout",
       "text": [
        "\n",
        "http://www.motherjones.com\n",
        "\"Wild's\" Cheryl Strayed Becomes One With Reese Witherspoon | Mother Jones\n"
       ]
      },
      {
       "output_type": "stream",
       "stream": "stdout",
       "text": [
        "\n",
        "http://www.motherjones.com\n",
        "Map: The United States of Legal Weed | Mother Jones\n"
       ]
      },
      {
       "output_type": "stream",
       "stream": "stdout",
       "text": [
        "\n",
        "http://www.motherjones.com\n",
        "http://www.motherjones.com\n",
        "http://www.motherjones.com\n",
        "http://www.motherjones.com\n",
        "Chris Rock: \"My Children Are Encountering the Nicest White People That America Has Ever Produced\" | Mother Jones\n"
       ]
      },
      {
       "output_type": "stream",
       "stream": "stdout",
       "text": [
        "\n",
        "http://www.motherjones.com\n",
        "http://www.motherjones.com\n",
        "http://www.motherjones.com\n",
        "Ferguson Is Even More Polarizing Than Polls Suggest | Mother Jones\n"
       ]
      },
      {
       "output_type": "stream",
       "stream": "stdout",
       "text": [
        "\n",
        "http://www.motherjones.com\n",
        "http://www.motherjones.com\n",
        "Photos of the First AIDS Hospice Center Tell a Story of Struggle and Resilience | Mother Jones\n"
       ]
      },
      {
       "output_type": "stream",
       "stream": "stdout",
       "text": [
        "\n",
        "http://www.motherjones.com\n",
        "http://www.motherjones.com\n",
        "http://www.motherjones.com"
       ]
      },
      {
       "output_type": "stream",
       "stream": "stdout",
       "text": [
        "\n",
        "Climate Negotiators Are Working on History's Most Important Mad Lib | Mother Jones\n"
       ]
      },
      {
       "output_type": "stream",
       "stream": "stdout",
       "text": [
        "\n",
        "http://www.motherjones.com\n",
        "http://www.motherjones.com\n",
        "The Science of Why Cops Shoot Young Black Men | Mother Jones\n"
       ]
      },
      {
       "output_type": "stream",
       "stream": "stdout",
       "text": [
        "\n",
        "http://www.motherjones.com\n",
        "http://www.motherjones.com\n",
        "http://www.motherjones.com\n"
       ]
      }
     ],
     "prompt_number": 26
    },
    {
     "cell_type": "markdown",
     "metadata": {},
     "source": [
      "#Part 2: Feature Vectors"
     ]
    },
    {
     "cell_type": "code",
     "collapsed": false,
     "input": [],
     "language": "python",
     "metadata": {},
     "outputs": []
    }
   ],
   "metadata": {}
  }
 ]
}