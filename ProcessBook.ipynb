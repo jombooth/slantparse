{
 "metadata": {
  "name": "",
  "signature": "sha256:d08c6b5e94f80581dad6284be0cf7dfbed29272768b975e4213e481a0081add3"
 },
 "nbformat": 3,
 "nbformat_minor": 0,
 "worksheets": [
  {
   "cells": [
    {
     "cell_type": "markdown",
     "metadata": {},
     "source": [
      "<h2 align=\"center\">slant parse: <br><br> Using Machine Learning to Determine the Political Leanings of News Publications</h2>\n",
      "\n",
      "<br><center>Serena L Booth, Harvard College, Class of 2016</center>\n",
      "\n",
      "<center>Joseph M Booth, Harvard College, Class of 2015</center>\n",
      "\n",
      "\n",
      "---"
     ]
    },
    {
     "cell_type": "markdown",
     "metadata": {},
     "source": [
      "#Part 0: Metric "
     ]
    },
    {
     "cell_type": "code",
     "collapsed": false,
     "input": [
      "list_of_political_magazines = ['http://en.wikipedia.org/wiki/List_of_political_magazines', 'http://en.wikipedia.org/wiki/Category:Modern_liberal_American_magazines',\n",
      "                               'http://en.wikipedia.org/wiki/Category:Conservative_American_magazines', 'http://usconservatives.about.com/od/gettinginvolved/tp/TopConservativeMagazines.htm',\n",
      "                               'http://www.allyoucanread.com/top-10-political-magazines/', 'http://www.conservapedia.com/Conservative_media', \n",
      "                               'http://www.dailykos.com/story/2009/04/05/716698/-The-Compleat-Revised-Guide-to-Liberal-and-Progressive-News-and-Politics-on-the-Web',\n",
      "                               'http://www.washingtonpost.com/blogs/the-fix/wp/2014/10/21/lets-rank-the-media-from-liberal-to-conservative-based-on-their-audiences/']"
     ],
     "language": "python",
     "metadata": {},
     "outputs": [],
     "prompt_number": 2
    },
    {
     "cell_type": "markdown",
     "metadata": {},
     "source": [
      "# Part 1: Data Collection\n",
      "\n",
      "We scrape 5 liberal sources: \n",
      "    - Mother Jones\n",
      "    - The Nation\n",
      "    - Slate\n",
      "    - The New Yorker\n",
      "    - The Washington Post\n",
      "\n",
      "And 5 conservative sources:\n",
      "    - The Christian Science Monitor\n",
      "    - The Weekly Standard\n",
      "    - TownHall\n",
      "    - The American Conservative\n",
      "    - The American Spectator\n",
      "    "
     ]
    },
    {
     "cell_type": "code",
     "collapsed": false,
     "input": [
      "import urllib\n",
      "import csv\n",
      "from bs4 import BeautifulSoup\n",
      "from sets import Set\n",
      "from sgmllib import SGMLParser\n",
      "import pickle "
     ],
     "language": "python",
     "metadata": {},
     "outputs": [],
     "prompt_number": 2
    },
    {
     "cell_type": "code",
     "collapsed": false,
     "input": [
      "# cite: https://github.com/chungy/diveintopython/blob/master/py/urllister.py\n",
      "class URLLister(SGMLParser):\n",
      "    \"\"\"\n",
      "    Arguments: (implicit) SGMLParser \n",
      "    \n",
      "    Extracts all 'href's from an html document. We store these links in a set, \n",
      "    and process them individually to retrieve content or additional links. \n",
      "    \"\"\"\n",
      "    def reset(self):\n",
      "        SGMLParser.reset(self)\n",
      "        self.urls = []\n",
      "\n",
      "    def start_a(self, attrs):\n",
      "        href = [v for k, v in attrs if k=='href']\n",
      "        if href:\n",
      "            self.urls.extend(href)\n",
      "    "
     ],
     "language": "python",
     "metadata": {},
     "outputs": [],
     "prompt_number": 3
    },
    {
     "cell_type": "code",
     "collapsed": false,
     "input": [
      "def process_url(url, url_mod, string_start, find_string, start_article_delim, end_article_delim, name, pol):\n",
      "    \"\"\"\n",
      "    Arguments: string url, string url_mod, string find_string, string start_title_delim, \n",
      "    string end_title_delim, string start_article_delim, string end_article_delim, string name, string pol\n",
      "    \n",
      "    For each url passed to process_url, open the CSV file articles.csv which contains all data scraped.\n",
      "    Process the article by retrieving the title, and by using BeautifulSoup to retrieve the article text.\n",
      "    Store each article in the CSV as the publication name, the publication's political leaning (either 'L' or 'C'), article title, and article content.  \n",
      "    \"\"\"\n",
      "        \n",
      "    \n",
      "    #with open('articles_scraped.pickle', 'a+') as handle:\n",
      "    #    pickle.dump(set(), handle)\n",
      "    \n",
      "    # check url format\n",
      "    if len(url) > 0 and ((str(url)[0] == '/' and string_start == \"\") or str(url).find(string_start) == 0) and str(url).find(find_string) != -1: \n",
      "        with open('articles.csv', 'a+') as csvfile:\n",
      "            article_writer = csv.writer(csvfile, delimiter='^')\n",
      "            \n",
      "            tmp_url = url_mod + str(url)\n",
      "            usock = urllib.urlopen(tmp_url)\n",
      "            html = usock.read()\n",
      "                        \n",
      "            # use Beautiful Soup \n",
      "            soup_unprocessed = BeautifulSoup(html)\n",
      "              \n",
      "            # use try/except to catch cases in which articles do not conform to general standards\n",
      "            # e.g. when an article does not have a title\n",
      "            try:\n",
      "                title = soup_unprocessed.title.string \n",
      "                title = title.encode(\"utf-8\")\n",
      "                \n",
      "                 # If article is from a specific provider, modify it according to the following rules: \n",
      "                # e.g. in the case of Townhall, we only want html which has the full article rather than a paged version\n",
      "                if name == \"TownHall\" and html.find(\"View Full Article\") != -1:\n",
      "                    process_url(url + '/page/full', url_mod, string_start, find_string, start_article_delim, end_article_delim, name, pol)\n",
      "                    usock.close()\n",
      "                    return\n",
      "                elif name == \"Slate\" and html.find('<div class=\"single-page\">') != -1: \n",
      "                    process_url(url[0:url.find('.html')] + '.single.html', url_mod, string_start, find_string, start_article_delim, end_article_delim, name, pol)\n",
      "                    usock.close()\n",
      "                    return\n",
      "                elif name == \"Mother Jones\" and (title.find('Issue') != -1 or title.find('map') != -1):\n",
      "                    print 'Content not text, or article not relevant.\\n'\n",
      "                    usock.close()\n",
      "                    return\n",
      "                elif name == \"The American Conservative\" and html.find('Author Archives') != -1 or title.find('Web Headlines') != -1 or title.find('Articles') != -1:\n",
      "                    print 'Content not text, or article not relevant.\\n'\n",
      "                    usock.close()\n",
      "                    return\n",
      "                elif name == \"The Christian Science Monitor\" and (title.find('+video') != -1 or url.find('The-Culture') != -1 or title.find('Photos of the day') != -1 or title.find('How much do you know about') != -1):\n",
      "                    print 'Content not text, or article not relevant.\\n'\n",
      "                    usock.close()\n",
      "                    return \n",
      "                elif name == \"The Blaze\" and title.find('Video') != -1:\n",
      "                    print 'Content not text, or article not relevant.\\n'\n",
      "                    usock.close()\n",
      "                    return\n",
      "                elif name == \"Slate\" and (url.find('video') != -1 or url.find('podcast') != -1): \n",
      "                    print 'Content not text, or article not relevant.\\n'\n",
      "                    usock.close()\n",
      "                    return\n",
      "                elif name == \"The Washington Post\" and (url.find('live') != -1 or html.find('posttv-video-template') != -1):\n",
      "                    print 'Content not text, or article not relevant.\\n'\n",
      "                    usock.close()\n",
      "                    return\n",
      "                else: \n",
      "                    print title + '\\n'\n",
      "                    content = str(html)[str(html).find(start_article_delim) + len (start_article_delim):str(html).find(end_article_delim)]\n",
      "                    soup = BeautifulSoup(content)\n",
      "                    mod_content = soup.get_text()\n",
      "                \n",
      "                with open('articles_scraped.pickle', 'rb') as handle:\n",
      "                    article_list = pickle.load(handle)\n",
      "                    if title in article_list: \n",
      "                        print '\\n ALREADY IN SET \\n'\n",
      "                        return\n",
      "                    else:\n",
      "                        with open('articles_scraped.pickle', 'wb') as handle:\n",
      "                            article_list.append(title)\n",
      "                            pickle.dump(article_list, handle)\n",
      "                \n",
      "                mod_content = mod_content.encode(\"utf-8\")    \n",
      "                article_writer.writerow([name, pol, title, mod_content])\n",
      "            except AttributeError: \n",
      "                print 'Attribute Error'\n",
      "                \n",
      "            usock.close()\n",
      "            "
     ],
     "language": "python",
     "metadata": {},
     "outputs": [],
     "prompt_number": 26
    },
    {
     "cell_type": "code",
     "collapsed": false,
     "input": [
      "def scrape(start_url, iterator, url_list, url_mod):      \n",
      "    \"\"\"\n",
      "    Arguments: string start_url, int iterator, set url_list, string url_mod\n",
      "    Returns: updated set url_list \n",
      "    \n",
      "    For each start_url passed, this function opens that url and retrieves all hrefs from that page. \n",
      "    If iterator is smaller than the (constant) number of ITER_PAGES, scrape is called recursively \n",
      "    on the set of urls. \n",
      "    \"\"\"\n",
      "    \n",
      "    # limit the number of articles retrieved by limiting page depth\n",
      "    if iterator > ITER_PAGES: \n",
      "        return set()\n",
      "    \n",
      "    # call URLLister to retrieve all hrefs in the html read from the url \n",
      "    usock = urllib.urlopen(start_url)\n",
      "    parser = URLLister()\n",
      "    html = usock.read()\n",
      "    parser.feed(html)\n",
      "    usock.close()\n",
      "    parser.close()\n",
      "    \n",
      "    url_list = url_list.union(parser.urls)\n",
      "    \n",
      "    # scrape each correctly formatted url\n",
      "    for url in url_list: \n",
      "        if len(url) > 0 and str(url)[0] == '/': \n",
      "            tmp_url = url_mod + str(url)\n",
      "            try: \n",
      "                tmp_set = scrape(tmp_url, iterator + 1, url_list, url_mod)\n",
      "                url_list = url_list.union(tmp_set) \n",
      "            except IOError: \n",
      "                print \"Couldn't Open\"\n",
      "    return url_list\n"
     ],
     "language": "python",
     "metadata": {},
     "outputs": [],
     "prompt_number": 4
    },
    {
     "cell_type": "code",
     "collapsed": false,
     "input": [
      "ITER_PAGES = 1\n",
      "\n",
      "# pickle setup\n",
      "articles_to_pickle = []\n",
      "try:\n",
      "    with open('articles_scraped.pickle', 'rb') as handle:\n",
      "        articles_to_pickle = pickle.load(handle)\n",
      "except IOError: \n",
      "    with open('articles_scraped.pickle', 'wb') as handle:\n",
      "        pickle.dump(articles_to_pickle, handle)\n",
      "\n",
      "# call the function\n",
      "url_list = set()  \n",
      "american_conservative_list = scrape('http://www.theamericanconservative.com/', 1, url_list, '')\n",
      "townhall_list = scrape('http://www.townhall.com/', 1, url_list, 'http://www.townhall.com')\n",
      "csmonitor_list = scrape('http://www.csmonitor.com/', 1, url_list, 'http://www.csmonitor.com/')\n",
      "weekly_std_list = scrape('http://www.weeklystandard.com/', 1, url_list, 'http://www.weeklystandard.com/')\n",
      "spectator_list = scrape('http://spectator.org/', 1, url_list, 'http://spectator.org/')\n",
      "\n",
      "mother_jones_list = scrape('http://www.motherjones.com/', 1, url_list, 'http://www.motherjones.com')\n",
      "nation_list = scrape('http://www.thenation.com/', 1, url_list, 'http://www.thenation.com/')\n",
      "slate_list = scrape('http://www.slate.com/', 1, url_list, '')\n",
      "newyorker_list = scrape('http://www.newyorker.com/', 1, url_list, '')\n",
      "wp_list = scrape('http://www.washingtonpost.com/', 1, url_list, '')\n",
      "\n",
      "print '\\nurls\\n'\n",
      "\n",
      "# conservative 1\n",
      "for url in american_conservative_list: \n",
      "    process_url(url, '', 'http://www.theamericanconservative.com/', 'theamericanconservative', '<div class=\"post-content\">', '<footer id=\"articlefooter\">', 'The American Conservative', 'C')\n",
      "\n",
      "# conservative 2\n",
      "for url in townhall_list: \n",
      "    process_url(url, 'http://www.townhall.com', 'argument-not-used', '2014' , '<ul class=\"breadcrumb\">', '<hr class=\"article-divider\"', 'TownHall', 'C')\n",
      "\n",
      "# conservative 3\n",
      "for url in csmonitor_list:\n",
      "    process_url(url, 'http://www.csmonitor.com/', 'argument-not-used', '2014/', '<div id=\"story-body\"', '<span id=\"end-of-story\"', 'The Christian Science Monitor', 'C')\n",
      "\n",
      "# conservative 4\n",
      "for url in weekly_std_list: \n",
      "    process_url(url, 'http://www.weeklystandard.com/', 'argument-not-used', '/articles/', '  <div class=\"all_article\">', '<div class=\"article-footer\">', 'The Weekly Standard', 'C')\n",
      "\n",
      "# conservative 5\n",
      "for url in spectator_list:\n",
      "    process_url(url, 'http://spectator.org/', 'argument-not-used', '/articles/', 'target=\"_blank\" rel=\"nofollow\">', '</iframe></div><div class=\"field-item even\"><p class=\"label\">', 'The American Spectator', 'C')\n",
      "\n",
      "# liberal 1 \n",
      "for url in mother_jones_list:\n",
      "    process_url(url, 'http://www.motherjones.com', 'argument-not-used', '2014' , '<div id=\"node-header\" class=\"clear-block\">', '<div id=\"node-footer\" class=\"clear-block\">', 'Mother Jones', 'L')\n",
      "\n",
      "# liberal 2\n",
      "for url in nation_list:\n",
      "    process_url(url, 'http://www.thenation.com/', 'argument-not-used', '/article/', '<div class=\"field field-type-text field-field-image-caption\">', '</p></div><div class=\"views-field-value byline\">', 'The Nation', 'L')\n",
      "\n",
      "# liberal 3\n",
      "for url in slate_list:\n",
      "    process_url(url, '', 'http://www.slate.com/', '/2014/', '<div class=\"text text-1 parbase section\">', '<section class=\"about-the-author', 'Slate', 'L')\n",
      "\n",
      "# liberal 4 - slightly more complex \n",
      "for url in newyorker_list:\n",
      "    if url.find('//') == 0 or len(url) < 45:\n",
      "        print 'URL badly formatted'\n",
      "        # do nothing for this url\n",
      "    else:\n",
      "        process_url(url, '', 'http://www.newyorker.com/', 'news', '<div itemprop=\"articleBody\" class=\"articleBody\" id=\"articleBody\">', '<span class=\"dingbat\">', 'The New Yorker', 'L')\n",
      "        process_url(url, '', 'http://www.newyorker.com/', 'magazine/2014', '<div itemprop=\"articleBody\" class=\"articleBody\" id=\"articleBody\">', '<span class=\"dingbat\">', 'The New Yorker', 'L')\n",
      "\n",
      "# liberal 5\n",
      "for url in wp_list:\n",
      "    print url\n",
      "    process_url(url, '', 'http://www.washingtonpost.com/', '/2014/', '<div id=\"article-body\" class=\"article-body\">', '</article>', 'The Washington Post', 'L')"
     ],
     "language": "python",
     "metadata": {},
     "outputs": [
      {
       "output_type": "stream",
       "stream": "stdout",
       "text": [
        "\n",
        "urls\n",
        "\n",
        "What Not to Do on Iran | The American Conservative\n"
       ]
      },
      {
       "output_type": "stream",
       "stream": "stdout",
       "text": [
        "\n",
        "\n",
        " ALREADY IN SET \n",
        "\n",
        "The Ontology of Sound | The American Conservative\n"
       ]
      },
      {
       "output_type": "stream",
       "stream": "stdout",
       "text": [
        "\n",
        "\n",
        " ALREADY IN SET \n",
        "\n",
        "Seven Reasons Police Brutality Is Systemic, Not Anecdotal | The American Conservative\n"
       ]
      },
      {
       "output_type": "stream",
       "stream": "stdout",
       "text": [
        "\n",
        "\n",
        " ALREADY IN SET \n",
        "\n",
        "UVA\u2019s Jackie: A Wahoo Tawana Brawley? | The American Conservative\n"
       ]
      },
      {
       "output_type": "stream",
       "stream": "stdout",
       "text": [
        "\n",
        "\n",
        " ALREADY IN SET \n",
        "\n",
        "Is Clickbait the End of Online News? | The American Conservative\n"
       ]
      },
      {
       "output_type": "stream",
       "stream": "stdout",
       "text": [
        "\n",
        "\n",
        " ALREADY IN SET \n",
        "\n",
        "Content not text, or article not relevant."
       ]
      },
      {
       "output_type": "stream",
       "stream": "stdout",
       "text": [
        "\n",
        "Content not text, or article not relevant."
       ]
      },
      {
       "output_type": "stream",
       "stream": "stdout",
       "text": [
        "\n",
        "Content not text, or article not relevant."
       ]
      },
      {
       "output_type": "stream",
       "stream": "stdout",
       "text": [
        "\n",
        "Double Feature Feature: 10,000 Hours Edition | The American Conservative\n"
       ]
      },
      {
       "output_type": "stream",
       "stream": "stdout",
       "text": [
        "\n",
        "\n",
        " ALREADY IN SET \n",
        "\n",
        "About Us | The American Conservative\n"
       ]
      },
      {
       "output_type": "stream",
       "stream": "stdout",
       "text": [
        "\n",
        "\n",
        " ALREADY IN SET \n",
        "\n",
        "Grand Strategy Is Bunk | The American Conservative\n"
       ]
      },
      {
       "output_type": "stream",
       "stream": "stdout",
       "text": [
        "\n",
        "\n",
        " ALREADY IN SET \n",
        "\n",
        "A Fraternity of Rape | The American Conservative\n"
       ]
      },
      {
       "output_type": "stream",
       "stream": "stdout",
       "text": [
        "\n",
        "\n",
        " ALREADY IN SET \n",
        "\n",
        "Content not text, or article not relevant."
       ]
      },
      {
       "output_type": "stream",
       "stream": "stdout",
       "text": [
        "\n",
        "Jeb Bush and Our Bankrupt Cuba Policy | The American Conservative\n"
       ]
      },
      {
       "output_type": "stream",
       "stream": "stdout",
       "text": [
        "\n",
        "\n",
        " ALREADY IN SET \n",
        "\n",
        "Content not text, or article not relevant."
       ]
      },
      {
       "output_type": "stream",
       "stream": "stdout",
       "text": [
        "\n",
        "Standing at The Gates of Hell | The American Conservative\n"
       ]
      },
      {
       "output_type": "stream",
       "stream": "stdout",
       "text": [
        "\n",
        "\n",
        " ALREADY IN SET \n",
        "\n",
        "Content not text, or article not relevant."
       ]
      },
      {
       "output_type": "stream",
       "stream": "stdout",
       "text": [
        "\n",
        "Content not text, or article not relevant."
       ]
      },
      {
       "output_type": "stream",
       "stream": "stdout",
       "text": [
        "\n",
        "A Bleak Foreign Policy November | The American Conservative\n"
       ]
      },
      {
       "output_type": "stream",
       "stream": "stdout",
       "text": [
        "\n",
        "\n",
        " ALREADY IN SET \n",
        "\n",
        "Israel\u2019s Early Elections | The American Conservative\n"
       ]
      },
      {
       "output_type": "stream",
       "stream": "stdout",
       "text": [
        "\n",
        "\n",
        " ALREADY IN SET \n",
        "\n",
        "Content not text, or article not relevant."
       ]
      },
      {
       "output_type": "stream",
       "stream": "stdout",
       "text": [
        "\n",
        "The Tao of the Traditional Family | The American Conservative\n"
       ]
      },
      {
       "output_type": "stream",
       "stream": "stdout",
       "text": [
        "\n",
        "\n",
        " ALREADY IN SET \n",
        "\n",
        "The Moral Path to Peace | The American Conservative\n"
       ]
      },
      {
       "output_type": "stream",
       "stream": "stdout",
       "text": [
        "\n",
        "\n",
        " ALREADY IN SET \n",
        "\n",
        "Jesus, the Common Bond | The American Conservative\n"
       ]
      },
      {
       "output_type": "stream",
       "stream": "stdout",
       "text": [
        "\n",
        "\n",
        " ALREADY IN SET \n",
        "\n",
        "Galloping Toward Gomorrah | The American Conservative\n"
       ]
      },
      {
       "output_type": "stream",
       "stream": "stdout",
       "text": [
        "\n",
        "\n",
        " ALREADY IN SET \n",
        "\n",
        "Bringing Big Data to the Farm | The American Conservative\n"
       ]
      },
      {
       "output_type": "stream",
       "stream": "stdout",
       "text": [
        "\n",
        "The Uses and Abuses of Historical Analogies | The American Conservative\n"
       ]
      },
      {
       "output_type": "stream",
       "stream": "stdout",
       "text": [
        "\n",
        "Five Myths That Keep America in the Middle East | The American Conservative\n"
       ]
      },
      {
       "output_type": "stream",
       "stream": "stdout",
       "text": [
        "\n",
        "Content not text, or article not relevant."
       ]
      },
      {
       "output_type": "stream",
       "stream": "stdout",
       "text": [
        "\n",
        "Canada\u2019s Patriot Act Moment | The American Conservative\n"
       ]
      },
      {
       "output_type": "stream",
       "stream": "stdout",
       "text": [
        "\n",
        "Federalism Can Still Save Religious Liberty | The American Conservative\n"
       ]
      },
      {
       "output_type": "stream",
       "stream": "stdout",
       "text": [
        "\n",
        "Content not text, or article not relevant."
       ]
      },
      {
       "output_type": "stream",
       "stream": "stdout",
       "text": [
        "\n",
        "Content not text, or article not relevant."
       ]
      },
      {
       "output_type": "stream",
       "stream": "stdout",
       "text": [
        "\n",
        "Why Jim Webb Matters | The American Conservative\n"
       ]
      },
      {
       "output_type": "stream",
       "stream": "stdout",
       "text": [
        "\n",
        "The High Cost of Empire Maintenance | The American Conservative\n"
       ]
      },
      {
       "output_type": "stream",
       "stream": "stdout",
       "text": [
        "\n",
        "Declaring War on ISIS | The American Conservative\n"
       ]
      },
      {
       "output_type": "stream",
       "stream": "stdout",
       "text": [
        "\n",
        "Ferguson Is Not Palestine | The American Conservative\n"
       ]
      },
      {
       "output_type": "stream",
       "stream": "stdout",
       "text": [
        "\n",
        "Deconstructing Western Civilization | The American Conservative\n"
       ]
      },
      {
       "output_type": "stream",
       "stream": "stdout",
       "text": [
        "\n",
        "Riots Return to America | The American Conservative\n"
       ]
      },
      {
       "output_type": "stream",
       "stream": "stdout",
       "text": [
        "\n",
        "Chris Rocks, Chris Rolls | The American Conservative\n"
       ]
      },
      {
       "output_type": "stream",
       "stream": "stdout",
       "text": [
        "\n",
        "Ukraine and NATO | The American Conservative\n"
       ]
      },
      {
       "output_type": "stream",
       "stream": "stdout",
       "text": [
        "\n",
        "A Chuck Hagel Postmortem | The American Conservative\n"
       ]
      },
      {
       "output_type": "stream",
       "stream": "stdout",
       "text": [
        "\n",
        "Iran: We Need to Talk | The American Conservative\n"
       ]
      },
      {
       "output_type": "stream",
       "stream": "stdout",
       "text": [
        "\n",
        "COIN Is a Proven Failure | The American Conservative\n"
       ]
      },
      {
       "output_type": "stream",
       "stream": "stdout",
       "text": [
        "\n",
        "Considering Thankfulness | The American Conservative\n"
       ]
      },
      {
       "output_type": "stream",
       "stream": "stdout",
       "text": [
        "\n",
        "A Millman-Walt Dialogue On Foreign Policy | The American Conservative\n"
       ]
      },
      {
       "output_type": "stream",
       "stream": "stdout",
       "text": [
        "\n",
        "Thanksgiving Doorbusters Backfire on Big Retail | The American Conservative\n"
       ]
      },
      {
       "output_type": "stream",
       "stream": "stdout",
       "text": [
        "\n",
        "And Now, For Something Completely Different \u2013 Or Perhaps Not | The American Conservative\n"
       ]
      },
      {
       "output_type": "stream",
       "stream": "stdout",
       "text": [
        "\n",
        "Content not text, or article not relevant."
       ]
      },
      {
       "output_type": "stream",
       "stream": "stdout",
       "text": [
        "\n",
        "The American Conservative\n"
       ]
      },
      {
       "output_type": "stream",
       "stream": "stdout",
       "text": [
        "\n",
        "Ferguson Falls Apart | The American Conservative\n"
       ]
      },
      {
       "output_type": "stream",
       "stream": "stdout",
       "text": [
        "\n",
        "Content not text, or article not relevant."
       ]
      },
      {
       "output_type": "stream",
       "stream": "stdout",
       "text": [
        "\n",
        "Jeb Bush\u2019s Victory Plan | The American Conservative\n"
       ]
      },
      {
       "output_type": "stream",
       "stream": "stdout",
       "text": [
        "\n",
        "The Virtue of Ruling Out Bad Policy Options | The American Conservative\n"
       ]
      },
      {
       "output_type": "stream",
       "stream": "stdout",
       "text": [
        "\n",
        "Content not text, or article not relevant."
       ]
      },
      {
       "output_type": "stream",
       "stream": "stdout",
       "text": [
        "\n",
        "Sleater-Kinney Surface Envy: New song is a great reminder of their old days (AUDIO).\n"
       ]
      },
      {
       "output_type": "stream",
       "stream": "stdout",
       "text": [
        "\n",
        "NASA's Orion: Test launch of new space capsule.\n"
       ]
      },
      {
       "output_type": "stream",
       "stream": "stdout",
       "text": [
        "\n",
        "Content not text, or article not relevant."
       ]
      },
      {
       "output_type": "stream",
       "stream": "stdout",
       "text": [
        "\n",
        "Content not text, or article not relevant."
       ]
      },
      {
       "output_type": "stream",
       "stream": "stdout",
       "text": [
        "\n",
        "Running calculator: Introducing Slate\u2019s marathon time predictor, a better way to calculate how fast you\u2019ll run.\u2028",
        "\n"
       ]
      },
      {
       "output_type": "stream",
       "stream": "stdout",
       "text": [
        "\n",
        "Content not text, or article not relevant."
       ]
      },
      {
       "output_type": "stream",
       "stream": "stdout",
       "text": [
        "\n",
        "Ferguson grand jury investigation: A shadow trial violates the public\u2019s right to access.\n"
       ]
      },
      {
       "output_type": "stream",
       "stream": "stdout",
       "text": [
        "\n",
        "Robin Williams Blank on Blank: The late comedian discusses 2020 and his comedic philosophy (VIDEO). \n"
       ]
      },
      {
       "output_type": "stream",
       "stream": "stdout",
       "text": [
        "\n",
        "Facebook threat or free speech case: The Supreme Court Elonis oral arguments.\n"
       ]
      },
      {
       "output_type": "stream",
       "stream": "stdout",
       "text": [
        "\n",
        "Sylacauga meteorite: 60th anniversary of a human hit by a space rock.\n"
       ]
      },
      {
       "output_type": "stream",
       "stream": "stdout",
       "text": [
        "\n",
        "Switzerland's Ecopop referendum and the Sierra Club's flirtations with nativism: Why nobody buys the environmentalist case against immigration.\n"
       ]
      },
      {
       "output_type": "stream",
       "stream": "stdout",
       "text": [
        "\n",
        "James Watson selling Nobel Prize: DNA structure discoverer\u2019s history of racism and sexism.\n"
       ]
      },
      {
       "output_type": "stream",
       "stream": "stdout",
       "text": [
        "\n",
        "Adam Voorhes photographs a rare collection of brains in his book, Malformed: Forgotten Brains of the Texas State Mental Hospital, with Alex Hannaford.\n"
       ]
      },
      {
       "output_type": "stream",
       "stream": "stdout",
       "text": [
        "\n",
        "Bill Cosby lawsuit: Accuser says she was 15 when she met comedian.\n"
       ]
      },
      {
       "output_type": "stream",
       "stream": "stdout",
       "text": [
        "\n",
        "Victoria's Secret fashion show fetes Taylor Swift to sell to Swiftie fans.\n"
       ]
      },
      {
       "output_type": "stream",
       "stream": "stdout",
       "text": [
        "\n",
        "Dear Prudence: Is our sexy young nanny a temptation for my husband?\n"
       ]
      },
      {
       "output_type": "stream",
       "stream": "stdout",
       "text": [
        "\n",
        "Peter Bryne photographs professional wrestlers in England in the 1980s. \n"
       ]
      },
      {
       "output_type": "stream",
       "stream": "stdout",
       "text": [
        "\n",
        "Content not text, or article not relevant."
       ]
      },
      {
       "output_type": "stream",
       "stream": "stdout",
       "text": [
        "\n",
        "Football on Thanksgiving: How the Dallas Cowboys ruined Turkey Day.\n"
       ]
      },
      {
       "output_type": "stream",
       "stream": "stdout",
       "text": [
        "\n",
        "\"Why doesn't she leave?\": The Janay Rice interview contains some answers to the perennial domestic violence question.\n"
       ]
      },
      {
       "output_type": "stream",
       "stream": "stdout",
       "text": [
        "\n",
        "Women in tech and the sciences: How to make sure your daughter knows she can do anything.\n"
       ]
      },
      {
       "output_type": "stream",
       "stream": "stdout",
       "text": [
        "\n",
        "Chris Rock interview with Frank Rich in New York magazine has great insights about race in America.\n"
       ]
      },
      {
       "output_type": "stream",
       "stream": "stdout",
       "text": [
        "\n",
        "Project Loon: How Google\u2019s Internet balloons are actually working. \n"
       ]
      },
      {
       "output_type": "stream",
       "stream": "stdout",
       "text": [
        "\n",
        "Lunar Mission One Kickstarter campaign: Is it ethical to bury human hair on the moon?\n"
       ]
      },
      {
       "output_type": "stream",
       "stream": "stdout",
       "text": [
        "\n",
        "Online shopping holidays: E-commerce spending on Singles Day dwarfs Black Friday, Cyber Monday.\n"
       ]
      },
      {
       "output_type": "stream",
       "stream": "stdout",
       "text": [
        "\n",
        "Screenplay by MacDonald Harris, reviewed: 1982 novel explores fantasy of the movies.\n"
       ]
      },
      {
       "output_type": "stream",
       "stream": "stdout",
       "text": [
        "\n",
        "Best books 2014: Best lines from the year\u2019s novels, poetry, and comics.\n"
       ]
      },
      {
       "output_type": "stream",
       "stream": "stdout",
       "text": [
        "\n",
        "Are trolls ruining Slate\u2019s comment section?\n"
       ]
      },
      {
       "output_type": "stream",
       "stream": "stdout",
       "text": [
        "\n",
        "Content not text, or article not relevant."
       ]
      },
      {
       "output_type": "stream",
       "stream": "stdout",
       "text": [
        "\n",
        "Trompe CycloCable, the bike lift in Trondheim, Norway\n"
       ]
      },
      {
       "output_type": "stream",
       "stream": "stdout",
       "text": [
        "\n",
        "All I Want for Christmas in 20 styles: Ten Second Songs takes on the Mariah Carey hit (VIDEO).\n"
       ]
      },
      {
       "output_type": "stream",
       "stream": "stdout",
       "text": [
        "\n",
        "The Imitation Game fact vs. fiction: How true the new movie is to Alan Turing\u2019s real-life story.\n"
       ]
      },
      {
       "output_type": "stream",
       "stream": "stdout",
       "text": [
        "\n",
        "North and South Korea differ on Christmas tree decoration. \n"
       ]
      },
      {
       "output_type": "stream",
       "stream": "stdout",
       "text": [
        "\n",
        "Content not text, or article not relevant."
       ]
      },
      {
       "output_type": "stream",
       "stream": "stdout",
       "text": [
        "\n",
        "Why do readers get so emotionally involved in books?\n"
       ]
      },
      {
       "output_type": "stream",
       "stream": "stdout",
       "text": [
        "\n",
        "Content not text, or article not relevant."
       ]
      },
      {
       "output_type": "stream",
       "stream": "stdout",
       "text": [
        "\n",
        "Cockfighting and chicken history: The World Slasher Cup in the Philippines.\n"
       ]
      },
      {
       "output_type": "stream",
       "stream": "stdout",
       "text": [
        "\n",
        "Slate recommendations: Favorite media recommendations from staffers this Thanksgiving. \n"
       ]
      },
      {
       "output_type": "stream",
       "stream": "stdout",
       "text": [
        "\n",
        "History of women's employment: Letter from American Civil Service Commission to Britain\n"
       ]
      },
      {
       "output_type": "stream",
       "stream": "stdout",
       "text": [
        "\n",
        "The language of Darren Wilson's testimony: Close-reading the demons and supervillains. \n"
       ]
      },
      {
       "output_type": "stream",
       "stream": "stdout",
       "text": [
        "\n",
        "Stephanie Diani: Live Audience! Looks at the people who attend multiple television tapings (PHOTOS).\n"
       ]
      },
      {
       "output_type": "stream",
       "stream": "stdout",
       "text": [
        "\n",
        "Intel updated Stephen Hawking's speech system and is releasing it open source.\n"
       ]
      },
      {
       "output_type": "stream",
       "stream": "stdout",
       "text": [
        "\n",
        "Sam Hinkie: Is the Philadelphia 76ers\u2019 lose-on-purpose approach to team-building ingenious or morally bankrupt?\n"
       ]
      },
      {
       "output_type": "stream",
       "stream": "stdout",
       "text": [
        "\n",
        "PNC Christmas Price Index: What 12 days of Christmas presents would cost in 2014. \n"
       ]
      },
      {
       "output_type": "stream",
       "stream": "stdout",
       "text": [
        "\n",
        "Global warming: Antarctica is losing more than 6 billion tons of ice annually.\n"
       ]
      },
      {
       "output_type": "stream",
       "stream": "stdout",
       "text": [
        "\n",
        "Whole Foods Detroit: Can a grocery store really fight elitism, racism, and obesity?\n"
       ]
      },
      {
       "output_type": "stream",
       "stream": "stdout",
       "text": [
        "\n",
        "The ABLE Act: Congress wants Medicare to stop paying for penis pumps.\n"
       ]
      },
      {
       "output_type": "stream",
       "stream": "stdout",
       "text": [
        "\n",
        "Dear Prudence: My nudist wife wants our children to be nudists too.\n"
       ]
      },
      {
       "output_type": "stream",
       "stream": "stdout",
       "text": [
        "\n",
        "What it was like to teach essay writing to North Korean college students: They all chose topics criticizing America. \n"
       ]
      },
      {
       "output_type": "stream",
       "stream": "stdout",
       "text": [
        "\n",
        "Content not text, or article not relevant."
       ]
      },
      {
       "output_type": "stream",
       "stream": "stdout",
       "text": [
        "\n",
        "Content not text, or article not relevant."
       ]
      },
      {
       "output_type": "stream",
       "stream": "stdout",
       "text": [
        "\n",
        "How should Slate improve its comments section? A members-only open thread.\n"
       ]
      },
      {
       "output_type": "stream",
       "stream": "stdout",
       "text": [
        "\n",
        "Yoan Moncada: Is It Now Legal for Cuban Ballplayers to Leave Their Country and Join the Major Leagues? \n"
       ]
      },
      {
       "output_type": "stream",
       "stream": "stdout",
       "text": [
        "\n",
        "Uber\u2019s travel database would be valuable to hackers, but the company flaunts it.\n"
       ]
      },
      {
       "output_type": "stream",
       "stream": "stdout",
       "text": [
        "\n",
        "LeBron James, Cleveland: How LeBron and the city found their way back to each other.\n"
       ]
      },
      {
       "output_type": "stream",
       "stream": "stdout",
       "text": [
        "\n",
        "The British government is censoring porn, scared of female sexuality.\n"
       ]
      },
      {
       "output_type": "stream",
       "stream": "stdout",
       "text": [
        "\n",
        "Dave Brandon: The resignation of Michigan\u2019s villainous athletic director is why we like college sports.\n"
       ]
      },
      {
       "output_type": "stream",
       "stream": "stdout",
       "text": [
        "\n",
        "European Union publishes right to be forgotten guidelines.\n"
       ]
      },
      {
       "output_type": "stream",
       "stream": "stdout",
       "text": [
        "\n",
        "Patrick Morarescu photographs performance artists.\n"
       ]
      },
      {
       "output_type": "stream",
       "stream": "stdout",
       "text": [
        "\n",
        "Slate music: November Spotify playlist for Slate Plus members.\n"
       ]
      },
      {
       "output_type": "stream",
       "stream": "stdout",
       "text": [
        "\n",
        "Girlfriends\u2019 Guide to Divorce on Bravo: Lisa Edelstein\u2019s new show, reviewed.\n"
       ]
      },
      {
       "output_type": "stream",
       "stream": "stdout",
       "text": [
        "\n",
        "Best drone gifts: DJI Phantom, Parrot AR, Rolling Spider reviewed.\n"
       ]
      },
      {
       "output_type": "stream",
       "stream": "stdout",
       "text": [
        "\n",
        "Renee C. Byer: Living On A Dollar A Day is an examination of worldwide extreme hunger and poverty (PHOTOS).\n"
       ]
      },
      {
       "output_type": "stream",
       "stream": "stdout",
       "text": [
        "\n",
        "Facebook\u2019s Julie Zhuo on invisible design in Make Your Mark: A business book for makers.\n"
       ]
      },
      {
       "output_type": "stream",
       "stream": "stdout",
       "text": [
        "\n",
        "Content not text, or article not relevant."
       ]
      },
      {
       "output_type": "stream",
       "stream": "stdout",
       "text": [
        "\n",
        "Content not text, or article not relevant."
       ]
      },
      {
       "output_type": "stream",
       "stream": "stdout",
       "text": [
        "\n",
        "Content not text, or article not relevant."
       ]
      },
      {
       "output_type": "stream",
       "stream": "stdout",
       "text": [
        "\n",
        "U.N. Torture Committee Blasts U.S. Over Police Shootings and Gitmo\n"
       ]
      },
      {
       "output_type": "stream",
       "stream": "stdout",
       "text": [
        "\n",
        "Telescopes: How do I buy a telescope?\n"
       ]
      },
      {
       "output_type": "stream",
       "stream": "stdout",
       "text": [
        "\n",
        "Stephen Colbert: Making a mockery of mockery.\n"
       ]
      },
      {
       "output_type": "stream",
       "stream": "stdout",
       "text": [
        "\n",
        "Children, iPhones, photography, and dad jokes: Advice for modern men.\n"
       ]
      },
      {
       "output_type": "stream",
       "stream": "stdout",
       "text": [
        "\n",
        "Content not text, or article not relevant."
       ]
      },
      {
       "output_type": "stream",
       "stream": "stdout",
       "text": [
        "\n",
        "OECD: For the first time in a decade, the U.S. is beating Europe as a destination for immigrants. \n"
       ]
      },
      {
       "output_type": "stream",
       "stream": "stdout",
       "text": [
        "\n",
        "New York taxi medallions: Did TLC transaction data inflate the price of driving a cab?\n"
       ]
      },
      {
       "output_type": "stream",
       "stream": "stdout",
       "text": [
        "\n",
        "Young v. UPS: The Supreme Court takes up pregnant workers\u2019 rights.\n"
       ]
      },
      {
       "output_type": "stream",
       "stream": "stdout",
       "text": [
        "\n",
        "Kim Kardashian didn\u2019t break the Internet: How to cause a scandal in an overly transgressive age.\n"
       ]
      },
      {
       "output_type": "stream",
       "stream": "stdout",
       "text": [
        "\n",
        "Molly Shannon on Saturday Night Live: Former SNL writer pays tribute to actor behind Joyologist, Mary Katherine Gallagher, and more.\n"
       ]
      },
      {
       "output_type": "stream",
       "stream": "stdout",
       "text": [
        "\n",
        "Australian horror movie The Babadook, reviewed.\n"
       ]
      },
      {
       "output_type": "stream",
       "stream": "stdout",
       "text": [
        "\n",
        "The new seven wonders: Defining the top technological marvels of the contemporary age.\n"
       ]
      },
      {
       "output_type": "stream",
       "stream": "stdout",
       "text": [
        "\n",
        "Stop bullying old professors into retirement: It won\u2019t fix higher ed.\n"
       ]
      },
      {
       "output_type": "stream",
       "stream": "stdout",
       "text": [
        "\n",
        "Katrina Arnold photographs New Orleans Ladies Arm Wrestling tournaments.  \n"
       ]
      },
      {
       "output_type": "stream",
       "stream": "stdout",
       "text": [
        "\n",
        "Turkey for Thanksgiving: Worth fighting for. \n"
       ]
      },
      {
       "output_type": "stream",
       "stream": "stdout",
       "text": [
        "\n",
        "Black community is concerned with black-on-black crime: Suggesting otherwise is ignoring the facts.\n"
       ]
      },
      {
       "output_type": "stream",
       "stream": "stdout",
       "text": [
        "\n",
        "Content not text, or article not relevant."
       ]
      },
      {
       "output_type": "stream",
       "stream": "stdout",
       "text": [
        "\n",
        "Clerks have no religious right to deny gay couples marriage licenses.\n"
       ]
      },
      {
       "output_type": "stream",
       "stream": "stdout",
       "text": [
        "\n",
        "Dr. Ben Carson blames feminism and the 60s for police shootings of unarmed black men.\n"
       ]
      },
      {
       "output_type": "stream",
       "stream": "stdout",
       "text": [
        "\n",
        "Content not text, or article not relevant."
       ]
      },
      {
       "output_type": "stream",
       "stream": "stdout",
       "text": [
        "\n",
        "Australian mother writes newspaper birth announcement for transgender son.\n"
       ]
      },
      {
       "output_type": "stream",
       "stream": "stdout",
       "text": [
        "\n",
        "Chinese government works with gay hookup app Blued to fight HIV.\n"
       ]
      },
      {
       "output_type": "stream",
       "stream": "stdout",
       "text": [
        "\n",
        "Content not text, or article not relevant."
       ]
      },
      {
       "output_type": "stream",
       "stream": "stdout",
       "text": [
        "\n",
        "Sarah Thornton interview with Lena Dunham on her parents, growing up in the New York art world, acting and directing.\n"
       ]
      },
      {
       "output_type": "stream",
       "stream": "stdout",
       "text": [
        "\n",
        "Content not text, or article not relevant."
       ]
      },
      {
       "output_type": "stream",
       "stream": "stdout",
       "text": [
        "\n",
        "Derrick Rose, injuries: NBA stars aren't superheroes. They break just like the rest of us puny humans.\n"
       ]
      },
      {
       "output_type": "stream",
       "stream": "stdout",
       "text": [
        "\n",
        "Chuck Hagel resigns as secretary of defense: The former senator wasn\u2019t as useful as President Obama hoped. \n"
       ]
      },
      {
       "output_type": "stream",
       "stream": "stdout",
       "text": [
        "\n",
        "Darren Wilson \u201cno true bill\u201d: Why cops are almost never indicted for shooting someone in the line of duty.\n"
       ]
      },
      {
       "output_type": "stream",
       "stream": "stdout",
       "text": [
        "\n",
        "Sharing a copyright notice doesn't exempt users from Facebook's Data Use Policy.\n"
       ]
      },
      {
       "output_type": "stream",
       "stream": "stdout",
       "text": [
        "\n",
        "Microsoft kills Clip Art, replaces with Bing image search integration.\n"
       ]
      },
      {
       "output_type": "stream",
       "stream": "stdout",
       "text": [
        "\n",
        "Underrated books: Overlooked fiction, nonfiction, and comics of 2014.\n"
       ]
      },
      {
       "output_type": "stream",
       "stream": "stdout",
       "text": [
        "\n",
        "What\u2019s the likelihood of evading a manhunt?\n"
       ]
      },
      {
       "output_type": "stream",
       "stream": "stdout",
       "text": [
        "\n",
        "Pizza Hut subconscious menu: Don't think. Just order, with eye-tracking software from Tobii Technology.\n"
       ]
      },
      {
       "output_type": "stream",
       "stream": "stdout",
       "text": [
        "\n",
        "What does a flight paramedic do? A transcript of Episode 11 of Slate\u2019s Working Podcast.\n"
       ]
      },
      {
       "output_type": "stream",
       "stream": "stdout",
       "text": [
        "\n",
        "The last time the Arctic was ice-free in summer, modern humans didn't exist.\n"
       ]
      },
      {
       "output_type": "stream",
       "stream": "stdout",
       "text": [
        "\n",
        "Internet trolls pose a threat: Internet commentators shouldn\u2019t be anonymous.\n"
       ]
      },
      {
       "output_type": "stream",
       "stream": "stdout",
       "text": [
        "\n",
        "Hayabusa 2: Launch scheduled for today.\n"
       ]
      },
      {
       "output_type": "stream",
       "stream": "stdout",
       "text": [
        "\n",
        "Darren Wilson\u2019s racial portrayal of Michael Brown as a superhuman demon: The Ferguson police officer\u2019s account is a common projection of racial fears. \n"
       ]
      },
      {
       "output_type": "stream",
       "stream": "stdout",
       "text": [
        "\n",
        "Content not text, or article not relevant."
       ]
      },
      {
       "output_type": "stream",
       "stream": "stdout",
       "text": [
        "\n",
        "Israel\u2019s demolition of Palestinian homes: Benjamin Netanyahu\u2019s government teaches its citizens the wrong lessons.\n"
       ]
      },
      {
       "output_type": "stream",
       "stream": "stdout",
       "text": [
        "\n",
        "Why female Jacana birds do all the fighting while the males stay home and watch the kids. \n"
       ]
      },
      {
       "output_type": "stream",
       "stream": "stdout",
       "text": [
        "\n",
        "Content not text, or article not relevant."
       ]
      },
      {
       "output_type": "stream",
       "stream": "stdout",
       "text": [
        "\n",
        "Content not text, or article not relevant."
       ]
      },
      {
       "output_type": "stream",
       "stream": "stdout",
       "text": [
        "\n",
        "Daniel Alarcon\u2019s At Night We Walk in Circles on the Slate Whiting Second Novel List.\n"
       ]
      },
      {
       "output_type": "stream",
       "stream": "stdout",
       "text": [
        "\n",
        "Thanksgiving shopping: Opening retail stores on Thursday is terrible for workers, especially women. \n"
       ]
      },
      {
       "output_type": "stream",
       "stream": "stdout",
       "text": [
        "\n",
        "Edie Bresler: We Sold a Winner looks at the stores that sold winning lottery tickets around the country (PHOTOS).\n"
       ]
      },
      {
       "output_type": "stream",
       "stream": "stdout",
       "text": [
        "\n",
        "Tension between Germany and other eurozone countries over stimulus is hurting the economy.\n"
       ]
      },
      {
       "output_type": "stream",
       "stream": "stdout",
       "text": [
        "\n",
        "A Thanksgiving guide to talking to your relatives about Bill Cosby, affirmative consent, and feminism. \n"
       ]
      },
      {
       "output_type": "stream",
       "stream": "stdout",
       "text": [
        "\n",
        "Dear Prudence: My dying mother\u2019s letters are holding me emotionally hostage.\n"
       ]
      },
      {
       "output_type": "stream",
       "stream": "stdout",
       "text": [
        "\n",
        "A likely Republican presidential hopeful should address Ferguson: The GOP\u2019s 2016 candidates have an opportunity to show if they can unite Americans.\n"
       ]
      },
      {
       "output_type": "stream",
       "stream": "stdout",
       "text": [
        "\n",
        "Sian Davey: Looking for Alice is a series about a photographer\u2019s relationship with her daughter who has Down syndrome (PHOTOS).\n"
       ]
      },
      {
       "output_type": "stream",
       "stream": "stdout",
       "text": [
        "\n",
        "Content not text, or article not relevant."
       ]
      },
      {
       "output_type": "stream",
       "stream": "stdout",
       "text": [
        "\n",
        "Boycott Cyber Monday with this Gmail search trick.\n"
       ]
      },
      {
       "output_type": "stream",
       "stream": "stdout",
       "text": [
        "\n",
        "Content not text, or article not relevant."
       ]
      },
      {
       "output_type": "stream",
       "stream": "stdout",
       "text": [
        "\n",
        "Iraq, al-Baghdadi wife: Lebanon arrested someone else, ministry claims.\n"
       ]
      },
      {
       "output_type": "stream",
       "stream": "stdout",
       "text": [
        "\n",
        "Content not text, or article not relevant."
       ]
      },
      {
       "output_type": "stream",
       "stream": "stdout",
       "text": [
        "\n",
        "2014 World Series, Game 7: Should Alex Gordon have tried to dash home with the tying run?\n"
       ]
      },
      {
       "output_type": "stream",
       "stream": "stdout",
       "text": [
        "\n",
        "Roman Mars 99% Invisible: The origin story of the inflatable man.\n"
       ]
      },
      {
       "output_type": "stream",
       "stream": "stdout",
       "text": [
        "\n",
        "SpaceX is hiring a farmer in Texas.\n"
       ]
      },
      {
       "output_type": "stream",
       "stream": "stdout",
       "text": [
        "\n",
        "Suicide Squad Cast: Will Smith and Jared Leto lead an all star superhero team. \n"
       ]
      },
      {
       "output_type": "stream",
       "stream": "stdout",
       "text": [
        "\n",
        "Content not text, or article not relevant."
       ]
      },
      {
       "output_type": "stream",
       "stream": "stdout",
       "text": [
        "\n",
        "Law school applications collapse: Get ready for schools to start closing.\n"
       ]
      },
      {
       "output_type": "stream",
       "stream": "stdout",
       "text": [
        "\n",
        "Dear Prudence: I was fat-shamed by my cousin at Thanksgiving.\n"
       ]
      },
      {
       "output_type": "stream",
       "stream": "stdout",
       "text": [
        "\n",
        "Chris Hemsworth is the Sexiest Man Alive 2014: A look back at People\u2019s most enduring brand. \n"
       ]
      },
      {
       "output_type": "stream",
       "stream": "stdout",
       "text": [
        "\n",
        "We don't need to ban frats to reduce rape rates, but it might help to integrate women into them.\n"
       ]
      },
      {
       "output_type": "stream",
       "stream": "stdout",
       "text": [
        "\n",
        "President Obama says voters want \u201cthat new car smell\u201d: Can he take criticism from Hillary Clinton and other Democrats in the 2016 presidential race?\n"
       ]
      },
      {
       "output_type": "stream",
       "stream": "stdout",
       "text": [
        "\n",
        "Cory Doctorow\u2019s comic In Real Life, drawn by Jen Wang, reviewed.\n"
       ]
      },
      {
       "output_type": "stream",
       "stream": "stdout",
       "text": [
        "\n",
        "Sabrina Rubin Erdely, UVA: Why didn\u2019t a Rolling Stone writer talk to the alleged perpetrators of a gang rape?\n"
       ]
      },
      {
       "output_type": "stream",
       "stream": "stdout",
       "text": [
        "\n",
        "College admissions: Do 80 percent of top students get into an elite college?\n"
       ]
      },
      {
       "output_type": "stream",
       "stream": "stdout",
       "text": [
        "\n",
        "URL badly formatted\n",
        "URL badly formatted\n",
        "URL badly formatted\n",
        "URL badly formatted\n",
        "URL badly formatted\n",
        "URL badly formatted\n",
        "URL badly formatted\n",
        "URL badly formatted\n",
        "URL badly formatted\n",
        "URL badly formatted\n",
        "URL badly formatted\n",
        "Thank God for Female Bishops\n"
       ]
      },
      {
       "output_type": "stream",
       "stream": "stdout",
       "text": [
        "\n",
        "URL badly formatted"
       ]
      },
      {
       "output_type": "stream",
       "stream": "stdout",
       "text": [
        "\n",
        "URL badly formatted\n",
        "URL badly formatted\n",
        "URL badly formatted\n",
        "URL badly formatted\n",
        "URL badly formatted\n",
        "URL badly formatted\n",
        "URL badly formatted\n",
        "URL badly formatted\n",
        "URL badly formatted\n",
        "URL badly formatted\n",
        "Murder and a Moment for Change in Mexico\n"
       ]
      },
      {
       "output_type": "stream",
       "stream": "stdout",
       "text": [
        "\n",
        "URL badly formatted"
       ]
      },
      {
       "output_type": "stream",
       "stream": "stdout",
       "text": [
        "\n",
        "OPEC\u2019s War on Fracking Is Good News for the Rest of Us - The New Yorker\n"
       ]
      },
      {
       "output_type": "stream",
       "stream": "stdout",
       "text": [
        "\n",
        "URL badly formatted"
       ]
      },
      {
       "output_type": "stream",
       "stream": "stdout",
       "text": [
        "\n",
        "Waiting for the Eric Garner Grand Jury\n"
       ]
      },
      {
       "output_type": "stream",
       "stream": "stdout",
       "text": [
        "\n",
        "ISIS at the Border\n"
       ]
      },
      {
       "output_type": "stream",
       "stream": "stdout",
       "text": [
        "\n",
        "URL badly formatted\n",
        "\u201cThe Player,\u201d at MOMA\n"
       ]
      },
      {
       "output_type": "stream",
       "stream": "stdout",
       "text": [
        "\n",
        "URL badly formatted\n",
        "URL badly formatted\n",
        "URL badly formatted\n",
        "URL badly formatted\n",
        "URL badly formatted\n",
        "URL badly formatted\n",
        "URL badly formatted\n",
        "URL badly formatted\n",
        "URL badly formatted\n",
        "URL badly formatted\n",
        "Yesterday\u2019s News - The New Yorker\n"
       ]
      },
      {
       "output_type": "stream",
       "stream": "stdout",
       "text": [
        "\n",
        "URL badly formatted"
       ]
      },
      {
       "output_type": "stream",
       "stream": "stdout",
       "text": [
        "\n",
        "URL badly formatted\n",
        "URL badly formatted\n",
        "Hans Ulrich Obrist, the Curator Who Never Sleeps\n"
       ]
      },
      {
       "output_type": "stream",
       "stream": "stdout",
       "text": [
        "\n",
        "URL badly formatted\n",
        "URL badly formatted\n",
        "Turkeygate: In Defense of Sasha and Malia - The New Yorker\n"
       ]
      },
      {
       "output_type": "stream",
       "stream": "stdout",
       "text": [
        "\n",
        "URL badly formatted"
       ]
      },
      {
       "output_type": "stream",
       "stream": "stdout",
       "text": [
        "\n",
        "URL badly formatted\n",
        "URL badly formatted\n",
        "URL badly formatted\n",
        "URL badly formatted\n",
        "The Carnival Logic of \u201cAmerican Horror Story: Freak Show\u201d\n"
       ]
      },
      {
       "output_type": "stream",
       "stream": "stdout",
       "text": [
        "\n",
        "URL badly formatted\n",
        "URL badly formatted\n",
        "URL badly formatted\n",
        "Trapped in Ferguson\n"
       ]
      },
      {
       "output_type": "stream",
       "stream": "stdout",
       "text": [
        "\n",
        "A Party for Whisper\n"
       ]
      },
      {
       "output_type": "stream",
       "stream": "stdout",
       "text": [
        "\n",
        "URL badly formatted\n",
        "Waiting for the Eric Garner Grand Jury\n"
       ]
      },
      {
       "output_type": "stream",
       "stream": "stdout",
       "text": [
        "\n",
        "\n",
        " ALREADY IN SET \n"
       ]
      },
      {
       "output_type": "stream",
       "stream": "stdout",
       "text": [
        "\n",
        "URL badly formatted\n",
        "URL badly formatted\n",
        "The View from a Bridge\n"
       ]
      },
      {
       "output_type": "stream",
       "stream": "stdout",
       "text": [
        "\n",
        "URL badly formatted\n",
        "URL badly formatted\n",
        "URL badly formatted\n",
        "The Ride of Their Lives\n"
       ]
      },
      {
       "output_type": "stream",
       "stream": "stdout",
       "text": [
        "\n",
        "URL badly formatted\n",
        "URL badly formatted\n",
        "URL badly formatted\n",
        "URL badly formatted\n",
        "An Alaskan Poet\u2019s Lyrics of Sex and Power\n"
       ]
      },
      {
       "output_type": "stream",
       "stream": "stdout",
       "text": [
        "\n",
        "URL badly formatted\n",
        "URL badly formatted\n",
        "URL badly formatted\n",
        "URL badly formatted\n",
        "Tables for Two: Turntable Retro Bar & Restaurant Mad for Chicken\n"
       ]
      },
      {
       "output_type": "stream",
       "stream": "stdout",
       "text": [
        "\n",
        "URL badly formatted\n",
        "URL badly formatted\n",
        "The Wu-Tang Clan\u2019s \u201cA Better Tomorrow\u201d\n"
       ]
      },
      {
       "output_type": "stream",
       "stream": "stdout",
       "text": [
        "\n",
        "http://www.washingtonpost.com/opinions/dana-milbank-the-gops-symbolic-fight-against-immigration-action/2014/12/02/a0a5d816-7a5b-11e4-9a27-6fdbc612bff8_story.html\n",
        "Obama has already won the immigration fight - The Washington Post\n"
       ]
      },
      {
       "output_type": "stream",
       "stream": "stdout",
       "text": [
        "\n",
        "http://www.washingtonpost.com/news/post-nation/wp/2014/12/03/a-grand-jury-vote-in-new-york-police-involved-chokehold-case-could-come-soon/\n",
        "A grand jury vote in New York police-involved chokehold case could come soon - The Washington Post\n"
       ]
      },
      {
       "output_type": "stream",
       "stream": "stdout",
       "text": [
        "\n",
        "/lifestyle/style/carolyn-hax-his-e-mail-ended-things-but-shes-not-quite-done/2014/12/02/ebe80684-71a3-11e4-ad12-3734c461eab6_story.html?tid=hpModule_1f58c93a-8a7a-11e2-98d9-3012c1cd8d1e\n",
        "http://www.washingtonpost.com/lifestyle/on-parenting\n",
        "/national\n",
        "http://www.washingtonpost.com/abby-phillip/2014/04/04/63139c2e-bc04-11e3-96ae-f2c36d2b1245_page.html\n",
        "Abby Phillip - The Washington Post\n"
       ]
      },
      {
       "output_type": "stream",
       "stream": "stdout",
       "text": [
        "\n",
        "http://www.washingtonpost.com/news/volokh-conspiracy/wp/2014/12/03/how-seventh-circuit-motions-panels-work/\n",
        "How Seventh Circuit motions panels work - The Washington Post\n"
       ]
      },
      {
       "output_type": "stream",
       "stream": "stdout",
       "text": [
        "\n",
        "http://www.washingtonpost.com/wp-srv/interactivity/corrections/\n",
        "/world/middle_east/nato-slams-russia-over-ukraine/2014/12/02/4ae1c7d2-7731-11e4-8893-97bf0c02cc5f_story.html?tid=hpModule_04941f10-8a79-11e2-98d9-3012c1cd8d1e\n",
        "http://www.washingtonpost.com/entertainment/museums\n",
        "http://www.washingtonpost.com/terms-of-service/2011/11/18/gIQAldiYiN_sto\r\n",
        "ry.html\n",
        "http://www.washingtonpost.com/capital_business?tid=hpModule_a2e19bf4-86a3-11e2-9d71-f0feafdd1394\n",
        "/sports\n",
        "http://www.washingtonpost.com/national/\n",
        "http://www.washingtonpost.com/opinions/david-ignatius-paranoia-could-be-the-best-weapon-against-the-islamic-state/2014/12/02/771de21e-7a5f-11e4-9a27-6fdbc612bff8_story.html\n",
        "Paranoia could be the best weapon against the Islamic State - The Washington Post\n"
       ]
      },
      {
       "output_type": "stream",
       "stream": "stdout",
       "text": [
        "\n",
        "http://www.washingtonpost.com/news/storyline\n",
        "http://www.washingtonpost.com/blogs/the-fix/wp/2014/12/03/why-was-elizabeth-lauten-such-big-news/\n",
        "Why was Elizabeth Lauten such big news? - The Washington Post\n"
       ]
      },
      {
       "output_type": "stream",
       "stream": "stdout",
       "text": [
        "\n",
        "http://www.washingtonpost.com/weather\n",
        "http://www.washingtonpost.com/lifestyle/blogs-columns\n",
        "http://www.washingtonpost.com/blogs/govbeat/wp/2014/12/03/pre-k-funding-gets-republican-backing-in-north-dakota/\n",
        "Pre-K funding gets Republican backing in North Dakota - The Washington Post\n"
       ]
      },
      {
       "output_type": "stream",
       "stream": "stdout",
       "text": [
        "\n",
        "http://www.washingtonpost.com/opinions/toles\n",
        "http://www.washingtonpost.com/posttv/entertainment/lily-tomlins-comedic-career-i-kennedy-center-honors/2014/12/02/0d95cdc2-7a76-11e4-8241-8cc0a3670239_video.html?tid=hp_mm\n",
        "Content not text, or article not relevant."
       ]
      },
      {
       "output_type": "stream",
       "stream": "stdout",
       "text": [
        "\n",
        "http://www.washingtonpost.com/blogs/the-switch/wp/2014/12/02/the-ftc-just-scored-a-victory-in-its-suit-against-amazon/\n",
        "The FTC just scored a victory in its suit against Amazon - The Washington Post\n"
       ]
      },
      {
       "output_type": "stream",
       "stream": "stdout",
       "text": [
        "\n",
        "http://www.washingtonpost.com/lifestyle/weddings\n",
        "http://www.washingtonpost.com/blogs/monkey-cage/wp/2014/12/03/falling-oil-prices-more-peace/\n",
        "Falling oil prices, more peace? - The Washington Post\n"
       ]
      },
      {
       "output_type": "stream",
       "stream": "stdout",
       "text": [
        "\n",
        "http://www.washingtonpost.com/cameron-barr/2011/03/02/ABIXIIQ_page.html\n",
        "http://www.washingtonpost.com/opinions/personalities\n",
        "http://www.washingtonpost.com/md\n",
        "http://live.washingtonpost.com/the-reliable-source-141203.html\n",
        "/lifestyle/home/high-tech-and-low-tech-ways-to-organize-recipes/2014/12/02/4d80e390-74c7-11e4-9d9b-86d397daad27_story.html?tid=hpModule_1f58c93a-8a7a-11e2-98d9-3012c1cd8d1e\n",
        "http://www.washingtonpost.com/blogs\n",
        "http://www.washingtonpost.com/blogs/federal-eye/wp/2014/12/02/how-the-u-s-and-canadian-militaries-track-santas-flights/?tid=hpModule_308f7142-9199-11e2-bdea-e32ad90da239\n",
        "How the U.S. and Canadian militaries \u2018track\u2019 Santa\u2019s flights - The Washington Post\n"
       ]
      },
      {
       "output_type": "stream",
       "stream": "stdout",
       "text": [
        "\n",
        "http://www.washingtonpost.com/technology/blogs-columns\n",
        "http://www.washingtonpostads.com/\n",
        "http://www.washingtonpost.com/blogs/wonkblog/wp/2014/12/03/the-body-camera-industry-is-feeling-phenomenal-after-ferguson/?tid=hpModule_a2e19bf4-86a3-11e2-9d71-f0feafdd1394\n",
        "The body-camera industry is \u2018feeling phenomenal\u2019 after Ferguson - The Washington Post\n"
       ]
      },
      {
       "output_type": "stream",
       "stream": "stdout",
       "text": [
        "\n",
        "http://www.washingtonpost.com/national/blogs-columns\n",
        "http://www.washingtonpost.com/politics/clintons-noncommittal-stance-on-environment-creates-political-dilemma/2014/12/01/609d95a0-796c-11e4-9a27-6fdbc612bff8_story.html\n",
        "Clinton\u2019s noncommittal stance on environment creates political dilemma - The Washington Post\n"
       ]
      },
      {
       "output_type": "stream",
       "stream": "stdout",
       "text": [
        "\n",
        "http://www.washingtonpost.com/topics\n",
        "http://www.expressnightout.com\n",
        "http://www.washingtonpost.com/news/morning-mix/wp/2014/12/03/woman-sues-bill-cosby-alleges-he-sexually-assaulted-her-when-she-was-15/\n",
        "Woman sues Bill Cosby, alleges he sexually assaulted her when she was 15 - The Washington Post\n"
       ]
      },
      {
       "output_type": "stream",
       "stream": "stdout",
       "text": [
        "\n",
        "http://www.washingtonpost.com/sports/nationals\n",
        "https://subscribe.washingtonpost.com/acquisition/?&tid=s_006&promo=dghpsubtn\n",
        "http://www.washingtonpost.com/dc\n",
        "mailto:readers@washpost.com\n",
        "http://www.washingtonpost.com/blogs/the-switch/wp/2014/12/03/google-is-replacing-the-captcha-with-a-simple-checkbox/\n",
        "Google is replacing the CAPTCHA with a simple checkbox - The Washington Post\n"
       ]
      },
      {
       "output_type": "stream",
       "stream": "stdout",
       "text": [
        "\n",
        "http://www.washingtonpost.com/local/traffic-commuting\n",
        "http://www.washingtonpost.com/mdpolitics\n",
        "http://www.washingtonpost.com/rentals/?nid=top_rentals\n",
        "http://washingtonpost.com/posteverything\n",
        "http://www.washingtonpost.com/opinions/erik-wemple/2012/12/17/85b31a30-9d0c-11e0-8017-e14307b2451a_page.html\n",
        "http://www.washingtonpost.com/blogs/reliable-source/wp/2014/12/03/former-body-man-reggie-love-has-a-new-book-coming-out/\n",
        "Former \u2018body man\u2019 Reggie Love has a new book coming out - The Washington Post\n"
       ]
      },
      {
       "output_type": "stream",
       "stream": "stdout",
       "text": [
        "\n",
        "http://www.washingtonpost.com/entertainment/theater-dance\n",
        "http://www.washingtonpost.com/joel-achenbach/2011/02/24/AB5edOJ_page.html\n",
        "http://www.washingtonpost.com/news/morning-mix/wp/2014/12/03/the-story-behind-the-viral-hug-photo-after-ferguson/?tid=hpModule_9d3add6c-8a79-11e2-98d9-3012c1cd8d1e\n",
        "The story behind the viral \u2018hug\u2019 photo after Ferguson - The Washington Post\n"
       ]
      },
      {
       "output_type": "stream",
       "stream": "stdout",
       "text": [
        "\n",
        "http://www.washingtonpost.com/posteverything/wp/2014/12/03/americans-are-obsessed-with-parenting-advice-so-why-are-our-kids-so-miserable/\n",
        "Americans are obsessed with parenting advice. So why are our kids so miserable? - The Washington Post\n"
       ]
      },
      {
       "output_type": "stream",
       "stream": "stdout",
       "text": [
        "\n",
        "http://www.washingtonpost.com/blogs/capitals-insider/wp/2014/12/03/washington-d-c-hosted-nhl-all-star-game-could-be-in-line-soon/\n",
        "Washington D.C.-hosted NHL All-Star game could \u2018be in line soon\u2019 - The Washington Post\n"
       ]
      },
      {
       "output_type": "stream",
       "stream": "stdout",
       "text": [
        "\n",
        "http://www.washingtonpost.com/sports/blogs-columns\n",
        "http://www.washingtonpost.com/pr/\n",
        "/business/technology\n",
        "#\n",
        "http://www.washingtonpost.com/michelle-singletary/2011/02/24/ABWCMzI_page.html\n",
        "http://www.washingtonpost.com/world/africa\n",
        "http://www.amazon.com/Keystone-XL-Down-Books-ebook/dp/B00C0YZKHC/ref=sr_1_1?ie=UTF8&qid=1364394338&sr=8-1&keywords=keystone+mufson\n",
        "http://findnsave.washingtonpost.com/\n",
        "http://www.washingtonpost.com/blogs/post-politics-live/liveblog/implementing-obamacare/\n",
        "http://www.washingtonpost.com/investigations\n",
        "http://www.washingtonpost.com/todays_paper/updates\n",
        "http://www.washingtonpost.com/blogs/going-out-guide/wp/2014/12/03/thai-x-ing-on-ninth-street-nw-a-sequel-that-surpasses-its-predecessor/\n",
        "Thai X-ing on Ninth Street NW: A sequel that surpasses its predecessor - The Washington Post\n"
       ]
      },
      {
       "output_type": "stream",
       "stream": "stdout",
       "text": [
        "\n",
        "http://www.washingtonpost.com/photography/\n",
        "http://www.washingtonpost.com/local/crime\n",
        "http://www.washingtonpost.com/sports/redskins\n",
        "http://live.washingtonpost.com/onparenting1203.html\n",
        "http://www.washingtonpost.com/robert-thomson/2011/03/08/ABxG2JP_page.html\n",
        "http://www.washingtonpost.com/matt-mcfarland/2014/03/29/b1de5d00-b798-11e3-8cc3-d4bf596577eb_page.html\n",
        "Matt McFarland - The Washington Post\n"
       ]
      },
      {
       "output_type": "stream",
       "stream": "stdout",
       "text": [
        "\n",
        "http://www.washingtonpost.com/alyssa-rosenberg/2014/03/29/0b596142-b797-11e3-8cc3-d4bf596577eb_page.html\n",
        "Alyssa Rosenberg - The Washington Post\n"
       ]
      },
      {
       "output_type": "stream",
       "stream": "stdout",
       "text": [
        "\n",
        "http://www.washingtonpost.com/blogs/wonkblog/\n",
        "http://www.washingtonpost.com/blogs/wonkblog/wp/2014/12/02/capitalism-is-officially-broken-even-doggy-day-care-workers-have-non-competes-now/\n",
        "Capitalism is officially broken: Even doggy day care workers have non-competes now - The Washington Post\n"
       ]
      },
      {
       "output_type": "stream",
       "stream": "stdout",
       "text": [
        "\n",
        "http://www.washingtonpost.com/entertainment/tv\n",
        "http://www.washingtonpost.com/actmgmt/help/\n",
        "/entertainment/books/book-review-first-impressions-by-charlie-lovett/2014/12/02/9e32ef4c-7038-11e4-8808-afaa1e3a33ef_story.html?tid=hpModule_5fb4f58a-8a7a-11e2-98d9-3012c1cd8d1e\n",
        "http://www.washingtonpost.com/posttv/sports/who-is-jarryn-avery/2014/12/02/b8d34672-7983-11e4-9721-80b3d95a28a9_video.html?tid=hp_mm\n",
        "Content not text, or article not relevant."
       ]
      },
      {
       "output_type": "stream",
       "stream": "stdout",
       "text": [
        "\n",
        "http://nie.washingtonpost.com\n",
        "http://www.washingtonpost.com/local/education\n",
        "http://www.washingtonpost.com/jena-mcgregor/2011/02/28/ABWXIIQ_page.html\n",
        "http://www.washingtonpost.com/capital_business\n",
        "http://www.washingtonpost.com/local/crime/fbi-agent-accused-of-tampering-with-evidence-signed-drugs-out-documents-say/2014/12/02/9c6baaa6-7a7d-11e4-84d4-7c896b90abdc_story.html\n",
        "FBI agent accused of tampering with evidence signed drugs out, documents say - The Washington Post\n"
       ]
      },
      {
       "output_type": "stream",
       "stream": "stdout",
       "text": [
        "\n",
        "http://www.washingtonpost.com/express\n",
        "http://www.washingtonpost.com/news/the-watch/wp/2014/12/02/the-saga-of-shawn-parcells-the-uncredited-forensics-expert-in-the-michael-brown-case/?tid=pm_pop\n",
        "The saga of Shawn Parcells, the uncredited forensics \u2018expert\u2019 in the Michael Brown case - The Washington Post\n"
       ]
      },
      {
       "output_type": "stream",
       "stream": "stdout",
       "text": [
        "\n",
        "http://www.washingtonpost.com/blogs/erik-wemple/wp/2014/12/02/rolling-stone-whiffs-in-reporting-on-alleged-rape/?tid=pm_pop\n",
        "Rolling Stone whiffs in reporting on alleged rape - The Washington Post\n"
       ]
      },
      {
       "output_type": "stream",
       "stream": "stdout",
       "text": [
        "\n",
        "http://www.washingtonpost.com/blogs/achenblog/wp/2014/12/03/nasa-has-a-spaceship-but-where-will-it-go/\n",
        "NASA has a spaceship, but where will it go? - The Washington Post\n"
       ]
      },
      {
       "output_type": "stream",
       "stream": "stdout",
       "text": [
        "\n",
        "/realestate/ballston-rows-big-open-layout-townhouses-draw-buyers/2014/11/26/a305c436-71d2-11e4-893f-86bd390a3340_story.html?tid=hpModule_6032d2d6-919e-11e2-bdea-e32ad90da239\n",
        "http://www.washingtonpost.com/business/on-it\n",
        "/world/iraqi-government-denies-woman-detained-in-lebanon-was-is-leaders-wife/2014/12/03/0c4d0864-7acf-11e4-b821-503cc7efed9e_story.html\n",
        "http://www.washingtonpost.com/lifestyle/wellness\n",
        "http://www.washingtonpost.com/blogs/erik-wemple/wp/2014/12/02/rolling-stone-whiffs-in-reporting-on-alleged-rape/\n",
        "Rolling Stone whiffs in reporting on alleged rape - The Washington Post\n"
       ]
      },
      {
       "output_type": "stream",
       "stream": "stdout",
       "text": [
        "\n",
        "\n",
        " ALREADY IN SET \n",
        "\n",
        "http://www.washingtonpost.com/blogs/the-switch/wp/2014/12/02/obamas-pick-to-lead-the-pentagon-is-big-on-cybersecurity/\n",
        "Obama\u2019s pick to lead the Pentagon is big on cybersecurity - The Washington Post\n"
       ]
      },
      {
       "output_type": "stream",
       "stream": "stdout",
       "text": [
        "\n",
        "http://www.washingtonpost.com/blogs/right-turn/wp/2014/12/03/no-the-house-wont-only-do-corporate-tax-reform/\n",
        "No, the House won\u2019t \u2018only\u2019 do corporate tax reform - The Washington Post\n"
       ]
      },
      {
       "output_type": "stream",
       "stream": "stdout",
       "text": [
        "\n",
        "http://www.washingtonpost.com/entertainment/horoscopes\n",
        "http://www.washingtonpost.com/blogs/the-switch/wp/2014/12/03/a-telecom-regulator-accuses-netflix-of-trying-to-create-its-own-fast-lanes/\n",
        "A telecom regulator accuses Netflix of trying to create its own \u2018fast lanes\u2019 - The Washington Post\n"
       ]
      },
      {
       "output_type": "stream",
       "stream": "stdout",
       "text": [
        "\n",
        "http://www.washingtonpost.com/entertainment\n",
        "https://subscribe.washingtonpost.com/acquisition/?oscode=RPWH&tid=sub_s008&promo=dghpfooter\n",
        "0\n",
        "http://www.washingtonpost.com/blogs/worldviews/wp/2014/12/03/200000-dead-why-syrias-rising-death-toll-is-so-divisive/\n",
        "200,000 dead? Why Syria\u2019s rising death toll is so divisive - The Washington Post\n"
       ]
      },
      {
       "output_type": "stream",
       "stream": "stdout",
       "text": [
        "\n",
        "http://www.washingtonpost.com/realestate/\n",
        "http://www.washingtonpost.com/local/obituaries\n",
        "http://www.washingtonpost.com/lifestyle/style/best-of-movies-tv-and-music-for-2014/2014/11/25/55bd0154-70d2-11e4-ad12-3734c461eab6_gallery.html\n",
        "The best of movies, TV and music for 2014 - The Washington Post\n"
       ]
      },
      {
       "output_type": "stream",
       "stream": "stdout",
       "text": [
        "\n",
        "http://games.washingtonpost.com/games/sudoku\n",
        "http://www.washingtonpost.com/blogs/post-partisan/wp/2014/12/03/hillary-clintons-insulting-silence-on-keystone-xl/\n",
        "Hillary Clinton\u2019s insulting silence on Keystone XL - The Washington Post\n"
       ]
      },
      {
       "output_type": "stream",
       "stream": "stdout",
       "text": [
        "\n",
        "http://www.washingtonpost.com/entertainment/books\n",
        "http://www.washingtonpost.com/blogs/wonkblog/wp/2014/12/03/the-google-misery-index-the-times-of-year-were-most-depressed-anxious-and-stressed/\n",
        "The Google misery index: The times of year we\u2019re most depressed, anxious and stressed - The Washington Post\n"
       ]
      },
      {
       "output_type": "stream",
       "stream": "stdout",
       "text": [
        "\n",
        "http://www.washingtonpost.com/dcpolitics\n",
        "http://www.washingtonpost.com/the-posts-view/2011/12/07/gIQAoEIscO_page.html\n",
        "http://games.washingtonpost.com/games/klondike-solitaire-gold/\n",
        "http://www.washingtonpost.com/sports/othersports\n",
        "http://www.washingtonpost.com/local\n",
        "http://www.washingtonpost.com/blogs/the-switch/wp/2014/12/03/is-it-safe-for-girl-scouts-to-sell-cookies-online/\n",
        "Selling Girl Scout cookies online can have a dark side - The Washington Post\n"
       ]
      },
      {
       "output_type": "stream",
       "stream": "stdout",
       "text": [
        "\n",
        "http://www.washingtonpost.com/how-can-i-opt-out-of-online-advertising-co\r\n",
        "okies/2011/11/18/gIQABECbiN_story.html\n",
        "http://www.washingtonpost.com/jobs/home\n",
        "http://www.washingtonpost.com//posttv.com\n",
        "http://www.washingtonpost.com/world/asia-pacific\n",
        "http://www.washingtonpost.com/tom-sietsema/2011/03/09/ABLOHIQ_page.html\n",
        "http://www.washingtonpost.com/news/morning-mix/wp/2014/12/03/this-west-antarctic-region-sheds-a-mount-everest-sized-amount-of-ice-every-two-years-study-says/\n",
        "This West Antarctic region sheds a Mount Everest-sized amount of ice every two years, study says - The Washington Post\n"
       ]
      },
      {
       "output_type": "stream",
       "stream": "stdout",
       "text": [
        "\n",
        "http://www.washingtonpost.com/business\n",
        "http://posttv.com\n",
        "http://www.washingtonpost.com/blogs/dc-sports-bog/wp/2014/12/03/darrel-young-and-mike-adams-on-the-flop-that-injured-desean-jackson/\n",
        "Darrel Young and Mike Adams on the flop that injured DeSean Jackson - The Washington Post\n"
       ]
      },
      {
       "output_type": "stream",
       "stream": "stdout",
       "text": [
        "\n",
        "http://washingtonpostwine.com/\n",
        "http://www.washingtonpost.com/realestate\n",
        "http://www.washingtonpost.com/posttv/sports/australian-cricketer-phillip-hughes-remembered-in-tribute-video/2014/12/03/e77941d2-7afc-11e4-8241-8cc0a3670239_video.html?tid=hp_mm\n",
        "Content not text, or article not relevant."
       ]
      },
      {
       "output_type": "stream",
       "stream": "stdout",
       "text": [
        "\n",
        "http://washpost.bloomberg.com/worldbusiness/\n",
        "http://www.washingtonpost.com/news/the-watch/wp/2014/12/02/the-saga-of-shawn-parcells-the-uncredited-forensics-expert-in-the-michael-brown-case/\n",
        "The saga of Shawn Parcells, the uncredited forensics \u2018expert\u2019 in the Michael Brown case - The Washington Post\n"
       ]
      },
      {
       "output_type": "stream",
       "stream": "stdout",
       "text": [
        "\n",
        "\n",
        " ALREADY IN SET \n",
        "\n",
        "http://www.washingtonpost.com/blogs/on-leadership/wp/2014/12/02/the-leadership-ferguson-needs-now/\n",
        "The leadership Ferguson needs now - The Washington Post\n"
       ]
      },
      {
       "output_type": "stream",
       "stream": "stdout",
       "text": [
        "\n",
        "http://www.washingtonpost.com/politics\n",
        "http://www.washingtonpost.com/business/technology\n",
        "http://www.washingtonpost.com/letters-to-the-editor/2010/07/06/ABjQAIP_linkset.html\n",
        "/business/get-there/sometimes-grad-school-flunks-the-cost-benefit-test/2014/12/02/a166632e-7a65-11e4-b821-503cc7efed9e_story.html?tid=hpModule_a2e19bf4-86a3-11e2-9d71-f0feafdd1394\n",
        "http://www.washingtonpost.com/blogs/football-insider/wp/2014/12/03/if-robert-griffin-iii-ended-up-with-the-rams-it-would-fit-a-trend/\n",
        "If Robert Griffin III ended up with the Rams, it would fit a trend - The Washington Post\n"
       ]
      },
      {
       "output_type": "stream",
       "stream": "stdout",
       "text": [
        "\n",
        "http://www.washingtonpost.com/sports/capitals\n",
        "http://live.washingtonpost.com/\n",
        "http://www.washingtonpost.com/blogs/post-politics/wp/2014/12/03/harkin-we-should-have-done-single-payer-health-reform/\n",
        "Harkin: We should have done single payer health reform - The Washington Post\n"
       ]
      },
      {
       "output_type": "stream",
       "stream": "stdout",
       "text": [
        "\n",
        "http://pqasb.pqarchiver.com/washingtonpost/search.html\n",
        "http://www.washingtonpost.com/sf/brand-connect/\n",
        "http://knowmore.washingtonpost.com/\n",
        "http://www.washingtonpost.com/2011/02/24/ABPqBzI_page.html\n",
        "http://www.washingtonpost.com/blogs/football-insider/wp/2014/12/03/five-areas-to-monitor-as-the-redskins-prep-for-the-rams/\n",
        "Five areas to monitor as the Redskins prepare for the Rams - The Washington Post\n"
       ]
      },
      {
       "output_type": "stream",
       "stream": "stdout",
       "text": [
        "\n",
        "http://www.washingtonpost.com/blogs#business\n",
        "https://subscribe.washingtonpost.com/acquisition/?oscode=RPW2&tid=s_005&promo=dghpfooter\n",
        "http://www.washingtonpost.com/blogs/style-blog/wp/2014/12/03/lost-in-translation-looking-for-just-the-right-word-in-another-language/\n",
        "\u201cLost in Translation,\u201d looking for just the right word\u2026in another language. - The Washington Post\n"
       ]
      },
      {
       "output_type": "stream",
       "stream": "stdout",
       "text": [
        "\n",
        "http://www.washingtonpost.com/posteverything/wp/2014/12/02/yes-youre-free-to-leave-a-small-tip-but-youre-just-a-jerk/?hpid=z11\n",
        "Yes, you\u2019re free to leave a small tip. You\u2019re just a jerk. - The Washington Post\n"
       ]
      },
      {
       "output_type": "stream",
       "stream": "stdout",
       "text": [
        "\n",
        "http://www.washingtonpost.com/blogs/dr-gridlock/wp/2014/12/02/southbound-gw-parkway-closed-because-of-sinkhole/?tid=hpModule_99d5f542-86a2-11e2-9d71-f0feafdd1394\n",
        "Highway officials try to find cause of sinkhole on George Washington Memorial Parkway - The Washington Post\n"
       ]
      },
      {
       "output_type": "stream",
       "stream": "stdout",
       "text": [
        "\n",
        "http://www.washingtonpost.com/william-wan/2011/03/02/ABlzvmP_page.html\n",
        "http://www.washingtonpost.com/blogs/worldviews\n",
        "http://www.washingtonpost.com/news/digger/\n",
        "http://www.washingtonpost.com/local/blogs-columns\n",
        "http://www.washingtonpost.com/lifestyle/kidspost\n",
        "http://www.washingtonpost.com/privacy-policy/2011/11/18/gIQASIiaiN_story\r\n",
        ".html\n",
        "http://www.washingtonpost.com/lifestyle/\n",
        "http://www.washingtonpost.com/chris-cillizza/2011/02/24/AB7OmvI_page.html\n",
        "http://www.washingtonpost.com/world/national-security\n",
        "http://www.washingtonpost.com/politics/courts-and-law/gJQAvz8ptW_topic.html\n",
        "http://www.washingtonpost.com/josh-hicks/2012/11/29/f025fbbe-3a4d-11e2-b01f-5f55b193f58f_page.html\n",
        "/business/shades-of-complexity-dominate-the-debate-over-net-neutrality/2014/11/27/bde4f2de-74ef-11e4-9d9b-86d397daad27_story.html\n",
        "http://www.washingtonpost.com/lifestyle/style\n",
        "http://www.washingtonpost.com/lifestyle/magazine\n",
        "http://www.washingtonpost.com/sports/highschools\n",
        "http://www.washingtonpost.com/blogs/erik-wemple/wp/2014/12/03/rolling-stone-u-va-alleged-rape-story-this-is-jackies-perspective-on-her-assault-writer-tells-radio-host/\n",
        "Rolling Stone U-Va. alleged rape story: \u2018This is Jackie\u2019s perspective on her assault,\u2019 writer tells radio host - The Washington Post\n"
       ]
      },
      {
       "output_type": "stream",
       "stream": "stdout",
       "text": [
        "\n",
        "http://www.washingtonpost.com\n",
        "https://subscribe.washingtonpost.com/loginregistration/index.html#/register/group/short?action=ereplica\n",
        "http://www.washingtonpost.com/posttv/sports/who-is-jarryn-avery/2014/12/02/b8d34672-7983-11e4-9721-80b3d95a28a9_video.html\n",
        "Content not text, or article not relevant."
       ]
      },
      {
       "output_type": "stream",
       "stream": "stdout",
       "text": [
        "\n",
        "http://www.washingtonpost.com/sports/colleges\n",
        "/lifestyle/home/the-poinsettia-reinvented-and-still-going-strong/2014/12/03/1ca78b8a-759d-11e4-bd1b-03009bd3e984_story.html\n",
        "http://www.washingtonpost.com/blogs/innovations/wp/2014/12/03/your-water-heater-hogs-energy-but-it-doesnt-have-to-be-that-way/\n",
        "Your water heater hogs energy, but it doesn\u2019t have to be that way. - The Washington Post\n"
       ]
      },
      {
       "output_type": "stream",
       "stream": "stdout",
       "text": [
        "\n",
        "http://washingtonpostlive.com/\n",
        "/entertainment\n",
        "http://www.twitter.com/intent/user?screen_name=washingtonpost\n",
        "http://www.washingtonpost.com/news/act-four/wp/2014/12/03/intermission-best-of-the-best/\n",
        "Intermission: Best of the best - The Washington Post\n"
       ]
      },
      {
       "output_type": "stream",
       "stream": "stdout",
       "text": [
        "\n",
        "http://www.washingtonpost.com/news/get-there/wp/2014/12/03/are-you-smart-enough-to-retire/\n",
        "Are you smart enough to retire? - The Washington Post\n"
       ]
      },
      {
       "output_type": "stream",
       "stream": "stdout",
       "text": [
        "\n",
        "http://www.washingtonpost.com/blogs/nationals-journal/wp/2014/12/03/denard-span-has-sports-hernia-surgery-is-expected-to-be-ready-for-spring-training/?tid=hpModule_a4df998e-86a7-11e2-9d71-f0feafdd1394\n",
        "Denard Span has sports hernia surgery, is expected to be ready for spring training (update) - The Washington Post\n"
       ]
      },
      {
       "output_type": "stream",
       "stream": "stdout",
       "text": [
        "\n",
        "http://fashionwashington.com\n",
        "http://www.washingtonpost.com/jennifer-rubin/2011/02/24/ABbIUXN_page.html\n",
        "/politics\n",
        "http://www.washingtonpostwine.com/\n",
        "http://www.washingtonpost.com/politics/white-house/gJQAugUh6W_topic.html\n",
        "http://www.washingtonpost.com/national/higher-education\n",
        "http://www.washingtonpost.com/discussions\n",
        "http://www.washingtonpost.com/blogs/the-switch/\n",
        "http://www.washingtonpost.com/posteverything/wp/2014/12/03/the-republicans-hating-on-hillary-clintons-speaking-fees-are-hypocrites/\n",
        "The Republicans hating on Hillary Clinton\u2019s speaking fees are hypocrites - The Washington Post\n"
       ]
      },
      {
       "output_type": "stream",
       "stream": "stdout",
       "text": [
        "\n",
        "http://www.washingtonpost.com/brian-fung/2013/07/22/a6298bda-f2de-11e2-ae43-b31dc363c3bf_page.html\n",
        "http://www.washingtonpost.com/world/day-in-photos/2014/12/03/07b93c34-7aeb-11e4-b821-503cc7efed9e_gallery.html\n",
        "Day in photos - The Washington Post\n"
       ]
      },
      {
       "output_type": "stream",
       "stream": "stdout",
       "text": [
        "\n",
        "http://www.washingtonpost.com/blogs/dr-gridlock/wp/2014/12/03/whats-ahead-for-hov-lane-drivers-on-i-395/\n",
        "What\u2019s ahead for HOV lane drivers on I-395 - The Washington Post\n"
       ]
      },
      {
       "output_type": "stream",
       "stream": "stdout",
       "text": [
        "\n",
        "http://www.thecapitoldeal.com/\n",
        "http://www.washingtonpost.com/vapolitics\n",
        "http://www.washingtonpost.com//www.washingtonpost.com/jobs/home\n",
        "http://www.washingtonpost.com/opinions/local-opinions\n",
        "http://games.washingtonpost.com/games/eggz-classic\n",
        "http://www.washingtonpost.com/blogs/capitals-insider/wp/2014/12/03/washington-d-c-hosted-nhl-all-star-game-could-be-in-line-soon/?tid=hpModule_a4df998e-86a7-11e2-9d71-f0feafdd1394\n",
        "Washington D.C.-hosted NHL All-Star game could \u2018be in line soon\u2019 - The Washington Post\n"
       ]
      },
      {
       "output_type": "stream",
       "stream": "stdout",
       "text": [
        "\n",
        "\n",
        " ALREADY IN SET \n",
        "\n",
        "http://www.thecapitoldeal.com\n",
        "http://www.washingtonpost.com/\n",
        "http://www.washingtonpost.com/blogs/worldviews/wp/2014/12/03/days-after-we-interviewed-these-former-cops-chinese-authorities-arrested-two-of-them/\n",
        "Days after we interviewed these former cops, Chinese authorities arrested two of them - The Washington Post\n"
       ]
      },
      {
       "output_type": "stream",
       "stream": "stdout",
       "text": [
        "\n",
        "http://www.washingtonpost.com/ishaan-tharoor/2014/04/18/fe311098-c6fd-11e3-9f37-7ce307c56815_page.html\n",
        "Ishaan Tharoor - The Washington Post\n"
       ]
      },
      {
       "output_type": "stream",
       "stream": "stdout",
       "text": [
        "\n",
        "http://www.washingtonpost.com/lifestyle\n",
        "http://www.washingtonpost.com/posttv/politics/creating-a-3d-model-of-obama/2014/12/02/d6034596-7a5d-11e4-8241-8cc0a3670239_video.html?tid=hp_mm\n",
        "Content not text, or article not relevant."
       ]
      },
      {
       "output_type": "stream",
       "stream": "stdout",
       "text": [
        "\n",
        "/entertainment/theater_dance/the-war-comes-home-in-updated-nutcracker-musical/2014/12/02/de51e800-7a45-11e4-b821-503cc7efed9e_story.html\n",
        "http://www.washingtonpost.com/cars\n",
        "/politics/hillary-clintons-backers-say-they-welcome-a-challenge-in-the-democratic-primary/2014/12/02/4956ab52-7584-11e4-8893-97bf0c02cc5f_story.html\n",
        "http://www.washingtonpost.com/national/health-science\n",
        "http://games.washingtonpost.com/\n",
        "/world/baghdad-and-kurds-reach-win-win-accord-over-oil-revenue/2014/12/02/68559698-7a2b-11e4-84d4-7c896b90abdc_story.html?tid=hpModule_04941f10-8a79-11e2-98d9-3012c1cd8d1e\n",
        "http://www.washingtonpost.com/entertainment/music\n",
        "/lifestyle\n",
        "right\n",
        "/world/middle_east/netanyahu-fires-2-centrist-israeli-cabinet-ministers-setting-stage-for-early-elections/2014/12/02/a92f36dd-9159-43e8-8cc9-ca1076cb0089_story.html?tid=hpModule_04941f10-8a79-11e2-98d9-3012c1cd8d1e\n",
        "/local/crime/person-pretends-to-be-police-officer-gets-arrested-in-dc/2014/12/03/bcea1442-7ae2-11e4-9a27-6fdbc612bff8_story.html?tid=hpModule_99d5f542-86a2-11e2-9d71-f0feafdd1394\n",
        "http://www.washingtonpost.com/niraj-chokshi/2014/06/10/6b40abf2-f0cb-11e3-9ebc-2ee6f81ed217_page.html\n",
        "Niraj Chokshi - The Washington Post\n"
       ]
      },
      {
       "output_type": "stream",
       "stream": "stdout",
       "text": [
        "\n",
        "http://www.washingtonpost.com/national\n",
        "http://advertising.washingtonpost.com/index.php\n",
        "http://www.washingtonpost.com/lifestyle/travel\n",
        "http://www.washingtonpost.com/business/get-there\n",
        "http://www.washingtonpost.com/blogs/where-we-live/wp/2014/12/03/luxury-home-sales-in-the-u-s-grow-while-rest-of-market-stagnates/\n",
        "Content not text, or article not relevant."
       ]
      },
      {
       "output_type": "stream",
       "stream": "stdout",
       "text": [
        "\n",
        "http://postpoints.washingtonpost.com\n",
        "http://www.washingtonpost.com/news/parenting/wp/2014/12/03/what-kids-want-to-read-also-known-as-holiday-gift-ideas/?tid=hpModule_1f58c93a-8a7a-11e2-98d9-3012c1cd8d1e\n",
        "What kids want to read (also known as holiday gift ideas) - The Washington Post\n"
       ]
      },
      {
       "output_type": "stream",
       "stream": "stdout",
       "text": [
        "\n",
        "http://www.washingtonpost.com/lifestyle/home-garden\n",
        "http://www.washingtonpost.com/blogs/capital-weather-gang/wp/2014/12/03/world-meteorological-organization-earth-headed-towards-warmest-year-on-record/\n",
        "World Meteorological Organization: Earth headed towards warmest year on record - The Washington Post\n"
       ]
      },
      {
       "output_type": "stream",
       "stream": "stdout",
       "text": [
        "\n",
        "http://www.washingtonpost.com/news/act-four/wp/2014/12/03/why-i-stopped-shaming-online-harassers/\n",
        "Why I stopped shaming online harassers - The Washington Post\n"
       ]
      },
      {
       "output_type": "stream",
       "stream": "stdout",
       "text": [
        "\n",
        "http://www.washingtonpost.com/alex-prewitt/2012/09/05/ac1451ae-f773-11e1-8b93-c4f4ab1c8d13_page.html\n",
        "/\n",
        "http://www.washingtonpost.com/blogs/worldviews/\n",
        "/entertainment/books/book-review-how-to-be-both-by-ali-smith/2014/12/02/f0d880f2-7418-11e4-a5b2-e1217af6b33d_story.html?tid=hpModule_5fb4f58a-8a7a-11e2-98d9-3012c1cd8d1e\n",
        "http://www.washingtonpost.com/world/europe\n",
        "/national/health-science/us-designates-35-hospitals-to-prepare-for-future-ebola-patients/2014/12/02/d3213c18-7a1a-11e4-b821-503cc7efed9e_story.html?tid=hpModule_9d3add6c-8a79-11e2-98d9-3012c1cd8d1e\n",
        "/business\n",
        "http://www.facebook.com/washingtonpost\n",
        "/entertainment/theater_dance/joshua-harmon-may-be-a-student-yet-but-he-has-shown-his-playwriting-prowess/2014/12/02/7462bdaa-7a60-11e4-8241-8cc0a3670239_story.html?tid=hpModule_5fb4f58a-8a7a-11e2-98d9-3012c1cd8d1e\n",
        "http://www.washingtonpost.com/blogs/worldviews/wp/2014/12/03/north-korea-ordered-citizens-named-kim-jong-un-to-change-their-names-says-new-report/\n",
        "North Korea ordered citizens named Kim Jong Un to change their names, says new report - The Washington Post\n"
       ]
      },
      {
       "output_type": "stream",
       "stream": "stdout",
       "text": [
        "\n",
        "http://www.washingtonpost.com/politics/blogs-columns\n",
        "http://www.washingtonpost.com/blogs/where-we-live/wp/2014/12/02/effort-to-build-on-st-marys-shore-takes-unexpected-twist/?tid=hpModule_6032d2d6-919e-11e2-bdea-e32ad90da239\n",
        "Content not text, or article not relevant."
       ]
      },
      {
       "output_type": "stream",
       "stream": "stdout",
       "text": [
        "\n",
        "http://www.washingtonpost.com/lifestyle/advice\n",
        "http://www.washingtonpost.com/blogs/nationals-journal/wp/2014/12/03/denard-span-has-sports-hernia-surgery-is-expected-to-be-ready-for-spring-training/\n",
        "Denard Span has sports hernia surgery, is expected to be ready for spring training (update) - The Washington Post\n"
       ]
      },
      {
       "output_type": "stream",
       "stream": "stdout",
       "text": [
        "\n",
        "\n",
        " ALREADY IN SET \n",
        "\n",
        "http://www.washingtonpost.com/opinions/telnaes\n",
        "/politics/federal_government/expert-takes-open-season-questions-about-federal-employees-health-benefits-program/2014/12/02/03ca2fc0-7a46-11e4-b821-503cc7efed9e_story.html?tid=hpModule_308f7142-9199-11e2-bdea-e32ad90da239\n",
        "http://www.washingtonpost.com/opinions\n",
        "http://www.washingtonpost.com/jonnelle-marte/2014/05/05/1186a2d6-d480-11e3-95d3-3bcd77cd4e11_page.html\n",
        "Jonnelle Marte - The Washington Post\n"
       ]
      },
      {
       "output_type": "stream",
       "stream": "stdout",
       "text": [
        "\n",
        "http://www.washingtonpost.com/wp-srv/guidelines/corrections.html\n",
        "http://games.washingtonpost.com/games/mahjongg-dimensions\n",
        "https://ssl.washingtonpost.com/actmgmt/registration/addnewsletter/long\n",
        "http://washpost.bloomberg.com/market-news/\n",
        "http://www.washingtonpost.com/rss\n",
        "/local/crime/rita-sanders-campfield-charged-in-stabbing-death-in-montgomery-county/2014/12/03/a972cd02-7af4-11e4-9a27-6fdbc612bff8_story.html?tid=hpModule_13097a0c-868e-11e2-9d71-f0feafdd1394\n",
        "https://subscribe.washingtonpost.com/acquisition/?oscode=RPW2&promo=dgtodayspaper&tid=sub_s0024\n",
        "http://www.washingtonpost.com/posteverything/wp/2014/12/03/the-case-for-giving-hotels-the-same-health-grades-as-restaurants/\n",
        "The case for giving hotels the same health grades as restaurants - The Washington Post\n"
       ]
      },
      {
       "output_type": "stream",
       "stream": "stdout",
       "text": [
        "\n",
        "http://www.washingtonpost.com/posttv/politics/president-obama-tries-to-use-scientific-jargon-with-little-success/2014/12/02/d64db158-7a7b-11e4-8241-8cc0a3670239_video.html?tid=hp_mm\n",
        "Content not text, or article not relevant."
       ]
      },
      {
       "output_type": "stream",
       "stream": "stdout",
       "text": [
        "\n",
        "http://www.washingtonpost.com/politics/federal-government\n",
        "javascript:void(window.open('http://www.washingtonpost.com/wp-srv/make-homepage.html','','toolbar=no,location=no,directories=no,status=no,menubar=yes,scrollbars=yes,resizable=no,copyhistory=no,width=417,height=415,left=50,top=200,screenX=50,screenY=200'));\n",
        "http://www.washingtonpost.com/classifieds\n",
        "http://www.washingtonpost.com/local/crime/former-democratic-congressional-aide-pleads-guilty-to-sexual-assault/2014/12/02/0afae166-7a7a-11e4-b821-503cc7efed9e_story.html\n",
        "Former Democratic congressional aide pleads guilty to sexual assault - The Washington Post\n"
       ]
      },
      {
       "output_type": "stream",
       "stream": "stdout",
       "text": [
        "\n",
        "/world/asia_pacific/indias-new-prime-minister-narendra-modi-wants-to-rebrand-and-promote-yoga-in-india/2014/12/02/7c5291de-7006-11e4-a2c2-478179fd0489_story.html\n",
        "http://www.washingtonpost.com/sports\n",
        "http://www.washingtonpost.com/scott-allen/2014/03/26/33fc51c4-b506-11e3-8cb6-284052554d74_page.html\n",
        "Scott Allen - The Washington Post\n"
       ]
      },
      {
       "output_type": "stream",
       "stream": "stdout",
       "text": [
        "\n",
        "http://www.washingtonpost.com/business/on-leadership\n",
        "http://www.washingtonpost.com/blogs/style-blog/wp/2014/12/02/no-youre-not-sleeping-enough-and-its-a-big-problem-15-scary-facts-in-new-natgeo-doc/\n",
        "No, you\u2019re not sleeping enough, and it\u2019s a problem: 15 scary facts in new NatGeo doc - The Washington Post\n"
       ]
      },
      {
       "output_type": "stream",
       "stream": "stdout",
       "text": [
        "\n",
        "http://www.washingtonpost.com/blogs/govbeat\n",
        "http://www.washingtonpost.com/blogs/federal-eye/wp/2014/12/03/white-house-review-finds-lax-federal-oversight-of-police-military-gear/\n",
        "White House review finds lax oversight of police military equipment - The Washington Post\n"
       ]
      },
      {
       "output_type": "stream",
       "stream": "stdout",
       "text": [
        "\n",
        "http://live.washingtonpost.com/ask-tom-120314.html\n",
        "http://www.cafepress.com/washingtonpost\n",
        "http://www.washingtonpost.com/lifestyle/food\n",
        "http://www.washingtonpost.com/blogs/the-fix/wp/2014/12/02/theres-a-real-chance-hillary-clinton-wont-run-for-president-heres-5-reasons-why/\n",
        "There\u2019s a real chance Hillary Clinton won\u2019t run for president. Here are five reasons why. - The Washington Post\n"
       ]
      },
      {
       "output_type": "stream",
       "stream": "stdout",
       "text": [
        "\n",
        "http://www.washingtonpost.com/world/middle-east\n",
        "http://www.washingtonpost.com/michael-cavna/2011/03/04/AB01KwN_page.html\n",
        "http://www.washingtonpost.com/politics/polling\n",
        "http://www.washingtonpost.com/ongiving\n",
        "http://www.washingtonpost.com/news/sports/wp/2014/12/03/nfl-teams-face-dilemma-on-when-to-give-up-on-a-young-qb/?tid=hpModule_c7c1f590-868f-11e2-9d71-f0feafdd1394\n",
        "NFL teams face dilemma on when to give up on a young QB - The Washington Post\n"
       ]
      },
      {
       "output_type": "stream",
       "stream": "stdout",
       "text": [
        "\n",
        "http://www.washingtonpost.com/gog/?nid=top_gog\n",
        "/business/get-there/sometimes-grad-school-flunks-the-cost-benefit-test/2014/12/02/a166632e-7a65-11e4-b821-503cc7efed9e_story.html\n",
        "http://www.washingtonpost.com/blogs/the-fix/wp/2014/12/02/rob-portman-would-probably-be-a-good-president-hed-never-get-elected-though/?tid=hpModule_ba0d4c2a-86a2-11e2-9d71-f0feafdd1394\n",
        "Rob Portman would probably be a good president. He\u2019d never get elected though. - The Washington Post\n"
       ]
      },
      {
       "output_type": "stream",
       "stream": "stdout",
       "text": [
        "\n",
        "http://www.washingtonpost.com/blogs/federal-eye/wp/2014/12/03/white-house-review-finds-lax-federal-oversight-of-police-military-gear/?tid=hpModule_14fd66a0-9199-11e2-bdea-e32ad90da239\n",
        "White House review finds lax oversight of police military equipment - The Washington Post\n"
       ]
      },
      {
       "output_type": "stream",
       "stream": "stdout",
       "text": [
        "\n",
        "\n",
        " ALREADY IN SET \n",
        "\n",
        "http://www.washingtonpost.com/gog/\n",
        "http://www.washingtonpost.com/jason-samenow/2013/11/14/d2dbdaf4-bc88-11e0-ae02-56a4c08b6b4e_page.html\n",
        "http://www.parade.com\n",
        "http://www.washingtonpost.com/entertainment/comics\n",
        "/local\n",
        "/politics/courts_law/supreme-court-debates-meaning-of-accompany-in-dillinger-era-law/2014/12/02/bde6ae52-7a63-11e4-9a27-6fdbc612bff8_story.html?tid=hpModule_9d3add6c-8a79-11e2-98d9-3012c1cd8d1e\n",
        "/realestate/where-we-live-barracks-row-from-grit-to-glamour/2014/11/26/d9950d64-636c-11e4-836c-83bc4f26eb67_story.html?tid=hpModule_6032d2d6-919e-11e2-bdea-e32ad90da239\n",
        "http://www.washingtonpost.com/buyphotos\n",
        "http://www.washingtonpost.com/stephen-stromberg/2011/02/24/ABUFa8O_page.html\n",
        "http://www.washingtonpost.com/blogs/the-fix/wp/2014/12/03/why-was-elizabeth-lauten-such-big-news/?tid=hpModule_ba0d4c2a-86a2-11e2-9d71-f0feafdd1394\n",
        "Why was Elizabeth Lauten such big news? - The Washington Post\n"
       ]
      },
      {
       "output_type": "stream",
       "stream": "stdout",
       "text": [
        "\n",
        "\n",
        " ALREADY IN SET \n",
        "\n",
        "http://www.washingtonpost.com/news/post-nation/wp/2014/12/03/fraternities-journalism-and-introspection/\n",
        "Fraternities, journalism and introspection - The Washington Post\n"
       ]
      },
      {
       "output_type": "stream",
       "stream": "stdout",
       "text": [
        "\n",
        "http://www.washingtonpost.com/hayley-tsukayama/2011/03/25/AFwMAnXB_page.html\n",
        "http://www.washingtonpost.com/blogs/ask-the-post/post/reprints-and-permissions/2011/11/18/gIQAztpLlN_blog.html\n",
        "http://www.washingtonpost.com/mike-jones/2011/02/24/ABm77hP_page.html\n",
        "http://www.washingtonpost.com/national/on-innovations\n",
        "http://www.washingtonpost.com/national/religion\n",
        "http://www.washingtonpost.com/blogs/the-fix/wp/2014/12/03/the-economic-recovery-finally-shows-signs-of-registering-a-few-weeks-too-late-for-democrats/?tid=hpModule_f8335a3c-868c-11e2-9d71-f0feafdd1394\n",
        "The economic recovery finally shows signs of registering \u2026 a few weeks too late for Democrats - The Washington Post\n"
       ]
      },
      {
       "output_type": "stream",
       "stream": "stdout",
       "text": [
        "\n",
        "/lifestyle/food/a-dallas-restaurant-rebellion-chefs-band-together-to-thwart-newspaper-critic/2014/12/02/d911ddd2-704a-11e4-893f-86bd390a3340_story.html\n",
        "/world\n",
        "http://www.washingtonpost.com/news/the-intersect/wp/2014/12/03/a-unified-20-year-history-of-the-radically-changing-way-we-relate-to-the-web/\n",
        "A unified 20-year history of the radically changing way we relate to the Web - The Washington Post\n"
       ]
      },
      {
       "output_type": "stream",
       "stream": "stdout",
       "text": [
        "\n",
        "http://www.washingtonpost.com/ebooks\n",
        "http://www.washingtonpost.com/world\n",
        "http://www.washingtonpost.com/carolyn-hax/2011/02/24/ABBRcOJ_page.html\n",
        "/business/economy/long-term-tax-break-plan-fizzles-along-with-hopes-of-some-bipartisanship-in-congress/2014/12/02/fa8e8bc2-7a5e-11e4-9a27-6fdbc612bff8_story.html\n",
        "http://www.washingtonpost.com/photography\n",
        "http://www.washingtonpost.com/sports/wizards\n",
        "javascript:void(0);\n",
        "http://www.posttv.com\n",
        "http://www.washingtonpost.com/community\n",
        "http://www.washingtonpost.com/posteverything/wp/2014/12/03/is-american-foreign-policy-the-key-to-economic-growth/\n",
        "Is American foreign policy the key to economic growth? - The Washington Post\n"
       ]
      },
      {
       "output_type": "stream",
       "stream": "stdout",
       "text": [
        "\n",
        "http://www.washingtonpost.com/blogs/plum-line/wp/2014/12/03/can-the-new-republican-congress-stop-itself-from-undermining-the-2016-gop-nominee/\n",
        "Can the new Republican Congress stop itself from undermining the 2016 GOP nominee? - The Washington Post\n"
       ]
      },
      {
       "output_type": "stream",
       "stream": "stdout",
       "text": [
        "\n",
        "http://www.washingtonpost.com/news/to-your-health/wp/2014/12/02/some-good-news-hiv-is-becoming-less-infectious-over-time-study-says/\n",
        "Some good news: HIV may become less infectious over time, study says - The Washington Post\n"
       ]
      },
      {
       "output_type": "stream",
       "stream": "stdout",
       "text": [
        "\n",
        "http://www.washingtonpost.com/opinions/kathleen-parker-the-media-circus-around-ferguson/2014/12/02/94b42482-7a64-11e4-9a27-6fdbc612bff8_story.html\n",
        "The media circus around Ferguson - The Washington Post\n"
       ]
      },
      {
       "output_type": "stream",
       "stream": "stdout",
       "text": [
        "\n",
        "http://www.washingtonpost.com/blogs/right-turn/wp/2014/12/03/obama-wants-to-keep-negotiating-endlessly-with-iran/\n",
        "Obama wants to keep negotiating endlessly with Iran - The Washington Post\n"
       ]
      },
      {
       "output_type": "stream",
       "stream": "stdout",
       "text": [
        "\n",
        "http://www.washingtonpost.com/news/checkpoint/wp/2014/12/03/how-viral-videos-became-the-way-veterans-combat-stolen-valor/\n",
        "How viral videos became the way veterans combat \u2018stolen valor\u2019 - The Washington Post\n"
       ]
      },
      {
       "output_type": "stream",
       "stream": "stdout",
       "text": [
        "\n",
        "http://www.washingtonpost.com/rss-terms-of-service/2012/01/16/gIQAadFYAQ_story.html\n",
        "http://www.washingtonpost.com/national/energy-environment\n",
        "http://www.washingtonpost.com/posteverything/wp/2014/12/02/yes-youre-free-to-leave-a-small-tip-but-youre-just-a-jerk/\n",
        "Yes, you\u2019re free to leave a small tip. You\u2019re just a jerk. - The Washington Post\n"
       ]
      },
      {
       "output_type": "stream",
       "stream": "stdout",
       "text": [
        "\n",
        "\n",
        " ALREADY IN SET \n",
        "\n",
        "http://www.washingtonpost.com/entertainment/blogs-columns\n",
        "http://www.postmasterclass.com\n",
        "/local/crime/man-escapes-from-trunk-after-being-robbed-at-gunpoint/2014/12/03/2daeda78-7afc-11e4-9a27-6fdbc612bff8_story.html?tid=hpModule_99d5f542-86a2-11e2-9d71-f0feafdd1394\n",
        "http://www.washingtonpost.com/world/americas\n",
        "http://www.washingtonpost.com/blogs/wonkblog/wp/2014/12/03/the-body-camera-industry-is-feeling-phenomenal-after-ferguson/\n",
        "The body-camera industry is \u2018feeling phenomenal\u2019 after Ferguson - The Washington Post\n"
       ]
      },
      {
       "output_type": "stream",
       "stream": "stdout",
       "text": [
        "\n",
        "\n",
        " ALREADY IN SET \n",
        "\n",
        "http://www.washingtonpost.com/james-wagner/2011/05/05/AFxWMwAG_page.html\n",
        "http://www.washingtonpost.com/news/morning-mix/wp/2014/12/03/lady-gaga-reveals-that-she-was-raped-by-a-record-producer-when-she-was-19/?tid=pm_pop\n",
        "Lady Gaga reveals that she was raped by a record producer when she was 19 - The Washington Post\n"
       ]
      },
      {
       "output_type": "stream",
       "stream": "stdout",
       "text": [
        "\n",
        "http://www.washingtonpost.com/news/fancy-stats/wp/2014/12/03/nba-power-rankings-warriors-take-over-top-spot-cavs-thunder-on-the-rise/?tid=hpModule_a4df998e-86a7-11e2-9d71-f0feafdd1394\n",
        "NBA power rankings: Warriors take over top spot, Cavs, Thunder on the rise - The Washington Post\n"
       ]
      },
      {
       "output_type": "stream",
       "stream": "stdout",
       "text": [
        "\n",
        "http://www.washingtonpost.com/sports/dcunited\n",
        "http://knowmore.washingtonpost.com\n",
        "/world/travel-ban-to-be-lifted-for-us-couple-stuck-in-qatar-in-child-death-case/2014/12/02/0ac848d0-7a5e-11e4-b821-503cc7efed9e_story.html\n",
        "http://www.washingtonpost.com/business/on-small-business\n",
        "http://www.washingtonpost.com/politics/clintons-noncommittal-stance-on-environment-creates-political-dilemma/2014/12/01/609d95a0-796c-11e4-9a27-6fdbc612bff8_story.html?tid=pm_pop\n",
        "Clinton\u2019s noncommittal stance on environment creates political dilemma - The Washington Post\n"
       ]
      },
      {
       "output_type": "stream",
       "stream": "stdout",
       "text": [
        "\n",
        "\n",
        " ALREADY IN SET \n",
        "\n",
        "http://games.washingtonpost.com/games/daily-crossword\n",
        "http://washingtonpostmedia.com/careers\n",
        "http://www.washingtonpost.com/technology\n",
        "http://www.washingtonpost.com/news/volokh-conspiracy/wp/2014/12/03/should-michael-browns-stepfather-be-charged-with-inciting-a-riot-what-about-the-rioters/\n",
        "Should Michael Brown\u2019s stepfather be charged with inciting a riot? What about the rioters? - The Washington Post\n"
       ]
      },
      {
       "output_type": "stream",
       "stream": "stdout",
       "text": [
        "\n",
        "http://syndication.washingtonpost.com\n",
        "http://www.washingtonpost.com/blogs/the-fix/wp/2014/12/02/rand-paul-is-running-for-reelection-he-will-also-run-for-president-heres-how-thats-possible/?tid=hpModule_ba0d4c2a-86a2-11e2-9d71-f0feafdd1394\n",
        "Rand Paul is running for reelection. He will also run for president. Here\u2019s how that\u2019s possible. - The Washington Post\n"
       ]
      },
      {
       "output_type": "stream",
       "stream": "stdout",
       "text": [
        "\n",
        "http://t.co/cXMcOlSdxy\n",
        "/local/crime/issues-over-police-shooting-in-ferguson-lead-push-for-officers-and-body-cameras/2014/12/02/dedcb2d8-7a58-11e4-84d4-7c896b90abdc_story.html\n",
        "http://www.washingtonpost.com/blogs/in-the-loop/wp/2014/12/02/sharply-divided-senate-narrowly-confirms-two-bundlers-for-sensitive-posts/?tid=hpModule_308f7142-9199-11e2-bdea-e32ad90da239\n",
        "Sharply divided Senate narrowly confirms two bundlers for sensitive posts - The Washington Post\n"
       ]
      },
      {
       "output_type": "stream",
       "stream": "stdout",
       "text": [
        "\n",
        "http://www.washingtonpost.com/news/morning-mix/wp/2014/12/03/blended-landscapes-the-worlds-most-photographed-places-rediscovered/\n",
        "Blended landscapes: The world\u2019s most photographed places rediscovered - The Washington Post\n"
       ]
      },
      {
       "output_type": "stream",
       "stream": "stdout",
       "text": [
        "\n",
        "http://www.washingtonpost.com/blogs/the-fix/wp/2014/12/03/new-york-has-essentially-eliminated-stop-and-frisk-and-crime-is-still-down/\n",
        "New York has essentially eliminated stop-and-frisk \u2014 and crime is still down - The Washington Post\n"
       ]
      },
      {
       "output_type": "stream",
       "stream": "stdout",
       "text": [
        "\n",
        "http://www.washingtonpost.com/wl/jobs/home\n",
        "/opinions\n",
        "http://live.washingtonpost.com/free-range-12-3-2014.html\n",
        "http://www.washingtonpost.com/va\n",
        "http://www.washingtonpost.com/blogs/wonkblog/wp/2014/12/02/why-americans-are-loading-up-on-cars-again-and-paying-more/?tid=hpModule_79c38dfc-8691-11e2-9d71-f0feafdd1394\n",
        "Why Americans are loading up on cars again\u2014and paying more - The Washington Post\n"
       ]
      },
      {
       "output_type": "stream",
       "stream": "stdout",
       "text": [
        "\n",
        "https://ssl.washingtonpost.com/securedrop\n",
        "http://www.washingtonpost.com/blogs/style-blog/wp/2014/12/02/no-youre-not-sleeping-enough-and-its-a-big-problem-15-scary-facts-in-new-natgeo-doc/?tid=pm_pop\n",
        "No, you\u2019re not sleeping enough, and it\u2019s a problem: 15 scary facts in new NatGeo doc - The Washington Post\n"
       ]
      },
      {
       "output_type": "stream",
       "stream": "stdout",
       "text": [
        "\n",
        "\n",
        " ALREADY IN SET \n",
        "\n",
        "http://findnsave.washingtonpost.com\n",
        "http://www.washingtonpost.com/discussion-and-submission-guidelines/2011/\r\n",
        "11/21/gIQAuvIbiN_story.html\n",
        "http://www.eltiempolatino.com\n",
        "http://www.washingtonpost.com/neely-tucker/2011/03/04/ABCITxN_page.html\n",
        "http://www.washingtonpost.com/goingoutguide/movies\n",
        "http://www.washingtonpost.com/news/comic-riffs/wp/2014/12/02/year-in-review-from-photo-privacy-to-online-piracy-we-put-the-news-into-parody-verse-part-ii/\n",
        "YEAR IN REVIEW: From photo privacy to online piracy, we put the news into parody verse (Part II) - The Washington Post\n"
       ]
      },
      {
       "output_type": "stream",
       "stream": "stdout",
       "text": [
        "\n",
        "left\n",
        "http://www.washingtonpost.com/wp-srv/contents/mobile/\n"
       ]
      }
     ],
     "prompt_number": 27
    },
    {
     "cell_type": "markdown",
     "metadata": {},
     "source": [
      "#Part 2: Feature Vectors"
     ]
    },
    {
     "cell_type": "code",
     "collapsed": false,
     "input": [],
     "language": "python",
     "metadata": {},
     "outputs": []
    }
   ],
   "metadata": {}
  }
 ]
}