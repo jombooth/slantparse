{
 "metadata": {
  "name": "",
  "signature": "sha256:aa608920b7377a10508e832820b50e3ce076b3afb0e1f65a4e5951e56555124b"
 },
 "nbformat": 3,
 "nbformat_minor": 0,
 "worksheets": [
  {
   "cells": [
    {
     "cell_type": "markdown",
     "metadata": {},
     "source": [
      "<h2 align=\"center\">slant parse: <br><br> Using Machine Learning to Determine the Political Leanings of News Publications</h2>\n",
      "\n",
      "<br><center>Serena L Booth, Harvard College, Class of 2016</center>\n",
      "\n",
      "<center>Joseph M Booth, Harvard College, Class of 2015</center>\n",
      "\n",
      "\n",
      "---"
     ]
    },
    {
     "cell_type": "markdown",
     "metadata": {},
     "source": [
      "# Part 1: Data Collection"
     ]
    },
    {
     "cell_type": "code",
     "collapsed": false,
     "input": [
      "import urllib\n",
      "import csv\n",
      "from bs4 import BeautifulSoup\n",
      "from sets import Set\n",
      "from sgmllib import SGMLParser\n",
      "import pickle \n",
      "\n",
      "ITER_PAGES = 1\n",
      "\n",
      "# Extacts all href links from an html document\n",
      "# cite: https://github.com/chungy/diveintopython/blob/master/py/urllister.py\n",
      "class URLLister(SGMLParser):\n",
      "    def reset(self):\n",
      "        SGMLParser.reset(self)\n",
      "        self.urls = []\n",
      "\n",
      "    def start_a(self, attrs):\n",
      "        href = [v for k, v in attrs if k=='href']\n",
      "        if href:\n",
      "            self.urls.extend(href)\n",
      "            \n",
      "# Adds a row to the CSV file articles.csv. Each row consists of publication name, political leaning, title, and article text.\n",
      "def process_url(url, url_mod, find_string, start_title_delim, end_title_delim, start_article_delim, end_article_delim, name, pol):\n",
      "    if len(url) > 0 and str(url)[0] == '/' and str(url).find(find_string) != -1: \n",
      "        with open('articles.csv', 'a+') as csvfile:\n",
      "            #pickled_article_names = pickle.load( open( \"save.p\", \"a+\" ) )\n",
      "\n",
      "            article_writer = csv.writer(csvfile, delimiter='^')\n",
      "            tmp_url = url_mod + str(url)\n",
      "            usock = urllib.urlopen(tmp_url)\n",
      "            html = usock.read()\n",
      "            \n",
      "            # If article is from a specific provider, modify it according to the following rules: \n",
      "            if (url_mod == \"http://www.townhall.com\" and html.find(\"View Full Article\") != -1):\n",
      "                    process_url(url + '/page/full', url_mod, start_title_delim, end_title_delim, start_article_delim, end_article_delim, name, pol)\n",
      "                    return\n",
      "                        \n",
      "            # title\n",
      "            soup_unprocessed = BeautifulSoup(html)\n",
      "                        \n",
      "            try:\n",
      "                title = soup_unprocessed.title.string\n",
      "                title = title.encode(\"utf-8\")\n",
      "            \n",
      "                print title + '\\n' \n",
      "                \n",
      "                if url_mod == \"http://www.motherjones.com\" and (str(title).find('Issue') != -1 or str(title).find('map') != -1):\n",
      "                    mod_content = 'Content not text.'\n",
      "                #title = str(html)[str(html).find(start_title_delim) + len(start_title_delim):str(html).find(end_title_delim)]\n",
      "                #title = title[0: title.find('| Mother')]\n",
      "                else: \n",
      "                    content = str(html)[str(html).find(start_article_delim) + len (start_article_delim):str(html).find(end_article_delim)]\n",
      "                    soup = BeautifulSoup(content)\n",
      "                    mod_content = soup.get_text()\n",
      "                    mod_content = mod_content.encode(\"utf-8\")\n",
      "                \n",
      "                    \n",
      "                article_writer.writerow([name, pol, title, mod_content])\n",
      "            except AttributeError: \n",
      "                print 'Attribute Error'\n",
      "                \n",
      "            usock.close()\n",
      "            \n",
      "\n",
      "def scrape(start_url, iterator, url_list, url_mod):      \n",
      "    \"\"\"\n",
      "    Arguments: string start_url, int iterator, set url_list, string url_mod\n",
      "    Returns: updated set url_list \n",
      "    \n",
      "    For each start_url passed, this function opens that url and retrieves all hrefs from that page. \n",
      "    If iterator is smaller than the (constant) number of ITER_PAGES, scrape is called recursively \n",
      "    on the set of urls. \n",
      "    \"\"\"\n",
      "    if iterator > ITER_PAGES: \n",
      "        return set()\n",
      "    usock = urllib.urlopen(start_url)\n",
      "    parser = URLLister()\n",
      "    html = usock.read()\n",
      "    parser.feed(html)\n",
      "    usock.close()\n",
      "    parser.close()\n",
      "    \n",
      "    url_list = url_list.union(parser.urls)\n",
      "    \n",
      "    for url in url_list: \n",
      "        if len(url) > 0 and str(url)[0] == '/': \n",
      "            tmp_url = url_mod + str(url)\n",
      "            try: \n",
      "                tmp_set = scrape(tmp_url, iterator + 1, url_list, url_mod)\n",
      "                url_list = url_list.union(tmp_set) \n",
      "            except IOError: \n",
      "                print \"Couldn't Open\"\n",
      "    return url_list\n",
      "\n",
      "        \n",
      "# call the function\n",
      "url_list = set()  \n",
      "#townhall_list = scrape('http://www.townhall.com/', 1, url_list, 'http://www.townhall.com')\n",
      "#mother_jones_list = scrape('http://www.motherjones.com/', 1, url_list, 'http://www.motherjones.com')\n",
      "bbc_list = scrape('http://www.bbc.com/news/', 1, url_list, 'http://www.bbc.com')\n",
      "\n",
      "print '\\nurls\\n'\n",
      "\n",
      "for url in bbc_list:\n",
      "    process_url(url, 'http://www.bbc.com', 'news', '<title>', '</title>' ,'<p class=\"introduction\" id=\"story_continues_1\">' , '<p class=\"introduction\">Or comment here:</p>', 'BBC', 'L')\n",
      "    print url\n",
      "\n",
      "#for url in townhall_list: \n",
      "#    process_url(url, 'http://www.townhall.com', '2014', '<title>', '</title>' , '<ul class=\"breadcrumb\">', '<hr class=\"article-divider\"', 'TownHall', 'C')\n",
      "\n",
      "#for url in mother_jones_list:\n",
      "#    process_url(url, 'http://www.motherjones.com', '2014', '<title>', '</title>' , '<div id=\"node-header\" class=\"clear-block\">', '<div id=\"node-footer\" class=\"clear-block\">', 'Mother Jones', 'L')"
     ],
     "language": "python",
     "metadata": {},
     "outputs": [
      {
       "output_type": "stream",
       "stream": "stdout",
       "text": [
        "\n",
        "urls\n",
        "\n",
        "BBC News - Russia economy: Why does rouble keep sliding?\n"
       ]
      },
      {
       "output_type": "stream",
       "stream": "stdout",
       "text": [
        "\n",
        "/news/business-30182161\n",
        "http://www.bbc.co.uk/\n",
        "http://www.bbc.com/future/\n",
        "BBC News - Ministers to chart Ariane rocket's future\n"
       ]
      },
      {
       "output_type": "stream",
       "stream": "stdout",
       "text": [
        "\n",
        "/news/science-environment-30251863\n",
        "/mediaaction/\n",
        "/sport/0/\n",
        "BBC News - Special reports\n"
       ]
      },
      {
       "output_type": "stream",
       "stream": "stdout",
       "text": [
        "\n",
        "/news/special_reports/\n",
        "BBC News - The Editors\n"
       ]
      },
      {
       "output_type": "stream",
       "stream": "stdout",
       "text": [
        "\n",
        "/news/blogs/the_editors/\n",
        "http://www.bbc.co.uk/news/world-asia-30271995\n",
        "http://www.bbc.co.uk/guidance/\n",
        "BBC News - Ferguson decision: Darren Wilson's testimony\n"
       ]
      },
      {
       "output_type": "stream",
       "stream": "stdout",
       "text": [
        "\n",
        "/news/world-us-canada-30189966"
       ]
      },
      {
       "output_type": "stream",
       "stream": "stdout",
       "text": [
        "\n",
        "http://www.bbc.co.uk/news/magazine-30043875\n",
        "BBC News - BBC Music Sound Of 2015: Longlist of 15 rising artists named\n"
       ]
      },
      {
       "output_type": "stream",
       "stream": "stdout",
       "text": [
        "\n",
        "/news/entertainment-arts-30225442\n",
        "BBC News - Ebola crisis: Struggling to change behaviour in Sierra Leone\n"
       ]
      },
      {
       "output_type": "stream",
       "stream": "stdout",
       "text": [
        "\n",
        "/news/world-africa-30279932"
       ]
      },
      {
       "output_type": "stream",
       "stream": "stdout",
       "text": [
        "\n",
        "BBC News - Republican aide resigns over Obama daughters row \n"
       ]
      },
      {
       "output_type": "stream",
       "stream": "stdout",
       "text": [
        "\n",
        "/news/world-us-canada-30281738\n",
        "http://www.bbc.com/capital\n",
        "BBC News - Obama to meet with civil rights leaders after Ferguson\n"
       ]
      },
      {
       "output_type": "stream",
       "stream": "stdout",
       "text": [
        "\n",
        "/news/world-us-canada-30281735\n",
        "BBC News - Driver escapes as sinkhole swallows car in China\n"
       ]
      },
      {
       "output_type": "stream",
       "stream": "stdout",
       "text": [
        "\n",
        "/news/world-asia-30271995\n",
        "BBC News - BBC Music Sound Of 2015 longlist revealed\n"
       ]
      },
      {
       "output_type": "stream",
       "stream": "stdout",
       "text": [
        "\n",
        "/news/entertainment-arts-30250416\n",
        "/ws/languages\n",
        "http://www.bbc.co.uk/news/video_and_audio/\n",
        "/chinese\n",
        "/russian\n",
        "http://www.bbc.com/autos\n",
        "BBC News - Home\n"
       ]
      },
      {
       "output_type": "stream",
       "stream": "stdout",
       "text": [
        "\n",
        "/news/"
       ]
      },
      {
       "output_type": "stream",
       "stream": "stdout",
       "text": [
        "\n",
        "http://www.bbcmundo.com/\n",
        "BBC News - Trending\n"
       ]
      },
      {
       "output_type": "stream",
       "stream": "stdout",
       "text": [
        "\n",
        "/news/blogs/trending/"
       ]
      },
      {
       "output_type": "stream",
       "stream": "stdout",
       "text": [
        "\n",
        "http://www.bbc.co.uk/privacy/cookies/about\n",
        "BBC News - Europe\n"
       ]
      },
      {
       "output_type": "stream",
       "stream": "stdout",
       "text": [
        "\n",
        "/news/world/europe/"
       ]
      },
      {
       "output_type": "stream",
       "stream": "stdout",
       "text": [
        "\n",
        "BBC News - India 'sexual harassment' video men held\n"
       ]
      },
      {
       "output_type": "stream",
       "stream": "stdout",
       "text": [
        "\n",
        "/news/world-asia-india-30272291\n",
        "http://www.bbc.co.uk/terms/\n",
        "BBC News - Australia\n"
       ]
      },
      {
       "output_type": "stream",
       "stream": "stdout",
       "text": [
        "\n",
        "/news/world/australia/\n",
        "BBC News - Islamic State conflict\n"
       ]
      },
      {
       "output_type": "stream",
       "stream": "stdout",
       "text": [
        "\n",
        "/news/24758587"
       ]
      },
      {
       "output_type": "stream",
       "stream": "stdout",
       "text": [
        "\n",
        "BBC News - How world\u2019s worst Ebola outbreak began with one boy\u2019s death\n"
       ]
      },
      {
       "output_type": "stream",
       "stream": "stdout",
       "text": [
        "\n",
        "/news/world-africa-30199004\n",
        "http://www.bbc.co.uk/news/world-australia-30271707\n",
        "http://www.bbc.co.uk/news/magazine/\n",
        "http://www.bbc.com/capital/story/20141128-battling-cancers-financial-ruin\n",
        "BBC News - Doctor Myles Bradbury jailed for abusing young patients\n"
       ]
      },
      {
       "output_type": "stream",
       "stream": "stdout",
       "text": [
        "\n",
        "/news/uk-england-cambridgeshire-30273548\n",
        "http://www.bbc.co.uk/news/world-asia-30275513\n",
        "BBC NEWS | Business | Market Data | Stock Markets | Frankfurt Stock Exchange XETRA | Dax DEX.\n"
       ]
      },
      {
       "output_type": "stream",
       "stream": "stdout",
       "text": [
        "\n",
        "/news/business/market_data/stockmarket/18/default.stm"
       ]
      },
      {
       "output_type": "stream",
       "stream": "stdout",
       "text": [
        "\n",
        "http://www.bbcpersian.com/\n",
        "BBC News - This is BBC News\n"
       ]
      },
      {
       "output_type": "stream",
       "stream": "stdout",
       "text": [
        "\n",
        "/news/19888761\n",
        "BBC News - Annie among 'leaked' Sony films following cyber-attack\n"
       ]
      },
      {
       "output_type": "stream",
       "stream": "stdout",
       "text": [
        "\n",
        "/news/technology-30276049\n",
        "http://www.bbc.co.uk/iplayer/episode/p02cn11h/Newshour_More_Fifa_Skulduggery_Allegations/\n",
        "http://www.bbc.co.uk/news/world-us-canada-29019769\n",
        "http://www.bbc.com/culture/story/20141128-ten-films-to-watch-in-december\n",
        "BBC News - AC/DC: Still rocking after difficult year\n"
       ]
      },
      {
       "output_type": "stream",
       "stream": "stdout",
       "text": [
        "\n",
        "/news/entertainment-arts-30275195\n",
        "BBC News - Nigeria's 'Boko Haram attacks Maiduguri and Damaturu' \n"
       ]
      },
      {
       "output_type": "stream",
       "stream": "stdout",
       "text": [
        "\n",
        "/news/world-africa-30280888\n",
        "http://www.bbc.com/earth/story/20141128-these-animals-see-colour-at-night\n",
        "BBC News - 'Screen more' for cancer risk genes\n"
       ]
      },
      {
       "output_type": "stream",
       "stream": "stdout",
       "text": [
        "\n",
        "/news/health-30246072\n",
        "BBC News - Ferguson protests: How many cities have the same problems?\n"
       ]
      },
      {
       "output_type": "stream",
       "stream": "stdout",
       "text": [
        "\n",
        "/news/world-us-canada-30200543"
       ]
      },
      {
       "output_type": "stream",
       "stream": "stdout",
       "text": [
        "\n",
        "BBC News - Ferguson riots: The day after in pictures\n"
       ]
      },
      {
       "output_type": "stream",
       "stream": "stdout",
       "text": [
        "\n",
        "/news/world-us-canada-30200782\n",
        "BBC News - Scientists make enzymes from scratch\n"
       ]
      },
      {
       "output_type": "stream",
       "stream": "stdout",
       "text": [
        "\n",
        "/news/health-30274635\n",
        "BBC News - UN climate talks begin as global temperatures break records\n"
       ]
      },
      {
       "output_type": "stream",
       "stream": "stdout",
       "text": [
        "\n",
        "/news/science-environment-30225511\n",
        "http://www.bbc.com/news/correspondents/jonsopel/\n",
        "http://www.bbc.co.uk/news/world-australia-30225276\n",
        "BBC News - Father arrested after missing Georgia boy found behind fake wall\n"
       ]
      },
      {
       "output_type": "stream",
       "stream": "stdout",
       "text": [
        "\n",
        "/news/world-us-canada-30266807\n",
        "http://www.bbc.co.uk/weather/\n",
        "#blq-local-nav\n",
        "BBC News - Technology\n"
       ]
      },
      {
       "output_type": "stream",
       "stream": "stdout",
       "text": [
        "\n",
        "/news/technology/"
       ]
      },
      {
       "output_type": "stream",
       "stream": "stdout",
       "text": [
        "\n",
        "BBC News - World Aids Day: Prince Harry reveals fear of public speaking\n"
       ]
      },
      {
       "output_type": "stream",
       "stream": "stdout",
       "text": [
        "\n",
        "/news/uk-30272563\n",
        "BBC News - In Pictures\n"
       ]
      },
      {
       "output_type": "stream",
       "stream": "stdout",
       "text": [
        "\n",
        "/news/in_pictures/\n",
        "BBC News - Day in pictures: 1 December 2014\n"
       ]
      },
      {
       "output_type": "stream",
       "stream": "stdout",
       "text": [
        "\n",
        "/news/in-pictures-30274029\n",
        "/worldservice/\n",
        "BBC News - Oil prices hit fresh four-year lows in wake of Opec meeting\n"
       ]
      },
      {
       "output_type": "stream",
       "stream": "stdout",
       "text": [
        "\n",
        "/news/business-30247276\n",
        "http://www.bbc.co.uk/radio/\n",
        "http://www.bbc.co.uk/news/world-asia-india-30272204\n",
        "http://www.bbc.com/earth/story/20141128-the-other-great-barrier-reef\n",
        "BBC News - News sources\n"
       ]
      },
      {
       "output_type": "stream",
       "stream": "stdout",
       "text": [
        "\n",
        "/news/10621655\n",
        "BBC News - Ferguson: Did prosecutors focus unduly on marijuana?\n"
       ]
      },
      {
       "output_type": "stream",
       "stream": "stdout",
       "text": [
        "\n",
        "/news/blogs-echochambers-30216293"
       ]
      },
      {
       "output_type": "stream",
       "stream": "stdout",
       "text": [
        "\n",
        "http://www.bbc.com/future/story/20141201-the-myths-about-ptsd\n",
        "BBC News - Asia\n"
       ]
      },
      {
       "output_type": "stream",
       "stream": "stdout",
       "text": [
        "\n",
        "/news/world/asia/"
       ]
      },
      {
       "output_type": "stream",
       "stream": "stdout",
       "text": [
        "\n",
        "BBC News - Star Wars trailer inspires fan parodies\n"
       ]
      },
      {
       "output_type": "stream",
       "stream": "stdout",
       "text": [
        "\n",
        "/news/entertainment-arts-30274348\n",
        "http://www.bbc.co.uk/programmes/p02cznlc\n",
        "BBC News - Firefighters to hold fresh 24-hour strike over pensions\n"
       ]
      },
      {
       "output_type": "stream",
       "stream": "stdout",
       "text": [
        "\n",
        "/news/uk-30282017\n",
        "BBC News - Contacting BBC News programmes\n"
       ]
      },
      {
       "output_type": "stream",
       "stream": "stdout",
       "text": [
        "\n",
        "/news/21323537\n",
        "http://www.bbc.co.uk/news/world-asia-india-30272285\n",
        "BBC News - Middle East\n"
       ]
      },
      {
       "output_type": "stream",
       "stream": "stdout",
       "text": [
        "\n",
        "/news/world/middle_east/"
       ]
      },
      {
       "output_type": "stream",
       "stream": "stdout",
       "text": [
        "\n",
        "BBC News - Ukraine crisis: New battle rages at Donetsk airport\n"
       ]
      },
      {
       "output_type": "stream",
       "stream": "stdout",
       "text": [
        "\n",
        "/news/world-europe-30275259\n",
        "BBC News - Tabare Vazquez wins Uruguay's run-off election\n"
       ]
      },
      {
       "output_type": "stream",
       "stream": "stdout",
       "text": [
        "\n",
        "/news/world-latin-america-30268862\n",
        "/portuguese\n",
        "BBC NEWS | Business | Market Data | Stock Markets | FTSE BBC Index Exchange FTSEBBC | BBC Global 30 BBC30\n"
       ]
      },
      {
       "output_type": "stream",
       "stream": "stdout",
       "text": [
        "\n",
        "/news/business/market_data/stockmarket/29954/default.stm"
       ]
      },
      {
       "output_type": "stream",
       "stream": "stdout",
       "text": [
        "\n",
        "BBC News - One woman's fight against Ebola\n"
       ]
      },
      {
       "output_type": "stream",
       "stream": "stdout",
       "text": [
        "\n",
        "/news/in-pictures-30190963"
       ]
      },
      {
       "output_type": "stream",
       "stream": "stdout",
       "text": [
        "\n",
        " BBC NEWS | Marketwatch\n"
       ]
      },
      {
       "output_type": "stream",
       "stream": "stdout",
       "text": [
        "\n",
        "/news/business/market_data/ticker/markets/default.stm\n",
        "http://www.bbc.co.uk/news/world-asia-30276668\n",
        "BBC News - Africa\n"
       ]
      },
      {
       "output_type": "stream",
       "stream": "stdout",
       "text": [
        "\n",
        "/news/world/africa/"
       ]
      },
      {
       "output_type": "stream",
       "stream": "stdout",
       "text": [
        "\n",
        "BBC News - What will 5G devices look like?\n"
       ]
      },
      {
       "output_type": "stream",
       "stream": "stdout",
       "text": [
        "\n",
        "/news/technology-30232260\n",
        "BBC News - 'Brain changes' seen in young American footballers\n"
       ]
      },
      {
       "output_type": "stream",
       "stream": "stdout",
       "text": [
        "\n",
        "/news/health-30248886\n",
        "BBC News - Day in pictures: 26 November 2014\n"
       ]
      },
      {
       "output_type": "stream",
       "stream": "stdout",
       "text": [
        "\n",
        "/news/in-pictures-30207168\n",
        "BBC News - Your pictures: Insects\n"
       ]
      },
      {
       "output_type": "stream",
       "stream": "stdout",
       "text": [
        "\n",
        "/news/in-pictures-30207169\n",
        "BBC News - Hooray for cheap oil\n"
       ]
      },
      {
       "output_type": "stream",
       "stream": "stdout",
       "text": [
        "\n",
        "/news/business-30273896"
       ]
      },
      {
       "output_type": "stream",
       "stream": "stdout",
       "text": [
        "\n",
        "http://www.bbc.co.uk/news/explainers\n",
        "http://www.bbc.com/autos/story/20141130-this-modified-oldsmobile-from-1963-believed-to-be-the-first-licensed-batmobile-is-set-to-go-under-the-hammer-in-the-us\n",
        "Home - BBC News\n"
       ]
      },
      {
       "output_type": "stream",
       "stream": "stdout",
       "text": [
        "\n",
        "/news/mobile/"
       ]
      },
      {
       "output_type": "stream",
       "stream": "stdout",
       "text": [
        "\n",
        "BBC News - Echo Chambers\n"
       ]
      },
      {
       "output_type": "stream",
       "stream": "stdout",
       "text": [
        "\n",
        "/news/blogs/echochambers/"
       ]
      },
      {
       "output_type": "stream",
       "stream": "stdout",
       "text": [
        "\n",
        "BBC News - Baby girl's body found buried on Maroubra beach in Sydney\n"
       ]
      },
      {
       "output_type": "stream",
       "stream": "stdout",
       "text": [
        "\n",
        "/news/world-australia-30272917\n",
        "BBC NEWS | Business | Market Data | Stock Markets | Dow Jones Stock Exchange DJSE | Dow Jones INDU\n"
       ]
      },
      {
       "output_type": "stream",
       "stream": "stdout",
       "text": [
        "\n",
        "/news/business/market_data/stockmarket/2/default.stm"
       ]
      },
      {
       "output_type": "stream",
       "stream": "stdout",
       "text": [
        "\n",
        "BBC News - Free wedding for thousands of Brazilian couples in Rio\n"
       ]
      },
      {
       "output_type": "stream",
       "stream": "stdout",
       "text": [
        "\n",
        "/news/world-latin-america-30271998\n",
        "BBC News - Charlize Theron on Aids: We cannot just wait for cure\n"
       ]
      },
      {
       "output_type": "stream",
       "stream": "stdout",
       "text": [
        "\n",
        "/news/world-30272198\n",
        "http://www.bbc.co.uk/news/technology-30224853\n",
        "http://www.bbc.co.uk/news/uk-30272563\n",
        "BBC News - Australia sweats over extreme hot weather\n"
       ]
      },
      {
       "output_type": "stream",
       "stream": "stdout",
       "text": [
        "\n",
        "/news/world-australia-30225276\n",
        "BBC News - #BBCtrending: Jailed journalist Peter Greste's name trends\n"
       ]
      },
      {
       "output_type": "stream",
       "stream": "stdout",
       "text": [
        "\n",
        "/news/blogs-trending-30283129\n",
        "BBC News - BBC News Alerts\n"
       ]
      },
      {
       "output_type": "stream",
       "stream": "stdout",
       "text": [
        "\n",
        "/news/10628323\n",
        "http://www.bbc.co.uk/news/world-us-canada-30281735\n",
        "BBC News - 'Counterfeit' domains seized by Europol\n"
       ]
      },
      {
       "output_type": "stream",
       "stream": "stdout",
       "text": [
        "\n",
        "/news/technology-30276056\n",
        "/editorialguidelines/\n",
        "#main-content\n",
        "http://www.bbc.co.uk/news/business-30276353\n",
        "http://www.bbc.com/travel/feature/20141104-a-death-defying-ride-along-scotlands-cuillin-range\n",
        "BBC News - Day in pictures: 28 November 2014\n"
       ]
      },
      {
       "output_type": "stream",
       "stream": "stdout",
       "text": [
        "\n",
        "/news/in-pictures-30244842\n",
        "http://www.bbc.co.uk/worldserviceradio\n",
        "BBC NEWS | Business | Market Data | Stock Markets | London Stock Exchange LSE | FTSE 100 UKX\n"
       ]
      },
      {
       "output_type": "stream",
       "stream": "stdout",
       "text": [
        "\n",
        "/news/business/market_data/stockmarket/3/default.stm"
       ]
      },
      {
       "output_type": "stream",
       "stream": "stdout",
       "text": [
        "\n",
        "BBC News - US Black Friday sales fall 11% on sluggish demand\n"
       ]
      },
      {
       "output_type": "stream",
       "stream": "stdout",
       "text": [
        "\n",
        "/news/business-30283768\n",
        "BBC News - Hong Kong protesters warned not to return to clash site\n"
       ]
      },
      {
       "output_type": "stream",
       "stream": "stdout",
       "text": [
        "\n",
        "/news/world-asia-china-30275844\n",
        "#display-opt-in-promo\n",
        "http://twitter.com/BBCWorld\n",
        "BBC News - Baby's body found buried on Maroubra beach in Sydney\n"
       ]
      },
      {
       "output_type": "stream",
       "stream": "stdout",
       "text": [
        "\n",
        "/news/world-australia-30271698"
       ]
      },
      {
       "output_type": "stream",
       "stream": "stdout",
       "text": [
        "\n",
        "http://www.bbc.co.uk/news/science-environment-30225511\n",
        "BBC News - The man whose ashes are scattered in more than 100 countries\n"
       ]
      },
      {
       "output_type": "stream",
       "stream": "stdout",
       "text": [
        "\n",
        "/news/magazine-30045623\n",
        "BBC NEWS | Business | Market Data | Overview\n"
       ]
      },
      {
       "output_type": "stream",
       "stream": "stdout",
       "text": [
        "\n",
        "/news/business/market_data/overview/default.stm"
       ]
      },
      {
       "output_type": "stream",
       "stream": "stdout",
       "text": [
        "\n",
        "http://www.bbc.co.uk/news/world-africa-30274843\n",
        "BBC News - Canadian mum flouts cannabis law for treatment\n"
       ]
      },
      {
       "output_type": "stream",
       "stream": "stdout",
       "text": [
        "\n",
        "/news/world-us-canada-30183434\n",
        "BBC News - US race relations: Surprising statistics\n"
       ]
      },
      {
       "output_type": "stream",
       "stream": "stdout",
       "text": [
        "\n",
        "/news/world-us-canada-30214825"
       ]
      },
      {
       "output_type": "stream",
       "stream": "stdout",
       "text": [
        "\n",
        "http://www.bbc.com/travel/\n",
        "BBC News - Nazi war criminal Alois Brunner 'died in Syria'\n"
       ]
      },
      {
       "output_type": "stream",
       "stream": "stdout",
       "text": [
        "\n",
        "/news/world-europe-30275358\n",
        "/arabic\n",
        "BBC News - Putin problem gives Nato headache\n"
       ]
      },
      {
       "output_type": "stream",
       "stream": "stdout",
       "text": [
        "\n",
        "/news/world-30273813\n",
        "http://www.bbc.com/earth/\n",
        "BBC News - Entertainment & Arts\n"
       ]
      },
      {
       "output_type": "stream",
       "stream": "stdout",
       "text": [
        "\n",
        "/news/entertainment_and_arts/"
       ]
      },
      {
       "output_type": "stream",
       "stream": "stdout",
       "text": [
        "\n",
        "BBC News - US & Canada\n"
       ]
      },
      {
       "output_type": "stream",
       "stream": "stdout",
       "text": [
        "\n",
        "/news/world/us_and_canada/"
       ]
      },
      {
       "output_type": "stream",
       "stream": "stdout",
       "text": [
        "\n",
        "BBC News - BBC News on your mobile\n"
       ]
      },
      {
       "output_type": "stream",
       "stream": "stdout",
       "text": [
        "\n",
        "/news/10628994\n",
        "BBC News - News feeds from the BBC\n"
       ]
      },
      {
       "output_type": "stream",
       "stream": "stdout",
       "text": [
        "\n",
        "/news/10628494\n",
        "http://www.bbc.co.uk/news/world-africa-30272912\n",
        "http://www.bbc.co.uk/accessibility/\n",
        "http://www.bbc.co.uk/news/world-us-canada-30281738\n",
        "BBC News - Lewis Hamilton: A photographer's view \n"
       ]
      },
      {
       "output_type": "stream",
       "stream": "stdout",
       "text": [
        "\n",
        "/news/in-pictures-30213023"
       ]
      },
      {
       "output_type": "stream",
       "stream": "stdout",
       "text": [
        "\n",
        "/sport/0/football/30278181\n",
        "http://www.bbc.co.uk/news/the_reporters\n",
        "https://www.facebook.com/bbcnews\n",
        "BBC News - One-minute World News\n"
       ]
      },
      {
       "output_type": "stream",
       "stream": "stdout",
       "text": [
        "\n",
        "/news/10462520\n",
        "BBC News - What's behind the downfall of Thailand's Princess Srirasmi?\n"
       ]
      },
      {
       "output_type": "stream",
       "stream": "stdout",
       "text": [
        "\n",
        "/news/world-asia-30275513\n",
        "BBC News - South Korean trawler sinks off Russia's Far East\n"
       ]
      },
      {
       "output_type": "stream",
       "stream": "stdout",
       "text": [
        "\n",
        "/news/world-asia-30275511"
       ]
      },
      {
       "output_type": "stream",
       "stream": "stdout",
       "text": [
        "\n",
        "BBC News - World Aids day: Where did it come from?\n"
       ]
      },
      {
       "output_type": "stream",
       "stream": "stdout",
       "text": [
        "\n",
        "/news/health-30243942\n",
        "http://shop.bbc.com/\n",
        "http://www.bbc.co.uk/privacy/\n",
        "/sport/0/football/30283225\n",
        "http://www.bbc.co.uk/news/world-europe-30268653\n",
        "http://www.bbc.co.uk/news/world-us-canada-29668709\n",
        "http://www.bbc.com/future\n",
        "BBC News - World News TV\n"
       ]
      },
      {
       "output_type": "stream",
       "stream": "stdout",
       "text": [
        "\n",
        "/news/world_radio_and_tv/\n",
        "BBC News - Taxi-app firm Uber hit by legal challenges and bans\n"
       ]
      },
      {
       "output_type": "stream",
       "stream": "stdout",
       "text": [
        "\n",
        "/news/technology-30274979\n",
        "BBC News - India 'Eve-tease' fightback video goes viral\n"
       ]
      },
      {
       "output_type": "stream",
       "stream": "stdout",
       "text": [
        "\n",
        "/news/world-asia-india-30272204\n",
        "BBC News - Oil price slide and sanctions 'cost Russia $140bn'\n"
       ]
      },
      {
       "output_type": "stream",
       "stream": "stdout",
       "text": [
        "\n",
        "/news/business-30174650\n",
        "http://www.bbc.co.uk/a-z/\n",
        "BBC News - China's manufacturing growth slows again in November\n"
       ]
      },
      {
       "output_type": "stream",
       "stream": "stdout",
       "text": [
        "\n",
        "/news/business-30272091\n",
        "http://www.bbc.com/capital/story/20141121-dont-forget-this-on-your-cv\n",
        "http://www.bbc.co.uk/news/magazine-30204654\n",
        "BBC News - Wristband gives '255 volt shocks\u2019 \n"
       ]
      },
      {
       "output_type": "stream",
       "stream": "stdout",
       "text": [
        "\n",
        "/news/technology-30182607\n",
        "BBC News - Hunger Games: Fact and fiction collide\n"
       ]
      },
      {
       "output_type": "stream",
       "stream": "stdout",
       "text": [
        "\n",
        "/news/blogs-echochambers-30216289\n",
        "http://www.bbc.co.uk/help/web/links/\n",
        "BBC News - #BBCTrending: Chechen leader sends mixed Instagram messages\n"
       ]
      },
      {
       "output_type": "stream",
       "stream": "stdout",
       "text": [
        "\n",
        "/news/blogs-trending-30279010\n",
        "http://www.bbc.com/culture/story/20141201-why-are-dolls-so-creepy\n",
        "BBC NEWS | Business | Market Data | Stock Markets | New York Stock Exchange NYSE | S&P 500 S500\n"
       ]
      },
      {
       "output_type": "stream",
       "stream": "stdout",
       "text": [
        "\n",
        "/news/business/market_data/stockmarket/11826/default.stm"
       ]
      },
      {
       "output_type": "stream",
       "stream": "stdout",
       "text": [
        "\n",
        "http://www.bbc.co.uk/aboutthebbc/\n",
        "BBC News - BBC News on connected TV\n"
       ]
      },
      {
       "output_type": "stream",
       "stream": "stdout",
       "text": [
        "\n",
        "/news/help-17655000\n",
        "/journalism/\n",
        "BBC News - Rouble falls as oil price hits five-year low\n"
       ]
      },
      {
       "output_type": "stream",
       "stream": "stdout",
       "text": [
        "\n",
        "/news/business-30276353\n",
        "http://www.bbc.co.uk/privacy/cookies/international/\n",
        "http://www.bbc.co.uk/news/world-asia-china-30275844\n",
        "BBC News - The Battle of Waterloo anniversary plans get under way\n"
       ]
      },
      {
       "output_type": "stream",
       "stream": "stdout",
       "text": [
        "\n",
        "/news/world-europe-30272914\n",
        "/sport/0/cricket/30281952\n",
        "http://www.bbc.co.uk/sport/\n",
        "BBC News - Magazine\n"
       ]
      },
      {
       "output_type": "stream",
       "stream": "stdout",
       "text": [
        "\n",
        "/news/magazine/"
       ]
      },
      {
       "output_type": "stream",
       "stream": "stdout",
       "text": [
        "\n",
        "/sport/live/29697277\n",
        "BBC NEWS | Business | Market Data | Stock Markets | Nasdaq Exchange NASDAQ | Nasdaq IXIC\n"
       ]
      },
      {
       "output_type": "stream",
       "stream": "stdout",
       "text": [
        "\n",
        "/news/business/market_data/stockmarket/12122/default.stm"
       ]
      },
      {
       "output_type": "stream",
       "stream": "stdout",
       "text": [
        "\n",
        "BBC News - Ebola crisis: WHO upbeat on targets\n"
       ]
      },
      {
       "output_type": "stream",
       "stream": "stdout",
       "text": [
        "\n",
        "/news/world-africa-30281306"
       ]
      },
      {
       "output_type": "stream",
       "stream": "stdout",
       "text": [
        "\n",
        "http://www.bbc.co.uk/podcasts/series/scia\n",
        "http://www.bbc.co.uk/iplayer/console/bbc_world_service\n",
        "BBC News - Health\n"
       ]
      },
      {
       "output_type": "stream",
       "stream": "stdout",
       "text": [
        "\n",
        "/news/health/"
       ]
      },
      {
       "output_type": "stream",
       "stream": "stdout",
       "text": [
        "\n",
        "/sport/0/cricket/30271366\n",
        "/vietnamese\n",
        "/sport/0/american-football/30272449\n",
        "BBC News - Why furious fightback sisters gripped India\n"
       ]
      },
      {
       "output_type": "stream",
       "stream": "stdout",
       "text": [
        "\n",
        "/news/world-asia-30273927"
       ]
      },
      {
       "output_type": "stream",
       "stream": "stdout",
       "text": [
        "\n",
        "BBC News - Russian cinema's 'masterpiece' Leviathan bucks backlash\n"
       ]
      },
      {
       "output_type": "stream",
       "stream": "stdout",
       "text": [
        "\n",
        "/news/world-europe-30234194"
       ]
      },
      {
       "output_type": "stream",
       "stream": "stdout",
       "text": [
        "\n",
        "BBC News - Tjipetir mystery: Why are rubber-like blocks washing up on beaches?\n"
       ]
      },
      {
       "output_type": "stream",
       "stream": "stdout",
       "text": [
        "\n",
        "/news/magazine-30043875"
       ]
      },
      {
       "output_type": "stream",
       "stream": "stdout",
       "text": [
        "\n",
        "http://www.bbc.com/news/\n",
        "http://advertising.bbcworldwide.com\n",
        "BBC News - The singing sailor of Oman\n"
       ]
      },
      {
       "output_type": "stream",
       "stream": "stdout",
       "text": [
        "\n",
        "/news/blogs-magazine-monitor-30248123"
       ]
      },
      {
       "output_type": "stream",
       "stream": "stdout",
       "text": [
        "\n",
        "http://www.bbc.com/earth\n",
        "http://www.bbc.co.uk/news/world-asia-india-30278028\n",
        "BBC News - Roads funding: \u00a315bn to be spent on schemes for England\n"
       ]
      },
      {
       "output_type": "stream",
       "stream": "stdout",
       "text": [
        "\n",
        "/news/business-30269231"
       ]
      },
      {
       "output_type": "stream",
       "stream": "stdout",
       "text": [
        "\n",
        "BBC News - Have Your Say\n"
       ]
      },
      {
       "output_type": "stream",
       "stream": "stdout",
       "text": [
        "\n",
        "/news/have_your_say/"
       ]
      },
      {
       "output_type": "stream",
       "stream": "stdout",
       "text": [
        "\n",
        "http://feeds.bbci.co.uk/news/rss.xml\n",
        "/sport/0/football/30272809\n",
        "BBC News - How did immigration debate get so toxic?\n"
       ]
      },
      {
       "output_type": "stream",
       "stream": "stdout",
       "text": [
        "\n",
        "/news/world-us-canada-30139606"
       ]
      },
      {
       "output_type": "stream",
       "stream": "stdout",
       "text": [
        "\n",
        "BBC News - UK\n"
       ]
      },
      {
       "output_type": "stream",
       "stream": "stdout",
       "text": [
        "\n",
        "/news/uk/"
       ]
      },
      {
       "output_type": "stream",
       "stream": "stdout",
       "text": [
        "\n",
        "BBC News - Syria conflict: WFP suspends refugee food aid scheme\n"
       ]
      },
      {
       "output_type": "stream",
       "stream": "stdout",
       "text": [
        "\n",
        "/news/world-middle-east-30275514"
       ]
      },
      {
       "output_type": "stream",
       "stream": "stdout",
       "text": [
        "\n",
        "http://www.bbc.com/future/story/20141127-the-last-unmapped-places\n",
        "http://www.bbc.co.uk/tv/\n",
        "http://www.bbc.co.uk/iplayer/episode/b04pr5gp/From_Our_Own_Correspondent_The_Buckwheat_Barometer/\n",
        "http://www.bbc.com/travel/feature/20141121-is-this-the-original-hamburger\n",
        "BBC News - Latin America & Caribbean\n"
       ]
      },
      {
       "output_type": "stream",
       "stream": "stdout",
       "text": [
        "\n",
        "/news/world/latin_america/"
       ]
      },
      {
       "output_type": "stream",
       "stream": "stdout",
       "text": [
        "\n",
        "http://www.bbcurdu.com/\n",
        "http://www.bbc.com/culture\n",
        "BBC News - Sleeping with the fishes: Africa's first underwater hotel\n"
       ]
      },
      {
       "output_type": "stream",
       "stream": "stdout",
       "text": [
        "\n",
        "/news/world-africa-30272912"
       ]
      },
      {
       "output_type": "stream",
       "stream": "stdout",
       "text": [
        "\n",
        "http://www.bbc.co.uk/news/entertainment-arts-30155434\n",
        "BBC News - World Aids Day: Pakistani patient on living with the condition\n"
       ]
      },
      {
       "output_type": "stream",
       "stream": "stdout",
       "text": [
        "\n",
        "/news/health-30272199"
       ]
      },
      {
       "output_type": "stream",
       "stream": "stdout",
       "text": [
        "\n",
        "BBC News - World Aids Day: Overcoming fear of taking ARVs\n"
       ]
      },
      {
       "output_type": "stream",
       "stream": "stdout",
       "text": [
        "\n",
        "/news/world-africa-30251463"
       ]
      },
      {
       "output_type": "stream",
       "stream": "stdout",
       "text": [
        "\n",
        "/sport/0/football/30276210\n",
        "BBC News - Viral video of Indian sisters fighting alleged harassers \n"
       ]
      },
      {
       "output_type": "stream",
       "stream": "stdout",
       "text": [
        "\n",
        "/news/world-asia-30276668"
       ]
      },
      {
       "output_type": "stream",
       "stream": "stdout",
       "text": [
        "\n",
        "#\n",
        "BBC News - Why Texas is closing prisons in favour of rehab\n"
       ]
      },
      {
       "output_type": "stream",
       "stream": "stdout",
       "text": [
        "\n",
        "/news/world-us-canada-30275026"
       ]
      },
      {
       "output_type": "stream",
       "stream": "stdout",
       "text": [
        "\n",
        "http://www.bbc.com/autos/story/20141126-bbc-autos-holiday-gift-guide\n",
        "BBC News - The lion-killer who became an Israeli hero\n"
       ]
      },
      {
       "output_type": "stream",
       "stream": "stdout",
       "text": [
        "\n",
        "/news/magazine-30248216"
       ]
      },
      {
       "output_type": "stream",
       "stream": "stdout",
       "text": [
        "\n",
        "BBC News - Email News\n"
       ]
      },
      {
       "output_type": "stream",
       "stream": "stdout",
       "text": [
        "\n",
        "/news/help/16617948"
       ]
      },
      {
       "output_type": "stream",
       "stream": "stdout",
       "text": [
        "\n",
        "http://m.bbc.co.uk\n",
        "BBC News - Science & Environment\n"
       ]
      },
      {
       "output_type": "stream",
       "stream": "stdout",
       "text": [
        "\n",
        "/news/science_and_environment/"
       ]
      },
      {
       "output_type": "stream",
       "stream": "stdout",
       "text": [
        "\n",
        "BBC News - Business\n"
       ]
      },
      {
       "output_type": "stream",
       "stream": "stdout",
       "text": [
        "\n",
        "/news/business/"
       ]
      },
      {
       "output_type": "stream",
       "stream": "stdout",
       "text": [
        "\n",
        "BBC News - Also in the News\n"
       ]
      },
      {
       "output_type": "stream",
       "stream": "stdout",
       "text": [
        "\n",
        "/news/also_in_the_news/"
       ]
      },
      {
       "output_type": "stream",
       "stream": "stdout",
       "text": [
        "\n",
        "BBC News - Gordon Brown 'to announce he will stand down as MP'\n"
       ]
      },
      {
       "output_type": "stream",
       "stream": "stdout",
       "text": [
        "\n",
        "/news/uk-politics-30277709"
       ]
      },
      {
       "output_type": "stream",
       "stream": "stdout",
       "text": [
        "\n",
        "BBC News - Ebola mission chief Tony Banbury: Huge risk of spread\n"
       ]
      },
      {
       "output_type": "stream",
       "stream": "stdout",
       "text": [
        "\n",
        "/news/world-africa-30271997"
       ]
      },
      {
       "output_type": "stream",
       "stream": "stdout",
       "text": [
        "\n",
        "BBC News - Week in pictures: 22-28 November 2014\n"
       ]
      },
      {
       "output_type": "stream",
       "stream": "stdout",
       "text": [
        "\n",
        "/news/in-pictures-30244843"
       ]
      },
      {
       "output_type": "stream",
       "stream": "stdout",
       "text": [
        "\n",
        "BBC News - Missing boy: Atlanta false wall find after four years\n"
       ]
      },
      {
       "output_type": "stream",
       "stream": "stdout",
       "text": [
        "\n",
        "/news/world-us-canada-30265660"
       ]
      },
      {
       "output_type": "stream",
       "stream": "stdout",
       "text": [
        "\n",
        "http://www.bbc.co.uk/news/technology-30182607\n",
        "http://www.bbc.co.uk/news/health-30243942\n",
        "BBC News - Kirk Douglas obituary accidentally published by People\n"
       ]
      },
      {
       "output_type": "stream",
       "stream": "stdout",
       "text": [
        "\n",
        "/news/entertainment-arts-30274079\n",
        "BBC News - In 60 seconds: What is Ebola?\n"
       ]
      },
      {
       "output_type": "stream",
       "stream": "stdout",
       "text": [
        "\n",
        "/news/health-28105531"
       ]
      },
      {
       "output_type": "stream",
       "stream": "stdout",
       "text": [
        "\n",
        "http://www.bbc.co.uk/news/world-europe-30275358\n",
        "BBC News - Dangerous job of grave digging in Ebola hit Sierra Leone\n"
       ]
      },
      {
       "output_type": "stream",
       "stream": "stdout",
       "text": [
        "\n",
        "/news/health-30273824\n",
        "http://www.bbc.co.uk/podcasts/worldservice\n",
        "http://www.bbc.co.uk/news/\n"
       ]
      }
     ],
     "prompt_number": 21
    },
    {
     "cell_type": "code",
     "collapsed": false,
     "input": [],
     "language": "python",
     "metadata": {},
     "outputs": []
    }
   ],
   "metadata": {}
  }
 ]
}