{
 "metadata": {
  "name": "",
  "signature": "sha256:d277a160ba00b53e65a42a0a07c07c6831651029a9d0ec8696f451fe6007157d"
 },
 "nbformat": 3,
 "nbformat_minor": 0,
 "worksheets": [
  {
   "cells": [
    {
     "cell_type": "markdown",
     "metadata": {},
     "source": [
      "<h2 align=\"center\">slant parse: <br><br> Using Machine Learning to Determine the Political Leanings of News Publications</h2>\n",
      "\n",
      "<br><center>Serena L Booth, Harvard College, Class of 2016</center>\n",
      "\n",
      "<center>Joseph M Booth, Harvard College, Class of 2015</center>\n",
      "\n",
      "\n",
      "---"
     ]
    },
    {
     "cell_type": "markdown",
     "metadata": {},
     "source": [
      "# Part 1: Data Collection"
     ]
    },
    {
     "cell_type": "code",
     "collapsed": false,
     "input": [
      "import urllib\n",
      "import csv\n",
      "from bs4 import BeautifulSoup\n",
      "from sets import Set\n",
      "from sgmllib import SGMLParser\n",
      "import pickle \n",
      "\n",
      "# cite: https://github.com/chungy/diveintopython/blob/master/py/urllister.py\n",
      "class URLLister(SGMLParser):\n",
      "    def reset(self):\n",
      "        SGMLParser.reset(self)\n",
      "        self.urls = []\n",
      "\n",
      "    def start_a(self, attrs):\n",
      "        href = [v for k, v in attrs if k=='href']\n",
      "        if href:\n",
      "            self.urls.extend(href)\n",
      "            \n",
      "def process_url(url, url_mod, start_title_delim, end_title_delim, start_article_delim, end_article_delim, name, pol):\n",
      "    if str(url)[0] == '/' and str(url).find('2014') != -1: \n",
      "        with open('articles.csv', 'a+') as csvfile:\n",
      "            #pickled_article_names = pickle.load( open( \"save.p\", \"a+\" ) )\n",
      "\n",
      "            article_writer = csv.writer(csvfile, delimiter='^')\n",
      "            tmp_url = url_mod + str(url)\n",
      "            usock = urllib.urlopen(tmp_url)\n",
      "            html = usock.read()\n",
      "                        \n",
      "            soup_unprocessed = BeautifulSoup(html)\n",
      "            print soup_unprocessed.title.string + '\\n' \n",
      "\n",
      "            title = soup_unprocessed.title.string\n",
      "            title = title.encode(\"utf-8\")\n",
      "\n",
      "            if str(title).find('map') != -1: \n",
      "                mod_content = 'map'\n",
      "            #title = str(html)[str(html).find(start_title_delim) + len(start_title_delim):str(html).find(end_title_delim)]\n",
      "            #title = title[0: title.find('| Mother')]\n",
      "            else: \n",
      "                content = str(html)[str(html).find(start_article_delim) + len (start_article_delim):str(html).find(end_article_delim)]\n",
      "                soup = BeautifulSoup(content)\n",
      "                mod_content = soup.get_text()\n",
      "                mod_content = mod_content.encode(\"utf-8\")\n",
      "\n",
      "            article_writer.writerow([name, pol, title, mod_content])\n",
      "            usock.close()\n",
      "        \n",
      "            \n",
      "\n",
      "def scrape(start_url, iterator, url_list, url_mod):                \n",
      "    if iterator > 1: \n",
      "        return set()\n",
      "    usock = urllib.urlopen(start_url)\n",
      "    parser = URLLister()\n",
      "    html = usock.read()\n",
      "    parser.feed(html)\n",
      "    usock.close()\n",
      "    parser.close()\n",
      "\n",
      "    url_list = url_list.union(parser.urls)\n",
      "    \n",
      "    for url in url_list: \n",
      "        if str(url)[0] == '/': \n",
      "            tmp_url = url_mod + str(url)\n",
      "            try: \n",
      "                tmp_set = scrape(tmp_url, iterator + 1, url_list, url_mod)\n",
      "                url_list = url_list.union(tmp_set) \n",
      "            except IOError: \n",
      "                print \"Couldn't Open\"\n",
      "    return url_list\n",
      "\n",
      "        \n",
      "# call the function\n",
      "url_list = set()  \n",
      "townhall_list = scrape('http://www.townhall.com/', 1, url_list, 'http://www.townhall.com')\n",
      "mother_jones_list = scrape('http://www.motherjones.com/', 1, url_list, 'http://www.motherjones.com')\n",
      "\n",
      "\n",
      "print '\\nurls\\n'\n",
      "\n",
      "for url in townhall_list: \n",
      "    #print url\n",
      "    process_url(url, 'http://www.townhall.com', '<title>', '</title>' , '<ul class=\"breadcrumb\">', '<hr class=\"article-divider\"', 'TownHall', 'C')\n",
      "\n",
      "for url in mother_jones_list:\n",
      "    process_url(url, 'http://www.motherjones.com', '<title>', '</title>' , '<div id=\"node-header\" class=\"clear-block\">', '<div id=\"node-footer\" class=\"clear-block\">', 'Mother Jones', 'L')\n",
      "    \n",
      "\n"
     ],
     "language": "python",
     "metadata": {},
     "outputs": [
      {
       "output_type": "stream",
       "stream": "stdout",
       "text": [
        "\n",
        "urls\n",
        "\n",
        "Free Pass for One Percenter Al Sharpton on $4.5 Million Owed in Taxes - Rachel Alexander -  Page 1\n"
       ]
      },
      {
       "output_type": "stream",
       "stream": "stdout",
       "text": [
        "\n",
        "President Obama Versus George Washington on Thanksgiving - Chuck Norris -  Page 1\n"
       ]
      },
      {
       "output_type": "stream",
       "stream": "stdout",
       "text": [
        "\n",
        "Time for Ferguson to Put Out the Fire  - Charles Payne - Townhall Finance Conservative Columnists and Financial Commentary - Page 1\n"
       ]
      },
      {
       "output_type": "stream",
       "stream": "stdout",
       "text": [
        "\n",
        "Saving People from Themselves - Jack Kerwick -  Page 1\n"
       ]
      },
      {
       "output_type": "stream",
       "stream": "stdout",
       "text": [
        "\n",
        "Why Do some Advocates of Small Government Want to Keep a Democrat Appointee at CBO? - Daniel J. Mitchell - Townhall Finance Conservative Columnists and Financial Commentary - Page 1\n"
       ]
      },
      {
       "output_type": "stream",
       "stream": "stdout",
       "text": [
        "\n",
        "Refuting 7 Lies Liberals Have Told Millennials About Conservatives  - John Hawkins -  Page 1\n"
       ]
      },
      {
       "output_type": "stream",
       "stream": "stdout",
       "text": [
        "\n",
        "Hagel Didn't Start the Fire  - Pat Buchanan -  Page 1\n"
       ]
      },
      {
       "output_type": "stream",
       "stream": "stdout",
       "text": [
        "\n",
        "Let\u2019s Put the White House on Lockdown - John Ransom - Townhall Finance Conservative Columnists and Financial Commentary - Page 1\n"
       ]
      },
      {
       "output_type": "stream",
       "stream": "stdout",
       "text": [
        "\n",
        "More than 40,000 immigrants in TN may benefit from Obama action - Chris Butler\n"
       ]
      },
      {
       "output_type": "stream",
       "stream": "stdout",
       "text": [
        "\n",
        "The Top Four Liberal Reactions to Ferguson Grand Jury - Michael Schaus - Townhall Finance Conservative Columnists and Financial Commentary - Page 1\n"
       ]
      },
      {
       "output_type": "stream",
       "stream": "stdout",
       "text": [
        "\n",
        "Beware of Our Betters - Thomas Sowell -  Page 1\n"
       ]
      },
      {
       "output_type": "stream",
       "stream": "stdout",
       "text": [
        "\n",
        "Why We Oppose Illegal Immigration - George Mano -  Page 1\n"
       ]
      },
      {
       "output_type": "stream",
       "stream": "stdout",
       "text": [
        "\n",
        "Britain Hasn\u2019t Been Invaded Since 1066, Until Now, Its Response: Same as in 1935 - Bethany Blankley -  Page 1\n"
       ]
      },
      {
       "output_type": "stream",
       "stream": "stdout",
       "text": [
        "\n",
        "Obamacare Twice as Likely to Hurt Americans than Help - Sarah Jean Seman \n"
       ]
      },
      {
       "output_type": "stream",
       "stream": "stdout",
       "text": [
        "\n",
        "Center Mass - D.W. Wilber -  Page 1\n"
       ]
      },
      {
       "output_type": "stream",
       "stream": "stdout",
       "text": [
        "\n",
        "Obama's Immigration Policy: How About Putting Americans First - Cal  Thomas -  Page 1\n"
       ]
      },
      {
       "output_type": "stream",
       "stream": "stdout",
       "text": [
        "\n",
        "UC Berkeley Students Ignore Filmmaker Waving ISIS Flag, Spew Hate When Brings Out Israel's  - Leah Barkoukis \n"
       ]
      },
      {
       "output_type": "stream",
       "stream": "stdout",
       "text": [
        "\n",
        "Open Letter to Senator McConnell and Speaker Boehner - Phyllis Schlafly -  Page 1\n"
       ]
      },
      {
       "output_type": "stream",
       "stream": "stdout",
       "text": [
        "\n",
        "White House Plays Dumb Over Advisor Al Sharpton's $4.5 Million in Unpaid Taxes - Katie Pavlich \n"
       ]
      },
      {
       "output_type": "stream",
       "stream": "stdout",
       "text": [
        "\n",
        "Defeat of NSA Bill a Victory for Freedom\u2019 - Ron Paul -  Page 1\n"
       ]
      },
      {
       "output_type": "stream",
       "stream": "stdout",
       "text": [
        "\n",
        "Four Pinocchios: WaPo Fact-Checker Shreds WH on Executive Amnesty 'Precedent' - Guy Benson \n"
       ]
      },
      {
       "output_type": "stream",
       "stream": "stdout",
       "text": [
        "\n",
        "Hagel's Out, but Inner Circle Remains - Debra J. Saunders -  Page 1\n"
       ]
      },
      {
       "output_type": "stream",
       "stream": "stdout",
       "text": [
        "\n",
        "The Campus Crusade for Cash - Mike Adams -  Page 1\n"
       ]
      },
      {
       "output_type": "stream",
       "stream": "stdout",
       "text": [
        "\n",
        "We Have a Moral Divide, Not a Racial One - Dennis Prager -  Page 1\n"
       ]
      },
      {
       "output_type": "stream",
       "stream": "stdout",
       "text": [
        "\n",
        "Merci America! - Tom Purcell -  Page 1\n"
       ]
      },
      {
       "output_type": "stream",
       "stream": "stdout",
       "text": [
        "\n",
        "Fed \"Mystified\" Why Millennials Still Live at Home  - Mike Shedlock - Townhall Finance Conservative Columnists and Financial Commentary - Page 1\n"
       ]
      },
      {
       "output_type": "stream",
       "stream": "stdout",
       "text": [
        "\n",
        "Real Hope and Change - Paul Greenberg -  Page 1\n"
       ]
      },
      {
       "output_type": "stream",
       "stream": "stdout",
       "text": [
        "\n",
        "BREAKING: Officer Darren Wilson Will Not Be Charged UPDATE: Officer Wilson Responds - Matt Vespa \n"
       ]
      },
      {
       "output_type": "stream",
       "stream": "stdout",
       "text": [
        "\n",
        "Nobody Is Pushing Thomas Piketty's Policies to Combat Economic Inequality - Michael Barone -  Page 1\n"
       ]
      },
      {
       "output_type": "stream",
       "stream": "stdout",
       "text": [
        "\n",
        "The Origins of Thanksgiving - Greg Hengler \n"
       ]
      },
      {
       "output_type": "stream",
       "stream": "stdout",
       "text": [
        "\n",
        "2016: Democrat Jim Webb Enters The Ring - Matt Vespa \n"
       ]
      },
      {
       "output_type": "stream",
       "stream": "stdout",
       "text": [
        "\n",
        "\r\n",
        "\tPolitical Cartoons - Political Humor, Jokes, and Pictures, Obama, Palin ~ November 25, 2014 - 125216\r\n",
        "\n"
       ]
      },
      {
       "output_type": "stream",
       "stream": "stdout",
       "text": [
        "\n",
        "Sticks in Spokes - Mona Charen -  Page 1\n"
       ]
      },
      {
       "output_type": "stream",
       "stream": "stdout",
       "text": [
        "\n",
        "The Path to a Permanent GOP Majority - Scottie Hughes -  Page 1\n"
       ]
      },
      {
       "output_type": "stream",
       "stream": "stdout",
       "text": [
        "\n",
        "Obama on Ferguson: 'We Need to Accept This Decision' - Daniel Doherty \n"
       ]
      },
      {
       "output_type": "stream",
       "stream": "stdout",
       "text": [
        "\n",
        "Va. woman admits $7.2 mil. child-credit tax scam - Kenric Ward\n"
       ]
      },
      {
       "output_type": "stream",
       "stream": "stdout",
       "text": [
        "\n",
        "Ferguson Rioters Burn Dozens of Businesses to the Ground, Fire Off Hundreds of Gunshots - Katie Pavlich \n"
       ]
      },
      {
       "output_type": "stream",
       "stream": "stdout",
       "text": [
        "\n",
        "Holder: Despite Grand Jury Decision Not Indict, DOJ Investigation Into Ferguson Case Still Ongoing - Katie Pavlich \n"
       ]
      },
      {
       "output_type": "stream",
       "stream": "stdout",
       "text": [
        "\n",
        "The Clock is Ticking in Switzerland  - Peter Schiff - Townhall Finance Conservative Columnists and Financial Commentary - Page 1\n"
       ]
      },
      {
       "output_type": "stream",
       "stream": "stdout",
       "text": [
        "\n",
        "From Thank-Mas to Thanksgiving - Bill Murchison -  Page 1\n"
       ]
      },
      {
       "output_type": "stream",
       "stream": "stdout",
       "text": [
        "\n",
        "Why Saul Alinsky Would Deplore Amnesty By \"Executive Action\" - Ralph Benko - Townhall Finance Conservative Columnists and Financial Commentary - Page 1\n"
       ]
      },
      {
       "output_type": "stream",
       "stream": "stdout",
       "text": [
        "\n",
        "Bad News Continues to Roll In for Obamacare Nightmare - David Limbaugh -  Page 1\n"
       ]
      },
      {
       "output_type": "stream",
       "stream": "stdout",
       "text": [
        "\n",
        "Bruning: No charges to be filed in prison sentence miscalculation mess - Deena Winter\n"
       ]
      },
      {
       "output_type": "stream",
       "stream": "stdout",
       "text": [
        "\n",
        "Obama asked if a future president could just issue an executive order absolving citizens of tax burdens  - Nick Sorrentino - Townhall Finance Conservative Columnists and Financial Commentary - Page 1\n"
       ]
      },
      {
       "output_type": "stream",
       "stream": "stdout",
       "text": [
        "\n",
        "These State Lawmakers Want to Save Thanksgiving From Greedy Retailers | Mother Jones\n"
       ]
      },
      {
       "output_type": "stream",
       "stream": "stdout",
       "text": [
        "\n",
        "How Dark Money Is Taking Over Judicial Elections | Mother Jones\n"
       ]
      },
      {
       "output_type": "stream",
       "stream": "stdout",
       "text": [
        "\n",
        "The GOP Controls Congress. Now It Can Change How Math Works. | Mother Jones\n"
       ]
      },
      {
       "output_type": "stream",
       "stream": "stdout",
       "text": [
        "\n",
        "Chuck Hagel Resigning as Secretary of Defense | Mother Jones\n"
       ]
      },
      {
       "output_type": "stream",
       "stream": "stdout",
       "text": [
        "\n",
        "This Is What Darren Wilson Told the Grand Jury About Shooting Michael Brown | Mother Jones\n"
       ]
      },
      {
       "output_type": "stream",
       "stream": "stdout",
       "text": [
        "\n",
        "Media Goes Wild Over Hagel Firing But Not Obama's Secret Afghanistan Reversal | Mother Jones\n"
       ]
      },
      {
       "output_type": "stream",
       "stream": "stdout",
       "text": [
        "\n",
        "Ferguson Cop Darren Wilson Is Just the Latest to Go Unprosecuted for a Fatal Shooting | Mother Jones\n"
       ]
      },
      {
       "output_type": "stream",
       "stream": "stdout",
       "text": [
        "\n",
        "Map: How Long Does Your State Give Rape Survivors to Pursue Justice? | Mother Jones\n"
       ]
      },
      {
       "output_type": "stream",
       "stream": "stdout",
       "text": [
        "\n",
        "The Koch 130 | Mother Jones\n"
       ]
      },
      {
       "output_type": "stream",
       "stream": "stdout",
       "text": [
        "\n",
        "Map: The United States of Legal Weed | Mother Jones\n"
       ]
      },
      {
       "output_type": "stream",
       "stream": "stdout",
       "text": [
        "\n",
        "Look How Much Bigger Thanksgiving Turkeys Are Today Than in the 1930s | Mother Jones\n"
       ]
      },
      {
       "output_type": "stream",
       "stream": "stdout",
       "text": [
        "\n",
        "Another Side Effect of Climate Change and El Ni\u00f1o Events? Shorter Kids. | Mother Jones\n"
       ]
      },
      {
       "output_type": "stream",
       "stream": "stdout",
       "text": [
        "\n",
        "November/December 2014 Issue | Mother Jones\n"
       ]
      },
      {
       "output_type": "stream",
       "stream": "stdout",
       "text": [
        "\n",
        "Ohio Could Pass the Country's Most Extreme \"Secret Executions\" Bill | Mother Jones\n"
       ]
      },
      {
       "output_type": "stream",
       "stream": "stdout",
       "text": [
        "\n",
        "Chart: How Black Friday Invaded Thanksgiving | Mother Jones\n"
       ]
      },
      {
       "output_type": "stream",
       "stream": "stdout",
       "text": [
        "\n",
        "More Patents Does Not Equal More Innovation | Mother Jones\n"
       ]
      },
      {
       "output_type": "stream",
       "stream": "stdout",
       "text": [
        "\n"
       ]
      }
     ],
     "prompt_number": 4
    },
    {
     "cell_type": "code",
     "collapsed": false,
     "input": [],
     "language": "python",
     "metadata": {},
     "outputs": []
    }
   ],
   "metadata": {}
  }
 ]
}