{
 "metadata": {
  "name": "",
  "signature": "sha256:b72f03e8e829b05b4f10020b9e5d61f8bd9151ac30298bdc01c9875b1b6c6c90"
 },
 "nbformat": 3,
 "nbformat_minor": 0,
 "worksheets": [
  {
   "cells": [
    {
     "cell_type": "markdown",
     "metadata": {},
     "source": [
      "<h2 align=\"center\">slant parse: <br><br> Using Machine Learning to Determine the Political Leanings of News Publications</h2>\n",
      "\n",
      "<br><center>Serena L Booth, Harvard College, Class of 2016</center>\n",
      "\n",
      "<center>Joseph M Booth, Harvard College, Class of 2015</center>\n",
      "\n",
      "\n",
      "---"
     ]
    },
    {
     "cell_type": "markdown",
     "metadata": {},
     "source": [
      "#Part 0: Metric "
     ]
    },
    {
     "cell_type": "code",
     "collapsed": false,
     "input": [
      "list_of_political_magazines = ['http://en.wikipedia.org/wiki/List_of_political_magazines', 'http://en.wikipedia.org/wiki/Category:Modern_liberal_American_magazines',\n",
      "                               'http://en.wikipedia.org/wiki/Category:Conservative_American_magazines', 'http://usconservatives.about.com/od/gettinginvolved/tp/TopConservativeMagazines.htm',\n",
      "                               'http://www.allyoucanread.com/top-10-political-magazines/', 'http://www.conservapedia.com/Conservative_media', \n",
      "                               'http://www.dailykos.com/story/2009/04/05/716698/-The-Compleat-Revised-Guide-to-Liberal-and-Progressive-News-and-Politics-on-the-Web',\n",
      "                               'http://www.washingtonpost.com/blogs/the-fix/wp/2014/10/21/lets-rank-the-media-from-liberal-to-conservative-based-on-their-audiences/']"
     ],
     "language": "python",
     "metadata": {},
     "outputs": [],
     "prompt_number": 1
    },
    {
     "cell_type": "markdown",
     "metadata": {},
     "source": [
      "# Part 1: Data Collection\n",
      "\n",
      "We scrape 5 liberal sources: \n",
      "    - Mother Jones\n",
      "    - The Nation\n",
      "    - Slate\n",
      "    - The New Yorker\n",
      "    - The Washington Post\n",
      "\n",
      "And 5 conservative sources:\n",
      "    - The Christian Science Monitor\n",
      "    - The Weekly Standard\n",
      "    - TownHall\n",
      "    - The American Conservative\n",
      "    - The American Spectator\n",
      "    \n",
      "These sources are added to a csv file called articles.csv. The format is: publication title, political leaning (C or L), article title, article text. "
     ]
    },
    {
     "cell_type": "code",
     "collapsed": false,
     "input": [
      "import urllib\n",
      "import csv\n",
      "from bs4 import BeautifulSoup\n",
      "from sets import Set\n",
      "from sgmllib import SGMLParser\n",
      "import pickle "
     ],
     "language": "python",
     "metadata": {},
     "outputs": [],
     "prompt_number": 2
    },
    {
     "cell_type": "code",
     "collapsed": false,
     "input": [
      "# cite: https://github.com/chungy/diveintopython/blob/master/py/urllister.py\n",
      "class URLLister(SGMLParser):\n",
      "    \"\"\"\n",
      "    Arguments: (implicit) SGMLParser \n",
      "    \n",
      "    Extracts all 'href's from an html document. We store these links in a set, \n",
      "    and process them individually to retrieve content or additional links. \n",
      "    \"\"\"\n",
      "    def reset(self):\n",
      "        SGMLParser.reset(self)\n",
      "        self.urls = []\n",
      "\n",
      "    def start_a(self, attrs):\n",
      "        href = [v for k, v in attrs if k=='href']\n",
      "        if href:\n",
      "            self.urls.extend(href)\n",
      "    "
     ],
     "language": "python",
     "metadata": {},
     "outputs": [],
     "prompt_number": 3
    },
    {
     "cell_type": "code",
     "collapsed": false,
     "input": [
      "def process_url(url, url_mod, string_start, find_string, start_article_delim, end_article_delim, name, pol):\n",
      "    \"\"\"\n",
      "    Arguments: string url, string url_mod, string find_string, string start_title_delim, \n",
      "    string end_title_delim, string start_article_delim, string end_article_delim, string name, string pol\n",
      "    \n",
      "    For each url passed to process_url, open the CSV file articles.csv which contains all data scraped.\n",
      "    Process the article by retrieving the title, and by using BeautifulSoup to retrieve the article text.\n",
      "    Store each article in the CSV as the publication name, the publication's political leaning (either 'L' or 'C'), article title, and article content.  \n",
      "    \"\"\"\n",
      "        \n",
      "    \n",
      "    #with open('articles_scraped.pickle', 'a+') as handle:\n",
      "    #    pickle.dump(set(), handle)\n",
      "    \n",
      "    # check url format\n",
      "    if len(url) > 0 and ((str(url)[0] == '/' and string_start == \"argument-not-used\") or str(url).find(string_start) == 0) and str(url).find(find_string) != -1: \n",
      "        with open('articles.csv', 'a+') as csvfile:\n",
      "            article_writer = csv.writer(csvfile, delimiter=',')\n",
      "            \n",
      "            tmp_url = url_mod + str(url)\n",
      "            usock = urllib.urlopen(tmp_url)\n",
      "            html = usock.read()\n",
      "                        \n",
      "            # use Beautiful Soup \n",
      "            soup_unprocessed = BeautifulSoup(html)\n",
      "            \n",
      "              \n",
      "            # use try/except to catch cases in which articles do not conform to general standards\n",
      "            # e.g. when an article does not have a title\n",
      "            try:\n",
      "                title = soup_unprocessed.title.string \n",
      "                title = title.encode(\"utf-8\")\n",
      "                \n",
      "                 # If article is from a specific provider, modify it according to the following rules: \n",
      "                # e.g. in the case of Townhall, we only want html which has the full article rather than a paged version\n",
      "                if name == \"TownHall\" and html.find(\"View Full Article\") != -1:\n",
      "                    process_url(url + '/page/full', url_mod, string_start, find_string, start_article_delim, end_article_delim, name, pol)\n",
      "                    usock.close()\n",
      "                    return\n",
      "                elif name == \"Slate\" and html.find('<div class=\"single-page\">') != -1: \n",
      "                    process_url(url[0:url.find('.html')] + '.single.html', url_mod, string_start, find_string, start_article_delim, end_article_delim, name, pol)\n",
      "                    usock.close()\n",
      "                    return\n",
      "                elif name == \"Mother Jones\" and (title.find('Issue') != -1 or title.find('map') != -1):\n",
      "                    print 'Content not text, or article not relevant.\\n'\n",
      "                    usock.close()\n",
      "                    return\n",
      "                elif name == \"The American Conservative\" and html.find('Author Archives') != -1 or title.find('Web Headlines') != -1 or title.find('Articles') != -1:\n",
      "                    print 'Content not text, or article not relevant.\\n'\n",
      "                    usock.close()\n",
      "                    return\n",
      "                elif name == \"The Christian Science Monitor\" and (title.find('+video') != -1 or url.find('The-Culture') != -1 or title.find('Photos of the day') != -1 or title.find('How much do you know about') != -1):\n",
      "                    print 'Content not text, or article not relevant.\\n'\n",
      "                    usock.close()\n",
      "                    return \n",
      "                elif name == \"The Blaze\" and title.find('Video') != -1:\n",
      "                    print 'Content not text, or article not relevant.\\n'\n",
      "                    usock.close()\n",
      "                    return\n",
      "                elif name == \"Slate\" and (url.find('video') != -1 or url.find('podcast') != -1): \n",
      "                    print 'Content not text, or article not relevant.\\n'\n",
      "                    usock.close()\n",
      "                    return\n",
      "                elif name == \"The Washington Post\" and (url.find('live') != -1 or html.find('posttv-video-template') != -1):\n",
      "                    print 'Content not text, or article not relevant.\\n'\n",
      "                    usock.close()\n",
      "                    return\n",
      "                else: \n",
      "                    print title + '\\n'\n",
      "                    content = str(html)[str(html).find(start_article_delim) + len (start_article_delim):str(html).find(end_article_delim)]\n",
      "                    soup = BeautifulSoup(content)\n",
      "                    \n",
      "                    # remove JS from html \n",
      "                    for script in soup([\"script\", \"style\"]):\n",
      "                        script.extract() \n",
      "                        \n",
      "                    mod_content = soup.get_text()\n",
      "                \n",
      "                # check if article has already been processed;\n",
      "                with open('articles_scraped.pickle', 'rb') as handle:\n",
      "                    article_list = pickle.load(handle)\n",
      "                    if title in article_list: \n",
      "                        print '\\n ALREADY IN SET \\n'\n",
      "                        return\n",
      "                    else:\n",
      "                        with open('articles_scraped.pickle', 'wb') as handle:\n",
      "                            article_list.append(title)\n",
      "                            pickle.dump(article_list, handle)\n",
      "                \n",
      "                mod_content = mod_content.encode(\"utf-8\") \n",
      "                \n",
      "                ascii_title = unicode(title, 'ascii', 'ignore')\n",
      "                ascii_content = unicode(mod_content, 'ascii', 'ignore')\n",
      "\n",
      "                article_writer.writerow([name, pol, ascii_title, ascii_content])\n",
      "            except AttributeError: \n",
      "                print 'Attribute Error'\n",
      "                \n",
      "            usock.close()\n",
      "            "
     ],
     "language": "python",
     "metadata": {},
     "outputs": [],
     "prompt_number": 4
    },
    {
     "cell_type": "code",
     "collapsed": false,
     "input": [
      "def scrape(start_url, iterator, url_list, url_mod):      \n",
      "    \"\"\"\n",
      "    Arguments: string start_url, int iterator, set url_list, string url_mod\n",
      "    Returns: updated set url_list \n",
      "    \n",
      "    For each start_url passed, this function opens that url and retrieves all hrefs from that page. \n",
      "    If iterator is smaller than the (constant) number of ITER_PAGES, scrape is called recursively \n",
      "    on the set of urls. \n",
      "    \"\"\"\n",
      "    \n",
      "    # limit the number of articles retrieved by limiting page depth\n",
      "    if iterator > ITER_PAGES: \n",
      "        return set()\n",
      "    \n",
      "    # call URLLister to retrieve all hrefs in the html read from the url \n",
      "    usock = urllib.urlopen(start_url)\n",
      "    parser = URLLister()\n",
      "    html = usock.read()\n",
      "    parser.feed(html)\n",
      "    usock.close()\n",
      "    parser.close()\n",
      "    \n",
      "    url_list = url_list.union(parser.urls)\n",
      "    \n",
      "    # scrape each correctly formatted url\n",
      "    for url in url_list: \n",
      "        if len(url) > 0 and str(url)[0] == '/': \n",
      "            tmp_url = url_mod + str(url)\n",
      "            try: \n",
      "                tmp_set = scrape(tmp_url, iterator + 1, url_list, url_mod)\n",
      "                url_list = url_list.union(tmp_set) \n",
      "            except IOError: \n",
      "                print \"Couldn't Open\"\n",
      "    return url_list\n"
     ],
     "language": "python",
     "metadata": {},
     "outputs": []
    },
    {
     "cell_type": "code",
     "collapsed": false,
     "input": [
      "ITER_PAGES = 1\n",
      "\n",
      "# pickle setup\n",
      "articles_to_pickle = []\n",
      "try:\n",
      "    with open('articles_scraped.pickle', 'rb') as handle:\n",
      "        articles_to_pickle = pickle.load(handle)\n",
      "except IOError: \n",
      "    with open('articles_scraped.pickle', 'wb') as handle:\n",
      "        pickle.dump(articles_to_pickle, handle)\n",
      "\n",
      "# call the function\n",
      "url_list = set()  \n",
      "american_conservative_list = scrape('http://www.theamericanconservative.com/', 1, url_list, '')\n",
      "townhall_list = scrape('http://www.townhall.com/', 1, url_list, 'http://www.townhall.com')\n",
      "csmonitor_list = scrape('http://www.csmonitor.com/', 1, url_list, 'http://www.csmonitor.com/')\n",
      "weekly_std_list = scrape('http://www.weeklystandard.com/', 1, url_list, 'http://www.weeklystandard.com/')\n",
      "spectator_list = scrape('http://spectator.org/', 1, url_list, 'http://spectator.org/')\n",
      "\n",
      "mother_jones_list = scrape('http://www.motherjones.com/', 1, url_list, 'http://www.motherjones.com')\n",
      "nation_list = scrape('http://www.thenation.com/', 1, url_list, 'http://www.thenation.com/')\n",
      "slate_list = scrape('http://www.slate.com/', 1, url_list, '')\n",
      "newyorker_list = scrape('http://www.newyorker.com/', 1, url_list, '')\n",
      "wp_list = scrape('http://www.washingtonpost.com/', 1, url_list, '')\n",
      "\n",
      "print '\\nurls\\n'\n",
      "\n",
      "# conservative 1\n",
      "for url in american_conservative_list: \n",
      "    process_url(url, '', 'http://www.theamericanconservative.com/', 'theamericanconservative', '<div class=\"post-content\">', '<footer id=\"articlefooter\">', 'The American Conservative', 'C')\n",
      "\n",
      "    # conservative 2\n",
      "for url in townhall_list:\n",
      "    process_url(url, 'http://www.townhall.com', 'argument-not-used', '2014' , '<ul class=\"breadcrumb\">', '<hr class=\"article-divider\"', 'TownHall', 'C')\n",
      "\n",
      "# conservative 3\n",
      "for url in csmonitor_list:\n",
      "    process_url(url, 'http://www.csmonitor.com/', 'argument-not-used', '2014/', '<div id=\"story-body\"', '<span id=\"end-of-story\"', 'The Christian Science Monitor', 'C')\n",
      "\n",
      "# conservative 4\n",
      "for url in weekly_std_list: \n",
      "    process_url(url, 'http://www.weeklystandard.com/', 'argument-not-used', '/articles/', '  <div class=\"all_article\">', '<div class=\"article-footer\">', 'The Weekly Standard', 'C')\n",
      "\n",
      "# conservative 5\n",
      "for url in spectator_list:\n",
      "    process_url(url, 'http://spectator.org/', 'argument-not-used', '/articles/', 'target=\"_blank\" rel=\"nofollow\">', '</iframe></div><div class=\"field-item even\"><p class=\"label\">', 'The American Spectator', 'C')\n",
      "\n",
      "# liberal 1 \n",
      "for url in mother_jones_list:\n",
      "    process_url(url, 'http://www.motherjones.com', 'argument-not-used', '2014' , '<div id=\"node-header\" class=\"clear-block\">', '<div id=\"node-footer\" class=\"clear-block\">', 'Mother Jones', 'L')\n",
      "\n",
      "# liberal 2\n",
      "for url in nation_list:\n",
      "    process_url(url, 'http://www.thenation.com/', 'argument-not-used', '/article/', '<div class=\"field field-type-text field-field-image-caption\">', '</p></div><div class=\"views-field-value byline\">', 'The Nation', 'L')\n",
      "\n",
      "# liberal 3\n",
      "for url in slate_list:\n",
      "    process_url(url, '', 'http://www.slate.com/', '/2014/', '<div class=\"text text-1 parbase section\">', '<section class=\"about-the-author', 'Slate', 'L')\n",
      "\n",
      "# liberal 4 - slightly more complex \n",
      "for url in newyorker_list:\n",
      "    if url.find('//') == 0 or len(url) < 45:\n",
      "        print 'URL badly formatted'\n",
      "        # do nothing for this url\n",
      "    else:\n",
      "        process_url(url, '', 'http://www.newyorker.com/', 'news', '<div itemprop=\"articleBody\" class=\"articleBody\" id=\"articleBody\">', '<span class=\"dingbat\">', 'The New Yorker', 'L')\n",
      "        process_url(url, '', 'http://www.newyorker.com/', 'magazine/2014', '<div itemprop=\"articleBody\" class=\"articleBody\" id=\"articleBody\">', '<span class=\"dingbat\">', 'The New Yorker', 'L')\n",
      "\n",
      "# liberal 5\n",
      "for url in wp_list:\n",
      "    process_url(url, '', 'http://www.washingtonpost.com/', '/2014/', '<div id=\"article-body\" class=\"article-body\">', '</article>', 'The Washington Post', 'L')"
     ],
     "language": "python",
     "metadata": {},
     "outputs": [
      {
       "output_type": "stream",
       "stream": "stdout",
       "text": [
        "\n",
        "urls\n",
        "\n",
        "What Not to Do on Iran | The American Conservative\n"
       ]
      },
      {
       "output_type": "stream",
       "stream": "stdout",
       "text": [
        "\n",
        "\n",
        " ALREADY IN SET \n",
        "\n",
        "Content not text, or article not relevant.\n"
       ]
      },
      {
       "output_type": "stream",
       "stream": "stdout",
       "text": [
        "\n",
        "Content not text, or article not relevant.\n"
       ]
      },
      {
       "output_type": "stream",
       "stream": "stdout",
       "text": [
        "\n",
        "UVA\u2019s Jackie: A Wahoo Tawana Brawley? | The American Conservative\n"
       ]
      },
      {
       "output_type": "stream",
       "stream": "stdout",
       "text": [
        "\n",
        "\n",
        " ALREADY IN SET \n",
        "\n",
        "How Privilege Dies | The American Conservative\n"
       ]
      },
      {
       "output_type": "stream",
       "stream": "stdout",
       "text": [
        "\n",
        "Content not text, or article not relevant.\n"
       ]
      },
      {
       "output_type": "stream",
       "stream": "stdout",
       "text": [
        "\n",
        "Channing Tatum. Wrestling Picture. Whadaya Need \u2013 A Road Map? | The American Conservative\n"
       ]
      },
      {
       "output_type": "stream",
       "stream": "stdout",
       "text": [
        "\n",
        "\n",
        " ALREADY IN SET \n",
        "\n",
        "Europe\u2019s Conchita Wurst Consensus | The American Conservative\n"
       ]
      },
      {
       "output_type": "stream",
       "stream": "stdout",
       "text": [
        "\n",
        "\n",
        " ALREADY IN SET \n",
        "\n",
        "Content not text, or article not relevant.\n"
       ]
      },
      {
       "output_type": "stream",
       "stream": "stdout",
       "text": [
        "\n",
        "Content not text, or article not relevant.\n"
       ]
      },
      {
       "output_type": "stream",
       "stream": "stdout",
       "text": [
        "\n",
        "Double Feature Feature: 10,000 Hours Edition | The American Conservative\n"
       ]
      },
      {
       "output_type": "stream",
       "stream": "stdout",
       "text": [
        "\n",
        "\n",
        " ALREADY IN SET \n",
        "\n",
        "What Are \u201cNational Rights\u201d? | The American Conservative\n"
       ]
      },
      {
       "output_type": "stream",
       "stream": "stdout",
       "text": [
        "\n",
        "\n",
        " ALREADY IN SET \n",
        "\n",
        "Fidelis Ad Mortem? | The American Conservative\n"
       ]
      },
      {
       "output_type": "stream",
       "stream": "stdout",
       "text": [
        "\n",
        "About Us | The American Conservative\n"
       ]
      },
      {
       "output_type": "stream",
       "stream": "stdout",
       "text": [
        "\n",
        "\n",
        " ALREADY IN SET \n",
        "\n",
        "Grand Strategy Is Bunk | The American Conservative\n"
       ]
      },
      {
       "output_type": "stream",
       "stream": "stdout",
       "text": [
        "\n",
        "\n",
        " ALREADY IN SET \n",
        "\n",
        "RIP The New Republic | The American Conservative\n"
       ]
      },
      {
       "output_type": "stream",
       "stream": "stdout",
       "text": [
        "\n",
        "\n",
        " ALREADY IN SET \n",
        "\n",
        "Bringing Back Husbandry | The American Conservative\n"
       ]
      },
      {
       "output_type": "stream",
       "stream": "stdout",
       "text": [
        "\n",
        "\n",
        " ALREADY IN SET \n",
        "\n",
        "Rolling Stone Rolls Off Cliff | The American Conservative\n"
       ]
      },
      {
       "output_type": "stream",
       "stream": "stdout",
       "text": [
        "\n",
        "Content not text, or article not relevant.\n"
       ]
      },
      {
       "output_type": "stream",
       "stream": "stdout",
       "text": [
        "\n",
        "Is Clickbait the End of Online News? | The American Conservative\n"
       ]
      },
      {
       "output_type": "stream",
       "stream": "stdout",
       "text": [
        "\n",
        "\n",
        " ALREADY IN SET \n",
        "\n",
        "The Catos of Old Media | The American Conservative\n"
       ]
      },
      {
       "output_type": "stream",
       "stream": "stdout",
       "text": [
        "\n",
        "Content not text, or article not relevant.\n"
       ]
      },
      {
       "output_type": "stream",
       "stream": "stdout",
       "text": [
        "\n",
        "The Moral Path to Peace | The American Conservative\n"
       ]
      },
      {
       "output_type": "stream",
       "stream": "stdout",
       "text": [
        "\n",
        "\n",
        " ALREADY IN SET \n",
        "\n",
        "Deconstructing Western Civilization | The American Conservative\n"
       ]
      },
      {
       "output_type": "stream",
       "stream": "stdout",
       "text": [
        "\n",
        "\n",
        " ALREADY IN SET \n",
        "\n",
        "SWPLs & Eric Garner | The American Conservative\n"
       ]
      },
      {
       "output_type": "stream",
       "stream": "stdout",
       "text": [
        "\n",
        "\n",
        " ALREADY IN SET \n",
        "\n",
        "Bringing Big Data to the Farm | The American Conservative\n"
       ]
      },
      {
       "output_type": "stream",
       "stream": "stdout",
       "text": [
        "\n",
        "\n",
        " ALREADY IN SET \n",
        "\n",
        "Shakeup at TNR | The American Conservative\n"
       ]
      },
      {
       "output_type": "stream",
       "stream": "stdout",
       "text": [
        "\n",
        "Racist Cops\u2014or Liberal Slander? | The American Conservative\n"
       ]
      },
      {
       "output_type": "stream",
       "stream": "stdout",
       "text": [
        "\n",
        "The Uses and Abuses of Historical Analogies | The American Conservative\n"
       ]
      },
      {
       "output_type": "stream",
       "stream": "stdout",
       "text": [
        "\n",
        "\n",
        " ALREADY IN SET \n",
        "\n",
        "Five Myths That Keep America in the Middle East | The American Conservative\n"
       ]
      },
      {
       "output_type": "stream",
       "stream": "stdout",
       "text": [
        "\n",
        "Content not text, or article not relevant.\n"
       ]
      },
      {
       "output_type": "stream",
       "stream": "stdout",
       "text": [
        "\n",
        "Federalism Can Still Save Religious Liberty | The American Conservative\n"
       ]
      },
      {
       "output_type": "stream",
       "stream": "stdout",
       "text": [
        "\n",
        "\n",
        " ALREADY IN SET \n",
        "\n",
        "Content not text, or article not relevant.\n"
       ]
      },
      {
       "output_type": "stream",
       "stream": "stdout",
       "text": [
        "\n",
        "Why the Dishonest Charge of \u201cRetreat\u201d Endures | The American Conservative\n"
       ]
      },
      {
       "output_type": "stream",
       "stream": "stdout",
       "text": [
        "\n",
        "\n",
        " ALREADY IN SET \n",
        "\n",
        "Against the Mob | The American Conservative\n"
       ]
      },
      {
       "output_type": "stream",
       "stream": "stdout",
       "text": [
        "\n",
        "\n",
        " ALREADY IN SET \n",
        "\n",
        "Content not text, or article not relevant.\n"
       ]
      },
      {
       "output_type": "stream",
       "stream": "stdout",
       "text": [
        "\n",
        "Eric Garner & Police Brutality | The American Conservative\n"
       ]
      },
      {
       "output_type": "stream",
       "stream": "stdout",
       "text": [
        "\n",
        "\n",
        " ALREADY IN SET \n",
        "\n",
        "Declaring War on ISIS | The American Conservative\n"
       ]
      },
      {
       "output_type": "stream",
       "stream": "stdout",
       "text": [
        "\n",
        "\n",
        " ALREADY IN SET \n",
        "\n",
        "Ferguson Is Not Palestine | The American Conservative\n"
       ]
      },
      {
       "output_type": "stream",
       "stream": "stdout",
       "text": [
        "\n",
        "\n",
        " ALREADY IN SET \n",
        "\n",
        "Content not text, or article not relevant.\n"
       ]
      },
      {
       "output_type": "stream",
       "stream": "stdout",
       "text": [
        "\n",
        "Content not text, or article not relevant.\n"
       ]
      },
      {
       "output_type": "stream",
       "stream": "stdout",
       "text": [
        "\n",
        "The Greatly Overrated Rubio | The American Conservative\n"
       ]
      },
      {
       "output_type": "stream",
       "stream": "stdout",
       "text": [
        "\n",
        "\n",
        " ALREADY IN SET \n",
        "\n",
        "Ukraine and NATO | The American Conservative\n"
       ]
      },
      {
       "output_type": "stream",
       "stream": "stdout",
       "text": [
        "\n",
        "\n",
        " ALREADY IN SET \n",
        "\n",
        "Canada\u2019s Patriot Act Moment | The American Conservative\n"
       ]
      },
      {
       "output_type": "stream",
       "stream": "stdout",
       "text": [
        "\n",
        "A Chuck Hagel Postmortem | The American Conservative\n"
       ]
      },
      {
       "output_type": "stream",
       "stream": "stdout",
       "text": [
        "\n",
        "\n",
        " ALREADY IN SET \n",
        "\n",
        "Iran: We Need to Talk | The American Conservative\n"
       ]
      },
      {
       "output_type": "stream",
       "stream": "stdout",
       "text": [
        "\n",
        "\n",
        " ALREADY IN SET \n",
        "\n",
        "Galloping Toward Gomorrah | The American Conservative\n"
       ]
      },
      {
       "output_type": "stream",
       "stream": "stdout",
       "text": [
        "\n",
        "\n",
        " ALREADY IN SET \n",
        "\n",
        "COIN Is a Proven Failure | The American Conservative\n"
       ]
      },
      {
       "output_type": "stream",
       "stream": "stdout",
       "text": [
        "\n",
        "\n",
        " ALREADY IN SET \n",
        "\n",
        "Star Wars and Politics | The American Conservative\n"
       ]
      },
      {
       "output_type": "stream",
       "stream": "stdout",
       "text": [
        "\n",
        "\n",
        " ALREADY IN SET \n",
        "\n",
        "A Millman-Walt Dialogue On Foreign Policy | The American Conservative\n"
       ]
      },
      {
       "output_type": "stream",
       "stream": "stdout",
       "text": [
        "\n",
        "\n",
        " ALREADY IN SET \n",
        "\n",
        "Thanksgiving Doorbusters Backfire on Big Retail | The American Conservative\n"
       ]
      },
      {
       "output_type": "stream",
       "stream": "stdout",
       "text": [
        "\n",
        "\n",
        " ALREADY IN SET \n",
        "\n",
        "And Now, For Something Completely Different \u2013 Or Perhaps Not | The American Conservative\n"
       ]
      },
      {
       "output_type": "stream",
       "stream": "stdout",
       "text": [
        "\n",
        "\n",
        " ALREADY IN SET \n",
        "\n",
        "Content not text, or article not relevant.\n"
       ]
      },
      {
       "output_type": "stream",
       "stream": "stdout",
       "text": [
        "\n",
        "The American Conservative\n"
       ]
      },
      {
       "output_type": "stream",
       "stream": "stdout",
       "text": [
        "\n",
        "\n",
        " ALREADY IN SET \n",
        "\n",
        "Content not text, or article not relevant.\n"
       ]
      },
      {
       "output_type": "stream",
       "stream": "stdout",
       "text": [
        "\n",
        "Civil Liberties Lose a Champion | The American Conservative\n"
       ]
      },
      {
       "output_type": "stream",
       "stream": "stdout",
       "text": [
        "\n",
        "Content not text, or article not relevant.\n"
       ]
      },
      {
       "output_type": "stream",
       "stream": "stdout",
       "text": [
        "\n",
        "Rapping at the Supreme Court - Suzanne Fields -  Page full\n"
       ]
      },
      {
       "output_type": "stream",
       "stream": "stdout",
       "text": [
        "\n",
        "What Should Conservatives Do? Just Say No. - Craig Shirley -  Page full\n"
       ]
      },
      {
       "output_type": "stream",
       "stream": "stdout",
       "text": [
        "\n",
        "Declining Affordability in the Sales Mix of New Homes - Political  Calculations - Townhall Finance Conservative Columnists and Financial Commentary - Page full\n"
       ]
      },
      {
       "output_type": "stream",
       "stream": "stdout",
       "text": [
        "\n",
        "Evaluating Conservative Attacks On The Garner Grand Jury - Mark Davis -  Page full\n"
       ]
      },
      {
       "output_type": "stream",
       "stream": "stdout",
       "text": [
        "\n",
        "Requiring Calorie Counts on Menu Probably Won't Make People Healthier - Christine Rousselle \n"
       ]
      },
      {
       "output_type": "stream",
       "stream": "stdout",
       "text": [
        "\n",
        "Hey Ferguson, Is Anyone Listening? - Wayne Dupree -  Page full\n"
       ]
      },
      {
       "output_type": "stream",
       "stream": "stdout",
       "text": [
        "\n",
        "Obama Sues Companies for Complying with Obamacare - Michael Schaus - Townhall Finance Conservative Columnists and Financial Commentary - Page full\n"
       ]
      },
      {
       "output_type": "stream",
       "stream": "stdout",
       "text": [
        "\n",
        "Recovery? 4 Million Homeowners Still Underwater - Mike Shedlock - Townhall Finance Conservative Columnists and Financial Commentary - Page 1\n"
       ]
      },
      {
       "output_type": "stream",
       "stream": "stdout",
       "text": [
        "\n",
        "18,000 Would Crush Smartest Guys in the Room - Charles Payne - Townhall Finance Conservative Columnists and Financial Commentary - Page full\n"
       ]
      },
      {
       "output_type": "stream",
       "stream": "stdout",
       "text": [
        "\n",
        "Hollywood Hypocrites - Brent Bozell -  Page full\n"
       ]
      },
      {
       "output_type": "stream",
       "stream": "stdout",
       "text": [
        "\n",
        "Rand Paul is Right: Cig Taxes Factored into Garner's Death - Jonah Goldberg -  Page full\n"
       ]
      },
      {
       "output_type": "stream",
       "stream": "stdout",
       "text": [
        "\n",
        "The Legacy of Michael Brown and the Future of Young Black Men - Charlotte Hays -  Page full\n"
       ]
      },
      {
       "output_type": "stream",
       "stream": "stdout",
       "text": [
        "\n",
        "Racist Cops -- or Liberal Slander?  - Pat Buchanan -  Page full\n"
       ]
      },
      {
       "output_type": "stream",
       "stream": "stdout",
       "text": [
        "\n",
        "Christmas Spoof: The Townhall Office  - Townhall.com Staff \n"
       ]
      },
      {
       "output_type": "stream",
       "stream": "stdout",
       "text": [
        "\n",
        "Holiday Online Shopping Leads to Big Wins - Chris Versace - Townhall Finance Conservative Columnists and Financial Commentary - Page full\n"
       ]
      },
      {
       "output_type": "stream",
       "stream": "stdout",
       "text": [
        "\n",
        "Official: Obama Nominates Ashton Carter for Secretary of Defense  - Sarah Jean Seman \n"
       ]
      },
      {
       "output_type": "stream",
       "stream": "stdout",
       "text": [
        "\n",
        "Landrieu: C'mon, My Fellow Democrat's Pro-Voter Fraud Advice Was Just 'a Joke' - Guy Benson \n"
       ]
      },
      {
       "output_type": "stream",
       "stream": "stdout",
       "text": [
        "\n",
        "Congress Must Fight Back Against Obama's Lawlessness - David Limbaugh -  Page full\n"
       ]
      },
      {
       "output_type": "stream",
       "stream": "stdout",
       "text": [
        "\n",
        "How to Beat the Traditional S&S 500 Index - Nicholas Vardy -  Page full\n"
       ]
      },
      {
       "output_type": "stream",
       "stream": "stdout",
       "text": [
        "\n",
        "Ferguson Vs. New York City - Linda Chavez -  Page full\n"
       ]
      },
      {
       "output_type": "stream",
       "stream": "stdout",
       "text": [
        "\n",
        "\r\n",
        "\tPolitical Cartoons - Political Humor, Jokes, and Pictures, Obama, Palin ~ December 5, 2014 - 125594\r\n",
        "\n"
       ]
      },
      {
       "output_type": "stream",
       "stream": "stdout",
       "text": [
        "\n",
        "Obama's Scandal-Tainted BCGB (Best Chicago Golfing Buddy) - Michelle Malkin -  Page full\n"
       ]
      },
      {
       "output_type": "stream",
       "stream": "stdout",
       "text": [
        "\n",
        "PC Crowd Freaks Out Over \"White Christmas\" - Ransom Notes Radio - Townhall Finance Conservative Columnists and Financial Commentary - Page 1\n"
       ]
      },
      {
       "output_type": "stream",
       "stream": "stdout",
       "text": [
        "\n",
        "Liberals Dust Off \"Blame Whitey\" Card - Greg Hengler \n"
       ]
      },
      {
       "output_type": "stream",
       "stream": "stdout",
       "text": [
        "\n",
        "The Best Jobs Report Of the Obama Era - Kevin Glass \n"
       ]
      },
      {
       "output_type": "stream",
       "stream": "stdout",
       "text": [
        "\n",
        "Benghazi Baloney  - D.W. Wilber -  Page full\n"
       ]
      },
      {
       "output_type": "stream",
       "stream": "stdout",
       "text": [
        "\n",
        "Great Moments in Government Schooling - Daniel J. Mitchell - Townhall Finance Conservative Columnists and Financial Commentary - Page full\n"
       ]
      },
      {
       "output_type": "stream",
       "stream": "stdout",
       "text": [
        "\n",
        "S.E. Cupp: The Death of a Meme - Townhall Magazine \n"
       ]
      },
      {
       "output_type": "stream",
       "stream": "stdout",
       "text": [
        "\n",
        "Rape, Rudeness and Deciding the News - Erick Erickson -  Page full\n"
       ]
      },
      {
       "output_type": "stream",
       "stream": "stdout",
       "text": [
        "\n",
        " The \"Eric Garner\" Decision: Truth vs. Ideology - Jack Kerwick -  Page full\n"
       ]
      },
      {
       "output_type": "stream",
       "stream": "stdout",
       "text": [
        "\n",
        "The Challenge: Waiting Through Advent - Rebecca Hagelin -  Page full\n"
       ]
      },
      {
       "output_type": "stream",
       "stream": "stdout",
       "text": [
        "\n",
        "Russell Brand and Che Guevara Have Much in Common  - Humberto Fontova -  Page full\n"
       ]
      },
      {
       "output_type": "stream",
       "stream": "stdout",
       "text": [
        "\n",
        "Obama Now Wants To Make Nice With Congressional Dems - Donald Lambro -  Page full\n"
       ]
      },
      {
       "output_type": "stream",
       "stream": "stdout",
       "text": [
        "\n",
        "Landrieu is French Toast - Arthur  Schaper  -  Page full\n"
       ]
      },
      {
       "output_type": "stream",
       "stream": "stdout",
       "text": [
        "\n",
        "Right-to-work front and center in Wisconsin - M.D. Kittle\n"
       ]
      },
      {
       "output_type": "stream",
       "stream": "stdout",
       "text": [
        "\n",
        "What the UVA Rape Case Reveals - Mona Charen -  Page full\n"
       ]
      },
      {
       "output_type": "stream",
       "stream": "stdout",
       "text": [
        "\n",
        "Even Advocates of Past Governments Shutdowns Advise Extreme Caution This Time - Matt Towery -  Page full\n"
       ]
      },
      {
       "output_type": "stream",
       "stream": "stdout",
       "text": [
        "\n",
        "Should There Have Been Charges Filed In The Eric Garner Case? - Matt Vespa \n"
       ]
      },
      {
       "output_type": "stream",
       "stream": "stdout",
       "text": [
        "\n",
        "Clinton's Stock Declining in Futures Market - Michael Barone -  Page full\n"
       ]
      },
      {
       "output_type": "stream",
       "stream": "stdout",
       "text": [
        "\n",
        "Another Ceasefire Awaits Failure in Ukraine - Night Watch - Townhall Finance Conservative Columnists and Financial Commentary - Page full\n"
       ]
      },
      {
       "output_type": "stream",
       "stream": "stdout",
       "text": [
        "\n",
        "Exoneration: Democrat-Led 'Bridgegate' Investigation Clears Christie of Wrongdoing - Guy Benson \n"
       ]
      },
      {
       "output_type": "stream",
       "stream": "stdout",
       "text": [
        "\n",
        "Uh Oh: Rolling Stone Says There Are \u2018Discrepancies\u2019 In Their UVA Story - Matt Vespa \n"
       ]
      },
      {
       "output_type": "stream",
       "stream": "stdout",
       "text": [
        "\n",
        "Hillary Clinton\u2019s new (real) theme song for 2016 (This video is NOT a joke)  - Nick Sorrentino - Townhall Finance Conservative Columnists and Financial Commentary - Page 1\n"
       ]
      },
      {
       "output_type": "stream",
       "stream": "stdout",
       "text": [
        "\n",
        "Ohio teachers union loses members, hikes dues - Jason Hart\n"
       ]
      },
      {
       "output_type": "stream",
       "stream": "stdout",
       "text": [
        "\n",
        "New Jersey\u2019s pension system debt hits $170 billion - Mark Lagerkvist\n"
       ]
      },
      {
       "output_type": "stream",
       "stream": "stdout",
       "text": [
        "\n",
        "Biogen\u2019s Alzheimer Surprise  - Bill Gunderson -  Page full\n"
       ]
      },
      {
       "output_type": "stream",
       "stream": "stdout",
       "text": [
        "\n",
        "With Eric Garner case, Mayor de Blasio finds more resolute voice - CSMonitor.com\n"
       ]
      },
      {
       "output_type": "stream",
       "stream": "stdout",
       "text": [
        "\n",
        "Why it's harder than ever to remain anonymous on the Web - CSMonitor.com\n"
       ]
      },
      {
       "output_type": "stream",
       "stream": "stdout",
       "text": [
        "\n",
        "Jihadi hostage-taking: Could it get out of control in Lebanon? - CSMonitor.com\n"
       ]
      },
      {
       "output_type": "stream",
       "stream": "stdout",
       "text": [
        "\n",
        "Taking lessons from Typhoon Haiyan, Philippines moves fast on new storm - CSMonitor.com\n"
       ]
      },
      {
       "output_type": "stream",
       "stream": "stdout",
       "text": [
        "\n",
        "Content not text, or article not relevant.\n"
       ]
      },
      {
       "output_type": "stream",
       "stream": "stdout",
       "text": [
        "\n",
        "Content not text, or article not relevant.\n"
       ]
      },
      {
       "output_type": "stream",
       "stream": "stdout",
       "text": [
        "\n",
        "Content not text, or article not relevant.\n"
       ]
      },
      {
       "output_type": "stream",
       "stream": "stdout",
       "text": [
        "\n",
        "Content not text, or article not relevant.\n"
       ]
      },
      {
       "output_type": "stream",
       "stream": "stdout",
       "text": [
        "\n",
        "Content not text, or article not relevant.\n"
       ]
      },
      {
       "output_type": "stream",
       "stream": "stdout",
       "text": [
        "\n",
        "Five burger trends to watch in 2015 - CSMonitor.com\n"
       ]
      },
      {
       "output_type": "stream",
       "stream": "stdout",
       "text": [
        "\n",
        "Possibility unbound: 25 years of progress for those with disability - CSMonitor.com\n"
       ]
      },
      {
       "output_type": "stream",
       "stream": "stdout",
       "text": [
        "\n",
        "\n",
        " ALREADY IN SET \n",
        "\n",
        "US 'terrorism?' What's not being said about Kansas City, Austin attacks. - CSMonitor.com\n"
       ]
      },
      {
       "output_type": "stream",
       "stream": "stdout",
       "text": [
        "\n",
        "Time to leave the nest? Japan's Abe pushes youths to head overseas - CSMonitor.com\n"
       ]
      },
      {
       "output_type": "stream",
       "stream": "stdout",
       "text": [
        "\n",
        "Content not text, or article not relevant.\n"
       ]
      },
      {
       "output_type": "stream",
       "stream": "stdout",
       "text": [
        "\n",
        "Content not text, or article not relevant.\n"
       ]
      },
      {
       "output_type": "stream",
       "stream": "stdout",
       "text": [
        "\n",
        "Mitch McConnell's big test - CSMonitor.com\n"
       ]
      },
      {
       "output_type": "stream",
       "stream": "stdout",
       "text": [
        "\n",
        "\n",
        " ALREADY IN SET \n",
        "\n",
        "Content not text, or article not relevant.\n"
       ]
      },
      {
       "output_type": "stream",
       "stream": "stdout",
       "text": [
        "\n",
        "Content not text, or article not relevant.\n"
       ]
      },
      {
       "output_type": "stream",
       "stream": "stdout",
       "text": [
        "\n",
        "Kenyan raid exposes hive of cybercrime - CSMonitor.com\n"
       ]
      },
      {
       "output_type": "stream",
       "stream": "stdout",
       "text": [
        "\n",
        "Content not text, or article not relevant.\n"
       ]
      },
      {
       "output_type": "stream",
       "stream": "stdout",
       "text": [
        "\n",
        "Ferguson protesters met with racial slurs during march to Missouri capital - CSMonitor.com\n"
       ]
      },
      {
       "output_type": "stream",
       "stream": "stdout",
       "text": [
        "\n",
        "Content not text, or article not relevant.\n"
       ]
      },
      {
       "output_type": "stream",
       "stream": "stdout",
       "text": [
        "\n",
        "Constant cycle of violence in Israel, regulating working hours in Japan, Bangladesh\u2019s quiet mobile revolution, Kenya standing against terrorist at... - CSMonitor.com\n"
       ]
      },
      {
       "output_type": "stream",
       "stream": "stdout",
       "text": [
        "\n",
        "\n",
        " ALREADY IN SET \n",
        "\n",
        "Content not text, or article not relevant.\n"
       ]
      },
      {
       "output_type": "stream",
       "stream": "stdout",
       "text": [
        "\n",
        "Cybersecurity unit drives Israeli Internet economy - CSMonitor.com\n"
       ]
      },
      {
       "output_type": "stream",
       "stream": "stdout",
       "text": [
        "\n",
        "Content not text, or article not relevant.\n"
       ]
      },
      {
       "output_type": "stream",
       "stream": "stdout",
       "text": [
        "\n",
        "Russia's march toward self-reliance - CSMonitor.com\n"
       ]
      },
      {
       "output_type": "stream",
       "stream": "stdout",
       "text": [
        "\n",
        "\n",
        " ALREADY IN SET \n",
        "\n",
        "With fewer young people gambling, time for a government rethink - CSMonitor.com\n"
       ]
      },
      {
       "output_type": "stream",
       "stream": "stdout",
       "text": [
        "\n",
        "\n",
        " ALREADY IN SET \n",
        "\n",
        "Content not text, or article not relevant.\n"
       ]
      },
      {
       "output_type": "stream",
       "stream": "stdout",
       "text": [
        "\n",
        "Shakespeare in Shanghai? The Bard takes China by storm - CSMonitor.com\n"
       ]
      },
      {
       "output_type": "stream",
       "stream": "stdout",
       "text": [
        "\n",
        "Mining character for clues - CSMonitor.com\n"
       ]
      },
      {
       "output_type": "stream",
       "stream": "stdout",
       "text": [
        "\n",
        "\n",
        " ALREADY IN SET \n",
        "\n",
        "Arabs, Europeans move to fill US void on Israeli-Palestinian conflict - CSMonitor.com\n"
       ]
      },
      {
       "output_type": "stream",
       "stream": "stdout",
       "text": [
        "\n",
        "Sarah Palin weighs in on Ferguson. Was it funny or offensive? - CSMonitor.com\n"
       ]
      },
      {
       "output_type": "stream",
       "stream": "stdout",
       "text": [
        "\n",
        "\n",
        " ALREADY IN SET \n",
        "\n",
        "Content not text, or article not relevant.\n"
       ]
      },
      {
       "output_type": "stream",
       "stream": "stdout",
       "text": [
        "\n",
        "Polish event brings 'Harry Potter' castle Hogwarts to life - CSMonitor.com\n"
       ]
      },
      {
       "output_type": "stream",
       "stream": "stdout",
       "text": [
        "\n",
        "Sidelined in Jordan, Syrians watch their revolution, dismayed but unbowed - CSMonitor.com\n"
       ]
      },
      {
       "output_type": "stream",
       "stream": "stdout",
       "text": [
        "\n",
        "Inventor hopes to clean the air with giant purifiers - CSMonitor.com\n"
       ]
      },
      {
       "output_type": "stream",
       "stream": "stdout",
       "text": [
        "\n",
        "\n",
        " ALREADY IN SET \n",
        "\n",
        "Stasi-linked party is back in power. Is Germany ready? - CSMonitor.com\n"
       ]
      },
      {
       "output_type": "stream",
       "stream": "stdout",
       "text": [
        "\n",
        "Did the moon once contain a dynamo? - CSMonitor.com\n"
       ]
      },
      {
       "output_type": "stream",
       "stream": "stdout",
       "text": [
        "\n",
        "\n",
        " ALREADY IN SET \n",
        "\n",
        "Fallujah anniversary: Tracking down the US Marine 'Death Dealers' - CSMonitor.com\n"
       ]
      },
      {
       "output_type": "stream",
       "stream": "stdout",
       "text": [
        "\n",
        "\n",
        " ALREADY IN SET \n",
        "\n",
        "Content not text, or article not relevant.\n"
       ]
      },
      {
       "output_type": "stream",
       "stream": "stdout",
       "text": [
        "\n",
        "Could you pass a citizenship test? States may make it graduation requirement. - CSMonitor.com\n"
       ]
      },
      {
       "output_type": "stream",
       "stream": "stdout",
       "text": [
        "\n",
        "\n",
        " ALREADY IN SET \n",
        "\n",
        "Content not text, or article not relevant.\n"
       ]
      },
      {
       "output_type": "stream",
       "stream": "stdout",
       "text": [
        "\n",
        "Fortress Israel: Can people make peace when they don\u2019t talk? - CSMonitor.com\n"
       ]
      },
      {
       "output_type": "stream",
       "stream": "stdout",
       "text": [
        "\n",
        "\n",
        " ALREADY IN SET \n",
        "\n",
        "Peter Schumann's puppets speak out on big issues - CSMonitor.com\n"
       ]
      },
      {
       "output_type": "stream",
       "stream": "stdout",
       "text": [
        "\n",
        "Content not text, or article not relevant.\n"
       ]
      },
      {
       "output_type": "stream",
       "stream": "stdout",
       "text": [
        "\n",
        "Content not text, or article not relevant.\n"
       ]
      },
      {
       "output_type": "stream",
       "stream": "stdout",
       "text": [
        "\n",
        "Rolling Stone backs off story of alleged fraternity rape at UVA - CSMonitor.com\n"
       ]
      },
      {
       "output_type": "stream",
       "stream": "stdout",
       "text": [
        "\n",
        "Landrieu battle cry: 'The only poll that matters is on Election Day' - CSMonitor.com\n"
       ]
      }
     ]
    },
    {
     "cell_type": "markdown",
     "metadata": {},
     "source": [
      "#Part 2: Data Cleaning"
     ]
    },
    {
     "cell_type": "code",
     "collapsed": false,
     "input": [],
     "language": "python",
     "metadata": {},
     "outputs": []
    },
    {
     "cell_type": "markdown",
     "metadata": {},
     "source": [
      "# Part 3: Feature Vector Creation"
     ]
    },
    {
     "cell_type": "code",
     "collapsed": false,
     "input": [],
     "language": "python",
     "metadata": {},
     "outputs": []
    }
   ],
   "metadata": {}
  }
 ]
}